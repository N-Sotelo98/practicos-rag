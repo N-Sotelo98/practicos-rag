{
 "cells": [
  {
   "cell_type": "markdown",
   "metadata": {},
   "source": [
    "# Lesson 4: Retrieval Methods and Vector Databases\n",
    "\n",
    "**Objective**: Build a retrieval system that efficiently searches for relevant document chunks.\n",
    "\n",
    "**Topics**:\n",
    "- Sparse vs. dense retrieval methods\n",
    "- Hybrid search methods (e.g., combining BM25 with dense retrieval)\n",
    "- Overview of vector databases: Milvus, Faiss, Qdrant\n",
    "\n",
    "**Practical Task**: Set up a vector database and implement a retrieval method.\n",
    "\n",
    "**Resources**:\n",
    "- What is a vector database\n",
    "- Choosing a vector database\n"
   ]
  },
  {
   "cell_type": "markdown",
   "metadata": {},
   "source": [
    "#### Load the dataset"
   ]
  },
  {
   "cell_type": "code",
   "execution_count": 1,
   "metadata": {},
   "outputs": [],
   "source": [
    "from langchain_community.document_loaders import PyPDFLoader\n",
    "from dotenv import load_dotenv\n",
    "\n",
    "load_dotenv()\n",
    "\n",
    "file_path = (\n",
    "    \"/Users/maximilianocruz/Documents/GitHub/practicos-rag/data/Regulaciones cacao y chocolate 2003.pdf\"\n",
    ")\n",
    "loader = PyPDFLoader(file_path)\n",
    "docs = loader.load_and_split()"
   ]
  },
  {
   "cell_type": "markdown",
   "metadata": {},
   "source": [
    "### Embeddings function"
   ]
  },
  {
   "cell_type": "code",
   "execution_count": 2,
   "metadata": {},
   "outputs": [
    {
     "name": "stderr",
     "output_type": "stream",
     "text": [
      "/Users/maximilianocruz/anaconda3/envs/proyecto_aplicado_rag/lib/python3.11/site-packages/tqdm/auto.py:21: TqdmWarning: IProgress not found. Please update jupyter and ipywidgets. See https://ipywidgets.readthedocs.io/en/stable/user_install.html\n",
      "  from .autonotebook import tqdm as notebook_tqdm\n"
     ]
    },
    {
     "data": {
      "text/plain": [
       "[0.0287257619202137, -0.04786234349012375, 0.0054370807483792305]"
      ]
     },
     "execution_count": 2,
     "metadata": {},
     "output_type": "execute_result"
    }
   ],
   "source": [
    "from langchain_huggingface import HuggingFaceEmbeddings\n",
    "\n",
    "embedding_model = HuggingFaceEmbeddings(model_name=\"sentence-transformers/all-mpnet-base-v2\")\n",
    "embedded_document = embedding_model.embed_query(docs[0].page_content)\n",
    "embedded_document[:3]"
   ]
  },
  {
   "cell_type": "markdown",
   "metadata": {},
   "source": [
    "# A first approach"
   ]
  },
  {
   "cell_type": "code",
   "execution_count": 3,
   "metadata": {},
   "outputs": [
    {
     "data": {
      "text/plain": [
       "True"
      ]
     },
     "execution_count": 3,
     "metadata": {},
     "output_type": "execute_result"
    }
   ],
   "source": [
    "from dotenv import load_dotenv\n",
    "\n",
    "load_dotenv()"
   ]
  },
  {
   "cell_type": "code",
   "execution_count": 4,
   "metadata": {},
   "outputs": [],
   "source": [
    "from langchain_qdrant import QdrantVectorStore\n",
    "from qdrant_client import QdrantClient\n",
    "from qdrant_client.http.models import Distance, VectorParams"
   ]
  },
  {
   "cell_type": "code",
   "execution_count": 5,
   "metadata": {},
   "outputs": [],
   "source": [
    "client = QdrantClient(path=\"/tmp/langchain_qdrant\")"
   ]
  },
  {
   "cell_type": "code",
   "execution_count": 6,
   "metadata": {},
   "outputs": [
    {
     "data": {
      "text/plain": [
       "True"
      ]
     },
     "execution_count": 6,
     "metadata": {},
     "output_type": "execute_result"
    }
   ],
   "source": [
    "client.delete_collection(collection_name=\"demo_collection\")"
   ]
  },
  {
   "cell_type": "code",
   "execution_count": 7,
   "metadata": {},
   "outputs": [],
   "source": [
    "client.create_collection(\n",
    "    collection_name=\"demo_collection\",\n",
    "    vectors_config=VectorParams(size=768, distance=Distance.COSINE),\n",
    ")\n",
    "\n",
    "vector_store = QdrantVectorStore(\n",
    "    client=client,\n",
    "    collection_name=\"demo_collection\",\n",
    "    embedding=embedding_model,\n",
    ")"
   ]
  },
  {
   "cell_type": "code",
   "execution_count": 8,
   "metadata": {},
   "outputs": [
    {
     "data": {
      "text/plain": [
       "['d13875579c594ea4abf20a7d88d04d17',\n",
       " '47e30feba06e4b32a0f2b5333278a567',\n",
       " 'e891a6d48a314b608bdd98e03de21b89',\n",
       " 'd0ef2d46620f4d8695c32e19618d286a',\n",
       " 'dc9a861fd92b4b378697f5634ed222c1',\n",
       " '6d8b161242344afd83a6ed5d960c6c8c',\n",
       " '6fc7601c7ce54c27bbd4a6129b1ed94b',\n",
       " '81bd5374068b41d59ba611e3365d74ce',\n",
       " 'efbd2463af4249f1bcf6e00bf0239404',\n",
       " 'e0091781cd944a69832f93623c2d9d4e',\n",
       " '9bac38d192cd4ec7bd85b737fe17e441',\n",
       " '75bcea056c6d40b0b731db6f2d9bb841',\n",
       " '713076bb181643dbb9003ea2b64cecb3']"
      ]
     },
     "execution_count": 8,
     "metadata": {},
     "output_type": "execute_result"
    }
   ],
   "source": [
    "vector_store.add_documents(docs)\n"
   ]
  },
  {
   "cell_type": "code",
   "execution_count": 9,
   "metadata": {},
   "outputs": [
    {
     "data": {
      "text/plain": [
       "([Record(id='47e30feba06e4b32a0f2b5333278a567', payload={'page_content': 'Document Generated: 2023-04-24\\nStatus:  This is the original version (as it was originally made).\\n“catering establishment” means a restaurant, canteen, club, public house, school, hospital or\\nsimilar establishment (including a vehicle or a fixed or mobile stall) where, in the course of a\\nbusiness, food is prepared for delivery to the ultimate consumer and is ready for consumption\\nwithout further preparation;\\n“designated product” means any cocoa or chocolate product specified in column 2 of\\nSchedule 1, as read with any Note to that Schedule and any provision of regulation 3 and\\nSchedule 2 relating to that product; and “designated chocolate product” and “designated cocoa\\nproduct” mean any such product which is respectively a chocolate product or a cocoa product;\\n“EEA Agreement” means the Agreement on the European Economic Area(4) signed at Oporto\\non 2nd May 1992 as adjusted by the Protocol(5) signed at Brussels on 17th March 1993;\\n“EEA State” means a State which is a Contracting Party to the EEA Agreement;\\n“food authority” does not include—\\n(a) the council of a district in a non-metropolitan county except where the county functions\\nhave been transferred to that council pursuant to a structural change, or\\n(b) the appropriate Treasurer referred to in section 5(1)(c) of the Act (which deals with the\\nInner and the Middle Temple);\\n“the 1996 Regulations” means the Food Labelling Regulations 1996(6);\\n“other edible substances” does not include vegetable fats referred to in regulation 3 or the\\nfilling of any product specified in column 2 of item 7 or of item 10(a) of Schedule 1;\\n“preparation” includes manufacture and any form of processing or treatment;\\n“reserved description”, as respects any designated product, means any description specified in\\nrelation to that product in column 1 of Schedule 1;\\n“sell” includes offer or expose for sale or have in possession for sale, and “sale” shall be\\nconstrued accordingly; and\\n“ultimate consumer” means any person who buys otherwise than—\\n(a) for the purpose of resale,\\n(b) for the purposes of a catering establishment, or\\n(c) for the purposes of a manufacturing business.\\n(2)  Any reference in these Regulations to a numbered regulation or Schedule shall be construed\\nas a reference to the regulation or Schedule bearing that number in these Regulations.\\nVegetable fats in chocolate products\\n3.—(1)  Subject to paragraph (2) below, the vegetable fats, other than cocoa butter, specified in\\nSchedule 2 may be added to those designated chocolate products specified in column 2 of items 3,\\n4, 5, 6, 8 and 9 of Schedule 1.\\n(2)  An addition in accordance with paragraph 1 may not exceed 5 per cent of the finished product,\\nafter deduction of the total weight of any other edible substances used in accordance with the Note 1\\nto Schedule 1, without reducing the minimum content of cocoa butter or total dry cocoa solids.\\nScope of Regulations\\n4. These Regulations apply to designated products intended for human consumption and ready\\nfor delivery to the ultimate consumer or to a catering establishment.\\n(4) OJ No. L1, 3.1.94, p.1.\\n(5) OJ No. L1, 3.1.94, p.571.\\n(6) S.I. 1996/1499, the relevant amending instrument is S.I. 1998/1398.\\n2', 'metadata': {'source': '/Users/maximilianocruz/Documents/GitHub/practicos-rag/data/Regulaciones cacao y chocolate 2003.pdf', 'page': 1}}, vector=None, shard_key=None, order_value=None),\n",
       "  Record(id='6d8b161242344afd83a6ed5d960c6c8c', payload={'page_content': 'Document Generated: 2023-04-24\\nStatus:  This is the original version (as it was originally made).\\n(3)  In Schedule 9 to the Miscellaneous Food Additives Regulations 1995 (in so far as they\\napply to England) the entry relating to the Cocoa and Chocolate Products (Amendment) Regulations\\n1982(17) shall be omitted.\\n(4)  In so far as the Regulations in which they appear apply to England, there shall be substituted\\nfor the following references to Directive 73/241/EEC(18), references to Directive 2000/36/EC(19)—\\n(a) in the Colourings in Food Regulations 1995(20), in Schedule 2;\\n(b) in the Miscellaneous Food Additives Regulations 1995 (21), in Schedule 3 and in\\nSchedule 7.\\n(5)  The Cocoa and Chocolate Products Regulations 1976 and the Cocoa and Chocolate Products\\n(Amendment) Regulations 1982 are hereby revoked (in so far as they apply to England).\\nTransitional provision\\n12. In any proceedings for an offence under these Regulations it shall be a defence for the accused\\nto prove that—\\n(a) the food concerned was marked or labelled before 3rd August 2003, and\\n(b) the matters constituting the alleged offence would not have constituted an offence under\\nthe Cocoa and Chocolate Products Regulations 1976 as they stood immediately before the\\ndate of coming into force of these Regulations.\\nSigned by authority of the Secretary of State for Health\\n25th June 2003\\nMelanie Johnson\\nParliamentary Under-Secretary of State,\\nDepartment of Health\\n(17) S.I. 1982/17.\\n(18) OJ No. L228, 16.8.1973, p.23, as repealed with effect from 3rd August 2003 by Directive 2000/36/EC (OJ No. L197, 3.8.2000,\\np.19).\\n(19) OJ No. L197, 3.8.2000, p.19.\\n(20) S.I. 1995/3124 to which there are amendments not relevant to these Regulations.\\n(21) S.I. 1995/3187; the relevant amending instrument is S.I. 1999/1136.\\n6', 'metadata': {'source': '/Users/maximilianocruz/Documents/GitHub/practicos-rag/data/Regulaciones cacao y chocolate 2003.pdf', 'page': 5}}, vector=None, shard_key=None, order_value=None),\n",
       "  Record(id='6fc7601c7ce54c27bbd4a6129b1ed94b', payload={'page_content': 'Document Generated: 2023-04-24\\nStatus:  This is the original version (as it was originally made).\\nSCHEDULE 1 Regulations 2, 3 and 6\\nCOCOA AND CHOCOLATE PRODUCTS AND THEIR RESERVED DESCRIPTIONS\\nColumn 1 Column 2\\nReserved Descriptions Designated Products\\n1. Cocoa butter The fat obtained from cocoa beans or parts of\\ncocoa beans with the following characteristics:\\n—\\n— not more than 1.75 per cent free fatty acid\\ncontent (expressed as oleic acid); and\\n— for press cocoa butter, not more than\\n0.35 per cent unsaponifiable matter\\n(determined using petroleum ether); or\\n— for other cocoa butter, not more than\\n0.5 per cent unsaponifiable matter (so\\ndetermined).\\n(a) (a)  Cocoa powder or Cocoa The product obtained by converting into\\npowder cocoa beans which have been cleaned,\\nshelled and roasted, and which contains not\\nless than 20 per cent cocoa butter, calculated\\naccording to the weight of the dry matter, and\\nnot more than 9 per cent water.\\n(b) (b)  Fat-reduced cocoa or Fat-\\nreduced cocoa powder\\nCocoa powder containing less than 20 per cent\\ncocoa butter, calculated according to the weight\\nof the dry matter.\\n(c) (c)  Powdered chocolate or\\nChocolate in powder\\nThe product consisting of a mixture of cocoa\\npowder and sugars, containing not less than 32\\nper cent cocoa powder.\\n(d) (d)  Drinking chocolate or\\nSweetened cocoa or Sweetened cocoa\\npowder\\nThe product consisting of a mixture of cocoa\\npowder and sugars, containing not less than 25\\nper cent cocoa powder.\\n(e) (e)  Fat-reduced drinking chocolate\\nor Fat-reduced sweetened cocoa or\\nFat-reduced sweetened cocoa powder\\nThe product consisting of a mixture of cocoa\\npowder specified at item 2(b) and sugars,\\ncontaining not less than 25 per cent of such\\ncocoa powder.\\n(a) (a)  Chocolate (a) The product obtained from cocoa\\nproducts and sugars which, subject to\\nitem 3(b), contains not less than 35 per\\ncent total dry cocoa solids, including not\\nless than 18 per cent cocoa butter and not\\nless than 14 per cent of dry non-fat cocoa\\nsolids.\\n(b) (b)  If “Chocolate” is supplemented\\nby\\n(b) (b) \\n(i) “vermicelli” or “flakes” (i) The product presented in the form of\\ngranules or flakes containing not less\\nthan 32 per cent total dry cocoa solids,\\n7', 'metadata': {'source': '/Users/maximilianocruz/Documents/GitHub/practicos-rag/data/Regulaciones cacao y chocolate 2003.pdf', 'page': 6}}, vector=None, shard_key=None, order_value=None)],\n",
       " '713076bb181643dbb9003ea2b64cecb3')"
      ]
     },
     "execution_count": 9,
     "metadata": {},
     "output_type": "execute_result"
    }
   ],
   "source": [
    "client.scroll(collection_name=\"demo_collection\", limit=3)"
   ]
  },
  {
   "cell_type": "markdown",
   "metadata": {},
   "source": [
    "# Dense search"
   ]
  },
  {
   "cell_type": "code",
   "execution_count": 10,
   "metadata": {},
   "outputs": [],
   "source": [
    "from langchain_qdrant import RetrievalMode\n",
    "\n",
    "qdrant = QdrantVectorStore.from_documents(\n",
    "    docs,\n",
    "    embedding=embedding_model,\n",
    "    location=\":memory:\",\n",
    "    collection_name=\"my_documents\",\n",
    "    retrieval_mode=RetrievalMode.DENSE,\n",
    ")\n",
    "\n",
    "query = \"What did the president say about Ketanji Brown Jackson\"\n",
    "found_docs = qdrant.similarity_search(query)"
   ]
  },
  {
   "cell_type": "code",
   "execution_count": 11,
   "metadata": {},
   "outputs": [
    {
     "data": {
      "text/plain": [
       "[Document(metadata={'source': '/Users/maximilianocruz/Documents/GitHub/practicos-rag/data/Regulaciones cacao y chocolate 2003.pdf', 'page': 4, '_id': 'ef1656b64f46458b8772cd0f4ddcb341', '_collection_name': 'my_documents'}, page_content='Document Generated: 2023-04-24\\nStatus:  This is the original version (as it was originally made).\\n(c) section 20 (offences due to fault of another person);\\n(d) section 21 (defence of due diligence) as it applies for the purposes of section 8, 14 or 15\\nof the Act;\\n(e) section 22 (defence of publication in the course of business);\\n(f) section 30(8) (which relates to documentary evidence);\\n(g) section 33(1) (obstruction etc. of officers);\\n(h) section 33(2), with the modification that the reference to “any such requirement as is\\nmentioned in subsection (1)(b) above”, shall be deemed to be a reference to any such\\nrequirement as is mentioned in that subsection as applied by sub-paragraph (g) above;\\n(i) section 35(1) (punishment of offences) in so far as it relates to offences under section 33(1)\\nas applied by sub-paragraph (g) above;\\n(j) section 35(2) and (3) in so far as it relates to offences under section 33(2) as applied by\\nsub-paragraph (h) above;\\n(k) section 36 (offences by bodies corporate); and\\n(l) section 44 (protection of officers acting in good faith).\\nAmendments and revocations\\n11.—(1)  In the 1996 Regulations (in so far as they apply to England) in regulation 4(2) (scope\\nof Part II) sub-paragraph (b) shall be omitted.\\n(2)  The following entries relating to the Cocoa and Chocolate Products Regulations 1976(8) shall\\n(in so far as the following Regulations apply to England), be omitted—\\n(a) in the Food (Revision of Penalties) Regulations 1982(9), in Schedule 1;\\n(b) in the Food (Revision of Penalties) Regulations 1985(10), in Schedule 1, Part I;\\n(c) in the Food Safety Act 1990 (Consequential Modifications) (England and Wales) Order\\n1990(11), in Schedule 1, Part I, Schedule 2, Schedule 3, Part I and Schedules 6 and 12;\\n(d) in the Food Safety (Exports) Regulations 1991(12) in Schedule 1, Part I;\\n(e) in the Food (Forces Exemptions) (Revocations) Regulations 1992(13), in Schedule 1, Part\\nI;\\n(f) in the Miscellaneous Food Additives Regulations 1995(14), in Schedule 9;\\n(g) in the 1996 Regulations, in regulation 49(4)(a) and Schedule 9;\\n(h) in the Miscellaneous Food Additives (Amendment) Regulations 1999 (15), in\\nregulation 14(1);\\n(i) in the Miscellaneous Food Additives (Amendment) (England) (No. 2) Regulations\\n2001(16), in regulation 9(2).\\n(8) S.I. 1976/541; relevant amending instruments S.I 1982/17 , 1982/1727, 1985/67, 1990/2486, 1991/1476, 1992/2596,\\n1995/3187, 1996/1499.\\n(9) S.I. 1982/1727 to which there are amendments not relevant to these Regulations.\\n(10) S.I. 1985/67 to which there are amendments not relevant to these Regulations.\\n(11) S.I. 1990/2486 to which there are amendments not relevant to these Regulations.\\n(12) S.I. 1991/1476 to which there are amendments not relevant to these Regulations.\\n(13) S.I. 1992/2596 to which there are amendments not relevant to these Regulations.\\n(14) S.I. 1995/3187; relevant amending instruments are S.I. 1997/1413, 1999/1136, 2000/3323, 2001/60 and 2001/3775.\\n(15) S.I. 1999/1136.\\n(16) S.I. 2001/3775.\\n5'),\n",
       " Document(metadata={'source': '/Users/maximilianocruz/Documents/GitHub/practicos-rag/data/Regulaciones cacao y chocolate 2003.pdf', 'page': 5, '_id': '63a274e7d88e4628b9c31a04261247d3', '_collection_name': 'my_documents'}, page_content='Document Generated: 2023-04-24\\nStatus:  This is the original version (as it was originally made).\\n(3)  In Schedule 9 to the Miscellaneous Food Additives Regulations 1995 (in so far as they\\napply to England) the entry relating to the Cocoa and Chocolate Products (Amendment) Regulations\\n1982(17) shall be omitted.\\n(4)  In so far as the Regulations in which they appear apply to England, there shall be substituted\\nfor the following references to Directive 73/241/EEC(18), references to Directive 2000/36/EC(19)—\\n(a) in the Colourings in Food Regulations 1995(20), in Schedule 2;\\n(b) in the Miscellaneous Food Additives Regulations 1995 (21), in Schedule 3 and in\\nSchedule 7.\\n(5)  The Cocoa and Chocolate Products Regulations 1976 and the Cocoa and Chocolate Products\\n(Amendment) Regulations 1982 are hereby revoked (in so far as they apply to England).\\nTransitional provision\\n12. In any proceedings for an offence under these Regulations it shall be a defence for the accused\\nto prove that—\\n(a) the food concerned was marked or labelled before 3rd August 2003, and\\n(b) the matters constituting the alleged offence would not have constituted an offence under\\nthe Cocoa and Chocolate Products Regulations 1976 as they stood immediately before the\\ndate of coming into force of these Regulations.\\nSigned by authority of the Secretary of State for Health\\n25th June 2003\\nMelanie Johnson\\nParliamentary Under-Secretary of State,\\nDepartment of Health\\n(17) S.I. 1982/17.\\n(18) OJ No. L228, 16.8.1973, p.23, as repealed with effect from 3rd August 2003 by Directive 2000/36/EC (OJ No. L197, 3.8.2000,\\np.19).\\n(19) OJ No. L197, 3.8.2000, p.19.\\n(20) S.I. 1995/3124 to which there are amendments not relevant to these Regulations.\\n(21) S.I. 1995/3187; the relevant amending instrument is S.I. 1999/1136.\\n6'),\n",
       " Document(metadata={'source': '/Users/maximilianocruz/Documents/GitHub/practicos-rag/data/Regulaciones cacao y chocolate 2003.pdf', 'page': 2, '_id': 'c0bdcb23e69d49f68cc44437a424875c', '_collection_name': 'my_documents'}, page_content='Document Generated: 2023-04-24\\nStatus:  This is the original version (as it was originally made).\\nReserved descriptions\\n5. No person shall sell any food with a label, whether or not attached to or printed on the wrapper\\nor container, which bears, comprises or includes any reserved description or any derivative thereof\\nor any word or description substantially similar thereto unless—\\n(a) such food is the designated product to which the reserved description relates;\\n(b) such description, derivative or word is used in such a context as to indicate explicitly or by\\nclear implication that the substance to which it relates is only an ingredient of that food; or\\n(c) such description, derivative or word is used in such a context as to indicate explicitly or\\nby clear implication that such food is not and does not contain a designated product.\\nLabelling and description of designated products\\n6.—(1)  Without prejudice to the generality of Part II of the 1996 Regulations, no person shall\\nsell any designated product unless it is marked or labelled with the following particulars—\\n(a) subject to paragraphs (2)(a) and (3) below, a reserved description of the product;\\n(b) subject to paragraph (2) of regulation 7, in the case of a designated chocolate product\\nwhich, pursuant to regulation 3, contains vegetable fats other than cocoa butter, the\\nconspicuous and clearly legible statement “contains vegetable fats in addition to cocoa\\nbutter”;\\n(c) where the words “milk chocolate” are used as the reserved description or a qualification\\nof the reserved description of a designated chocolate product, an accompanying indication\\nof the dry milk solids content in the form “milk solids … % minimum”, provided that—\\n(i) as regards a designated chocolate product specified in column 2 of item 4(a) of\\nSchedule 1, the dry milk solids content indicated is not less than 14 per cent; and\\n(ii) as regards a designated chocolate product specified in column 2 of item 5 of\\nSchedule 1, the dry milk solids content indicated is not less than 20 per cent;\\n(d) subject to paragraph (4) below, in the case of a designated product specified in column 2\\nof item 2(c), 2(d), 2(e), 3, 4, 5, 8 or 9 of Schedule 1, an indication of the total dry cocoa\\nsolids content in the form “cocoa solids … % minimum”;\\n(e) in the case of a designated cocoa product specified in column 2 of item 2(b) or 2(e), an\\nindication of the cocoa butter content.\\n(2)  Where designated chocolate products specified in column 2 of items 3, 4, 5, 6, 7 and 10 of\\nSchedule 1 are sold in an assortment—\\n(a) the reserved description may be replaced by “assorted chocolates” or “assorted filled\\nchocolates” or a similar name; and\\n(b) the list of ingredients with which food is required by the 1996 Regulations to be marked\\nor labelled may be a single list of ingredients for all the products in the assortment.\\n(3)  The reserved descriptions “chocolate”, “milk chocolate” and “couverture chocolate” may be\\nsupplemented by information or descriptions relating to quality criteria provided that the product\\ncontains —\\n(a) in the case of the reserved description “chocolate”, not less than 43 per cent total dry cocoa\\nsolids, including not less than 26 per cent cocoa butter;\\n(b) in the case of the reserved description “milk chocolate”, not less than 30 per cent total dry\\ncocoa solids and not less than 18 per cent dry milk solids obtained by partly or wholly\\ndehydrating whole milk, semi-skimmed or skimmed milk, cream, or from partly or wholly\\ndehydrated cream, butter or milk fat, including not less than 4.5 per cent milk fat;\\n3'),\n",
       " Document(metadata={'source': '/Users/maximilianocruz/Documents/GitHub/practicos-rag/data/Regulaciones cacao y chocolate 2003.pdf', 'page': 0, '_id': '92e86aadb4924a2a84aca5d6be0f8fdc', '_collection_name': 'my_documents'}, page_content='Status:  This is the original version (as it was originally made).\\nSTATUTORY INSTRUMENTS\\n2003 No. 1659\\nFOOD, ENGLAND\\nThe Cocoa and Chocolate Products (England) Regulations 2003\\nMade       -      -      -      - 25th June 2003\\nLaid before Parliament 3rd July 2003\\nComing into force       -      - 3rd August 2003\\nThe Secretary of State, in exercise of the powers conferred by sections 16(1)(e), 17(1), 26(1) and (3)\\nand 48(1) of the Food Safety Act 1990(1) and now vested in him(2) and of all other powers enabling\\nhim in that behalf, having had regard in accordance with section 48(4A) of that Act to relevant\\nadvice given by the Food Standards Agency, and after consultation both as required by Article 9\\nof Regulation (EC) No. 178/2002 of the European Parliament and of the Council laying down the\\ngeneral principles and requirements of food law, establishing the European Food Safety Authority\\nand laying down procedures in matters of food safety (3) and in accordance with section 48(4) and\\n(4B) of that Act, hereby makes the following Regulations:\\nTitle, commencement and application\\n1. These Regulations may be cited as the Cocoa and Chocolate Products (England) Regulations\\n2003, shall come into force on 3rd August 2003 and shall apply to England only.\\nInterpretation\\n2.—(1)  In these Regulations—\\n“the Act” means the Food Safety Act 1990;\\n(1) 1990 c. 16.\\n(2) Functions formerly exercisable by “the Ministers” (being, in relation to England and Wales and acting jointly, the Minister\\nof Agriculture, Fisheries and Food and the Secretaries of State respectively concerned with health in England and food and\\nhealth in Wales and, in relation to Scotland, the Secretary of State) are now exercisable in relation to England by the Secretary\\nof State pursuant to paragraphs 7 and 8 of Schedule 5 to the Food Standards Act 1999 (c. 28), and paragraphs 12 and 21 of\\nthat Schedule amend sections 17(1) and 48 of the 1990 Act. Functions of “the Ministers” so far as exercisable in relation\\nto Wales were transferred to the National Assembly for Wales by the National Assembly for Wales (Transfer of Functions)\\nOrder 1999 (S.I.1999/672), as read with section 40(3) of the 1999 Act, and those functions so far as exercisable in relation to\\nScotland were transferred to the Scottish Ministers by section 53 of the Scotland Act 1998 (c. 46) as read with section 40(2)\\nof the 1999 Act. Regulation 13(4) of the Food Standards Act 1999 (Transitional and Consequential Provisions and Savings)\\n(England and Wales) Regulations 2000 (S.I. 2000/656) expressly authorises the Secretary of State to amend or revoke existing\\nRegulations made or having effect as if made by the Minister of Agriculture, Fisheries and Food (whether with others or not)\\nunder the 1990 Act.\\n(3) OJ No. L31, 1.2.2002, p.1.')]"
      ]
     },
     "execution_count": 11,
     "metadata": {},
     "output_type": "execute_result"
    }
   ],
   "source": [
    "found_docs"
   ]
  },
  {
   "cell_type": "markdown",
   "metadata": {},
   "source": [
    "# Sparse Vector Search\n",
    "\n",
    "To search with only sparse vectors,\n",
    "\n",
    "The retrieval_mode parameter should be set to RetrievalMode.SPARSE.\n",
    "An implementation of the SparseEmbeddings interface using any sparse embeddings provider has to be provided as value to the sparse_embedding parameter.\n",
    "The langchain-qdrant package provides a FastEmbed based implementation out of the box."
   ]
  },
  {
   "cell_type": "code",
   "execution_count": 12,
   "metadata": {},
   "outputs": [
    {
     "name": "stderr",
     "output_type": "stream",
     "text": [
      "Fetching 29 files: 100%|██████████| 29/29 [00:00<00:00, 85537.85it/s]\n"
     ]
    }
   ],
   "source": [
    "from langchain_qdrant import FastEmbedSparse, RetrievalMode\n",
    "\n",
    "sparse_embeddings = FastEmbedSparse(model_name=\"Qdrant/bm25\", cache_dir=\"cache\")\n",
    "\n",
    "qdrant = QdrantVectorStore.from_documents(\n",
    "    docs,\n",
    "    embedding=embedding_model,\n",
    "    sparse_embedding=sparse_embeddings,\n",
    "    location=\":memory:\",\n",
    "    collection_name=\"my_documents\",\n",
    "    retrieval_mode=RetrievalMode.SPARSE,\n",
    ")\n",
    "\n",
    "query = \"What is chocolate?\"\n",
    "found_docs = qdrant.similarity_search(query)"
   ]
  },
  {
   "cell_type": "code",
   "execution_count": 13,
   "metadata": {},
   "outputs": [
    {
     "data": {
      "text/plain": [
       "[Document(metadata={'source': '/Users/maximilianocruz/Documents/GitHub/practicos-rag/data/Regulaciones cacao y chocolate 2003.pdf', 'page': 11, '_id': '0ee0ddfcbaa34500b6d0f0d9da105dba', '_collection_name': 'my_documents'}, page_content='Document Generated: 2023-04-24\\nStatus:  This is the original version (as it was originally made).\\nUsual name of vegetable fat Scientific name of the plants from which\\nthe fats listed can be obtained\\n6. Mango kernel Mangifera indica\\n3. Coconut oil may be used in chocolate for the manufacture of ice cream and similar frozen\\nproducts.\\n4. In this Schedule—\\n“P” means palmitic acid;\\n“O” means oleic acid;\\n“St” means stearic acid.\\nEXPLANATORY NOTE\\n(This note is not part of the Regulations)\\nThese Regulations, which apply to England, implement Directive 2000/36/EC of the European\\nParliament and the Council relating to cocoa and chocolate products intended for human\\nconsumption(23). They revoke and replace the Cocoa and Chocolate Products Regulations 1976, as\\namended, in relation to England.\\nThe Regulations—\\n(a) prescribe definitions and reserved descriptions for designated cocoa and chocolate\\nproducts (regulation 2 and Schedule 1);\\n(b) specify the vegetable fats, other than cocoa butter, which may be added to designated\\nchocolate products (regulation 3 and Schedule 2);\\n(c) apply the Regulations to designated cocoa and chocolate products intended for human\\nconsumption and ready for delivery to the ultimate consumer or to a catering establishment\\n(regulation 4);\\n(d) restrict the use of reserved descriptions to the designated cocoa and chocolate products to\\nwhich they relate (regulation 5);\\n(e) require reserved descriptions and specified declarations to be applied to designated cocoa\\nand chocolate products and prescribe the manner of marking or labelling (regulations 6\\nand 7);\\n(f) specify a penalty, enforcement responsibilities and, in accordance with Articles 2 and 3 of\\nCouncil Directive 89/397/EEC on the official control of foodstuffs(24) and the European\\nEconomic Area Agreement, a defence in relation to exports (regulations 8 and 9);\\n(g) apply various provisions of the Food Safety Act 1990 (regulation 10);\\n(h) remove the exemption for cocoa and chocolate products from Part II of the Food Labelling\\nRegulations 1996, revoke the previous Cocoa and Chocolate Products Regulations and\\nmake consequential amendments and transitional provision (regulations 11 and 12).\\n(23) OJ No. L197, 3.8.2000, p.19.\\n(24) OJ No. L186, 30.6.89, p. 23.\\n12'),\n",
       " Document(metadata={'source': '/Users/maximilianocruz/Documents/GitHub/practicos-rag/data/Regulaciones cacao y chocolate 2003.pdf', 'page': 9, '_id': '6ae545f2c1c3428bbb24c91609cfdea5', '_collection_name': 'my_documents'}, page_content='Document Generated: 2023-04-24\\nStatus:  This is the original version (as it was originally made).\\nColumn 1 Column 2\\nReserved Descriptions Designated Products\\n— not less than 25 per cent total fat (cocoa\\nbutter and milk fat).\\n6. White chocolate The product obtained from cocoa butter, milk\\nor milk products and sugars which contains not\\nless than 20 per cent cocoa butter and not less\\nthan 14 per cent dry milk solids obtained by\\npartly or wholly dehydrating whole milk, semi-\\nskimmed or skimmed milk, cream, or from\\npartly or wholly dehydrated cream, butter or\\nmilk fat, of which not less than 3.5 per cent is\\nmilk fat.\\n7. Filled chocolate or\\nChocolate with … filling or\\nChocolate with … centre\\nThe filled product, the outer part of which\\nconsists of a product specified in column\\n2 of item 3, 4, 5 or 6 of this Schedule and\\nconstitutes not less than 25 per cent of the total\\nweight of the product, but does not include any\\nfilled product, the inside of which consists of\\nbakery products, pastry, biscuit or edible ice.\\n8. Chocolate a la taza The product obtained from cocoa products,\\nsugars, and flour or starch from wheat, rice or\\nmaize, which contains not less than 35 per cent\\ntotal dry cocoa solids, including not less than\\n18 per cent cocoa butter and not less than 14\\nper cent dry non-fat cocoa solids, and not more\\nthan 8 per cent flour or starch.\\n9. Chocolate familiar a la taza The product obtained from cocoa products,\\nsugars, and flour or starch from wheat, rice or\\nmaize, which contains not less than 30 per cent\\ntotal dry cocoa solids, including not less than\\n18 per cent cocoa butter and not less than 12\\nper cent dry non-fat cocoa solids, and not more\\nthan 18 per cent flour or starch.\\n10. A chocolate or A praline The product in single mouthful size, consisting\\nof:—\\n(a) the product specified in column 2 of item\\n7 of this Schedule; or\\n(b) a single chocolate or a combination or a\\nmixture of chocolate within the meaning\\nof any of the definitions specified in\\ncolumn 2 of items 3, 4, 5 and 6 of this\\nSchedule and any other edible substance,\\nprovided that the chocolate constitutes not\\nless than 25 per cent of the total weight of\\nthe product.\\nNotes.\\n1. —\\n(1) Subject to regulation 3 and paragraph (2) of this Note, other edible substances may\\nalso be added to the designated chocolate products specified in column 2 of items 3,\\n4, 5, 6, 8 and 9 of this Schedule:\\n10'),\n",
       " Document(metadata={'source': '/Users/maximilianocruz/Documents/GitHub/practicos-rag/data/Regulaciones cacao y chocolate 2003.pdf', 'page': 2, '_id': '163bce20690342fab64aa93ae6af6082', '_collection_name': 'my_documents'}, page_content='Document Generated: 2023-04-24\\nStatus:  This is the original version (as it was originally made).\\nReserved descriptions\\n5. No person shall sell any food with a label, whether or not attached to or printed on the wrapper\\nor container, which bears, comprises or includes any reserved description or any derivative thereof\\nor any word or description substantially similar thereto unless—\\n(a) such food is the designated product to which the reserved description relates;\\n(b) such description, derivative or word is used in such a context as to indicate explicitly or by\\nclear implication that the substance to which it relates is only an ingredient of that food; or\\n(c) such description, derivative or word is used in such a context as to indicate explicitly or\\nby clear implication that such food is not and does not contain a designated product.\\nLabelling and description of designated products\\n6.—(1)  Without prejudice to the generality of Part II of the 1996 Regulations, no person shall\\nsell any designated product unless it is marked or labelled with the following particulars—\\n(a) subject to paragraphs (2)(a) and (3) below, a reserved description of the product;\\n(b) subject to paragraph (2) of regulation 7, in the case of a designated chocolate product\\nwhich, pursuant to regulation 3, contains vegetable fats other than cocoa butter, the\\nconspicuous and clearly legible statement “contains vegetable fats in addition to cocoa\\nbutter”;\\n(c) where the words “milk chocolate” are used as the reserved description or a qualification\\nof the reserved description of a designated chocolate product, an accompanying indication\\nof the dry milk solids content in the form “milk solids … % minimum”, provided that—\\n(i) as regards a designated chocolate product specified in column 2 of item 4(a) of\\nSchedule 1, the dry milk solids content indicated is not less than 14 per cent; and\\n(ii) as regards a designated chocolate product specified in column 2 of item 5 of\\nSchedule 1, the dry milk solids content indicated is not less than 20 per cent;\\n(d) subject to paragraph (4) below, in the case of a designated product specified in column 2\\nof item 2(c), 2(d), 2(e), 3, 4, 5, 8 or 9 of Schedule 1, an indication of the total dry cocoa\\nsolids content in the form “cocoa solids … % minimum”;\\n(e) in the case of a designated cocoa product specified in column 2 of item 2(b) or 2(e), an\\nindication of the cocoa butter content.\\n(2)  Where designated chocolate products specified in column 2 of items 3, 4, 5, 6, 7 and 10 of\\nSchedule 1 are sold in an assortment—\\n(a) the reserved description may be replaced by “assorted chocolates” or “assorted filled\\nchocolates” or a similar name; and\\n(b) the list of ingredients with which food is required by the 1996 Regulations to be marked\\nor labelled may be a single list of ingredients for all the products in the assortment.\\n(3)  The reserved descriptions “chocolate”, “milk chocolate” and “couverture chocolate” may be\\nsupplemented by information or descriptions relating to quality criteria provided that the product\\ncontains —\\n(a) in the case of the reserved description “chocolate”, not less than 43 per cent total dry cocoa\\nsolids, including not less than 26 per cent cocoa butter;\\n(b) in the case of the reserved description “milk chocolate”, not less than 30 per cent total dry\\ncocoa solids and not less than 18 per cent dry milk solids obtained by partly or wholly\\ndehydrating whole milk, semi-skimmed or skimmed milk, cream, or from partly or wholly\\ndehydrated cream, butter or milk fat, including not less than 4.5 per cent milk fat;\\n3'),\n",
       " Document(metadata={'source': '/Users/maximilianocruz/Documents/GitHub/practicos-rag/data/Regulaciones cacao y chocolate 2003.pdf', 'page': 6, '_id': 'd4d75b2ceb324fc6a47294c8443e942f', '_collection_name': 'my_documents'}, page_content='Document Generated: 2023-04-24\\nStatus:  This is the original version (as it was originally made).\\nSCHEDULE 1 Regulations 2, 3 and 6\\nCOCOA AND CHOCOLATE PRODUCTS AND THEIR RESERVED DESCRIPTIONS\\nColumn 1 Column 2\\nReserved Descriptions Designated Products\\n1. Cocoa butter The fat obtained from cocoa beans or parts of\\ncocoa beans with the following characteristics:\\n—\\n— not more than 1.75 per cent free fatty acid\\ncontent (expressed as oleic acid); and\\n— for press cocoa butter, not more than\\n0.35 per cent unsaponifiable matter\\n(determined using petroleum ether); or\\n— for other cocoa butter, not more than\\n0.5 per cent unsaponifiable matter (so\\ndetermined).\\n(a) (a)  Cocoa powder or Cocoa The product obtained by converting into\\npowder cocoa beans which have been cleaned,\\nshelled and roasted, and which contains not\\nless than 20 per cent cocoa butter, calculated\\naccording to the weight of the dry matter, and\\nnot more than 9 per cent water.\\n(b) (b)  Fat-reduced cocoa or Fat-\\nreduced cocoa powder\\nCocoa powder containing less than 20 per cent\\ncocoa butter, calculated according to the weight\\nof the dry matter.\\n(c) (c)  Powdered chocolate or\\nChocolate in powder\\nThe product consisting of a mixture of cocoa\\npowder and sugars, containing not less than 32\\nper cent cocoa powder.\\n(d) (d)  Drinking chocolate or\\nSweetened cocoa or Sweetened cocoa\\npowder\\nThe product consisting of a mixture of cocoa\\npowder and sugars, containing not less than 25\\nper cent cocoa powder.\\n(e) (e)  Fat-reduced drinking chocolate\\nor Fat-reduced sweetened cocoa or\\nFat-reduced sweetened cocoa powder\\nThe product consisting of a mixture of cocoa\\npowder specified at item 2(b) and sugars,\\ncontaining not less than 25 per cent of such\\ncocoa powder.\\n(a) (a)  Chocolate (a) The product obtained from cocoa\\nproducts and sugars which, subject to\\nitem 3(b), contains not less than 35 per\\ncent total dry cocoa solids, including not\\nless than 18 per cent cocoa butter and not\\nless than 14 per cent of dry non-fat cocoa\\nsolids.\\n(b) (b)  If “Chocolate” is supplemented\\nby\\n(b) (b) \\n(i) “vermicelli” or “flakes” (i) The product presented in the form of\\ngranules or flakes containing not less\\nthan 32 per cent total dry cocoa solids,\\n7')]"
      ]
     },
     "execution_count": 13,
     "metadata": {},
     "output_type": "execute_result"
    }
   ],
   "source": [
    "found_docs"
   ]
  },
  {
   "cell_type": "markdown",
   "metadata": {},
   "source": [
    "# Hybrid Search\n",
    "\n",
    "To perform a hybrid search using dense and sparse vectors with score fusion,\n",
    "\n",
    "The retrieval_mode parameter should be set to RetrievalMode.HYBRID.\n",
    "A dense embeddings value should be provided to the embedding parameter.\n",
    "An implementation of the SparseEmbeddings interface using any sparse embeddings provider has to be provided as value to the sparse_embedding parameter.\n",
    "Note that if you've added documents with the HYBRID mode, you can switch to any retrieval mode when searching. Since both the dense and sparse vectors are available in the collection."
   ]
  },
  {
   "cell_type": "code",
   "execution_count": 14,
   "metadata": {},
   "outputs": [
    {
     "name": "stderr",
     "output_type": "stream",
     "text": [
      "Fetching 29 files: 100%|██████████| 29/29 [00:00<00:00, 210077.40it/s]\n"
     ]
    }
   ],
   "source": [
    "from langchain_qdrant import FastEmbedSparse, RetrievalMode\n",
    "\n",
    "sparse_embeddings = FastEmbedSparse(model_name=\"Qdrant/bm25\")\n",
    "\n",
    "qdrant = QdrantVectorStore.from_documents(\n",
    "    docs,\n",
    "    embedding=embedding_model,\n",
    "    sparse_embedding=sparse_embeddings,\n",
    "    location=\":memory:\",\n",
    "    collection_name=\"my_documents\",\n",
    "    retrieval_mode=RetrievalMode.HYBRID,\n",
    ")\n",
    "\n",
    "query = \"What did the president say about Ketanji Brown Jackson\"\n",
    "found_docs = qdrant.similarity_search(query)"
   ]
  },
  {
   "cell_type": "code",
   "execution_count": 15,
   "metadata": {},
   "outputs": [
    {
     "data": {
      "text/plain": [
       "[Document(metadata={'source': '/Users/maximilianocruz/Documents/GitHub/practicos-rag/data/Regulaciones cacao y chocolate 2003.pdf', 'page': 4, '_id': '69892ab960bd40e48f7bbc730dd698e2', '_collection_name': 'my_documents'}, page_content='Document Generated: 2023-04-24\\nStatus:  This is the original version (as it was originally made).\\n(c) section 20 (offences due to fault of another person);\\n(d) section 21 (defence of due diligence) as it applies for the purposes of section 8, 14 or 15\\nof the Act;\\n(e) section 22 (defence of publication in the course of business);\\n(f) section 30(8) (which relates to documentary evidence);\\n(g) section 33(1) (obstruction etc. of officers);\\n(h) section 33(2), with the modification that the reference to “any such requirement as is\\nmentioned in subsection (1)(b) above”, shall be deemed to be a reference to any such\\nrequirement as is mentioned in that subsection as applied by sub-paragraph (g) above;\\n(i) section 35(1) (punishment of offences) in so far as it relates to offences under section 33(1)\\nas applied by sub-paragraph (g) above;\\n(j) section 35(2) and (3) in so far as it relates to offences under section 33(2) as applied by\\nsub-paragraph (h) above;\\n(k) section 36 (offences by bodies corporate); and\\n(l) section 44 (protection of officers acting in good faith).\\nAmendments and revocations\\n11.—(1)  In the 1996 Regulations (in so far as they apply to England) in regulation 4(2) (scope\\nof Part II) sub-paragraph (b) shall be omitted.\\n(2)  The following entries relating to the Cocoa and Chocolate Products Regulations 1976(8) shall\\n(in so far as the following Regulations apply to England), be omitted—\\n(a) in the Food (Revision of Penalties) Regulations 1982(9), in Schedule 1;\\n(b) in the Food (Revision of Penalties) Regulations 1985(10), in Schedule 1, Part I;\\n(c) in the Food Safety Act 1990 (Consequential Modifications) (England and Wales) Order\\n1990(11), in Schedule 1, Part I, Schedule 2, Schedule 3, Part I and Schedules 6 and 12;\\n(d) in the Food Safety (Exports) Regulations 1991(12) in Schedule 1, Part I;\\n(e) in the Food (Forces Exemptions) (Revocations) Regulations 1992(13), in Schedule 1, Part\\nI;\\n(f) in the Miscellaneous Food Additives Regulations 1995(14), in Schedule 9;\\n(g) in the 1996 Regulations, in regulation 49(4)(a) and Schedule 9;\\n(h) in the Miscellaneous Food Additives (Amendment) Regulations 1999 (15), in\\nregulation 14(1);\\n(i) in the Miscellaneous Food Additives (Amendment) (England) (No. 2) Regulations\\n2001(16), in regulation 9(2).\\n(8) S.I. 1976/541; relevant amending instruments S.I 1982/17 , 1982/1727, 1985/67, 1990/2486, 1991/1476, 1992/2596,\\n1995/3187, 1996/1499.\\n(9) S.I. 1982/1727 to which there are amendments not relevant to these Regulations.\\n(10) S.I. 1985/67 to which there are amendments not relevant to these Regulations.\\n(11) S.I. 1990/2486 to which there are amendments not relevant to these Regulations.\\n(12) S.I. 1991/1476 to which there are amendments not relevant to these Regulations.\\n(13) S.I. 1992/2596 to which there are amendments not relevant to these Regulations.\\n(14) S.I. 1995/3187; relevant amending instruments are S.I. 1997/1413, 1999/1136, 2000/3323, 2001/60 and 2001/3775.\\n(15) S.I. 1999/1136.\\n(16) S.I. 2001/3775.\\n5'),\n",
       " Document(metadata={'source': '/Users/maximilianocruz/Documents/GitHub/practicos-rag/data/Regulaciones cacao y chocolate 2003.pdf', 'page': 5, '_id': '14d0a41f328041159ae7ec732aefd929', '_collection_name': 'my_documents'}, page_content='Document Generated: 2023-04-24\\nStatus:  This is the original version (as it was originally made).\\n(3)  In Schedule 9 to the Miscellaneous Food Additives Regulations 1995 (in so far as they\\napply to England) the entry relating to the Cocoa and Chocolate Products (Amendment) Regulations\\n1982(17) shall be omitted.\\n(4)  In so far as the Regulations in which they appear apply to England, there shall be substituted\\nfor the following references to Directive 73/241/EEC(18), references to Directive 2000/36/EC(19)—\\n(a) in the Colourings in Food Regulations 1995(20), in Schedule 2;\\n(b) in the Miscellaneous Food Additives Regulations 1995 (21), in Schedule 3 and in\\nSchedule 7.\\n(5)  The Cocoa and Chocolate Products Regulations 1976 and the Cocoa and Chocolate Products\\n(Amendment) Regulations 1982 are hereby revoked (in so far as they apply to England).\\nTransitional provision\\n12. In any proceedings for an offence under these Regulations it shall be a defence for the accused\\nto prove that—\\n(a) the food concerned was marked or labelled before 3rd August 2003, and\\n(b) the matters constituting the alleged offence would not have constituted an offence under\\nthe Cocoa and Chocolate Products Regulations 1976 as they stood immediately before the\\ndate of coming into force of these Regulations.\\nSigned by authority of the Secretary of State for Health\\n25th June 2003\\nMelanie Johnson\\nParliamentary Under-Secretary of State,\\nDepartment of Health\\n(17) S.I. 1982/17.\\n(18) OJ No. L228, 16.8.1973, p.23, as repealed with effect from 3rd August 2003 by Directive 2000/36/EC (OJ No. L197, 3.8.2000,\\np.19).\\n(19) OJ No. L197, 3.8.2000, p.19.\\n(20) S.I. 1995/3124 to which there are amendments not relevant to these Regulations.\\n(21) S.I. 1995/3187; the relevant amending instrument is S.I. 1999/1136.\\n6'),\n",
       " Document(metadata={'source': '/Users/maximilianocruz/Documents/GitHub/practicos-rag/data/Regulaciones cacao y chocolate 2003.pdf', 'page': 2, '_id': 'b36cef3143754c9db93f1b5219deb079', '_collection_name': 'my_documents'}, page_content='Document Generated: 2023-04-24\\nStatus:  This is the original version (as it was originally made).\\nReserved descriptions\\n5. No person shall sell any food with a label, whether or not attached to or printed on the wrapper\\nor container, which bears, comprises or includes any reserved description or any derivative thereof\\nor any word or description substantially similar thereto unless—\\n(a) such food is the designated product to which the reserved description relates;\\n(b) such description, derivative or word is used in such a context as to indicate explicitly or by\\nclear implication that the substance to which it relates is only an ingredient of that food; or\\n(c) such description, derivative or word is used in such a context as to indicate explicitly or\\nby clear implication that such food is not and does not contain a designated product.\\nLabelling and description of designated products\\n6.—(1)  Without prejudice to the generality of Part II of the 1996 Regulations, no person shall\\nsell any designated product unless it is marked or labelled with the following particulars—\\n(a) subject to paragraphs (2)(a) and (3) below, a reserved description of the product;\\n(b) subject to paragraph (2) of regulation 7, in the case of a designated chocolate product\\nwhich, pursuant to regulation 3, contains vegetable fats other than cocoa butter, the\\nconspicuous and clearly legible statement “contains vegetable fats in addition to cocoa\\nbutter”;\\n(c) where the words “milk chocolate” are used as the reserved description or a qualification\\nof the reserved description of a designated chocolate product, an accompanying indication\\nof the dry milk solids content in the form “milk solids … % minimum”, provided that—\\n(i) as regards a designated chocolate product specified in column 2 of item 4(a) of\\nSchedule 1, the dry milk solids content indicated is not less than 14 per cent; and\\n(ii) as regards a designated chocolate product specified in column 2 of item 5 of\\nSchedule 1, the dry milk solids content indicated is not less than 20 per cent;\\n(d) subject to paragraph (4) below, in the case of a designated product specified in column 2\\nof item 2(c), 2(d), 2(e), 3, 4, 5, 8 or 9 of Schedule 1, an indication of the total dry cocoa\\nsolids content in the form “cocoa solids … % minimum”;\\n(e) in the case of a designated cocoa product specified in column 2 of item 2(b) or 2(e), an\\nindication of the cocoa butter content.\\n(2)  Where designated chocolate products specified in column 2 of items 3, 4, 5, 6, 7 and 10 of\\nSchedule 1 are sold in an assortment—\\n(a) the reserved description may be replaced by “assorted chocolates” or “assorted filled\\nchocolates” or a similar name; and\\n(b) the list of ingredients with which food is required by the 1996 Regulations to be marked\\nor labelled may be a single list of ingredients for all the products in the assortment.\\n(3)  The reserved descriptions “chocolate”, “milk chocolate” and “couverture chocolate” may be\\nsupplemented by information or descriptions relating to quality criteria provided that the product\\ncontains —\\n(a) in the case of the reserved description “chocolate”, not less than 43 per cent total dry cocoa\\nsolids, including not less than 26 per cent cocoa butter;\\n(b) in the case of the reserved description “milk chocolate”, not less than 30 per cent total dry\\ncocoa solids and not less than 18 per cent dry milk solids obtained by partly or wholly\\ndehydrating whole milk, semi-skimmed or skimmed milk, cream, or from partly or wholly\\ndehydrated cream, butter or milk fat, including not less than 4.5 per cent milk fat;\\n3'),\n",
       " Document(metadata={'source': '/Users/maximilianocruz/Documents/GitHub/practicos-rag/data/Regulaciones cacao y chocolate 2003.pdf', 'page': 0, '_id': '62c6918c70a547ae9d3fd96f0927bdec', '_collection_name': 'my_documents'}, page_content='Status:  This is the original version (as it was originally made).\\nSTATUTORY INSTRUMENTS\\n2003 No. 1659\\nFOOD, ENGLAND\\nThe Cocoa and Chocolate Products (England) Regulations 2003\\nMade       -      -      -      - 25th June 2003\\nLaid before Parliament 3rd July 2003\\nComing into force       -      - 3rd August 2003\\nThe Secretary of State, in exercise of the powers conferred by sections 16(1)(e), 17(1), 26(1) and (3)\\nand 48(1) of the Food Safety Act 1990(1) and now vested in him(2) and of all other powers enabling\\nhim in that behalf, having had regard in accordance with section 48(4A) of that Act to relevant\\nadvice given by the Food Standards Agency, and after consultation both as required by Article 9\\nof Regulation (EC) No. 178/2002 of the European Parliament and of the Council laying down the\\ngeneral principles and requirements of food law, establishing the European Food Safety Authority\\nand laying down procedures in matters of food safety (3) and in accordance with section 48(4) and\\n(4B) of that Act, hereby makes the following Regulations:\\nTitle, commencement and application\\n1. These Regulations may be cited as the Cocoa and Chocolate Products (England) Regulations\\n2003, shall come into force on 3rd August 2003 and shall apply to England only.\\nInterpretation\\n2.—(1)  In these Regulations—\\n“the Act” means the Food Safety Act 1990;\\n(1) 1990 c. 16.\\n(2) Functions formerly exercisable by “the Ministers” (being, in relation to England and Wales and acting jointly, the Minister\\nof Agriculture, Fisheries and Food and the Secretaries of State respectively concerned with health in England and food and\\nhealth in Wales and, in relation to Scotland, the Secretary of State) are now exercisable in relation to England by the Secretary\\nof State pursuant to paragraphs 7 and 8 of Schedule 5 to the Food Standards Act 1999 (c. 28), and paragraphs 12 and 21 of\\nthat Schedule amend sections 17(1) and 48 of the 1990 Act. Functions of “the Ministers” so far as exercisable in relation\\nto Wales were transferred to the National Assembly for Wales by the National Assembly for Wales (Transfer of Functions)\\nOrder 1999 (S.I.1999/672), as read with section 40(3) of the 1999 Act, and those functions so far as exercisable in relation to\\nScotland were transferred to the Scottish Ministers by section 53 of the Scotland Act 1998 (c. 46) as read with section 40(2)\\nof the 1999 Act. Regulation 13(4) of the Food Standards Act 1999 (Transitional and Consequential Provisions and Savings)\\n(England and Wales) Regulations 2000 (S.I. 2000/656) expressly authorises the Secretary of State to amend or revoke existing\\nRegulations made or having effect as if made by the Minister of Agriculture, Fisheries and Food (whether with others or not)\\nunder the 1990 Act.\\n(3) OJ No. L31, 1.2.2002, p.1.')]"
      ]
     },
     "execution_count": 15,
     "metadata": {},
     "output_type": "execute_result"
    }
   ],
   "source": [
    "found_docs"
   ]
  },
  {
   "cell_type": "code",
   "execution_count": 16,
   "metadata": {},
   "outputs": [
    {
     "name": "stdout",
     "output_type": "stream",
     "text": [
      "* [SIM=0.479522] Document Generated: 2023-04-24\n",
      "Status:  This is the original version (as it was originally made).\n",
      "Column 1 Column 2\n",
      "Reserved Descriptions Designated Products\n",
      "— not less than 25 per cent total fat (cocoa\n",
      "butter and milk fat).\n",
      "6. White chocolate The product obtained from cocoa butter, milk\n",
      "or milk products and sugars which contains not\n",
      "less than 20 per cent cocoa butter and not less\n",
      "than 14 per cent dry milk solids obtained by\n",
      "partly or wholly dehydrating whole milk, semi-\n",
      "skimmed or skimmed milk, cream, or from\n",
      "partly or wholly dehydrated cream, butter or\n",
      "milk fat, of which not less than 3.5 per cent is\n",
      "milk fat.\n",
      "7. Filled chocolate or\n",
      "Chocolate with … filling or\n",
      "Chocolate with … centre\n",
      "The filled product, the outer part of which\n",
      "consists of a product specified in column\n",
      "2 of item 3, 4, 5 or 6 of this Schedule and\n",
      "constitutes not less than 25 per cent of the total\n",
      "weight of the product, but does not include any\n",
      "filled product, the inside of which consists of\n",
      "bakery products, pastry, biscuit or edible ice.\n",
      "8. Chocolate a la taza The product obtained from cocoa products,\n",
      "sugars, and flour or starch from wheat, rice or\n",
      "maize, which contains not less than 35 per cent\n",
      "total dry cocoa solids, including not less than\n",
      "18 per cent cocoa butter and not less than 14\n",
      "per cent dry non-fat cocoa solids, and not more\n",
      "than 8 per cent flour or starch.\n",
      "9. Chocolate familiar a la taza The product obtained from cocoa products,\n",
      "sugars, and flour or starch from wheat, rice or\n",
      "maize, which contains not less than 30 per cent\n",
      "total dry cocoa solids, including not less than\n",
      "18 per cent cocoa butter and not less than 12\n",
      "per cent dry non-fat cocoa solids, and not more\n",
      "than 18 per cent flour or starch.\n",
      "10. A chocolate or A praline The product in single mouthful size, consisting\n",
      "of:—\n",
      "(a) the product specified in column 2 of item\n",
      "7 of this Schedule; or\n",
      "(b) a single chocolate or a combination or a\n",
      "mixture of chocolate within the meaning\n",
      "of any of the definitions specified in\n",
      "column 2 of items 3, 4, 5 and 6 of this\n",
      "Schedule and any other edible substance,\n",
      "provided that the chocolate constitutes not\n",
      "less than 25 per cent of the total weight of\n",
      "the product.\n",
      "Notes.\n",
      "1. —\n",
      "(1) Subject to regulation 3 and paragraph (2) of this Note, other edible substances may\n",
      "also be added to the designated chocolate products specified in column 2 of items 3,\n",
      "4, 5, 6, 8 and 9 of this Schedule:\n",
      "10 [{'source': '/Users/maximilianocruz/Documents/GitHub/practicos-rag/data/Regulaciones cacao y chocolate 2003.pdf', 'page': 9, '_id': 'e0091781cd944a69832f93623c2d9d4e', '_collection_name': 'demo_collection'}]\n"
     ]
    }
   ],
   "source": [
    "#If you want to execute a similarity search and receive the corresponding scores you can run:\n",
    "results = vector_store.similarity_search_with_score(\n",
    "    query=\"What is chocolate?\", k=1\n",
    ")\n",
    "for doc, score in results:\n",
    "    print(f\"* [SIM={score:3f}] {doc.page_content} [{doc.metadata}]\")"
   ]
  },
  {
   "cell_type": "markdown",
   "metadata": {},
   "source": [
    "# Metadata filtering"
   ]
  },
  {
   "cell_type": "code",
   "execution_count": 17,
   "metadata": {},
   "outputs": [],
   "source": [
    "from qdrant_client.http import models\n",
    "\n",
    "results = vector_store.similarity_search(\n",
    "    query=\"What is chocolate?\",\n",
    "    k=1,\n",
    "    filter=models.Filter(\n",
    "        should=[\n",
    "            models.FieldCondition(\n",
    "                key=\"page\",\n",
    "                match=models.MatchValue(\n",
    "                    value=\"5\"\n",
    "                ),\n",
    "            ),\n",
    "        ]\n",
    "    ),\n",
    ")\n",
    "for doc in results:\n",
    "    print(f\"* {doc.page_content} [{doc.metadata}]\")"
   ]
  },
  {
   "cell_type": "code",
   "execution_count": 18,
   "metadata": {},
   "outputs": [
    {
     "data": {
      "text/plain": [
       "[]"
      ]
     },
     "execution_count": 18,
     "metadata": {},
     "output_type": "execute_result"
    }
   ],
   "source": [
    "results"
   ]
  },
  {
   "cell_type": "markdown",
   "metadata": {},
   "source": [
    "## Query by turning into a retriever"
   ]
  },
  {
   "cell_type": "code",
   "execution_count": 19,
   "metadata": {},
   "outputs": [
    {
     "data": {
      "text/plain": [
       "[Document(metadata={'source': '/Users/maximilianocruz/Documents/GitHub/practicos-rag/data/Regulaciones cacao y chocolate 2003.pdf', 'page': 9, '_id': 'e0091781cd944a69832f93623c2d9d4e', '_collection_name': 'demo_collection'}, page_content='Document Generated: 2023-04-24\\nStatus:  This is the original version (as it was originally made).\\nColumn 1 Column 2\\nReserved Descriptions Designated Products\\n— not less than 25 per cent total fat (cocoa\\nbutter and milk fat).\\n6. White chocolate The product obtained from cocoa butter, milk\\nor milk products and sugars which contains not\\nless than 20 per cent cocoa butter and not less\\nthan 14 per cent dry milk solids obtained by\\npartly or wholly dehydrating whole milk, semi-\\nskimmed or skimmed milk, cream, or from\\npartly or wholly dehydrated cream, butter or\\nmilk fat, of which not less than 3.5 per cent is\\nmilk fat.\\n7. Filled chocolate or\\nChocolate with … filling or\\nChocolate with … centre\\nThe filled product, the outer part of which\\nconsists of a product specified in column\\n2 of item 3, 4, 5 or 6 of this Schedule and\\nconstitutes not less than 25 per cent of the total\\nweight of the product, but does not include any\\nfilled product, the inside of which consists of\\nbakery products, pastry, biscuit or edible ice.\\n8. Chocolate a la taza The product obtained from cocoa products,\\nsugars, and flour or starch from wheat, rice or\\nmaize, which contains not less than 35 per cent\\ntotal dry cocoa solids, including not less than\\n18 per cent cocoa butter and not less than 14\\nper cent dry non-fat cocoa solids, and not more\\nthan 8 per cent flour or starch.\\n9. Chocolate familiar a la taza The product obtained from cocoa products,\\nsugars, and flour or starch from wheat, rice or\\nmaize, which contains not less than 30 per cent\\ntotal dry cocoa solids, including not less than\\n18 per cent cocoa butter and not less than 12\\nper cent dry non-fat cocoa solids, and not more\\nthan 18 per cent flour or starch.\\n10. A chocolate or A praline The product in single mouthful size, consisting\\nof:—\\n(a) the product specified in column 2 of item\\n7 of this Schedule; or\\n(b) a single chocolate or a combination or a\\nmixture of chocolate within the meaning\\nof any of the definitions specified in\\ncolumn 2 of items 3, 4, 5 and 6 of this\\nSchedule and any other edible substance,\\nprovided that the chocolate constitutes not\\nless than 25 per cent of the total weight of\\nthe product.\\nNotes.\\n1. —\\n(1) Subject to regulation 3 and paragraph (2) of this Note, other edible substances may\\nalso be added to the designated chocolate products specified in column 2 of items 3,\\n4, 5, 6, 8 and 9 of this Schedule:\\n10'),\n",
       " Document(metadata={'source': '/Users/maximilianocruz/Documents/GitHub/practicos-rag/data/Regulaciones cacao y chocolate 2003.pdf', 'page': 11, '_id': '75bcea056c6d40b0b731db6f2d9bb841', '_collection_name': 'demo_collection'}, page_content='Document Generated: 2023-04-24\\nStatus:  This is the original version (as it was originally made).\\nUsual name of vegetable fat Scientific name of the plants from which\\nthe fats listed can be obtained\\n6. Mango kernel Mangifera indica\\n3. Coconut oil may be used in chocolate for the manufacture of ice cream and similar frozen\\nproducts.\\n4. In this Schedule—\\n“P” means palmitic acid;\\n“O” means oleic acid;\\n“St” means stearic acid.\\nEXPLANATORY NOTE\\n(This note is not part of the Regulations)\\nThese Regulations, which apply to England, implement Directive 2000/36/EC of the European\\nParliament and the Council relating to cocoa and chocolate products intended for human\\nconsumption(23). They revoke and replace the Cocoa and Chocolate Products Regulations 1976, as\\namended, in relation to England.\\nThe Regulations—\\n(a) prescribe definitions and reserved descriptions for designated cocoa and chocolate\\nproducts (regulation 2 and Schedule 1);\\n(b) specify the vegetable fats, other than cocoa butter, which may be added to designated\\nchocolate products (regulation 3 and Schedule 2);\\n(c) apply the Regulations to designated cocoa and chocolate products intended for human\\nconsumption and ready for delivery to the ultimate consumer or to a catering establishment\\n(regulation 4);\\n(d) restrict the use of reserved descriptions to the designated cocoa and chocolate products to\\nwhich they relate (regulation 5);\\n(e) require reserved descriptions and specified declarations to be applied to designated cocoa\\nand chocolate products and prescribe the manner of marking or labelling (regulations 6\\nand 7);\\n(f) specify a penalty, enforcement responsibilities and, in accordance with Articles 2 and 3 of\\nCouncil Directive 89/397/EEC on the official control of foodstuffs(24) and the European\\nEconomic Area Agreement, a defence in relation to exports (regulations 8 and 9);\\n(g) apply various provisions of the Food Safety Act 1990 (regulation 10);\\n(h) remove the exemption for cocoa and chocolate products from Part II of the Food Labelling\\nRegulations 1996, revoke the previous Cocoa and Chocolate Products Regulations and\\nmake consequential amendments and transitional provision (regulations 11 and 12).\\n(23) OJ No. L197, 3.8.2000, p.19.\\n(24) OJ No. L186, 30.6.89, p. 23.\\n12'),\n",
       " Document(metadata={'source': '/Users/maximilianocruz/Documents/GitHub/practicos-rag/data/Regulaciones cacao y chocolate 2003.pdf', 'page': 2, '_id': 'e891a6d48a314b608bdd98e03de21b89', '_collection_name': 'demo_collection'}, page_content='Document Generated: 2023-04-24\\nStatus:  This is the original version (as it was originally made).\\nReserved descriptions\\n5. No person shall sell any food with a label, whether or not attached to or printed on the wrapper\\nor container, which bears, comprises or includes any reserved description or any derivative thereof\\nor any word or description substantially similar thereto unless—\\n(a) such food is the designated product to which the reserved description relates;\\n(b) such description, derivative or word is used in such a context as to indicate explicitly or by\\nclear implication that the substance to which it relates is only an ingredient of that food; or\\n(c) such description, derivative or word is used in such a context as to indicate explicitly or\\nby clear implication that such food is not and does not contain a designated product.\\nLabelling and description of designated products\\n6.—(1)  Without prejudice to the generality of Part II of the 1996 Regulations, no person shall\\nsell any designated product unless it is marked or labelled with the following particulars—\\n(a) subject to paragraphs (2)(a) and (3) below, a reserved description of the product;\\n(b) subject to paragraph (2) of regulation 7, in the case of a designated chocolate product\\nwhich, pursuant to regulation 3, contains vegetable fats other than cocoa butter, the\\nconspicuous and clearly legible statement “contains vegetable fats in addition to cocoa\\nbutter”;\\n(c) where the words “milk chocolate” are used as the reserved description or a qualification\\nof the reserved description of a designated chocolate product, an accompanying indication\\nof the dry milk solids content in the form “milk solids … % minimum”, provided that—\\n(i) as regards a designated chocolate product specified in column 2 of item 4(a) of\\nSchedule 1, the dry milk solids content indicated is not less than 14 per cent; and\\n(ii) as regards a designated chocolate product specified in column 2 of item 5 of\\nSchedule 1, the dry milk solids content indicated is not less than 20 per cent;\\n(d) subject to paragraph (4) below, in the case of a designated product specified in column 2\\nof item 2(c), 2(d), 2(e), 3, 4, 5, 8 or 9 of Schedule 1, an indication of the total dry cocoa\\nsolids content in the form “cocoa solids … % minimum”;\\n(e) in the case of a designated cocoa product specified in column 2 of item 2(b) or 2(e), an\\nindication of the cocoa butter content.\\n(2)  Where designated chocolate products specified in column 2 of items 3, 4, 5, 6, 7 and 10 of\\nSchedule 1 are sold in an assortment—\\n(a) the reserved description may be replaced by “assorted chocolates” or “assorted filled\\nchocolates” or a similar name; and\\n(b) the list of ingredients with which food is required by the 1996 Regulations to be marked\\nor labelled may be a single list of ingredients for all the products in the assortment.\\n(3)  The reserved descriptions “chocolate”, “milk chocolate” and “couverture chocolate” may be\\nsupplemented by information or descriptions relating to quality criteria provided that the product\\ncontains —\\n(a) in the case of the reserved description “chocolate”, not less than 43 per cent total dry cocoa\\nsolids, including not less than 26 per cent cocoa butter;\\n(b) in the case of the reserved description “milk chocolate”, not less than 30 per cent total dry\\ncocoa solids and not less than 18 per cent dry milk solids obtained by partly or wholly\\ndehydrating whole milk, semi-skimmed or skimmed milk, cream, or from partly or wholly\\ndehydrated cream, butter or milk fat, including not less than 4.5 per cent milk fat;\\n3'),\n",
       " Document(metadata={'source': '/Users/maximilianocruz/Documents/GitHub/practicos-rag/data/Regulaciones cacao y chocolate 2003.pdf', 'page': 6, '_id': '6fc7601c7ce54c27bbd4a6129b1ed94b', '_collection_name': 'demo_collection'}, page_content='Document Generated: 2023-04-24\\nStatus:  This is the original version (as it was originally made).\\nSCHEDULE 1 Regulations 2, 3 and 6\\nCOCOA AND CHOCOLATE PRODUCTS AND THEIR RESERVED DESCRIPTIONS\\nColumn 1 Column 2\\nReserved Descriptions Designated Products\\n1. Cocoa butter The fat obtained from cocoa beans or parts of\\ncocoa beans with the following characteristics:\\n—\\n— not more than 1.75 per cent free fatty acid\\ncontent (expressed as oleic acid); and\\n— for press cocoa butter, not more than\\n0.35 per cent unsaponifiable matter\\n(determined using petroleum ether); or\\n— for other cocoa butter, not more than\\n0.5 per cent unsaponifiable matter (so\\ndetermined).\\n(a) (a)  Cocoa powder or Cocoa The product obtained by converting into\\npowder cocoa beans which have been cleaned,\\nshelled and roasted, and which contains not\\nless than 20 per cent cocoa butter, calculated\\naccording to the weight of the dry matter, and\\nnot more than 9 per cent water.\\n(b) (b)  Fat-reduced cocoa or Fat-\\nreduced cocoa powder\\nCocoa powder containing less than 20 per cent\\ncocoa butter, calculated according to the weight\\nof the dry matter.\\n(c) (c)  Powdered chocolate or\\nChocolate in powder\\nThe product consisting of a mixture of cocoa\\npowder and sugars, containing not less than 32\\nper cent cocoa powder.\\n(d) (d)  Drinking chocolate or\\nSweetened cocoa or Sweetened cocoa\\npowder\\nThe product consisting of a mixture of cocoa\\npowder and sugars, containing not less than 25\\nper cent cocoa powder.\\n(e) (e)  Fat-reduced drinking chocolate\\nor Fat-reduced sweetened cocoa or\\nFat-reduced sweetened cocoa powder\\nThe product consisting of a mixture of cocoa\\npowder specified at item 2(b) and sugars,\\ncontaining not less than 25 per cent of such\\ncocoa powder.\\n(a) (a)  Chocolate (a) The product obtained from cocoa\\nproducts and sugars which, subject to\\nitem 3(b), contains not less than 35 per\\ncent total dry cocoa solids, including not\\nless than 18 per cent cocoa butter and not\\nless than 14 per cent of dry non-fat cocoa\\nsolids.\\n(b) (b)  If “Chocolate” is supplemented\\nby\\n(b) (b) \\n(i) “vermicelli” or “flakes” (i) The product presented in the form of\\ngranules or flakes containing not less\\nthan 32 per cent total dry cocoa solids,\\n7'),\n",
       " Document(metadata={'source': '/Users/maximilianocruz/Documents/GitHub/practicos-rag/data/Regulaciones cacao y chocolate 2003.pdf', 'page': 10, '_id': '9bac38d192cd4ec7bd85b737fe17e441', '_collection_name': 'demo_collection'}, page_content='Document Generated: 2023-04-24\\nStatus:  This is the original version (as it was originally made).\\nProvided that this paragraph does not authorise the addition—\\n(a) of animal fats and their preparations not deriving solely from milk; or\\n(b) of flours, granular and powdered starch other than in accordance with the\\ndefinitions specified in column 2 of items 8 and 9 of this Schedule; or\\n(c) of other edible substances in a quantity exceeding 40 per cent of the total\\nweight of the finished product.\\n(2) Only those flavourings which do not mimic the taste of chocolate or of milk fat may\\nbe added to the designated products specified in column 2 of items 2, 3, 4, 5, 6, 8 and\\n9 of this Schedule.\\n2. —\\n(1) The minimum contents of the designated chocolate products specified in column 2\\nof items 3, 4, 5, 6, 8 and 9 of this Schedule shall be calculated after deduction of the\\nweight of other edible substances provided for in Note 1 to this Schedule.\\n(2) In the case of the designated chocolate products specified in column 2 of items 7 and\\n10 of this Schedule, the minimum contents shall be calculated after deducting the\\nweight of other edible substances provided for in Note 1 to this Schedule, as well as\\nthe weight of the filling.\\n(3) The chocolate contents of the designated chocolate products specified in column 2 of\\nitems 7 and 10 of this Schedule shall be calculated in relation to the total weight of\\nthe finished product, including its filling.\\n3. In this Schedule, “sugars” includes sugars covered by Council Directive 2001/111/EC(22)\\nand other sugars.\\nSCHEDULE 2 Regulations 2 and 3\\nAUTHORISED VEGETABLE FATS\\n1. Subject to the following paragraphs of this Schedule, the vegetable fats referred to in\\nregulation 3 are, singly or in blends, cocoa butter equivalents and shall comply with the following\\ncriteria:—\\n(a) they are non-lauric vegetable fats, which are rich in symmetrical monounsaturated\\ntriglycerides of the type POP, POSt and StOSt;\\n(b) they are miscible in any proportion with cocoa butter, and are compatible with its physical\\nproperties (melting point and crystallisation temperatures, melting rate, need for tempering\\nphase);\\n(c) they are obtained only by the processes of refining or fractionation or both, which exclude\\nenzymatic modification of the triglyceride structure.\\n2. In conformity with the criteria specified in paragraph 1 above, the following vegetable fats,\\nobtained from the plants listed in the Table below, may be used:—\\nUsual name of vegetable fat Scientific name of the plants from which\\nthe fats listed can be obtained\\n1. Illipe, Borneo tallow or Tengkawang Shorea spp.\\n2. Palm-oil Elaeis guineensis\\nElaeis olifera\\n3. Sal Shorea robusta\\n4. Shea Burtyrospermum parkii\\n5. Kokum gurgi Garcinia indica\\n(22) OJ L10, 12.1.2002, p.53.\\n11')]"
      ]
     },
     "execution_count": 19,
     "metadata": {},
     "output_type": "execute_result"
    }
   ],
   "source": [
    "retriever = vector_store.as_retriever(search_type=\"mmr\", search_kwargs={\"k\": 5})\n",
    "retriever.invoke(\"What is chocolate?\")\n"
   ]
  },
  {
   "cell_type": "markdown",
   "metadata": {},
   "source": []
  },
  {
   "cell_type": "markdown",
   "metadata": {},
   "source": []
  }
 ],
 "metadata": {
  "kernelspec": {
   "display_name": "proyecto_aplicado_rag",
   "language": "python",
   "name": "python3"
  },
  "language_info": {
   "codemirror_mode": {
    "name": "ipython",
    "version": 3
   },
   "file_extension": ".py",
   "mimetype": "text/x-python",
   "name": "python",
   "nbconvert_exporter": "python",
   "pygments_lexer": "ipython3",
   "version": "3.11.10"
  }
 },
 "nbformat": 4,
 "nbformat_minor": 2
}
