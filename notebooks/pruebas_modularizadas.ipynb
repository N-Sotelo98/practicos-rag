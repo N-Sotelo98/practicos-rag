{
 "cells": [
  {
   "cell_type": "code",
   "execution_count": 1,
   "metadata": {},
   "outputs": [
    {
     "name": "stdout",
     "output_type": "stream",
     "text": [
      "'src' agregado a sys.path: g:\\Mi unidad\\EnorChile\\GIT\\practicos-rag\\src\n"
     ]
    }
   ],
   "source": [
    "# ------------------------------------------------------------\n",
    "# Configuración Inicial del Entorno\n",
    "# ------------------------------------------------------------\n",
    "import sys\n",
    "import os\n",
    "import pprint\n",
    "import torch\n",
    "import pandas as pd\n",
    "\n",
    "# Ruta base del proyecto (sube un nivel desde el directorio actual)\n",
    "BASE_DIR = os.path.abspath(os.path.join(os.getcwd(), \"..\"))\n",
    "SRC_PATH = os.path.join(BASE_DIR, \"src\")\n",
    "\n",
    "# Verificar si `src` está en sys.path, si no, agregarlo\n",
    "if SRC_PATH not in sys.path:\n",
    "    sys.path.append(SRC_PATH)\n",
    "    print(f\"'src' agregado a sys.path: {SRC_PATH}\")\n",
    "\n",
    "# Verificar que la carpeta `loaders` exista dentro de `src`\n",
    "loaders_path = os.path.join(SRC_PATH, \"loaders\")\n",
    "if not os.path.exists(loaders_path):\n",
    "    raise FileNotFoundError(f\"No se encontró la carpeta 'loaders' en {SRC_PATH}. Verifica la estructura del proyecto.\")"
   ]
  },
  {
   "cell_type": "code",
   "execution_count": 2,
   "metadata": {},
   "outputs": [
    {
     "name": "stdout",
     "output_type": "stream",
     "text": [
      "Módulos importados correctamente.\n"
     ]
    }
   ],
   "source": [
    "# ------------------------------------------------------------\n",
    "# Importar módulos necesarios\n",
    "# ------------------------------------------------------------\n",
    "try:\n",
    "    from loaders.pdf_processor import process_pdf_directly\n",
    "    from loaders.table_review import process_and_review_tables\n",
    "    from loaders.pdf_inspector import inspect_pdf_content\n",
    "    print(\"Módulos importados correctamente.\")\n",
    "except ModuleNotFoundError as e:\n",
    "    print(f\"Error al importar módulos: {e}\")\n",
    "    print(\"--- Rutas actuales en sys.path ---\")\n",
    "    for path in sys.path:\n",
    "        print(path)\n",
    "    raise"
   ]
  },
  {
   "cell_type": "code",
   "execution_count": 3,
   "metadata": {},
   "outputs": [
    {
     "name": "stderr",
     "output_type": "stream",
     "text": [
      "c:\\Users\\gigle\\anaconda3\\envs\\mia\\Lib\\site-packages\\transformers\\tokenization_utils_base.py:1617: FutureWarning: `clean_up_tokenization_spaces` was not set. It will be set to `True` by default. This behavior will be deprecated in transformers v4.45, and will be then set to `False` by default. For more details check this issue: https://github.com/huggingface/transformers/issues/31884\n",
      "  warnings.warn(\n"
     ]
    },
    {
     "name": "stdout",
     "output_type": "stream",
     "text": [
      "Importaciones manuales de `retrievers` completadas.\n"
     ]
    }
   ],
   "source": [
    "import importlib.util\n",
    "\n",
    "# Cargar el módulo `reranking` manualmente\n",
    "reranking_path = os.path.join(SRC_PATH, \"retrievers\", \"reranking.py\")\n",
    "spec = importlib.util.spec_from_file_location(\"retrievers.reranking\", reranking_path)\n",
    "reranking = importlib.util.module_from_spec(spec)\n",
    "spec.loader.exec_module(reranking)\n",
    "\n",
    "# Cargar el módulo `hybrid_search` manualmente\n",
    "hybrid_search_path = os.path.join(SRC_PATH, \"retrievers\", \"hybrid_search.py\")\n",
    "spec = importlib.util.spec_from_file_location(\"retrievers.hybrid_search\", hybrid_search_path)\n",
    "hybrid_search = importlib.util.module_from_spec(spec)\n",
    "spec.loader.exec_module(hybrid_search)\n",
    "\n",
    "# Asignar funciones y modelos a variables\n",
    "embedding_model = reranking.embedding_model\n",
    "generate_keywords_with_t5 = reranking.generate_keywords_with_t5\n",
    "expand_keywords_with_similarity = reranking.expand_keywords_with_similarity\n",
    "hybrid_reranking = hybrid_search.hybrid_reranking\n",
    "\n",
    "print(\"Importaciones manuales de `retrievers` completadas.\")"
   ]
  },
  {
   "cell_type": "code",
   "execution_count": 4,
   "metadata": {},
   "outputs": [
    {
     "name": "stdout",
     "output_type": "stream",
     "text": [
      "Conectando a Qdrant...\n",
      "Conexión a Qdrant establecida con éxito.\n"
     ]
    }
   ],
   "source": [
    "# ------------------------------------------------------------\n",
    "# Conectar a Qdrant\n",
    "# ------------------------------------------------------------\n",
    "from dotenv import load_dotenv\n",
    "import os\n",
    "from qdrant_client import QdrantClient\n",
    "\n",
    "# Cargar las variables de entorno desde el archivo .env\n",
    "load_dotenv()\n",
    "\n",
    "# Leer las variables desde .env\n",
    "QDRANT_URL = os.getenv(\"QDRANT_URL\")\n",
    "QDRANT_API_KEY = os.getenv(\"QDRANT_API_KEY\")\n",
    "INDEX_NAME = \"embeddings-version-2\"\n",
    "\n",
    "# Validar que las variables se cargaron correctamente\n",
    "if not QDRANT_URL or not QDRANT_API_KEY:\n",
    "    raise ValueError(\"Las variables QDRANT_URL o QDRANT_API_KEY no están configuradas correctamente en el archivo .env\")\n",
    "\n",
    "print(\"Conectando a Qdrant...\")\n",
    "qdrant_client = QdrantClient(url=QDRANT_URL, api_key=QDRANT_API_KEY)\n",
    "print(\"Conexión a Qdrant establecida con éxito.\")"
   ]
  },
  {
   "cell_type": "markdown",
   "metadata": {},
   "source": [
    "# Preprocessing"
   ]
  },
  {
   "cell_type": "code",
   "execution_count": null,
   "metadata": {},
   "outputs": [],
   "source": [
    "# ------------------------------------------------------------\n",
    "# Configurar las rutas de trabajo y mostrar detalles de los PDFs\n",
    "# ------------------------------------------------------------\n",
    "import pdfplumber\n",
    "\n",
    "print(\"\\n--- Configurando las rutas de trabajo ---\")\n",
    "CAPITULOS_DIR = os.path.join(BASE_DIR, \"data/capitulos\")\n",
    "if not os.path.exists(CAPITULOS_DIR):\n",
    "    raise FileNotFoundError(f\"No se encontró el directorio 'data/capitulos' en {BASE_DIR}.\")\n",
    "\n",
    "# Obtener todos los PDFs en el directorio\n",
    "pdf_paths = [\n",
    "    os.path.join(CAPITULOS_DIR, file)\n",
    "    for file in os.listdir(CAPITULOS_DIR)\n",
    "    if file.endswith(\".pdf\")\n",
    "]\n",
    "\n",
    "# Mostrar resumen inicial de los archivos PDF y su cantidad de páginas\n",
    "print(f\"\\n--- {len(pdf_paths)} PDFs encontrados en '{CAPITULOS_DIR}' ---\")\n",
    "for idx, pdf_path in enumerate(pdf_paths, start=1):\n",
    "    try:\n",
    "        with pdfplumber.open(pdf_path) as pdf:\n",
    "            page_count = len(pdf.pages)\n",
    "            print(f\"{idx}. {os.path.basename(pdf_path)} - {page_count} páginas\")\n",
    "    except Exception as e:\n",
    "        print(f\"{idx}. {os.path.basename(pdf_path)} - Error al contar páginas: {e}\")"
   ]
  },
  {
   "cell_type": "code",
   "execution_count": null,
   "metadata": {},
   "outputs": [],
   "source": [
    "# ------------------------------------------------------------\n",
    "# Procesar PDFs directamente\n",
    "# ------------------------------------------------------------\n",
    "print(\"\\n--- Procesando TODOS los PDFs en el directorio ---\")\n",
    "results = process_pdf_directly(pdf_paths)\n",
    "\n",
    "# Mostrar resultados del procesamiento\n",
    "print(\"\\n--- Resumen del procesamiento ---\")\n",
    "for pdf, data in results.items():\n",
    "    print(f\"{os.path.basename(pdf)}: {data['total_paginas']} páginas, {data['total_bloques']} bloques de texto, {data['total_tablas']} tablas.\")"
   ]
  },
  {
   "cell_type": "code",
   "execution_count": null,
   "metadata": {},
   "outputs": [],
   "source": [
    "# ------------------------------------------------------------\n",
    "# Revisar tablas en documentos seleccionados y limitar cantidad\n",
    "# ------------------------------------------------------------\n",
    "\n",
    "# Lista de documentos a revisar y el número máximo de tablas por documento\n",
    "documents_to_review = {\n",
    "    \"capitulo7.pdf\": 3,  # Revisar hasta 3 tablas del documento capitulo7.pdf\n",
    "    \"capitulo14.pdf\": 3,  # Revisar hasta 3 tablas del documento capitulo14.pdf\n",
    "    \"capitulo19.pdf\": 3,  # Revisar hasta 3 tablas del documento capitulo19.pdf\n",
    "    \"capitulo22.pdf\": 2,  # Revisar hasta 2 tablas del documento capitulo22.pdf\n",
    "}\n",
    "\n",
    "print(\"\\n--- Revisando tablas en los documentos seleccionados ---\")\n",
    "\n",
    "# Iterar sobre cada documento y su límite de tablas\n",
    "for pdf_name, max_tables in documents_to_review.items():\n",
    "    # Construir la ruta completa del documento\n",
    "    pdf_file = os.path.join(CAPITULOS_DIR, pdf_name)\n",
    "    \n",
    "    # Verificar si el archivo existe\n",
    "    if not os.path.exists(pdf_file):\n",
    "        print(f\"Archivo no encontrado: {pdf_name}, saltando...\")\n",
    "        continue\n",
    "\n",
    "    print(f\"\\nRevisando tablas en {pdf_name} (límite: {max_tables} tablas)\")\n",
    "\n",
    "    try:\n",
    "        # Llamar a la función con el límite de tablas especificado\n",
    "        tables = process_and_review_tables(pdf_file, max_tables=max_tables)\n",
    "        \n",
    "        # Mostrar el resultado del procesamiento\n",
    "        print(f\"Se procesaron {len(tables)} tablas en {pdf_name} (límite era {max_tables})\")\n",
    "    except Exception as e:\n",
    "        # Capturar y mostrar cualquier error\n",
    "        print(f\"Error al procesar {pdf_name}: {e}\")\n",
    "    \n",
    "    print(\"\\n\" + \"=\"*80 + \"\\n\")"
   ]
  },
  {
   "cell_type": "code",
   "execution_count": null,
   "metadata": {},
   "outputs": [],
   "source": [
    "# ------------------------------------------------------------\n",
    "# Inspeccionar contenido de los PDFs con un límite de caracteres\n",
    "# ------------------------------------------------------------\n",
    "print(\"\\n--- Inspeccionando contenido de los PDFs con límite de caracteres ---\")\n",
    "inspect_pdf_content(CAPITULOS_DIR, pdf_paths, num_pages_limit=5, char_limit=500)"
   ]
  },
  {
   "cell_type": "code",
   "execution_count": null,
   "metadata": {},
   "outputs": [],
   "source": [
    "from loaders.metadata_processor import process_pdfs_with_validated_metadata\n",
    "\n",
    "# ------------------------------------------------------------\n",
    "# Procesar los PDFs y generar datos enriquecidos\n",
    "# ------------------------------------------------------------\n",
    "print(\"\\n--- Procesando PDFs y generando datos enriquecidos ---\")\n",
    "data_enriched = process_pdfs_with_validated_metadata(pdf_paths, verbose=False)"
   ]
  },
  {
   "cell_type": "code",
   "execution_count": null,
   "metadata": {},
   "outputs": [],
   "source": [
    "# ------------------------------------------------------------\n",
    "# Mostrar Resumen Global\n",
    "# ------------------------------------------------------------\n",
    "def mostrar_resumen_global(data_enriched, max_pdfs=5):\n",
    "    \"\"\"\n",
    "    Muestra un resumen global del procesamiento de PDFs.\n",
    "\n",
    "    Args:\n",
    "        data_enriched (dict): Datos procesados enriquecidos.\n",
    "        max_pdfs (int): Número máximo de PDFs a mostrar en el resumen.\n",
    "    \"\"\"\n",
    "    print(\"\\n--- Resumen Global del Procesamiento ---\")\n",
    "    for idx, (pdf_path, pdf_data) in enumerate(data_enriched.items(), start=1):\n",
    "        total_paginas = len(pdf_data.get('paginas', []))\n",
    "        total_capitulos = sum(\n",
    "            1 for p in pdf_data['paginas'] for c in p['contenido']\n",
    "            if c['tipo'] == 'texto' and 'CAPÍTULO' in c['texto']\n",
    "        )\n",
    "        total_tablas = sum(\n",
    "            1 for p in pdf_data['paginas'] for c in p['contenido']\n",
    "            if c['tipo'] == 'tabla'\n",
    "        )\n",
    "\n",
    "        print(f\"\\nArchivo {idx}: {os.path.basename(pdf_path)}\")\n",
    "        print(f\"  Total de páginas procesadas: {total_paginas}\")\n",
    "        print(f\"  Total de capítulos detectados: {total_capitulos}\")\n",
    "        print(f\"  Total de tablas detectadas: {total_tablas}\")\n",
    "\n",
    "        if idx >= max_pdfs:\n",
    "            print(\"... (se han procesado más archivos, pero se limitan los resultados mostrados)\")\n",
    "            break\n",
    "\n",
    "\n",
    "# Llama a la función con un límite de 5 PDFs para mostrar\n",
    "mostrar_resumen_global(data_enriched, max_pdfs=5)"
   ]
  },
  {
   "cell_type": "code",
   "execution_count": null,
   "metadata": {},
   "outputs": [],
   "source": [
    "from loaders.metadata_verification import verificar_metadatos_guardados\n",
    "\n",
    "# ------------------------------------------------------------\n",
    "# Verificar metadatos guardados con límites\n",
    "# ------------------------------------------------------------\n",
    "print(\"\\n--- Verificando Metadatos Guardados ---\")\n",
    "verificar_metadatos_guardados(data_enriched, max_files=3, max_pages=2, max_blocks=5)"
   ]
  },
  {
   "cell_type": "code",
   "execution_count": null,
   "metadata": {},
   "outputs": [],
   "source": [
    "# ------------------------------------------------------------\n",
    "# Importar módulos necesarios\n",
    "# ------------------------------------------------------------\n",
    "from loaders.review_tools import revisar_estructuras_generadas, revisar_paginas_especificas\n",
    "\n",
    "# ------------------------------------------------------------\n",
    "# Revisar ejemplos de estructuras generadas\n",
    "# ------------------------------------------------------------\n",
    "print(\"\\n--- Revisando ejemplos de estructuras generadas ---\")\n",
    "revisar_estructuras_generadas(data_enriched, num_ejemplos=3)"
   ]
  },
  {
   "cell_type": "code",
   "execution_count": null,
   "metadata": {},
   "outputs": [],
   "source": [
    "# ------------------------------------------------------------\n",
    "# Revisar páginas específicas\n",
    "# ------------------------------------------------------------\n",
    "print(\"\\n--- Revisando páginas específicas del archivo seleccionado ---\")\n",
    "revisar_paginas_especificas(data_enriched, \"capitulo13\", paginas_deseadas=list(range(6, 11)))"
   ]
  },
  {
   "cell_type": "markdown",
   "metadata": {},
   "source": [
    "# Chunking"
   ]
  },
  {
   "cell_type": "code",
   "execution_count": 13,
   "metadata": {},
   "outputs": [],
   "source": [
    "# ------------------------------------------------------------\n",
    "# Importar módulos necesarios\n",
    "# ------------------------------------------------------------\n",
    "from chunking.separated_chunker import chunk_documents_separately\n",
    "from chunking.chunk_verifier import verificar_chunks_narrativos_completos, verificar_chunks_tablas_completos\n",
    "from chunking.chunk_analysis import analizar_chunks_narrativos, analizar_chunks_tablas, calcular_estadisticas_chunks_por_capitulo"
   ]
  },
  {
   "cell_type": "code",
   "execution_count": null,
   "metadata": {},
   "outputs": [],
   "source": [
    "# ------------------------------------------------------------\n",
    "# Validación de Datos Enriquecidos\n",
    "# ------------------------------------------------------------\n",
    "print(\"\\n--- Verificando Datos Enriquecidos ---\")\n",
    "print(f\"Total de archivos procesados: {len(data_enriched)}\")\n",
    "for archivo, contenido in data_enriched.items():\n",
    "    print(f\"Archivo: {archivo}, Total de páginas: {len(contenido['paginas'])}\")"
   ]
  },
  {
   "cell_type": "code",
   "execution_count": null,
   "metadata": {},
   "outputs": [],
   "source": [
    "# ------------------------------------------------------------\n",
    "# Generar Chunks Separados\n",
    "# ------------------------------------------------------------\n",
    "print(\"\\n--- Generando Chunks Narrativos y de Tablas ---\")\n",
    "chunks_narrativos, chunks_tablas = chunk_documents_separately(data_enriched, chunk_size=3000)\n",
    "\n",
    "# Verificar resultados\n",
    "print(f\"Total de chunks narrativos: {len(chunks_narrativos)}\")\n",
    "print(f\"Total de chunks de tablas: {len(chunks_tablas)}\")"
   ]
  },
  {
   "cell_type": "code",
   "execution_count": null,
   "metadata": {},
   "outputs": [],
   "source": [
    "# ------------------------------------------------------------\n",
    "# Verificar Ejemplos de Chunks\n",
    "# ------------------------------------------------------------\n",
    "verificar_chunks_narrativos_completos(chunks_narrativos, num_chunks=3)\n",
    "verificar_chunks_tablas_completos(chunks_tablas, num_chunks=3)"
   ]
  },
  {
   "cell_type": "code",
   "execution_count": null,
   "metadata": {},
   "outputs": [],
   "source": [
    "# ------------------------------------------------------------\n",
    "# Analizar Estadísticas Generales de los Chunks\n",
    "# ------------------------------------------------------------\n",
    "print(\"\\n--- Analizando Estadísticas de los Chunks Narrativos ---\")\n",
    "estadisticas_narrativos = analizar_chunks_narrativos(chunks_narrativos)\n",
    "print(f\"  Total de chunks: {estadisticas_narrativos['total_chunks']}\")\n",
    "print(f\"  Total de caracteres: {estadisticas_narrativos['total_caracteres']}\")\n",
    "print(f\"  Promedio de caracteres por chunk: {estadisticas_narrativos['promedio_caracteres']:.2f}\")\n",
    "\n",
    "print(\"\\n--- Analizando Estadísticas de los Chunks de Tablas ---\")\n",
    "estadisticas_tablas = analizar_chunks_tablas(chunks_tablas)\n",
    "print(f\"  Total de chunks de tablas: {estadisticas_tablas['total_chunks']}\")\n",
    "print(f\"  Total de filas: {estadisticas_tablas['total_filas']}\")\n",
    "print(f\"  Promedio de filas por tabla: {estadisticas_tablas['promedio_filas']:.2f}\")\n",
    "print(f\"  Promedio de columnas por tabla: {estadisticas_tablas['promedio_columnas']:.2f}\")"
   ]
  },
  {
   "cell_type": "code",
   "execution_count": null,
   "metadata": {},
   "outputs": [],
   "source": [
    "import matplotlib.pyplot as plt\n",
    "\n",
    "# ------------------------------------------------------------\n",
    "# Histograma para Chunks Narrativos (Tamaño en Caracteres)\n",
    "# ------------------------------------------------------------\n",
    "def generar_histograma_narrativos(chunks_narrativos):\n",
    "    tamaños = [len(chunk[\"texto\"]) for chunk in chunks_narrativos]\n",
    "\n",
    "    plt.figure(figsize=(10, 6))\n",
    "    plt.hist(tamaños, bins=30, edgecolor='black', alpha=0.7)\n",
    "    plt.title(\"Distribución del Tamaño de Chunks Narrativos\")\n",
    "    plt.xlabel(\"Tamaño del Chunk (caracteres)\")\n",
    "    plt.ylabel(\"Cantidad de Chunks\")\n",
    "    plt.grid(axis='y', linestyle='--', alpha=0.7)\n",
    "    plt.show()\n",
    "\n",
    "# ------------------------------------------------------------\n",
    "# Histograma para Chunks de Tablas (Filas y Columnas)\n",
    "# ------------------------------------------------------------\n",
    "def generar_histograma_tablas(chunks_tablas):\n",
    "    filas = [chunk[\"metadatos\"][\"filas\"] for chunk in chunks_tablas]\n",
    "    columnas = [chunk[\"metadatos\"][\"columnas\"] for chunk in chunks_tablas]\n",
    "\n",
    "    # Histograma de Filas\n",
    "    plt.figure(figsize=(10, 6))\n",
    "    plt.hist(filas, bins=20, color='orange', edgecolor='black', alpha=0.7)\n",
    "    plt.title(\"Distribución del Número de Filas en Tablas\")\n",
    "    plt.xlabel(\"Cantidad de Filas por Tabla\")\n",
    "    plt.ylabel(\"Cantidad de Tablas\")\n",
    "    plt.grid(axis='y', linestyle='--', alpha=0.7)\n",
    "    plt.show()\n",
    "\n",
    "    # Histograma de Columnas\n",
    "    plt.figure(figsize=(10, 6))\n",
    "    plt.hist(columnas, bins=20, color='green', edgecolor='black', alpha=0.7)\n",
    "    plt.title(\"Distribución del Número de Columnas en Tablas\")\n",
    "    plt.xlabel(\"Cantidad de Columnas por Tabla\")\n",
    "    plt.ylabel(\"Cantidad de Tablas\")\n",
    "    plt.grid(axis='y', linestyle='--', alpha=0.7)\n",
    "    plt.show()\n",
    "\n",
    "# ------------------------------------------------------------\n",
    "# Generar Histogramas\n",
    "# ------------------------------------------------------------\n",
    "print(\"\\n--- Generando Histogramas para Chunks Narrativos ---\")\n",
    "generar_histograma_narrativos(chunks_narrativos)\n",
    "\n",
    "print(\"\\n--- Generando Histogramas para Chunks de Tablas ---\")\n",
    "generar_histograma_tablas(chunks_tablas)"
   ]
  },
  {
   "cell_type": "markdown",
   "metadata": {},
   "source": [
    "# Embeddings"
   ]
  },
  {
   "cell_type": "code",
   "execution_count": null,
   "metadata": {},
   "outputs": [],
   "source": [
    "# Importar dependencias\n",
    "from embedding.embedding_v2 import generate_embeddings_v2\n",
    "from vector_store_client.vector_store_client_v2 import insert_embeddings_v2\n",
    "from qdrant_client import QdrantClient\n",
    "from tqdm import tqdm"
   ]
  },
  {
   "cell_type": "code",
   "execution_count": null,
   "metadata": {},
   "outputs": [],
   "source": [
    "# ------------------------------------------------------------\n",
    "# Preparar los Chunks para Generar Embeddings\n",
    "# ------------------------------------------------------------\n",
    "# Combinar todos los chunks narrativos y de tablas en un solo formato estándar\n",
    "all_chunks = []\n",
    "\n",
    "for chunk in chunks_narrativos:\n",
    "    all_chunks.append({\n",
    "        \"type\": \"narrative\",\n",
    "        \"content\": chunk[\"texto\"],\n",
    "        \"metadata\": chunk[\"metadatos\"]\n",
    "    })\n",
    "\n",
    "for chunk in chunks_tablas:\n",
    "    tabla_contenido = \"\\n\".join([\"\\t\".join(map(str, row)) for row in chunk[\"tabla\"]])\n",
    "    all_chunks.append({\n",
    "        \"type\": \"table\",\n",
    "        \"content\": tabla_contenido,\n",
    "        \"metadata\": chunk[\"metadatos\"]\n",
    "    })\n",
    "\n",
    "print(f\"Total de chunks preparados para embeddings: {len(all_chunks)}\")"
   ]
  },
  {
   "cell_type": "code",
   "execution_count": null,
   "metadata": {},
   "outputs": [],
   "source": [
    "# ------------------------------------------------------------\n",
    "# Generar Embeddings y Metadatos\n",
    "# ------------------------------------------------------------\n",
    "from embedding.embedding_v2 import generate_embeddings_v2\n",
    "\n",
    "all_embeddings = generate_embeddings_v2(all_chunks)\n",
    "print(f\"Total de embeddings generados: {len(all_embeddings)}\")"
   ]
  },
  {
   "cell_type": "code",
   "execution_count": null,
   "metadata": {},
   "outputs": [],
   "source": [
    "# Separar embeddings y metadatos en listas separadas\n",
    "embeddings_list = []\n",
    "metadata_list = []\n",
    "\n",
    "# Generar embeddings y metadatos con validaciones\n",
    "for idx, entry in enumerate(all_embeddings):\n",
    "    try:\n",
    "        # Validar estructura esperada\n",
    "        if \"vector\" in entry and \"default\" in entry[\"vector\"]:\n",
    "            embedding = entry[\"vector\"][\"default\"]\n",
    "        else:\n",
    "            raise KeyError(f\"Claves faltantes en vector en índice {idx}: {entry}\")\n",
    "\n",
    "        if \"payload\" in entry:\n",
    "            payload = entry[\"payload\"]\n",
    "        else:\n",
    "            raise KeyError(f\"Clave 'payload' faltante en índice {idx}: {entry}\")\n",
    "\n",
    "        # Validar longitud del embedding\n",
    "        if len(embedding) != 384:\n",
    "            raise ValueError(f\"Embedding en índice {idx} tiene tamaño incorrecto: {len(embedding)}\")\n",
    "\n",
    "        # Agregar a las listas\n",
    "        embeddings_list.append(embedding)\n",
    "        metadata_list.append(payload)\n",
    "    except KeyError as e:\n",
    "        print(f\"Error procesando embedding en el índice {idx}: {e}\")\n",
    "    except Exception as e:\n",
    "        print(f\"Error inesperado en el índice {idx}: {e}\")\n",
    "\n",
    "# Validar resultados\n",
    "print(f\"Total embeddings después del bucle: {len(embeddings_list)}\")\n",
    "print(f\"Ejemplo de embedding: {embeddings_list[0] if embeddings_list else 'Ninguno'}\")\n",
    "print(f\"Total metadatos después del bucle: {len(metadata_list)}\")\n",
    "print(f\"Ejemplo de metadata: {metadata_list[0] if metadata_list else 'Ninguno'}\")"
   ]
  },
  {
   "cell_type": "code",
   "execution_count": null,
   "metadata": {},
   "outputs": [],
   "source": [
    "print(f\"embeddings_list: {len(embeddings_list) if embeddings_list else 'None'}\")\n",
    "print(f\"metadata_list: {len(metadata_list) if metadata_list else 'None'}\")"
   ]
  },
  {
   "cell_type": "code",
   "execution_count": 24,
   "metadata": {},
   "outputs": [],
   "source": [
    "if any(len(embedding) != 384 for embedding in embeddings_list):\n",
    "    print(\"Error: Algunos embeddings no tienen la dimensión adecuada.\")\n",
    "\n",
    "if any(not isinstance(metadata, dict) for metadata in metadata_list):\n",
    "    print(\"Error: Algunos metadatos no tienen el formato adecuado.\")"
   ]
  },
  {
   "cell_type": "code",
   "execution_count": null,
   "metadata": {},
   "outputs": [],
   "source": [
    "print(\"Ejemplo de embedding:\", embeddings_list[0])\n",
    "print(\"Ejemplo de metadato:\", metadata_list[0])"
   ]
  },
  {
   "cell_type": "code",
   "execution_count": null,
   "metadata": {},
   "outputs": [],
   "source": []
  },
  {
   "cell_type": "code",
   "execution_count": null,
   "metadata": {},
   "outputs": [],
   "source": [
    "# Verificar detalles de la colección\n",
    "collection_info = qdrant_client.get_collection(INDEX_NAME)\n",
    "print(collection_info)"
   ]
  },
  {
   "cell_type": "code",
   "execution_count": null,
   "metadata": {},
   "outputs": [],
   "source": [
    "for idx, (embedding, metadata) in enumerate(zip(embeddings_list, metadata_list)):\n",
    "    point = {\n",
    "        \"id\": idx,\n",
    "        \"vector\": {\"default\": embedding},  # Clave 'default' requerida por Qdrant\n",
    "        \"payload\": metadata\n",
    "    }\n",
    "    print(f\"Punto {idx}: {point}\")\n",
    "    if idx == 0:  # Ver solo el primer punto para simplificar\n",
    "        break"
   ]
  },
  {
   "cell_type": "code",
   "execution_count": null,
   "metadata": {},
   "outputs": [],
   "source": [
    "test_point = {\n",
    "    \"id\": 1,\n",
    "    \"vector\": {\"default\": embeddings_list[0]},  # Embedding bajo el nombre 'default'\n",
    "    \"payload\": metadata_list[0]\n",
    "}\n",
    "\n",
    "response = qdrant_client.upsert(\n",
    "    collection_name=\"embeddings-version-2\",  # Nombre correcto de la colección\n",
    "    points=[test_point]\n",
    ")\n",
    "\n",
    "print(\"Respuesta de inserción manual:\", response)"
   ]
  },
  {
   "cell_type": "code",
   "execution_count": null,
   "metadata": {},
   "outputs": [],
   "source": [
    "print(type(embeddings_list[0]))\n",
    "print(len(embeddings_list[0]))"
   ]
  },
  {
   "cell_type": "code",
   "execution_count": null,
   "metadata": {},
   "outputs": [],
   "source": [
    "batch = [\n",
    "    {\n",
    "        \"id\": i,\n",
    "        \"vector\": {\"default\": embeddings_list[i]},\n",
    "        \"payload\": metadata_list[i]\n",
    "    }\n",
    "    for i in range(10)  # Prueba con los primeros 10 puntos\n",
    "]\n",
    "\n",
    "response = qdrant_client.upsert(\n",
    "    collection_name=\"embeddings-version-2\",\n",
    "    points=batch\n",
    ")\n",
    "print(\"Respuesta de inserción de lote pequeño:\", response)"
   ]
  },
  {
   "cell_type": "code",
   "execution_count": null,
   "metadata": {},
   "outputs": [],
   "source": [
    "# Verificar datos antes de insertar\n",
    "if embeddings_list and metadata_list:\n",
    "    print(f\"Ejemplo de embedding: {embeddings_list[0][:5]}... (Tamaño: {len(embeddings_list[0])})\")\n",
    "    print(f\"Ejemplo de payload: {metadata_list[0]}\")\n",
    "\n",
    "    print(f\"Insertando {len(embeddings_list)} embeddings en la colección 'embeddings-version-2' en lotes de 100...\")\n",
    "    insert_embeddings_v2(\n",
    "        client=qdrant_client,\n",
    "        index_name=\"embeddings-version-2\",\n",
    "        embeddings=embeddings_list,\n",
    "        metadata_list=metadata_list,\n",
    "        batch_size=100\n",
    "    )\n",
    "    print(\"Embeddings generados e insertados en Qdrant con éxito.\")\n",
    "else:\n",
    "    print(\"No hay embeddings o metadatos para insertar.\")"
   ]
  },
  {
   "cell_type": "code",
   "execution_count": null,
   "metadata": {},
   "outputs": [],
   "source": [
    "# ------------------------------------------------------------\n",
    "# Validar Resultados\n",
    "# ------------------------------------------------------------\n",
    "print(\"\\n--- Validación de Embeddings ---\")\n",
    "if all_embeddings:\n",
    "    num_valid_embeddings = len(embeddings_list)\n",
    "    print(f\"Embeddings válidos: {num_valid_embeddings}/{len(all_chunks)}\")\n",
    "    print(\"Ejemplo de embedding:\")\n",
    "    print(f\"Tipo: {metadata_list[0]['type']}\")\n",
    "    print(f\"Contenido: {metadata_list[0]['content'][:100]}...\")\n",
    "    print(f\"Embedding: {embeddings_list[0][:5]}...\")  # Mostrar primeros valores\n",
    "else:\n",
    "    print(\"No se generaron embeddings.\")"
   ]
  },
  {
   "cell_type": "markdown",
   "metadata": {},
   "source": [
    "# Retrieval"
   ]
  },
  {
   "cell_type": "code",
   "execution_count": 5,
   "metadata": {},
   "outputs": [
    {
     "name": "stdout",
     "output_type": "stream",
     "text": [
      "Modelo 'all-MiniLM-L6-v2' cargado correctamente.\n",
      "Cargando el módulo 'embedding'\n",
      "Modelo 'all-MiniLM-L6-v2' cargado correctamente.\n",
      "Generando embeddings con OpenAI para 1 chunks...\n"
     ]
    },
    {
     "name": "stderr",
     "output_type": "stream",
     "text": [
      "Generando embeddings: 100%|██████████| 1/1 [00:00<00:00,  3.13chunk/s]\n"
     ]
    },
    {
     "name": "stdout",
     "output_type": "stream",
     "text": [
      "Total de embeddings generados con OpenAI: 1\n"
     ]
    }
   ],
   "source": [
    "from embedding.embedding_v2 import generate_query_embedding,generate_query_embedding_openai\n",
    "from vector_store_client.vector_store_search import search_embeddings, format_search_results\n",
    "from vector_store_client.vector_store_client import search_qdrant\n",
    "\n",
    "# ------------------------------------------------------------\n",
    "# Definir la consulta y generar su embedding\n",
    "# ------------------------------------------------------------\n",
    "\n",
    "def embed_and_search(query, coleccion, limit=5, embedding=\"qdrant\"):\n",
    "    # Generar embedding para la consulta\n",
    "    try:\n",
    "        if embedding == \"openai\":\n",
    "            query_embedding = generate_query_embedding_openai(query)\n",
    "            if not isinstance(query_embedding, list) or len(query_embedding) != 1536:\n",
    "                raise ValueError(\"El embedding de la consulta no tiene el formato esperado (lista con 1536 dimensiones).\")\n",
    "        elif embedding == \"qdrant\":\n",
    "            query_embedding = generate_query_embedding(query)\n",
    "            if not isinstance(query_embedding, list) or len(query_embedding) != 384:\n",
    "                raise ValueError(\"El embedding de la consulta no tiene el formato esperado (lista con 384 dimensiones).\")\n",
    "        else:\n",
    "            raise(\"Select embeeding openai or qdrant\")\n",
    "\n",
    "        # Validar el formato del embedding generado\n",
    "        \n",
    "    except Exception as e:\n",
    "        print(f\"Error al generar el embedding de la consulta: {e}\")\n",
    "        raise\n",
    "\n",
    "    # ------------------------------------------------------------\n",
    "    # Realizar la búsqueda en Qdrant\n",
    "    # ------------------------------------------------------------\n",
    "    index_name = coleccion  # Nombre de la colección en Qdrant\n",
    "\n",
    "    try:\n",
    "        results = search_qdrant(qdrant_client, index_name, query_embedding, limit=limit)\n",
    "    except Exception as e:\n",
    "        print(f\"Error al realizar la búsqueda en Qdrant: {e}\")\n",
    "        results = []\n",
    "\n",
    "    return results\n",
    "    \n",
    "    \n",
    "query = \"¿Qué se entiende por cerveza?\"\n",
    "\n",
    "results = embed_and_search(query,\"openai-750-overlap\",limit=5, embedding=\"openai\")"
   ]
  },
  {
   "cell_type": "code",
   "execution_count": 6,
   "metadata": {},
   "outputs": [
    {
     "name": "stdout",
     "output_type": "stream",
     "text": [
      "CAPÍTULO XIII\n",
      "BEBIDAS FERMENTADAS\n",
      "CERVEZAS\n",
      "Artículo 1080 - (Resolución Conjunta SPRyRS N° 63/02 y SAGPyA N° 345/02)\n",
      "1. DESCRIPCIÓN\n",
      "1.1 DEFINICIONES\n",
      "1.1.1 Cerveza\n",
      "Se entiende exclusivamente por cerveza la bebida resultante de fermentar, mediante\n",
      "levadura cervecera, al mosto de cebada malteada o de extracto de malta, sometido\n",
      "previamente a un proceso de cocción, adicionado de lúpulo. Una parte de la cebada\n",
      "malteada o de extracto de malta podrá ser reemplazada por adjuntos cerveceros.\n",
      "La cerveza negra podrá ser azucarada.\n",
      "La cerveza podrá ser adicionada de colorantes, saborizantes y aromatizantes.\n",
      "1.1.2 Malta Líquida\n",
      "Se entiende por malta líquida la bebida no alcohólica, resultante del mosto de cebada\n",
      "---\n",
      "1.2.4.1 Cerveza\n",
      "Es la cerveza elaborada a partir de un mosto cuyo extracto primitivo contiene un\n",
      "mínimo de 55% en peso de cebada malteada.\n",
      "1.2.4.2 Cerveza 100% malta o de pura malta\n",
      "Es la cerveza elaborada a partir de un mosto cuyo extracto primitivo proviene\n",
      "exclusivamente de cebada malteada.\n",
      "1.2.4.3 Cerveza de ... (seguida del nombre del o de los cereales mayoritarios).\n",
      "Es la cerveza elaborada a partir de un mosto cuyo extracto primitivo proviene\n",
      "mayoritariamente de adjuntos cerveceros. Podrá tener hasta un 80% en peso de la\n",
      "totalidad de los adjuntos cerveceros referido a su extracto primitivo (no menos del\n",
      "20% en peso de malta). Cuando dos o más cereales aporten igual cantidad de extracto\n",
      "primitivo deben citarse todos ellos.\n",
      "---\n",
      "igual a 14,0% en peso.\n",
      "1.2.1.4 Cerveza Fuerte\n",
      "Es la cerveza cuyo extracto primitivo es mayor a 14.0% en peso.\n",
      "1.2.2 Respecto al grado alcohólico\n",
      "1.2.2.1 Cerveza sin alcohol\n",
      "Se entiende por cerveza sin alcohol a la cerveza cuyo contenido alcohólico es inferior o\n",
      "igual a 0,5% en volumen (0,5% vol.).\n",
      "1.2.2.2 Cerveza con alcohol o Cerveza\n",
      "Es la cerveza cuyo contenido alcohólico es superior a 0,5% en volumen (0,5% vol.)\n",
      "1.2.3 Respecto al color\n",
      "1.2.3.1 Cerveza clara, blanca, rubia o Cerveza\n",
      "Es la cerveza cuyo color es inferior a 20 unidades E.B.C. (European Brewery\n",
      "Convention).\n",
      "1.2.3.2 Cerveza oscura o Cerveza negra\n",
      "Es la cerveza cuyo color es igual o superior a 20 unidades E.B.C. (European Brewery\n",
      "Convention).\n",
      "1.2.4 Respecto a la proporción de materias primas.\n",
      "---\n",
      "1.3 Designación (denominación de venta)\n",
      "1.3.1. Cerveza\n",
      "Se designa con el nombre de cerveza a la bebida definida en el numeral 1.1.1. y que\n",
      "cumple con las características establecidas en los numerales 1.2.1.2., 1.2.2.2., 1.2.3.1\n",
      "y 1.2.4.1.\n",
      "1.3.2. Cerveza liviana y Cerveza Light.\n",
      "Se designa con el nombre de cerveza light a la cerveza que cumple con las\n",
      "características establecidas en el numeral 1.2.1.1.\n",
      "1.3.3. Cerveza extra\n",
      "Para designar una cerveza como cerveza extra la misma deberá cumplir con las\n",
      "características establecidas en el numeral 1.2.1.3.\n",
      "1.3.4. Cerveza fuerte.\n",
      "Para designar una cerveza como cerveza fuerte, la misma deberá cumplir con las\n",
      "características establecidas en el numeral 1.2.1.4.\n",
      "1.3.5. Cerveza sin alcohol.\n",
      "---\n",
      "Es la cerveza cuyo extracto primitivo es mayor o igual al 5% en peso y menor que\n",
      "10,5% en peso.\n",
      "Podrá denominarse \"light\", a la cerveza liviana cuando también cumpla con los\n",
      "requisitos a) y b)\n",
      "a. Reducción de 25% del contenido de nutrientes y/o del valor energético con relación\n",
      "a una cerveza similar del mismo fabricante (misma marca) o del valor medio del\n",
      "contenido de tres cervezas similares conocidas, que sean producidas en la región.\n",
      "b. Valor energético de la cerveza lista para el consumo: máximo de 35Kcal/100 ml.\n",
      "1.2.1.2 Cerveza\n",
      "Es la cerveza cuyo extracto primitivo es mayor o igual a 10,5% en peso, y es menor de\n",
      "12,0% en peso.\n",
      "1.2.1.3. Cerveza Extra\n",
      "Es la cerveza cuyo extracto primitivo es mayor o igual a 12,0% en peso y menor o\n"
     ]
    }
   ],
   "source": [
    "chunks_basic = [point.payload['content'] for point in results]\n",
    "print(\"\\n---\\n\".join(chunks_basic))"
   ]
  },
  {
   "cell_type": "code",
   "execution_count": 7,
   "metadata": {},
   "outputs": [
    {
     "name": "stdout",
     "output_type": "stream",
     "text": [
      "CAPÍTULO XIII\n",
      "BEBIDAS FERMENTADAS\n",
      "CERVEZAS\n",
      "Artículo 1080 - (Resolución Conjunta SPRyRS N° 63/02 y SAGPyA N° 345/02)\n",
      "1. DESCRIPCIÓN\n",
      "1.1 DEFINICIONES\n",
      "1.1.1 Cerveza\n",
      "Se entiende exclusivamente por cerveza la bebida resultante de fermentar, mediante\n",
      "levadura cervecera, al mosto de cebada malteada o de extracto de malta, sometido\n",
      "previamente a un proceso de cocción, adicionado de lúpulo. Una parte de la cebada\n",
      "malteada o de extracto de malta podrá ser reemplazada por adjuntos cerveceros.\n",
      "La cerveza negra podrá ser azucarada.\n",
      "La cerveza podrá ser adicionada de colorantes, saborizantes y aromatizantes.\n",
      "1.1.2 Malta Líquida\n",
      "Se entiende por malta líquida la bebida no alcohólica, resultante del mosto de cebada\n"
     ]
    }
   ],
   "source": [
    "print(results[0].payload['content'])"
   ]
  },
  {
   "cell_type": "code",
   "execution_count": 9,
   "metadata": {},
   "outputs": [
    {
     "data": {
      "text/html": [
       "<div>\n",
       "<style scoped>\n",
       "    .dataframe tbody tr th:only-of-type {\n",
       "        vertical-align: middle;\n",
       "    }\n",
       "\n",
       "    .dataframe tbody tr th {\n",
       "        vertical-align: top;\n",
       "    }\n",
       "\n",
       "    .dataframe thead th {\n",
       "        text-align: right;\n",
       "    }\n",
       "</style>\n",
       "<table border=\"1\" class=\"dataframe\">\n",
       "  <thead>\n",
       "    <tr style=\"text-align: right;\">\n",
       "      <th></th>\n",
       "      <th>query</th>\n",
       "      <th>ground_truth</th>\n",
       "      <th>capitulo</th>\n",
       "    </tr>\n",
       "  </thead>\n",
       "  <tbody>\n",
       "    <tr>\n",
       "      <th>0</th>\n",
       "      <td>¿Qué se entiende por cerveza?</td>\n",
       "      <td>Se entiende exclusivamente por cerveza la bebi...</td>\n",
       "      <td>13</td>\n",
       "    </tr>\n",
       "    <tr>\n",
       "      <th>1</th>\n",
       "      <td>¿Cómo se clasifican las cervezas?</td>\n",
       "      <td>El contenido de nutrientes y/o del valor energ...</td>\n",
       "      <td>13</td>\n",
       "    </tr>\n",
       "    <tr>\n",
       "      <th>2</th>\n",
       "      <td>¿Qué se define como sidra?</td>\n",
       "      <td>SIDRAS\\nArtículo 1085 - (Resolución Conjunta S...</td>\n",
       "      <td>13</td>\n",
       "    </tr>\n",
       "    <tr>\n",
       "      <th>3</th>\n",
       "      <td>¿Se pueden añadir aromas a los vinos?</td>\n",
       "      <td>Artículo 1105\\nQueda prohibido fabricar, expon...</td>\n",
       "      <td>13</td>\n",
       "    </tr>\n",
       "    <tr>\n",
       "      <th>4</th>\n",
       "      <td>¿Los condimentos vegetales tienen algunas rest...</td>\n",
       "      <td>CONDIMENTOS VEGETALES\\nArtículo 1199\\nCon la d...</td>\n",
       "      <td>16</td>\n",
       "    </tr>\n",
       "    <tr>\n",
       "      <th>5</th>\n",
       "      <td>¿Qué caracteristicas debe tener la harina de c...</td>\n",
       "      <td>“Con la denominación de Harina de Chía, se ent...</td>\n",
       "      <td>19</td>\n",
       "    </tr>\n",
       "    <tr>\n",
       "      <th>6</th>\n",
       "      <td>¿Quiénes deben cumplir con la regulación alime...</td>\n",
       "      <td>Artículo 1\\nToda persona, firma comercial o es...</td>\n",
       "      <td>1</td>\n",
       "    </tr>\n",
       "    <tr>\n",
       "      <th>7</th>\n",
       "      <td>¿Qué se define como aditivo alimentario?</td>\n",
       "      <td>Aditivo alime ntario: es cualquier ingrediente...</td>\n",
       "      <td>1</td>\n",
       "    </tr>\n",
       "    <tr>\n",
       "      <th>8</th>\n",
       "      <td>¿Cuáles son los límites de metales aceptados e...</td>\n",
       "      <td>Artículo 156 - (Res. 1546, 17.9.85)\\n\"En los a...</td>\n",
       "      <td>3</td>\n",
       "    </tr>\n",
       "    <tr>\n",
       "      <th>9</th>\n",
       "      <td>¿Qué antioxidantes o sinergistas pueden agrega...</td>\n",
       "      <td>Artículo 523bis - (Res 2012, 19.10.84)\\n\"Los a...</td>\n",
       "      <td>7</td>\n",
       "    </tr>\n",
       "  </tbody>\n",
       "</table>\n",
       "</div>"
      ],
      "text/plain": [
       "                                               query  \\\n",
       "0                      ¿Qué se entiende por cerveza?   \n",
       "1                  ¿Cómo se clasifican las cervezas?   \n",
       "2                         ¿Qué se define como sidra?   \n",
       "3              ¿Se pueden añadir aromas a los vinos?   \n",
       "4  ¿Los condimentos vegetales tienen algunas rest...   \n",
       "5  ¿Qué caracteristicas debe tener la harina de c...   \n",
       "6  ¿Quiénes deben cumplir con la regulación alime...   \n",
       "7           ¿Qué se define como aditivo alimentario?   \n",
       "8  ¿Cuáles son los límites de metales aceptados e...   \n",
       "9  ¿Qué antioxidantes o sinergistas pueden agrega...   \n",
       "\n",
       "                                        ground_truth  capitulo  \n",
       "0  Se entiende exclusivamente por cerveza la bebi...        13  \n",
       "1  El contenido de nutrientes y/o del valor energ...        13  \n",
       "2  SIDRAS\\nArtículo 1085 - (Resolución Conjunta S...        13  \n",
       "3  Artículo 1105\\nQueda prohibido fabricar, expon...        13  \n",
       "4  CONDIMENTOS VEGETALES\\nArtículo 1199\\nCon la d...        16  \n",
       "5  “Con la denominación de Harina de Chía, se ent...        19  \n",
       "6  Artículo 1\\nToda persona, firma comercial o es...         1  \n",
       "7  Aditivo alime ntario: es cualquier ingrediente...         1  \n",
       "8  Artículo 156 - (Res. 1546, 17.9.85)\\n\"En los a...         3  \n",
       "9  Artículo 523bis - (Res 2012, 19.10.84)\\n\"Los a...         7  "
      ]
     },
     "execution_count": 9,
     "metadata": {},
     "output_type": "execute_result"
    }
   ],
   "source": [
    "eval_df = pd.read_excel('evaluacion.xlsx')\n",
    "eval_df"
   ]
  },
  {
   "cell_type": "code",
   "execution_count": 10,
   "metadata": {},
   "outputs": [],
   "source": [
    "# eval_df_ = eval_df[:2]\n",
    "# eval_df_"
   ]
  },
  {
   "cell_type": "code",
   "execution_count": 11,
   "metadata": {},
   "outputs": [
    {
     "name": "stdout",
     "output_type": "stream",
     "text": [
      "Query 0/10: ¿Qué se entiende por cerveza?\n",
      "Generando embeddings con OpenAI para 1 chunks...\n"
     ]
    },
    {
     "name": "stderr",
     "output_type": "stream",
     "text": [
      "Generando embeddings: 100%|██████████| 1/1 [00:00<00:00,  3.43chunk/s]\n"
     ]
    },
    {
     "name": "stdout",
     "output_type": "stream",
     "text": [
      "Total de embeddings generados con OpenAI: 1\n",
      "Query: ¿Qué se entiende por cerveza?\n"
     ]
    },
    {
     "name": "stderr",
     "output_type": "stream",
     "text": [
      "Processing chunks:   3%|▎         | 1/30 [00:02<01:12,  2.51s/it]"
     ]
    },
    {
     "name": "stdout",
     "output_type": "stream",
     "text": [
      "Relevant Summary | Se entiende exclusivamente por cerveza la bebida resultante de fermentar, mediante levadura cervecera, al mosto de cebada malteada o de extracto de malta, sometido previamente a un proceso de cocción, adicionado de lúpulo. Una parte de la cebada malteada o de extracto de malta podrá ser reemplazada por adjuntos cerveceros. La cerveza negra podrá ser azucarada. La cerveza podrá ser adicionada de colorantes, saborizantes y aromatizantes.\n"
     ]
    },
    {
     "name": "stderr",
     "output_type": "stream",
     "text": [
      "Processing chunks:   7%|▋         | 2/30 [00:03<00:50,  1.79s/it]"
     ]
    },
    {
     "name": "stdout",
     "output_type": "stream",
     "text": [
      "Relevant Summary | \"Es la cerveza elaborada a partir de un mosto cuyo extracto primitivo contiene un mínimo de 55% en peso de cebada malteada.\"\n"
     ]
    },
    {
     "name": "stderr",
     "output_type": "stream",
     "text": [
      "Processing chunks:  10%|█         | 3/30 [00:05<00:48,  1.80s/it]"
     ]
    },
    {
     "name": "stdout",
     "output_type": "stream",
     "text": [
      "Relevant Summary | \"Se entiende por cerveza sin alcohol a la cerveza cuyo contenido alcohólico es inferior o igual a 0,5% en volumen (0,5% vol.).\" y \"Cerveza con alcohol o Cerveza es la cerveza cuyo contenido alcohólico es superior a 0,5% en volumen (0,5% vol.).\"\n"
     ]
    },
    {
     "name": "stderr",
     "output_type": "stream",
     "text": [
      "Processing chunks:  13%|█▎        | 4/30 [00:07<00:47,  1.82s/it]"
     ]
    },
    {
     "name": "stdout",
     "output_type": "stream",
     "text": [
      "Relevant Summary | \"Se designa con el nombre de cerveza a la bebida definida en el numeral 1.1.1. y que cumple con las características establecidas en los numerales 1.2.1.2., 1.2.2.2., 1.2.3.1 y 1.2.4.1.\"\n"
     ]
    },
    {
     "name": "stderr",
     "output_type": "stream",
     "text": [
      "Processing chunks: 100%|██████████| 30/30 [00:29<00:00,  1.03it/s]\n"
     ]
    },
    {
     "data": {
      "application/vnd.jupyter.widget-view+json": {
       "model_id": "945d2654bb6943049b9a140c1f500c80",
       "version_major": 2,
       "version_minor": 0
      },
      "text/plain": [
       "Evaluating:   0%|          | 0/4 [00:00<?, ?it/s]"
      ]
     },
     "metadata": {},
     "output_type": "display_data"
    },
    {
     "data": {
      "application/vnd.jupyter.widget-view+json": {
       "model_id": "3c3387eac3764aaf990213a625c2fe85",
       "version_major": 2,
       "version_minor": 0
      },
      "text/plain": [
       "Evaluating:   0%|          | 0/4 [00:00<?, ?it/s]"
      ]
     },
     "metadata": {},
     "output_type": "display_data"
    },
    {
     "name": "stdout",
     "output_type": "stream",
     "text": [
      "Query 1/10: ¿Cómo se clasifican las cervezas?\n",
      "Generando embeddings con OpenAI para 1 chunks...\n"
     ]
    },
    {
     "name": "stderr",
     "output_type": "stream",
     "text": [
      "Generando embeddings: 100%|██████████| 1/1 [00:00<00:00,  3.93chunk/s]\n"
     ]
    },
    {
     "name": "stdout",
     "output_type": "stream",
     "text": [
      "Total de embeddings generados con OpenAI: 1\n",
      "Query: ¿Cómo se clasifican las cervezas?\n"
     ]
    },
    {
     "name": "stderr",
     "output_type": "stream",
     "text": [
      "Processing chunks:   3%|▎         | 1/30 [00:05<02:34,  5.32s/it]"
     ]
    },
    {
     "name": "stdout",
     "output_type": "stream",
     "text": [
      "Relevant Summary | Las cervezas se clasifican de la siguiente manera:\n",
      "\n",
      "- Cerveza: Se designa con el nombre de cerveza a la bebida definida en el numeral 1.1.1. y que cumple con las características establecidas en los numerales 1.2.1.2., 1.2.2.2., 1.2.3.1 y 1.2.4.1.\n",
      "- Cerveza liviana y Cerveza Light: Se designa con el nombre de cerveza light a la cerveza que cumple con las características establecidas en el numeral 1.2.1.1.\n",
      "- Cerveza extra: Para designar una cerveza como cerveza extra la misma deberá cumplir con las características establecidas en el numeral 1.2.1.3.\n",
      "- Cerveza fuerte: Para designar una cerveza como cerveza fuerte, la misma deberá cumplir con las características establecidas en el numeral 1.2.1.4.\n",
      "- Cerveza sin alcohol.\n"
     ]
    },
    {
     "name": "stderr",
     "output_type": "stream",
     "text": [
      "Processing chunks:   7%|▋         | 2/30 [00:11<02:41,  5.78s/it]"
     ]
    },
    {
     "name": "stdout",
     "output_type": "stream",
     "text": [
      "Relevant Summary | Las cervezas se clasifican de la siguiente manera:\n",
      "\n",
      "1. Respecto al extracto primitivo:\n",
      "   - **Cerveza Fuerte**: Es la cerveza cuyo extracto primitivo es mayor a 14.0% en peso.\n",
      "\n",
      "2. Respecto al grado alcohólico:\n",
      "   - **Cerveza sin alcohol**: Se entiende por cerveza sin alcohol a la cerveza cuyo contenido alcohólico es inferior o igual a 0,5% en volumen (0,5% vol.).\n",
      "   - **Cerveza con alcohol o Cerveza**: Es la cerveza cuyo contenido alcohólico es superior a 0,5% en volumen (0,5% vol.).\n",
      "\n",
      "3. Respecto al color:\n",
      "   - **Cerveza clara, blanca, rubia o Cerveza**: Es la cerveza cuyo color es inferior a 20 unidades E.B.C. (European Brewery Convention).\n",
      "   - **Cerveza oscura o Cerveza negra**: Es la cerveza cuyo color es igual o superior a 20 unidades E.B.C. (European Brewery Convention).\n"
     ]
    },
    {
     "name": "stderr",
     "output_type": "stream",
     "text": [
      "Processing chunks:  17%|█▋        | 5/30 [00:16<01:13,  2.93s/it]"
     ]
    },
    {
     "name": "stdout",
     "output_type": "stream",
     "text": [
      "Relevant Summary | Las cervezas se clasifican de la siguiente manera:\n",
      "\n",
      "1. **Cerveza**: \"Es la cerveza elaborada a partir de un mosto cuyo extracto primitivo contiene un mínimo de 55% en peso de cebada malteada.\"\n",
      "\n",
      "2. **Cerveza 100% malta o de pura malta**: \"Es la cerveza elaborada a partir de un mosto cuyo extracto primitivo proviene exclusivamente de cebada malteada.\"\n",
      "\n",
      "3. **Cerveza de ... (seguida del nombre del o de los cereales mayoritarios)**: \"Es la cerveza elaborada a partir de un mosto cuyo extracto primitivo proviene mayoritariamente de adjuntos cerveceros. Podrá tener hasta un 80% en peso de la totalidad de los adjuntos cerveceros referido a su extracto primitivo (no menos del 20% en peso de malta). Cuando dos o más cereales aporten igual cantidad de extracto primitivo deben citarse todos ellos.\"\n"
     ]
    },
    {
     "name": "stderr",
     "output_type": "stream",
     "text": [
      "Processing chunks:  20%|██        | 6/30 [00:24<01:51,  4.63s/it]"
     ]
    },
    {
     "name": "stdout",
     "output_type": "stream",
     "text": [
      "Relevant Summary | Las cervezas se clasifican de la siguiente manera:\n",
      "\n",
      "- Cerveza sin alcohol: \"Se designa con el nombre de cerveza sin alcohol, a la cerveza que cumple con las características establecidas en el numeral 1.2.2.1.\"\n",
      "- Cerveza oscura o Cerveza negra: \"Se designa con el nombre de cerveza oscura o cerveza negra a la cerveza que cumple con las características establecidas en el numeral 1.2.3.2.\"\n",
      "- Cerveza 100% malta o de pura malta: \"Se podrá designar con el nombre de cerveza 100% malta o de pura malta a la cerveza que cumple con las características establecidas en el numeral 1.2.4.2.\"\n",
      "- Cerveza de ... (seguido del nombre del adjunto cervecero mayoritario): \"Se designa con el nombre de cerveza de ... (seguido del nombre del adjunto mayoritario) a la cerveza que cumple con las características establecidas en el numeral 1.2.4.3.\"\n"
     ]
    },
    {
     "name": "stderr",
     "output_type": "stream",
     "text": [
      "Processing chunks:  33%|███▎      | 10/30 [00:29<00:43,  2.19s/it]"
     ]
    },
    {
     "name": "stdout",
     "output_type": "stream",
     "text": [
      "Relevant Summary | Las cervezas se clasifican de la siguiente manera:\n",
      "\n",
      "1. **Cerveza**: Es la cerveza cuyo extracto primitivo es mayor o igual a 5% en peso y menor que 10,5% en peso.\n",
      "\n",
      "2. **Cerveza**: Es la cerveza cuyo extracto primitivo es mayor o igual a 10,5% en peso, y es menor de 12,0% en peso.\n",
      "\n",
      "3. **Cerveza Extra**: Es la cerveza cuyo extracto primitivo es mayor o igual a 12,0% en peso.\n"
     ]
    },
    {
     "name": "stderr",
     "output_type": "stream",
     "text": [
      "Processing chunks:  47%|████▋     | 14/30 [00:34<00:26,  1.69s/it]"
     ]
    },
    {
     "name": "stdout",
     "output_type": "stream",
     "text": [
      "Relevant Summary | Las cervezas se clasifican de la siguiente manera:\n",
      "\n",
      "- Cerveza con sabor o aroma: \"Se designa con el nombre de cerveza ... sabor de ... o cerveza ... con aroma de... a la cerveza que cumple con las características establecidas en el numeral 1.2.5.3.\"\n",
      "\n",
      "- Cerveza oscura o negra azucarada o Malzbier: \"Se designa con el nombre de cerveza oscura o negra azucarada o Malzbier a la cerveza que cumple con las características establecidas en el numeral 1.2.5.4.\"\n"
     ]
    },
    {
     "name": "stderr",
     "output_type": "stream",
     "text": [
      "Processing chunks:  70%|███████   | 21/30 [00:39<00:08,  1.12it/s]"
     ]
    },
    {
     "name": "stdout",
     "output_type": "stream",
     "text": [
      "Relevant Summary | 1.2 Clasificación de Cervezas  \n",
      "1.2.1 Respecto al extracto primitivo  \n",
      "1.2.1.1 Cerveza liviana\n"
     ]
    },
    {
     "name": "stderr",
     "output_type": "stream",
     "text": [
      "Processing chunks: 100%|██████████| 30/30 [00:47<00:00,  1.60s/it]\n"
     ]
    },
    {
     "data": {
      "application/vnd.jupyter.widget-view+json": {
       "model_id": "e945d8cc56c24cf5ae1ef4ba4cb36c3d",
       "version_major": 2,
       "version_minor": 0
      },
      "text/plain": [
       "Evaluating:   0%|          | 0/4 [00:00<?, ?it/s]"
      ]
     },
     "metadata": {},
     "output_type": "display_data"
    },
    {
     "data": {
      "application/vnd.jupyter.widget-view+json": {
       "model_id": "a8bac43f206541e890283022c7151deb",
       "version_major": 2,
       "version_minor": 0
      },
      "text/plain": [
       "Evaluating:   0%|          | 0/4 [00:00<?, ?it/s]"
      ]
     },
     "metadata": {},
     "output_type": "display_data"
    },
    {
     "name": "stdout",
     "output_type": "stream",
     "text": [
      "Query 2/10: ¿Qué se define como sidra?\n",
      "Generando embeddings con OpenAI para 1 chunks...\n"
     ]
    },
    {
     "name": "stderr",
     "output_type": "stream",
     "text": [
      "Generando embeddings: 100%|██████████| 1/1 [00:00<00:00,  1.55chunk/s]\n"
     ]
    },
    {
     "name": "stdout",
     "output_type": "stream",
     "text": [
      "Total de embeddings generados con OpenAI: 1\n",
      "Query: ¿Qué se define como sidra?\n"
     ]
    },
    {
     "name": "stderr",
     "output_type": "stream",
     "text": [
      "Processing chunks:   7%|▋         | 2/30 [00:02<00:31,  1.13s/it]"
     ]
    },
    {
     "name": "stdout",
     "output_type": "stream",
     "text": [
      "Relevant Summary | “Sidra es la sidra base, endulzada y gasificada. Su graduación alcohólica mínima será de 4,0% en Vol. ±0,3 a 20°C.\"\n"
     ]
    },
    {
     "name": "stderr",
     "output_type": "stream",
     "text": [
      "Processing chunks:  47%|████▋     | 14/30 [00:12<00:21,  1.32s/it]"
     ]
    },
    {
     "name": "stdout",
     "output_type": "stream",
     "text": [
      "Relevant Summary | En la Sidra: la incorporación a la sidra base, como endulzante, de sacarosa y/o jarabe de maíz de alta fructosa y/o zumo concentrado de manzanas, filtración, aplicación de calor, filtración por membranas bacteriológicas, anhídrido carbónico.\n"
     ]
    },
    {
     "name": "stderr",
     "output_type": "stream",
     "text": [
      "Processing chunks: 100%|██████████| 30/30 [00:24<00:00,  1.22it/s]\n"
     ]
    },
    {
     "data": {
      "application/vnd.jupyter.widget-view+json": {
       "model_id": "1c5cb899364b4a99b3baace07b4978b5",
       "version_major": 2,
       "version_minor": 0
      },
      "text/plain": [
       "Evaluating:   0%|          | 0/4 [00:00<?, ?it/s]"
      ]
     },
     "metadata": {},
     "output_type": "display_data"
    },
    {
     "data": {
      "application/vnd.jupyter.widget-view+json": {
       "model_id": "1a1153b9bbd64bc58fa18d6de0dcb72b",
       "version_major": 2,
       "version_minor": 0
      },
      "text/plain": [
       "Evaluating:   0%|          | 0/4 [00:00<?, ?it/s]"
      ]
     },
     "metadata": {},
     "output_type": "display_data"
    },
    {
     "name": "stdout",
     "output_type": "stream",
     "text": [
      "Query 3/10: ¿Se pueden añadir aromas a los vinos?\n",
      "Generando embeddings con OpenAI para 1 chunks...\n"
     ]
    },
    {
     "name": "stderr",
     "output_type": "stream",
     "text": [
      "Generando embeddings: 100%|██████████| 1/1 [00:00<00:00,  2.41chunk/s]\n"
     ]
    },
    {
     "name": "stdout",
     "output_type": "stream",
     "text": [
      "Total de embeddings generados con OpenAI: 1\n",
      "Query: ¿Se pueden añadir aromas a los vinos?\n"
     ]
    },
    {
     "name": "stderr",
     "output_type": "stream",
     "text": [
      "Processing chunks: 100%|██████████| 30/30 [00:20<00:00,  1.50it/s]\n"
     ]
    },
    {
     "data": {
      "application/vnd.jupyter.widget-view+json": {
       "model_id": "c51eb24c97034b5bb0ef28c6b6c0e4fc",
       "version_major": 2,
       "version_minor": 0
      },
      "text/plain": [
       "Evaluating:   0%|          | 0/4 [00:00<?, ?it/s]"
      ]
     },
     "metadata": {},
     "output_type": "display_data"
    },
    {
     "data": {
      "application/vnd.jupyter.widget-view+json": {
       "model_id": "dd5238b147074fd8810ad55e58d2d4f3",
       "version_major": 2,
       "version_minor": 0
      },
      "text/plain": [
       "Evaluating:   0%|          | 0/4 [00:00<?, ?it/s]"
      ]
     },
     "metadata": {},
     "output_type": "display_data"
    },
    {
     "name": "stdout",
     "output_type": "stream",
     "text": [
      "Query 4/10: ¿Los condimentos vegetales tienen algunas restricciones?\n",
      "Generando embeddings con OpenAI para 1 chunks...\n"
     ]
    },
    {
     "name": "stderr",
     "output_type": "stream",
     "text": [
      "Generando embeddings: 100%|██████████| 1/1 [00:00<00:00,  1.86chunk/s]\n"
     ]
    },
    {
     "name": "stdout",
     "output_type": "stream",
     "text": [
      "Total de embeddings generados con OpenAI: 1\n",
      "Query: ¿Los condimentos vegetales tienen algunas restricciones?\n"
     ]
    },
    {
     "name": "stderr",
     "output_type": "stream",
     "text": [
      "Processing chunks:   7%|▋         | 2/30 [00:01<00:27,  1.01it/s]"
     ]
    },
    {
     "name": "stdout",
     "output_type": "stream",
     "text": [
      "Relevant Summary | \"Deben ser genuinas, sanas y responder a sus características normales, y estar exentas de sustancias extrañas y de partes de la planta de origen que no posean cualidades de condimentos (tallos, pecíolos, etc).\"\n"
     ]
    },
    {
     "name": "stderr",
     "output_type": "stream",
     "text": [
      "Processing chunks:  10%|█         | 3/30 [00:03<00:28,  1.07s/it]"
     ]
    },
    {
     "name": "stdout",
     "output_type": "stream",
     "text": [
      "Relevant Summary | \"El uso de ciertos saborizantes/aromatizantes de esta categoría puede estar limitado por la presencia de un principio activo con restricción de límite en el producto final.\"\n"
     ]
    },
    {
     "name": "stderr",
     "output_type": "stream",
     "text": [
      "Processing chunks: 100%|██████████| 30/30 [00:23<00:00,  1.30it/s]\n"
     ]
    },
    {
     "data": {
      "application/vnd.jupyter.widget-view+json": {
       "model_id": "3d09dc6d5cb34e3187b5de933496e0cf",
       "version_major": 2,
       "version_minor": 0
      },
      "text/plain": [
       "Evaluating:   0%|          | 0/4 [00:00<?, ?it/s]"
      ]
     },
     "metadata": {},
     "output_type": "display_data"
    },
    {
     "data": {
      "application/vnd.jupyter.widget-view+json": {
       "model_id": "4064d3adc3644fb2b028fff5dfc2f377",
       "version_major": 2,
       "version_minor": 0
      },
      "text/plain": [
       "Evaluating:   0%|          | 0/4 [00:00<?, ?it/s]"
      ]
     },
     "metadata": {},
     "output_type": "display_data"
    },
    {
     "name": "stdout",
     "output_type": "stream",
     "text": [
      "Query 5/10: ¿Qué caracteristicas debe tener la harina de chia?\n",
      "Generando embeddings con OpenAI para 1 chunks...\n"
     ]
    },
    {
     "name": "stderr",
     "output_type": "stream",
     "text": [
      "Generando embeddings: 100%|██████████| 1/1 [00:00<00:00,  1.45chunk/s]\n"
     ]
    },
    {
     "name": "stdout",
     "output_type": "stream",
     "text": [
      "Total de embeddings generados con OpenAI: 1\n",
      "Query: ¿Qué caracteristicas debe tener la harina de chia?\n"
     ]
    },
    {
     "name": "stderr",
     "output_type": "stream",
     "text": [
      "Processing chunks:   3%|▎         | 1/30 [00:01<00:53,  1.84s/it]"
     ]
    },
    {
     "name": "stdout",
     "output_type": "stream",
     "text": [
      "Relevant Summary | “Con la denominación de Harina de Chía, se entiende el producto proveniente de la molienda de la semilla de chía (Salvia hispana L.) debiendo presentar esta última, características de semillas sanas, limpias y bien conservadas, que han sido sometidas a prensado para la remoción parcial o prácticamente total del aceite que contienen.”\n"
     ]
    },
    {
     "name": "stderr",
     "output_type": "stream",
     "text": [
      "Processing chunks:   7%|▋         | 2/30 [00:05<01:22,  2.96s/it]"
     ]
    },
    {
     "name": "stdout",
     "output_type": "stream",
     "text": [
      "Relevant Summary | La harina de chía debe tener las siguientes características: \n",
      "\n",
      "- Humedad máxima de 9% para la harina parcialmente desgrasada y 5% para la desgrasada.\n",
      "- Proteína mínima de 20% para la harina parcialmente desgrasada y 29% para la desgrasada.\n",
      "- Grasa máxima de 18% para la harina parcialmente desgrasada y 7% para la desgrasada.\n",
      "- Fibra total máxima de 35% para la harina parcialmente desgrasada y 52% para la desgrasada.\n",
      "- Cenizas máximas de 5% para la harina parcialmente desgrasada y 6% para la desgrasada.\n"
     ]
    },
    {
     "name": "stderr",
     "output_type": "stream",
     "text": [
      "Processing chunks:  57%|█████▋    | 17/30 [00:17<00:16,  1.26s/it]"
     ]
    },
    {
     "name": "stdout",
     "output_type": "stream",
     "text": [
      "Relevant Summary | Las características que debe tener la harina de chía son las siguientes:\n",
      "\n",
      "- Humedad: máx 9%\n",
      "- Proteína (N x 6,25): mín 35%\n",
      "- Grasa (extr etéreo): mín 18%\n",
      "- Fibra cruda: máx 3,0%\n",
      "- Cenizas (500-550°C): máx 5,5%\n",
      "- Granulometría: el 95 por ciento debe pasar por tamiz de 149 micrones.\n",
      "\n",
      "Además, las harinas pueden someterse o no a un tostado durante el procesamiento.\n"
     ]
    },
    {
     "name": "stderr",
     "output_type": "stream",
     "text": [
      "Processing chunks: 100%|██████████| 30/30 [00:26<00:00,  1.14it/s]\n"
     ]
    },
    {
     "data": {
      "application/vnd.jupyter.widget-view+json": {
       "model_id": "3c9173f3ba324bc28576dcd055c9d823",
       "version_major": 2,
       "version_minor": 0
      },
      "text/plain": [
       "Evaluating:   0%|          | 0/4 [00:00<?, ?it/s]"
      ]
     },
     "metadata": {},
     "output_type": "display_data"
    },
    {
     "data": {
      "application/vnd.jupyter.widget-view+json": {
       "model_id": "71d22954eeb64700bcd114d77c20d2e6",
       "version_major": 2,
       "version_minor": 0
      },
      "text/plain": [
       "Evaluating:   0%|          | 0/4 [00:00<?, ?it/s]"
      ]
     },
     "metadata": {},
     "output_type": "display_data"
    },
    {
     "name": "stdout",
     "output_type": "stream",
     "text": [
      "Query 6/10: ¿Quiénes deben cumplir con la regulación alimentaria?\n",
      "Generando embeddings con OpenAI para 1 chunks...\n"
     ]
    },
    {
     "name": "stderr",
     "output_type": "stream",
     "text": [
      "Generando embeddings: 100%|██████████| 1/1 [00:00<00:00,  2.09chunk/s]\n"
     ]
    },
    {
     "name": "stdout",
     "output_type": "stream",
     "text": [
      "Total de embeddings generados con OpenAI: 1\n",
      "Query: ¿Quiénes deben cumplir con la regulación alimentaria?\n"
     ]
    },
    {
     "name": "stderr",
     "output_type": "stream",
     "text": [
      "Processing chunks:   3%|▎         | 1/30 [00:01<00:37,  1.30s/it]"
     ]
    },
    {
     "name": "stdout",
     "output_type": "stream",
     "text": [
      "Relevant Summary | \"Los productores deben cumplir con la inscripción en el Registro Nacional Sanitario de Productores Agropecuarios (RENSPA).\"\n"
     ]
    },
    {
     "name": "stderr",
     "output_type": "stream",
     "text": [
      "Processing chunks:   7%|▋         | 2/30 [00:04<01:02,  2.23s/it]"
     ]
    },
    {
     "name": "stdout",
     "output_type": "stream",
     "text": [
      "Relevant Summary | El presente Reglamento Técnico se aplicará al rotulado nutricional de los alimentos que se produzcan y comercialicen en el territorio de los Estados Partes del MERCOSUR, al comercio entre ellos y a las importaciones extrazona, envasados en ausencia del cliente, listos para ofrecerlos a los consumidores.\n"
     ]
    },
    {
     "name": "stderr",
     "output_type": "stream",
     "text": [
      "Processing chunks:  10%|█         | 3/30 [00:05<00:43,  1.60s/it]"
     ]
    },
    {
     "name": "stdout",
     "output_type": "stream",
     "text": [
      "Relevant Summary | Las Casas de Comida y Pensiones deben inscribirse en los registros de la autoridad sanitaria.\n"
     ]
    },
    {
     "name": "stderr",
     "output_type": "stream",
     "text": [
      "Processing chunks:  20%|██        | 6/30 [00:15<01:03,  2.66s/it]"
     ]
    },
    {
     "name": "stdout",
     "output_type": "stream",
     "text": [
      "Relevant Summary | \"Toda persona que realice actividades por la cual esté o pudiera estar en contacto con alimentos, en establecimientos donde se elaboren, fraccionen, almacenen, transporten, comercialicen y/o enajenen alimentos, o sus materias primas, debe estar provista de un CARNET DE MANIPULADOR DE ALIMENTOS, expedido por la autoridad sanitaria competente, con validez en todo el territorio nacional.\"\n"
     ]
    },
    {
     "name": "stderr",
     "output_type": "stream",
     "text": [
      "Processing chunks:  30%|███       | 9/30 [00:18<00:35,  1.71s/it]"
     ]
    },
    {
     "name": "stdout",
     "output_type": "stream",
     "text": [
      "Relevant Summary | \"Las empresas que elaboren alimentos para propósitos médicos específicos deberán implementar un Sistema de Análisis de Peligros y Puntos Críticos de Control (HACCP, por sus siglas en inglés) de acuerdo a las directrices que constan en el Artículo 18 bis del presente Código.\"\n"
     ]
    },
    {
     "name": "stderr",
     "output_type": "stream",
     "text": [
      "Processing chunks:  77%|███████▋  | 23/30 [00:29<00:06,  1.15it/s]"
     ]
    },
    {
     "name": "stdout",
     "output_type": "stream",
     "text": [
      "Relevant Summary | \"Toda modificación en la composición, formulación o rotulado de los alimentos en virtud de las Resoluciones MERCOSUR, serán de cumplimiento obligatorio por parte de los elaboradores no siendo exigible presentación alguna ante cualquier Autoridad Sanitaria.\"\n"
     ]
    },
    {
     "name": "stderr",
     "output_type": "stream",
     "text": [
      "Processing chunks:  87%|████████▋ | 26/30 [00:31<00:03,  1.06it/s]"
     ]
    },
    {
     "name": "stdout",
     "output_type": "stream",
     "text": [
      "Relevant Summary | El presente Reglamento se aplica, en los puntos donde corresponda, a toda persona física o jurídica que posea por lo menos un establecimiento en el cual se realicen algunas de las actividades siguientes: elaboración/industrialización, fraccionamiento, almacenamiento y transporte de alimentos industrializados en los Estados Parte del Mercosur.\n"
     ]
    },
    {
     "name": "stderr",
     "output_type": "stream",
     "text": [
      "Processing chunks:  93%|█████████▎| 28/30 [00:33<00:02,  1.06s/it]"
     ]
    },
    {
     "name": "stdout",
     "output_type": "stream",
     "text": [
      "Relevant Summary | \"Toda persona, firma comercial o establecimiento que elabore, fraccione, conserve, transporte, expenda, exponga, importe o exporte alimentos, condimentos, bebidas o primeras materias correspondientes a los mismos y aditivos alimentarios debe cumplir con las disposiciones del presente Código.\"\n"
     ]
    },
    {
     "name": "stderr",
     "output_type": "stream",
     "text": [
      "Processing chunks: 100%|██████████| 30/30 [00:35<00:00,  1.17s/it]\n"
     ]
    },
    {
     "data": {
      "application/vnd.jupyter.widget-view+json": {
       "model_id": "5d5bb7887bae427ba64c6874011b86cd",
       "version_major": 2,
       "version_minor": 0
      },
      "text/plain": [
       "Evaluating:   0%|          | 0/4 [00:00<?, ?it/s]"
      ]
     },
     "metadata": {},
     "output_type": "display_data"
    },
    {
     "data": {
      "application/vnd.jupyter.widget-view+json": {
       "model_id": "714de9ccc15a464692a786fc59b1ac51",
       "version_major": 2,
       "version_minor": 0
      },
      "text/plain": [
       "Evaluating:   0%|          | 0/4 [00:00<?, ?it/s]"
      ]
     },
     "metadata": {},
     "output_type": "display_data"
    },
    {
     "name": "stdout",
     "output_type": "stream",
     "text": [
      "Query 7/10: ¿Qué se define como aditivo alimentario?\n",
      "Generando embeddings con OpenAI para 1 chunks...\n"
     ]
    },
    {
     "name": "stderr",
     "output_type": "stream",
     "text": [
      "Generando embeddings: 100%|██████████| 1/1 [00:00<00:00,  2.89chunk/s]\n"
     ]
    },
    {
     "name": "stdout",
     "output_type": "stream",
     "text": [
      "Total de embeddings generados con OpenAI: 1\n",
      "Query: ¿Qué se define como aditivo alimentario?\n"
     ]
    },
    {
     "name": "stderr",
     "output_type": "stream",
     "text": [
      "Processing chunks:   3%|▎         | 1/30 [00:01<00:42,  1.46s/it]"
     ]
    },
    {
     "name": "stdout",
     "output_type": "stream",
     "text": [
      "Relevant Summary | Aditivo alimentario: Cualquier substancia o mezcla de substancias que directa o indirectamente modifiquen las características físicas, químicas o biológicas de un alimento, a los efectos de su mejoramiento, preservación, o estabilización.\n"
     ]
    },
    {
     "name": "stderr",
     "output_type": "stream",
     "text": [
      "Processing chunks:   7%|▋         | 2/30 [00:03<00:52,  1.88s/it]"
     ]
    },
    {
     "name": "stdout",
     "output_type": "stream",
     "text": [
      "Relevant Summary | Aditivo alimentario: es cualquier ingrediente agregado a los alimentos intencionalmente, sin el propósito de nutrir, con el objeto de modificar las características físicas, químicas, biológicas o sensoriales, durante la manufactura, procesado, preparación, tratamiento, envasado, acondicionado, almacenado, transporte o manipulación de un alimento.\n"
     ]
    },
    {
     "name": "stderr",
     "output_type": "stream",
     "text": [
      "Processing chunks:  20%|██        | 6/30 [00:08<00:30,  1.28s/it]"
     ]
    },
    {
     "name": "stdout",
     "output_type": "stream",
     "text": [
      "Relevant Summary | \"2.7 - Aditivo alimentario- Es cualquier ingrediente agregado a los alimentos intencionalmente, sin el propósito de nutrir, con el objeto de modificar las características físicas, químicas,\"\n"
     ]
    },
    {
     "name": "stderr",
     "output_type": "stream",
     "text": [
      "Processing chunks:  63%|██████▎   | 19/30 [00:18<00:09,  1.13it/s]"
     ]
    },
    {
     "name": "stdout",
     "output_type": "stream",
     "text": [
      "Relevant Summary | \"Los Aditivos Alimentarios, definidos en el Artículo 6°, Inc 3, del presente Código deben: a) Ser inocuos por sí o a través de su acción como aditivos en las condiciones de uso.\"\n"
     ]
    },
    {
     "name": "stderr",
     "output_type": "stream",
     "text": [
      "Processing chunks: 100%|██████████| 30/30 [00:25<00:00,  1.18it/s]\n"
     ]
    },
    {
     "data": {
      "application/vnd.jupyter.widget-view+json": {
       "model_id": "9447818e25d240cdbe7459f001773d8c",
       "version_major": 2,
       "version_minor": 0
      },
      "text/plain": [
       "Evaluating:   0%|          | 0/4 [00:00<?, ?it/s]"
      ]
     },
     "metadata": {},
     "output_type": "display_data"
    },
    {
     "data": {
      "application/vnd.jupyter.widget-view+json": {
       "model_id": "68b1715e4e9040aaaa929258211833ad",
       "version_major": 2,
       "version_minor": 0
      },
      "text/plain": [
       "Evaluating:   0%|          | 0/4 [00:00<?, ?it/s]"
      ]
     },
     "metadata": {},
     "output_type": "display_data"
    },
    {
     "name": "stdout",
     "output_type": "stream",
     "text": [
      "Query 8/10: ¿Cuáles son los límites de metales aceptados en los alimentos?\n",
      "Generando embeddings con OpenAI para 1 chunks...\n"
     ]
    },
    {
     "name": "stderr",
     "output_type": "stream",
     "text": [
      "Generando embeddings: 100%|██████████| 1/1 [00:00<00:00,  3.62chunk/s]\n"
     ]
    },
    {
     "name": "stdout",
     "output_type": "stream",
     "text": [
      "Total de embeddings generados con OpenAI: 1\n",
      "Query: ¿Cuáles son los límites de metales aceptados en los alimentos?\n"
     ]
    },
    {
     "name": "stderr",
     "output_type": "stream",
     "text": [
      "Processing chunks:   7%|▋         | 2/30 [00:02<00:37,  1.34s/it]"
     ]
    },
    {
     "name": "stdout",
     "output_type": "stream",
     "text": [
      "Relevant Summary | \"Cadmio (Cd) < 1000 µg / kilo de carne de moluscos\", \"Plomo (Pb) < 1000 µg / kilo de carne de moluscos\", \"Mercurio (Hg) < 500 µg / kilo de carne de moluscos\"\n"
     ]
    },
    {
     "name": "stderr",
     "output_type": "stream",
     "text": [
      "Processing chunks:  13%|█▎        | 4/30 [00:07<00:56,  2.18s/it]"
     ]
    },
    {
     "name": "stdout",
     "output_type": "stream",
     "text": [
      "Relevant Summary | \"Los límites de migración específica (LME) de los elementos a determinar son los siguientes:\n",
      "- Antimonio (Sb) 0,04 mg/kg\n",
      "- Arsénico (As) 0,01 mg/kg\n",
      "- Bario (Ba) 1 mg/kg\n",
      "- Boro (B) 0,5 mg/kg\n",
      "- Cadmio (Cd) 0,005 mg/kg\n",
      "- Cinc (Zn) 25 mg/kg\n",
      "- Cobre (Cu) 5 mg/kg\n",
      "- Cromo (Cr) 0,05 mg/kg\n",
      "- Estaño (Sn) 1,2 mg/kg\n",
      "- Flúor (F) 0,5 mg/kg\n",
      "- Mercurio (Hg) 0,005 mg/kg\n",
      "- Plata (Ag) 0,05 mg/kg\n",
      "- Plomo (Pb) 0,01 mg/kg\"\n"
     ]
    },
    {
     "name": "stderr",
     "output_type": "stream",
     "text": [
      "Processing chunks:  20%|██        | 6/30 [00:10<00:49,  2.05s/it]"
     ]
    },
    {
     "name": "stdout",
     "output_type": "stream",
     "text": [
      "Relevant Summary | \"no contengan metales en cantidades superiores a los siguientes porcentajes: Arsénico 0,005% soluble en NaOH lN, Bario 0,01% soluble en HCl N/10, Cadmio 0,20% soluble en HCl N/10, Cinc 0,20% soluble en HCl N/10, Mercurio 0,005% soluble en HCl N/10, Plomo 0,01% soluble en HNO3 1N, Selenio 0,01% soluble en HCl N/10.\"\n"
     ]
    },
    {
     "name": "stderr",
     "output_type": "stream",
     "text": [
      "Processing chunks:  23%|██▎       | 7/30 [00:15<01:07,  2.95s/it]"
     ]
    },
    {
     "name": "stdout",
     "output_type": "stream",
     "text": [
      "Relevant Summary | Aluminio = 1 mg/kg de alimento o simulante alimentario.  \n",
      "Bario = 1 mg/kg de alimento o simulante alimentario.  \n",
      "Cobalto = 0,05 mg/kg de alimento o simulante alimentario.  \n",
      "Cobre = 5 mg/kg de alimento o simulante alimentario.  \n",
      "Hierro = 48 mg/kg de alimento o simulante alimentario.  \n",
      "Litio = 0,6 mg/kg alimento o simulante alimentario.  \n",
      "Manganeso = 0,6 mg/kg de alimento o simulante alimentario.  \n",
      "Níquel = 0,02 mg/kg de alimento o simulante alimentario.  \n",
      "Zinc = 5 mg/kg de alimento o simulante alimentario.\n"
     ]
    },
    {
     "name": "stderr",
     "output_type": "stream",
     "text": [
      "Processing chunks:  30%|███       | 9/30 [00:17<00:43,  2.08s/it]"
     ]
    },
    {
     "name": "stdout",
     "output_type": "stream",
     "text": [
      "Relevant Summary | El Cóctel de Frutas deberá cumplir (conjunto de frutas y líquido) con los siguientes límites en el contenido de metales: Cobre, Máx.: 10 mg/kg Arsénico, Máx.: 0,1 mg/kg Plomo, Máx.: 2,0 mg/kg Estaño, Máx.: 100,0 mg/kg.\n"
     ]
    },
    {
     "name": "stderr",
     "output_type": "stream",
     "text": [
      "Processing chunks:  33%|███▎      | 10/30 [00:18<00:35,  1.76s/it]"
     ]
    },
    {
     "name": "stdout",
     "output_type": "stream",
     "text": [
      "Relevant Summary | Arsénico: máx 3 mg/kg  \n",
      "Plomo: máx 10 mg/kg  \n",
      "Metales pesados: máx 40 mg/kg\n"
     ]
    },
    {
     "name": "stderr",
     "output_type": "stream",
     "text": [
      "Processing chunks:  37%|███▋      | 11/30 [00:28<01:21,  4.29s/it]"
     ]
    },
    {
     "name": "stdout",
     "output_type": "stream",
     "text": [
      "Relevant Summary | Los límites de metales aceptados en los alimentos son los siguientes:\n",
      "\n",
      "- Antimonio: 2 mg/kg\n",
      "- Arsénico: en líquidos 0,1 mg/kg, en sólidos 1 mg/kg\n",
      "- Boro: 80 mg/kg\n",
      "- Cobre: 10 mg/kg\n",
      "- Estaño: 250 mg/kg\n",
      "- Flúor: 1,5 mg/kg\n",
      "- Plata: 1 mg/kg\n",
      "- Plomo: 2 mg/kg\n",
      "- Zinc: 100 mg/kg\n"
     ]
    },
    {
     "name": "stderr",
     "output_type": "stream",
     "text": [
      "Processing chunks:  40%|████      | 12/30 [00:30<01:04,  3.59s/it]"
     ]
    },
    {
     "name": "stdout",
     "output_type": "stream",
     "text": [
      "Relevant Summary | Los aditivos alimentarios que integran la lista positiva del Código Alimentario Argentino no contendrán más de 3 mg/kg de arsénico, como As; de 10 mg/kg de plomo, como Pb; y de 40 mg/kg de metales pesados como Pb, salvo indicación particular diferente. En general, se recomienda que no contenga más de 50 mg/kg de hierro y cobre globalmente.\n"
     ]
    },
    {
     "name": "stderr",
     "output_type": "stream",
     "text": [
      "Processing chunks:  50%|█████     | 15/30 [00:46<01:25,  5.69s/it]"
     ]
    },
    {
     "name": "stdout",
     "output_type": "stream",
     "text": [
      "Relevant Summary | Los límites de metales aceptados en los alimentos son los siguientes:\n",
      "\n",
      "- Aceites y grasas comestibles de origen vegetal y/o animal (incluye margarina): 0,10 mg/kg\n",
      "- Azúcares: 0,10 mg/kg\n",
      "- Miel: 0,30 mg/kg\n",
      "- Caramelos duros y blandos y similares incluidos goma de mascar: 0,10 mg/kg\n",
      "- Pasta de cacao: 0,50 mg/kg\n",
      "- Chocolates y productos de cacao con menos de 40 % de cacao: 0,20 mg/kg\n",
      "- Chocolates y productos a base de cacao con más de 40 % de cacao: 0,40 mg/kg\n",
      "- Bebidas analcohólicas (excluidos los jugos): 0,05 mg/kg\n",
      "- Zumos (Jugos) y néctares de frutas: 0,05 mg/kg\n",
      "- Bebidas alcohólicas fermentadas y fermento-destiladas, excepto vino: 0,20 mg/kg\n",
      "- Vino: 0,15 mg/L\n",
      "- Cereales y productos de y a base de cereales, excluidos trigo, arroz y sus productos derivados y aceites: 0,20 mg/kg\n",
      "- Trigo y sus derivados excepto aceite: 0,20 mg/kg\n",
      "- Arroz y sus derivados excepto aceite: 0,20 mg/kg\n",
      "- Poroto (grano) de soja: 0,20 mg/kg\n",
      "- Hortalizas del género Brassica (excluidas las de hojas sueltas): 0,30 mg/kg\n",
      "- Hortalizas de hoja (incluidas las Brassicas de hoja suelta) y hierbas aromáticas frescas: 0,30 mg/kg\n",
      "- Hortalizas de bulbo y hojas envainadoras: 0,10 mg/kg\n",
      "- Hortalizas de fruto de la familia Curcubitaceae: 0,10 mg/kg\n",
      "- Hortalizas de fruto, distintas de las de la familia Curcubitaceae: 0,10 mg/kg\n",
      "- Setas (hongos) excepto las del género Agaricus, Pleurotus y Lentinula o Lentinus: 0,10 mg/kg\n",
      "- Hortalizas leguminosa: 0,10 mg/kg\n",
      "- Legumbres (semillas secas de las leguminosas) excepto soja: 0,20 mg/kg\n",
      "- Setas (hongos) del género Agaricus, Pleurotus y Lentinula o Lentinus: 0,30 mg/kg\n",
      "- Raíces y tubérculos: 0,10 mg/kg\n",
      "- Tallos jóvenes y pecíolos: 0,20 mg/kg\n",
      "- Frutas secas: 0,80 mg/kg\n"
     ]
    },
    {
     "name": "stderr",
     "output_type": "stream",
     "text": [
      "Processing chunks:  53%|█████▎    | 16/30 [00:56<01:37,  6.99s/it]"
     ]
    },
    {
     "name": "stdout",
     "output_type": "stream",
     "text": [
      "Relevant Summary | Los límites de metales aceptados en los alimentos son los siguientes:\n",
      "\n",
      "- Miel: 0,10 mg/kg\n",
      "- Pasta de cacao: 0,30 mg/kg\n",
      "- Chocolates y productos de cacao con menos de 40 % de cacao: 0,20 mg/kg\n",
      "- Chocolates y productos a base de cacao con más de 40 % de cacao: 0,30 mg/kg\n",
      "- Bebidas analcohólicas (excluidos los jugos): 0,02 mg/kg\n",
      "- Zumos (Jugos) y néctares de frutas: 0,05 mg/kg\n",
      "- Bebidas alcohólicas fermentadas y fermento-destiladas, excepto vino: 0,02 mg/kg\n",
      "- Vino: 0,01 mg/L\n",
      "- Cereales y productos de y a base de cereales, excluidos trigo, arroz y sus productos derivados y aceites: 0,10 mg/kg\n",
      "- Trigo y sus derivados excepto aceite: 0,20 mg/kg\n",
      "- Arroz y sus derivados excepto aceite: 0,40 mg/kg\n",
      "- Poroto (grano) de soja: 0,20 mg/kg\n",
      "- Hortalizas del género Brassica (excluidas las de hojas sueltas): 0,05 mg/kg\n",
      "- Hortalizas de hoja (incluidas las Brassicas de hoja suelta) y hierbas aromáticas frescas: 0,20 mg/kg\n",
      "- Hortalizas de bulbo y hojas envainadoras: 0,05 mg/kg\n",
      "- Hortalizas de fruto de la familia Curcubitaceae: 0,05 mg/kg\n",
      "- Hortalizas de fruto, distintas de las de la familia Curcubitaceae: 0,05 mg/kg\n",
      "- Setas (hongos) excepto las del género Agaricus, Pleurotus y Lentinula o Lentinus: 0,05 mg/kg\n",
      "- Hortalizas leguminosas: 0,10 mg/kg\n",
      "- Legumbres (semillas secas de las leguminosas) excepto soja: 0,10 mg/kg\n",
      "- Setas (hongos) del género Agaricus, Pleurotus y Lentinula o Lentinus: 0,20 mg/kg\n",
      "- Raíces y tubérculos: 0,10 mg/kg\n",
      "- Tallos jóvenes y pecíolos: 0,10 mg/kg\n",
      "- Frutas frescas, excluidas las bayas y frutas pequeñas: 0,05 mg/kg\n",
      "- Frutas frescas de bayas y frutas pequeñas: 0,05 mg/kg\n",
      "- Té, yerba mate, y otros vegetales para infusión: 0,40 mg/kg\n",
      "- Café torrado en granos y polvo: 0,10 mg/kg\n"
     ]
    },
    {
     "name": "stderr",
     "output_type": "stream",
     "text": [
      "Processing chunks:  63%|██████▎   | 19/30 [01:01<00:41,  3.77s/it]"
     ]
    },
    {
     "name": "stdout",
     "output_type": "stream",
     "text": [
      "Relevant Summary | \"Antimonio (Sb) 0,04 mg/kg, Arsénico (As) 0,01 mg/kg, Bario (Ba) 1 mg/kg, Boro (B) 0,5 mg/kg, Cadmio (Cd) 0,005 mg/kg, Cinc (Zn) 25 mg/kg, Cobre (Cu) 5 mg/kg, Cromo (Cr) 0,05 mg/kg, Estaño (Sn) 1,2 mg/kg, Flúor (F) 0,5 mg/kg, Mercurio (Hg) 0,005 mg/kg, Plata (Ag) 0,05 mg/kg, Plomo (Pb) 0,01 mg/kg.\"\n"
     ]
    },
    {
     "name": "stderr",
     "output_type": "stream",
     "text": [
      "Processing chunks:  70%|███████   | 21/30 [01:03<00:21,  2.44s/it]"
     ]
    },
    {
     "name": "stdout",
     "output_type": "stream",
     "text": [
      "Relevant Summary | c) El contenido de plomo no podrá superar 0,01 mg/kg del producto listo para el consumo.  \n",
      "d) El contenido de arsénico no podrá superar los 0,05 mg/kg del producto listo para el consumo.  \n",
      "e) El contenido de aluminio no podrá superar 1 mg/kg del producto listo para el consumo.\n"
     ]
    },
    {
     "name": "stderr",
     "output_type": "stream",
     "text": [
      "Processing chunks:  73%|███████▎  | 22/30 [01:06<00:20,  2.59s/it]"
     ]
    },
    {
     "name": "stdout",
     "output_type": "stream",
     "text": [
      "Relevant Summary | Los límites de metales aceptados en los alimentos, según el texto proporcionado, son los siguientes:\n",
      "\n",
      "- Antimonio (Sb), LME 0,04 mg/kg\n",
      "- Boro (B), LME 0,5 mg/kg\n",
      "- Bario (Ba), LME 1 mg/kg\n",
      "- Cobre (Cu), LME 5 mg/kg\n",
      "- Estaño (Sn), LME 1,2 mg/kg\n",
      "- Flúor (F), LME 0,5 mg/kg\n",
      "- Plata (Ag), LME 0,05 mg/kg\n",
      "- Zinc (Zn), LME 25 mg/kg\n"
     ]
    },
    {
     "name": "stderr",
     "output_type": "stream",
     "text": [
      "Processing chunks:  80%|████████  | 24/30 [01:08<00:11,  1.95s/it]"
     ]
    },
    {
     "name": "stdout",
     "output_type": "stream",
     "text": [
      "Relevant Summary | g) Plomo (Pb) soluble en HCl 0,1N: máximo 0,01 % (m/m);  \n",
      "h) Selenio (Se) soluble en HCl 0,1N: máximo 0,01 % (m/m);  \n",
      "i) Zinc (Zn) soluble en HCl 0,1N: máximo 0,20 % (m/m).\n"
     ]
    },
    {
     "name": "stderr",
     "output_type": "stream",
     "text": [
      "Processing chunks:  87%|████████▋ | 26/30 [01:11<00:06,  1.66s/it]"
     ]
    },
    {
     "name": "stdout",
     "output_type": "stream",
     "text": [
      "Relevant Summary | \"Los metales en contacto con los alimentos y sus materias primas no deberán contener más de 1% de impurezas constituidas por plomo, antimonio, cinc, cobre u otros metales considerados en conjunto, ni más de 0,01% de arsénico, ni otra substancia considerada nociva por la autoridad sanitaria nacional.\"\n"
     ]
    },
    {
     "name": "stderr",
     "output_type": "stream",
     "text": [
      "Processing chunks:  97%|█████████▋| 29/30 [01:14<00:01,  1.30s/it]"
     ]
    },
    {
     "name": "stdout",
     "output_type": "stream",
     "text": [
      "Relevant Summary | i) Hierro total como Fe, límite de composición: máximo 70 mg/kg;  \n",
      "j) Hierro soluble en agua como Fe, límite de migración específica: máximo 15 mg/kg;  \n",
      "k) Plomo como Pb, límite de composición: máximo 20 mg/kg;\n"
     ]
    },
    {
     "name": "stderr",
     "output_type": "stream",
     "text": [
      "Processing chunks: 100%|██████████| 30/30 [01:21<00:00,  2.73s/it]"
     ]
    },
    {
     "name": "stdout",
     "output_type": "stream",
     "text": [
      "Relevant Summary | Los límites de metales aceptados en los alimentos, específicamente para el plomo, son los siguientes:\n",
      "\n",
      "- Aceites y grasas comestibles de origen vegetal y/o animal (incluye margarina): 0,10 mg/kg\n",
      "- Azúcares: 0,10 mg/kg\n",
      "- Miel: 0,30 mg/kg\n",
      "- Caramelos duros y blandos y similares incluidos goma de mascar: 0,10 mg/kg\n",
      "- Pasta de cacao: 0,50 mg/kg\n",
      "- Chocolates y productos de cacao con menos de 40 % de cacao: 0,20 mg/kg\n",
      "- Chocolates y productos a base de cacao con más de 40 % de cacao: 0,40 mg/kg\n",
      "- Bebidas analcohólicas (excluidos los jugos): 0,05 mg/kg\n",
      "- Zumos (Jugos) y néctares de frutas: 0,05 mg/kg\n"
     ]
    },
    {
     "name": "stderr",
     "output_type": "stream",
     "text": [
      "\n"
     ]
    },
    {
     "data": {
      "application/vnd.jupyter.widget-view+json": {
       "model_id": "93b58bde2e344d98b744b6c8f6d77915",
       "version_major": 2,
       "version_minor": 0
      },
      "text/plain": [
       "Evaluating:   0%|          | 0/4 [00:00<?, ?it/s]"
      ]
     },
     "metadata": {},
     "output_type": "display_data"
    },
    {
     "data": {
      "application/vnd.jupyter.widget-view+json": {
       "model_id": "e31d8dc760514bec994ecaaf603bb254",
       "version_major": 2,
       "version_minor": 0
      },
      "text/plain": [
       "Evaluating:   0%|          | 0/4 [00:00<?, ?it/s]"
      ]
     },
     "metadata": {},
     "output_type": "display_data"
    },
    {
     "name": "stdout",
     "output_type": "stream",
     "text": [
      "Query 9/10: ¿Qué antioxidantes o sinergistas pueden agregarse a los aceites y grasas vegetales comestibles?\n",
      "Generando embeddings con OpenAI para 1 chunks...\n"
     ]
    },
    {
     "name": "stderr",
     "output_type": "stream",
     "text": [
      "Generando embeddings: 100%|██████████| 1/1 [00:00<00:00,  1.24chunk/s]\n"
     ]
    },
    {
     "name": "stdout",
     "output_type": "stream",
     "text": [
      "Total de embeddings generados con OpenAI: 1\n",
      "Query: ¿Qué antioxidantes o sinergistas pueden agregarse a los aceites y grasas vegetales comestibles?\n"
     ]
    },
    {
     "name": "stderr",
     "output_type": "stream",
     "text": [
      "Processing chunks:   3%|▎         | 1/30 [00:01<00:39,  1.35s/it]"
     ]
    },
    {
     "name": "stdout",
     "output_type": "stream",
     "text": [
      "Relevant Summary | \"En el caso de los aceites deberán estar adicionados de antioxidantes y/o sinergistas autorizados según el Artículo 523 bis, Inc. 2, 3, 4, 6, 7, 8 y 9.\"\n"
     ]
    },
    {
     "name": "stderr",
     "output_type": "stream",
     "text": [
      "Processing chunks:   7%|▋         | 2/30 [00:03<00:54,  1.94s/it]"
     ]
    },
    {
     "name": "stdout",
     "output_type": "stream",
     "text": [
      "Relevant Summary | \"Los aceites y grasas vegetales comestibles podrán ser adicionados, con la exclusión de los aceites de oliva de presión no refinados, de los siguientes antioxidantes y sinergistas:\n",
      "1. Galato de propilo, galato de octilo y galato de dodecilo (o sus mezclas), Máx: 100 mg/kg (100 ppm), aislados o mezclados.\n",
      "2. Hidroxianisol butilado (BHA), Máx: 200 mg/kg (200 ppm).\n",
      "3. Hidroxitolueno butilado (BHT), Máx: 200 mg/kg (200 ppm)\"\n"
     ]
    },
    {
     "name": "stderr",
     "output_type": "stream",
     "text": [
      "Processing chunks:  37%|███▋      | 11/30 [00:11<00:19,  1.02s/it]"
     ]
    },
    {
     "name": "stdout",
     "output_type": "stream",
     "text": [
      "Relevant Summary | \"Se permite el agregado de los antioxidantes y sinergistas autorizados para aceites en el Artículo 523 y en las mismas proporciones\".\n"
     ]
    },
    {
     "name": "stderr",
     "output_type": "stream",
     "text": [
      "Processing chunks:  50%|█████     | 15/30 [00:17<00:22,  1.49s/it]"
     ]
    },
    {
     "name": "stdout",
     "output_type": "stream",
     "text": [
      "Relevant Summary | Para los aceites y grasas vegetales comestibles, se pueden agregar los siguientes antioxidantes:\n",
      "\n",
      "- Palmitato de ascorbilo (INS 304)\n",
      "- Estearato de ascorbilo (INS 305)\n",
      "- Galato de propilo (INS 310)\n",
      "- Resina de guayaco (INS 314)\n",
      "- Ter butil hidroxiquinona, TBHQ (INS 319)\n",
      "- Butil hidroxianisol, BHA (INS 320)\n",
      "- Butil hidroxitolueno, BHT (INS 321)\n",
      "- Ácido fosfórico (INS 338)\n",
      "- Citrato de isopropilo (mezcla) (INS 384)\n"
     ]
    },
    {
     "name": "stderr",
     "output_type": "stream",
     "text": [
      "Processing chunks: 100%|██████████| 30/30 [00:27<00:00,  1.10it/s]\n"
     ]
    },
    {
     "data": {
      "application/vnd.jupyter.widget-view+json": {
       "model_id": "3c25d7b73cfa419b9e2cd7d19b0e1610",
       "version_major": 2,
       "version_minor": 0
      },
      "text/plain": [
       "Evaluating:   0%|          | 0/4 [00:00<?, ?it/s]"
      ]
     },
     "metadata": {},
     "output_type": "display_data"
    },
    {
     "data": {
      "application/vnd.jupyter.widget-view+json": {
       "model_id": "ff157a7295f54c3db2d816a2e2c05510",
       "version_major": 2,
       "version_minor": 0
      },
      "text/plain": [
       "Evaluating:   0%|          | 0/4 [00:00<?, ?it/s]"
      ]
     },
     "metadata": {},
     "output_type": "display_data"
    },
    {
     "name": "stdout",
     "output_type": "stream",
     "text": [
      "                                           user_input  \\\n",
      "0                       ¿Qué se entiende por cerveza?   \n",
      "1                       ¿Qué se entiende por cerveza?   \n",
      "2                   ¿Cómo se clasifican las cervezas?   \n",
      "3                   ¿Cómo se clasifican las cervezas?   \n",
      "4                          ¿Qué se define como sidra?   \n",
      "5                          ¿Qué se define como sidra?   \n",
      "6               ¿Se pueden añadir aromas a los vinos?   \n",
      "7               ¿Se pueden añadir aromas a los vinos?   \n",
      "8   ¿Los condimentos vegetales tienen algunas rest...   \n",
      "9   ¿Los condimentos vegetales tienen algunas rest...   \n",
      "10  ¿Qué caracteristicas debe tener la harina de c...   \n",
      "11  ¿Qué caracteristicas debe tener la harina de c...   \n",
      "12  ¿Quiénes deben cumplir con la regulación alime...   \n",
      "13  ¿Quiénes deben cumplir con la regulación alime...   \n",
      "14           ¿Qué se define como aditivo alimentario?   \n",
      "15           ¿Qué se define como aditivo alimentario?   \n",
      "16  ¿Cuáles son los límites de metales aceptados e...   \n",
      "17  ¿Cuáles son los límites de metales aceptados e...   \n",
      "18  ¿Qué antioxidantes o sinergistas pueden agrega...   \n",
      "19  ¿Qué antioxidantes o sinergistas pueden agrega...   \n",
      "\n",
      "                                   retrieved_contexts  \\\n",
      "0   [CAPÍTULO XIII\\nBEBIDAS FERMENTADAS\\nCERVEZAS\\...   \n",
      "1   [Se entiende exclusivamente por cerveza la beb...   \n",
      "2   [1.3 Designación (denominación de venta)\\n1.3....   \n",
      "3   [Las cervezas se clasifican de la siguiente ma...   \n",
      "4   [“Se entiende por Sidra Analcohólica o Sidra s...   \n",
      "5   [“Sidra es la sidra base, endulzada y gasifica...   \n",
      "6                                                  []   \n",
      "7                                                  []   \n",
      "8   [Los titulares de los establecimientos deberán...   \n",
      "9   [\"Deben ser genuinas, sanas y responder a sus ...   \n",
      "10  [Las harinas de soja no tostadas podrán ser us...   \n",
      "11  [“Con la denominación de Harina de Chía, se en...   \n",
      "12  [2.1.1. Los productores deben cumplir con la i...   \n",
      "13  [\"Los productores deben cumplir con la inscrip...   \n",
      "14  [sus procesos biológicos. La designación \"alim...   \n",
      "15  [Aditivo alimentario: Cualquier substancia o m...   \n",
      "16  [PARTE I\\n1- Criterios Generales:\\n1.1 - En lo...   \n",
      "17  [\"Cadmio (Cd) < 1000 µg / kilo de carne de mol...   \n",
      "18  [alimentaria y servicios gastronómicos deberán...   \n",
      "19  [\"En el caso de los aceites deberán estar adic...   \n",
      "\n",
      "                                             response  \\\n",
      "0   Respuesta: La cerveza se entiende exclusivamen...   \n",
      "1   Respuesta: Se entiende por cerveza exclusivame...   \n",
      "2   Las cervezas se clasifican de la siguiente man...   \n",
      "3   Las cervezas se clasifican de la siguiente man...   \n",
      "4   La sidra se define como la bebida que resulta ...   \n",
      "5   La sidra se define como la sidra base, endulza...   \n",
      "6   Sí, de acuerdo con la normativa vigente, se pe...   \n",
      "7   Sí, se pueden añadir aromas a los vinos median...   \n",
      "8   Sí, los condimentos vegetales tienen restricci...   \n",
      "9   Sí, los condimentos vegetales tienen algunas r...   \n",
      "10  La harina de chía debe tener las siguientes ca...   \n",
      "11  La harina de chía debe tener las siguientes ca...   \n",
      "12  Los productores de alimentos deben cumplir con...   \n",
      "13  Quienes deben cumplir con la regulación alimen...   \n",
      "14  Un aditivo alimentario se define como cualquie...   \n",
      "15  Un aditivo alimentario se define como cualquie...   \n",
      "16  Los límites de metales aceptados en los alimen...   \n",
      "17  Los límites de metales aceptados en los alimen...   \n",
      "18  Los antioxidantes y sinergistas que pueden agr...   \n",
      "19  Los antioxidantes o sinergistas que pueden agr...   \n",
      "\n",
      "                                            reference  context_precision  \\\n",
      "0   Se entiende exclusivamente por cerveza la bebi...           1.000000   \n",
      "1   Se entiende exclusivamente por cerveza la bebi...           1.000000   \n",
      "2   El contenido de nutrientes y/o del valor energ...           1.000000   \n",
      "3   El contenido de nutrientes y/o del valor energ...           0.948413   \n",
      "4   SIDRAS\\nArtículo 1085 - (Resolución Conjunta S...           1.000000   \n",
      "5   SIDRAS\\nArtículo 1085 - (Resolución Conjunta S...           1.000000   \n",
      "6   Artículo 1105\\nQueda prohibido fabricar, expon...           0.000000   \n",
      "7   Artículo 1105\\nQueda prohibido fabricar, expon...           0.000000   \n",
      "8   CONDIMENTOS VEGETALES\\nArtículo 1199\\nCon la d...           1.000000   \n",
      "9   CONDIMENTOS VEGETALES\\nArtículo 1199\\nCon la d...           1.000000   \n",
      "10  “Con la denominación de Harina de Chía, se ent...           1.000000   \n",
      "11  “Con la denominación de Harina de Chía, se ent...           1.000000   \n",
      "12  Artículo 1\\nToda persona, firma comercial o es...           1.000000   \n",
      "13  Artículo 1\\nToda persona, firma comercial o es...           0.937925   \n",
      "14  Aditivo alime ntario: es cualquier ingrediente...           0.916667   \n",
      "15  Aditivo alime ntario: es cualquier ingrediente...           1.000000   \n",
      "16  Artículo 156 - (Res. 1546, 17.9.85)\\n\"En los a...           1.000000   \n",
      "17  Artículo 156 - (Res. 1546, 17.9.85)\\n\"En los a...           0.983786   \n",
      "18  Artículo 523bis - (Res 2012, 19.10.84)\\n\"Los a...           1.000000   \n",
      "19  Artículo 523bis - (Res 2012, 19.10.84)\\n\"Los a...           1.000000   \n",
      "\n",
      "    faithfulness  answer_relevancy  context_recall retrieval  \n",
      "0       1.000000          0.861423        1.000000     Basic  \n",
      "1       1.000000          0.888617        1.000000  Advanced  \n",
      "2       1.000000          0.910431        0.750000     Basic  \n",
      "3       0.833333          0.910431        0.600000  Advanced  \n",
      "4       1.000000          0.982963        1.000000     Basic  \n",
      "5       1.000000          0.856875        0.000000  Advanced  \n",
      "6       0.000000          0.939822        0.000000     Basic  \n",
      "7       0.000000          0.961732        0.000000  Advanced  \n",
      "8       1.000000          0.944407        1.000000     Basic  \n",
      "9       1.000000          0.967685        0.200000  Advanced  \n",
      "10      0.166667          0.905356        1.000000     Basic  \n",
      "11      1.000000          0.913692        0.230769  Advanced  \n",
      "12      1.000000          0.911857        1.000000     Basic  \n",
      "13      1.000000          0.948461        1.000000  Advanced  \n",
      "14      1.000000          0.916149        1.000000     Basic  \n",
      "15      1.000000          0.919993        0.500000  Advanced  \n",
      "16      1.000000          0.000000        1.000000     Basic  \n",
      "17      1.000000          0.904344        1.000000  Advanced  \n",
      "18      1.000000          0.869677        0.300000     Basic  \n",
      "19      1.000000          0.884729        0.333333  Advanced  \n"
     ]
    }
   ],
   "source": [
    "import answering.answering as ans\n",
    "import retrievers.summarization as summ\n",
    "import evaluation.evaluation_ragas as eval\n",
    "\n",
    "coleccion = \"openai-750-overlap\"\n",
    "embedding=\"openai\"\n",
    "limit = 30\n",
    "\n",
    "# Initialize an empty list to collect results for each iteration\n",
    "eval_results = []\n",
    "\n",
    "for _, row in eval_df.iterrows():\n",
    "    query = row.iloc[0]  # Assuming the query is in the first column\n",
    "    ground_truth = row.iloc[1]\n",
    "    print(f'Query {_}/{len(eval_df)}: {query}')\n",
    "    \n",
    "    # Perform embedding and search\n",
    "    results = embed_and_search(query, coleccion, limit=limit, embedding=embedding)\n",
    "    chunks_basic = [point.payload['content'] for point in results]\n",
    "    chunks_adv = summ.summarize_multiple_chunks(query, chunks_basic)\n",
    "    chunks_basic = chunks_basic[:min(len(chunks_adv),15)]\n",
    "    \n",
    "    # Generate answers\n",
    "    answer_basic = ans.answer_query_with_context(query, chunks_basic)\n",
    "    answer_adv = ans.answer_query_with_context(query, chunks_adv)\n",
    "    \n",
    "    # Evaluate RAGAS for basic and advanced retrieval\n",
    "    ragas_basic = eval.evaluate_ragas(query, answer_basic, chunks_basic, ground_truth)\n",
    "    ragas_basic['retrieval'] = \"Basic\"\n",
    "    \n",
    "    ragas_adv = eval.evaluate_ragas(query, answer_adv, chunks_adv, ground_truth)\n",
    "    ragas_adv['retrieval'] = \"Advanced\"\n",
    "    \n",
    "    # Append results to the list\n",
    "    eval_results.append(ragas_basic)\n",
    "    eval_results.append(ragas_adv)\n",
    "\n",
    "# Consolidate all results into a single DataFrame\n",
    "df_eval = pd.concat(eval_results, ignore_index=True)\n",
    "\n",
    "# Display or return the final DataFrame\n",
    "print(df_eval)\n",
    "    \n"
   ]
  },
  {
   "cell_type": "code",
   "execution_count": 12,
   "metadata": {},
   "outputs": [],
   "source": [
    "df_eval.to_csv(f'evaluacion_{coleccion}_{embedding}_4o.csv', index=False)"
   ]
  },
  {
   "cell_type": "code",
   "execution_count": null,
   "metadata": {},
   "outputs": [],
   "source": []
  },
  {
   "cell_type": "code",
   "execution_count": 53,
   "metadata": {},
   "outputs": [],
   "source": [
    "from datasets import Dataset \n",
    "import os\n",
    "from ragas import evaluate\n",
    "from ragas.metrics import faithfulness, answer_relevancy, LLMContextRecall\n",
    "import os\n",
    "\n",
    "# Set the OpenAI API key\n",
    "os.environ['OPENAI_API_KEY'] = os.getenv('OPENAI_API_KEY')\n",
    "\n",
    "def evaluate_ragas(query, answer,chunks, ground_truth):\n",
    "    data = {\n",
    "        'question': [\n",
    "            query\n",
    "        ],\n",
    "        'response': [\n",
    "                answer\n",
    "        ],\n",
    "        'contexts': [\n",
    "                chunks\n",
    "        ],\n",
    "        'ground_truth': [\n",
    "            ground_truth\n",
    "        ]\n",
    "    }\n",
    "\n",
    "    dataset = Dataset.from_dict(data)\n",
    "\n",
    "    context_recall = LLMContextRecall()\n",
    "    score = evaluate(dataset, metrics=[context_precision, faithfulness, answer_relevancy, context_recall])\n",
    "    df = score.to_pandas()\n",
    "    return df"
   ]
  },
  {
   "cell_type": "code",
   "execution_count": null,
   "metadata": {},
   "outputs": [],
   "source": [
    "ground_truth = '''Se considera polen no apto para el consumo, aquel que presente una o más de las siguientes\n",
    "    características:\n",
    "    1. Caracteres organolépticos anormales\n",
    "    2. Exceso de polvillo o de propóleos\n",
    "    3. Anormalidades en la observación microscópica\n",
    "    4. Composición analítica diferente a la consignada anteriormente\n",
    "    5. Características microbiológicas superiores a los límites establecidos\n",
    "    6. Ataque de insectos, parásitos o sus larvas\n",
    "    7. Residuos de plaguicidas\n",
    "    8. Substancias conservadoras\n",
    "    9. Impurezas no retenidas por un tamiz IRAM 500 μ (N° 35) más de 5 por 1000.'''\n",
    "\n",
    "\n",
    "df_ragas = evaluate_ragas(query,answer_adv, chunks_adv, ground_truth)\n",
    "df_ragas"
   ]
  },
  {
   "cell_type": "code",
   "execution_count": null,
   "metadata": {},
   "outputs": [],
   "source": [
    "df_ragas = evaluate_ragas(query,answer_basic, chunks_basic, ground_truth)\n",
    "df_ragas"
   ]
  },
  {
   "cell_type": "code",
   "execution_count": null,
   "metadata": {},
   "outputs": [],
   "source": []
  },
  {
   "cell_type": "code",
   "execution_count": 47,
   "metadata": {},
   "outputs": [],
   "source": []
  },
  {
   "cell_type": "code",
   "execution_count": null,
   "metadata": {},
   "outputs": [],
   "source": [
    "answer_adv = answer_query_with_context(query,chunks_adv)\n",
    "answer_adv"
   ]
  },
  {
   "cell_type": "code",
   "execution_count": null,
   "metadata": {},
   "outputs": [],
   "source": [
    "answer_basic = answer_query_with_context(query,chunks_basic)\n",
    "answer_basic"
   ]
  },
  {
   "cell_type": "code",
   "execution_count": null,
   "metadata": {},
   "outputs": [],
   "source": []
  }
 ],
 "metadata": {
  "kernelspec": {
   "display_name": "mia",
   "language": "python",
   "name": "python3"
  },
  "language_info": {
   "codemirror_mode": {
    "name": "ipython",
    "version": 3
   },
   "file_extension": ".py",
   "mimetype": "text/x-python",
   "name": "python",
   "nbconvert_exporter": "python",
   "pygments_lexer": "ipython3",
   "version": "3.11.0"
  }
 },
 "nbformat": 4,
 "nbformat_minor": 2
}
