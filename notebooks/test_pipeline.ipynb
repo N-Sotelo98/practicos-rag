{
 "cells": [
  {
   "cell_type": "code",
   "execution_count": null,
   "metadata": {},
   "outputs": [],
   "source": [
    "import sys\n",
    "import os\n",
    "import glob\n",
    "import json\n",
    "\n",
    "project_root = os.path.abspath(os.path.join(os.getcwd(), os.pardir))\n",
    "sys.path.insert(0, os.path.join(project_root, 'src'))\n",
    "\n",
    "import chunking.chunker as chunk\n",
    "import embedding.embedder as emb\n",
    "import loaders.loaders as load\n",
    "import loaders.proccesing as proc\n",
    "#import retrievers.retrievers as ret\n",
    "import vector_store_client.vector_client as vsc\n",
    "# import pdf_processing.pdf_to_json as pdf\n",
    "# import text_preprocessing.text_preprocessing as tp"
   ]
  },
  {
   "cell_type": "code",
   "execution_count": null,
   "metadata": {},
   "outputs": [],
   "source": [
    "input_path = \"../data/reglamentacion/\"\n",
    "output_path = \"../data/staging/\""
   ]
  },
  {
   "cell_type": "code",
   "execution_count": null,
   "metadata": {},
   "outputs": [],
   "source": [
    "processor = proc.Processing(ruta=input_path, output=output_path)\n",
    "\n",
    "# Convert PDFs to JSON\n",
    "processor.pdf_to_json()\n",
    "\n",
    "# Clean the JSON data\n",
    "processor.clean_data()"
   ]
  },
  {
   "cell_type": "code",
   "execution_count": null,
   "metadata": {},
   "outputs": [],
   "source": [
    "all_chunks = []\n",
    "\n",
    "for file in glob.glob(output_path+'*.json'):\n",
    "    # Load a cleaned JSON file\n",
    "    print(file)\n",
    "    with open(file, 'r', encoding='utf-8') as file:\n",
    "        data = json.load(file)\n",
    "\n",
    "    # Pass it to Chunker\n",
    "    chunker = chunk.Chunker(data, max_chunk_size=600)\n",
    "    chunks = chunker.chunking_hybrid()\n",
    "\n",
    "    all_chunks.extend(chunks)"
   ]
  },
  {
   "cell_type": "code",
   "execution_count": null,
   "metadata": {},
   "outputs": [],
   "source": [
    "print(len(all_chunks))\n",
    "all_chunks[0]"
   ]
  },
  {
   "cell_type": "code",
   "execution_count": null,
   "metadata": {},
   "outputs": [],
   "source": [
    "embedder = emb.Embedder()\n",
    "enriched_chunks = embedder.generate_embeddings(chunks)"
   ]
  },
  {
   "cell_type": "code",
   "execution_count": null,
   "metadata": {},
   "outputs": [],
   "source": [
    "len(enriched_chunks)"
   ]
  },
  {
   "cell_type": "code",
   "execution_count": null,
   "metadata": {},
   "outputs": [],
   "source": [
    "vector_client = vsc.VectorStoreClient(type=\"qdrant\")\n",
    "\n",
    "# Insert embeddings into the vector store\n",
    "vector_client.insert_embeddings(enriched_chunks)"
   ]
  },
  {
   "cell_type": "code",
   "execution_count": null,
   "metadata": {},
   "outputs": [],
   "source": [
    "\n",
    "# Perform a search\n",
    "query = \"Sample search query\"\n",
    "results = vector_client.search(query)\n",
    "\n",
    "# Display search results\n",
    "for result in results:\n",
    "    print(result)"
   ]
  }
 ],
 "metadata": {
  "kernelspec": {
   "display_name": "mia",
   "language": "python",
   "name": "python3"
  },
  "language_info": {
   "codemirror_mode": {
    "name": "ipython",
    "version": 3
   },
   "file_extension": ".py",
   "mimetype": "text/x-python",
   "name": "python",
   "nbconvert_exporter": "python",
   "pygments_lexer": "ipython3",
   "version": "3.11.0"
  }
 },
 "nbformat": 4,
 "nbformat_minor": 2
}
