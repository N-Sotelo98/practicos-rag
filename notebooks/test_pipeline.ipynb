{
 "cells": [
  {
   "cell_type": "code",
   "execution_count": 1,
   "metadata": {},
   "outputs": [
    {
     "name": "stderr",
     "output_type": "stream",
     "text": [
      "c:\\Users\\gigle\\anaconda3\\envs\\mia\\Lib\\site-packages\\sentence_transformers\\cross_encoder\\CrossEncoder.py:13: TqdmExperimentalWarning: Using `tqdm.autonotebook.tqdm` in notebook mode. Use `tqdm.tqdm` instead to force console mode (e.g. in jupyter console)\n",
      "  from tqdm.autonotebook import tqdm, trange\n"
     ]
    }
   ],
   "source": [
    "import sys\n",
    "import os\n",
    "import glob\n",
    "import json\n",
    "\n",
    "project_root = os.path.abspath(os.path.join(os.getcwd(), os.pardir))\n",
    "sys.path.insert(0, os.path.join(project_root, 'src'))\n",
    "\n",
    "import chunking.chunker as chunk\n",
    "import embedding.embedder as emb\n",
    "import loaders.loaders as load\n",
    "import loaders.proccesing as proc\n",
    "#import retrievers.retrievers as ret\n",
    "import vector_store_client.vector_client as vsc\n",
    "# import pdf_processing.pdf_to_json as pdf\n",
    "# import text_preprocessing.text_preprocessing as tp"
   ]
  },
  {
   "cell_type": "code",
   "execution_count": 2,
   "metadata": {},
   "outputs": [],
   "source": [
    "input_path = \"../data/reglamentacion/\"\n",
    "output_path = \"../data/staging/\""
   ]
  },
  {
   "cell_type": "code",
   "execution_count": 3,
   "metadata": {},
   "outputs": [],
   "source": [
    "# processor = proc.Processing(ruta=input_path, output=output_path)\n",
    "\n",
    "# # Convert PDFs to JSON\n",
    "# processor.pdf_to_json()\n",
    "\n",
    "# # Clean the JSON data\n",
    "# processor.clean_data()"
   ]
  },
  {
   "cell_type": "code",
   "execution_count": 4,
   "metadata": {},
   "outputs": [
    {
     "name": "stdout",
     "output_type": "stream",
     "text": [
      "../data/staging\\capitulo7.json\n",
      "../data/staging\\capitulo1.json\n",
      "../data/staging\\capitulo10.json\n",
      "../data/staging\\capitulo11.json\n",
      "../data/staging\\capitulo12.json\n",
      "../data/staging\\capitulo13.json\n",
      "../data/staging\\capitulo14.json\n",
      "../data/staging\\capitulo15.json\n",
      "../data/staging\\capitulo16.json\n",
      "../data/staging\\capitulo17.json\n",
      "../data/staging\\capitulo18.json\n",
      "../data/staging\\capitulo19.json\n",
      "../data/staging\\capitulo2.json\n",
      "../data/staging\\capitulo20.json\n",
      "../data/staging\\capitulo21.json\n",
      "../data/staging\\capitulo22.json\n",
      "../data/staging\\capitulo3.json\n",
      "../data/staging\\capitulo4.json\n",
      "../data/staging\\capitulo5.json\n",
      "../data/staging\\capitulo6.json\n",
      "../data/staging\\capitulo8.json\n",
      "../data/staging\\capitulo9.json\n"
     ]
    }
   ],
   "source": [
    "all_chunks = []\n",
    "\n",
    "for file in glob.glob(output_path+'*.json'):\n",
    "    # Load a cleaned JSON file\n",
    "    print(file)\n",
    "    with open(file, 'r', encoding='utf-8') as file:\n",
    "        data = json.load(file)\n",
    "\n",
    "    # Pass it to Chunker\n",
    "    chunker = chunk.Chunker(data, max_chunk_size=600)\n",
    "    chunks = chunker.chunking_hybrid()\n",
    "\n",
    "    all_chunks.extend(chunks)"
   ]
  },
  {
   "cell_type": "code",
   "execution_count": 5,
   "metadata": {},
   "outputs": [
    {
     "name": "stdout",
     "output_type": "stream",
     "text": [
      "33212\n"
     ]
    },
    {
     "data": {
      "text/plain": [
       "{'metadata': {'type': 'narrative', 'filename': 'capitulo7.pdf'},\n",
       " 'contenido': 'consideran Aceites alimenticios o Aceites comestibles, los admitidos como aptos para'}"
      ]
     },
     "execution_count": 5,
     "metadata": {},
     "output_type": "execute_result"
    }
   ],
   "source": [
    "print(len(all_chunks))\n",
    "all_chunks[0]"
   ]
  },
  {
   "cell_type": "code",
   "execution_count": 6,
   "metadata": {},
   "outputs": [
    {
     "name": "stderr",
     "output_type": "stream",
     "text": [
      "2024-11-21 20:52:18,683 - INFO - Use pytorch device_name: cpu\n",
      "2024-11-21 20:52:18,684 - INFO - Load pretrained SentenceTransformer: all-MiniLM-L6-v2\n",
      "c:\\Users\\gigle\\anaconda3\\envs\\mia\\Lib\\site-packages\\transformers\\tokenization_utils_base.py:1617: FutureWarning: `clean_up_tokenization_spaces` was not set. It will be set to `True` by default. This behavior will be deprecated in transformers v4.45, and will be then set to `False` by default. For more details check this issue: https://github.com/huggingface/transformers/issues/31884\n",
      "  warnings.warn(\n"
     ]
    },
    {
     "data": {
      "application/vnd.jupyter.widget-view+json": {
       "model_id": "b0432c31c4e440d9a69905fd637a17e1",
       "version_major": 2,
       "version_minor": 0
      },
      "text/plain": [
       "Batches:   0%|          | 0/1 [00:00<?, ?it/s]"
      ]
     },
     "metadata": {},
     "output_type": "display_data"
    },
    {
     "data": {
      "application/vnd.jupyter.widget-view+json": {
       "model_id": "5de886854437428d9875d413d0f69e8d",
       "version_major": 2,
       "version_minor": 0
      },
      "text/plain": [
       "Batches:   0%|          | 0/1 [00:00<?, ?it/s]"
      ]
     },
     "metadata": {},
     "output_type": "display_data"
    },
    {
     "data": {
      "application/vnd.jupyter.widget-view+json": {
       "model_id": "417bf4b9057441819d1de31bdc9df977",
       "version_major": 2,
       "version_minor": 0
      },
      "text/plain": [
       "Batches:   0%|          | 0/1 [00:00<?, ?it/s]"
      ]
     },
     "metadata": {},
     "output_type": "display_data"
    },
    {
     "data": {
      "application/vnd.jupyter.widget-view+json": {
       "model_id": "c746dc6a095a441f8367b9a60853891f",
       "version_major": 2,
       "version_minor": 0
      },
      "text/plain": [
       "Batches:   0%|          | 0/1 [00:00<?, ?it/s]"
      ]
     },
     "metadata": {},
     "output_type": "display_data"
    },
    {
     "data": {
      "application/vnd.jupyter.widget-view+json": {
       "model_id": "6d9e6e4d097148a6a5d78c90c69060a8",
       "version_major": 2,
       "version_minor": 0
      },
      "text/plain": [
       "Batches:   0%|          | 0/1 [00:00<?, ?it/s]"
      ]
     },
     "metadata": {},
     "output_type": "display_data"
    },
    {
     "data": {
      "application/vnd.jupyter.widget-view+json": {
       "model_id": "8e50a6489d8f45be9b8ec7146de9aeed",
       "version_major": 2,
       "version_minor": 0
      },
      "text/plain": [
       "Batches:   0%|          | 0/1 [00:00<?, ?it/s]"
      ]
     },
     "metadata": {},
     "output_type": "display_data"
    },
    {
     "data": {
      "application/vnd.jupyter.widget-view+json": {
       "model_id": "4c6146a604a04f4d9e69ac9c46606028",
       "version_major": 2,
       "version_minor": 0
      },
      "text/plain": [
       "Batches:   0%|          | 0/1 [00:00<?, ?it/s]"
      ]
     },
     "metadata": {},
     "output_type": "display_data"
    },
    {
     "data": {
      "application/vnd.jupyter.widget-view+json": {
       "model_id": "37e8200248924c09969fb2e5cc0f1680",
       "version_major": 2,
       "version_minor": 0
      },
      "text/plain": [
       "Batches:   0%|          | 0/1 [00:00<?, ?it/s]"
      ]
     },
     "metadata": {},
     "output_type": "display_data"
    },
    {
     "data": {
      "application/vnd.jupyter.widget-view+json": {
       "model_id": "259b3024322a441e8c11c66b3d10c321",
       "version_major": 2,
       "version_minor": 0
      },
      "text/plain": [
       "Batches:   0%|          | 0/1 [00:00<?, ?it/s]"
      ]
     },
     "metadata": {},
     "output_type": "display_data"
    },
    {
     "data": {
      "application/vnd.jupyter.widget-view+json": {
       "model_id": "833be8671cb74a40b6d9c29cee7b842e",
       "version_major": 2,
       "version_minor": 0
      },
      "text/plain": [
       "Batches:   0%|          | 0/1 [00:00<?, ?it/s]"
      ]
     },
     "metadata": {},
     "output_type": "display_data"
    },
    {
     "data": {
      "application/vnd.jupyter.widget-view+json": {
       "model_id": "9ea12df578014b2595da37167b980d02",
       "version_major": 2,
       "version_minor": 0
      },
      "text/plain": [
       "Batches:   0%|          | 0/1 [00:00<?, ?it/s]"
      ]
     },
     "metadata": {},
     "output_type": "display_data"
    },
    {
     "data": {
      "application/vnd.jupyter.widget-view+json": {
       "model_id": "14befbe7b7e04aec8c7520cadd0705d2",
       "version_major": 2,
       "version_minor": 0
      },
      "text/plain": [
       "Batches:   0%|          | 0/1 [00:00<?, ?it/s]"
      ]
     },
     "metadata": {},
     "output_type": "display_data"
    },
    {
     "data": {
      "application/vnd.jupyter.widget-view+json": {
       "model_id": "ce910d9d9a3440448fb800808fa34f20",
       "version_major": 2,
       "version_minor": 0
      },
      "text/plain": [
       "Batches:   0%|          | 0/1 [00:00<?, ?it/s]"
      ]
     },
     "metadata": {},
     "output_type": "display_data"
    },
    {
     "data": {
      "application/vnd.jupyter.widget-view+json": {
       "model_id": "cd64dfff0897498da5f3f226d4264fbf",
       "version_major": 2,
       "version_minor": 0
      },
      "text/plain": [
       "Batches:   0%|          | 0/1 [00:00<?, ?it/s]"
      ]
     },
     "metadata": {},
     "output_type": "display_data"
    },
    {
     "data": {
      "application/vnd.jupyter.widget-view+json": {
       "model_id": "55a27dddcf724386a9e43da7b89d451b",
       "version_major": 2,
       "version_minor": 0
      },
      "text/plain": [
       "Batches:   0%|          | 0/1 [00:00<?, ?it/s]"
      ]
     },
     "metadata": {},
     "output_type": "display_data"
    },
    {
     "data": {
      "application/vnd.jupyter.widget-view+json": {
       "model_id": "1a3ac228a51b44a09734b85be881254e",
       "version_major": 2,
       "version_minor": 0
      },
      "text/plain": [
       "Batches:   0%|          | 0/1 [00:00<?, ?it/s]"
      ]
     },
     "metadata": {},
     "output_type": "display_data"
    },
    {
     "data": {
      "application/vnd.jupyter.widget-view+json": {
       "model_id": "d638a44a8c2d460d87d32c23645a7a5b",
       "version_major": 2,
       "version_minor": 0
      },
      "text/plain": [
       "Batches:   0%|          | 0/1 [00:00<?, ?it/s]"
      ]
     },
     "metadata": {},
     "output_type": "display_data"
    },
    {
     "data": {
      "application/vnd.jupyter.widget-view+json": {
       "model_id": "c4509deed1784d8fb2fc3582abea7f87",
       "version_major": 2,
       "version_minor": 0
      },
      "text/plain": [
       "Batches:   0%|          | 0/1 [00:00<?, ?it/s]"
      ]
     },
     "metadata": {},
     "output_type": "display_data"
    },
    {
     "data": {
      "application/vnd.jupyter.widget-view+json": {
       "model_id": "6eabf12a158740c8a78d739b7223552a",
       "version_major": 2,
       "version_minor": 0
      },
      "text/plain": [
       "Batches:   0%|          | 0/1 [00:00<?, ?it/s]"
      ]
     },
     "metadata": {},
     "output_type": "display_data"
    },
    {
     "data": {
      "application/vnd.jupyter.widget-view+json": {
       "model_id": "9ce428968b104d01b14e93030ceb1d47",
       "version_major": 2,
       "version_minor": 0
      },
      "text/plain": [
       "Batches:   0%|          | 0/1 [00:00<?, ?it/s]"
      ]
     },
     "metadata": {},
     "output_type": "display_data"
    },
    {
     "data": {
      "application/vnd.jupyter.widget-view+json": {
       "model_id": "72789205698e47208aef009d4e6e14cf",
       "version_major": 2,
       "version_minor": 0
      },
      "text/plain": [
       "Batches:   0%|          | 0/1 [00:00<?, ?it/s]"
      ]
     },
     "metadata": {},
     "output_type": "display_data"
    },
    {
     "data": {
      "application/vnd.jupyter.widget-view+json": {
       "model_id": "3e6b82808fa546d080def14696803c6c",
       "version_major": 2,
       "version_minor": 0
      },
      "text/plain": [
       "Batches:   0%|          | 0/1 [00:00<?, ?it/s]"
      ]
     },
     "metadata": {},
     "output_type": "display_data"
    },
    {
     "data": {
      "application/vnd.jupyter.widget-view+json": {
       "model_id": "3a3a1ef5c23b46038ff78f563429b47e",
       "version_major": 2,
       "version_minor": 0
      },
      "text/plain": [
       "Batches:   0%|          | 0/1 [00:00<?, ?it/s]"
      ]
     },
     "metadata": {},
     "output_type": "display_data"
    },
    {
     "data": {
      "application/vnd.jupyter.widget-view+json": {
       "model_id": "b4e04a144b8741d1974af0ad4f80390f",
       "version_major": 2,
       "version_minor": 0
      },
      "text/plain": [
       "Batches:   0%|          | 0/1 [00:00<?, ?it/s]"
      ]
     },
     "metadata": {},
     "output_type": "display_data"
    },
    {
     "data": {
      "application/vnd.jupyter.widget-view+json": {
       "model_id": "fd35fa5961ee4aee8abc315137a6d973",
       "version_major": 2,
       "version_minor": 0
      },
      "text/plain": [
       "Batches:   0%|          | 0/1 [00:00<?, ?it/s]"
      ]
     },
     "metadata": {},
     "output_type": "display_data"
    },
    {
     "data": {
      "application/vnd.jupyter.widget-view+json": {
       "model_id": "b9fc200350c5473ab0393b68ffcdcb0a",
       "version_major": 2,
       "version_minor": 0
      },
      "text/plain": [
       "Batches:   0%|          | 0/1 [00:00<?, ?it/s]"
      ]
     },
     "metadata": {},
     "output_type": "display_data"
    },
    {
     "data": {
      "application/vnd.jupyter.widget-view+json": {
       "model_id": "90cac5ce038e4a2495b75e3bab372cea",
       "version_major": 2,
       "version_minor": 0
      },
      "text/plain": [
       "Batches:   0%|          | 0/1 [00:00<?, ?it/s]"
      ]
     },
     "metadata": {},
     "output_type": "display_data"
    },
    {
     "data": {
      "application/vnd.jupyter.widget-view+json": {
       "model_id": "cd45597efab94b958f9b2014b300b37d",
       "version_major": 2,
       "version_minor": 0
      },
      "text/plain": [
       "Batches:   0%|          | 0/1 [00:00<?, ?it/s]"
      ]
     },
     "metadata": {},
     "output_type": "display_data"
    },
    {
     "data": {
      "application/vnd.jupyter.widget-view+json": {
       "model_id": "f3702fae664149739405ee95a26d2d6c",
       "version_major": 2,
       "version_minor": 0
      },
      "text/plain": [
       "Batches:   0%|          | 0/1 [00:00<?, ?it/s]"
      ]
     },
     "metadata": {},
     "output_type": "display_data"
    },
    {
     "data": {
      "application/vnd.jupyter.widget-view+json": {
       "model_id": "295244ed4fa3474cad572e065cbad2a7",
       "version_major": 2,
       "version_minor": 0
      },
      "text/plain": [
       "Batches:   0%|          | 0/1 [00:00<?, ?it/s]"
      ]
     },
     "metadata": {},
     "output_type": "display_data"
    },
    {
     "data": {
      "application/vnd.jupyter.widget-view+json": {
       "model_id": "44b547a1423d436591713e4a811ff348",
       "version_major": 2,
       "version_minor": 0
      },
      "text/plain": [
       "Batches:   0%|          | 0/1 [00:00<?, ?it/s]"
      ]
     },
     "metadata": {},
     "output_type": "display_data"
    },
    {
     "data": {
      "application/vnd.jupyter.widget-view+json": {
       "model_id": "3ed6a1c4e17c42edbc69ee131fa12a3a",
       "version_major": 2,
       "version_minor": 0
      },
      "text/plain": [
       "Batches:   0%|          | 0/1 [00:00<?, ?it/s]"
      ]
     },
     "metadata": {},
     "output_type": "display_data"
    },
    {
     "data": {
      "application/vnd.jupyter.widget-view+json": {
       "model_id": "eb25efcdadfb48f4a2ba0833dd2db4b1",
       "version_major": 2,
       "version_minor": 0
      },
      "text/plain": [
       "Batches:   0%|          | 0/1 [00:00<?, ?it/s]"
      ]
     },
     "metadata": {},
     "output_type": "display_data"
    },
    {
     "data": {
      "application/vnd.jupyter.widget-view+json": {
       "model_id": "99360a827c254b6b9e9c9ca274ffe410",
       "version_major": 2,
       "version_minor": 0
      },
      "text/plain": [
       "Batches:   0%|          | 0/1 [00:00<?, ?it/s]"
      ]
     },
     "metadata": {},
     "output_type": "display_data"
    },
    {
     "data": {
      "application/vnd.jupyter.widget-view+json": {
       "model_id": "1cdb355f377c4d309fa69e1404d5a995",
       "version_major": 2,
       "version_minor": 0
      },
      "text/plain": [
       "Batches:   0%|          | 0/1 [00:00<?, ?it/s]"
      ]
     },
     "metadata": {},
     "output_type": "display_data"
    },
    {
     "data": {
      "application/vnd.jupyter.widget-view+json": {
       "model_id": "501dbcf20cff4e6ba05d1cc6ca9508d6",
       "version_major": 2,
       "version_minor": 0
      },
      "text/plain": [
       "Batches:   0%|          | 0/1 [00:00<?, ?it/s]"
      ]
     },
     "metadata": {},
     "output_type": "display_data"
    },
    {
     "data": {
      "application/vnd.jupyter.widget-view+json": {
       "model_id": "9c62e3d01dd64b5bad6821795d063f70",
       "version_major": 2,
       "version_minor": 0
      },
      "text/plain": [
       "Batches:   0%|          | 0/1 [00:00<?, ?it/s]"
      ]
     },
     "metadata": {},
     "output_type": "display_data"
    },
    {
     "data": {
      "application/vnd.jupyter.widget-view+json": {
       "model_id": "5551cafa6d1a41b097ac1b7a592f3af7",
       "version_major": 2,
       "version_minor": 0
      },
      "text/plain": [
       "Batches:   0%|          | 0/1 [00:00<?, ?it/s]"
      ]
     },
     "metadata": {},
     "output_type": "display_data"
    },
    {
     "data": {
      "application/vnd.jupyter.widget-view+json": {
       "model_id": "38dc4cb8fc21497587348c4d1bc6b618",
       "version_major": 2,
       "version_minor": 0
      },
      "text/plain": [
       "Batches:   0%|          | 0/1 [00:00<?, ?it/s]"
      ]
     },
     "metadata": {},
     "output_type": "display_data"
    },
    {
     "data": {
      "application/vnd.jupyter.widget-view+json": {
       "model_id": "b6c1f628d7724f2093efde4c4ad7e03d",
       "version_major": 2,
       "version_minor": 0
      },
      "text/plain": [
       "Batches:   0%|          | 0/1 [00:00<?, ?it/s]"
      ]
     },
     "metadata": {},
     "output_type": "display_data"
    },
    {
     "data": {
      "application/vnd.jupyter.widget-view+json": {
       "model_id": "3759ca6120e24a3fb5d7afab087cae72",
       "version_major": 2,
       "version_minor": 0
      },
      "text/plain": [
       "Batches:   0%|          | 0/1 [00:00<?, ?it/s]"
      ]
     },
     "metadata": {},
     "output_type": "display_data"
    },
    {
     "data": {
      "application/vnd.jupyter.widget-view+json": {
       "model_id": "eba5b2ccabbc487192a4d251c2043abf",
       "version_major": 2,
       "version_minor": 0
      },
      "text/plain": [
       "Batches:   0%|          | 0/1 [00:00<?, ?it/s]"
      ]
     },
     "metadata": {},
     "output_type": "display_data"
    },
    {
     "data": {
      "application/vnd.jupyter.widget-view+json": {
       "model_id": "f965e297a0444cd9bce69233fa92be47",
       "version_major": 2,
       "version_minor": 0
      },
      "text/plain": [
       "Batches:   0%|          | 0/1 [00:00<?, ?it/s]"
      ]
     },
     "metadata": {},
     "output_type": "display_data"
    },
    {
     "data": {
      "application/vnd.jupyter.widget-view+json": {
       "model_id": "3638a296b7da4b9f9bdfacea3cabd73f",
       "version_major": 2,
       "version_minor": 0
      },
      "text/plain": [
       "Batches:   0%|          | 0/1 [00:00<?, ?it/s]"
      ]
     },
     "metadata": {},
     "output_type": "display_data"
    },
    {
     "data": {
      "application/vnd.jupyter.widget-view+json": {
       "model_id": "f3a550b9211c4e1ea975f3f96a0b290d",
       "version_major": 2,
       "version_minor": 0
      },
      "text/plain": [
       "Batches:   0%|          | 0/1 [00:00<?, ?it/s]"
      ]
     },
     "metadata": {},
     "output_type": "display_data"
    },
    {
     "data": {
      "application/vnd.jupyter.widget-view+json": {
       "model_id": "7885f679c03d4e848432dc4d9f643d41",
       "version_major": 2,
       "version_minor": 0
      },
      "text/plain": [
       "Batches:   0%|          | 0/1 [00:00<?, ?it/s]"
      ]
     },
     "metadata": {},
     "output_type": "display_data"
    },
    {
     "data": {
      "application/vnd.jupyter.widget-view+json": {
       "model_id": "af76888155de4ffc9e52c19a229b0364",
       "version_major": 2,
       "version_minor": 0
      },
      "text/plain": [
       "Batches:   0%|          | 0/1 [00:00<?, ?it/s]"
      ]
     },
     "metadata": {},
     "output_type": "display_data"
    },
    {
     "data": {
      "application/vnd.jupyter.widget-view+json": {
       "model_id": "df2431ec54cc49dfbb9f4f249e73dd2f",
       "version_major": 2,
       "version_minor": 0
      },
      "text/plain": [
       "Batches:   0%|          | 0/1 [00:00<?, ?it/s]"
      ]
     },
     "metadata": {},
     "output_type": "display_data"
    },
    {
     "data": {
      "application/vnd.jupyter.widget-view+json": {
       "model_id": "0291d97fa8eb41cb8a1c95a7edddfec2",
       "version_major": 2,
       "version_minor": 0
      },
      "text/plain": [
       "Batches:   0%|          | 0/1 [00:00<?, ?it/s]"
      ]
     },
     "metadata": {},
     "output_type": "display_data"
    },
    {
     "data": {
      "application/vnd.jupyter.widget-view+json": {
       "model_id": "213837429a3b4b5aaea3c4000636873b",
       "version_major": 2,
       "version_minor": 0
      },
      "text/plain": [
       "Batches:   0%|          | 0/1 [00:00<?, ?it/s]"
      ]
     },
     "metadata": {},
     "output_type": "display_data"
    },
    {
     "data": {
      "application/vnd.jupyter.widget-view+json": {
       "model_id": "bfd34821668241f0bf506b64b62bdf4c",
       "version_major": 2,
       "version_minor": 0
      },
      "text/plain": [
       "Batches:   0%|          | 0/1 [00:00<?, ?it/s]"
      ]
     },
     "metadata": {},
     "output_type": "display_data"
    },
    {
     "data": {
      "application/vnd.jupyter.widget-view+json": {
       "model_id": "f6486b03e2ac441aaea23dc544ceef20",
       "version_major": 2,
       "version_minor": 0
      },
      "text/plain": [
       "Batches:   0%|          | 0/1 [00:00<?, ?it/s]"
      ]
     },
     "metadata": {},
     "output_type": "display_data"
    },
    {
     "data": {
      "application/vnd.jupyter.widget-view+json": {
       "model_id": "e227c2a380184b6490351404f44d9658",
       "version_major": 2,
       "version_minor": 0
      },
      "text/plain": [
       "Batches:   0%|          | 0/1 [00:00<?, ?it/s]"
      ]
     },
     "metadata": {},
     "output_type": "display_data"
    },
    {
     "data": {
      "application/vnd.jupyter.widget-view+json": {
       "model_id": "a2fce00a1e624761a79286ce819a8cf3",
       "version_major": 2,
       "version_minor": 0
      },
      "text/plain": [
       "Batches:   0%|          | 0/1 [00:00<?, ?it/s]"
      ]
     },
     "metadata": {},
     "output_type": "display_data"
    },
    {
     "data": {
      "application/vnd.jupyter.widget-view+json": {
       "model_id": "2303c126afc24b5880a60a201a979b11",
       "version_major": 2,
       "version_minor": 0
      },
      "text/plain": [
       "Batches:   0%|          | 0/1 [00:00<?, ?it/s]"
      ]
     },
     "metadata": {},
     "output_type": "display_data"
    },
    {
     "data": {
      "application/vnd.jupyter.widget-view+json": {
       "model_id": "f7d14ce60557430db73420d6d068a59e",
       "version_major": 2,
       "version_minor": 0
      },
      "text/plain": [
       "Batches:   0%|          | 0/1 [00:00<?, ?it/s]"
      ]
     },
     "metadata": {},
     "output_type": "display_data"
    },
    {
     "data": {
      "application/vnd.jupyter.widget-view+json": {
       "model_id": "4499b905ad2d4f8a828fa6c5dfb3566c",
       "version_major": 2,
       "version_minor": 0
      },
      "text/plain": [
       "Batches:   0%|          | 0/1 [00:00<?, ?it/s]"
      ]
     },
     "metadata": {},
     "output_type": "display_data"
    },
    {
     "data": {
      "application/vnd.jupyter.widget-view+json": {
       "model_id": "207927c44c404a929de2c2c5de4e7871",
       "version_major": 2,
       "version_minor": 0
      },
      "text/plain": [
       "Batches:   0%|          | 0/1 [00:00<?, ?it/s]"
      ]
     },
     "metadata": {},
     "output_type": "display_data"
    },
    {
     "data": {
      "application/vnd.jupyter.widget-view+json": {
       "model_id": "73a05dfed5464a298eb9d3c7efd9266d",
       "version_major": 2,
       "version_minor": 0
      },
      "text/plain": [
       "Batches:   0%|          | 0/1 [00:00<?, ?it/s]"
      ]
     },
     "metadata": {},
     "output_type": "display_data"
    },
    {
     "data": {
      "application/vnd.jupyter.widget-view+json": {
       "model_id": "fc85506e11604c7e9a070e910c5c0161",
       "version_major": 2,
       "version_minor": 0
      },
      "text/plain": [
       "Batches:   0%|          | 0/1 [00:00<?, ?it/s]"
      ]
     },
     "metadata": {},
     "output_type": "display_data"
    },
    {
     "data": {
      "application/vnd.jupyter.widget-view+json": {
       "model_id": "fa08cab1b16a4cde93ec80ec87a68d94",
       "version_major": 2,
       "version_minor": 0
      },
      "text/plain": [
       "Batches:   0%|          | 0/1 [00:00<?, ?it/s]"
      ]
     },
     "metadata": {},
     "output_type": "display_data"
    },
    {
     "data": {
      "application/vnd.jupyter.widget-view+json": {
       "model_id": "9fc6e1c88cd5468c90665a8c065b3a9e",
       "version_major": 2,
       "version_minor": 0
      },
      "text/plain": [
       "Batches:   0%|          | 0/1 [00:00<?, ?it/s]"
      ]
     },
     "metadata": {},
     "output_type": "display_data"
    },
    {
     "data": {
      "application/vnd.jupyter.widget-view+json": {
       "model_id": "f4b0180d8607470a93c049d1925fe1e3",
       "version_major": 2,
       "version_minor": 0
      },
      "text/plain": [
       "Batches:   0%|          | 0/1 [00:00<?, ?it/s]"
      ]
     },
     "metadata": {},
     "output_type": "display_data"
    },
    {
     "data": {
      "application/vnd.jupyter.widget-view+json": {
       "model_id": "7dae5d70d89f4c73b0189e622de81f68",
       "version_major": 2,
       "version_minor": 0
      },
      "text/plain": [
       "Batches:   0%|          | 0/1 [00:00<?, ?it/s]"
      ]
     },
     "metadata": {},
     "output_type": "display_data"
    },
    {
     "data": {
      "application/vnd.jupyter.widget-view+json": {
       "model_id": "2e2d7a0fb6ec4c26925dec2d0add7031",
       "version_major": 2,
       "version_minor": 0
      },
      "text/plain": [
       "Batches:   0%|          | 0/1 [00:00<?, ?it/s]"
      ]
     },
     "metadata": {},
     "output_type": "display_data"
    },
    {
     "data": {
      "application/vnd.jupyter.widget-view+json": {
       "model_id": "9a29d94192fd47c38ca5391d5639bbaa",
       "version_major": 2,
       "version_minor": 0
      },
      "text/plain": [
       "Batches:   0%|          | 0/1 [00:00<?, ?it/s]"
      ]
     },
     "metadata": {},
     "output_type": "display_data"
    },
    {
     "data": {
      "application/vnd.jupyter.widget-view+json": {
       "model_id": "5b1c783d3f05497f94f373538c339fc5",
       "version_major": 2,
       "version_minor": 0
      },
      "text/plain": [
       "Batches:   0%|          | 0/1 [00:00<?, ?it/s]"
      ]
     },
     "metadata": {},
     "output_type": "display_data"
    },
    {
     "data": {
      "application/vnd.jupyter.widget-view+json": {
       "model_id": "2b74e27a2b1240a3865762df24178229",
       "version_major": 2,
       "version_minor": 0
      },
      "text/plain": [
       "Batches:   0%|          | 0/1 [00:00<?, ?it/s]"
      ]
     },
     "metadata": {},
     "output_type": "display_data"
    },
    {
     "data": {
      "application/vnd.jupyter.widget-view+json": {
       "model_id": "dccdd6eee4ba4e1cbcf811959d153389",
       "version_major": 2,
       "version_minor": 0
      },
      "text/plain": [
       "Batches:   0%|          | 0/1 [00:00<?, ?it/s]"
      ]
     },
     "metadata": {},
     "output_type": "display_data"
    },
    {
     "data": {
      "application/vnd.jupyter.widget-view+json": {
       "model_id": "58cf1f6290d84950a4571cb15880400c",
       "version_major": 2,
       "version_minor": 0
      },
      "text/plain": [
       "Batches:   0%|          | 0/1 [00:00<?, ?it/s]"
      ]
     },
     "metadata": {},
     "output_type": "display_data"
    },
    {
     "data": {
      "application/vnd.jupyter.widget-view+json": {
       "model_id": "471666203c3a4a768683c08fd5055d16",
       "version_major": 2,
       "version_minor": 0
      },
      "text/plain": [
       "Batches:   0%|          | 0/1 [00:00<?, ?it/s]"
      ]
     },
     "metadata": {},
     "output_type": "display_data"
    },
    {
     "data": {
      "application/vnd.jupyter.widget-view+json": {
       "model_id": "6be56398b5d84d1c8ee4c3e276e55126",
       "version_major": 2,
       "version_minor": 0
      },
      "text/plain": [
       "Batches:   0%|          | 0/1 [00:00<?, ?it/s]"
      ]
     },
     "metadata": {},
     "output_type": "display_data"
    },
    {
     "data": {
      "application/vnd.jupyter.widget-view+json": {
       "model_id": "87360892abaf4a2b84ef4da036c0b02e",
       "version_major": 2,
       "version_minor": 0
      },
      "text/plain": [
       "Batches:   0%|          | 0/1 [00:00<?, ?it/s]"
      ]
     },
     "metadata": {},
     "output_type": "display_data"
    },
    {
     "data": {
      "application/vnd.jupyter.widget-view+json": {
       "model_id": "1245dcc1e9dd403798d66b1aea14d877",
       "version_major": 2,
       "version_minor": 0
      },
      "text/plain": [
       "Batches:   0%|          | 0/1 [00:00<?, ?it/s]"
      ]
     },
     "metadata": {},
     "output_type": "display_data"
    },
    {
     "data": {
      "application/vnd.jupyter.widget-view+json": {
       "model_id": "d53deb38b01f43c5a4a0224cd68722ed",
       "version_major": 2,
       "version_minor": 0
      },
      "text/plain": [
       "Batches:   0%|          | 0/1 [00:00<?, ?it/s]"
      ]
     },
     "metadata": {},
     "output_type": "display_data"
    },
    {
     "data": {
      "application/vnd.jupyter.widget-view+json": {
       "model_id": "8b8fc3e0372d494ebfaa3c27d3835ee2",
       "version_major": 2,
       "version_minor": 0
      },
      "text/plain": [
       "Batches:   0%|          | 0/1 [00:00<?, ?it/s]"
      ]
     },
     "metadata": {},
     "output_type": "display_data"
    },
    {
     "data": {
      "application/vnd.jupyter.widget-view+json": {
       "model_id": "9c9d76b54517465da96618eac706e573",
       "version_major": 2,
       "version_minor": 0
      },
      "text/plain": [
       "Batches:   0%|          | 0/1 [00:00<?, ?it/s]"
      ]
     },
     "metadata": {},
     "output_type": "display_data"
    },
    {
     "data": {
      "application/vnd.jupyter.widget-view+json": {
       "model_id": "400eb21896a6414d8410199af8015ee3",
       "version_major": 2,
       "version_minor": 0
      },
      "text/plain": [
       "Batches:   0%|          | 0/1 [00:00<?, ?it/s]"
      ]
     },
     "metadata": {},
     "output_type": "display_data"
    },
    {
     "data": {
      "application/vnd.jupyter.widget-view+json": {
       "model_id": "84c6a33944134467bcb3a99d84c3634d",
       "version_major": 2,
       "version_minor": 0
      },
      "text/plain": [
       "Batches:   0%|          | 0/1 [00:00<?, ?it/s]"
      ]
     },
     "metadata": {},
     "output_type": "display_data"
    },
    {
     "data": {
      "application/vnd.jupyter.widget-view+json": {
       "model_id": "21b76ac583e645fd9d191547f583c10a",
       "version_major": 2,
       "version_minor": 0
      },
      "text/plain": [
       "Batches:   0%|          | 0/1 [00:00<?, ?it/s]"
      ]
     },
     "metadata": {},
     "output_type": "display_data"
    },
    {
     "data": {
      "application/vnd.jupyter.widget-view+json": {
       "model_id": "90dad54c76a34f2d90f4605e38def185",
       "version_major": 2,
       "version_minor": 0
      },
      "text/plain": [
       "Batches:   0%|          | 0/1 [00:00<?, ?it/s]"
      ]
     },
     "metadata": {},
     "output_type": "display_data"
    },
    {
     "data": {
      "application/vnd.jupyter.widget-view+json": {
       "model_id": "01ae4b1c33274e7a917f6038daec1ed3",
       "version_major": 2,
       "version_minor": 0
      },
      "text/plain": [
       "Batches:   0%|          | 0/1 [00:00<?, ?it/s]"
      ]
     },
     "metadata": {},
     "output_type": "display_data"
    },
    {
     "data": {
      "application/vnd.jupyter.widget-view+json": {
       "model_id": "bd9f88941e7f4f41b8152d1c8a37094a",
       "version_major": 2,
       "version_minor": 0
      },
      "text/plain": [
       "Batches:   0%|          | 0/1 [00:00<?, ?it/s]"
      ]
     },
     "metadata": {},
     "output_type": "display_data"
    },
    {
     "data": {
      "application/vnd.jupyter.widget-view+json": {
       "model_id": "117f018a9c6a4401b158bc76503adb83",
       "version_major": 2,
       "version_minor": 0
      },
      "text/plain": [
       "Batches:   0%|          | 0/1 [00:00<?, ?it/s]"
      ]
     },
     "metadata": {},
     "output_type": "display_data"
    },
    {
     "data": {
      "application/vnd.jupyter.widget-view+json": {
       "model_id": "ffd2b6a6a9404d2c9330a0e70407c1e7",
       "version_major": 2,
       "version_minor": 0
      },
      "text/plain": [
       "Batches:   0%|          | 0/1 [00:00<?, ?it/s]"
      ]
     },
     "metadata": {},
     "output_type": "display_data"
    },
    {
     "data": {
      "application/vnd.jupyter.widget-view+json": {
       "model_id": "b2e7fabeb4e944a4a8056ecda3af695c",
       "version_major": 2,
       "version_minor": 0
      },
      "text/plain": [
       "Batches:   0%|          | 0/1 [00:00<?, ?it/s]"
      ]
     },
     "metadata": {},
     "output_type": "display_data"
    },
    {
     "data": {
      "application/vnd.jupyter.widget-view+json": {
       "model_id": "4571507f39a14633a831066974693218",
       "version_major": 2,
       "version_minor": 0
      },
      "text/plain": [
       "Batches:   0%|          | 0/1 [00:00<?, ?it/s]"
      ]
     },
     "metadata": {},
     "output_type": "display_data"
    },
    {
     "data": {
      "application/vnd.jupyter.widget-view+json": {
       "model_id": "74ced314e4e04a0ebf39aeb2d034ec8e",
       "version_major": 2,
       "version_minor": 0
      },
      "text/plain": [
       "Batches:   0%|          | 0/1 [00:00<?, ?it/s]"
      ]
     },
     "metadata": {},
     "output_type": "display_data"
    },
    {
     "data": {
      "application/vnd.jupyter.widget-view+json": {
       "model_id": "bf0f75e518b54e188a48b6283b90cff5",
       "version_major": 2,
       "version_minor": 0
      },
      "text/plain": [
       "Batches:   0%|          | 0/1 [00:00<?, ?it/s]"
      ]
     },
     "metadata": {},
     "output_type": "display_data"
    },
    {
     "data": {
      "application/vnd.jupyter.widget-view+json": {
       "model_id": "c1103acefb0b4ae48c49e7d342180315",
       "version_major": 2,
       "version_minor": 0
      },
      "text/plain": [
       "Batches:   0%|          | 0/1 [00:00<?, ?it/s]"
      ]
     },
     "metadata": {},
     "output_type": "display_data"
    },
    {
     "data": {
      "application/vnd.jupyter.widget-view+json": {
       "model_id": "0b6870112ed140ea8d3eb9ccf34653d3",
       "version_major": 2,
       "version_minor": 0
      },
      "text/plain": [
       "Batches:   0%|          | 0/1 [00:00<?, ?it/s]"
      ]
     },
     "metadata": {},
     "output_type": "display_data"
    },
    {
     "data": {
      "application/vnd.jupyter.widget-view+json": {
       "model_id": "0d175b9a82f5483e85a56e0aa486cee2",
       "version_major": 2,
       "version_minor": 0
      },
      "text/plain": [
       "Batches:   0%|          | 0/1 [00:00<?, ?it/s]"
      ]
     },
     "metadata": {},
     "output_type": "display_data"
    },
    {
     "data": {
      "application/vnd.jupyter.widget-view+json": {
       "model_id": "ab4d7719577a43bca527d9e31a71e5e8",
       "version_major": 2,
       "version_minor": 0
      },
      "text/plain": [
       "Batches:   0%|          | 0/1 [00:00<?, ?it/s]"
      ]
     },
     "metadata": {},
     "output_type": "display_data"
    },
    {
     "data": {
      "application/vnd.jupyter.widget-view+json": {
       "model_id": "3bbf86a545dc4f3cb40efe430d5f0a32",
       "version_major": 2,
       "version_minor": 0
      },
      "text/plain": [
       "Batches:   0%|          | 0/1 [00:00<?, ?it/s]"
      ]
     },
     "metadata": {},
     "output_type": "display_data"
    },
    {
     "data": {
      "application/vnd.jupyter.widget-view+json": {
       "model_id": "d8c137e927b1416181031b0eaebf3f78",
       "version_major": 2,
       "version_minor": 0
      },
      "text/plain": [
       "Batches:   0%|          | 0/1 [00:00<?, ?it/s]"
      ]
     },
     "metadata": {},
     "output_type": "display_data"
    },
    {
     "data": {
      "application/vnd.jupyter.widget-view+json": {
       "model_id": "d758bc8ae4ec495aaa44efb0512689e0",
       "version_major": 2,
       "version_minor": 0
      },
      "text/plain": [
       "Batches:   0%|          | 0/1 [00:00<?, ?it/s]"
      ]
     },
     "metadata": {},
     "output_type": "display_data"
    },
    {
     "data": {
      "application/vnd.jupyter.widget-view+json": {
       "model_id": "914fdcb10bb64782858086dedca2f038",
       "version_major": 2,
       "version_minor": 0
      },
      "text/plain": [
       "Batches:   0%|          | 0/1 [00:00<?, ?it/s]"
      ]
     },
     "metadata": {},
     "output_type": "display_data"
    },
    {
     "data": {
      "application/vnd.jupyter.widget-view+json": {
       "model_id": "de5ed443cf5a48f0a6440525d89f7ddf",
       "version_major": 2,
       "version_minor": 0
      },
      "text/plain": [
       "Batches:   0%|          | 0/1 [00:00<?, ?it/s]"
      ]
     },
     "metadata": {},
     "output_type": "display_data"
    },
    {
     "data": {
      "application/vnd.jupyter.widget-view+json": {
       "model_id": "69e8b79321ee4ada890f7b8b97ed5b8d",
       "version_major": 2,
       "version_minor": 0
      },
      "text/plain": [
       "Batches:   0%|          | 0/1 [00:00<?, ?it/s]"
      ]
     },
     "metadata": {},
     "output_type": "display_data"
    },
    {
     "data": {
      "application/vnd.jupyter.widget-view+json": {
       "model_id": "befcb7067afa47a7838f19d5f41bbf7b",
       "version_major": 2,
       "version_minor": 0
      },
      "text/plain": [
       "Batches:   0%|          | 0/1 [00:00<?, ?it/s]"
      ]
     },
     "metadata": {},
     "output_type": "display_data"
    },
    {
     "data": {
      "application/vnd.jupyter.widget-view+json": {
       "model_id": "71dba92a0f5b4612a6132ccfd2064bc8",
       "version_major": 2,
       "version_minor": 0
      },
      "text/plain": [
       "Batches:   0%|          | 0/1 [00:00<?, ?it/s]"
      ]
     },
     "metadata": {},
     "output_type": "display_data"
    },
    {
     "data": {
      "application/vnd.jupyter.widget-view+json": {
       "model_id": "dcdb3ccece7048d1a681a5ded3c33e0f",
       "version_major": 2,
       "version_minor": 0
      },
      "text/plain": [
       "Batches:   0%|          | 0/1 [00:00<?, ?it/s]"
      ]
     },
     "metadata": {},
     "output_type": "display_data"
    },
    {
     "data": {
      "application/vnd.jupyter.widget-view+json": {
       "model_id": "cbe4376a0f5748248d028b18cc235b58",
       "version_major": 2,
       "version_minor": 0
      },
      "text/plain": [
       "Batches:   0%|          | 0/1 [00:00<?, ?it/s]"
      ]
     },
     "metadata": {},
     "output_type": "display_data"
    },
    {
     "data": {
      "application/vnd.jupyter.widget-view+json": {
       "model_id": "9ed98a52753c4441acf3ba2cc263560d",
       "version_major": 2,
       "version_minor": 0
      },
      "text/plain": [
       "Batches:   0%|          | 0/1 [00:00<?, ?it/s]"
      ]
     },
     "metadata": {},
     "output_type": "display_data"
    },
    {
     "data": {
      "application/vnd.jupyter.widget-view+json": {
       "model_id": "f6425ca1f3804319a7d1ff21c8b0b015",
       "version_major": 2,
       "version_minor": 0
      },
      "text/plain": [
       "Batches:   0%|          | 0/1 [00:00<?, ?it/s]"
      ]
     },
     "metadata": {},
     "output_type": "display_data"
    },
    {
     "data": {
      "application/vnd.jupyter.widget-view+json": {
       "model_id": "6d1e88ac37c44dcb9443a372d54b49ed",
       "version_major": 2,
       "version_minor": 0
      },
      "text/plain": [
       "Batches:   0%|          | 0/1 [00:00<?, ?it/s]"
      ]
     },
     "metadata": {},
     "output_type": "display_data"
    },
    {
     "data": {
      "application/vnd.jupyter.widget-view+json": {
       "model_id": "dee96d9fbe5b4e0ea23e2d49e3593102",
       "version_major": 2,
       "version_minor": 0
      },
      "text/plain": [
       "Batches:   0%|          | 0/1 [00:00<?, ?it/s]"
      ]
     },
     "metadata": {},
     "output_type": "display_data"
    },
    {
     "data": {
      "application/vnd.jupyter.widget-view+json": {
       "model_id": "3892ce2d3c304c6e9f9538ed9d1970bd",
       "version_major": 2,
       "version_minor": 0
      },
      "text/plain": [
       "Batches:   0%|          | 0/1 [00:00<?, ?it/s]"
      ]
     },
     "metadata": {},
     "output_type": "display_data"
    },
    {
     "data": {
      "application/vnd.jupyter.widget-view+json": {
       "model_id": "272e4172d12e46d496f2b59c90e6d7e2",
       "version_major": 2,
       "version_minor": 0
      },
      "text/plain": [
       "Batches:   0%|          | 0/1 [00:00<?, ?it/s]"
      ]
     },
     "metadata": {},
     "output_type": "display_data"
    },
    {
     "data": {
      "application/vnd.jupyter.widget-view+json": {
       "model_id": "98fe4e48e39b4a49885d2a5fbec3e7b2",
       "version_major": 2,
       "version_minor": 0
      },
      "text/plain": [
       "Batches:   0%|          | 0/1 [00:00<?, ?it/s]"
      ]
     },
     "metadata": {},
     "output_type": "display_data"
    },
    {
     "data": {
      "application/vnd.jupyter.widget-view+json": {
       "model_id": "9838958a73ca46bf9c08605bec077da5",
       "version_major": 2,
       "version_minor": 0
      },
      "text/plain": [
       "Batches:   0%|          | 0/1 [00:00<?, ?it/s]"
      ]
     },
     "metadata": {},
     "output_type": "display_data"
    },
    {
     "data": {
      "application/vnd.jupyter.widget-view+json": {
       "model_id": "c8e44eb8b31142dab3e41667901a853e",
       "version_major": 2,
       "version_minor": 0
      },
      "text/plain": [
       "Batches:   0%|          | 0/1 [00:00<?, ?it/s]"
      ]
     },
     "metadata": {},
     "output_type": "display_data"
    },
    {
     "data": {
      "application/vnd.jupyter.widget-view+json": {
       "model_id": "60f755d2d5a140f9ab60f0e282785334",
       "version_major": 2,
       "version_minor": 0
      },
      "text/plain": [
       "Batches:   0%|          | 0/1 [00:00<?, ?it/s]"
      ]
     },
     "metadata": {},
     "output_type": "display_data"
    },
    {
     "data": {
      "application/vnd.jupyter.widget-view+json": {
       "model_id": "5cb8a33078a94265a2351460b7ea3cfe",
       "version_major": 2,
       "version_minor": 0
      },
      "text/plain": [
       "Batches:   0%|          | 0/1 [00:00<?, ?it/s]"
      ]
     },
     "metadata": {},
     "output_type": "display_data"
    },
    {
     "data": {
      "application/vnd.jupyter.widget-view+json": {
       "model_id": "ee22e9a43008491cb6f3e269f734fac7",
       "version_major": 2,
       "version_minor": 0
      },
      "text/plain": [
       "Batches:   0%|          | 0/1 [00:00<?, ?it/s]"
      ]
     },
     "metadata": {},
     "output_type": "display_data"
    },
    {
     "data": {
      "application/vnd.jupyter.widget-view+json": {
       "model_id": "302ea3178f4541c3be3d8151d9d16e4d",
       "version_major": 2,
       "version_minor": 0
      },
      "text/plain": [
       "Batches:   0%|          | 0/1 [00:00<?, ?it/s]"
      ]
     },
     "metadata": {},
     "output_type": "display_data"
    },
    {
     "data": {
      "application/vnd.jupyter.widget-view+json": {
       "model_id": "7c1a11ebf2a1422d9d4051e4ea60045e",
       "version_major": 2,
       "version_minor": 0
      },
      "text/plain": [
       "Batches:   0%|          | 0/1 [00:00<?, ?it/s]"
      ]
     },
     "metadata": {},
     "output_type": "display_data"
    },
    {
     "data": {
      "application/vnd.jupyter.widget-view+json": {
       "model_id": "660a7805f10b4009b3cdca7287bd6a8b",
       "version_major": 2,
       "version_minor": 0
      },
      "text/plain": [
       "Batches:   0%|          | 0/1 [00:00<?, ?it/s]"
      ]
     },
     "metadata": {},
     "output_type": "display_data"
    },
    {
     "data": {
      "application/vnd.jupyter.widget-view+json": {
       "model_id": "9e506e3988e3497d8219af9ae048ad40",
       "version_major": 2,
       "version_minor": 0
      },
      "text/plain": [
       "Batches:   0%|          | 0/1 [00:00<?, ?it/s]"
      ]
     },
     "metadata": {},
     "output_type": "display_data"
    },
    {
     "data": {
      "application/vnd.jupyter.widget-view+json": {
       "model_id": "dd82bd7818364e339fb46c441dd2068d",
       "version_major": 2,
       "version_minor": 0
      },
      "text/plain": [
       "Batches:   0%|          | 0/1 [00:00<?, ?it/s]"
      ]
     },
     "metadata": {},
     "output_type": "display_data"
    },
    {
     "data": {
      "application/vnd.jupyter.widget-view+json": {
       "model_id": "cea5b44001b6403b91d4854063d8cfec",
       "version_major": 2,
       "version_minor": 0
      },
      "text/plain": [
       "Batches:   0%|          | 0/1 [00:00<?, ?it/s]"
      ]
     },
     "metadata": {},
     "output_type": "display_data"
    },
    {
     "data": {
      "application/vnd.jupyter.widget-view+json": {
       "model_id": "06ac759ac0b54030bae441ea28a18d62",
       "version_major": 2,
       "version_minor": 0
      },
      "text/plain": [
       "Batches:   0%|          | 0/1 [00:00<?, ?it/s]"
      ]
     },
     "metadata": {},
     "output_type": "display_data"
    },
    {
     "data": {
      "application/vnd.jupyter.widget-view+json": {
       "model_id": "de36f35612f44ab8a5dde0764b0375a7",
       "version_major": 2,
       "version_minor": 0
      },
      "text/plain": [
       "Batches:   0%|          | 0/1 [00:00<?, ?it/s]"
      ]
     },
     "metadata": {},
     "output_type": "display_data"
    },
    {
     "data": {
      "application/vnd.jupyter.widget-view+json": {
       "model_id": "35574153b2db45ea9c6fb0eb48561472",
       "version_major": 2,
       "version_minor": 0
      },
      "text/plain": [
       "Batches:   0%|          | 0/1 [00:00<?, ?it/s]"
      ]
     },
     "metadata": {},
     "output_type": "display_data"
    },
    {
     "data": {
      "application/vnd.jupyter.widget-view+json": {
       "model_id": "53d72cc9d5a74e60b9ed5555ad82a4e6",
       "version_major": 2,
       "version_minor": 0
      },
      "text/plain": [
       "Batches:   0%|          | 0/1 [00:00<?, ?it/s]"
      ]
     },
     "metadata": {},
     "output_type": "display_data"
    },
    {
     "data": {
      "application/vnd.jupyter.widget-view+json": {
       "model_id": "d09c8700b31a4e7fb9c48da136d3140b",
       "version_major": 2,
       "version_minor": 0
      },
      "text/plain": [
       "Batches:   0%|          | 0/1 [00:00<?, ?it/s]"
      ]
     },
     "metadata": {},
     "output_type": "display_data"
    },
    {
     "data": {
      "application/vnd.jupyter.widget-view+json": {
       "model_id": "b97a2f899dcc472cb661c782e9cd208c",
       "version_major": 2,
       "version_minor": 0
      },
      "text/plain": [
       "Batches:   0%|          | 0/1 [00:00<?, ?it/s]"
      ]
     },
     "metadata": {},
     "output_type": "display_data"
    },
    {
     "data": {
      "application/vnd.jupyter.widget-view+json": {
       "model_id": "9f1829bc1cc6480a8981ed06bb89133a",
       "version_major": 2,
       "version_minor": 0
      },
      "text/plain": [
       "Batches:   0%|          | 0/1 [00:00<?, ?it/s]"
      ]
     },
     "metadata": {},
     "output_type": "display_data"
    },
    {
     "data": {
      "application/vnd.jupyter.widget-view+json": {
       "model_id": "6156070b25e1442c811b325a926d0d92",
       "version_major": 2,
       "version_minor": 0
      },
      "text/plain": [
       "Batches:   0%|          | 0/1 [00:00<?, ?it/s]"
      ]
     },
     "metadata": {},
     "output_type": "display_data"
    },
    {
     "data": {
      "application/vnd.jupyter.widget-view+json": {
       "model_id": "8342750884054e9d83af3eb7ba2e7d59",
       "version_major": 2,
       "version_minor": 0
      },
      "text/plain": [
       "Batches:   0%|          | 0/1 [00:00<?, ?it/s]"
      ]
     },
     "metadata": {},
     "output_type": "display_data"
    },
    {
     "data": {
      "application/vnd.jupyter.widget-view+json": {
       "model_id": "709e3ed7f71043fab7be116384f369ae",
       "version_major": 2,
       "version_minor": 0
      },
      "text/plain": [
       "Batches:   0%|          | 0/1 [00:00<?, ?it/s]"
      ]
     },
     "metadata": {},
     "output_type": "display_data"
    },
    {
     "data": {
      "application/vnd.jupyter.widget-view+json": {
       "model_id": "03894321d18e40c1bf3d8501fa71f2df",
       "version_major": 2,
       "version_minor": 0
      },
      "text/plain": [
       "Batches:   0%|          | 0/1 [00:00<?, ?it/s]"
      ]
     },
     "metadata": {},
     "output_type": "display_data"
    },
    {
     "data": {
      "application/vnd.jupyter.widget-view+json": {
       "model_id": "ffe00e32b6864d4a9e1453668f6f219f",
       "version_major": 2,
       "version_minor": 0
      },
      "text/plain": [
       "Batches:   0%|          | 0/1 [00:00<?, ?it/s]"
      ]
     },
     "metadata": {},
     "output_type": "display_data"
    },
    {
     "data": {
      "application/vnd.jupyter.widget-view+json": {
       "model_id": "042114c0d1254cbb832ee7f100a82680",
       "version_major": 2,
       "version_minor": 0
      },
      "text/plain": [
       "Batches:   0%|          | 0/1 [00:00<?, ?it/s]"
      ]
     },
     "metadata": {},
     "output_type": "display_data"
    },
    {
     "data": {
      "application/vnd.jupyter.widget-view+json": {
       "model_id": "9fc4e2414830486293b0d625cbf66660",
       "version_major": 2,
       "version_minor": 0
      },
      "text/plain": [
       "Batches:   0%|          | 0/1 [00:00<?, ?it/s]"
      ]
     },
     "metadata": {},
     "output_type": "display_data"
    },
    {
     "data": {
      "application/vnd.jupyter.widget-view+json": {
       "model_id": "b1299d79de5c49e7bcfcd7b5167bf462",
       "version_major": 2,
       "version_minor": 0
      },
      "text/plain": [
       "Batches:   0%|          | 0/1 [00:00<?, ?it/s]"
      ]
     },
     "metadata": {},
     "output_type": "display_data"
    },
    {
     "data": {
      "application/vnd.jupyter.widget-view+json": {
       "model_id": "03f7545e662c4ff58c28de43e72a6838",
       "version_major": 2,
       "version_minor": 0
      },
      "text/plain": [
       "Batches:   0%|          | 0/1 [00:00<?, ?it/s]"
      ]
     },
     "metadata": {},
     "output_type": "display_data"
    },
    {
     "data": {
      "application/vnd.jupyter.widget-view+json": {
       "model_id": "bbdf3250b4f24191ad8460e1a1923ef0",
       "version_major": 2,
       "version_minor": 0
      },
      "text/plain": [
       "Batches:   0%|          | 0/1 [00:00<?, ?it/s]"
      ]
     },
     "metadata": {},
     "output_type": "display_data"
    },
    {
     "data": {
      "application/vnd.jupyter.widget-view+json": {
       "model_id": "dc5e3fae711844c1a313fc48924cd9ae",
       "version_major": 2,
       "version_minor": 0
      },
      "text/plain": [
       "Batches:   0%|          | 0/1 [00:00<?, ?it/s]"
      ]
     },
     "metadata": {},
     "output_type": "display_data"
    },
    {
     "data": {
      "application/vnd.jupyter.widget-view+json": {
       "model_id": "e32f244e0761431e842fd73549165b6b",
       "version_major": 2,
       "version_minor": 0
      },
      "text/plain": [
       "Batches:   0%|          | 0/1 [00:00<?, ?it/s]"
      ]
     },
     "metadata": {},
     "output_type": "display_data"
    },
    {
     "data": {
      "application/vnd.jupyter.widget-view+json": {
       "model_id": "a37ceeb331f049f4bf86ba3a2c263514",
       "version_major": 2,
       "version_minor": 0
      },
      "text/plain": [
       "Batches:   0%|          | 0/1 [00:00<?, ?it/s]"
      ]
     },
     "metadata": {},
     "output_type": "display_data"
    },
    {
     "data": {
      "application/vnd.jupyter.widget-view+json": {
       "model_id": "c4f0c689b7a24a279de3082b0074b758",
       "version_major": 2,
       "version_minor": 0
      },
      "text/plain": [
       "Batches:   0%|          | 0/1 [00:00<?, ?it/s]"
      ]
     },
     "metadata": {},
     "output_type": "display_data"
    },
    {
     "data": {
      "application/vnd.jupyter.widget-view+json": {
       "model_id": "8e773f1ded754fc6b4168d0ea955751d",
       "version_major": 2,
       "version_minor": 0
      },
      "text/plain": [
       "Batches:   0%|          | 0/1 [00:00<?, ?it/s]"
      ]
     },
     "metadata": {},
     "output_type": "display_data"
    },
    {
     "data": {
      "application/vnd.jupyter.widget-view+json": {
       "model_id": "324e6a8f2ee6496f9d12cdba4033b54e",
       "version_major": 2,
       "version_minor": 0
      },
      "text/plain": [
       "Batches:   0%|          | 0/1 [00:00<?, ?it/s]"
      ]
     },
     "metadata": {},
     "output_type": "display_data"
    },
    {
     "data": {
      "application/vnd.jupyter.widget-view+json": {
       "model_id": "2a617974477a4b53bf9219f4a216d6ce",
       "version_major": 2,
       "version_minor": 0
      },
      "text/plain": [
       "Batches:   0%|          | 0/1 [00:00<?, ?it/s]"
      ]
     },
     "metadata": {},
     "output_type": "display_data"
    },
    {
     "data": {
      "application/vnd.jupyter.widget-view+json": {
       "model_id": "41f87cc55e284a8a93a93574811c0d78",
       "version_major": 2,
       "version_minor": 0
      },
      "text/plain": [
       "Batches:   0%|          | 0/1 [00:00<?, ?it/s]"
      ]
     },
     "metadata": {},
     "output_type": "display_data"
    },
    {
     "data": {
      "application/vnd.jupyter.widget-view+json": {
       "model_id": "c36e1670e8aa46cea0cf8af39dfc1330",
       "version_major": 2,
       "version_minor": 0
      },
      "text/plain": [
       "Batches:   0%|          | 0/1 [00:00<?, ?it/s]"
      ]
     },
     "metadata": {},
     "output_type": "display_data"
    },
    {
     "data": {
      "application/vnd.jupyter.widget-view+json": {
       "model_id": "654a8ee0d68c4909a56e32e72abcb07e",
       "version_major": 2,
       "version_minor": 0
      },
      "text/plain": [
       "Batches:   0%|          | 0/1 [00:00<?, ?it/s]"
      ]
     },
     "metadata": {},
     "output_type": "display_data"
    },
    {
     "data": {
      "application/vnd.jupyter.widget-view+json": {
       "model_id": "53b683a2d640471e8eee2834aa02e296",
       "version_major": 2,
       "version_minor": 0
      },
      "text/plain": [
       "Batches:   0%|          | 0/1 [00:00<?, ?it/s]"
      ]
     },
     "metadata": {},
     "output_type": "display_data"
    },
    {
     "data": {
      "application/vnd.jupyter.widget-view+json": {
       "model_id": "219cbebe27bd4095b6672fe0bd0f062f",
       "version_major": 2,
       "version_minor": 0
      },
      "text/plain": [
       "Batches:   0%|          | 0/1 [00:00<?, ?it/s]"
      ]
     },
     "metadata": {},
     "output_type": "display_data"
    },
    {
     "data": {
      "application/vnd.jupyter.widget-view+json": {
       "model_id": "89a1e0a96e4345e59b551569a0be04f1",
       "version_major": 2,
       "version_minor": 0
      },
      "text/plain": [
       "Batches:   0%|          | 0/1 [00:00<?, ?it/s]"
      ]
     },
     "metadata": {},
     "output_type": "display_data"
    },
    {
     "data": {
      "application/vnd.jupyter.widget-view+json": {
       "model_id": "c395cbe5f3e045dd9750444e44b76fdb",
       "version_major": 2,
       "version_minor": 0
      },
      "text/plain": [
       "Batches:   0%|          | 0/1 [00:00<?, ?it/s]"
      ]
     },
     "metadata": {},
     "output_type": "display_data"
    },
    {
     "data": {
      "application/vnd.jupyter.widget-view+json": {
       "model_id": "fd04b0c20f0f405da8f23122afff90fc",
       "version_major": 2,
       "version_minor": 0
      },
      "text/plain": [
       "Batches:   0%|          | 0/1 [00:00<?, ?it/s]"
      ]
     },
     "metadata": {},
     "output_type": "display_data"
    },
    {
     "data": {
      "application/vnd.jupyter.widget-view+json": {
       "model_id": "bb6243b1c6314cc5b0ad27eae6083093",
       "version_major": 2,
       "version_minor": 0
      },
      "text/plain": [
       "Batches:   0%|          | 0/1 [00:00<?, ?it/s]"
      ]
     },
     "metadata": {},
     "output_type": "display_data"
    },
    {
     "data": {
      "application/vnd.jupyter.widget-view+json": {
       "model_id": "4810fc7cad6d4690a46868c14f809af9",
       "version_major": 2,
       "version_minor": 0
      },
      "text/plain": [
       "Batches:   0%|          | 0/1 [00:00<?, ?it/s]"
      ]
     },
     "metadata": {},
     "output_type": "display_data"
    },
    {
     "data": {
      "application/vnd.jupyter.widget-view+json": {
       "model_id": "3159a45ada8047c48f2c6afa1b60bee4",
       "version_major": 2,
       "version_minor": 0
      },
      "text/plain": [
       "Batches:   0%|          | 0/1 [00:00<?, ?it/s]"
      ]
     },
     "metadata": {},
     "output_type": "display_data"
    },
    {
     "data": {
      "application/vnd.jupyter.widget-view+json": {
       "model_id": "9cf2c7baac1b4eb1aafa7e0488288c59",
       "version_major": 2,
       "version_minor": 0
      },
      "text/plain": [
       "Batches:   0%|          | 0/1 [00:00<?, ?it/s]"
      ]
     },
     "metadata": {},
     "output_type": "display_data"
    },
    {
     "data": {
      "application/vnd.jupyter.widget-view+json": {
       "model_id": "0e45d6e47fb641c2a3d05b49cf723bcf",
       "version_major": 2,
       "version_minor": 0
      },
      "text/plain": [
       "Batches:   0%|          | 0/1 [00:00<?, ?it/s]"
      ]
     },
     "metadata": {},
     "output_type": "display_data"
    },
    {
     "data": {
      "application/vnd.jupyter.widget-view+json": {
       "model_id": "ac1ab7abaaa5441cb48afeec4fd5de31",
       "version_major": 2,
       "version_minor": 0
      },
      "text/plain": [
       "Batches:   0%|          | 0/1 [00:00<?, ?it/s]"
      ]
     },
     "metadata": {},
     "output_type": "display_data"
    },
    {
     "data": {
      "application/vnd.jupyter.widget-view+json": {
       "model_id": "cbec479ff2f84c489a3c745d378267f9",
       "version_major": 2,
       "version_minor": 0
      },
      "text/plain": [
       "Batches:   0%|          | 0/1 [00:00<?, ?it/s]"
      ]
     },
     "metadata": {},
     "output_type": "display_data"
    },
    {
     "data": {
      "application/vnd.jupyter.widget-view+json": {
       "model_id": "77076db86f524f19a5b09f0d981b4b93",
       "version_major": 2,
       "version_minor": 0
      },
      "text/plain": [
       "Batches:   0%|          | 0/1 [00:00<?, ?it/s]"
      ]
     },
     "metadata": {},
     "output_type": "display_data"
    },
    {
     "data": {
      "application/vnd.jupyter.widget-view+json": {
       "model_id": "5cbc3b1b2fd0402382b57e1b0f6ee9c7",
       "version_major": 2,
       "version_minor": 0
      },
      "text/plain": [
       "Batches:   0%|          | 0/1 [00:00<?, ?it/s]"
      ]
     },
     "metadata": {},
     "output_type": "display_data"
    },
    {
     "data": {
      "application/vnd.jupyter.widget-view+json": {
       "model_id": "8ce2e46bd8764359ab2261c1bf2826ba",
       "version_major": 2,
       "version_minor": 0
      },
      "text/plain": [
       "Batches:   0%|          | 0/1 [00:00<?, ?it/s]"
      ]
     },
     "metadata": {},
     "output_type": "display_data"
    },
    {
     "data": {
      "application/vnd.jupyter.widget-view+json": {
       "model_id": "a4933fc92e3b40ada1fa77b20fb78788",
       "version_major": 2,
       "version_minor": 0
      },
      "text/plain": [
       "Batches:   0%|          | 0/1 [00:00<?, ?it/s]"
      ]
     },
     "metadata": {},
     "output_type": "display_data"
    },
    {
     "data": {
      "application/vnd.jupyter.widget-view+json": {
       "model_id": "9d7d8652c92740b0a97274da397a9a99",
       "version_major": 2,
       "version_minor": 0
      },
      "text/plain": [
       "Batches:   0%|          | 0/1 [00:00<?, ?it/s]"
      ]
     },
     "metadata": {},
     "output_type": "display_data"
    },
    {
     "data": {
      "application/vnd.jupyter.widget-view+json": {
       "model_id": "4325cc0289ee48349578d84c8e0ccb50",
       "version_major": 2,
       "version_minor": 0
      },
      "text/plain": [
       "Batches:   0%|          | 0/1 [00:00<?, ?it/s]"
      ]
     },
     "metadata": {},
     "output_type": "display_data"
    },
    {
     "data": {
      "application/vnd.jupyter.widget-view+json": {
       "model_id": "58097724b2df468d8de1e6d815cbf945",
       "version_major": 2,
       "version_minor": 0
      },
      "text/plain": [
       "Batches:   0%|          | 0/1 [00:00<?, ?it/s]"
      ]
     },
     "metadata": {},
     "output_type": "display_data"
    },
    {
     "data": {
      "application/vnd.jupyter.widget-view+json": {
       "model_id": "48bb32b5b32347049eb120b7ce590c16",
       "version_major": 2,
       "version_minor": 0
      },
      "text/plain": [
       "Batches:   0%|          | 0/1 [00:00<?, ?it/s]"
      ]
     },
     "metadata": {},
     "output_type": "display_data"
    },
    {
     "data": {
      "application/vnd.jupyter.widget-view+json": {
       "model_id": "92539ac53bec470c83a6fd26049689ef",
       "version_major": 2,
       "version_minor": 0
      },
      "text/plain": [
       "Batches:   0%|          | 0/1 [00:00<?, ?it/s]"
      ]
     },
     "metadata": {},
     "output_type": "display_data"
    },
    {
     "data": {
      "application/vnd.jupyter.widget-view+json": {
       "model_id": "6313fb0f90824e47a94d172c938cd4f7",
       "version_major": 2,
       "version_minor": 0
      },
      "text/plain": [
       "Batches:   0%|          | 0/1 [00:00<?, ?it/s]"
      ]
     },
     "metadata": {},
     "output_type": "display_data"
    },
    {
     "data": {
      "application/vnd.jupyter.widget-view+json": {
       "model_id": "09d49d33c5de4c20bd1cf47173132d7e",
       "version_major": 2,
       "version_minor": 0
      },
      "text/plain": [
       "Batches:   0%|          | 0/1 [00:00<?, ?it/s]"
      ]
     },
     "metadata": {},
     "output_type": "display_data"
    },
    {
     "data": {
      "application/vnd.jupyter.widget-view+json": {
       "model_id": "f8422b15452d423a92d335ff3ba0dc16",
       "version_major": 2,
       "version_minor": 0
      },
      "text/plain": [
       "Batches:   0%|          | 0/1 [00:00<?, ?it/s]"
      ]
     },
     "metadata": {},
     "output_type": "display_data"
    },
    {
     "data": {
      "application/vnd.jupyter.widget-view+json": {
       "model_id": "7e48c8db952b4946a42a5fdffdf5eecd",
       "version_major": 2,
       "version_minor": 0
      },
      "text/plain": [
       "Batches:   0%|          | 0/1 [00:00<?, ?it/s]"
      ]
     },
     "metadata": {},
     "output_type": "display_data"
    },
    {
     "data": {
      "application/vnd.jupyter.widget-view+json": {
       "model_id": "586c09d04bd640469c356f58ab6fb469",
       "version_major": 2,
       "version_minor": 0
      },
      "text/plain": [
       "Batches:   0%|          | 0/1 [00:00<?, ?it/s]"
      ]
     },
     "metadata": {},
     "output_type": "display_data"
    },
    {
     "data": {
      "application/vnd.jupyter.widget-view+json": {
       "model_id": "965d138ffb8241aa8dd9edcc4fc77f89",
       "version_major": 2,
       "version_minor": 0
      },
      "text/plain": [
       "Batches:   0%|          | 0/1 [00:00<?, ?it/s]"
      ]
     },
     "metadata": {},
     "output_type": "display_data"
    },
    {
     "data": {
      "application/vnd.jupyter.widget-view+json": {
       "model_id": "c2f3118c1093499b9dda4550b2d64cf4",
       "version_major": 2,
       "version_minor": 0
      },
      "text/plain": [
       "Batches:   0%|          | 0/1 [00:00<?, ?it/s]"
      ]
     },
     "metadata": {},
     "output_type": "display_data"
    },
    {
     "data": {
      "application/vnd.jupyter.widget-view+json": {
       "model_id": "4cc4f2fb03064c09a1e176f08532150a",
       "version_major": 2,
       "version_minor": 0
      },
      "text/plain": [
       "Batches:   0%|          | 0/1 [00:00<?, ?it/s]"
      ]
     },
     "metadata": {},
     "output_type": "display_data"
    },
    {
     "data": {
      "application/vnd.jupyter.widget-view+json": {
       "model_id": "e06ced53c33b464181c6d8c083568919",
       "version_major": 2,
       "version_minor": 0
      },
      "text/plain": [
       "Batches:   0%|          | 0/1 [00:00<?, ?it/s]"
      ]
     },
     "metadata": {},
     "output_type": "display_data"
    },
    {
     "data": {
      "application/vnd.jupyter.widget-view+json": {
       "model_id": "695969bc3ce0483d89c7f8dd28380b3a",
       "version_major": 2,
       "version_minor": 0
      },
      "text/plain": [
       "Batches:   0%|          | 0/1 [00:00<?, ?it/s]"
      ]
     },
     "metadata": {},
     "output_type": "display_data"
    },
    {
     "data": {
      "application/vnd.jupyter.widget-view+json": {
       "model_id": "84c34a9bf93c43f88313240c20fd27cf",
       "version_major": 2,
       "version_minor": 0
      },
      "text/plain": [
       "Batches:   0%|          | 0/1 [00:00<?, ?it/s]"
      ]
     },
     "metadata": {},
     "output_type": "display_data"
    },
    {
     "data": {
      "application/vnd.jupyter.widget-view+json": {
       "model_id": "89e91afce19c47d3b26e5925dfddda68",
       "version_major": 2,
       "version_minor": 0
      },
      "text/plain": [
       "Batches:   0%|          | 0/1 [00:00<?, ?it/s]"
      ]
     },
     "metadata": {},
     "output_type": "display_data"
    },
    {
     "data": {
      "application/vnd.jupyter.widget-view+json": {
       "model_id": "477ea398eb6d4c9b86ec0c8f9ca60266",
       "version_major": 2,
       "version_minor": 0
      },
      "text/plain": [
       "Batches:   0%|          | 0/1 [00:00<?, ?it/s]"
      ]
     },
     "metadata": {},
     "output_type": "display_data"
    },
    {
     "data": {
      "application/vnd.jupyter.widget-view+json": {
       "model_id": "b0537318780a47488d40b3f5327adf77",
       "version_major": 2,
       "version_minor": 0
      },
      "text/plain": [
       "Batches:   0%|          | 0/1 [00:00<?, ?it/s]"
      ]
     },
     "metadata": {},
     "output_type": "display_data"
    },
    {
     "data": {
      "application/vnd.jupyter.widget-view+json": {
       "model_id": "dcad1c589fe04cd5859649696c06e565",
       "version_major": 2,
       "version_minor": 0
      },
      "text/plain": [
       "Batches:   0%|          | 0/1 [00:00<?, ?it/s]"
      ]
     },
     "metadata": {},
     "output_type": "display_data"
    },
    {
     "data": {
      "application/vnd.jupyter.widget-view+json": {
       "model_id": "9dcce94290224109a246d1b16af1a13b",
       "version_major": 2,
       "version_minor": 0
      },
      "text/plain": [
       "Batches:   0%|          | 0/1 [00:00<?, ?it/s]"
      ]
     },
     "metadata": {},
     "output_type": "display_data"
    },
    {
     "data": {
      "application/vnd.jupyter.widget-view+json": {
       "model_id": "889b4286bbcf4e4dbde1bd69df78c674",
       "version_major": 2,
       "version_minor": 0
      },
      "text/plain": [
       "Batches:   0%|          | 0/1 [00:00<?, ?it/s]"
      ]
     },
     "metadata": {},
     "output_type": "display_data"
    },
    {
     "data": {
      "application/vnd.jupyter.widget-view+json": {
       "model_id": "7d6a68257d1b42e384f70be9fd2d7c18",
       "version_major": 2,
       "version_minor": 0
      },
      "text/plain": [
       "Batches:   0%|          | 0/1 [00:00<?, ?it/s]"
      ]
     },
     "metadata": {},
     "output_type": "display_data"
    },
    {
     "data": {
      "application/vnd.jupyter.widget-view+json": {
       "model_id": "d03fc10ae7d644959a63d22a3474288b",
       "version_major": 2,
       "version_minor": 0
      },
      "text/plain": [
       "Batches:   0%|          | 0/1 [00:00<?, ?it/s]"
      ]
     },
     "metadata": {},
     "output_type": "display_data"
    },
    {
     "data": {
      "application/vnd.jupyter.widget-view+json": {
       "model_id": "4ab6c5ddbfeb4e58a413fddc324ae736",
       "version_major": 2,
       "version_minor": 0
      },
      "text/plain": [
       "Batches:   0%|          | 0/1 [00:00<?, ?it/s]"
      ]
     },
     "metadata": {},
     "output_type": "display_data"
    },
    {
     "data": {
      "application/vnd.jupyter.widget-view+json": {
       "model_id": "6ece45a5b8094b2b9cc290e48572d127",
       "version_major": 2,
       "version_minor": 0
      },
      "text/plain": [
       "Batches:   0%|          | 0/1 [00:00<?, ?it/s]"
      ]
     },
     "metadata": {},
     "output_type": "display_data"
    },
    {
     "data": {
      "application/vnd.jupyter.widget-view+json": {
       "model_id": "f9d785653e5c4402aa3ef7e78d632143",
       "version_major": 2,
       "version_minor": 0
      },
      "text/plain": [
       "Batches:   0%|          | 0/1 [00:00<?, ?it/s]"
      ]
     },
     "metadata": {},
     "output_type": "display_data"
    },
    {
     "data": {
      "application/vnd.jupyter.widget-view+json": {
       "model_id": "1f518f476a054a8cbde0d78896a1cf20",
       "version_major": 2,
       "version_minor": 0
      },
      "text/plain": [
       "Batches:   0%|          | 0/1 [00:00<?, ?it/s]"
      ]
     },
     "metadata": {},
     "output_type": "display_data"
    },
    {
     "data": {
      "application/vnd.jupyter.widget-view+json": {
       "model_id": "58d3589e213447389e7c9cac0178c607",
       "version_major": 2,
       "version_minor": 0
      },
      "text/plain": [
       "Batches:   0%|          | 0/1 [00:00<?, ?it/s]"
      ]
     },
     "metadata": {},
     "output_type": "display_data"
    },
    {
     "data": {
      "application/vnd.jupyter.widget-view+json": {
       "model_id": "2b1186741fdd49f892b79dcf3cd66caf",
       "version_major": 2,
       "version_minor": 0
      },
      "text/plain": [
       "Batches:   0%|          | 0/1 [00:00<?, ?it/s]"
      ]
     },
     "metadata": {},
     "output_type": "display_data"
    },
    {
     "data": {
      "application/vnd.jupyter.widget-view+json": {
       "model_id": "e54536bbe92345a1bf8bc5bce4d45166",
       "version_major": 2,
       "version_minor": 0
      },
      "text/plain": [
       "Batches:   0%|          | 0/1 [00:00<?, ?it/s]"
      ]
     },
     "metadata": {},
     "output_type": "display_data"
    },
    {
     "data": {
      "application/vnd.jupyter.widget-view+json": {
       "model_id": "5de1ef6f27694a8192ece2fe294c8bcd",
       "version_major": 2,
       "version_minor": 0
      },
      "text/plain": [
       "Batches:   0%|          | 0/1 [00:00<?, ?it/s]"
      ]
     },
     "metadata": {},
     "output_type": "display_data"
    },
    {
     "data": {
      "application/vnd.jupyter.widget-view+json": {
       "model_id": "5807955c2e6c4eda8f2c7470c87446ed",
       "version_major": 2,
       "version_minor": 0
      },
      "text/plain": [
       "Batches:   0%|          | 0/1 [00:00<?, ?it/s]"
      ]
     },
     "metadata": {},
     "output_type": "display_data"
    },
    {
     "data": {
      "application/vnd.jupyter.widget-view+json": {
       "model_id": "b7e8b23fee814218a3973a888f872b9c",
       "version_major": 2,
       "version_minor": 0
      },
      "text/plain": [
       "Batches:   0%|          | 0/1 [00:00<?, ?it/s]"
      ]
     },
     "metadata": {},
     "output_type": "display_data"
    },
    {
     "data": {
      "application/vnd.jupyter.widget-view+json": {
       "model_id": "d0b7eb0b891a4d01a8c485b1fba6b28c",
       "version_major": 2,
       "version_minor": 0
      },
      "text/plain": [
       "Batches:   0%|          | 0/1 [00:00<?, ?it/s]"
      ]
     },
     "metadata": {},
     "output_type": "display_data"
    },
    {
     "data": {
      "application/vnd.jupyter.widget-view+json": {
       "model_id": "ac0fda07b6184e13ba5c3f15798b1d97",
       "version_major": 2,
       "version_minor": 0
      },
      "text/plain": [
       "Batches:   0%|          | 0/1 [00:00<?, ?it/s]"
      ]
     },
     "metadata": {},
     "output_type": "display_data"
    },
    {
     "data": {
      "application/vnd.jupyter.widget-view+json": {
       "model_id": "dde5fb914e6c47e7a57e8266afe2a1b2",
       "version_major": 2,
       "version_minor": 0
      },
      "text/plain": [
       "Batches:   0%|          | 0/1 [00:00<?, ?it/s]"
      ]
     },
     "metadata": {},
     "output_type": "display_data"
    },
    {
     "data": {
      "application/vnd.jupyter.widget-view+json": {
       "model_id": "96e086a10a0549e9bb9cb442b35c809c",
       "version_major": 2,
       "version_minor": 0
      },
      "text/plain": [
       "Batches:   0%|          | 0/1 [00:00<?, ?it/s]"
      ]
     },
     "metadata": {},
     "output_type": "display_data"
    },
    {
     "data": {
      "application/vnd.jupyter.widget-view+json": {
       "model_id": "1791c82066c44e939535d0a9f5c0e2d0",
       "version_major": 2,
       "version_minor": 0
      },
      "text/plain": [
       "Batches:   0%|          | 0/1 [00:00<?, ?it/s]"
      ]
     },
     "metadata": {},
     "output_type": "display_data"
    },
    {
     "data": {
      "application/vnd.jupyter.widget-view+json": {
       "model_id": "ce32b0002e4b4fd3b4f875473a91ed90",
       "version_major": 2,
       "version_minor": 0
      },
      "text/plain": [
       "Batches:   0%|          | 0/1 [00:00<?, ?it/s]"
      ]
     },
     "metadata": {},
     "output_type": "display_data"
    },
    {
     "data": {
      "application/vnd.jupyter.widget-view+json": {
       "model_id": "819effe85a7146bf9d336e42fa2c4bce",
       "version_major": 2,
       "version_minor": 0
      },
      "text/plain": [
       "Batches:   0%|          | 0/1 [00:00<?, ?it/s]"
      ]
     },
     "metadata": {},
     "output_type": "display_data"
    },
    {
     "data": {
      "application/vnd.jupyter.widget-view+json": {
       "model_id": "516f256198e341f289e441e36ec19779",
       "version_major": 2,
       "version_minor": 0
      },
      "text/plain": [
       "Batches:   0%|          | 0/1 [00:00<?, ?it/s]"
      ]
     },
     "metadata": {},
     "output_type": "display_data"
    },
    {
     "data": {
      "application/vnd.jupyter.widget-view+json": {
       "model_id": "509cee9010364f299207103dfd2f08b6",
       "version_major": 2,
       "version_minor": 0
      },
      "text/plain": [
       "Batches:   0%|          | 0/1 [00:00<?, ?it/s]"
      ]
     },
     "metadata": {},
     "output_type": "display_data"
    },
    {
     "data": {
      "application/vnd.jupyter.widget-view+json": {
       "model_id": "7c239528116c44498eea90dd33fa404c",
       "version_major": 2,
       "version_minor": 0
      },
      "text/plain": [
       "Batches:   0%|          | 0/1 [00:00<?, ?it/s]"
      ]
     },
     "metadata": {},
     "output_type": "display_data"
    },
    {
     "data": {
      "application/vnd.jupyter.widget-view+json": {
       "model_id": "595da84e0cbe4e54895094fdbd266b9d",
       "version_major": 2,
       "version_minor": 0
      },
      "text/plain": [
       "Batches:   0%|          | 0/1 [00:00<?, ?it/s]"
      ]
     },
     "metadata": {},
     "output_type": "display_data"
    },
    {
     "data": {
      "application/vnd.jupyter.widget-view+json": {
       "model_id": "0015c46c9eda468f94bcadd577dc8807",
       "version_major": 2,
       "version_minor": 0
      },
      "text/plain": [
       "Batches:   0%|          | 0/1 [00:00<?, ?it/s]"
      ]
     },
     "metadata": {},
     "output_type": "display_data"
    },
    {
     "data": {
      "application/vnd.jupyter.widget-view+json": {
       "model_id": "a14470a41ab24ccb9a248c61778a67c9",
       "version_major": 2,
       "version_minor": 0
      },
      "text/plain": [
       "Batches:   0%|          | 0/1 [00:00<?, ?it/s]"
      ]
     },
     "metadata": {},
     "output_type": "display_data"
    },
    {
     "data": {
      "application/vnd.jupyter.widget-view+json": {
       "model_id": "98ac4af1feb042d7a160dc132848d018",
       "version_major": 2,
       "version_minor": 0
      },
      "text/plain": [
       "Batches:   0%|          | 0/1 [00:00<?, ?it/s]"
      ]
     },
     "metadata": {},
     "output_type": "display_data"
    },
    {
     "data": {
      "application/vnd.jupyter.widget-view+json": {
       "model_id": "0c657fddae6b430aa50e61e80006173f",
       "version_major": 2,
       "version_minor": 0
      },
      "text/plain": [
       "Batches:   0%|          | 0/1 [00:00<?, ?it/s]"
      ]
     },
     "metadata": {},
     "output_type": "display_data"
    },
    {
     "data": {
      "application/vnd.jupyter.widget-view+json": {
       "model_id": "2556d4d2aeea4b429b5f7bc2c25ae66c",
       "version_major": 2,
       "version_minor": 0
      },
      "text/plain": [
       "Batches:   0%|          | 0/1 [00:00<?, ?it/s]"
      ]
     },
     "metadata": {},
     "output_type": "display_data"
    },
    {
     "data": {
      "application/vnd.jupyter.widget-view+json": {
       "model_id": "9abe76e394154a6b88b4fba81d1eb2a1",
       "version_major": 2,
       "version_minor": 0
      },
      "text/plain": [
       "Batches:   0%|          | 0/1 [00:00<?, ?it/s]"
      ]
     },
     "metadata": {},
     "output_type": "display_data"
    },
    {
     "data": {
      "application/vnd.jupyter.widget-view+json": {
       "model_id": "3b72e02cadd049c89e0ab2ef0a5c8714",
       "version_major": 2,
       "version_minor": 0
      },
      "text/plain": [
       "Batches:   0%|          | 0/1 [00:00<?, ?it/s]"
      ]
     },
     "metadata": {},
     "output_type": "display_data"
    },
    {
     "data": {
      "application/vnd.jupyter.widget-view+json": {
       "model_id": "ce95848a0cff4fd69c79a201b044d9db",
       "version_major": 2,
       "version_minor": 0
      },
      "text/plain": [
       "Batches:   0%|          | 0/1 [00:00<?, ?it/s]"
      ]
     },
     "metadata": {},
     "output_type": "display_data"
    },
    {
     "data": {
      "application/vnd.jupyter.widget-view+json": {
       "model_id": "0eb01b9be3ee4cbba865301720bc4471",
       "version_major": 2,
       "version_minor": 0
      },
      "text/plain": [
       "Batches:   0%|          | 0/1 [00:00<?, ?it/s]"
      ]
     },
     "metadata": {},
     "output_type": "display_data"
    },
    {
     "data": {
      "application/vnd.jupyter.widget-view+json": {
       "model_id": "70d116decf504a5589f4e26ed38219e2",
       "version_major": 2,
       "version_minor": 0
      },
      "text/plain": [
       "Batches:   0%|          | 0/1 [00:00<?, ?it/s]"
      ]
     },
     "metadata": {},
     "output_type": "display_data"
    },
    {
     "data": {
      "application/vnd.jupyter.widget-view+json": {
       "model_id": "bbde06716d3842c69985f222aefd778b",
       "version_major": 2,
       "version_minor": 0
      },
      "text/plain": [
       "Batches:   0%|          | 0/1 [00:00<?, ?it/s]"
      ]
     },
     "metadata": {},
     "output_type": "display_data"
    },
    {
     "data": {
      "application/vnd.jupyter.widget-view+json": {
       "model_id": "db9179728aa749c1a783be9cd01c6083",
       "version_major": 2,
       "version_minor": 0
      },
      "text/plain": [
       "Batches:   0%|          | 0/1 [00:00<?, ?it/s]"
      ]
     },
     "metadata": {},
     "output_type": "display_data"
    },
    {
     "data": {
      "application/vnd.jupyter.widget-view+json": {
       "model_id": "43f5f124f59847cbaf7218dd83b44a06",
       "version_major": 2,
       "version_minor": 0
      },
      "text/plain": [
       "Batches:   0%|          | 0/1 [00:00<?, ?it/s]"
      ]
     },
     "metadata": {},
     "output_type": "display_data"
    },
    {
     "data": {
      "application/vnd.jupyter.widget-view+json": {
       "model_id": "c1e3c4aa76fb423384bf7b593462dc66",
       "version_major": 2,
       "version_minor": 0
      },
      "text/plain": [
       "Batches:   0%|          | 0/1 [00:00<?, ?it/s]"
      ]
     },
     "metadata": {},
     "output_type": "display_data"
    },
    {
     "data": {
      "application/vnd.jupyter.widget-view+json": {
       "model_id": "e62f114ba3824a2c9bfe0ee337c4372c",
       "version_major": 2,
       "version_minor": 0
      },
      "text/plain": [
       "Batches:   0%|          | 0/1 [00:00<?, ?it/s]"
      ]
     },
     "metadata": {},
     "output_type": "display_data"
    },
    {
     "data": {
      "application/vnd.jupyter.widget-view+json": {
       "model_id": "11ceb67978214718979796aa935e5af6",
       "version_major": 2,
       "version_minor": 0
      },
      "text/plain": [
       "Batches:   0%|          | 0/1 [00:00<?, ?it/s]"
      ]
     },
     "metadata": {},
     "output_type": "display_data"
    },
    {
     "data": {
      "application/vnd.jupyter.widget-view+json": {
       "model_id": "768f6aa5722c4ff6b45e785b1a04a9c6",
       "version_major": 2,
       "version_minor": 0
      },
      "text/plain": [
       "Batches:   0%|          | 0/1 [00:00<?, ?it/s]"
      ]
     },
     "metadata": {},
     "output_type": "display_data"
    },
    {
     "data": {
      "application/vnd.jupyter.widget-view+json": {
       "model_id": "4af52b1d8de94252b27e6e313e49f874",
       "version_major": 2,
       "version_minor": 0
      },
      "text/plain": [
       "Batches:   0%|          | 0/1 [00:00<?, ?it/s]"
      ]
     },
     "metadata": {},
     "output_type": "display_data"
    },
    {
     "data": {
      "application/vnd.jupyter.widget-view+json": {
       "model_id": "7bf4f934eb6e44ddbf1798a6baf81469",
       "version_major": 2,
       "version_minor": 0
      },
      "text/plain": [
       "Batches:   0%|          | 0/1 [00:00<?, ?it/s]"
      ]
     },
     "metadata": {},
     "output_type": "display_data"
    },
    {
     "data": {
      "application/vnd.jupyter.widget-view+json": {
       "model_id": "940948d8a8cd45e6b46d2c26513daf2c",
       "version_major": 2,
       "version_minor": 0
      },
      "text/plain": [
       "Batches:   0%|          | 0/1 [00:00<?, ?it/s]"
      ]
     },
     "metadata": {},
     "output_type": "display_data"
    },
    {
     "data": {
      "application/vnd.jupyter.widget-view+json": {
       "model_id": "9071b48987e141adadbcf22feb51d474",
       "version_major": 2,
       "version_minor": 0
      },
      "text/plain": [
       "Batches:   0%|          | 0/1 [00:00<?, ?it/s]"
      ]
     },
     "metadata": {},
     "output_type": "display_data"
    },
    {
     "data": {
      "application/vnd.jupyter.widget-view+json": {
       "model_id": "e72a1d6fd9a0416ba326616bc54881cb",
       "version_major": 2,
       "version_minor": 0
      },
      "text/plain": [
       "Batches:   0%|          | 0/1 [00:00<?, ?it/s]"
      ]
     },
     "metadata": {},
     "output_type": "display_data"
    },
    {
     "data": {
      "application/vnd.jupyter.widget-view+json": {
       "model_id": "77d71f546de249bd8ac2172edd66fe4f",
       "version_major": 2,
       "version_minor": 0
      },
      "text/plain": [
       "Batches:   0%|          | 0/1 [00:00<?, ?it/s]"
      ]
     },
     "metadata": {},
     "output_type": "display_data"
    },
    {
     "data": {
      "application/vnd.jupyter.widget-view+json": {
       "model_id": "2325e4fbcfd1425d909ee77500dd1b42",
       "version_major": 2,
       "version_minor": 0
      },
      "text/plain": [
       "Batches:   0%|          | 0/1 [00:00<?, ?it/s]"
      ]
     },
     "metadata": {},
     "output_type": "display_data"
    },
    {
     "data": {
      "application/vnd.jupyter.widget-view+json": {
       "model_id": "59cdf19290774456be4ad41115a33600",
       "version_major": 2,
       "version_minor": 0
      },
      "text/plain": [
       "Batches:   0%|          | 0/1 [00:00<?, ?it/s]"
      ]
     },
     "metadata": {},
     "output_type": "display_data"
    },
    {
     "data": {
      "application/vnd.jupyter.widget-view+json": {
       "model_id": "de5106f2bf804c2287ee265a38dc9635",
       "version_major": 2,
       "version_minor": 0
      },
      "text/plain": [
       "Batches:   0%|          | 0/1 [00:00<?, ?it/s]"
      ]
     },
     "metadata": {},
     "output_type": "display_data"
    },
    {
     "data": {
      "application/vnd.jupyter.widget-view+json": {
       "model_id": "f9d58d17bdea4917aaa75263130255ea",
       "version_major": 2,
       "version_minor": 0
      },
      "text/plain": [
       "Batches:   0%|          | 0/1 [00:00<?, ?it/s]"
      ]
     },
     "metadata": {},
     "output_type": "display_data"
    },
    {
     "data": {
      "application/vnd.jupyter.widget-view+json": {
       "model_id": "66b07eaa8e1644b4abc706d704c75016",
       "version_major": 2,
       "version_minor": 0
      },
      "text/plain": [
       "Batches:   0%|          | 0/1 [00:00<?, ?it/s]"
      ]
     },
     "metadata": {},
     "output_type": "display_data"
    },
    {
     "data": {
      "application/vnd.jupyter.widget-view+json": {
       "model_id": "f52d2fc829a541dcb67a3b93d1e33ed9",
       "version_major": 2,
       "version_minor": 0
      },
      "text/plain": [
       "Batches:   0%|          | 0/1 [00:00<?, ?it/s]"
      ]
     },
     "metadata": {},
     "output_type": "display_data"
    },
    {
     "data": {
      "application/vnd.jupyter.widget-view+json": {
       "model_id": "4738a301969f4323b9d99988168385fe",
       "version_major": 2,
       "version_minor": 0
      },
      "text/plain": [
       "Batches:   0%|          | 0/1 [00:00<?, ?it/s]"
      ]
     },
     "metadata": {},
     "output_type": "display_data"
    },
    {
     "data": {
      "application/vnd.jupyter.widget-view+json": {
       "model_id": "1a7ad48c60944c4d8cf674914c7ec6e0",
       "version_major": 2,
       "version_minor": 0
      },
      "text/plain": [
       "Batches:   0%|          | 0/1 [00:00<?, ?it/s]"
      ]
     },
     "metadata": {},
     "output_type": "display_data"
    },
    {
     "data": {
      "application/vnd.jupyter.widget-view+json": {
       "model_id": "c5457d7470ab43d0a5612fb59eeb0ab2",
       "version_major": 2,
       "version_minor": 0
      },
      "text/plain": [
       "Batches:   0%|          | 0/1 [00:00<?, ?it/s]"
      ]
     },
     "metadata": {},
     "output_type": "display_data"
    },
    {
     "data": {
      "application/vnd.jupyter.widget-view+json": {
       "model_id": "426bc5e2619c45babba059a8a74abc24",
       "version_major": 2,
       "version_minor": 0
      },
      "text/plain": [
       "Batches:   0%|          | 0/1 [00:00<?, ?it/s]"
      ]
     },
     "metadata": {},
     "output_type": "display_data"
    },
    {
     "data": {
      "application/vnd.jupyter.widget-view+json": {
       "model_id": "dd6c33671631461393c51543264c7d01",
       "version_major": 2,
       "version_minor": 0
      },
      "text/plain": [
       "Batches:   0%|          | 0/1 [00:00<?, ?it/s]"
      ]
     },
     "metadata": {},
     "output_type": "display_data"
    },
    {
     "data": {
      "application/vnd.jupyter.widget-view+json": {
       "model_id": "590a3512ed6f4b7c90d7bfbe4b8c9085",
       "version_major": 2,
       "version_minor": 0
      },
      "text/plain": [
       "Batches:   0%|          | 0/1 [00:00<?, ?it/s]"
      ]
     },
     "metadata": {},
     "output_type": "display_data"
    },
    {
     "data": {
      "application/vnd.jupyter.widget-view+json": {
       "model_id": "2c5224c7286e41d1badc09718581bd95",
       "version_major": 2,
       "version_minor": 0
      },
      "text/plain": [
       "Batches:   0%|          | 0/1 [00:00<?, ?it/s]"
      ]
     },
     "metadata": {},
     "output_type": "display_data"
    },
    {
     "data": {
      "application/vnd.jupyter.widget-view+json": {
       "model_id": "9d7041cfdb744d9585ebd2333c157a35",
       "version_major": 2,
       "version_minor": 0
      },
      "text/plain": [
       "Batches:   0%|          | 0/1 [00:00<?, ?it/s]"
      ]
     },
     "metadata": {},
     "output_type": "display_data"
    },
    {
     "data": {
      "application/vnd.jupyter.widget-view+json": {
       "model_id": "b7a8e84e18244e4e93a32e83c60a0d27",
       "version_major": 2,
       "version_minor": 0
      },
      "text/plain": [
       "Batches:   0%|          | 0/1 [00:00<?, ?it/s]"
      ]
     },
     "metadata": {},
     "output_type": "display_data"
    },
    {
     "data": {
      "application/vnd.jupyter.widget-view+json": {
       "model_id": "7e90fc4119f4453d9de36b51139a2f99",
       "version_major": 2,
       "version_minor": 0
      },
      "text/plain": [
       "Batches:   0%|          | 0/1 [00:00<?, ?it/s]"
      ]
     },
     "metadata": {},
     "output_type": "display_data"
    },
    {
     "data": {
      "application/vnd.jupyter.widget-view+json": {
       "model_id": "b7c58283e34748408d9e2a1b9e1177cc",
       "version_major": 2,
       "version_minor": 0
      },
      "text/plain": [
       "Batches:   0%|          | 0/1 [00:00<?, ?it/s]"
      ]
     },
     "metadata": {},
     "output_type": "display_data"
    },
    {
     "data": {
      "application/vnd.jupyter.widget-view+json": {
       "model_id": "498d30953527439984199f3889242717",
       "version_major": 2,
       "version_minor": 0
      },
      "text/plain": [
       "Batches:   0%|          | 0/1 [00:00<?, ?it/s]"
      ]
     },
     "metadata": {},
     "output_type": "display_data"
    },
    {
     "data": {
      "application/vnd.jupyter.widget-view+json": {
       "model_id": "dd0ae664377847268218c10cea69aa5e",
       "version_major": 2,
       "version_minor": 0
      },
      "text/plain": [
       "Batches:   0%|          | 0/1 [00:00<?, ?it/s]"
      ]
     },
     "metadata": {},
     "output_type": "display_data"
    },
    {
     "data": {
      "application/vnd.jupyter.widget-view+json": {
       "model_id": "4c997da9c50e4ed4bf64ca208285647f",
       "version_major": 2,
       "version_minor": 0
      },
      "text/plain": [
       "Batches:   0%|          | 0/1 [00:00<?, ?it/s]"
      ]
     },
     "metadata": {},
     "output_type": "display_data"
    },
    {
     "data": {
      "application/vnd.jupyter.widget-view+json": {
       "model_id": "892fcc349e804c3f858552a6a2005ef5",
       "version_major": 2,
       "version_minor": 0
      },
      "text/plain": [
       "Batches:   0%|          | 0/1 [00:00<?, ?it/s]"
      ]
     },
     "metadata": {},
     "output_type": "display_data"
    },
    {
     "data": {
      "application/vnd.jupyter.widget-view+json": {
       "model_id": "a2c127377dff4856a001d4be6604df0d",
       "version_major": 2,
       "version_minor": 0
      },
      "text/plain": [
       "Batches:   0%|          | 0/1 [00:00<?, ?it/s]"
      ]
     },
     "metadata": {},
     "output_type": "display_data"
    },
    {
     "data": {
      "application/vnd.jupyter.widget-view+json": {
       "model_id": "f99efb1e24b244bca47121bbcb9e6429",
       "version_major": 2,
       "version_minor": 0
      },
      "text/plain": [
       "Batches:   0%|          | 0/1 [00:00<?, ?it/s]"
      ]
     },
     "metadata": {},
     "output_type": "display_data"
    },
    {
     "data": {
      "application/vnd.jupyter.widget-view+json": {
       "model_id": "43438685d94c493aafd3df2fef6968a9",
       "version_major": 2,
       "version_minor": 0
      },
      "text/plain": [
       "Batches:   0%|          | 0/1 [00:00<?, ?it/s]"
      ]
     },
     "metadata": {},
     "output_type": "display_data"
    },
    {
     "data": {
      "application/vnd.jupyter.widget-view+json": {
       "model_id": "95565155d5ab498b9c237ae478e366a1",
       "version_major": 2,
       "version_minor": 0
      },
      "text/plain": [
       "Batches:   0%|          | 0/1 [00:00<?, ?it/s]"
      ]
     },
     "metadata": {},
     "output_type": "display_data"
    },
    {
     "data": {
      "application/vnd.jupyter.widget-view+json": {
       "model_id": "158dab835bb94441b03980b981a14efb",
       "version_major": 2,
       "version_minor": 0
      },
      "text/plain": [
       "Batches:   0%|          | 0/1 [00:00<?, ?it/s]"
      ]
     },
     "metadata": {},
     "output_type": "display_data"
    },
    {
     "data": {
      "application/vnd.jupyter.widget-view+json": {
       "model_id": "9a0dceaa2fe644e1b3b32765280bad80",
       "version_major": 2,
       "version_minor": 0
      },
      "text/plain": [
       "Batches:   0%|          | 0/1 [00:00<?, ?it/s]"
      ]
     },
     "metadata": {},
     "output_type": "display_data"
    },
    {
     "data": {
      "application/vnd.jupyter.widget-view+json": {
       "model_id": "3fc61e90abc7490cad65261ec3f0423e",
       "version_major": 2,
       "version_minor": 0
      },
      "text/plain": [
       "Batches:   0%|          | 0/1 [00:00<?, ?it/s]"
      ]
     },
     "metadata": {},
     "output_type": "display_data"
    },
    {
     "data": {
      "application/vnd.jupyter.widget-view+json": {
       "model_id": "dc192fa9e6ca4b238fe2790c92a3042d",
       "version_major": 2,
       "version_minor": 0
      },
      "text/plain": [
       "Batches:   0%|          | 0/1 [00:00<?, ?it/s]"
      ]
     },
     "metadata": {},
     "output_type": "display_data"
    },
    {
     "data": {
      "application/vnd.jupyter.widget-view+json": {
       "model_id": "7130768b42f74f6e8ee16eab0fd9ed80",
       "version_major": 2,
       "version_minor": 0
      },
      "text/plain": [
       "Batches:   0%|          | 0/1 [00:00<?, ?it/s]"
      ]
     },
     "metadata": {},
     "output_type": "display_data"
    },
    {
     "data": {
      "application/vnd.jupyter.widget-view+json": {
       "model_id": "481f5fd4f5b3487b8fa9d91dbe0f71b4",
       "version_major": 2,
       "version_minor": 0
      },
      "text/plain": [
       "Batches:   0%|          | 0/1 [00:00<?, ?it/s]"
      ]
     },
     "metadata": {},
     "output_type": "display_data"
    },
    {
     "data": {
      "application/vnd.jupyter.widget-view+json": {
       "model_id": "2efdaf7f834549e49ffab727ed641699",
       "version_major": 2,
       "version_minor": 0
      },
      "text/plain": [
       "Batches:   0%|          | 0/1 [00:00<?, ?it/s]"
      ]
     },
     "metadata": {},
     "output_type": "display_data"
    },
    {
     "data": {
      "application/vnd.jupyter.widget-view+json": {
       "model_id": "1a9764c7771b4b658e2f7a65f5a6383a",
       "version_major": 2,
       "version_minor": 0
      },
      "text/plain": [
       "Batches:   0%|          | 0/1 [00:00<?, ?it/s]"
      ]
     },
     "metadata": {},
     "output_type": "display_data"
    },
    {
     "data": {
      "application/vnd.jupyter.widget-view+json": {
       "model_id": "0e6cb0acf5054247b8bc24fa1886656a",
       "version_major": 2,
       "version_minor": 0
      },
      "text/plain": [
       "Batches:   0%|          | 0/1 [00:00<?, ?it/s]"
      ]
     },
     "metadata": {},
     "output_type": "display_data"
    },
    {
     "data": {
      "application/vnd.jupyter.widget-view+json": {
       "model_id": "722ad2535083488eac9fc48162b0d14e",
       "version_major": 2,
       "version_minor": 0
      },
      "text/plain": [
       "Batches:   0%|          | 0/1 [00:00<?, ?it/s]"
      ]
     },
     "metadata": {},
     "output_type": "display_data"
    },
    {
     "data": {
      "application/vnd.jupyter.widget-view+json": {
       "model_id": "16448042f8d34c10b3bca9131a0da444",
       "version_major": 2,
       "version_minor": 0
      },
      "text/plain": [
       "Batches:   0%|          | 0/1 [00:00<?, ?it/s]"
      ]
     },
     "metadata": {},
     "output_type": "display_data"
    },
    {
     "data": {
      "application/vnd.jupyter.widget-view+json": {
       "model_id": "86b54f2b068f426b9abd72bec28f0f30",
       "version_major": 2,
       "version_minor": 0
      },
      "text/plain": [
       "Batches:   0%|          | 0/1 [00:00<?, ?it/s]"
      ]
     },
     "metadata": {},
     "output_type": "display_data"
    },
    {
     "data": {
      "application/vnd.jupyter.widget-view+json": {
       "model_id": "39f037129aba45879ec68d8fd20f4a18",
       "version_major": 2,
       "version_minor": 0
      },
      "text/plain": [
       "Batches:   0%|          | 0/1 [00:00<?, ?it/s]"
      ]
     },
     "metadata": {},
     "output_type": "display_data"
    },
    {
     "data": {
      "application/vnd.jupyter.widget-view+json": {
       "model_id": "94f0ecdbe1c04a989ac08dfad648452a",
       "version_major": 2,
       "version_minor": 0
      },
      "text/plain": [
       "Batches:   0%|          | 0/1 [00:00<?, ?it/s]"
      ]
     },
     "metadata": {},
     "output_type": "display_data"
    },
    {
     "data": {
      "application/vnd.jupyter.widget-view+json": {
       "model_id": "d5017b2f684a45369241d268af037827",
       "version_major": 2,
       "version_minor": 0
      },
      "text/plain": [
       "Batches:   0%|          | 0/1 [00:00<?, ?it/s]"
      ]
     },
     "metadata": {},
     "output_type": "display_data"
    },
    {
     "data": {
      "application/vnd.jupyter.widget-view+json": {
       "model_id": "bb58cdd73add4da1b2c9538df746c044",
       "version_major": 2,
       "version_minor": 0
      },
      "text/plain": [
       "Batches:   0%|          | 0/1 [00:00<?, ?it/s]"
      ]
     },
     "metadata": {},
     "output_type": "display_data"
    },
    {
     "data": {
      "application/vnd.jupyter.widget-view+json": {
       "model_id": "3814f8dd672f41adb0d0f25c0ed756e1",
       "version_major": 2,
       "version_minor": 0
      },
      "text/plain": [
       "Batches:   0%|          | 0/1 [00:00<?, ?it/s]"
      ]
     },
     "metadata": {},
     "output_type": "display_data"
    },
    {
     "data": {
      "application/vnd.jupyter.widget-view+json": {
       "model_id": "61412d3945264cc3824df8bb56bfcc7d",
       "version_major": 2,
       "version_minor": 0
      },
      "text/plain": [
       "Batches:   0%|          | 0/1 [00:00<?, ?it/s]"
      ]
     },
     "metadata": {},
     "output_type": "display_data"
    },
    {
     "data": {
      "application/vnd.jupyter.widget-view+json": {
       "model_id": "d268db018f8a41709f9777bc4c198e0f",
       "version_major": 2,
       "version_minor": 0
      },
      "text/plain": [
       "Batches:   0%|          | 0/1 [00:00<?, ?it/s]"
      ]
     },
     "metadata": {},
     "output_type": "display_data"
    },
    {
     "data": {
      "application/vnd.jupyter.widget-view+json": {
       "model_id": "4d7b38e9ffc94724bc820100e9fa5d7c",
       "version_major": 2,
       "version_minor": 0
      },
      "text/plain": [
       "Batches:   0%|          | 0/1 [00:00<?, ?it/s]"
      ]
     },
     "metadata": {},
     "output_type": "display_data"
    },
    {
     "data": {
      "application/vnd.jupyter.widget-view+json": {
       "model_id": "a8412c8ab81a4bb18805262871e9c6c1",
       "version_major": 2,
       "version_minor": 0
      },
      "text/plain": [
       "Batches:   0%|          | 0/1 [00:00<?, ?it/s]"
      ]
     },
     "metadata": {},
     "output_type": "display_data"
    },
    {
     "data": {
      "application/vnd.jupyter.widget-view+json": {
       "model_id": "1299135befef45d7a65b9ffd1a66ecb5",
       "version_major": 2,
       "version_minor": 0
      },
      "text/plain": [
       "Batches:   0%|          | 0/1 [00:00<?, ?it/s]"
      ]
     },
     "metadata": {},
     "output_type": "display_data"
    },
    {
     "data": {
      "application/vnd.jupyter.widget-view+json": {
       "model_id": "3e37a59197084cc2bc4a6df62b73365b",
       "version_major": 2,
       "version_minor": 0
      },
      "text/plain": [
       "Batches:   0%|          | 0/1 [00:00<?, ?it/s]"
      ]
     },
     "metadata": {},
     "output_type": "display_data"
    },
    {
     "data": {
      "application/vnd.jupyter.widget-view+json": {
       "model_id": "f03ac4b276d347b995b332752a7f4099",
       "version_major": 2,
       "version_minor": 0
      },
      "text/plain": [
       "Batches:   0%|          | 0/1 [00:00<?, ?it/s]"
      ]
     },
     "metadata": {},
     "output_type": "display_data"
    },
    {
     "data": {
      "application/vnd.jupyter.widget-view+json": {
       "model_id": "cf14e0a6d3614d218c7a2680056811fc",
       "version_major": 2,
       "version_minor": 0
      },
      "text/plain": [
       "Batches:   0%|          | 0/1 [00:00<?, ?it/s]"
      ]
     },
     "metadata": {},
     "output_type": "display_data"
    },
    {
     "data": {
      "application/vnd.jupyter.widget-view+json": {
       "model_id": "e76e6af0119f4c439432084de1a1a06a",
       "version_major": 2,
       "version_minor": 0
      },
      "text/plain": [
       "Batches:   0%|          | 0/1 [00:00<?, ?it/s]"
      ]
     },
     "metadata": {},
     "output_type": "display_data"
    },
    {
     "data": {
      "application/vnd.jupyter.widget-view+json": {
       "model_id": "1e5abf690a3941789e27dd868b7fdc58",
       "version_major": 2,
       "version_minor": 0
      },
      "text/plain": [
       "Batches:   0%|          | 0/1 [00:00<?, ?it/s]"
      ]
     },
     "metadata": {},
     "output_type": "display_data"
    },
    {
     "data": {
      "application/vnd.jupyter.widget-view+json": {
       "model_id": "3ce540424fd44a898f4fe259453b5703",
       "version_major": 2,
       "version_minor": 0
      },
      "text/plain": [
       "Batches:   0%|          | 0/1 [00:00<?, ?it/s]"
      ]
     },
     "metadata": {},
     "output_type": "display_data"
    },
    {
     "data": {
      "application/vnd.jupyter.widget-view+json": {
       "model_id": "d6ef43d1dcff4e0c816635fbbb2d69fb",
       "version_major": 2,
       "version_minor": 0
      },
      "text/plain": [
       "Batches:   0%|          | 0/1 [00:00<?, ?it/s]"
      ]
     },
     "metadata": {},
     "output_type": "display_data"
    },
    {
     "data": {
      "application/vnd.jupyter.widget-view+json": {
       "model_id": "498cc8cf0a524798b953cc1522ed84f5",
       "version_major": 2,
       "version_minor": 0
      },
      "text/plain": [
       "Batches:   0%|          | 0/1 [00:00<?, ?it/s]"
      ]
     },
     "metadata": {},
     "output_type": "display_data"
    },
    {
     "data": {
      "application/vnd.jupyter.widget-view+json": {
       "model_id": "77dccb8c1c144faebcdfa0330a7dc218",
       "version_major": 2,
       "version_minor": 0
      },
      "text/plain": [
       "Batches:   0%|          | 0/1 [00:00<?, ?it/s]"
      ]
     },
     "metadata": {},
     "output_type": "display_data"
    },
    {
     "data": {
      "application/vnd.jupyter.widget-view+json": {
       "model_id": "5784b05f2cb046a5b2e5ea11e1f2dded",
       "version_major": 2,
       "version_minor": 0
      },
      "text/plain": [
       "Batches:   0%|          | 0/1 [00:00<?, ?it/s]"
      ]
     },
     "metadata": {},
     "output_type": "display_data"
    },
    {
     "data": {
      "application/vnd.jupyter.widget-view+json": {
       "model_id": "9ba8f91a6ad44d95ac20f9a341cacc6b",
       "version_major": 2,
       "version_minor": 0
      },
      "text/plain": [
       "Batches:   0%|          | 0/1 [00:00<?, ?it/s]"
      ]
     },
     "metadata": {},
     "output_type": "display_data"
    },
    {
     "data": {
      "application/vnd.jupyter.widget-view+json": {
       "model_id": "7131da0faf214942853ce52f754b189d",
       "version_major": 2,
       "version_minor": 0
      },
      "text/plain": [
       "Batches:   0%|          | 0/1 [00:00<?, ?it/s]"
      ]
     },
     "metadata": {},
     "output_type": "display_data"
    },
    {
     "data": {
      "application/vnd.jupyter.widget-view+json": {
       "model_id": "1f856318e7624b3d96d7c8d536b84c4d",
       "version_major": 2,
       "version_minor": 0
      },
      "text/plain": [
       "Batches:   0%|          | 0/1 [00:00<?, ?it/s]"
      ]
     },
     "metadata": {},
     "output_type": "display_data"
    },
    {
     "data": {
      "application/vnd.jupyter.widget-view+json": {
       "model_id": "13bdf5601121445e8343b0de301513a0",
       "version_major": 2,
       "version_minor": 0
      },
      "text/plain": [
       "Batches:   0%|          | 0/1 [00:00<?, ?it/s]"
      ]
     },
     "metadata": {},
     "output_type": "display_data"
    },
    {
     "data": {
      "application/vnd.jupyter.widget-view+json": {
       "model_id": "ea6a5c01268e42179c5c602cdb89d7a3",
       "version_major": 2,
       "version_minor": 0
      },
      "text/plain": [
       "Batches:   0%|          | 0/1 [00:00<?, ?it/s]"
      ]
     },
     "metadata": {},
     "output_type": "display_data"
    },
    {
     "data": {
      "application/vnd.jupyter.widget-view+json": {
       "model_id": "ce27f44412734910b2fba7d8bb874943",
       "version_major": 2,
       "version_minor": 0
      },
      "text/plain": [
       "Batches:   0%|          | 0/1 [00:00<?, ?it/s]"
      ]
     },
     "metadata": {},
     "output_type": "display_data"
    },
    {
     "data": {
      "application/vnd.jupyter.widget-view+json": {
       "model_id": "8551a625c97340668bf93e96c68efdbc",
       "version_major": 2,
       "version_minor": 0
      },
      "text/plain": [
       "Batches:   0%|          | 0/1 [00:00<?, ?it/s]"
      ]
     },
     "metadata": {},
     "output_type": "display_data"
    },
    {
     "data": {
      "application/vnd.jupyter.widget-view+json": {
       "model_id": "83d2e340daeb4b5e9e597f1bcb4ddb34",
       "version_major": 2,
       "version_minor": 0
      },
      "text/plain": [
       "Batches:   0%|          | 0/1 [00:00<?, ?it/s]"
      ]
     },
     "metadata": {},
     "output_type": "display_data"
    },
    {
     "data": {
      "application/vnd.jupyter.widget-view+json": {
       "model_id": "e5fcdc88af39425f84e6cd48abdf9cea",
       "version_major": 2,
       "version_minor": 0
      },
      "text/plain": [
       "Batches:   0%|          | 0/1 [00:00<?, ?it/s]"
      ]
     },
     "metadata": {},
     "output_type": "display_data"
    },
    {
     "data": {
      "application/vnd.jupyter.widget-view+json": {
       "model_id": "3b0446acf03f48aea22360f5382735c0",
       "version_major": 2,
       "version_minor": 0
      },
      "text/plain": [
       "Batches:   0%|          | 0/1 [00:00<?, ?it/s]"
      ]
     },
     "metadata": {},
     "output_type": "display_data"
    },
    {
     "data": {
      "application/vnd.jupyter.widget-view+json": {
       "model_id": "7015a081551a4e5f87d6ac691e338228",
       "version_major": 2,
       "version_minor": 0
      },
      "text/plain": [
       "Batches:   0%|          | 0/1 [00:00<?, ?it/s]"
      ]
     },
     "metadata": {},
     "output_type": "display_data"
    },
    {
     "data": {
      "application/vnd.jupyter.widget-view+json": {
       "model_id": "db01298907b841db8f3989deda37d73e",
       "version_major": 2,
       "version_minor": 0
      },
      "text/plain": [
       "Batches:   0%|          | 0/1 [00:00<?, ?it/s]"
      ]
     },
     "metadata": {},
     "output_type": "display_data"
    },
    {
     "data": {
      "application/vnd.jupyter.widget-view+json": {
       "model_id": "1b21390a8311457b8d8b64f4e39ea76e",
       "version_major": 2,
       "version_minor": 0
      },
      "text/plain": [
       "Batches:   0%|          | 0/1 [00:00<?, ?it/s]"
      ]
     },
     "metadata": {},
     "output_type": "display_data"
    },
    {
     "data": {
      "application/vnd.jupyter.widget-view+json": {
       "model_id": "54d8d6cb69c84227b0df5a44bb325b79",
       "version_major": 2,
       "version_minor": 0
      },
      "text/plain": [
       "Batches:   0%|          | 0/1 [00:00<?, ?it/s]"
      ]
     },
     "metadata": {},
     "output_type": "display_data"
    },
    {
     "data": {
      "application/vnd.jupyter.widget-view+json": {
       "model_id": "af8d151decf44e5db6cfff8dd5a6d737",
       "version_major": 2,
       "version_minor": 0
      },
      "text/plain": [
       "Batches:   0%|          | 0/1 [00:00<?, ?it/s]"
      ]
     },
     "metadata": {},
     "output_type": "display_data"
    },
    {
     "data": {
      "application/vnd.jupyter.widget-view+json": {
       "model_id": "6b3e3d288ad74fd382a3274dd53d2e13",
       "version_major": 2,
       "version_minor": 0
      },
      "text/plain": [
       "Batches:   0%|          | 0/1 [00:00<?, ?it/s]"
      ]
     },
     "metadata": {},
     "output_type": "display_data"
    },
    {
     "data": {
      "application/vnd.jupyter.widget-view+json": {
       "model_id": "dde7a9ac5c954806880e57ee152cdff2",
       "version_major": 2,
       "version_minor": 0
      },
      "text/plain": [
       "Batches:   0%|          | 0/1 [00:00<?, ?it/s]"
      ]
     },
     "metadata": {},
     "output_type": "display_data"
    },
    {
     "data": {
      "application/vnd.jupyter.widget-view+json": {
       "model_id": "89f0fb6926794f36bd09194eb009fc18",
       "version_major": 2,
       "version_minor": 0
      },
      "text/plain": [
       "Batches:   0%|          | 0/1 [00:00<?, ?it/s]"
      ]
     },
     "metadata": {},
     "output_type": "display_data"
    },
    {
     "data": {
      "application/vnd.jupyter.widget-view+json": {
       "model_id": "ff38cc57cc0f4771997821c8e392b62d",
       "version_major": 2,
       "version_minor": 0
      },
      "text/plain": [
       "Batches:   0%|          | 0/1 [00:00<?, ?it/s]"
      ]
     },
     "metadata": {},
     "output_type": "display_data"
    },
    {
     "data": {
      "application/vnd.jupyter.widget-view+json": {
       "model_id": "b8d29acf829f4c2ca221348c73b47e9c",
       "version_major": 2,
       "version_minor": 0
      },
      "text/plain": [
       "Batches:   0%|          | 0/1 [00:00<?, ?it/s]"
      ]
     },
     "metadata": {},
     "output_type": "display_data"
    },
    {
     "data": {
      "application/vnd.jupyter.widget-view+json": {
       "model_id": "1114ebe02c544fb4b73dcc4fdf310d5f",
       "version_major": 2,
       "version_minor": 0
      },
      "text/plain": [
       "Batches:   0%|          | 0/1 [00:00<?, ?it/s]"
      ]
     },
     "metadata": {},
     "output_type": "display_data"
    },
    {
     "data": {
      "application/vnd.jupyter.widget-view+json": {
       "model_id": "0ea0ec47d755464db513ab25f6ee4fbc",
       "version_major": 2,
       "version_minor": 0
      },
      "text/plain": [
       "Batches:   0%|          | 0/1 [00:00<?, ?it/s]"
      ]
     },
     "metadata": {},
     "output_type": "display_data"
    },
    {
     "data": {
      "application/vnd.jupyter.widget-view+json": {
       "model_id": "508f1ffcb9d44ab5a7eb0ed86f731f75",
       "version_major": 2,
       "version_minor": 0
      },
      "text/plain": [
       "Batches:   0%|          | 0/1 [00:00<?, ?it/s]"
      ]
     },
     "metadata": {},
     "output_type": "display_data"
    },
    {
     "data": {
      "application/vnd.jupyter.widget-view+json": {
       "model_id": "f39645c84296482e844c6819e954ffe8",
       "version_major": 2,
       "version_minor": 0
      },
      "text/plain": [
       "Batches:   0%|          | 0/1 [00:00<?, ?it/s]"
      ]
     },
     "metadata": {},
     "output_type": "display_data"
    },
    {
     "data": {
      "application/vnd.jupyter.widget-view+json": {
       "model_id": "a41f6686c23a464abe6c3fe8e43d65f0",
       "version_major": 2,
       "version_minor": 0
      },
      "text/plain": [
       "Batches:   0%|          | 0/1 [00:00<?, ?it/s]"
      ]
     },
     "metadata": {},
     "output_type": "display_data"
    },
    {
     "data": {
      "application/vnd.jupyter.widget-view+json": {
       "model_id": "d6ceca73868d43d3a3ad1e364f16da5c",
       "version_major": 2,
       "version_minor": 0
      },
      "text/plain": [
       "Batches:   0%|          | 0/1 [00:00<?, ?it/s]"
      ]
     },
     "metadata": {},
     "output_type": "display_data"
    },
    {
     "data": {
      "application/vnd.jupyter.widget-view+json": {
       "model_id": "157d551b4b9d47a59f694f2891f84cd2",
       "version_major": 2,
       "version_minor": 0
      },
      "text/plain": [
       "Batches:   0%|          | 0/1 [00:00<?, ?it/s]"
      ]
     },
     "metadata": {},
     "output_type": "display_data"
    },
    {
     "data": {
      "application/vnd.jupyter.widget-view+json": {
       "model_id": "fa8ba26abd9c4e4db74ae49b4c50e7ce",
       "version_major": 2,
       "version_minor": 0
      },
      "text/plain": [
       "Batches:   0%|          | 0/1 [00:00<?, ?it/s]"
      ]
     },
     "metadata": {},
     "output_type": "display_data"
    },
    {
     "data": {
      "application/vnd.jupyter.widget-view+json": {
       "model_id": "a6c63082f14841a5b44fe918416ad435",
       "version_major": 2,
       "version_minor": 0
      },
      "text/plain": [
       "Batches:   0%|          | 0/1 [00:00<?, ?it/s]"
      ]
     },
     "metadata": {},
     "output_type": "display_data"
    },
    {
     "data": {
      "application/vnd.jupyter.widget-view+json": {
       "model_id": "a3e04fc3ffb54e96a57e051d67c54e24",
       "version_major": 2,
       "version_minor": 0
      },
      "text/plain": [
       "Batches:   0%|          | 0/1 [00:00<?, ?it/s]"
      ]
     },
     "metadata": {},
     "output_type": "display_data"
    },
    {
     "data": {
      "application/vnd.jupyter.widget-view+json": {
       "model_id": "4f2c96c0030946f2bdea1e97e16859c5",
       "version_major": 2,
       "version_minor": 0
      },
      "text/plain": [
       "Batches:   0%|          | 0/1 [00:00<?, ?it/s]"
      ]
     },
     "metadata": {},
     "output_type": "display_data"
    },
    {
     "data": {
      "application/vnd.jupyter.widget-view+json": {
       "model_id": "e965157772f74f9b969b3f9e03130ba8",
       "version_major": 2,
       "version_minor": 0
      },
      "text/plain": [
       "Batches:   0%|          | 0/1 [00:00<?, ?it/s]"
      ]
     },
     "metadata": {},
     "output_type": "display_data"
    },
    {
     "data": {
      "application/vnd.jupyter.widget-view+json": {
       "model_id": "b97350b6364a44cd941fc934120c08f9",
       "version_major": 2,
       "version_minor": 0
      },
      "text/plain": [
       "Batches:   0%|          | 0/1 [00:00<?, ?it/s]"
      ]
     },
     "metadata": {},
     "output_type": "display_data"
    },
    {
     "data": {
      "application/vnd.jupyter.widget-view+json": {
       "model_id": "7d479e04312b4e68a3eb1c0aa18d7baa",
       "version_major": 2,
       "version_minor": 0
      },
      "text/plain": [
       "Batches:   0%|          | 0/1 [00:00<?, ?it/s]"
      ]
     },
     "metadata": {},
     "output_type": "display_data"
    },
    {
     "data": {
      "application/vnd.jupyter.widget-view+json": {
       "model_id": "63ad60ac152d4eefbe3cb05d010c0274",
       "version_major": 2,
       "version_minor": 0
      },
      "text/plain": [
       "Batches:   0%|          | 0/1 [00:00<?, ?it/s]"
      ]
     },
     "metadata": {},
     "output_type": "display_data"
    },
    {
     "data": {
      "application/vnd.jupyter.widget-view+json": {
       "model_id": "689be49527fe4948b7b7d1a08411d2d6",
       "version_major": 2,
       "version_minor": 0
      },
      "text/plain": [
       "Batches:   0%|          | 0/1 [00:00<?, ?it/s]"
      ]
     },
     "metadata": {},
     "output_type": "display_data"
    },
    {
     "data": {
      "application/vnd.jupyter.widget-view+json": {
       "model_id": "506a83c702cd4ab5ae1b3d5481fa29c7",
       "version_major": 2,
       "version_minor": 0
      },
      "text/plain": [
       "Batches:   0%|          | 0/1 [00:00<?, ?it/s]"
      ]
     },
     "metadata": {},
     "output_type": "display_data"
    },
    {
     "data": {
      "application/vnd.jupyter.widget-view+json": {
       "model_id": "3e391b532fe94427b67aab839fb657a4",
       "version_major": 2,
       "version_minor": 0
      },
      "text/plain": [
       "Batches:   0%|          | 0/1 [00:00<?, ?it/s]"
      ]
     },
     "metadata": {},
     "output_type": "display_data"
    },
    {
     "data": {
      "application/vnd.jupyter.widget-view+json": {
       "model_id": "515efa15ae544d1ab2a404d0b7c7eb02",
       "version_major": 2,
       "version_minor": 0
      },
      "text/plain": [
       "Batches:   0%|          | 0/1 [00:00<?, ?it/s]"
      ]
     },
     "metadata": {},
     "output_type": "display_data"
    },
    {
     "data": {
      "application/vnd.jupyter.widget-view+json": {
       "model_id": "a3ef4c20c4b944e7a35914f53f29a450",
       "version_major": 2,
       "version_minor": 0
      },
      "text/plain": [
       "Batches:   0%|          | 0/1 [00:00<?, ?it/s]"
      ]
     },
     "metadata": {},
     "output_type": "display_data"
    },
    {
     "data": {
      "application/vnd.jupyter.widget-view+json": {
       "model_id": "4b04cae30e2240b38d295dfdf7863c00",
       "version_major": 2,
       "version_minor": 0
      },
      "text/plain": [
       "Batches:   0%|          | 0/1 [00:00<?, ?it/s]"
      ]
     },
     "metadata": {},
     "output_type": "display_data"
    },
    {
     "data": {
      "application/vnd.jupyter.widget-view+json": {
       "model_id": "3d7df0915fcc4553a75823673e7f5eca",
       "version_major": 2,
       "version_minor": 0
      },
      "text/plain": [
       "Batches:   0%|          | 0/1 [00:00<?, ?it/s]"
      ]
     },
     "metadata": {},
     "output_type": "display_data"
    },
    {
     "data": {
      "application/vnd.jupyter.widget-view+json": {
       "model_id": "64a86193dfc74ebcaec84e6da08fc152",
       "version_major": 2,
       "version_minor": 0
      },
      "text/plain": [
       "Batches:   0%|          | 0/1 [00:00<?, ?it/s]"
      ]
     },
     "metadata": {},
     "output_type": "display_data"
    },
    {
     "data": {
      "application/vnd.jupyter.widget-view+json": {
       "model_id": "c009f3cea9164f73ba84b4393a985d5c",
       "version_major": 2,
       "version_minor": 0
      },
      "text/plain": [
       "Batches:   0%|          | 0/1 [00:00<?, ?it/s]"
      ]
     },
     "metadata": {},
     "output_type": "display_data"
    },
    {
     "data": {
      "application/vnd.jupyter.widget-view+json": {
       "model_id": "16b5c8ca2ad34fddbdf03b42f6f14a20",
       "version_major": 2,
       "version_minor": 0
      },
      "text/plain": [
       "Batches:   0%|          | 0/1 [00:00<?, ?it/s]"
      ]
     },
     "metadata": {},
     "output_type": "display_data"
    },
    {
     "data": {
      "application/vnd.jupyter.widget-view+json": {
       "model_id": "a048e6e0cf144f4594000023547d23f8",
       "version_major": 2,
       "version_minor": 0
      },
      "text/plain": [
       "Batches:   0%|          | 0/1 [00:00<?, ?it/s]"
      ]
     },
     "metadata": {},
     "output_type": "display_data"
    },
    {
     "data": {
      "application/vnd.jupyter.widget-view+json": {
       "model_id": "51fa1727968f44379d93e82c29e4089c",
       "version_major": 2,
       "version_minor": 0
      },
      "text/plain": [
       "Batches:   0%|          | 0/1 [00:00<?, ?it/s]"
      ]
     },
     "metadata": {},
     "output_type": "display_data"
    },
    {
     "data": {
      "application/vnd.jupyter.widget-view+json": {
       "model_id": "6031f300d48f407dad8a63a3e99cfa68",
       "version_major": 2,
       "version_minor": 0
      },
      "text/plain": [
       "Batches:   0%|          | 0/1 [00:00<?, ?it/s]"
      ]
     },
     "metadata": {},
     "output_type": "display_data"
    },
    {
     "data": {
      "application/vnd.jupyter.widget-view+json": {
       "model_id": "393f989a91754008b2bf6230ee61b9ee",
       "version_major": 2,
       "version_minor": 0
      },
      "text/plain": [
       "Batches:   0%|          | 0/1 [00:00<?, ?it/s]"
      ]
     },
     "metadata": {},
     "output_type": "display_data"
    },
    {
     "data": {
      "application/vnd.jupyter.widget-view+json": {
       "model_id": "889a00f113ad45d88540f09ef570f40f",
       "version_major": 2,
       "version_minor": 0
      },
      "text/plain": [
       "Batches:   0%|          | 0/1 [00:00<?, ?it/s]"
      ]
     },
     "metadata": {},
     "output_type": "display_data"
    },
    {
     "data": {
      "application/vnd.jupyter.widget-view+json": {
       "model_id": "1dc87999d4ec42b9a5f5c582db7629a7",
       "version_major": 2,
       "version_minor": 0
      },
      "text/plain": [
       "Batches:   0%|          | 0/1 [00:00<?, ?it/s]"
      ]
     },
     "metadata": {},
     "output_type": "display_data"
    },
    {
     "data": {
      "application/vnd.jupyter.widget-view+json": {
       "model_id": "7ae4424ebb4b4e818d20adbf00343ae1",
       "version_major": 2,
       "version_minor": 0
      },
      "text/plain": [
       "Batches:   0%|          | 0/1 [00:00<?, ?it/s]"
      ]
     },
     "metadata": {},
     "output_type": "display_data"
    },
    {
     "data": {
      "application/vnd.jupyter.widget-view+json": {
       "model_id": "84d912605f964d3e9096c7756ba8f82e",
       "version_major": 2,
       "version_minor": 0
      },
      "text/plain": [
       "Batches:   0%|          | 0/1 [00:00<?, ?it/s]"
      ]
     },
     "metadata": {},
     "output_type": "display_data"
    },
    {
     "data": {
      "application/vnd.jupyter.widget-view+json": {
       "model_id": "553196111e6c4ee9a03085fe444a6a68",
       "version_major": 2,
       "version_minor": 0
      },
      "text/plain": [
       "Batches:   0%|          | 0/1 [00:00<?, ?it/s]"
      ]
     },
     "metadata": {},
     "output_type": "display_data"
    },
    {
     "data": {
      "application/vnd.jupyter.widget-view+json": {
       "model_id": "ed0165ba7bd64321b43f626d83d9e946",
       "version_major": 2,
       "version_minor": 0
      },
      "text/plain": [
       "Batches:   0%|          | 0/1 [00:00<?, ?it/s]"
      ]
     },
     "metadata": {},
     "output_type": "display_data"
    },
    {
     "data": {
      "application/vnd.jupyter.widget-view+json": {
       "model_id": "34b74eb879c2412b84798a3a66d43ddc",
       "version_major": 2,
       "version_minor": 0
      },
      "text/plain": [
       "Batches:   0%|          | 0/1 [00:00<?, ?it/s]"
      ]
     },
     "metadata": {},
     "output_type": "display_data"
    },
    {
     "data": {
      "application/vnd.jupyter.widget-view+json": {
       "model_id": "39db03da456e4c9881e78023ab0e6de6",
       "version_major": 2,
       "version_minor": 0
      },
      "text/plain": [
       "Batches:   0%|          | 0/1 [00:00<?, ?it/s]"
      ]
     },
     "metadata": {},
     "output_type": "display_data"
    },
    {
     "data": {
      "application/vnd.jupyter.widget-view+json": {
       "model_id": "5121fdd68cb142a4ab7a75cc6b9a75af",
       "version_major": 2,
       "version_minor": 0
      },
      "text/plain": [
       "Batches:   0%|          | 0/1 [00:00<?, ?it/s]"
      ]
     },
     "metadata": {},
     "output_type": "display_data"
    },
    {
     "data": {
      "application/vnd.jupyter.widget-view+json": {
       "model_id": "91e344106fcf4d3a8f118ef59d9018ac",
       "version_major": 2,
       "version_minor": 0
      },
      "text/plain": [
       "Batches:   0%|          | 0/1 [00:00<?, ?it/s]"
      ]
     },
     "metadata": {},
     "output_type": "display_data"
    },
    {
     "data": {
      "application/vnd.jupyter.widget-view+json": {
       "model_id": "7287b95ad98943e288162899c06f6a78",
       "version_major": 2,
       "version_minor": 0
      },
      "text/plain": [
       "Batches:   0%|          | 0/1 [00:00<?, ?it/s]"
      ]
     },
     "metadata": {},
     "output_type": "display_data"
    },
    {
     "data": {
      "application/vnd.jupyter.widget-view+json": {
       "model_id": "f24fdce1fbcc4e15b0e0ddf0eacef957",
       "version_major": 2,
       "version_minor": 0
      },
      "text/plain": [
       "Batches:   0%|          | 0/1 [00:00<?, ?it/s]"
      ]
     },
     "metadata": {},
     "output_type": "display_data"
    },
    {
     "data": {
      "application/vnd.jupyter.widget-view+json": {
       "model_id": "b03d08ca15ec45ad86619c4ca6d46c84",
       "version_major": 2,
       "version_minor": 0
      },
      "text/plain": [
       "Batches:   0%|          | 0/1 [00:00<?, ?it/s]"
      ]
     },
     "metadata": {},
     "output_type": "display_data"
    },
    {
     "data": {
      "application/vnd.jupyter.widget-view+json": {
       "model_id": "ed3c29e17e8a4adf9067a4d98de59990",
       "version_major": 2,
       "version_minor": 0
      },
      "text/plain": [
       "Batches:   0%|          | 0/1 [00:00<?, ?it/s]"
      ]
     },
     "metadata": {},
     "output_type": "display_data"
    },
    {
     "data": {
      "application/vnd.jupyter.widget-view+json": {
       "model_id": "2e8b9f7e03e4472293a59b7327c12a07",
       "version_major": 2,
       "version_minor": 0
      },
      "text/plain": [
       "Batches:   0%|          | 0/1 [00:00<?, ?it/s]"
      ]
     },
     "metadata": {},
     "output_type": "display_data"
    },
    {
     "data": {
      "application/vnd.jupyter.widget-view+json": {
       "model_id": "421969962beb4847aaba29d6c93963ee",
       "version_major": 2,
       "version_minor": 0
      },
      "text/plain": [
       "Batches:   0%|          | 0/1 [00:00<?, ?it/s]"
      ]
     },
     "metadata": {},
     "output_type": "display_data"
    },
    {
     "data": {
      "application/vnd.jupyter.widget-view+json": {
       "model_id": "bed593e609e84fd2b4c4889936bb498a",
       "version_major": 2,
       "version_minor": 0
      },
      "text/plain": [
       "Batches:   0%|          | 0/1 [00:00<?, ?it/s]"
      ]
     },
     "metadata": {},
     "output_type": "display_data"
    },
    {
     "data": {
      "application/vnd.jupyter.widget-view+json": {
       "model_id": "07ea8b1e0e4a4db5967b72378661d9cc",
       "version_major": 2,
       "version_minor": 0
      },
      "text/plain": [
       "Batches:   0%|          | 0/1 [00:00<?, ?it/s]"
      ]
     },
     "metadata": {},
     "output_type": "display_data"
    },
    {
     "data": {
      "application/vnd.jupyter.widget-view+json": {
       "model_id": "e846b86de97c4f38b4915884feff133d",
       "version_major": 2,
       "version_minor": 0
      },
      "text/plain": [
       "Batches:   0%|          | 0/1 [00:00<?, ?it/s]"
      ]
     },
     "metadata": {},
     "output_type": "display_data"
    },
    {
     "data": {
      "application/vnd.jupyter.widget-view+json": {
       "model_id": "14099ca339084e5a93a84a64acbc2e7c",
       "version_major": 2,
       "version_minor": 0
      },
      "text/plain": [
       "Batches:   0%|          | 0/1 [00:00<?, ?it/s]"
      ]
     },
     "metadata": {},
     "output_type": "display_data"
    },
    {
     "data": {
      "application/vnd.jupyter.widget-view+json": {
       "model_id": "19370d3547114afe98fa1ed78c4d26cf",
       "version_major": 2,
       "version_minor": 0
      },
      "text/plain": [
       "Batches:   0%|          | 0/1 [00:00<?, ?it/s]"
      ]
     },
     "metadata": {},
     "output_type": "display_data"
    },
    {
     "data": {
      "application/vnd.jupyter.widget-view+json": {
       "model_id": "84eb299d153d400187bb06798bec5a64",
       "version_major": 2,
       "version_minor": 0
      },
      "text/plain": [
       "Batches:   0%|          | 0/1 [00:00<?, ?it/s]"
      ]
     },
     "metadata": {},
     "output_type": "display_data"
    },
    {
     "data": {
      "application/vnd.jupyter.widget-view+json": {
       "model_id": "e418ad9685624a75a3f5f0d0ac651beb",
       "version_major": 2,
       "version_minor": 0
      },
      "text/plain": [
       "Batches:   0%|          | 0/1 [00:00<?, ?it/s]"
      ]
     },
     "metadata": {},
     "output_type": "display_data"
    },
    {
     "data": {
      "application/vnd.jupyter.widget-view+json": {
       "model_id": "620309ac32f943eca9c672d82fc152c9",
       "version_major": 2,
       "version_minor": 0
      },
      "text/plain": [
       "Batches:   0%|          | 0/1 [00:00<?, ?it/s]"
      ]
     },
     "metadata": {},
     "output_type": "display_data"
    },
    {
     "data": {
      "application/vnd.jupyter.widget-view+json": {
       "model_id": "d5442e6b95394ad5a40f99bc1e08f775",
       "version_major": 2,
       "version_minor": 0
      },
      "text/plain": [
       "Batches:   0%|          | 0/1 [00:00<?, ?it/s]"
      ]
     },
     "metadata": {},
     "output_type": "display_data"
    },
    {
     "data": {
      "application/vnd.jupyter.widget-view+json": {
       "model_id": "d4aa6b9c7be4467aaca842c1737a6bfd",
       "version_major": 2,
       "version_minor": 0
      },
      "text/plain": [
       "Batches:   0%|          | 0/1 [00:00<?, ?it/s]"
      ]
     },
     "metadata": {},
     "output_type": "display_data"
    },
    {
     "data": {
      "application/vnd.jupyter.widget-view+json": {
       "model_id": "1fbe112ebbd1483c809fc9358c88aa71",
       "version_major": 2,
       "version_minor": 0
      },
      "text/plain": [
       "Batches:   0%|          | 0/1 [00:00<?, ?it/s]"
      ]
     },
     "metadata": {},
     "output_type": "display_data"
    },
    {
     "data": {
      "application/vnd.jupyter.widget-view+json": {
       "model_id": "1b46e1e83827448aba5748ef0a8af14b",
       "version_major": 2,
       "version_minor": 0
      },
      "text/plain": [
       "Batches:   0%|          | 0/1 [00:00<?, ?it/s]"
      ]
     },
     "metadata": {},
     "output_type": "display_data"
    },
    {
     "data": {
      "application/vnd.jupyter.widget-view+json": {
       "model_id": "956a6ca099cd4f41b72af6acc855aef7",
       "version_major": 2,
       "version_minor": 0
      },
      "text/plain": [
       "Batches:   0%|          | 0/1 [00:00<?, ?it/s]"
      ]
     },
     "metadata": {},
     "output_type": "display_data"
    },
    {
     "data": {
      "application/vnd.jupyter.widget-view+json": {
       "model_id": "06fbf170e8824e0e81f7d50331f4093e",
       "version_major": 2,
       "version_minor": 0
      },
      "text/plain": [
       "Batches:   0%|          | 0/1 [00:00<?, ?it/s]"
      ]
     },
     "metadata": {},
     "output_type": "display_data"
    },
    {
     "data": {
      "application/vnd.jupyter.widget-view+json": {
       "model_id": "4c100e884a5643bd951b6cc78ac00095",
       "version_major": 2,
       "version_minor": 0
      },
      "text/plain": [
       "Batches:   0%|          | 0/1 [00:00<?, ?it/s]"
      ]
     },
     "metadata": {},
     "output_type": "display_data"
    },
    {
     "data": {
      "application/vnd.jupyter.widget-view+json": {
       "model_id": "e7d94417160e436ba1c07b715ad80cb5",
       "version_major": 2,
       "version_minor": 0
      },
      "text/plain": [
       "Batches:   0%|          | 0/1 [00:00<?, ?it/s]"
      ]
     },
     "metadata": {},
     "output_type": "display_data"
    },
    {
     "data": {
      "application/vnd.jupyter.widget-view+json": {
       "model_id": "a5a442d231bc45ad8379bfb11c3dbca5",
       "version_major": 2,
       "version_minor": 0
      },
      "text/plain": [
       "Batches:   0%|          | 0/1 [00:00<?, ?it/s]"
      ]
     },
     "metadata": {},
     "output_type": "display_data"
    },
    {
     "data": {
      "application/vnd.jupyter.widget-view+json": {
       "model_id": "7e429744f69c41628218ec28ac49af7f",
       "version_major": 2,
       "version_minor": 0
      },
      "text/plain": [
       "Batches:   0%|          | 0/1 [00:00<?, ?it/s]"
      ]
     },
     "metadata": {},
     "output_type": "display_data"
    },
    {
     "data": {
      "application/vnd.jupyter.widget-view+json": {
       "model_id": "7018866643df48f1be60abc3d3aee04a",
       "version_major": 2,
       "version_minor": 0
      },
      "text/plain": [
       "Batches:   0%|          | 0/1 [00:00<?, ?it/s]"
      ]
     },
     "metadata": {},
     "output_type": "display_data"
    },
    {
     "data": {
      "application/vnd.jupyter.widget-view+json": {
       "model_id": "a4e257abfcc94d219e21c9c6f9a6d18a",
       "version_major": 2,
       "version_minor": 0
      },
      "text/plain": [
       "Batches:   0%|          | 0/1 [00:00<?, ?it/s]"
      ]
     },
     "metadata": {},
     "output_type": "display_data"
    },
    {
     "data": {
      "application/vnd.jupyter.widget-view+json": {
       "model_id": "773d98aa3c1649019b8c4377529e9019",
       "version_major": 2,
       "version_minor": 0
      },
      "text/plain": [
       "Batches:   0%|          | 0/1 [00:00<?, ?it/s]"
      ]
     },
     "metadata": {},
     "output_type": "display_data"
    },
    {
     "data": {
      "application/vnd.jupyter.widget-view+json": {
       "model_id": "9e21867bdce74f97b20c31f131759c41",
       "version_major": 2,
       "version_minor": 0
      },
      "text/plain": [
       "Batches:   0%|          | 0/1 [00:00<?, ?it/s]"
      ]
     },
     "metadata": {},
     "output_type": "display_data"
    },
    {
     "data": {
      "application/vnd.jupyter.widget-view+json": {
       "model_id": "ce30883160c94c54a87d9a565ecd5789",
       "version_major": 2,
       "version_minor": 0
      },
      "text/plain": [
       "Batches:   0%|          | 0/1 [00:00<?, ?it/s]"
      ]
     },
     "metadata": {},
     "output_type": "display_data"
    },
    {
     "data": {
      "application/vnd.jupyter.widget-view+json": {
       "model_id": "d1efa8b133744246a57b67ad0c0e81ee",
       "version_major": 2,
       "version_minor": 0
      },
      "text/plain": [
       "Batches:   0%|          | 0/1 [00:00<?, ?it/s]"
      ]
     },
     "metadata": {},
     "output_type": "display_data"
    },
    {
     "data": {
      "application/vnd.jupyter.widget-view+json": {
       "model_id": "fb6e405a1fee44a5beb2a7125fe03c9e",
       "version_major": 2,
       "version_minor": 0
      },
      "text/plain": [
       "Batches:   0%|          | 0/1 [00:00<?, ?it/s]"
      ]
     },
     "metadata": {},
     "output_type": "display_data"
    },
    {
     "data": {
      "application/vnd.jupyter.widget-view+json": {
       "model_id": "e392ac06bf90412abd238db8dc7688ac",
       "version_major": 2,
       "version_minor": 0
      },
      "text/plain": [
       "Batches:   0%|          | 0/1 [00:00<?, ?it/s]"
      ]
     },
     "metadata": {},
     "output_type": "display_data"
    },
    {
     "data": {
      "application/vnd.jupyter.widget-view+json": {
       "model_id": "aa94abf77a5d4c4b98f1c6fdc5d3ab88",
       "version_major": 2,
       "version_minor": 0
      },
      "text/plain": [
       "Batches:   0%|          | 0/1 [00:00<?, ?it/s]"
      ]
     },
     "metadata": {},
     "output_type": "display_data"
    },
    {
     "data": {
      "application/vnd.jupyter.widget-view+json": {
       "model_id": "919deb088c6a4fd0bdd4d5af8bc6018a",
       "version_major": 2,
       "version_minor": 0
      },
      "text/plain": [
       "Batches:   0%|          | 0/1 [00:00<?, ?it/s]"
      ]
     },
     "metadata": {},
     "output_type": "display_data"
    },
    {
     "data": {
      "application/vnd.jupyter.widget-view+json": {
       "model_id": "fd99b768e4eb4706b607a64c4a0537e6",
       "version_major": 2,
       "version_minor": 0
      },
      "text/plain": [
       "Batches:   0%|          | 0/1 [00:00<?, ?it/s]"
      ]
     },
     "metadata": {},
     "output_type": "display_data"
    },
    {
     "data": {
      "application/vnd.jupyter.widget-view+json": {
       "model_id": "e66094bcba06497a85a6d98363efe895",
       "version_major": 2,
       "version_minor": 0
      },
      "text/plain": [
       "Batches:   0%|          | 0/1 [00:00<?, ?it/s]"
      ]
     },
     "metadata": {},
     "output_type": "display_data"
    },
    {
     "data": {
      "application/vnd.jupyter.widget-view+json": {
       "model_id": "83defefed6f34e46891c9b8f7d13a73e",
       "version_major": 2,
       "version_minor": 0
      },
      "text/plain": [
       "Batches:   0%|          | 0/1 [00:00<?, ?it/s]"
      ]
     },
     "metadata": {},
     "output_type": "display_data"
    },
    {
     "data": {
      "application/vnd.jupyter.widget-view+json": {
       "model_id": "11297f61f9b042f492e2e138d26a5611",
       "version_major": 2,
       "version_minor": 0
      },
      "text/plain": [
       "Batches:   0%|          | 0/1 [00:00<?, ?it/s]"
      ]
     },
     "metadata": {},
     "output_type": "display_data"
    },
    {
     "data": {
      "application/vnd.jupyter.widget-view+json": {
       "model_id": "f17cf7e2b26b46dd80277e4b14250d58",
       "version_major": 2,
       "version_minor": 0
      },
      "text/plain": [
       "Batches:   0%|          | 0/1 [00:00<?, ?it/s]"
      ]
     },
     "metadata": {},
     "output_type": "display_data"
    },
    {
     "data": {
      "application/vnd.jupyter.widget-view+json": {
       "model_id": "250147bd8a594a3d837f4296b9b5f9ea",
       "version_major": 2,
       "version_minor": 0
      },
      "text/plain": [
       "Batches:   0%|          | 0/1 [00:00<?, ?it/s]"
      ]
     },
     "metadata": {},
     "output_type": "display_data"
    },
    {
     "data": {
      "application/vnd.jupyter.widget-view+json": {
       "model_id": "7b23aa9ca8f243e28b597aabba973ece",
       "version_major": 2,
       "version_minor": 0
      },
      "text/plain": [
       "Batches:   0%|          | 0/1 [00:00<?, ?it/s]"
      ]
     },
     "metadata": {},
     "output_type": "display_data"
    },
    {
     "data": {
      "application/vnd.jupyter.widget-view+json": {
       "model_id": "bcf65236c4504a32877c1d134797ed75",
       "version_major": 2,
       "version_minor": 0
      },
      "text/plain": [
       "Batches:   0%|          | 0/1 [00:00<?, ?it/s]"
      ]
     },
     "metadata": {},
     "output_type": "display_data"
    },
    {
     "data": {
      "application/vnd.jupyter.widget-view+json": {
       "model_id": "f540d2ae4b9a4e73874717816b1c70b7",
       "version_major": 2,
       "version_minor": 0
      },
      "text/plain": [
       "Batches:   0%|          | 0/1 [00:00<?, ?it/s]"
      ]
     },
     "metadata": {},
     "output_type": "display_data"
    },
    {
     "data": {
      "application/vnd.jupyter.widget-view+json": {
       "model_id": "11d681bf103b47d7b96d41766eb36136",
       "version_major": 2,
       "version_minor": 0
      },
      "text/plain": [
       "Batches:   0%|          | 0/1 [00:00<?, ?it/s]"
      ]
     },
     "metadata": {},
     "output_type": "display_data"
    },
    {
     "data": {
      "application/vnd.jupyter.widget-view+json": {
       "model_id": "0425de556644411796dd0d9159f028d7",
       "version_major": 2,
       "version_minor": 0
      },
      "text/plain": [
       "Batches:   0%|          | 0/1 [00:00<?, ?it/s]"
      ]
     },
     "metadata": {},
     "output_type": "display_data"
    },
    {
     "data": {
      "application/vnd.jupyter.widget-view+json": {
       "model_id": "0864d769c95944db920d11cb92c60e54",
       "version_major": 2,
       "version_minor": 0
      },
      "text/plain": [
       "Batches:   0%|          | 0/1 [00:00<?, ?it/s]"
      ]
     },
     "metadata": {},
     "output_type": "display_data"
    },
    {
     "data": {
      "application/vnd.jupyter.widget-view+json": {
       "model_id": "34f1b923a2c14c5cb585c13df4fd87e0",
       "version_major": 2,
       "version_minor": 0
      },
      "text/plain": [
       "Batches:   0%|          | 0/1 [00:00<?, ?it/s]"
      ]
     },
     "metadata": {},
     "output_type": "display_data"
    },
    {
     "data": {
      "application/vnd.jupyter.widget-view+json": {
       "model_id": "6265367c931e4eb4b14bb0b29204f01e",
       "version_major": 2,
       "version_minor": 0
      },
      "text/plain": [
       "Batches:   0%|          | 0/1 [00:00<?, ?it/s]"
      ]
     },
     "metadata": {},
     "output_type": "display_data"
    },
    {
     "data": {
      "application/vnd.jupyter.widget-view+json": {
       "model_id": "89d59310880843ca9ae2f459dda578e0",
       "version_major": 2,
       "version_minor": 0
      },
      "text/plain": [
       "Batches:   0%|          | 0/1 [00:00<?, ?it/s]"
      ]
     },
     "metadata": {},
     "output_type": "display_data"
    },
    {
     "data": {
      "application/vnd.jupyter.widget-view+json": {
       "model_id": "5f4f8f1c65654453bcf641cf3ddcb99a",
       "version_major": 2,
       "version_minor": 0
      },
      "text/plain": [
       "Batches:   0%|          | 0/1 [00:00<?, ?it/s]"
      ]
     },
     "metadata": {},
     "output_type": "display_data"
    },
    {
     "data": {
      "application/vnd.jupyter.widget-view+json": {
       "model_id": "74fe975cf0e04fcd9b288bef87585b74",
       "version_major": 2,
       "version_minor": 0
      },
      "text/plain": [
       "Batches:   0%|          | 0/1 [00:00<?, ?it/s]"
      ]
     },
     "metadata": {},
     "output_type": "display_data"
    },
    {
     "data": {
      "application/vnd.jupyter.widget-view+json": {
       "model_id": "678189f56d434d1ba5ce6bcc5ad87feb",
       "version_major": 2,
       "version_minor": 0
      },
      "text/plain": [
       "Batches:   0%|          | 0/1 [00:00<?, ?it/s]"
      ]
     },
     "metadata": {},
     "output_type": "display_data"
    },
    {
     "data": {
      "application/vnd.jupyter.widget-view+json": {
       "model_id": "c90d01ee3b984cf49cccd311bccde38a",
       "version_major": 2,
       "version_minor": 0
      },
      "text/plain": [
       "Batches:   0%|          | 0/1 [00:00<?, ?it/s]"
      ]
     },
     "metadata": {},
     "output_type": "display_data"
    },
    {
     "data": {
      "application/vnd.jupyter.widget-view+json": {
       "model_id": "8cd698a1805643e1ba75fd7d4fed671f",
       "version_major": 2,
       "version_minor": 0
      },
      "text/plain": [
       "Batches:   0%|          | 0/1 [00:00<?, ?it/s]"
      ]
     },
     "metadata": {},
     "output_type": "display_data"
    },
    {
     "data": {
      "application/vnd.jupyter.widget-view+json": {
       "model_id": "1ce8c10d28b247c48f6e439389e9fb48",
       "version_major": 2,
       "version_minor": 0
      },
      "text/plain": [
       "Batches:   0%|          | 0/1 [00:00<?, ?it/s]"
      ]
     },
     "metadata": {},
     "output_type": "display_data"
    },
    {
     "data": {
      "application/vnd.jupyter.widget-view+json": {
       "model_id": "74a9818d45b84b85b0cea0ef9ef457b1",
       "version_major": 2,
       "version_minor": 0
      },
      "text/plain": [
       "Batches:   0%|          | 0/1 [00:00<?, ?it/s]"
      ]
     },
     "metadata": {},
     "output_type": "display_data"
    },
    {
     "data": {
      "application/vnd.jupyter.widget-view+json": {
       "model_id": "d14258661fb7493894bacdba9bc76c1f",
       "version_major": 2,
       "version_minor": 0
      },
      "text/plain": [
       "Batches:   0%|          | 0/1 [00:00<?, ?it/s]"
      ]
     },
     "metadata": {},
     "output_type": "display_data"
    },
    {
     "data": {
      "application/vnd.jupyter.widget-view+json": {
       "model_id": "4905c72d3bf4431fadbe0686bc174c0f",
       "version_major": 2,
       "version_minor": 0
      },
      "text/plain": [
       "Batches:   0%|          | 0/1 [00:00<?, ?it/s]"
      ]
     },
     "metadata": {},
     "output_type": "display_data"
    },
    {
     "data": {
      "application/vnd.jupyter.widget-view+json": {
       "model_id": "76e24aba0ab2463883b7f8af9d46d0ec",
       "version_major": 2,
       "version_minor": 0
      },
      "text/plain": [
       "Batches:   0%|          | 0/1 [00:00<?, ?it/s]"
      ]
     },
     "metadata": {},
     "output_type": "display_data"
    },
    {
     "data": {
      "application/vnd.jupyter.widget-view+json": {
       "model_id": "1bb4dbe697cf4306ae0ea49cd0758d8c",
       "version_major": 2,
       "version_minor": 0
      },
      "text/plain": [
       "Batches:   0%|          | 0/1 [00:00<?, ?it/s]"
      ]
     },
     "metadata": {},
     "output_type": "display_data"
    },
    {
     "data": {
      "application/vnd.jupyter.widget-view+json": {
       "model_id": "ac811082b79944bda1eb6a9a70a79e8b",
       "version_major": 2,
       "version_minor": 0
      },
      "text/plain": [
       "Batches:   0%|          | 0/1 [00:00<?, ?it/s]"
      ]
     },
     "metadata": {},
     "output_type": "display_data"
    },
    {
     "data": {
      "application/vnd.jupyter.widget-view+json": {
       "model_id": "3ef748786a00421285d0b027775f4f87",
       "version_major": 2,
       "version_minor": 0
      },
      "text/plain": [
       "Batches:   0%|          | 0/1 [00:00<?, ?it/s]"
      ]
     },
     "metadata": {},
     "output_type": "display_data"
    },
    {
     "data": {
      "application/vnd.jupyter.widget-view+json": {
       "model_id": "4fc1c42c1ad742208a0d765b719d591d",
       "version_major": 2,
       "version_minor": 0
      },
      "text/plain": [
       "Batches:   0%|          | 0/1 [00:00<?, ?it/s]"
      ]
     },
     "metadata": {},
     "output_type": "display_data"
    },
    {
     "data": {
      "application/vnd.jupyter.widget-view+json": {
       "model_id": "ff7e263196084b509b7ba6c56329c3de",
       "version_major": 2,
       "version_minor": 0
      },
      "text/plain": [
       "Batches:   0%|          | 0/1 [00:00<?, ?it/s]"
      ]
     },
     "metadata": {},
     "output_type": "display_data"
    },
    {
     "data": {
      "application/vnd.jupyter.widget-view+json": {
       "model_id": "29d76541979440dfbfa0d10fca16834d",
       "version_major": 2,
       "version_minor": 0
      },
      "text/plain": [
       "Batches:   0%|          | 0/1 [00:00<?, ?it/s]"
      ]
     },
     "metadata": {},
     "output_type": "display_data"
    },
    {
     "data": {
      "application/vnd.jupyter.widget-view+json": {
       "model_id": "2a9337c38c0d42aeaf9317e44e84590f",
       "version_major": 2,
       "version_minor": 0
      },
      "text/plain": [
       "Batches:   0%|          | 0/1 [00:00<?, ?it/s]"
      ]
     },
     "metadata": {},
     "output_type": "display_data"
    },
    {
     "data": {
      "application/vnd.jupyter.widget-view+json": {
       "model_id": "d2bf5db61ba5459f8cc255cc1751bc9d",
       "version_major": 2,
       "version_minor": 0
      },
      "text/plain": [
       "Batches:   0%|          | 0/1 [00:00<?, ?it/s]"
      ]
     },
     "metadata": {},
     "output_type": "display_data"
    },
    {
     "data": {
      "application/vnd.jupyter.widget-view+json": {
       "model_id": "c3797482f950421bb1d1dea5dc68cb53",
       "version_major": 2,
       "version_minor": 0
      },
      "text/plain": [
       "Batches:   0%|          | 0/1 [00:00<?, ?it/s]"
      ]
     },
     "metadata": {},
     "output_type": "display_data"
    },
    {
     "data": {
      "application/vnd.jupyter.widget-view+json": {
       "model_id": "45ffcaba5f8e4b3482fd07fc2aff7182",
       "version_major": 2,
       "version_minor": 0
      },
      "text/plain": [
       "Batches:   0%|          | 0/1 [00:00<?, ?it/s]"
      ]
     },
     "metadata": {},
     "output_type": "display_data"
    },
    {
     "data": {
      "application/vnd.jupyter.widget-view+json": {
       "model_id": "ef1e0f329cf541a1875328cd4527a6b8",
       "version_major": 2,
       "version_minor": 0
      },
      "text/plain": [
       "Batches:   0%|          | 0/1 [00:00<?, ?it/s]"
      ]
     },
     "metadata": {},
     "output_type": "display_data"
    },
    {
     "data": {
      "application/vnd.jupyter.widget-view+json": {
       "model_id": "6d0c7e8c20084eab9bb10164a5ab7936",
       "version_major": 2,
       "version_minor": 0
      },
      "text/plain": [
       "Batches:   0%|          | 0/1 [00:00<?, ?it/s]"
      ]
     },
     "metadata": {},
     "output_type": "display_data"
    },
    {
     "data": {
      "application/vnd.jupyter.widget-view+json": {
       "model_id": "49371142b7f6427ca186a50f4cbd3192",
       "version_major": 2,
       "version_minor": 0
      },
      "text/plain": [
       "Batches:   0%|          | 0/1 [00:00<?, ?it/s]"
      ]
     },
     "metadata": {},
     "output_type": "display_data"
    },
    {
     "data": {
      "application/vnd.jupyter.widget-view+json": {
       "model_id": "77589b1618c048359bf1b39d85681d8c",
       "version_major": 2,
       "version_minor": 0
      },
      "text/plain": [
       "Batches:   0%|          | 0/1 [00:00<?, ?it/s]"
      ]
     },
     "metadata": {},
     "output_type": "display_data"
    },
    {
     "data": {
      "application/vnd.jupyter.widget-view+json": {
       "model_id": "99f94c7d69944ff58fec7b1e95ae95ef",
       "version_major": 2,
       "version_minor": 0
      },
      "text/plain": [
       "Batches:   0%|          | 0/1 [00:00<?, ?it/s]"
      ]
     },
     "metadata": {},
     "output_type": "display_data"
    },
    {
     "data": {
      "application/vnd.jupyter.widget-view+json": {
       "model_id": "6b1a76947e404dd7a22d8aec037236f0",
       "version_major": 2,
       "version_minor": 0
      },
      "text/plain": [
       "Batches:   0%|          | 0/1 [00:00<?, ?it/s]"
      ]
     },
     "metadata": {},
     "output_type": "display_data"
    },
    {
     "data": {
      "application/vnd.jupyter.widget-view+json": {
       "model_id": "ec4fc3f1906d49acbbd24eacea8cf3be",
       "version_major": 2,
       "version_minor": 0
      },
      "text/plain": [
       "Batches:   0%|          | 0/1 [00:00<?, ?it/s]"
      ]
     },
     "metadata": {},
     "output_type": "display_data"
    },
    {
     "data": {
      "application/vnd.jupyter.widget-view+json": {
       "model_id": "5d4c3cd2952a4273bf0f347a054dd808",
       "version_major": 2,
       "version_minor": 0
      },
      "text/plain": [
       "Batches:   0%|          | 0/1 [00:00<?, ?it/s]"
      ]
     },
     "metadata": {},
     "output_type": "display_data"
    },
    {
     "data": {
      "application/vnd.jupyter.widget-view+json": {
       "model_id": "36e4e8afb11047bc84ec18f14b0e9db5",
       "version_major": 2,
       "version_minor": 0
      },
      "text/plain": [
       "Batches:   0%|          | 0/1 [00:00<?, ?it/s]"
      ]
     },
     "metadata": {},
     "output_type": "display_data"
    },
    {
     "data": {
      "application/vnd.jupyter.widget-view+json": {
       "model_id": "ee14ac144af64998bce4f95b33992aa8",
       "version_major": 2,
       "version_minor": 0
      },
      "text/plain": [
       "Batches:   0%|          | 0/1 [00:00<?, ?it/s]"
      ]
     },
     "metadata": {},
     "output_type": "display_data"
    },
    {
     "data": {
      "application/vnd.jupyter.widget-view+json": {
       "model_id": "b748a9ffc70b4cb497bf19544fcd4b3d",
       "version_major": 2,
       "version_minor": 0
      },
      "text/plain": [
       "Batches:   0%|          | 0/1 [00:00<?, ?it/s]"
      ]
     },
     "metadata": {},
     "output_type": "display_data"
    },
    {
     "data": {
      "application/vnd.jupyter.widget-view+json": {
       "model_id": "8ab63a095bb44c8eb7cbbeb44e129ffa",
       "version_major": 2,
       "version_minor": 0
      },
      "text/plain": [
       "Batches:   0%|          | 0/1 [00:00<?, ?it/s]"
      ]
     },
     "metadata": {},
     "output_type": "display_data"
    },
    {
     "data": {
      "application/vnd.jupyter.widget-view+json": {
       "model_id": "4341dc9340c54dfe9707202452a2e14b",
       "version_major": 2,
       "version_minor": 0
      },
      "text/plain": [
       "Batches:   0%|          | 0/1 [00:00<?, ?it/s]"
      ]
     },
     "metadata": {},
     "output_type": "display_data"
    },
    {
     "data": {
      "application/vnd.jupyter.widget-view+json": {
       "model_id": "ee9733b9f54b40e88d90ec1a117cf0d5",
       "version_major": 2,
       "version_minor": 0
      },
      "text/plain": [
       "Batches:   0%|          | 0/1 [00:00<?, ?it/s]"
      ]
     },
     "metadata": {},
     "output_type": "display_data"
    },
    {
     "data": {
      "application/vnd.jupyter.widget-view+json": {
       "model_id": "4fe55b89b29b4d759fbadda8604e993d",
       "version_major": 2,
       "version_minor": 0
      },
      "text/plain": [
       "Batches:   0%|          | 0/1 [00:00<?, ?it/s]"
      ]
     },
     "metadata": {},
     "output_type": "display_data"
    },
    {
     "data": {
      "application/vnd.jupyter.widget-view+json": {
       "model_id": "d2e2202a3afd48459287e5ec368a503f",
       "version_major": 2,
       "version_minor": 0
      },
      "text/plain": [
       "Batches:   0%|          | 0/1 [00:00<?, ?it/s]"
      ]
     },
     "metadata": {},
     "output_type": "display_data"
    },
    {
     "data": {
      "application/vnd.jupyter.widget-view+json": {
       "model_id": "faf8c639895f40018ab863fa67324f68",
       "version_major": 2,
       "version_minor": 0
      },
      "text/plain": [
       "Batches:   0%|          | 0/1 [00:00<?, ?it/s]"
      ]
     },
     "metadata": {},
     "output_type": "display_data"
    },
    {
     "data": {
      "application/vnd.jupyter.widget-view+json": {
       "model_id": "220540f17ebf483cadc3f76268b1878a",
       "version_major": 2,
       "version_minor": 0
      },
      "text/plain": [
       "Batches:   0%|          | 0/1 [00:00<?, ?it/s]"
      ]
     },
     "metadata": {},
     "output_type": "display_data"
    },
    {
     "data": {
      "application/vnd.jupyter.widget-view+json": {
       "model_id": "14972857fcf54bd9a9c2421309064d45",
       "version_major": 2,
       "version_minor": 0
      },
      "text/plain": [
       "Batches:   0%|          | 0/1 [00:00<?, ?it/s]"
      ]
     },
     "metadata": {},
     "output_type": "display_data"
    },
    {
     "data": {
      "application/vnd.jupyter.widget-view+json": {
       "model_id": "a0560a59dda74d419138275611d43adb",
       "version_major": 2,
       "version_minor": 0
      },
      "text/plain": [
       "Batches:   0%|          | 0/1 [00:00<?, ?it/s]"
      ]
     },
     "metadata": {},
     "output_type": "display_data"
    },
    {
     "data": {
      "application/vnd.jupyter.widget-view+json": {
       "model_id": "d2166946e2644e1181b302d0e5b700fe",
       "version_major": 2,
       "version_minor": 0
      },
      "text/plain": [
       "Batches:   0%|          | 0/1 [00:00<?, ?it/s]"
      ]
     },
     "metadata": {},
     "output_type": "display_data"
    },
    {
     "data": {
      "application/vnd.jupyter.widget-view+json": {
       "model_id": "9ebdb934d8904c3ca90a645c8a01ca01",
       "version_major": 2,
       "version_minor": 0
      },
      "text/plain": [
       "Batches:   0%|          | 0/1 [00:00<?, ?it/s]"
      ]
     },
     "metadata": {},
     "output_type": "display_data"
    },
    {
     "data": {
      "application/vnd.jupyter.widget-view+json": {
       "model_id": "0a49d79384e2450cbc390071f30229fb",
       "version_major": 2,
       "version_minor": 0
      },
      "text/plain": [
       "Batches:   0%|          | 0/1 [00:00<?, ?it/s]"
      ]
     },
     "metadata": {},
     "output_type": "display_data"
    },
    {
     "data": {
      "application/vnd.jupyter.widget-view+json": {
       "model_id": "7c8248791ea446c49cda8eabe2be3d42",
       "version_major": 2,
       "version_minor": 0
      },
      "text/plain": [
       "Batches:   0%|          | 0/1 [00:00<?, ?it/s]"
      ]
     },
     "metadata": {},
     "output_type": "display_data"
    },
    {
     "data": {
      "application/vnd.jupyter.widget-view+json": {
       "model_id": "de3c31b80f8f49548b63f0a7f551e069",
       "version_major": 2,
       "version_minor": 0
      },
      "text/plain": [
       "Batches:   0%|          | 0/1 [00:00<?, ?it/s]"
      ]
     },
     "metadata": {},
     "output_type": "display_data"
    },
    {
     "data": {
      "application/vnd.jupyter.widget-view+json": {
       "model_id": "d89099bebd8f418f827ec2ff8c10ba53",
       "version_major": 2,
       "version_minor": 0
      },
      "text/plain": [
       "Batches:   0%|          | 0/1 [00:00<?, ?it/s]"
      ]
     },
     "metadata": {},
     "output_type": "display_data"
    },
    {
     "data": {
      "application/vnd.jupyter.widget-view+json": {
       "model_id": "d2dc4e05ce514455badd3a010e014b5f",
       "version_major": 2,
       "version_minor": 0
      },
      "text/plain": [
       "Batches:   0%|          | 0/1 [00:00<?, ?it/s]"
      ]
     },
     "metadata": {},
     "output_type": "display_data"
    },
    {
     "data": {
      "application/vnd.jupyter.widget-view+json": {
       "model_id": "a4a627b61f0f458489b75172d704060b",
       "version_major": 2,
       "version_minor": 0
      },
      "text/plain": [
       "Batches:   0%|          | 0/1 [00:00<?, ?it/s]"
      ]
     },
     "metadata": {},
     "output_type": "display_data"
    },
    {
     "data": {
      "application/vnd.jupyter.widget-view+json": {
       "model_id": "fa98f95fa5354f878761bab202d468c0",
       "version_major": 2,
       "version_minor": 0
      },
      "text/plain": [
       "Batches:   0%|          | 0/1 [00:00<?, ?it/s]"
      ]
     },
     "metadata": {},
     "output_type": "display_data"
    },
    {
     "data": {
      "application/vnd.jupyter.widget-view+json": {
       "model_id": "57152747a4374c56985c9ab964810e34",
       "version_major": 2,
       "version_minor": 0
      },
      "text/plain": [
       "Batches:   0%|          | 0/1 [00:00<?, ?it/s]"
      ]
     },
     "metadata": {},
     "output_type": "display_data"
    },
    {
     "data": {
      "application/vnd.jupyter.widget-view+json": {
       "model_id": "30998b95588b4d5b935215ee2b5fb3bd",
       "version_major": 2,
       "version_minor": 0
      },
      "text/plain": [
       "Batches:   0%|          | 0/1 [00:00<?, ?it/s]"
      ]
     },
     "metadata": {},
     "output_type": "display_data"
    },
    {
     "data": {
      "application/vnd.jupyter.widget-view+json": {
       "model_id": "5166a3e4525c45dcae88525c564e9a7d",
       "version_major": 2,
       "version_minor": 0
      },
      "text/plain": [
       "Batches:   0%|          | 0/1 [00:00<?, ?it/s]"
      ]
     },
     "metadata": {},
     "output_type": "display_data"
    },
    {
     "data": {
      "application/vnd.jupyter.widget-view+json": {
       "model_id": "f84a55e1b59e4076924dc36f12aa5190",
       "version_major": 2,
       "version_minor": 0
      },
      "text/plain": [
       "Batches:   0%|          | 0/1 [00:00<?, ?it/s]"
      ]
     },
     "metadata": {},
     "output_type": "display_data"
    },
    {
     "data": {
      "application/vnd.jupyter.widget-view+json": {
       "model_id": "3085bbff9937493c81743e0563018b0b",
       "version_major": 2,
       "version_minor": 0
      },
      "text/plain": [
       "Batches:   0%|          | 0/1 [00:00<?, ?it/s]"
      ]
     },
     "metadata": {},
     "output_type": "display_data"
    },
    {
     "data": {
      "application/vnd.jupyter.widget-view+json": {
       "model_id": "e190f7e59014492282c7ac33e44ab797",
       "version_major": 2,
       "version_minor": 0
      },
      "text/plain": [
       "Batches:   0%|          | 0/1 [00:00<?, ?it/s]"
      ]
     },
     "metadata": {},
     "output_type": "display_data"
    },
    {
     "data": {
      "application/vnd.jupyter.widget-view+json": {
       "model_id": "f1cec4ccc12a4e2a9670d0f5602b977d",
       "version_major": 2,
       "version_minor": 0
      },
      "text/plain": [
       "Batches:   0%|          | 0/1 [00:00<?, ?it/s]"
      ]
     },
     "metadata": {},
     "output_type": "display_data"
    },
    {
     "data": {
      "application/vnd.jupyter.widget-view+json": {
       "model_id": "392b56b4004d43cfbbfd632485fcb4f6",
       "version_major": 2,
       "version_minor": 0
      },
      "text/plain": [
       "Batches:   0%|          | 0/1 [00:00<?, ?it/s]"
      ]
     },
     "metadata": {},
     "output_type": "display_data"
    },
    {
     "data": {
      "application/vnd.jupyter.widget-view+json": {
       "model_id": "75665834adaf4ab4bd6bd64dba3a1e8a",
       "version_major": 2,
       "version_minor": 0
      },
      "text/plain": [
       "Batches:   0%|          | 0/1 [00:00<?, ?it/s]"
      ]
     },
     "metadata": {},
     "output_type": "display_data"
    },
    {
     "data": {
      "application/vnd.jupyter.widget-view+json": {
       "model_id": "5ea743d2d0c848b4b86478795fc86987",
       "version_major": 2,
       "version_minor": 0
      },
      "text/plain": [
       "Batches:   0%|          | 0/1 [00:00<?, ?it/s]"
      ]
     },
     "metadata": {},
     "output_type": "display_data"
    },
    {
     "data": {
      "application/vnd.jupyter.widget-view+json": {
       "model_id": "df24497d5bda4038b74810275b070354",
       "version_major": 2,
       "version_minor": 0
      },
      "text/plain": [
       "Batches:   0%|          | 0/1 [00:00<?, ?it/s]"
      ]
     },
     "metadata": {},
     "output_type": "display_data"
    },
    {
     "data": {
      "application/vnd.jupyter.widget-view+json": {
       "model_id": "13c39f979246446ab6e0298dece16818",
       "version_major": 2,
       "version_minor": 0
      },
      "text/plain": [
       "Batches:   0%|          | 0/1 [00:00<?, ?it/s]"
      ]
     },
     "metadata": {},
     "output_type": "display_data"
    },
    {
     "data": {
      "application/vnd.jupyter.widget-view+json": {
       "model_id": "c2004563802f43b7896c84052aa9f1a2",
       "version_major": 2,
       "version_minor": 0
      },
      "text/plain": [
       "Batches:   0%|          | 0/1 [00:00<?, ?it/s]"
      ]
     },
     "metadata": {},
     "output_type": "display_data"
    },
    {
     "data": {
      "application/vnd.jupyter.widget-view+json": {
       "model_id": "5d60547808af4b8bb3f9cb60716be0cb",
       "version_major": 2,
       "version_minor": 0
      },
      "text/plain": [
       "Batches:   0%|          | 0/1 [00:00<?, ?it/s]"
      ]
     },
     "metadata": {},
     "output_type": "display_data"
    },
    {
     "data": {
      "application/vnd.jupyter.widget-view+json": {
       "model_id": "0b941c33325d4cc0b223f977ef3821b6",
       "version_major": 2,
       "version_minor": 0
      },
      "text/plain": [
       "Batches:   0%|          | 0/1 [00:00<?, ?it/s]"
      ]
     },
     "metadata": {},
     "output_type": "display_data"
    },
    {
     "data": {
      "application/vnd.jupyter.widget-view+json": {
       "model_id": "118a03405674444a8f0f787c72f4e95d",
       "version_major": 2,
       "version_minor": 0
      },
      "text/plain": [
       "Batches:   0%|          | 0/1 [00:00<?, ?it/s]"
      ]
     },
     "metadata": {},
     "output_type": "display_data"
    },
    {
     "data": {
      "application/vnd.jupyter.widget-view+json": {
       "model_id": "28797da47d4e4b19ac1419daa4c1253b",
       "version_major": 2,
       "version_minor": 0
      },
      "text/plain": [
       "Batches:   0%|          | 0/1 [00:00<?, ?it/s]"
      ]
     },
     "metadata": {},
     "output_type": "display_data"
    },
    {
     "data": {
      "application/vnd.jupyter.widget-view+json": {
       "model_id": "39622858c6014f90a9a39d5ffb0f44a6",
       "version_major": 2,
       "version_minor": 0
      },
      "text/plain": [
       "Batches:   0%|          | 0/1 [00:00<?, ?it/s]"
      ]
     },
     "metadata": {},
     "output_type": "display_data"
    },
    {
     "data": {
      "application/vnd.jupyter.widget-view+json": {
       "model_id": "3d974ca70ae545b7a3910fabf635cef0",
       "version_major": 2,
       "version_minor": 0
      },
      "text/plain": [
       "Batches:   0%|          | 0/1 [00:00<?, ?it/s]"
      ]
     },
     "metadata": {},
     "output_type": "display_data"
    },
    {
     "data": {
      "application/vnd.jupyter.widget-view+json": {
       "model_id": "5f07420c50c04edf8ca6fa01523b8d3f",
       "version_major": 2,
       "version_minor": 0
      },
      "text/plain": [
       "Batches:   0%|          | 0/1 [00:00<?, ?it/s]"
      ]
     },
     "metadata": {},
     "output_type": "display_data"
    },
    {
     "data": {
      "application/vnd.jupyter.widget-view+json": {
       "model_id": "5888ce62891349c891544577514b4942",
       "version_major": 2,
       "version_minor": 0
      },
      "text/plain": [
       "Batches:   0%|          | 0/1 [00:00<?, ?it/s]"
      ]
     },
     "metadata": {},
     "output_type": "display_data"
    },
    {
     "data": {
      "application/vnd.jupyter.widget-view+json": {
       "model_id": "7e8f6daf12da41d4b6fad0ab112f61fd",
       "version_major": 2,
       "version_minor": 0
      },
      "text/plain": [
       "Batches:   0%|          | 0/1 [00:00<?, ?it/s]"
      ]
     },
     "metadata": {},
     "output_type": "display_data"
    },
    {
     "data": {
      "application/vnd.jupyter.widget-view+json": {
       "model_id": "4377ce2bae424d45b6da338dcb240ede",
       "version_major": 2,
       "version_minor": 0
      },
      "text/plain": [
       "Batches:   0%|          | 0/1 [00:00<?, ?it/s]"
      ]
     },
     "metadata": {},
     "output_type": "display_data"
    },
    {
     "data": {
      "application/vnd.jupyter.widget-view+json": {
       "model_id": "6c1aa6dedbec4573a2d60705c24114dd",
       "version_major": 2,
       "version_minor": 0
      },
      "text/plain": [
       "Batches:   0%|          | 0/1 [00:00<?, ?it/s]"
      ]
     },
     "metadata": {},
     "output_type": "display_data"
    },
    {
     "data": {
      "application/vnd.jupyter.widget-view+json": {
       "model_id": "6fb26c0245914633b14ca80b518cb5b7",
       "version_major": 2,
       "version_minor": 0
      },
      "text/plain": [
       "Batches:   0%|          | 0/1 [00:00<?, ?it/s]"
      ]
     },
     "metadata": {},
     "output_type": "display_data"
    },
    {
     "data": {
      "application/vnd.jupyter.widget-view+json": {
       "model_id": "b63cb718491d4d3f97740b53a3879d62",
       "version_major": 2,
       "version_minor": 0
      },
      "text/plain": [
       "Batches:   0%|          | 0/1 [00:00<?, ?it/s]"
      ]
     },
     "metadata": {},
     "output_type": "display_data"
    },
    {
     "data": {
      "application/vnd.jupyter.widget-view+json": {
       "model_id": "22dfec12490d4dfdb41e61a2e490c355",
       "version_major": 2,
       "version_minor": 0
      },
      "text/plain": [
       "Batches:   0%|          | 0/1 [00:00<?, ?it/s]"
      ]
     },
     "metadata": {},
     "output_type": "display_data"
    },
    {
     "data": {
      "application/vnd.jupyter.widget-view+json": {
       "model_id": "99a99d57f1bc49c485e416a04b3f1f2b",
       "version_major": 2,
       "version_minor": 0
      },
      "text/plain": [
       "Batches:   0%|          | 0/1 [00:00<?, ?it/s]"
      ]
     },
     "metadata": {},
     "output_type": "display_data"
    },
    {
     "data": {
      "application/vnd.jupyter.widget-view+json": {
       "model_id": "21ab8df0560c418ca5127ec5ac7a3732",
       "version_major": 2,
       "version_minor": 0
      },
      "text/plain": [
       "Batches:   0%|          | 0/1 [00:00<?, ?it/s]"
      ]
     },
     "metadata": {},
     "output_type": "display_data"
    },
    {
     "data": {
      "application/vnd.jupyter.widget-view+json": {
       "model_id": "c86cafdd6ce4495b8291609912e3f66d",
       "version_major": 2,
       "version_minor": 0
      },
      "text/plain": [
       "Batches:   0%|          | 0/1 [00:00<?, ?it/s]"
      ]
     },
     "metadata": {},
     "output_type": "display_data"
    },
    {
     "data": {
      "application/vnd.jupyter.widget-view+json": {
       "model_id": "a3b7a0834bbc4dd6a15f0a2b35a66621",
       "version_major": 2,
       "version_minor": 0
      },
      "text/plain": [
       "Batches:   0%|          | 0/1 [00:00<?, ?it/s]"
      ]
     },
     "metadata": {},
     "output_type": "display_data"
    },
    {
     "data": {
      "application/vnd.jupyter.widget-view+json": {
       "model_id": "29201c641fb84128b2f3d73f581575a5",
       "version_major": 2,
       "version_minor": 0
      },
      "text/plain": [
       "Batches:   0%|          | 0/1 [00:00<?, ?it/s]"
      ]
     },
     "metadata": {},
     "output_type": "display_data"
    },
    {
     "data": {
      "application/vnd.jupyter.widget-view+json": {
       "model_id": "cfc731ddb4114343a05c51bf880cdb4a",
       "version_major": 2,
       "version_minor": 0
      },
      "text/plain": [
       "Batches:   0%|          | 0/1 [00:00<?, ?it/s]"
      ]
     },
     "metadata": {},
     "output_type": "display_data"
    },
    {
     "data": {
      "application/vnd.jupyter.widget-view+json": {
       "model_id": "bd2dd82cff9a4dfb925023bfe5438cf7",
       "version_major": 2,
       "version_minor": 0
      },
      "text/plain": [
       "Batches:   0%|          | 0/1 [00:00<?, ?it/s]"
      ]
     },
     "metadata": {},
     "output_type": "display_data"
    },
    {
     "data": {
      "application/vnd.jupyter.widget-view+json": {
       "model_id": "3aae97b189c547b483cd29990d4d1b12",
       "version_major": 2,
       "version_minor": 0
      },
      "text/plain": [
       "Batches:   0%|          | 0/1 [00:00<?, ?it/s]"
      ]
     },
     "metadata": {},
     "output_type": "display_data"
    },
    {
     "data": {
      "application/vnd.jupyter.widget-view+json": {
       "model_id": "de53fdcfd9334fee8d09a709f0132104",
       "version_major": 2,
       "version_minor": 0
      },
      "text/plain": [
       "Batches:   0%|          | 0/1 [00:00<?, ?it/s]"
      ]
     },
     "metadata": {},
     "output_type": "display_data"
    },
    {
     "data": {
      "application/vnd.jupyter.widget-view+json": {
       "model_id": "18cdd12a26e041b9b252b0d0b485e5dc",
       "version_major": 2,
       "version_minor": 0
      },
      "text/plain": [
       "Batches:   0%|          | 0/1 [00:00<?, ?it/s]"
      ]
     },
     "metadata": {},
     "output_type": "display_data"
    },
    {
     "data": {
      "application/vnd.jupyter.widget-view+json": {
       "model_id": "d99931b56f824ea3b00123b7ffcbd1ca",
       "version_major": 2,
       "version_minor": 0
      },
      "text/plain": [
       "Batches:   0%|          | 0/1 [00:00<?, ?it/s]"
      ]
     },
     "metadata": {},
     "output_type": "display_data"
    },
    {
     "data": {
      "application/vnd.jupyter.widget-view+json": {
       "model_id": "a3f85c02a78b4ce1959b8ec075d7b1b2",
       "version_major": 2,
       "version_minor": 0
      },
      "text/plain": [
       "Batches:   0%|          | 0/1 [00:00<?, ?it/s]"
      ]
     },
     "metadata": {},
     "output_type": "display_data"
    },
    {
     "data": {
      "application/vnd.jupyter.widget-view+json": {
       "model_id": "606312c72d484a3e9f96541c7067e720",
       "version_major": 2,
       "version_minor": 0
      },
      "text/plain": [
       "Batches:   0%|          | 0/1 [00:00<?, ?it/s]"
      ]
     },
     "metadata": {},
     "output_type": "display_data"
    },
    {
     "data": {
      "application/vnd.jupyter.widget-view+json": {
       "model_id": "1d93cfbc77034f5d995484b65a4580fa",
       "version_major": 2,
       "version_minor": 0
      },
      "text/plain": [
       "Batches:   0%|          | 0/1 [00:00<?, ?it/s]"
      ]
     },
     "metadata": {},
     "output_type": "display_data"
    },
    {
     "data": {
      "application/vnd.jupyter.widget-view+json": {
       "model_id": "e9574a4598ff415da556bb8bff57be9b",
       "version_major": 2,
       "version_minor": 0
      },
      "text/plain": [
       "Batches:   0%|          | 0/1 [00:00<?, ?it/s]"
      ]
     },
     "metadata": {},
     "output_type": "display_data"
    },
    {
     "data": {
      "application/vnd.jupyter.widget-view+json": {
       "model_id": "244d4bdc84534d63bf1cf9f0919fa60e",
       "version_major": 2,
       "version_minor": 0
      },
      "text/plain": [
       "Batches:   0%|          | 0/1 [00:00<?, ?it/s]"
      ]
     },
     "metadata": {},
     "output_type": "display_data"
    },
    {
     "data": {
      "application/vnd.jupyter.widget-view+json": {
       "model_id": "1c6b8687f1dd45ae8cece4104c8e0ac6",
       "version_major": 2,
       "version_minor": 0
      },
      "text/plain": [
       "Batches:   0%|          | 0/1 [00:00<?, ?it/s]"
      ]
     },
     "metadata": {},
     "output_type": "display_data"
    },
    {
     "data": {
      "application/vnd.jupyter.widget-view+json": {
       "model_id": "8c5f7fcf7e244bdf9e7bf39dc2f1bf2d",
       "version_major": 2,
       "version_minor": 0
      },
      "text/plain": [
       "Batches:   0%|          | 0/1 [00:00<?, ?it/s]"
      ]
     },
     "metadata": {},
     "output_type": "display_data"
    },
    {
     "data": {
      "application/vnd.jupyter.widget-view+json": {
       "model_id": "17625fbb5dca4aed96276dcd53cc6be5",
       "version_major": 2,
       "version_minor": 0
      },
      "text/plain": [
       "Batches:   0%|          | 0/1 [00:00<?, ?it/s]"
      ]
     },
     "metadata": {},
     "output_type": "display_data"
    },
    {
     "data": {
      "application/vnd.jupyter.widget-view+json": {
       "model_id": "b001b3be276543ffaf8797f0311ffaf0",
       "version_major": 2,
       "version_minor": 0
      },
      "text/plain": [
       "Batches:   0%|          | 0/1 [00:00<?, ?it/s]"
      ]
     },
     "metadata": {},
     "output_type": "display_data"
    },
    {
     "data": {
      "application/vnd.jupyter.widget-view+json": {
       "model_id": "2f08c27a70d3493b88e38a7a3ea37ca4",
       "version_major": 2,
       "version_minor": 0
      },
      "text/plain": [
       "Batches:   0%|          | 0/1 [00:00<?, ?it/s]"
      ]
     },
     "metadata": {},
     "output_type": "display_data"
    },
    {
     "data": {
      "application/vnd.jupyter.widget-view+json": {
       "model_id": "4ceb21e9b2794efb91ed1a2d43a0ee00",
       "version_major": 2,
       "version_minor": 0
      },
      "text/plain": [
       "Batches:   0%|          | 0/1 [00:00<?, ?it/s]"
      ]
     },
     "metadata": {},
     "output_type": "display_data"
    },
    {
     "data": {
      "application/vnd.jupyter.widget-view+json": {
       "model_id": "5903b8ad55c04aba88126fbe65c4131a",
       "version_major": 2,
       "version_minor": 0
      },
      "text/plain": [
       "Batches:   0%|          | 0/1 [00:00<?, ?it/s]"
      ]
     },
     "metadata": {},
     "output_type": "display_data"
    },
    {
     "data": {
      "application/vnd.jupyter.widget-view+json": {
       "model_id": "037c47352b204fefbb2980f159260e57",
       "version_major": 2,
       "version_minor": 0
      },
      "text/plain": [
       "Batches:   0%|          | 0/1 [00:00<?, ?it/s]"
      ]
     },
     "metadata": {},
     "output_type": "display_data"
    },
    {
     "data": {
      "application/vnd.jupyter.widget-view+json": {
       "model_id": "1be8bc494e504c0f9ccaf7992c3bb2f8",
       "version_major": 2,
       "version_minor": 0
      },
      "text/plain": [
       "Batches:   0%|          | 0/1 [00:00<?, ?it/s]"
      ]
     },
     "metadata": {},
     "output_type": "display_data"
    },
    {
     "data": {
      "application/vnd.jupyter.widget-view+json": {
       "model_id": "925e22787da441fd9497b9ca5efda401",
       "version_major": 2,
       "version_minor": 0
      },
      "text/plain": [
       "Batches:   0%|          | 0/1 [00:00<?, ?it/s]"
      ]
     },
     "metadata": {},
     "output_type": "display_data"
    },
    {
     "data": {
      "application/vnd.jupyter.widget-view+json": {
       "model_id": "c7df2fe19e834ea3bd61355b6a1790af",
       "version_major": 2,
       "version_minor": 0
      },
      "text/plain": [
       "Batches:   0%|          | 0/1 [00:00<?, ?it/s]"
      ]
     },
     "metadata": {},
     "output_type": "display_data"
    },
    {
     "data": {
      "application/vnd.jupyter.widget-view+json": {
       "model_id": "cc913ea883be4c3387091db9f13253ae",
       "version_major": 2,
       "version_minor": 0
      },
      "text/plain": [
       "Batches:   0%|          | 0/1 [00:00<?, ?it/s]"
      ]
     },
     "metadata": {},
     "output_type": "display_data"
    },
    {
     "data": {
      "application/vnd.jupyter.widget-view+json": {
       "model_id": "8834ca07540845e095871a981960b956",
       "version_major": 2,
       "version_minor": 0
      },
      "text/plain": [
       "Batches:   0%|          | 0/1 [00:00<?, ?it/s]"
      ]
     },
     "metadata": {},
     "output_type": "display_data"
    },
    {
     "data": {
      "application/vnd.jupyter.widget-view+json": {
       "model_id": "07851ec0b8a74877b48f8e60bf050fad",
       "version_major": 2,
       "version_minor": 0
      },
      "text/plain": [
       "Batches:   0%|          | 0/1 [00:00<?, ?it/s]"
      ]
     },
     "metadata": {},
     "output_type": "display_data"
    },
    {
     "data": {
      "application/vnd.jupyter.widget-view+json": {
       "model_id": "d4b53b423ccd4382b1a880926cb6652f",
       "version_major": 2,
       "version_minor": 0
      },
      "text/plain": [
       "Batches:   0%|          | 0/1 [00:00<?, ?it/s]"
      ]
     },
     "metadata": {},
     "output_type": "display_data"
    },
    {
     "data": {
      "application/vnd.jupyter.widget-view+json": {
       "model_id": "1f2d879a31d04e778bc6ea4e7f4ece24",
       "version_major": 2,
       "version_minor": 0
      },
      "text/plain": [
       "Batches:   0%|          | 0/1 [00:00<?, ?it/s]"
      ]
     },
     "metadata": {},
     "output_type": "display_data"
    },
    {
     "data": {
      "application/vnd.jupyter.widget-view+json": {
       "model_id": "ae928d31c7694a26a0c3eecb7bc9e35f",
       "version_major": 2,
       "version_minor": 0
      },
      "text/plain": [
       "Batches:   0%|          | 0/1 [00:00<?, ?it/s]"
      ]
     },
     "metadata": {},
     "output_type": "display_data"
    },
    {
     "data": {
      "application/vnd.jupyter.widget-view+json": {
       "model_id": "6c3d2214150c4b509eae96337c355a40",
       "version_major": 2,
       "version_minor": 0
      },
      "text/plain": [
       "Batches:   0%|          | 0/1 [00:00<?, ?it/s]"
      ]
     },
     "metadata": {},
     "output_type": "display_data"
    },
    {
     "data": {
      "application/vnd.jupyter.widget-view+json": {
       "model_id": "4d23a2775c5b409cbf9a41d151f74ecd",
       "version_major": 2,
       "version_minor": 0
      },
      "text/plain": [
       "Batches:   0%|          | 0/1 [00:00<?, ?it/s]"
      ]
     },
     "metadata": {},
     "output_type": "display_data"
    },
    {
     "data": {
      "application/vnd.jupyter.widget-view+json": {
       "model_id": "247d68a6bc204ac79d86d1b2e3bc58c5",
       "version_major": 2,
       "version_minor": 0
      },
      "text/plain": [
       "Batches:   0%|          | 0/1 [00:00<?, ?it/s]"
      ]
     },
     "metadata": {},
     "output_type": "display_data"
    },
    {
     "data": {
      "application/vnd.jupyter.widget-view+json": {
       "model_id": "6adb1baac89942a58c2af5f8b12287e4",
       "version_major": 2,
       "version_minor": 0
      },
      "text/plain": [
       "Batches:   0%|          | 0/1 [00:00<?, ?it/s]"
      ]
     },
     "metadata": {},
     "output_type": "display_data"
    },
    {
     "data": {
      "application/vnd.jupyter.widget-view+json": {
       "model_id": "a597a1d9349743e78cfe8d24373517ea",
       "version_major": 2,
       "version_minor": 0
      },
      "text/plain": [
       "Batches:   0%|          | 0/1 [00:00<?, ?it/s]"
      ]
     },
     "metadata": {},
     "output_type": "display_data"
    },
    {
     "data": {
      "application/vnd.jupyter.widget-view+json": {
       "model_id": "05d0d715d1474a45b78163e3c1a22d95",
       "version_major": 2,
       "version_minor": 0
      },
      "text/plain": [
       "Batches:   0%|          | 0/1 [00:00<?, ?it/s]"
      ]
     },
     "metadata": {},
     "output_type": "display_data"
    },
    {
     "data": {
      "application/vnd.jupyter.widget-view+json": {
       "model_id": "f269eced252c49f8bde03b9784e37290",
       "version_major": 2,
       "version_minor": 0
      },
      "text/plain": [
       "Batches:   0%|          | 0/1 [00:00<?, ?it/s]"
      ]
     },
     "metadata": {},
     "output_type": "display_data"
    },
    {
     "data": {
      "application/vnd.jupyter.widget-view+json": {
       "model_id": "d0a994395f2c4c759fff652ef7bf22b1",
       "version_major": 2,
       "version_minor": 0
      },
      "text/plain": [
       "Batches:   0%|          | 0/1 [00:00<?, ?it/s]"
      ]
     },
     "metadata": {},
     "output_type": "display_data"
    },
    {
     "data": {
      "application/vnd.jupyter.widget-view+json": {
       "model_id": "d21cb663bc0643d5b8b2c5144d452617",
       "version_major": 2,
       "version_minor": 0
      },
      "text/plain": [
       "Batches:   0%|          | 0/1 [00:00<?, ?it/s]"
      ]
     },
     "metadata": {},
     "output_type": "display_data"
    },
    {
     "data": {
      "application/vnd.jupyter.widget-view+json": {
       "model_id": "48b33e0b14ed462e9e68563730e218dd",
       "version_major": 2,
       "version_minor": 0
      },
      "text/plain": [
       "Batches:   0%|          | 0/1 [00:00<?, ?it/s]"
      ]
     },
     "metadata": {},
     "output_type": "display_data"
    },
    {
     "data": {
      "application/vnd.jupyter.widget-view+json": {
       "model_id": "85b4b4d2c7ce4337bcbfc7f290b6cfc6",
       "version_major": 2,
       "version_minor": 0
      },
      "text/plain": [
       "Batches:   0%|          | 0/1 [00:00<?, ?it/s]"
      ]
     },
     "metadata": {},
     "output_type": "display_data"
    },
    {
     "data": {
      "application/vnd.jupyter.widget-view+json": {
       "model_id": "1e3fc53f422e488cb7a5db96d3949afa",
       "version_major": 2,
       "version_minor": 0
      },
      "text/plain": [
       "Batches:   0%|          | 0/1 [00:00<?, ?it/s]"
      ]
     },
     "metadata": {},
     "output_type": "display_data"
    },
    {
     "data": {
      "application/vnd.jupyter.widget-view+json": {
       "model_id": "b10e02e522fa4fd5bb2dd98b3e99618f",
       "version_major": 2,
       "version_minor": 0
      },
      "text/plain": [
       "Batches:   0%|          | 0/1 [00:00<?, ?it/s]"
      ]
     },
     "metadata": {},
     "output_type": "display_data"
    },
    {
     "data": {
      "application/vnd.jupyter.widget-view+json": {
       "model_id": "2fbd00082c54415c848a7ea5d870cbe7",
       "version_major": 2,
       "version_minor": 0
      },
      "text/plain": [
       "Batches:   0%|          | 0/1 [00:00<?, ?it/s]"
      ]
     },
     "metadata": {},
     "output_type": "display_data"
    },
    {
     "data": {
      "application/vnd.jupyter.widget-view+json": {
       "model_id": "f10d7345a5f24ba89673d5ce938c6958",
       "version_major": 2,
       "version_minor": 0
      },
      "text/plain": [
       "Batches:   0%|          | 0/1 [00:00<?, ?it/s]"
      ]
     },
     "metadata": {},
     "output_type": "display_data"
    },
    {
     "data": {
      "application/vnd.jupyter.widget-view+json": {
       "model_id": "836a348e41164fc9a009064a2173359f",
       "version_major": 2,
       "version_minor": 0
      },
      "text/plain": [
       "Batches:   0%|          | 0/1 [00:00<?, ?it/s]"
      ]
     },
     "metadata": {},
     "output_type": "display_data"
    },
    {
     "data": {
      "application/vnd.jupyter.widget-view+json": {
       "model_id": "c4d2c8194c6a45319adba4148c69f2b9",
       "version_major": 2,
       "version_minor": 0
      },
      "text/plain": [
       "Batches:   0%|          | 0/1 [00:00<?, ?it/s]"
      ]
     },
     "metadata": {},
     "output_type": "display_data"
    },
    {
     "data": {
      "application/vnd.jupyter.widget-view+json": {
       "model_id": "d796a50572d94ff9b45322993a6ba166",
       "version_major": 2,
       "version_minor": 0
      },
      "text/plain": [
       "Batches:   0%|          | 0/1 [00:00<?, ?it/s]"
      ]
     },
     "metadata": {},
     "output_type": "display_data"
    },
    {
     "data": {
      "application/vnd.jupyter.widget-view+json": {
       "model_id": "a173f06b905d4a05b9abce10a53e5f77",
       "version_major": 2,
       "version_minor": 0
      },
      "text/plain": [
       "Batches:   0%|          | 0/1 [00:00<?, ?it/s]"
      ]
     },
     "metadata": {},
     "output_type": "display_data"
    },
    {
     "data": {
      "application/vnd.jupyter.widget-view+json": {
       "model_id": "e4be8a12b32849dc93bce2d2dac17312",
       "version_major": 2,
       "version_minor": 0
      },
      "text/plain": [
       "Batches:   0%|          | 0/1 [00:00<?, ?it/s]"
      ]
     },
     "metadata": {},
     "output_type": "display_data"
    },
    {
     "data": {
      "application/vnd.jupyter.widget-view+json": {
       "model_id": "35acd27ee5c94696a32d73ba00f90c19",
       "version_major": 2,
       "version_minor": 0
      },
      "text/plain": [
       "Batches:   0%|          | 0/1 [00:00<?, ?it/s]"
      ]
     },
     "metadata": {},
     "output_type": "display_data"
    },
    {
     "data": {
      "application/vnd.jupyter.widget-view+json": {
       "model_id": "962f9a996d2446d8858ea753098af4de",
       "version_major": 2,
       "version_minor": 0
      },
      "text/plain": [
       "Batches:   0%|          | 0/1 [00:00<?, ?it/s]"
      ]
     },
     "metadata": {},
     "output_type": "display_data"
    },
    {
     "data": {
      "application/vnd.jupyter.widget-view+json": {
       "model_id": "1aa3ef1e2a3442aa9a39b1b266d32cd6",
       "version_major": 2,
       "version_minor": 0
      },
      "text/plain": [
       "Batches:   0%|          | 0/1 [00:00<?, ?it/s]"
      ]
     },
     "metadata": {},
     "output_type": "display_data"
    },
    {
     "data": {
      "application/vnd.jupyter.widget-view+json": {
       "model_id": "db278755f5ad494bb01cb737440472e2",
       "version_major": 2,
       "version_minor": 0
      },
      "text/plain": [
       "Batches:   0%|          | 0/1 [00:00<?, ?it/s]"
      ]
     },
     "metadata": {},
     "output_type": "display_data"
    },
    {
     "data": {
      "application/vnd.jupyter.widget-view+json": {
       "model_id": "86bf93af93064ca4a8075d161b59a0ab",
       "version_major": 2,
       "version_minor": 0
      },
      "text/plain": [
       "Batches:   0%|          | 0/1 [00:00<?, ?it/s]"
      ]
     },
     "metadata": {},
     "output_type": "display_data"
    },
    {
     "data": {
      "application/vnd.jupyter.widget-view+json": {
       "model_id": "dd8741bbf6c1434eba9f1feb2c860397",
       "version_major": 2,
       "version_minor": 0
      },
      "text/plain": [
       "Batches:   0%|          | 0/1 [00:00<?, ?it/s]"
      ]
     },
     "metadata": {},
     "output_type": "display_data"
    },
    {
     "data": {
      "application/vnd.jupyter.widget-view+json": {
       "model_id": "9b36d2d09dcc42c7ae0d8e00995f82c9",
       "version_major": 2,
       "version_minor": 0
      },
      "text/plain": [
       "Batches:   0%|          | 0/1 [00:00<?, ?it/s]"
      ]
     },
     "metadata": {},
     "output_type": "display_data"
    },
    {
     "data": {
      "application/vnd.jupyter.widget-view+json": {
       "model_id": "7f73f269d06e49cab566ba2c432e1d02",
       "version_major": 2,
       "version_minor": 0
      },
      "text/plain": [
       "Batches:   0%|          | 0/1 [00:00<?, ?it/s]"
      ]
     },
     "metadata": {},
     "output_type": "display_data"
    },
    {
     "data": {
      "application/vnd.jupyter.widget-view+json": {
       "model_id": "170803ea9d8744d980ac3a9d1ae58624",
       "version_major": 2,
       "version_minor": 0
      },
      "text/plain": [
       "Batches:   0%|          | 0/1 [00:00<?, ?it/s]"
      ]
     },
     "metadata": {},
     "output_type": "display_data"
    },
    {
     "data": {
      "application/vnd.jupyter.widget-view+json": {
       "model_id": "f143bf087dc247a49009a0e4848be4e4",
       "version_major": 2,
       "version_minor": 0
      },
      "text/plain": [
       "Batches:   0%|          | 0/1 [00:00<?, ?it/s]"
      ]
     },
     "metadata": {},
     "output_type": "display_data"
    },
    {
     "data": {
      "application/vnd.jupyter.widget-view+json": {
       "model_id": "35434510a8664b88854dac84d6589d27",
       "version_major": 2,
       "version_minor": 0
      },
      "text/plain": [
       "Batches:   0%|          | 0/1 [00:00<?, ?it/s]"
      ]
     },
     "metadata": {},
     "output_type": "display_data"
    },
    {
     "data": {
      "application/vnd.jupyter.widget-view+json": {
       "model_id": "7231645300604044b1d51bcd5dcdc388",
       "version_major": 2,
       "version_minor": 0
      },
      "text/plain": [
       "Batches:   0%|          | 0/1 [00:00<?, ?it/s]"
      ]
     },
     "metadata": {},
     "output_type": "display_data"
    },
    {
     "data": {
      "application/vnd.jupyter.widget-view+json": {
       "model_id": "240a017eb63e48aa92a78b2828d3b164",
       "version_major": 2,
       "version_minor": 0
      },
      "text/plain": [
       "Batches:   0%|          | 0/1 [00:00<?, ?it/s]"
      ]
     },
     "metadata": {},
     "output_type": "display_data"
    },
    {
     "data": {
      "application/vnd.jupyter.widget-view+json": {
       "model_id": "ef715b5dd8574dacafd017df7a37064f",
       "version_major": 2,
       "version_minor": 0
      },
      "text/plain": [
       "Batches:   0%|          | 0/1 [00:00<?, ?it/s]"
      ]
     },
     "metadata": {},
     "output_type": "display_data"
    },
    {
     "data": {
      "application/vnd.jupyter.widget-view+json": {
       "model_id": "7b0ece69340f4c6db242c5b90696e1c5",
       "version_major": 2,
       "version_minor": 0
      },
      "text/plain": [
       "Batches:   0%|          | 0/1 [00:00<?, ?it/s]"
      ]
     },
     "metadata": {},
     "output_type": "display_data"
    },
    {
     "data": {
      "application/vnd.jupyter.widget-view+json": {
       "model_id": "e89645cf13a94c37afa6dd0e7e60188e",
       "version_major": 2,
       "version_minor": 0
      },
      "text/plain": [
       "Batches:   0%|          | 0/1 [00:00<?, ?it/s]"
      ]
     },
     "metadata": {},
     "output_type": "display_data"
    },
    {
     "data": {
      "application/vnd.jupyter.widget-view+json": {
       "model_id": "11b25c96d38f424ea3578aaa92abd0eb",
       "version_major": 2,
       "version_minor": 0
      },
      "text/plain": [
       "Batches:   0%|          | 0/1 [00:00<?, ?it/s]"
      ]
     },
     "metadata": {},
     "output_type": "display_data"
    },
    {
     "data": {
      "application/vnd.jupyter.widget-view+json": {
       "model_id": "7e9a2535c85c4b2a865ba316243f3e85",
       "version_major": 2,
       "version_minor": 0
      },
      "text/plain": [
       "Batches:   0%|          | 0/1 [00:00<?, ?it/s]"
      ]
     },
     "metadata": {},
     "output_type": "display_data"
    },
    {
     "data": {
      "application/vnd.jupyter.widget-view+json": {
       "model_id": "5013b7e2032f4be698f79c54c21ce27b",
       "version_major": 2,
       "version_minor": 0
      },
      "text/plain": [
       "Batches:   0%|          | 0/1 [00:00<?, ?it/s]"
      ]
     },
     "metadata": {},
     "output_type": "display_data"
    },
    {
     "data": {
      "application/vnd.jupyter.widget-view+json": {
       "model_id": "230b98b6b3294e63a1377a0bde2b9079",
       "version_major": 2,
       "version_minor": 0
      },
      "text/plain": [
       "Batches:   0%|          | 0/1 [00:00<?, ?it/s]"
      ]
     },
     "metadata": {},
     "output_type": "display_data"
    },
    {
     "data": {
      "application/vnd.jupyter.widget-view+json": {
       "model_id": "0a8e3ca5b4fb41ef8b7871b6e3b26cd5",
       "version_major": 2,
       "version_minor": 0
      },
      "text/plain": [
       "Batches:   0%|          | 0/1 [00:00<?, ?it/s]"
      ]
     },
     "metadata": {},
     "output_type": "display_data"
    },
    {
     "data": {
      "application/vnd.jupyter.widget-view+json": {
       "model_id": "0f07815d3c1641faa14240b92f5289f8",
       "version_major": 2,
       "version_minor": 0
      },
      "text/plain": [
       "Batches:   0%|          | 0/1 [00:00<?, ?it/s]"
      ]
     },
     "metadata": {},
     "output_type": "display_data"
    },
    {
     "data": {
      "application/vnd.jupyter.widget-view+json": {
       "model_id": "0914512cbe1149b4abdcb0fa477274dd",
       "version_major": 2,
       "version_minor": 0
      },
      "text/plain": [
       "Batches:   0%|          | 0/1 [00:00<?, ?it/s]"
      ]
     },
     "metadata": {},
     "output_type": "display_data"
    },
    {
     "data": {
      "application/vnd.jupyter.widget-view+json": {
       "model_id": "602c80ea6a6b43269d144bda090a362e",
       "version_major": 2,
       "version_minor": 0
      },
      "text/plain": [
       "Batches:   0%|          | 0/1 [00:00<?, ?it/s]"
      ]
     },
     "metadata": {},
     "output_type": "display_data"
    },
    {
     "data": {
      "application/vnd.jupyter.widget-view+json": {
       "model_id": "0f506d8ee83245d0bede75bb7f248212",
       "version_major": 2,
       "version_minor": 0
      },
      "text/plain": [
       "Batches:   0%|          | 0/1 [00:00<?, ?it/s]"
      ]
     },
     "metadata": {},
     "output_type": "display_data"
    },
    {
     "data": {
      "application/vnd.jupyter.widget-view+json": {
       "model_id": "1680bebe19e8452da360d66b815c36ea",
       "version_major": 2,
       "version_minor": 0
      },
      "text/plain": [
       "Batches:   0%|          | 0/1 [00:00<?, ?it/s]"
      ]
     },
     "metadata": {},
     "output_type": "display_data"
    },
    {
     "data": {
      "application/vnd.jupyter.widget-view+json": {
       "model_id": "f998450eee2c42cead975a76f44d7815",
       "version_major": 2,
       "version_minor": 0
      },
      "text/plain": [
       "Batches:   0%|          | 0/1 [00:00<?, ?it/s]"
      ]
     },
     "metadata": {},
     "output_type": "display_data"
    },
    {
     "data": {
      "application/vnd.jupyter.widget-view+json": {
       "model_id": "d706de2cc1044d528cdc928e4a8a198c",
       "version_major": 2,
       "version_minor": 0
      },
      "text/plain": [
       "Batches:   0%|          | 0/1 [00:00<?, ?it/s]"
      ]
     },
     "metadata": {},
     "output_type": "display_data"
    },
    {
     "data": {
      "application/vnd.jupyter.widget-view+json": {
       "model_id": "a81a7c5ff0c8481c9a597a03870fbdd1",
       "version_major": 2,
       "version_minor": 0
      },
      "text/plain": [
       "Batches:   0%|          | 0/1 [00:00<?, ?it/s]"
      ]
     },
     "metadata": {},
     "output_type": "display_data"
    },
    {
     "data": {
      "application/vnd.jupyter.widget-view+json": {
       "model_id": "5853777b75e64893a127444334c62a3e",
       "version_major": 2,
       "version_minor": 0
      },
      "text/plain": [
       "Batches:   0%|          | 0/1 [00:00<?, ?it/s]"
      ]
     },
     "metadata": {},
     "output_type": "display_data"
    },
    {
     "data": {
      "application/vnd.jupyter.widget-view+json": {
       "model_id": "b18a8117e4d74a3d96178aa468ad305e",
       "version_major": 2,
       "version_minor": 0
      },
      "text/plain": [
       "Batches:   0%|          | 0/1 [00:00<?, ?it/s]"
      ]
     },
     "metadata": {},
     "output_type": "display_data"
    },
    {
     "data": {
      "application/vnd.jupyter.widget-view+json": {
       "model_id": "edb6540488de4c028714f6fbb367f58c",
       "version_major": 2,
       "version_minor": 0
      },
      "text/plain": [
       "Batches:   0%|          | 0/1 [00:00<?, ?it/s]"
      ]
     },
     "metadata": {},
     "output_type": "display_data"
    },
    {
     "data": {
      "application/vnd.jupyter.widget-view+json": {
       "model_id": "d4041726130d487a98f70a20ca5dbfd6",
       "version_major": 2,
       "version_minor": 0
      },
      "text/plain": [
       "Batches:   0%|          | 0/1 [00:00<?, ?it/s]"
      ]
     },
     "metadata": {},
     "output_type": "display_data"
    },
    {
     "data": {
      "application/vnd.jupyter.widget-view+json": {
       "model_id": "a14825f922f34da6827a6a177a0f7202",
       "version_major": 2,
       "version_minor": 0
      },
      "text/plain": [
       "Batches:   0%|          | 0/1 [00:00<?, ?it/s]"
      ]
     },
     "metadata": {},
     "output_type": "display_data"
    },
    {
     "data": {
      "application/vnd.jupyter.widget-view+json": {
       "model_id": "07f8982d3bb24456b9c6e569d5d84f41",
       "version_major": 2,
       "version_minor": 0
      },
      "text/plain": [
       "Batches:   0%|          | 0/1 [00:00<?, ?it/s]"
      ]
     },
     "metadata": {},
     "output_type": "display_data"
    },
    {
     "data": {
      "application/vnd.jupyter.widget-view+json": {
       "model_id": "ea3053ddbbd241a5b3ead0517ded8f1f",
       "version_major": 2,
       "version_minor": 0
      },
      "text/plain": [
       "Batches:   0%|          | 0/1 [00:00<?, ?it/s]"
      ]
     },
     "metadata": {},
     "output_type": "display_data"
    },
    {
     "data": {
      "application/vnd.jupyter.widget-view+json": {
       "model_id": "c13f0cb53c2c49b69cc754d8e9859b48",
       "version_major": 2,
       "version_minor": 0
      },
      "text/plain": [
       "Batches:   0%|          | 0/1 [00:00<?, ?it/s]"
      ]
     },
     "metadata": {},
     "output_type": "display_data"
    },
    {
     "data": {
      "application/vnd.jupyter.widget-view+json": {
       "model_id": "b246fac7bc6d498aa551d96474bb7c36",
       "version_major": 2,
       "version_minor": 0
      },
      "text/plain": [
       "Batches:   0%|          | 0/1 [00:00<?, ?it/s]"
      ]
     },
     "metadata": {},
     "output_type": "display_data"
    },
    {
     "data": {
      "application/vnd.jupyter.widget-view+json": {
       "model_id": "69100230fb044fde897d5c2b2361ae01",
       "version_major": 2,
       "version_minor": 0
      },
      "text/plain": [
       "Batches:   0%|          | 0/1 [00:00<?, ?it/s]"
      ]
     },
     "metadata": {},
     "output_type": "display_data"
    },
    {
     "data": {
      "application/vnd.jupyter.widget-view+json": {
       "model_id": "018286f1679745858c29a06464f1ef80",
       "version_major": 2,
       "version_minor": 0
      },
      "text/plain": [
       "Batches:   0%|          | 0/1 [00:00<?, ?it/s]"
      ]
     },
     "metadata": {},
     "output_type": "display_data"
    },
    {
     "data": {
      "application/vnd.jupyter.widget-view+json": {
       "model_id": "2cb2c983cffd488795da7cca2a5f05a0",
       "version_major": 2,
       "version_minor": 0
      },
      "text/plain": [
       "Batches:   0%|          | 0/1 [00:00<?, ?it/s]"
      ]
     },
     "metadata": {},
     "output_type": "display_data"
    },
    {
     "data": {
      "application/vnd.jupyter.widget-view+json": {
       "model_id": "81b35358b11741ec857222af8f34a616",
       "version_major": 2,
       "version_minor": 0
      },
      "text/plain": [
       "Batches:   0%|          | 0/1 [00:00<?, ?it/s]"
      ]
     },
     "metadata": {},
     "output_type": "display_data"
    },
    {
     "data": {
      "application/vnd.jupyter.widget-view+json": {
       "model_id": "40a0244600ad4991b89008ed67cc9ec4",
       "version_major": 2,
       "version_minor": 0
      },
      "text/plain": [
       "Batches:   0%|          | 0/1 [00:00<?, ?it/s]"
      ]
     },
     "metadata": {},
     "output_type": "display_data"
    },
    {
     "data": {
      "application/vnd.jupyter.widget-view+json": {
       "model_id": "8caa23b038b14d4985ea77658a75fa76",
       "version_major": 2,
       "version_minor": 0
      },
      "text/plain": [
       "Batches:   0%|          | 0/1 [00:00<?, ?it/s]"
      ]
     },
     "metadata": {},
     "output_type": "display_data"
    },
    {
     "data": {
      "application/vnd.jupyter.widget-view+json": {
       "model_id": "509ed7fc6ec540ae96a355760232f50a",
       "version_major": 2,
       "version_minor": 0
      },
      "text/plain": [
       "Batches:   0%|          | 0/1 [00:00<?, ?it/s]"
      ]
     },
     "metadata": {},
     "output_type": "display_data"
    },
    {
     "data": {
      "application/vnd.jupyter.widget-view+json": {
       "model_id": "8cbd5ca5992b4b85894890dd2cf08c9e",
       "version_major": 2,
       "version_minor": 0
      },
      "text/plain": [
       "Batches:   0%|          | 0/1 [00:00<?, ?it/s]"
      ]
     },
     "metadata": {},
     "output_type": "display_data"
    },
    {
     "data": {
      "application/vnd.jupyter.widget-view+json": {
       "model_id": "0d3a5bedd44e49b28443f57d941946f0",
       "version_major": 2,
       "version_minor": 0
      },
      "text/plain": [
       "Batches:   0%|          | 0/1 [00:00<?, ?it/s]"
      ]
     },
     "metadata": {},
     "output_type": "display_data"
    },
    {
     "data": {
      "application/vnd.jupyter.widget-view+json": {
       "model_id": "ab5bde0258a549f79447d266eea91459",
       "version_major": 2,
       "version_minor": 0
      },
      "text/plain": [
       "Batches:   0%|          | 0/1 [00:00<?, ?it/s]"
      ]
     },
     "metadata": {},
     "output_type": "display_data"
    },
    {
     "data": {
      "application/vnd.jupyter.widget-view+json": {
       "model_id": "2fcee73762ae44a09f2106ea14cec622",
       "version_major": 2,
       "version_minor": 0
      },
      "text/plain": [
       "Batches:   0%|          | 0/1 [00:00<?, ?it/s]"
      ]
     },
     "metadata": {},
     "output_type": "display_data"
    },
    {
     "data": {
      "application/vnd.jupyter.widget-view+json": {
       "model_id": "ec3f96c4b17647aa904a25c1a30942f5",
       "version_major": 2,
       "version_minor": 0
      },
      "text/plain": [
       "Batches:   0%|          | 0/1 [00:00<?, ?it/s]"
      ]
     },
     "metadata": {},
     "output_type": "display_data"
    },
    {
     "data": {
      "application/vnd.jupyter.widget-view+json": {
       "model_id": "f76ec114b9bb4eef86df2415cfb84e9d",
       "version_major": 2,
       "version_minor": 0
      },
      "text/plain": [
       "Batches:   0%|          | 0/1 [00:00<?, ?it/s]"
      ]
     },
     "metadata": {},
     "output_type": "display_data"
    },
    {
     "data": {
      "application/vnd.jupyter.widget-view+json": {
       "model_id": "67c150e91ed849928db15149206fde23",
       "version_major": 2,
       "version_minor": 0
      },
      "text/plain": [
       "Batches:   0%|          | 0/1 [00:00<?, ?it/s]"
      ]
     },
     "metadata": {},
     "output_type": "display_data"
    },
    {
     "data": {
      "application/vnd.jupyter.widget-view+json": {
       "model_id": "0f9afc937c084e29aa7ae0c3fc1538e6",
       "version_major": 2,
       "version_minor": 0
      },
      "text/plain": [
       "Batches:   0%|          | 0/1 [00:00<?, ?it/s]"
      ]
     },
     "metadata": {},
     "output_type": "display_data"
    },
    {
     "data": {
      "application/vnd.jupyter.widget-view+json": {
       "model_id": "5b66f17541634dc18ce9b7f53f82efcf",
       "version_major": 2,
       "version_minor": 0
      },
      "text/plain": [
       "Batches:   0%|          | 0/1 [00:00<?, ?it/s]"
      ]
     },
     "metadata": {},
     "output_type": "display_data"
    },
    {
     "data": {
      "application/vnd.jupyter.widget-view+json": {
       "model_id": "5a1c0a38cecb4183b46cb475bfba454a",
       "version_major": 2,
       "version_minor": 0
      },
      "text/plain": [
       "Batches:   0%|          | 0/1 [00:00<?, ?it/s]"
      ]
     },
     "metadata": {},
     "output_type": "display_data"
    },
    {
     "data": {
      "application/vnd.jupyter.widget-view+json": {
       "model_id": "24c2e3b95c774dfc9aedccd03039ced9",
       "version_major": 2,
       "version_minor": 0
      },
      "text/plain": [
       "Batches:   0%|          | 0/1 [00:00<?, ?it/s]"
      ]
     },
     "metadata": {},
     "output_type": "display_data"
    },
    {
     "data": {
      "application/vnd.jupyter.widget-view+json": {
       "model_id": "dbc63714bad1403784cd5f618107abde",
       "version_major": 2,
       "version_minor": 0
      },
      "text/plain": [
       "Batches:   0%|          | 0/1 [00:00<?, ?it/s]"
      ]
     },
     "metadata": {},
     "output_type": "display_data"
    },
    {
     "data": {
      "application/vnd.jupyter.widget-view+json": {
       "model_id": "3faf4ef7c8ea42fcbd653ccd7e46d37c",
       "version_major": 2,
       "version_minor": 0
      },
      "text/plain": [
       "Batches:   0%|          | 0/1 [00:00<?, ?it/s]"
      ]
     },
     "metadata": {},
     "output_type": "display_data"
    },
    {
     "data": {
      "application/vnd.jupyter.widget-view+json": {
       "model_id": "a03ee9d962354ca6bb9c2eb75bfc2b9f",
       "version_major": 2,
       "version_minor": 0
      },
      "text/plain": [
       "Batches:   0%|          | 0/1 [00:00<?, ?it/s]"
      ]
     },
     "metadata": {},
     "output_type": "display_data"
    },
    {
     "data": {
      "application/vnd.jupyter.widget-view+json": {
       "model_id": "c272ef37b7ae4706803bdc5ef4ca46ac",
       "version_major": 2,
       "version_minor": 0
      },
      "text/plain": [
       "Batches:   0%|          | 0/1 [00:00<?, ?it/s]"
      ]
     },
     "metadata": {},
     "output_type": "display_data"
    },
    {
     "data": {
      "application/vnd.jupyter.widget-view+json": {
       "model_id": "7b6cc18682c942969a48efd9bf265b16",
       "version_major": 2,
       "version_minor": 0
      },
      "text/plain": [
       "Batches:   0%|          | 0/1 [00:00<?, ?it/s]"
      ]
     },
     "metadata": {},
     "output_type": "display_data"
    },
    {
     "data": {
      "application/vnd.jupyter.widget-view+json": {
       "model_id": "c44e68d50fcb4f178e5847eaa8d82d18",
       "version_major": 2,
       "version_minor": 0
      },
      "text/plain": [
       "Batches:   0%|          | 0/1 [00:00<?, ?it/s]"
      ]
     },
     "metadata": {},
     "output_type": "display_data"
    },
    {
     "data": {
      "application/vnd.jupyter.widget-view+json": {
       "model_id": "68585a699bce4df99e5252768a6f52c5",
       "version_major": 2,
       "version_minor": 0
      },
      "text/plain": [
       "Batches:   0%|          | 0/1 [00:00<?, ?it/s]"
      ]
     },
     "metadata": {},
     "output_type": "display_data"
    },
    {
     "data": {
      "application/vnd.jupyter.widget-view+json": {
       "model_id": "82782b2332934eab9efbdce65df8967c",
       "version_major": 2,
       "version_minor": 0
      },
      "text/plain": [
       "Batches:   0%|          | 0/1 [00:00<?, ?it/s]"
      ]
     },
     "metadata": {},
     "output_type": "display_data"
    },
    {
     "data": {
      "application/vnd.jupyter.widget-view+json": {
       "model_id": "691669ba0cd04c5cb268d456889fc64b",
       "version_major": 2,
       "version_minor": 0
      },
      "text/plain": [
       "Batches:   0%|          | 0/1 [00:00<?, ?it/s]"
      ]
     },
     "metadata": {},
     "output_type": "display_data"
    },
    {
     "data": {
      "application/vnd.jupyter.widget-view+json": {
       "model_id": "aa2ef5f5d16b4c40931c89e66b1a220a",
       "version_major": 2,
       "version_minor": 0
      },
      "text/plain": [
       "Batches:   0%|          | 0/1 [00:00<?, ?it/s]"
      ]
     },
     "metadata": {},
     "output_type": "display_data"
    },
    {
     "data": {
      "application/vnd.jupyter.widget-view+json": {
       "model_id": "735cc368fb934bc2be281e1e0ba8cc21",
       "version_major": 2,
       "version_minor": 0
      },
      "text/plain": [
       "Batches:   0%|          | 0/1 [00:00<?, ?it/s]"
      ]
     },
     "metadata": {},
     "output_type": "display_data"
    },
    {
     "data": {
      "application/vnd.jupyter.widget-view+json": {
       "model_id": "ae4326e8bad645b2b33d01e38036defa",
       "version_major": 2,
       "version_minor": 0
      },
      "text/plain": [
       "Batches:   0%|          | 0/1 [00:00<?, ?it/s]"
      ]
     },
     "metadata": {},
     "output_type": "display_data"
    },
    {
     "data": {
      "application/vnd.jupyter.widget-view+json": {
       "model_id": "165341d1e0ed45e9b4de011165d06f97",
       "version_major": 2,
       "version_minor": 0
      },
      "text/plain": [
       "Batches:   0%|          | 0/1 [00:00<?, ?it/s]"
      ]
     },
     "metadata": {},
     "output_type": "display_data"
    },
    {
     "data": {
      "application/vnd.jupyter.widget-view+json": {
       "model_id": "e2769b318234456fac231ad391edc87f",
       "version_major": 2,
       "version_minor": 0
      },
      "text/plain": [
       "Batches:   0%|          | 0/1 [00:00<?, ?it/s]"
      ]
     },
     "metadata": {},
     "output_type": "display_data"
    },
    {
     "data": {
      "application/vnd.jupyter.widget-view+json": {
       "model_id": "2d6299526ddb43219f91273f6631da40",
       "version_major": 2,
       "version_minor": 0
      },
      "text/plain": [
       "Batches:   0%|          | 0/1 [00:00<?, ?it/s]"
      ]
     },
     "metadata": {},
     "output_type": "display_data"
    },
    {
     "data": {
      "application/vnd.jupyter.widget-view+json": {
       "model_id": "6f8cdb206ccb48bf8954ec3785ef5766",
       "version_major": 2,
       "version_minor": 0
      },
      "text/plain": [
       "Batches:   0%|          | 0/1 [00:00<?, ?it/s]"
      ]
     },
     "metadata": {},
     "output_type": "display_data"
    },
    {
     "data": {
      "application/vnd.jupyter.widget-view+json": {
       "model_id": "060c4ff70dd74b8db4ab10c7e137321a",
       "version_major": 2,
       "version_minor": 0
      },
      "text/plain": [
       "Batches:   0%|          | 0/1 [00:00<?, ?it/s]"
      ]
     },
     "metadata": {},
     "output_type": "display_data"
    },
    {
     "data": {
      "application/vnd.jupyter.widget-view+json": {
       "model_id": "9d697a1321cb46bdb92b6252947164e6",
       "version_major": 2,
       "version_minor": 0
      },
      "text/plain": [
       "Batches:   0%|          | 0/1 [00:00<?, ?it/s]"
      ]
     },
     "metadata": {},
     "output_type": "display_data"
    },
    {
     "data": {
      "application/vnd.jupyter.widget-view+json": {
       "model_id": "525ed1f0e62142e4a456c8efae163122",
       "version_major": 2,
       "version_minor": 0
      },
      "text/plain": [
       "Batches:   0%|          | 0/1 [00:00<?, ?it/s]"
      ]
     },
     "metadata": {},
     "output_type": "display_data"
    },
    {
     "data": {
      "application/vnd.jupyter.widget-view+json": {
       "model_id": "e882fa9552cd4170b220fc7f118eabc8",
       "version_major": 2,
       "version_minor": 0
      },
      "text/plain": [
       "Batches:   0%|          | 0/1 [00:00<?, ?it/s]"
      ]
     },
     "metadata": {},
     "output_type": "display_data"
    },
    {
     "data": {
      "application/vnd.jupyter.widget-view+json": {
       "model_id": "450f19d6a2a045ce9e137d400f2e3d14",
       "version_major": 2,
       "version_minor": 0
      },
      "text/plain": [
       "Batches:   0%|          | 0/1 [00:00<?, ?it/s]"
      ]
     },
     "metadata": {},
     "output_type": "display_data"
    },
    {
     "data": {
      "application/vnd.jupyter.widget-view+json": {
       "model_id": "dae7be3c3e8d451794d082880fd5ca37",
       "version_major": 2,
       "version_minor": 0
      },
      "text/plain": [
       "Batches:   0%|          | 0/1 [00:00<?, ?it/s]"
      ]
     },
     "metadata": {},
     "output_type": "display_data"
    },
    {
     "data": {
      "application/vnd.jupyter.widget-view+json": {
       "model_id": "cd50f33d75cd406dacce96e11fab2ed8",
       "version_major": 2,
       "version_minor": 0
      },
      "text/plain": [
       "Batches:   0%|          | 0/1 [00:00<?, ?it/s]"
      ]
     },
     "metadata": {},
     "output_type": "display_data"
    },
    {
     "data": {
      "application/vnd.jupyter.widget-view+json": {
       "model_id": "f1d88b2d677b456a9c29f8b1355bb21b",
       "version_major": 2,
       "version_minor": 0
      },
      "text/plain": [
       "Batches:   0%|          | 0/1 [00:00<?, ?it/s]"
      ]
     },
     "metadata": {},
     "output_type": "display_data"
    },
    {
     "data": {
      "application/vnd.jupyter.widget-view+json": {
       "model_id": "90e8251d94104a159d073433ccda0372",
       "version_major": 2,
       "version_minor": 0
      },
      "text/plain": [
       "Batches:   0%|          | 0/1 [00:00<?, ?it/s]"
      ]
     },
     "metadata": {},
     "output_type": "display_data"
    },
    {
     "data": {
      "application/vnd.jupyter.widget-view+json": {
       "model_id": "6f24326352de467680f3931a9b60ec09",
       "version_major": 2,
       "version_minor": 0
      },
      "text/plain": [
       "Batches:   0%|          | 0/1 [00:00<?, ?it/s]"
      ]
     },
     "metadata": {},
     "output_type": "display_data"
    },
    {
     "data": {
      "application/vnd.jupyter.widget-view+json": {
       "model_id": "362a480a912b450eb853eecae2ebbdd0",
       "version_major": 2,
       "version_minor": 0
      },
      "text/plain": [
       "Batches:   0%|          | 0/1 [00:00<?, ?it/s]"
      ]
     },
     "metadata": {},
     "output_type": "display_data"
    },
    {
     "data": {
      "application/vnd.jupyter.widget-view+json": {
       "model_id": "e27c2b552c1f4aa9a2bb1affd85b3250",
       "version_major": 2,
       "version_minor": 0
      },
      "text/plain": [
       "Batches:   0%|          | 0/1 [00:00<?, ?it/s]"
      ]
     },
     "metadata": {},
     "output_type": "display_data"
    },
    {
     "data": {
      "application/vnd.jupyter.widget-view+json": {
       "model_id": "3e25ffadcd9b42b9b75c664b1c86552f",
       "version_major": 2,
       "version_minor": 0
      },
      "text/plain": [
       "Batches:   0%|          | 0/1 [00:00<?, ?it/s]"
      ]
     },
     "metadata": {},
     "output_type": "display_data"
    },
    {
     "data": {
      "application/vnd.jupyter.widget-view+json": {
       "model_id": "0439e7b283c74f839041fd669ea3ea77",
       "version_major": 2,
       "version_minor": 0
      },
      "text/plain": [
       "Batches:   0%|          | 0/1 [00:00<?, ?it/s]"
      ]
     },
     "metadata": {},
     "output_type": "display_data"
    },
    {
     "data": {
      "application/vnd.jupyter.widget-view+json": {
       "model_id": "2db1d61649c04b2eb54bd3d82774c44b",
       "version_major": 2,
       "version_minor": 0
      },
      "text/plain": [
       "Batches:   0%|          | 0/1 [00:00<?, ?it/s]"
      ]
     },
     "metadata": {},
     "output_type": "display_data"
    },
    {
     "data": {
      "application/vnd.jupyter.widget-view+json": {
       "model_id": "e8830f08ea1849dd9590a33baefdb6e3",
       "version_major": 2,
       "version_minor": 0
      },
      "text/plain": [
       "Batches:   0%|          | 0/1 [00:00<?, ?it/s]"
      ]
     },
     "metadata": {},
     "output_type": "display_data"
    },
    {
     "data": {
      "application/vnd.jupyter.widget-view+json": {
       "model_id": "b24bc8ab64d94e639d59ace57dc555ae",
       "version_major": 2,
       "version_minor": 0
      },
      "text/plain": [
       "Batches:   0%|          | 0/1 [00:00<?, ?it/s]"
      ]
     },
     "metadata": {},
     "output_type": "display_data"
    },
    {
     "data": {
      "application/vnd.jupyter.widget-view+json": {
       "model_id": "4a4be5fdd0124815971ad9745e43cb5b",
       "version_major": 2,
       "version_minor": 0
      },
      "text/plain": [
       "Batches:   0%|          | 0/1 [00:00<?, ?it/s]"
      ]
     },
     "metadata": {},
     "output_type": "display_data"
    },
    {
     "data": {
      "application/vnd.jupyter.widget-view+json": {
       "model_id": "7ab00e6a8eab445182128ac237a7aacc",
       "version_major": 2,
       "version_minor": 0
      },
      "text/plain": [
       "Batches:   0%|          | 0/1 [00:00<?, ?it/s]"
      ]
     },
     "metadata": {},
     "output_type": "display_data"
    },
    {
     "data": {
      "application/vnd.jupyter.widget-view+json": {
       "model_id": "1cf93398811d433790fe3876d0e35183",
       "version_major": 2,
       "version_minor": 0
      },
      "text/plain": [
       "Batches:   0%|          | 0/1 [00:00<?, ?it/s]"
      ]
     },
     "metadata": {},
     "output_type": "display_data"
    },
    {
     "data": {
      "application/vnd.jupyter.widget-view+json": {
       "model_id": "a6b5799f2cdc4cbeac7bddb2be493295",
       "version_major": 2,
       "version_minor": 0
      },
      "text/plain": [
       "Batches:   0%|          | 0/1 [00:00<?, ?it/s]"
      ]
     },
     "metadata": {},
     "output_type": "display_data"
    },
    {
     "data": {
      "application/vnd.jupyter.widget-view+json": {
       "model_id": "c6c2e66e0a064d1aacf62c1952b27115",
       "version_major": 2,
       "version_minor": 0
      },
      "text/plain": [
       "Batches:   0%|          | 0/1 [00:00<?, ?it/s]"
      ]
     },
     "metadata": {},
     "output_type": "display_data"
    },
    {
     "data": {
      "application/vnd.jupyter.widget-view+json": {
       "model_id": "ed3b9195308448cd8417d3fe1b438806",
       "version_major": 2,
       "version_minor": 0
      },
      "text/plain": [
       "Batches:   0%|          | 0/1 [00:00<?, ?it/s]"
      ]
     },
     "metadata": {},
     "output_type": "display_data"
    },
    {
     "data": {
      "application/vnd.jupyter.widget-view+json": {
       "model_id": "8d3d7cddc3eb4cdaab90deaf560798b7",
       "version_major": 2,
       "version_minor": 0
      },
      "text/plain": [
       "Batches:   0%|          | 0/1 [00:00<?, ?it/s]"
      ]
     },
     "metadata": {},
     "output_type": "display_data"
    },
    {
     "data": {
      "application/vnd.jupyter.widget-view+json": {
       "model_id": "aa843be26bd0455693f64f301c058afb",
       "version_major": 2,
       "version_minor": 0
      },
      "text/plain": [
       "Batches:   0%|          | 0/1 [00:00<?, ?it/s]"
      ]
     },
     "metadata": {},
     "output_type": "display_data"
    },
    {
     "data": {
      "application/vnd.jupyter.widget-view+json": {
       "model_id": "07035edaa9aa4c94af64a463085a696e",
       "version_major": 2,
       "version_minor": 0
      },
      "text/plain": [
       "Batches:   0%|          | 0/1 [00:00<?, ?it/s]"
      ]
     },
     "metadata": {},
     "output_type": "display_data"
    },
    {
     "data": {
      "application/vnd.jupyter.widget-view+json": {
       "model_id": "d24d9314333642aa823d9bd646dac4ef",
       "version_major": 2,
       "version_minor": 0
      },
      "text/plain": [
       "Batches:   0%|          | 0/1 [00:00<?, ?it/s]"
      ]
     },
     "metadata": {},
     "output_type": "display_data"
    },
    {
     "data": {
      "application/vnd.jupyter.widget-view+json": {
       "model_id": "0eb8b7d9d7264713963d49feb3ef2a12",
       "version_major": 2,
       "version_minor": 0
      },
      "text/plain": [
       "Batches:   0%|          | 0/1 [00:00<?, ?it/s]"
      ]
     },
     "metadata": {},
     "output_type": "display_data"
    },
    {
     "data": {
      "application/vnd.jupyter.widget-view+json": {
       "model_id": "d075b1db6608429397586db20585d440",
       "version_major": 2,
       "version_minor": 0
      },
      "text/plain": [
       "Batches:   0%|          | 0/1 [00:00<?, ?it/s]"
      ]
     },
     "metadata": {},
     "output_type": "display_data"
    },
    {
     "data": {
      "application/vnd.jupyter.widget-view+json": {
       "model_id": "3d12170e283345388bb237b4e01e944d",
       "version_major": 2,
       "version_minor": 0
      },
      "text/plain": [
       "Batches:   0%|          | 0/1 [00:00<?, ?it/s]"
      ]
     },
     "metadata": {},
     "output_type": "display_data"
    },
    {
     "data": {
      "application/vnd.jupyter.widget-view+json": {
       "model_id": "5330b18af824436b8a5d96952d586524",
       "version_major": 2,
       "version_minor": 0
      },
      "text/plain": [
       "Batches:   0%|          | 0/1 [00:00<?, ?it/s]"
      ]
     },
     "metadata": {},
     "output_type": "display_data"
    },
    {
     "data": {
      "application/vnd.jupyter.widget-view+json": {
       "model_id": "e0715f87362a4e29b0ab9bb74e93d253",
       "version_major": 2,
       "version_minor": 0
      },
      "text/plain": [
       "Batches:   0%|          | 0/1 [00:00<?, ?it/s]"
      ]
     },
     "metadata": {},
     "output_type": "display_data"
    },
    {
     "data": {
      "application/vnd.jupyter.widget-view+json": {
       "model_id": "62e6ea067ff245f8be5f13e4fa2ccede",
       "version_major": 2,
       "version_minor": 0
      },
      "text/plain": [
       "Batches:   0%|          | 0/1 [00:00<?, ?it/s]"
      ]
     },
     "metadata": {},
     "output_type": "display_data"
    },
    {
     "data": {
      "application/vnd.jupyter.widget-view+json": {
       "model_id": "f73a6b5bcc504ec6a5e30cd18e30e329",
       "version_major": 2,
       "version_minor": 0
      },
      "text/plain": [
       "Batches:   0%|          | 0/1 [00:00<?, ?it/s]"
      ]
     },
     "metadata": {},
     "output_type": "display_data"
    },
    {
     "data": {
      "application/vnd.jupyter.widget-view+json": {
       "model_id": "3a61c6e45b444311a8af571012019c8f",
       "version_major": 2,
       "version_minor": 0
      },
      "text/plain": [
       "Batches:   0%|          | 0/1 [00:00<?, ?it/s]"
      ]
     },
     "metadata": {},
     "output_type": "display_data"
    },
    {
     "data": {
      "application/vnd.jupyter.widget-view+json": {
       "model_id": "74b81f851f1b4c13ae993b3d89877d33",
       "version_major": 2,
       "version_minor": 0
      },
      "text/plain": [
       "Batches:   0%|          | 0/1 [00:00<?, ?it/s]"
      ]
     },
     "metadata": {},
     "output_type": "display_data"
    },
    {
     "data": {
      "application/vnd.jupyter.widget-view+json": {
       "model_id": "894dcff399f342ad9381f2242066c5d3",
       "version_major": 2,
       "version_minor": 0
      },
      "text/plain": [
       "Batches:   0%|          | 0/1 [00:00<?, ?it/s]"
      ]
     },
     "metadata": {},
     "output_type": "display_data"
    },
    {
     "data": {
      "application/vnd.jupyter.widget-view+json": {
       "model_id": "7c031c8963f347168978f9bcc34c5af4",
       "version_major": 2,
       "version_minor": 0
      },
      "text/plain": [
       "Batches:   0%|          | 0/1 [00:00<?, ?it/s]"
      ]
     },
     "metadata": {},
     "output_type": "display_data"
    },
    {
     "data": {
      "application/vnd.jupyter.widget-view+json": {
       "model_id": "7bf8371fd9bf4a718b1b3eed50bc17b0",
       "version_major": 2,
       "version_minor": 0
      },
      "text/plain": [
       "Batches:   0%|          | 0/1 [00:00<?, ?it/s]"
      ]
     },
     "metadata": {},
     "output_type": "display_data"
    },
    {
     "data": {
      "application/vnd.jupyter.widget-view+json": {
       "model_id": "fd23549fe72d4a6ba0a9a4885459bf79",
       "version_major": 2,
       "version_minor": 0
      },
      "text/plain": [
       "Batches:   0%|          | 0/1 [00:00<?, ?it/s]"
      ]
     },
     "metadata": {},
     "output_type": "display_data"
    },
    {
     "data": {
      "application/vnd.jupyter.widget-view+json": {
       "model_id": "b41a460e6b5945e5bc5e431bb8b78d53",
       "version_major": 2,
       "version_minor": 0
      },
      "text/plain": [
       "Batches:   0%|          | 0/1 [00:00<?, ?it/s]"
      ]
     },
     "metadata": {},
     "output_type": "display_data"
    },
    {
     "data": {
      "application/vnd.jupyter.widget-view+json": {
       "model_id": "42a93822806e4766af21cc1d7f591521",
       "version_major": 2,
       "version_minor": 0
      },
      "text/plain": [
       "Batches:   0%|          | 0/1 [00:00<?, ?it/s]"
      ]
     },
     "metadata": {},
     "output_type": "display_data"
    },
    {
     "data": {
      "application/vnd.jupyter.widget-view+json": {
       "model_id": "78444319f18848bab8bd5d5cda0a7ed4",
       "version_major": 2,
       "version_minor": 0
      },
      "text/plain": [
       "Batches:   0%|          | 0/1 [00:00<?, ?it/s]"
      ]
     },
     "metadata": {},
     "output_type": "display_data"
    },
    {
     "data": {
      "application/vnd.jupyter.widget-view+json": {
       "model_id": "b9d5cce96d2843c0a15b1d3bcd4eac33",
       "version_major": 2,
       "version_minor": 0
      },
      "text/plain": [
       "Batches:   0%|          | 0/1 [00:00<?, ?it/s]"
      ]
     },
     "metadata": {},
     "output_type": "display_data"
    },
    {
     "data": {
      "application/vnd.jupyter.widget-view+json": {
       "model_id": "acd487da4bcc4020b6f460979c135fb4",
       "version_major": 2,
       "version_minor": 0
      },
      "text/plain": [
       "Batches:   0%|          | 0/1 [00:00<?, ?it/s]"
      ]
     },
     "metadata": {},
     "output_type": "display_data"
    },
    {
     "data": {
      "application/vnd.jupyter.widget-view+json": {
       "model_id": "994ea6d8f3f743609819e4c9a64a239b",
       "version_major": 2,
       "version_minor": 0
      },
      "text/plain": [
       "Batches:   0%|          | 0/1 [00:00<?, ?it/s]"
      ]
     },
     "metadata": {},
     "output_type": "display_data"
    },
    {
     "data": {
      "application/vnd.jupyter.widget-view+json": {
       "model_id": "389436ffd8bc49daa4b0fd2737357889",
       "version_major": 2,
       "version_minor": 0
      },
      "text/plain": [
       "Batches:   0%|          | 0/1 [00:00<?, ?it/s]"
      ]
     },
     "metadata": {},
     "output_type": "display_data"
    },
    {
     "data": {
      "application/vnd.jupyter.widget-view+json": {
       "model_id": "685671f4820444238b5639d3cffcdd32",
       "version_major": 2,
       "version_minor": 0
      },
      "text/plain": [
       "Batches:   0%|          | 0/1 [00:00<?, ?it/s]"
      ]
     },
     "metadata": {},
     "output_type": "display_data"
    },
    {
     "data": {
      "application/vnd.jupyter.widget-view+json": {
       "model_id": "9c432b0e81e44c8d8d3866d72625a889",
       "version_major": 2,
       "version_minor": 0
      },
      "text/plain": [
       "Batches:   0%|          | 0/1 [00:00<?, ?it/s]"
      ]
     },
     "metadata": {},
     "output_type": "display_data"
    },
    {
     "data": {
      "application/vnd.jupyter.widget-view+json": {
       "model_id": "109b4e9a6a8b4b44b90ccb0119fd4bd2",
       "version_major": 2,
       "version_minor": 0
      },
      "text/plain": [
       "Batches:   0%|          | 0/1 [00:00<?, ?it/s]"
      ]
     },
     "metadata": {},
     "output_type": "display_data"
    },
    {
     "data": {
      "application/vnd.jupyter.widget-view+json": {
       "model_id": "165d4959b1134fac86ba434a9314e939",
       "version_major": 2,
       "version_minor": 0
      },
      "text/plain": [
       "Batches:   0%|          | 0/1 [00:00<?, ?it/s]"
      ]
     },
     "metadata": {},
     "output_type": "display_data"
    },
    {
     "data": {
      "application/vnd.jupyter.widget-view+json": {
       "model_id": "4d90fa56d57c4d27b8eba0558772f672",
       "version_major": 2,
       "version_minor": 0
      },
      "text/plain": [
       "Batches:   0%|          | 0/1 [00:00<?, ?it/s]"
      ]
     },
     "metadata": {},
     "output_type": "display_data"
    },
    {
     "data": {
      "application/vnd.jupyter.widget-view+json": {
       "model_id": "884e079ca1264098a4d1f7e1047594a4",
       "version_major": 2,
       "version_minor": 0
      },
      "text/plain": [
       "Batches:   0%|          | 0/1 [00:00<?, ?it/s]"
      ]
     },
     "metadata": {},
     "output_type": "display_data"
    },
    {
     "data": {
      "application/vnd.jupyter.widget-view+json": {
       "model_id": "bc4fd4a6391441fbae1c82040140a209",
       "version_major": 2,
       "version_minor": 0
      },
      "text/plain": [
       "Batches:   0%|          | 0/1 [00:00<?, ?it/s]"
      ]
     },
     "metadata": {},
     "output_type": "display_data"
    },
    {
     "data": {
      "application/vnd.jupyter.widget-view+json": {
       "model_id": "28c822154bc74ea4af3332714e73842c",
       "version_major": 2,
       "version_minor": 0
      },
      "text/plain": [
       "Batches:   0%|          | 0/1 [00:00<?, ?it/s]"
      ]
     },
     "metadata": {},
     "output_type": "display_data"
    },
    {
     "data": {
      "application/vnd.jupyter.widget-view+json": {
       "model_id": "abdb46b7c453468aa62e8234959f52ae",
       "version_major": 2,
       "version_minor": 0
      },
      "text/plain": [
       "Batches:   0%|          | 0/1 [00:00<?, ?it/s]"
      ]
     },
     "metadata": {},
     "output_type": "display_data"
    },
    {
     "data": {
      "application/vnd.jupyter.widget-view+json": {
       "model_id": "5b6e1718260242b78b5b052d76441458",
       "version_major": 2,
       "version_minor": 0
      },
      "text/plain": [
       "Batches:   0%|          | 0/1 [00:00<?, ?it/s]"
      ]
     },
     "metadata": {},
     "output_type": "display_data"
    },
    {
     "data": {
      "application/vnd.jupyter.widget-view+json": {
       "model_id": "6414ac989c1745c384e444afef50adb1",
       "version_major": 2,
       "version_minor": 0
      },
      "text/plain": [
       "Batches:   0%|          | 0/1 [00:00<?, ?it/s]"
      ]
     },
     "metadata": {},
     "output_type": "display_data"
    },
    {
     "data": {
      "application/vnd.jupyter.widget-view+json": {
       "model_id": "d7fcd92720304445b261834fcedded07",
       "version_major": 2,
       "version_minor": 0
      },
      "text/plain": [
       "Batches:   0%|          | 0/1 [00:00<?, ?it/s]"
      ]
     },
     "metadata": {},
     "output_type": "display_data"
    },
    {
     "data": {
      "application/vnd.jupyter.widget-view+json": {
       "model_id": "2ac5e1c304794ef396290042d65ffcec",
       "version_major": 2,
       "version_minor": 0
      },
      "text/plain": [
       "Batches:   0%|          | 0/1 [00:00<?, ?it/s]"
      ]
     },
     "metadata": {},
     "output_type": "display_data"
    },
    {
     "data": {
      "application/vnd.jupyter.widget-view+json": {
       "model_id": "2053ce9dde9e452f959388231bf23594",
       "version_major": 2,
       "version_minor": 0
      },
      "text/plain": [
       "Batches:   0%|          | 0/1 [00:00<?, ?it/s]"
      ]
     },
     "metadata": {},
     "output_type": "display_data"
    },
    {
     "data": {
      "application/vnd.jupyter.widget-view+json": {
       "model_id": "26ac812b99e54b4e9fe5b00e9c1955c7",
       "version_major": 2,
       "version_minor": 0
      },
      "text/plain": [
       "Batches:   0%|          | 0/1 [00:00<?, ?it/s]"
      ]
     },
     "metadata": {},
     "output_type": "display_data"
    },
    {
     "data": {
      "application/vnd.jupyter.widget-view+json": {
       "model_id": "22d096437be445afa51407d86ddf0619",
       "version_major": 2,
       "version_minor": 0
      },
      "text/plain": [
       "Batches:   0%|          | 0/1 [00:00<?, ?it/s]"
      ]
     },
     "metadata": {},
     "output_type": "display_data"
    },
    {
     "data": {
      "application/vnd.jupyter.widget-view+json": {
       "model_id": "f7259e9055404a39b984e11b0c3a657e",
       "version_major": 2,
       "version_minor": 0
      },
      "text/plain": [
       "Batches:   0%|          | 0/1 [00:00<?, ?it/s]"
      ]
     },
     "metadata": {},
     "output_type": "display_data"
    },
    {
     "data": {
      "application/vnd.jupyter.widget-view+json": {
       "model_id": "cb1e22436c0c417da0837c9d90dfdd0d",
       "version_major": 2,
       "version_minor": 0
      },
      "text/plain": [
       "Batches:   0%|          | 0/1 [00:00<?, ?it/s]"
      ]
     },
     "metadata": {},
     "output_type": "display_data"
    },
    {
     "data": {
      "application/vnd.jupyter.widget-view+json": {
       "model_id": "d901768ddd9a4412b3b0f52b4ca177a9",
       "version_major": 2,
       "version_minor": 0
      },
      "text/plain": [
       "Batches:   0%|          | 0/1 [00:00<?, ?it/s]"
      ]
     },
     "metadata": {},
     "output_type": "display_data"
    },
    {
     "data": {
      "application/vnd.jupyter.widget-view+json": {
       "model_id": "975d5b0a319740e7a54fca0668c50ff7",
       "version_major": 2,
       "version_minor": 0
      },
      "text/plain": [
       "Batches:   0%|          | 0/1 [00:00<?, ?it/s]"
      ]
     },
     "metadata": {},
     "output_type": "display_data"
    },
    {
     "data": {
      "application/vnd.jupyter.widget-view+json": {
       "model_id": "9b92b920424344d8a57710e0cd5973ff",
       "version_major": 2,
       "version_minor": 0
      },
      "text/plain": [
       "Batches:   0%|          | 0/1 [00:00<?, ?it/s]"
      ]
     },
     "metadata": {},
     "output_type": "display_data"
    },
    {
     "data": {
      "application/vnd.jupyter.widget-view+json": {
       "model_id": "de3643abd81b4cf2bc72a07d705bbbca",
       "version_major": 2,
       "version_minor": 0
      },
      "text/plain": [
       "Batches:   0%|          | 0/1 [00:00<?, ?it/s]"
      ]
     },
     "metadata": {},
     "output_type": "display_data"
    },
    {
     "data": {
      "application/vnd.jupyter.widget-view+json": {
       "model_id": "472841c631d3441ca504129817694967",
       "version_major": 2,
       "version_minor": 0
      },
      "text/plain": [
       "Batches:   0%|          | 0/1 [00:00<?, ?it/s]"
      ]
     },
     "metadata": {},
     "output_type": "display_data"
    },
    {
     "data": {
      "application/vnd.jupyter.widget-view+json": {
       "model_id": "f740081c9cb44b61b7377a348fb60575",
       "version_major": 2,
       "version_minor": 0
      },
      "text/plain": [
       "Batches:   0%|          | 0/1 [00:00<?, ?it/s]"
      ]
     },
     "metadata": {},
     "output_type": "display_data"
    },
    {
     "data": {
      "application/vnd.jupyter.widget-view+json": {
       "model_id": "3eb194a913a9469b9cc94982f7bcbf1d",
       "version_major": 2,
       "version_minor": 0
      },
      "text/plain": [
       "Batches:   0%|          | 0/1 [00:00<?, ?it/s]"
      ]
     },
     "metadata": {},
     "output_type": "display_data"
    },
    {
     "data": {
      "application/vnd.jupyter.widget-view+json": {
       "model_id": "9da0df18ff3549ca989b54e0937885fd",
       "version_major": 2,
       "version_minor": 0
      },
      "text/plain": [
       "Batches:   0%|          | 0/1 [00:00<?, ?it/s]"
      ]
     },
     "metadata": {},
     "output_type": "display_data"
    },
    {
     "data": {
      "application/vnd.jupyter.widget-view+json": {
       "model_id": "3b2c382b4d714f8c823869f73f6f1dc1",
       "version_major": 2,
       "version_minor": 0
      },
      "text/plain": [
       "Batches:   0%|          | 0/1 [00:00<?, ?it/s]"
      ]
     },
     "metadata": {},
     "output_type": "display_data"
    },
    {
     "data": {
      "application/vnd.jupyter.widget-view+json": {
       "model_id": "6d54ab1605fa44bbb783700a7197f24c",
       "version_major": 2,
       "version_minor": 0
      },
      "text/plain": [
       "Batches:   0%|          | 0/1 [00:00<?, ?it/s]"
      ]
     },
     "metadata": {},
     "output_type": "display_data"
    },
    {
     "data": {
      "application/vnd.jupyter.widget-view+json": {
       "model_id": "5bbda598591b4a14bb290b9ce1753f66",
       "version_major": 2,
       "version_minor": 0
      },
      "text/plain": [
       "Batches:   0%|          | 0/1 [00:00<?, ?it/s]"
      ]
     },
     "metadata": {},
     "output_type": "display_data"
    },
    {
     "data": {
      "application/vnd.jupyter.widget-view+json": {
       "model_id": "f8a93050e5914b7cbf50ed42d67560da",
       "version_major": 2,
       "version_minor": 0
      },
      "text/plain": [
       "Batches:   0%|          | 0/1 [00:00<?, ?it/s]"
      ]
     },
     "metadata": {},
     "output_type": "display_data"
    },
    {
     "data": {
      "application/vnd.jupyter.widget-view+json": {
       "model_id": "71c6dcd242ad44889b986da3eb282376",
       "version_major": 2,
       "version_minor": 0
      },
      "text/plain": [
       "Batches:   0%|          | 0/1 [00:00<?, ?it/s]"
      ]
     },
     "metadata": {},
     "output_type": "display_data"
    },
    {
     "data": {
      "application/vnd.jupyter.widget-view+json": {
       "model_id": "c332a4addec74c2ea138cc170c7e345d",
       "version_major": 2,
       "version_minor": 0
      },
      "text/plain": [
       "Batches:   0%|          | 0/1 [00:00<?, ?it/s]"
      ]
     },
     "metadata": {},
     "output_type": "display_data"
    },
    {
     "data": {
      "application/vnd.jupyter.widget-view+json": {
       "model_id": "3c8d48401693418aabcd640cbf63b5e5",
       "version_major": 2,
       "version_minor": 0
      },
      "text/plain": [
       "Batches:   0%|          | 0/1 [00:00<?, ?it/s]"
      ]
     },
     "metadata": {},
     "output_type": "display_data"
    },
    {
     "data": {
      "application/vnd.jupyter.widget-view+json": {
       "model_id": "b564a08ecc88477a85349815b90b781a",
       "version_major": 2,
       "version_minor": 0
      },
      "text/plain": [
       "Batches:   0%|          | 0/1 [00:00<?, ?it/s]"
      ]
     },
     "metadata": {},
     "output_type": "display_data"
    },
    {
     "data": {
      "application/vnd.jupyter.widget-view+json": {
       "model_id": "dbb6fcb34b5b49fc9b833969df4af29d",
       "version_major": 2,
       "version_minor": 0
      },
      "text/plain": [
       "Batches:   0%|          | 0/1 [00:00<?, ?it/s]"
      ]
     },
     "metadata": {},
     "output_type": "display_data"
    },
    {
     "data": {
      "application/vnd.jupyter.widget-view+json": {
       "model_id": "1073346d2ed946549a6266a148003d87",
       "version_major": 2,
       "version_minor": 0
      },
      "text/plain": [
       "Batches:   0%|          | 0/1 [00:00<?, ?it/s]"
      ]
     },
     "metadata": {},
     "output_type": "display_data"
    },
    {
     "data": {
      "application/vnd.jupyter.widget-view+json": {
       "model_id": "b54b5959e0f8423ab9f9a9e83148405f",
       "version_major": 2,
       "version_minor": 0
      },
      "text/plain": [
       "Batches:   0%|          | 0/1 [00:00<?, ?it/s]"
      ]
     },
     "metadata": {},
     "output_type": "display_data"
    },
    {
     "data": {
      "application/vnd.jupyter.widget-view+json": {
       "model_id": "5c540431a1c549019f0560294bed292e",
       "version_major": 2,
       "version_minor": 0
      },
      "text/plain": [
       "Batches:   0%|          | 0/1 [00:00<?, ?it/s]"
      ]
     },
     "metadata": {},
     "output_type": "display_data"
    },
    {
     "data": {
      "application/vnd.jupyter.widget-view+json": {
       "model_id": "a587121d79b44e2e9b739335704b1d42",
       "version_major": 2,
       "version_minor": 0
      },
      "text/plain": [
       "Batches:   0%|          | 0/1 [00:00<?, ?it/s]"
      ]
     },
     "metadata": {},
     "output_type": "display_data"
    },
    {
     "data": {
      "application/vnd.jupyter.widget-view+json": {
       "model_id": "283dcc4de4a04eb4ad683479cef04105",
       "version_major": 2,
       "version_minor": 0
      },
      "text/plain": [
       "Batches:   0%|          | 0/1 [00:00<?, ?it/s]"
      ]
     },
     "metadata": {},
     "output_type": "display_data"
    },
    {
     "data": {
      "application/vnd.jupyter.widget-view+json": {
       "model_id": "79b9b7e3b43c45b1b8f4f587ee45eb0f",
       "version_major": 2,
       "version_minor": 0
      },
      "text/plain": [
       "Batches:   0%|          | 0/1 [00:00<?, ?it/s]"
      ]
     },
     "metadata": {},
     "output_type": "display_data"
    },
    {
     "data": {
      "application/vnd.jupyter.widget-view+json": {
       "model_id": "1228a07e0bec4c2d8ba98a388801b816",
       "version_major": 2,
       "version_minor": 0
      },
      "text/plain": [
       "Batches:   0%|          | 0/1 [00:00<?, ?it/s]"
      ]
     },
     "metadata": {},
     "output_type": "display_data"
    },
    {
     "data": {
      "application/vnd.jupyter.widget-view+json": {
       "model_id": "851ac7f2864841219a40e66a824fde99",
       "version_major": 2,
       "version_minor": 0
      },
      "text/plain": [
       "Batches:   0%|          | 0/1 [00:00<?, ?it/s]"
      ]
     },
     "metadata": {},
     "output_type": "display_data"
    },
    {
     "data": {
      "application/vnd.jupyter.widget-view+json": {
       "model_id": "b84999a818c3472dbb81c3fc0ab9a0d7",
       "version_major": 2,
       "version_minor": 0
      },
      "text/plain": [
       "Batches:   0%|          | 0/1 [00:00<?, ?it/s]"
      ]
     },
     "metadata": {},
     "output_type": "display_data"
    },
    {
     "data": {
      "application/vnd.jupyter.widget-view+json": {
       "model_id": "ab94caa897af45adb301b0fa8e64e6af",
       "version_major": 2,
       "version_minor": 0
      },
      "text/plain": [
       "Batches:   0%|          | 0/1 [00:00<?, ?it/s]"
      ]
     },
     "metadata": {},
     "output_type": "display_data"
    },
    {
     "data": {
      "application/vnd.jupyter.widget-view+json": {
       "model_id": "b067210e294849a1b75a02816d718d8e",
       "version_major": 2,
       "version_minor": 0
      },
      "text/plain": [
       "Batches:   0%|          | 0/1 [00:00<?, ?it/s]"
      ]
     },
     "metadata": {},
     "output_type": "display_data"
    },
    {
     "data": {
      "application/vnd.jupyter.widget-view+json": {
       "model_id": "359025ac65524bae893f65fe81925536",
       "version_major": 2,
       "version_minor": 0
      },
      "text/plain": [
       "Batches:   0%|          | 0/1 [00:00<?, ?it/s]"
      ]
     },
     "metadata": {},
     "output_type": "display_data"
    },
    {
     "data": {
      "application/vnd.jupyter.widget-view+json": {
       "model_id": "518a004c596c417e9dc05df7c2ecda0d",
       "version_major": 2,
       "version_minor": 0
      },
      "text/plain": [
       "Batches:   0%|          | 0/1 [00:00<?, ?it/s]"
      ]
     },
     "metadata": {},
     "output_type": "display_data"
    },
    {
     "data": {
      "application/vnd.jupyter.widget-view+json": {
       "model_id": "b97b76b9046b4586a424bc7c88fe893c",
       "version_major": 2,
       "version_minor": 0
      },
      "text/plain": [
       "Batches:   0%|          | 0/1 [00:00<?, ?it/s]"
      ]
     },
     "metadata": {},
     "output_type": "display_data"
    },
    {
     "data": {
      "application/vnd.jupyter.widget-view+json": {
       "model_id": "24183643519c401eb2bedc8a87999a8c",
       "version_major": 2,
       "version_minor": 0
      },
      "text/plain": [
       "Batches:   0%|          | 0/1 [00:00<?, ?it/s]"
      ]
     },
     "metadata": {},
     "output_type": "display_data"
    },
    {
     "data": {
      "application/vnd.jupyter.widget-view+json": {
       "model_id": "00c9ca5deaad46f59d46a9a4a540f997",
       "version_major": 2,
       "version_minor": 0
      },
      "text/plain": [
       "Batches:   0%|          | 0/1 [00:00<?, ?it/s]"
      ]
     },
     "metadata": {},
     "output_type": "display_data"
    },
    {
     "data": {
      "application/vnd.jupyter.widget-view+json": {
       "model_id": "01859139c8964553bba77928eba5f7ee",
       "version_major": 2,
       "version_minor": 0
      },
      "text/plain": [
       "Batches:   0%|          | 0/1 [00:00<?, ?it/s]"
      ]
     },
     "metadata": {},
     "output_type": "display_data"
    },
    {
     "data": {
      "application/vnd.jupyter.widget-view+json": {
       "model_id": "f4bf2b21bfd24994b09e161b6be828b2",
       "version_major": 2,
       "version_minor": 0
      },
      "text/plain": [
       "Batches:   0%|          | 0/1 [00:00<?, ?it/s]"
      ]
     },
     "metadata": {},
     "output_type": "display_data"
    },
    {
     "data": {
      "application/vnd.jupyter.widget-view+json": {
       "model_id": "897a7dc3c3884a06aa9c1df3314f0d6a",
       "version_major": 2,
       "version_minor": 0
      },
      "text/plain": [
       "Batches:   0%|          | 0/1 [00:00<?, ?it/s]"
      ]
     },
     "metadata": {},
     "output_type": "display_data"
    },
    {
     "data": {
      "application/vnd.jupyter.widget-view+json": {
       "model_id": "dd31c9ffe3af47498846286a8fc0b197",
       "version_major": 2,
       "version_minor": 0
      },
      "text/plain": [
       "Batches:   0%|          | 0/1 [00:00<?, ?it/s]"
      ]
     },
     "metadata": {},
     "output_type": "display_data"
    },
    {
     "data": {
      "application/vnd.jupyter.widget-view+json": {
       "model_id": "ef4cb0303aeb468eb41cbd507fa783e7",
       "version_major": 2,
       "version_minor": 0
      },
      "text/plain": [
       "Batches:   0%|          | 0/1 [00:00<?, ?it/s]"
      ]
     },
     "metadata": {},
     "output_type": "display_data"
    },
    {
     "data": {
      "application/vnd.jupyter.widget-view+json": {
       "model_id": "007469c077e747eb88c81a0aea28578b",
       "version_major": 2,
       "version_minor": 0
      },
      "text/plain": [
       "Batches:   0%|          | 0/1 [00:00<?, ?it/s]"
      ]
     },
     "metadata": {},
     "output_type": "display_data"
    },
    {
     "data": {
      "application/vnd.jupyter.widget-view+json": {
       "model_id": "b63ee8dd1eb04b92b428025673d75261",
       "version_major": 2,
       "version_minor": 0
      },
      "text/plain": [
       "Batches:   0%|          | 0/1 [00:00<?, ?it/s]"
      ]
     },
     "metadata": {},
     "output_type": "display_data"
    },
    {
     "data": {
      "application/vnd.jupyter.widget-view+json": {
       "model_id": "20498b58a34b411b8c974ce2bd86d62e",
       "version_major": 2,
       "version_minor": 0
      },
      "text/plain": [
       "Batches:   0%|          | 0/1 [00:00<?, ?it/s]"
      ]
     },
     "metadata": {},
     "output_type": "display_data"
    },
    {
     "data": {
      "application/vnd.jupyter.widget-view+json": {
       "model_id": "eb11efb071444efdb63f2012c2539801",
       "version_major": 2,
       "version_minor": 0
      },
      "text/plain": [
       "Batches:   0%|          | 0/1 [00:00<?, ?it/s]"
      ]
     },
     "metadata": {},
     "output_type": "display_data"
    },
    {
     "data": {
      "application/vnd.jupyter.widget-view+json": {
       "model_id": "240d27c9e35f4b6f88bb939037817968",
       "version_major": 2,
       "version_minor": 0
      },
      "text/plain": [
       "Batches:   0%|          | 0/1 [00:00<?, ?it/s]"
      ]
     },
     "metadata": {},
     "output_type": "display_data"
    },
    {
     "data": {
      "application/vnd.jupyter.widget-view+json": {
       "model_id": "d4f993af1f2240c4bbcc5bd62d4806c0",
       "version_major": 2,
       "version_minor": 0
      },
      "text/plain": [
       "Batches:   0%|          | 0/1 [00:00<?, ?it/s]"
      ]
     },
     "metadata": {},
     "output_type": "display_data"
    },
    {
     "data": {
      "application/vnd.jupyter.widget-view+json": {
       "model_id": "b3fe83dfe7964eeeb55468e64b390d04",
       "version_major": 2,
       "version_minor": 0
      },
      "text/plain": [
       "Batches:   0%|          | 0/1 [00:00<?, ?it/s]"
      ]
     },
     "metadata": {},
     "output_type": "display_data"
    },
    {
     "data": {
      "application/vnd.jupyter.widget-view+json": {
       "model_id": "9ebb04e9116848658b6320d0fb3a0f42",
       "version_major": 2,
       "version_minor": 0
      },
      "text/plain": [
       "Batches:   0%|          | 0/1 [00:00<?, ?it/s]"
      ]
     },
     "metadata": {},
     "output_type": "display_data"
    },
    {
     "data": {
      "application/vnd.jupyter.widget-view+json": {
       "model_id": "956364233ad04bc382fd08cb43e111c9",
       "version_major": 2,
       "version_minor": 0
      },
      "text/plain": [
       "Batches:   0%|          | 0/1 [00:00<?, ?it/s]"
      ]
     },
     "metadata": {},
     "output_type": "display_data"
    },
    {
     "data": {
      "application/vnd.jupyter.widget-view+json": {
       "model_id": "1327dd43f6ae4f13abab00d2bff9fe94",
       "version_major": 2,
       "version_minor": 0
      },
      "text/plain": [
       "Batches:   0%|          | 0/1 [00:00<?, ?it/s]"
      ]
     },
     "metadata": {},
     "output_type": "display_data"
    },
    {
     "data": {
      "application/vnd.jupyter.widget-view+json": {
       "model_id": "e2648afd1dd647f0ad0bc14639fcb8eb",
       "version_major": 2,
       "version_minor": 0
      },
      "text/plain": [
       "Batches:   0%|          | 0/1 [00:00<?, ?it/s]"
      ]
     },
     "metadata": {},
     "output_type": "display_data"
    },
    {
     "data": {
      "application/vnd.jupyter.widget-view+json": {
       "model_id": "77d5e5ed54e54922a355def41391fcbb",
       "version_major": 2,
       "version_minor": 0
      },
      "text/plain": [
       "Batches:   0%|          | 0/1 [00:00<?, ?it/s]"
      ]
     },
     "metadata": {},
     "output_type": "display_data"
    },
    {
     "data": {
      "application/vnd.jupyter.widget-view+json": {
       "model_id": "f36579c81bd244aba1c6a579d9796b30",
       "version_major": 2,
       "version_minor": 0
      },
      "text/plain": [
       "Batches:   0%|          | 0/1 [00:00<?, ?it/s]"
      ]
     },
     "metadata": {},
     "output_type": "display_data"
    },
    {
     "data": {
      "application/vnd.jupyter.widget-view+json": {
       "model_id": "4e888946b4a0412498486d9836b52e9d",
       "version_major": 2,
       "version_minor": 0
      },
      "text/plain": [
       "Batches:   0%|          | 0/1 [00:00<?, ?it/s]"
      ]
     },
     "metadata": {},
     "output_type": "display_data"
    },
    {
     "data": {
      "application/vnd.jupyter.widget-view+json": {
       "model_id": "96d7a469cdaf4d8a9b873e6283180d74",
       "version_major": 2,
       "version_minor": 0
      },
      "text/plain": [
       "Batches:   0%|          | 0/1 [00:00<?, ?it/s]"
      ]
     },
     "metadata": {},
     "output_type": "display_data"
    },
    {
     "data": {
      "application/vnd.jupyter.widget-view+json": {
       "model_id": "9afcacf1306e421db4198a373534b90c",
       "version_major": 2,
       "version_minor": 0
      },
      "text/plain": [
       "Batches:   0%|          | 0/1 [00:00<?, ?it/s]"
      ]
     },
     "metadata": {},
     "output_type": "display_data"
    },
    {
     "data": {
      "application/vnd.jupyter.widget-view+json": {
       "model_id": "16a25c73cf4042d9b95f4c5d6a631c32",
       "version_major": 2,
       "version_minor": 0
      },
      "text/plain": [
       "Batches:   0%|          | 0/1 [00:00<?, ?it/s]"
      ]
     },
     "metadata": {},
     "output_type": "display_data"
    },
    {
     "data": {
      "application/vnd.jupyter.widget-view+json": {
       "model_id": "afdf4231c53743b4aace6c535f40f32d",
       "version_major": 2,
       "version_minor": 0
      },
      "text/plain": [
       "Batches:   0%|          | 0/1 [00:00<?, ?it/s]"
      ]
     },
     "metadata": {},
     "output_type": "display_data"
    },
    {
     "data": {
      "application/vnd.jupyter.widget-view+json": {
       "model_id": "73799ddb36464e3aab2763b038fce36b",
       "version_major": 2,
       "version_minor": 0
      },
      "text/plain": [
       "Batches:   0%|          | 0/1 [00:00<?, ?it/s]"
      ]
     },
     "metadata": {},
     "output_type": "display_data"
    },
    {
     "data": {
      "application/vnd.jupyter.widget-view+json": {
       "model_id": "f83ab694176a4d0aa6e0234428b761e4",
       "version_major": 2,
       "version_minor": 0
      },
      "text/plain": [
       "Batches:   0%|          | 0/1 [00:00<?, ?it/s]"
      ]
     },
     "metadata": {},
     "output_type": "display_data"
    },
    {
     "data": {
      "application/vnd.jupyter.widget-view+json": {
       "model_id": "c23d472cb18b4834a1e9e7460eef0f7e",
       "version_major": 2,
       "version_minor": 0
      },
      "text/plain": [
       "Batches:   0%|          | 0/1 [00:00<?, ?it/s]"
      ]
     },
     "metadata": {},
     "output_type": "display_data"
    },
    {
     "data": {
      "application/vnd.jupyter.widget-view+json": {
       "model_id": "f13e8a481c3c4118b48162ea9bf16023",
       "version_major": 2,
       "version_minor": 0
      },
      "text/plain": [
       "Batches:   0%|          | 0/1 [00:00<?, ?it/s]"
      ]
     },
     "metadata": {},
     "output_type": "display_data"
    },
    {
     "data": {
      "application/vnd.jupyter.widget-view+json": {
       "model_id": "03b32b0ec50d43c5984b8cbc0032c5f0",
       "version_major": 2,
       "version_minor": 0
      },
      "text/plain": [
       "Batches:   0%|          | 0/1 [00:00<?, ?it/s]"
      ]
     },
     "metadata": {},
     "output_type": "display_data"
    },
    {
     "data": {
      "application/vnd.jupyter.widget-view+json": {
       "model_id": "a73e6ab90df74f80a9f8a55f14d09811",
       "version_major": 2,
       "version_minor": 0
      },
      "text/plain": [
       "Batches:   0%|          | 0/1 [00:00<?, ?it/s]"
      ]
     },
     "metadata": {},
     "output_type": "display_data"
    },
    {
     "data": {
      "application/vnd.jupyter.widget-view+json": {
       "model_id": "cd1036c612dc4daabb5e9c816620bc5f",
       "version_major": 2,
       "version_minor": 0
      },
      "text/plain": [
       "Batches:   0%|          | 0/1 [00:00<?, ?it/s]"
      ]
     },
     "metadata": {},
     "output_type": "display_data"
    },
    {
     "data": {
      "application/vnd.jupyter.widget-view+json": {
       "model_id": "e999e624ac2a491a8f04f168dd84ffbd",
       "version_major": 2,
       "version_minor": 0
      },
      "text/plain": [
       "Batches:   0%|          | 0/1 [00:00<?, ?it/s]"
      ]
     },
     "metadata": {},
     "output_type": "display_data"
    },
    {
     "data": {
      "application/vnd.jupyter.widget-view+json": {
       "model_id": "e9a0adb856b1404dbd4f43a38833af77",
       "version_major": 2,
       "version_minor": 0
      },
      "text/plain": [
       "Batches:   0%|          | 0/1 [00:00<?, ?it/s]"
      ]
     },
     "metadata": {},
     "output_type": "display_data"
    },
    {
     "data": {
      "application/vnd.jupyter.widget-view+json": {
       "model_id": "2867429d8d824dcaae186d64daaef173",
       "version_major": 2,
       "version_minor": 0
      },
      "text/plain": [
       "Batches:   0%|          | 0/1 [00:00<?, ?it/s]"
      ]
     },
     "metadata": {},
     "output_type": "display_data"
    },
    {
     "data": {
      "application/vnd.jupyter.widget-view+json": {
       "model_id": "70cd3c23ce474c448d0e68a513706d75",
       "version_major": 2,
       "version_minor": 0
      },
      "text/plain": [
       "Batches:   0%|          | 0/1 [00:00<?, ?it/s]"
      ]
     },
     "metadata": {},
     "output_type": "display_data"
    },
    {
     "data": {
      "application/vnd.jupyter.widget-view+json": {
       "model_id": "2855e318a10d4557acc3551cde157a82",
       "version_major": 2,
       "version_minor": 0
      },
      "text/plain": [
       "Batches:   0%|          | 0/1 [00:00<?, ?it/s]"
      ]
     },
     "metadata": {},
     "output_type": "display_data"
    },
    {
     "data": {
      "application/vnd.jupyter.widget-view+json": {
       "model_id": "9166b8a3bfec469f809fa661542b6bf4",
       "version_major": 2,
       "version_minor": 0
      },
      "text/plain": [
       "Batches:   0%|          | 0/1 [00:00<?, ?it/s]"
      ]
     },
     "metadata": {},
     "output_type": "display_data"
    },
    {
     "data": {
      "application/vnd.jupyter.widget-view+json": {
       "model_id": "1eb914c8a8d04f2fac9783f728c86b4c",
       "version_major": 2,
       "version_minor": 0
      },
      "text/plain": [
       "Batches:   0%|          | 0/1 [00:00<?, ?it/s]"
      ]
     },
     "metadata": {},
     "output_type": "display_data"
    },
    {
     "data": {
      "application/vnd.jupyter.widget-view+json": {
       "model_id": "c5d171e96d394c75a958d0edd66fda6a",
       "version_major": 2,
       "version_minor": 0
      },
      "text/plain": [
       "Batches:   0%|          | 0/1 [00:00<?, ?it/s]"
      ]
     },
     "metadata": {},
     "output_type": "display_data"
    },
    {
     "data": {
      "application/vnd.jupyter.widget-view+json": {
       "model_id": "6c0d262449bc417397e33bc67b0184df",
       "version_major": 2,
       "version_minor": 0
      },
      "text/plain": [
       "Batches:   0%|          | 0/1 [00:00<?, ?it/s]"
      ]
     },
     "metadata": {},
     "output_type": "display_data"
    },
    {
     "data": {
      "application/vnd.jupyter.widget-view+json": {
       "model_id": "31f799b87536437e9aac35d91a38e0ab",
       "version_major": 2,
       "version_minor": 0
      },
      "text/plain": [
       "Batches:   0%|          | 0/1 [00:00<?, ?it/s]"
      ]
     },
     "metadata": {},
     "output_type": "display_data"
    },
    {
     "data": {
      "application/vnd.jupyter.widget-view+json": {
       "model_id": "b60df96e0e8b4f2aa6b3c465b72327b7",
       "version_major": 2,
       "version_minor": 0
      },
      "text/plain": [
       "Batches:   0%|          | 0/1 [00:00<?, ?it/s]"
      ]
     },
     "metadata": {},
     "output_type": "display_data"
    },
    {
     "data": {
      "application/vnd.jupyter.widget-view+json": {
       "model_id": "b8a0b1c8074d4489b6dec7f47486ac94",
       "version_major": 2,
       "version_minor": 0
      },
      "text/plain": [
       "Batches:   0%|          | 0/1 [00:00<?, ?it/s]"
      ]
     },
     "metadata": {},
     "output_type": "display_data"
    },
    {
     "data": {
      "application/vnd.jupyter.widget-view+json": {
       "model_id": "a04b6d462e6a431f92d3f2fa40b7088e",
       "version_major": 2,
       "version_minor": 0
      },
      "text/plain": [
       "Batches:   0%|          | 0/1 [00:00<?, ?it/s]"
      ]
     },
     "metadata": {},
     "output_type": "display_data"
    },
    {
     "data": {
      "application/vnd.jupyter.widget-view+json": {
       "model_id": "b43ac6d0e0674f7a9d3bf17d39f7ee08",
       "version_major": 2,
       "version_minor": 0
      },
      "text/plain": [
       "Batches:   0%|          | 0/1 [00:00<?, ?it/s]"
      ]
     },
     "metadata": {},
     "output_type": "display_data"
    },
    {
     "data": {
      "application/vnd.jupyter.widget-view+json": {
       "model_id": "7215e493df974c798597d70fcf769ac7",
       "version_major": 2,
       "version_minor": 0
      },
      "text/plain": [
       "Batches:   0%|          | 0/1 [00:00<?, ?it/s]"
      ]
     },
     "metadata": {},
     "output_type": "display_data"
    },
    {
     "data": {
      "application/vnd.jupyter.widget-view+json": {
       "model_id": "727fd431b8214a469720181a9a070bfd",
       "version_major": 2,
       "version_minor": 0
      },
      "text/plain": [
       "Batches:   0%|          | 0/1 [00:00<?, ?it/s]"
      ]
     },
     "metadata": {},
     "output_type": "display_data"
    },
    {
     "data": {
      "application/vnd.jupyter.widget-view+json": {
       "model_id": "f765e93c57ec40e5be7027419a7daa3b",
       "version_major": 2,
       "version_minor": 0
      },
      "text/plain": [
       "Batches:   0%|          | 0/1 [00:00<?, ?it/s]"
      ]
     },
     "metadata": {},
     "output_type": "display_data"
    },
    {
     "data": {
      "application/vnd.jupyter.widget-view+json": {
       "model_id": "1564ecdbd05648ba9b756caf0cda1939",
       "version_major": 2,
       "version_minor": 0
      },
      "text/plain": [
       "Batches:   0%|          | 0/1 [00:00<?, ?it/s]"
      ]
     },
     "metadata": {},
     "output_type": "display_data"
    },
    {
     "data": {
      "application/vnd.jupyter.widget-view+json": {
       "model_id": "ac65bcb8a6f343bfb681fa2629f2836f",
       "version_major": 2,
       "version_minor": 0
      },
      "text/plain": [
       "Batches:   0%|          | 0/1 [00:00<?, ?it/s]"
      ]
     },
     "metadata": {},
     "output_type": "display_data"
    },
    {
     "data": {
      "application/vnd.jupyter.widget-view+json": {
       "model_id": "4c7302191cc0488bb8eabd2c3aec66a4",
       "version_major": 2,
       "version_minor": 0
      },
      "text/plain": [
       "Batches:   0%|          | 0/1 [00:00<?, ?it/s]"
      ]
     },
     "metadata": {},
     "output_type": "display_data"
    },
    {
     "data": {
      "application/vnd.jupyter.widget-view+json": {
       "model_id": "c8b2afe433534c2097aba897a80cf550",
       "version_major": 2,
       "version_minor": 0
      },
      "text/plain": [
       "Batches:   0%|          | 0/1 [00:00<?, ?it/s]"
      ]
     },
     "metadata": {},
     "output_type": "display_data"
    },
    {
     "data": {
      "application/vnd.jupyter.widget-view+json": {
       "model_id": "ce2eef170b354fb2963c883857af403f",
       "version_major": 2,
       "version_minor": 0
      },
      "text/plain": [
       "Batches:   0%|          | 0/1 [00:00<?, ?it/s]"
      ]
     },
     "metadata": {},
     "output_type": "display_data"
    },
    {
     "data": {
      "application/vnd.jupyter.widget-view+json": {
       "model_id": "ce31fcb97b524adc86f83e91cf22f711",
       "version_major": 2,
       "version_minor": 0
      },
      "text/plain": [
       "Batches:   0%|          | 0/1 [00:00<?, ?it/s]"
      ]
     },
     "metadata": {},
     "output_type": "display_data"
    },
    {
     "data": {
      "application/vnd.jupyter.widget-view+json": {
       "model_id": "321a22e41072445ba8cc958770f4c844",
       "version_major": 2,
       "version_minor": 0
      },
      "text/plain": [
       "Batches:   0%|          | 0/1 [00:00<?, ?it/s]"
      ]
     },
     "metadata": {},
     "output_type": "display_data"
    },
    {
     "data": {
      "application/vnd.jupyter.widget-view+json": {
       "model_id": "a85ef0cbc8b4488b9a26661ec1cf9461",
       "version_major": 2,
       "version_minor": 0
      },
      "text/plain": [
       "Batches:   0%|          | 0/1 [00:00<?, ?it/s]"
      ]
     },
     "metadata": {},
     "output_type": "display_data"
    },
    {
     "data": {
      "application/vnd.jupyter.widget-view+json": {
       "model_id": "8c8730f401f74671a2b500542d9634ca",
       "version_major": 2,
       "version_minor": 0
      },
      "text/plain": [
       "Batches:   0%|          | 0/1 [00:00<?, ?it/s]"
      ]
     },
     "metadata": {},
     "output_type": "display_data"
    },
    {
     "data": {
      "application/vnd.jupyter.widget-view+json": {
       "model_id": "d6f483992a33484a9686a0110b61585e",
       "version_major": 2,
       "version_minor": 0
      },
      "text/plain": [
       "Batches:   0%|          | 0/1 [00:00<?, ?it/s]"
      ]
     },
     "metadata": {},
     "output_type": "display_data"
    },
    {
     "data": {
      "application/vnd.jupyter.widget-view+json": {
       "model_id": "af961c57df8e4b8cad850e0365f5502a",
       "version_major": 2,
       "version_minor": 0
      },
      "text/plain": [
       "Batches:   0%|          | 0/1 [00:00<?, ?it/s]"
      ]
     },
     "metadata": {},
     "output_type": "display_data"
    },
    {
     "data": {
      "application/vnd.jupyter.widget-view+json": {
       "model_id": "48c307409f304477a45aae128c7e665d",
       "version_major": 2,
       "version_minor": 0
      },
      "text/plain": [
       "Batches:   0%|          | 0/1 [00:00<?, ?it/s]"
      ]
     },
     "metadata": {},
     "output_type": "display_data"
    },
    {
     "data": {
      "application/vnd.jupyter.widget-view+json": {
       "model_id": "f98be6a7077748e6be5541cd822b5651",
       "version_major": 2,
       "version_minor": 0
      },
      "text/plain": [
       "Batches:   0%|          | 0/1 [00:00<?, ?it/s]"
      ]
     },
     "metadata": {},
     "output_type": "display_data"
    },
    {
     "data": {
      "application/vnd.jupyter.widget-view+json": {
       "model_id": "0c78f7f9054a44429bacbce677b4ecde",
       "version_major": 2,
       "version_minor": 0
      },
      "text/plain": [
       "Batches:   0%|          | 0/1 [00:00<?, ?it/s]"
      ]
     },
     "metadata": {},
     "output_type": "display_data"
    },
    {
     "data": {
      "application/vnd.jupyter.widget-view+json": {
       "model_id": "251ec277a45041cbb7616ba25a462101",
       "version_major": 2,
       "version_minor": 0
      },
      "text/plain": [
       "Batches:   0%|          | 0/1 [00:00<?, ?it/s]"
      ]
     },
     "metadata": {},
     "output_type": "display_data"
    },
    {
     "data": {
      "application/vnd.jupyter.widget-view+json": {
       "model_id": "406549832f4a46c4803110b6565b255f",
       "version_major": 2,
       "version_minor": 0
      },
      "text/plain": [
       "Batches:   0%|          | 0/1 [00:00<?, ?it/s]"
      ]
     },
     "metadata": {},
     "output_type": "display_data"
    },
    {
     "data": {
      "application/vnd.jupyter.widget-view+json": {
       "model_id": "13760416a75b410a81a7789b619e7348",
       "version_major": 2,
       "version_minor": 0
      },
      "text/plain": [
       "Batches:   0%|          | 0/1 [00:00<?, ?it/s]"
      ]
     },
     "metadata": {},
     "output_type": "display_data"
    },
    {
     "data": {
      "application/vnd.jupyter.widget-view+json": {
       "model_id": "35081963aecd4502addb0fac27755925",
       "version_major": 2,
       "version_minor": 0
      },
      "text/plain": [
       "Batches:   0%|          | 0/1 [00:00<?, ?it/s]"
      ]
     },
     "metadata": {},
     "output_type": "display_data"
    },
    {
     "data": {
      "application/vnd.jupyter.widget-view+json": {
       "model_id": "f8d973cc5bb24da5af10c1bf28ffacda",
       "version_major": 2,
       "version_minor": 0
      },
      "text/plain": [
       "Batches:   0%|          | 0/1 [00:00<?, ?it/s]"
      ]
     },
     "metadata": {},
     "output_type": "display_data"
    },
    {
     "data": {
      "application/vnd.jupyter.widget-view+json": {
       "model_id": "ba0003ec58724099b1f5bd1e2eeacd7e",
       "version_major": 2,
       "version_minor": 0
      },
      "text/plain": [
       "Batches:   0%|          | 0/1 [00:00<?, ?it/s]"
      ]
     },
     "metadata": {},
     "output_type": "display_data"
    },
    {
     "data": {
      "application/vnd.jupyter.widget-view+json": {
       "model_id": "6cae18b0893c456eb79e8c5f4c7d66a6",
       "version_major": 2,
       "version_minor": 0
      },
      "text/plain": [
       "Batches:   0%|          | 0/1 [00:00<?, ?it/s]"
      ]
     },
     "metadata": {},
     "output_type": "display_data"
    },
    {
     "data": {
      "application/vnd.jupyter.widget-view+json": {
       "model_id": "da83d1f8845c46a3a1e2d1f765583ecc",
       "version_major": 2,
       "version_minor": 0
      },
      "text/plain": [
       "Batches:   0%|          | 0/1 [00:00<?, ?it/s]"
      ]
     },
     "metadata": {},
     "output_type": "display_data"
    },
    {
     "data": {
      "application/vnd.jupyter.widget-view+json": {
       "model_id": "0da96253463d488baddba68feb1da21b",
       "version_major": 2,
       "version_minor": 0
      },
      "text/plain": [
       "Batches:   0%|          | 0/1 [00:00<?, ?it/s]"
      ]
     },
     "metadata": {},
     "output_type": "display_data"
    },
    {
     "data": {
      "application/vnd.jupyter.widget-view+json": {
       "model_id": "c7165f9622fd417aab52162e89f4d5b5",
       "version_major": 2,
       "version_minor": 0
      },
      "text/plain": [
       "Batches:   0%|          | 0/1 [00:00<?, ?it/s]"
      ]
     },
     "metadata": {},
     "output_type": "display_data"
    },
    {
     "data": {
      "application/vnd.jupyter.widget-view+json": {
       "model_id": "784ac5ee86da44ba9ad844dae031de30",
       "version_major": 2,
       "version_minor": 0
      },
      "text/plain": [
       "Batches:   0%|          | 0/1 [00:00<?, ?it/s]"
      ]
     },
     "metadata": {},
     "output_type": "display_data"
    },
    {
     "data": {
      "application/vnd.jupyter.widget-view+json": {
       "model_id": "cbf8d7334e294f698d468297e3393189",
       "version_major": 2,
       "version_minor": 0
      },
      "text/plain": [
       "Batches:   0%|          | 0/1 [00:00<?, ?it/s]"
      ]
     },
     "metadata": {},
     "output_type": "display_data"
    },
    {
     "data": {
      "application/vnd.jupyter.widget-view+json": {
       "model_id": "fddba29498894ad189759f2a6e31211b",
       "version_major": 2,
       "version_minor": 0
      },
      "text/plain": [
       "Batches:   0%|          | 0/1 [00:00<?, ?it/s]"
      ]
     },
     "metadata": {},
     "output_type": "display_data"
    },
    {
     "data": {
      "application/vnd.jupyter.widget-view+json": {
       "model_id": "37341cd0a67c4fa59857f8944d985f11",
       "version_major": 2,
       "version_minor": 0
      },
      "text/plain": [
       "Batches:   0%|          | 0/1 [00:00<?, ?it/s]"
      ]
     },
     "metadata": {},
     "output_type": "display_data"
    },
    {
     "data": {
      "application/vnd.jupyter.widget-view+json": {
       "model_id": "1e664b53fce94b2881bd3db746275789",
       "version_major": 2,
       "version_minor": 0
      },
      "text/plain": [
       "Batches:   0%|          | 0/1 [00:00<?, ?it/s]"
      ]
     },
     "metadata": {},
     "output_type": "display_data"
    },
    {
     "data": {
      "application/vnd.jupyter.widget-view+json": {
       "model_id": "9798f77c44124afc9c4306ffd00f7e69",
       "version_major": 2,
       "version_minor": 0
      },
      "text/plain": [
       "Batches:   0%|          | 0/1 [00:00<?, ?it/s]"
      ]
     },
     "metadata": {},
     "output_type": "display_data"
    },
    {
     "data": {
      "application/vnd.jupyter.widget-view+json": {
       "model_id": "bcac11dec01641e2bfbb12f217c23059",
       "version_major": 2,
       "version_minor": 0
      },
      "text/plain": [
       "Batches:   0%|          | 0/1 [00:00<?, ?it/s]"
      ]
     },
     "metadata": {},
     "output_type": "display_data"
    },
    {
     "data": {
      "application/vnd.jupyter.widget-view+json": {
       "model_id": "7ae0e70728544bdcb4ed791758104dbf",
       "version_major": 2,
       "version_minor": 0
      },
      "text/plain": [
       "Batches:   0%|          | 0/1 [00:00<?, ?it/s]"
      ]
     },
     "metadata": {},
     "output_type": "display_data"
    },
    {
     "data": {
      "application/vnd.jupyter.widget-view+json": {
       "model_id": "e60071ea4bbc46988a29e0c46ff20b1a",
       "version_major": 2,
       "version_minor": 0
      },
      "text/plain": [
       "Batches:   0%|          | 0/1 [00:00<?, ?it/s]"
      ]
     },
     "metadata": {},
     "output_type": "display_data"
    },
    {
     "data": {
      "application/vnd.jupyter.widget-view+json": {
       "model_id": "5afa2610393f4fa39e1085d59025f288",
       "version_major": 2,
       "version_minor": 0
      },
      "text/plain": [
       "Batches:   0%|          | 0/1 [00:00<?, ?it/s]"
      ]
     },
     "metadata": {},
     "output_type": "display_data"
    },
    {
     "data": {
      "application/vnd.jupyter.widget-view+json": {
       "model_id": "bae260bdf71f401591391f3f54592388",
       "version_major": 2,
       "version_minor": 0
      },
      "text/plain": [
       "Batches:   0%|          | 0/1 [00:00<?, ?it/s]"
      ]
     },
     "metadata": {},
     "output_type": "display_data"
    },
    {
     "data": {
      "application/vnd.jupyter.widget-view+json": {
       "model_id": "fc4b95b332d343aead39f4ac4aab01ed",
       "version_major": 2,
       "version_minor": 0
      },
      "text/plain": [
       "Batches:   0%|          | 0/1 [00:00<?, ?it/s]"
      ]
     },
     "metadata": {},
     "output_type": "display_data"
    },
    {
     "data": {
      "application/vnd.jupyter.widget-view+json": {
       "model_id": "d3f43e3444f64020a3de850e7251f713",
       "version_major": 2,
       "version_minor": 0
      },
      "text/plain": [
       "Batches:   0%|          | 0/1 [00:00<?, ?it/s]"
      ]
     },
     "metadata": {},
     "output_type": "display_data"
    },
    {
     "data": {
      "application/vnd.jupyter.widget-view+json": {
       "model_id": "05edd0d5815b404d9486712d94960eec",
       "version_major": 2,
       "version_minor": 0
      },
      "text/plain": [
       "Batches:   0%|          | 0/1 [00:00<?, ?it/s]"
      ]
     },
     "metadata": {},
     "output_type": "display_data"
    },
    {
     "data": {
      "application/vnd.jupyter.widget-view+json": {
       "model_id": "01c729cf6d4542249e26f00baaccb6ee",
       "version_major": 2,
       "version_minor": 0
      },
      "text/plain": [
       "Batches:   0%|          | 0/1 [00:00<?, ?it/s]"
      ]
     },
     "metadata": {},
     "output_type": "display_data"
    },
    {
     "data": {
      "application/vnd.jupyter.widget-view+json": {
       "model_id": "919396444682414485ea7600d6eee726",
       "version_major": 2,
       "version_minor": 0
      },
      "text/plain": [
       "Batches:   0%|          | 0/1 [00:00<?, ?it/s]"
      ]
     },
     "metadata": {},
     "output_type": "display_data"
    },
    {
     "data": {
      "application/vnd.jupyter.widget-view+json": {
       "model_id": "a5bc16bdadf44c2ea10864b74e0d0604",
       "version_major": 2,
       "version_minor": 0
      },
      "text/plain": [
       "Batches:   0%|          | 0/1 [00:00<?, ?it/s]"
      ]
     },
     "metadata": {},
     "output_type": "display_data"
    },
    {
     "data": {
      "application/vnd.jupyter.widget-view+json": {
       "model_id": "32d9d7aba07d45d7bfdf5948299eceb4",
       "version_major": 2,
       "version_minor": 0
      },
      "text/plain": [
       "Batches:   0%|          | 0/1 [00:00<?, ?it/s]"
      ]
     },
     "metadata": {},
     "output_type": "display_data"
    },
    {
     "data": {
      "application/vnd.jupyter.widget-view+json": {
       "model_id": "e8691fef5ae448e0ac30e2d96f7d2364",
       "version_major": 2,
       "version_minor": 0
      },
      "text/plain": [
       "Batches:   0%|          | 0/1 [00:00<?, ?it/s]"
      ]
     },
     "metadata": {},
     "output_type": "display_data"
    },
    {
     "data": {
      "application/vnd.jupyter.widget-view+json": {
       "model_id": "5400c5eb9bd34b43b874d9c12e0cbfd4",
       "version_major": 2,
       "version_minor": 0
      },
      "text/plain": [
       "Batches:   0%|          | 0/1 [00:00<?, ?it/s]"
      ]
     },
     "metadata": {},
     "output_type": "display_data"
    },
    {
     "data": {
      "application/vnd.jupyter.widget-view+json": {
       "model_id": "3cc272337f83400c9bb1b8f001b00be1",
       "version_major": 2,
       "version_minor": 0
      },
      "text/plain": [
       "Batches:   0%|          | 0/1 [00:00<?, ?it/s]"
      ]
     },
     "metadata": {},
     "output_type": "display_data"
    },
    {
     "data": {
      "application/vnd.jupyter.widget-view+json": {
       "model_id": "851c19d9ac14437da9d1569482ddce2f",
       "version_major": 2,
       "version_minor": 0
      },
      "text/plain": [
       "Batches:   0%|          | 0/1 [00:00<?, ?it/s]"
      ]
     },
     "metadata": {},
     "output_type": "display_data"
    },
    {
     "data": {
      "application/vnd.jupyter.widget-view+json": {
       "model_id": "7345bfb5a90f42e1b61fe5a54f66fe34",
       "version_major": 2,
       "version_minor": 0
      },
      "text/plain": [
       "Batches:   0%|          | 0/1 [00:00<?, ?it/s]"
      ]
     },
     "metadata": {},
     "output_type": "display_data"
    },
    {
     "data": {
      "application/vnd.jupyter.widget-view+json": {
       "model_id": "d29a3c95281f41ab8c0ad906142ec0d3",
       "version_major": 2,
       "version_minor": 0
      },
      "text/plain": [
       "Batches:   0%|          | 0/1 [00:00<?, ?it/s]"
      ]
     },
     "metadata": {},
     "output_type": "display_data"
    },
    {
     "data": {
      "application/vnd.jupyter.widget-view+json": {
       "model_id": "f6cecdee72e64915ad2b263479c377f8",
       "version_major": 2,
       "version_minor": 0
      },
      "text/plain": [
       "Batches:   0%|          | 0/1 [00:00<?, ?it/s]"
      ]
     },
     "metadata": {},
     "output_type": "display_data"
    },
    {
     "data": {
      "application/vnd.jupyter.widget-view+json": {
       "model_id": "5178850ea47843dda58ba902c301cf21",
       "version_major": 2,
       "version_minor": 0
      },
      "text/plain": [
       "Batches:   0%|          | 0/1 [00:00<?, ?it/s]"
      ]
     },
     "metadata": {},
     "output_type": "display_data"
    },
    {
     "data": {
      "application/vnd.jupyter.widget-view+json": {
       "model_id": "a1f7c0f97b5d4ce5bf615894ee6d5454",
       "version_major": 2,
       "version_minor": 0
      },
      "text/plain": [
       "Batches:   0%|          | 0/1 [00:00<?, ?it/s]"
      ]
     },
     "metadata": {},
     "output_type": "display_data"
    },
    {
     "data": {
      "application/vnd.jupyter.widget-view+json": {
       "model_id": "1489bf16cc804f3faca561b0c7c72f1e",
       "version_major": 2,
       "version_minor": 0
      },
      "text/plain": [
       "Batches:   0%|          | 0/1 [00:00<?, ?it/s]"
      ]
     },
     "metadata": {},
     "output_type": "display_data"
    },
    {
     "data": {
      "application/vnd.jupyter.widget-view+json": {
       "model_id": "9403405b5d0749b888236af0d7819b6c",
       "version_major": 2,
       "version_minor": 0
      },
      "text/plain": [
       "Batches:   0%|          | 0/1 [00:00<?, ?it/s]"
      ]
     },
     "metadata": {},
     "output_type": "display_data"
    },
    {
     "data": {
      "application/vnd.jupyter.widget-view+json": {
       "model_id": "99b7c93fa6d248f2bbd402df92d65755",
       "version_major": 2,
       "version_minor": 0
      },
      "text/plain": [
       "Batches:   0%|          | 0/1 [00:00<?, ?it/s]"
      ]
     },
     "metadata": {},
     "output_type": "display_data"
    },
    {
     "data": {
      "application/vnd.jupyter.widget-view+json": {
       "model_id": "afbbc045e6cc419e81ca8333a051e378",
       "version_major": 2,
       "version_minor": 0
      },
      "text/plain": [
       "Batches:   0%|          | 0/1 [00:00<?, ?it/s]"
      ]
     },
     "metadata": {},
     "output_type": "display_data"
    },
    {
     "data": {
      "application/vnd.jupyter.widget-view+json": {
       "model_id": "b0e48c824c7646ecb7468e6388247912",
       "version_major": 2,
       "version_minor": 0
      },
      "text/plain": [
       "Batches:   0%|          | 0/1 [00:00<?, ?it/s]"
      ]
     },
     "metadata": {},
     "output_type": "display_data"
    },
    {
     "data": {
      "application/vnd.jupyter.widget-view+json": {
       "model_id": "ccfbc21abe7841e7a9fecd3f595e1ba8",
       "version_major": 2,
       "version_minor": 0
      },
      "text/plain": [
       "Batches:   0%|          | 0/1 [00:00<?, ?it/s]"
      ]
     },
     "metadata": {},
     "output_type": "display_data"
    },
    {
     "data": {
      "application/vnd.jupyter.widget-view+json": {
       "model_id": "d07026aa63674beb939fe98ef2557422",
       "version_major": 2,
       "version_minor": 0
      },
      "text/plain": [
       "Batches:   0%|          | 0/1 [00:00<?, ?it/s]"
      ]
     },
     "metadata": {},
     "output_type": "display_data"
    },
    {
     "data": {
      "application/vnd.jupyter.widget-view+json": {
       "model_id": "c8dfae6ae729464d82b2140f3eddf610",
       "version_major": 2,
       "version_minor": 0
      },
      "text/plain": [
       "Batches:   0%|          | 0/1 [00:00<?, ?it/s]"
      ]
     },
     "metadata": {},
     "output_type": "display_data"
    },
    {
     "data": {
      "application/vnd.jupyter.widget-view+json": {
       "model_id": "689766d6ad5f4d99a7fc019241b86930",
       "version_major": 2,
       "version_minor": 0
      },
      "text/plain": [
       "Batches:   0%|          | 0/1 [00:00<?, ?it/s]"
      ]
     },
     "metadata": {},
     "output_type": "display_data"
    },
    {
     "data": {
      "application/vnd.jupyter.widget-view+json": {
       "model_id": "83eebbc83dcc4c16a2765f5759fa9793",
       "version_major": 2,
       "version_minor": 0
      },
      "text/plain": [
       "Batches:   0%|          | 0/1 [00:00<?, ?it/s]"
      ]
     },
     "metadata": {},
     "output_type": "display_data"
    },
    {
     "data": {
      "application/vnd.jupyter.widget-view+json": {
       "model_id": "a50cec79559743fa986548923cbf9452",
       "version_major": 2,
       "version_minor": 0
      },
      "text/plain": [
       "Batches:   0%|          | 0/1 [00:00<?, ?it/s]"
      ]
     },
     "metadata": {},
     "output_type": "display_data"
    },
    {
     "data": {
      "application/vnd.jupyter.widget-view+json": {
       "model_id": "bab143bd1e344a628099ab61788f0b35",
       "version_major": 2,
       "version_minor": 0
      },
      "text/plain": [
       "Batches:   0%|          | 0/1 [00:00<?, ?it/s]"
      ]
     },
     "metadata": {},
     "output_type": "display_data"
    },
    {
     "data": {
      "application/vnd.jupyter.widget-view+json": {
       "model_id": "0e6b961c8ec14b65b073603124a29417",
       "version_major": 2,
       "version_minor": 0
      },
      "text/plain": [
       "Batches:   0%|          | 0/1 [00:00<?, ?it/s]"
      ]
     },
     "metadata": {},
     "output_type": "display_data"
    },
    {
     "data": {
      "application/vnd.jupyter.widget-view+json": {
       "model_id": "e845f3b0656b4f62aed6882d241ad12a",
       "version_major": 2,
       "version_minor": 0
      },
      "text/plain": [
       "Batches:   0%|          | 0/1 [00:00<?, ?it/s]"
      ]
     },
     "metadata": {},
     "output_type": "display_data"
    },
    {
     "data": {
      "application/vnd.jupyter.widget-view+json": {
       "model_id": "d21f64c8b04d415aaa9cf8890868cfe9",
       "version_major": 2,
       "version_minor": 0
      },
      "text/plain": [
       "Batches:   0%|          | 0/1 [00:00<?, ?it/s]"
      ]
     },
     "metadata": {},
     "output_type": "display_data"
    },
    {
     "data": {
      "application/vnd.jupyter.widget-view+json": {
       "model_id": "e1078b17abed4fe18841949032389493",
       "version_major": 2,
       "version_minor": 0
      },
      "text/plain": [
       "Batches:   0%|          | 0/1 [00:00<?, ?it/s]"
      ]
     },
     "metadata": {},
     "output_type": "display_data"
    },
    {
     "data": {
      "application/vnd.jupyter.widget-view+json": {
       "model_id": "7484432cd8164fbdb0d7c98733e2d6bc",
       "version_major": 2,
       "version_minor": 0
      },
      "text/plain": [
       "Batches:   0%|          | 0/1 [00:00<?, ?it/s]"
      ]
     },
     "metadata": {},
     "output_type": "display_data"
    },
    {
     "data": {
      "application/vnd.jupyter.widget-view+json": {
       "model_id": "15abda5fac0e4e2eab0782a65a53a482",
       "version_major": 2,
       "version_minor": 0
      },
      "text/plain": [
       "Batches:   0%|          | 0/1 [00:00<?, ?it/s]"
      ]
     },
     "metadata": {},
     "output_type": "display_data"
    },
    {
     "data": {
      "application/vnd.jupyter.widget-view+json": {
       "model_id": "49ad2e3400ed4b4baed825b6956462ad",
       "version_major": 2,
       "version_minor": 0
      },
      "text/plain": [
       "Batches:   0%|          | 0/1 [00:00<?, ?it/s]"
      ]
     },
     "metadata": {},
     "output_type": "display_data"
    },
    {
     "data": {
      "application/vnd.jupyter.widget-view+json": {
       "model_id": "97a8832dd77b4f1fb228e5cffa405b56",
       "version_major": 2,
       "version_minor": 0
      },
      "text/plain": [
       "Batches:   0%|          | 0/1 [00:00<?, ?it/s]"
      ]
     },
     "metadata": {},
     "output_type": "display_data"
    },
    {
     "data": {
      "application/vnd.jupyter.widget-view+json": {
       "model_id": "afa7c1be1d3d49eab2678c9d1015a2d2",
       "version_major": 2,
       "version_minor": 0
      },
      "text/plain": [
       "Batches:   0%|          | 0/1 [00:00<?, ?it/s]"
      ]
     },
     "metadata": {},
     "output_type": "display_data"
    },
    {
     "data": {
      "application/vnd.jupyter.widget-view+json": {
       "model_id": "1c7a691e9f6a454285ddc02e23800570",
       "version_major": 2,
       "version_minor": 0
      },
      "text/plain": [
       "Batches:   0%|          | 0/1 [00:00<?, ?it/s]"
      ]
     },
     "metadata": {},
     "output_type": "display_data"
    },
    {
     "data": {
      "application/vnd.jupyter.widget-view+json": {
       "model_id": "6bd283f9ff384d7382bf309978ae0d57",
       "version_major": 2,
       "version_minor": 0
      },
      "text/plain": [
       "Batches:   0%|          | 0/1 [00:00<?, ?it/s]"
      ]
     },
     "metadata": {},
     "output_type": "display_data"
    },
    {
     "data": {
      "application/vnd.jupyter.widget-view+json": {
       "model_id": "b07275b664fc4baa84d7a60f2b9d8d15",
       "version_major": 2,
       "version_minor": 0
      },
      "text/plain": [
       "Batches:   0%|          | 0/1 [00:00<?, ?it/s]"
      ]
     },
     "metadata": {},
     "output_type": "display_data"
    },
    {
     "data": {
      "application/vnd.jupyter.widget-view+json": {
       "model_id": "01f5e804c63b482997ef2c89a499deda",
       "version_major": 2,
       "version_minor": 0
      },
      "text/plain": [
       "Batches:   0%|          | 0/1 [00:00<?, ?it/s]"
      ]
     },
     "metadata": {},
     "output_type": "display_data"
    },
    {
     "data": {
      "application/vnd.jupyter.widget-view+json": {
       "model_id": "56b7f4decdf9407ea94e59af08fa3bbc",
       "version_major": 2,
       "version_minor": 0
      },
      "text/plain": [
       "Batches:   0%|          | 0/1 [00:00<?, ?it/s]"
      ]
     },
     "metadata": {},
     "output_type": "display_data"
    },
    {
     "data": {
      "application/vnd.jupyter.widget-view+json": {
       "model_id": "e383e5538be847909e5c2d4f59fe0f5a",
       "version_major": 2,
       "version_minor": 0
      },
      "text/plain": [
       "Batches:   0%|          | 0/1 [00:00<?, ?it/s]"
      ]
     },
     "metadata": {},
     "output_type": "display_data"
    },
    {
     "data": {
      "application/vnd.jupyter.widget-view+json": {
       "model_id": "5871c229fcac46f5a77b4944093cabc4",
       "version_major": 2,
       "version_minor": 0
      },
      "text/plain": [
       "Batches:   0%|          | 0/1 [00:00<?, ?it/s]"
      ]
     },
     "metadata": {},
     "output_type": "display_data"
    },
    {
     "data": {
      "application/vnd.jupyter.widget-view+json": {
       "model_id": "5d4f693e5e5c4ad5b35a3a8f510286ed",
       "version_major": 2,
       "version_minor": 0
      },
      "text/plain": [
       "Batches:   0%|          | 0/1 [00:00<?, ?it/s]"
      ]
     },
     "metadata": {},
     "output_type": "display_data"
    },
    {
     "data": {
      "application/vnd.jupyter.widget-view+json": {
       "model_id": "6c3d1b7d35334102912974ad0bb22c8f",
       "version_major": 2,
       "version_minor": 0
      },
      "text/plain": [
       "Batches:   0%|          | 0/1 [00:00<?, ?it/s]"
      ]
     },
     "metadata": {},
     "output_type": "display_data"
    },
    {
     "data": {
      "application/vnd.jupyter.widget-view+json": {
       "model_id": "a77d6c1d43bb4949954661faeb59a3b7",
       "version_major": 2,
       "version_minor": 0
      },
      "text/plain": [
       "Batches:   0%|          | 0/1 [00:00<?, ?it/s]"
      ]
     },
     "metadata": {},
     "output_type": "display_data"
    },
    {
     "data": {
      "application/vnd.jupyter.widget-view+json": {
       "model_id": "a0e7df5cfed346e8ae157c59983698ff",
       "version_major": 2,
       "version_minor": 0
      },
      "text/plain": [
       "Batches:   0%|          | 0/1 [00:00<?, ?it/s]"
      ]
     },
     "metadata": {},
     "output_type": "display_data"
    },
    {
     "data": {
      "application/vnd.jupyter.widget-view+json": {
       "model_id": "e63d3ec7f427414096574c62322db21a",
       "version_major": 2,
       "version_minor": 0
      },
      "text/plain": [
       "Batches:   0%|          | 0/1 [00:00<?, ?it/s]"
      ]
     },
     "metadata": {},
     "output_type": "display_data"
    },
    {
     "data": {
      "application/vnd.jupyter.widget-view+json": {
       "model_id": "746263adcf564af8a0f158583688a25c",
       "version_major": 2,
       "version_minor": 0
      },
      "text/plain": [
       "Batches:   0%|          | 0/1 [00:00<?, ?it/s]"
      ]
     },
     "metadata": {},
     "output_type": "display_data"
    },
    {
     "data": {
      "application/vnd.jupyter.widget-view+json": {
       "model_id": "b4ed9738351c4be19cdecfc743718608",
       "version_major": 2,
       "version_minor": 0
      },
      "text/plain": [
       "Batches:   0%|          | 0/1 [00:00<?, ?it/s]"
      ]
     },
     "metadata": {},
     "output_type": "display_data"
    },
    {
     "data": {
      "application/vnd.jupyter.widget-view+json": {
       "model_id": "0a7942c4f4374190b3ac36c43b7ac364",
       "version_major": 2,
       "version_minor": 0
      },
      "text/plain": [
       "Batches:   0%|          | 0/1 [00:00<?, ?it/s]"
      ]
     },
     "metadata": {},
     "output_type": "display_data"
    },
    {
     "data": {
      "application/vnd.jupyter.widget-view+json": {
       "model_id": "319b7ec4c41c425281a36e0e8974f7dc",
       "version_major": 2,
       "version_minor": 0
      },
      "text/plain": [
       "Batches:   0%|          | 0/1 [00:00<?, ?it/s]"
      ]
     },
     "metadata": {},
     "output_type": "display_data"
    },
    {
     "data": {
      "application/vnd.jupyter.widget-view+json": {
       "model_id": "8e3706d2ec504697b9578e4d3b1d1ce7",
       "version_major": 2,
       "version_minor": 0
      },
      "text/plain": [
       "Batches:   0%|          | 0/1 [00:00<?, ?it/s]"
      ]
     },
     "metadata": {},
     "output_type": "display_data"
    },
    {
     "data": {
      "application/vnd.jupyter.widget-view+json": {
       "model_id": "baab534e77354399adc53b393a50847a",
       "version_major": 2,
       "version_minor": 0
      },
      "text/plain": [
       "Batches:   0%|          | 0/1 [00:00<?, ?it/s]"
      ]
     },
     "metadata": {},
     "output_type": "display_data"
    },
    {
     "data": {
      "application/vnd.jupyter.widget-view+json": {
       "model_id": "c7f71e4af8294b3ebeafd2fd9955ec91",
       "version_major": 2,
       "version_minor": 0
      },
      "text/plain": [
       "Batches:   0%|          | 0/1 [00:00<?, ?it/s]"
      ]
     },
     "metadata": {},
     "output_type": "display_data"
    },
    {
     "data": {
      "application/vnd.jupyter.widget-view+json": {
       "model_id": "3b0ed9a8be0e4d1f962ca4f1aa1761b9",
       "version_major": 2,
       "version_minor": 0
      },
      "text/plain": [
       "Batches:   0%|          | 0/1 [00:00<?, ?it/s]"
      ]
     },
     "metadata": {},
     "output_type": "display_data"
    },
    {
     "data": {
      "application/vnd.jupyter.widget-view+json": {
       "model_id": "a7a7ae360f984560955ab5696ff166fe",
       "version_major": 2,
       "version_minor": 0
      },
      "text/plain": [
       "Batches:   0%|          | 0/1 [00:00<?, ?it/s]"
      ]
     },
     "metadata": {},
     "output_type": "display_data"
    },
    {
     "data": {
      "application/vnd.jupyter.widget-view+json": {
       "model_id": "e82c6e2b05b14cd1a8ec6c51bf4e8ed1",
       "version_major": 2,
       "version_minor": 0
      },
      "text/plain": [
       "Batches:   0%|          | 0/1 [00:00<?, ?it/s]"
      ]
     },
     "metadata": {},
     "output_type": "display_data"
    },
    {
     "data": {
      "application/vnd.jupyter.widget-view+json": {
       "model_id": "2f72c39845d84c5c967ebe97854e145d",
       "version_major": 2,
       "version_minor": 0
      },
      "text/plain": [
       "Batches:   0%|          | 0/1 [00:00<?, ?it/s]"
      ]
     },
     "metadata": {},
     "output_type": "display_data"
    },
    {
     "data": {
      "application/vnd.jupyter.widget-view+json": {
       "model_id": "d82070087dc1450baf041f04b41ad869",
       "version_major": 2,
       "version_minor": 0
      },
      "text/plain": [
       "Batches:   0%|          | 0/1 [00:00<?, ?it/s]"
      ]
     },
     "metadata": {},
     "output_type": "display_data"
    },
    {
     "data": {
      "application/vnd.jupyter.widget-view+json": {
       "model_id": "70a2ebf1374a4027bd3e797a83a9ca1f",
       "version_major": 2,
       "version_minor": 0
      },
      "text/plain": [
       "Batches:   0%|          | 0/1 [00:00<?, ?it/s]"
      ]
     },
     "metadata": {},
     "output_type": "display_data"
    },
    {
     "data": {
      "application/vnd.jupyter.widget-view+json": {
       "model_id": "e1121a70e5254b53bc27c3512f4f1e76",
       "version_major": 2,
       "version_minor": 0
      },
      "text/plain": [
       "Batches:   0%|          | 0/1 [00:00<?, ?it/s]"
      ]
     },
     "metadata": {},
     "output_type": "display_data"
    },
    {
     "data": {
      "application/vnd.jupyter.widget-view+json": {
       "model_id": "788df31eec0b417fb95382b928b29351",
       "version_major": 2,
       "version_minor": 0
      },
      "text/plain": [
       "Batches:   0%|          | 0/1 [00:00<?, ?it/s]"
      ]
     },
     "metadata": {},
     "output_type": "display_data"
    },
    {
     "data": {
      "application/vnd.jupyter.widget-view+json": {
       "model_id": "2739ee61a374474ca69ae41ad30b9ee8",
       "version_major": 2,
       "version_minor": 0
      },
      "text/plain": [
       "Batches:   0%|          | 0/1 [00:00<?, ?it/s]"
      ]
     },
     "metadata": {},
     "output_type": "display_data"
    },
    {
     "data": {
      "application/vnd.jupyter.widget-view+json": {
       "model_id": "61ed6e3debb84e45a6dadd7ecba512e6",
       "version_major": 2,
       "version_minor": 0
      },
      "text/plain": [
       "Batches:   0%|          | 0/1 [00:00<?, ?it/s]"
      ]
     },
     "metadata": {},
     "output_type": "display_data"
    },
    {
     "data": {
      "application/vnd.jupyter.widget-view+json": {
       "model_id": "7393090e3c444a1d9f184a2aa095f57a",
       "version_major": 2,
       "version_minor": 0
      },
      "text/plain": [
       "Batches:   0%|          | 0/1 [00:00<?, ?it/s]"
      ]
     },
     "metadata": {},
     "output_type": "display_data"
    },
    {
     "data": {
      "application/vnd.jupyter.widget-view+json": {
       "model_id": "5b52eb3c72cd4a33abd54370cb3cc6ae",
       "version_major": 2,
       "version_minor": 0
      },
      "text/plain": [
       "Batches:   0%|          | 0/1 [00:00<?, ?it/s]"
      ]
     },
     "metadata": {},
     "output_type": "display_data"
    },
    {
     "data": {
      "application/vnd.jupyter.widget-view+json": {
       "model_id": "f0bb5dace370498ab222dad7809db4e6",
       "version_major": 2,
       "version_minor": 0
      },
      "text/plain": [
       "Batches:   0%|          | 0/1 [00:00<?, ?it/s]"
      ]
     },
     "metadata": {},
     "output_type": "display_data"
    },
    {
     "data": {
      "application/vnd.jupyter.widget-view+json": {
       "model_id": "e3d9d187822146238e1d28be1ca83569",
       "version_major": 2,
       "version_minor": 0
      },
      "text/plain": [
       "Batches:   0%|          | 0/1 [00:00<?, ?it/s]"
      ]
     },
     "metadata": {},
     "output_type": "display_data"
    },
    {
     "data": {
      "application/vnd.jupyter.widget-view+json": {
       "model_id": "1f5dfd0ae98241229f53bd3938f7ad9b",
       "version_major": 2,
       "version_minor": 0
      },
      "text/plain": [
       "Batches:   0%|          | 0/1 [00:00<?, ?it/s]"
      ]
     },
     "metadata": {},
     "output_type": "display_data"
    },
    {
     "data": {
      "application/vnd.jupyter.widget-view+json": {
       "model_id": "fe47412c820843469d415cbaa0df7cc8",
       "version_major": 2,
       "version_minor": 0
      },
      "text/plain": [
       "Batches:   0%|          | 0/1 [00:00<?, ?it/s]"
      ]
     },
     "metadata": {},
     "output_type": "display_data"
    },
    {
     "data": {
      "application/vnd.jupyter.widget-view+json": {
       "model_id": "d22642a93c41474e8d83dbb7a203c7b2",
       "version_major": 2,
       "version_minor": 0
      },
      "text/plain": [
       "Batches:   0%|          | 0/1 [00:00<?, ?it/s]"
      ]
     },
     "metadata": {},
     "output_type": "display_data"
    },
    {
     "data": {
      "application/vnd.jupyter.widget-view+json": {
       "model_id": "0171e37489b9404dbb03318eb15b5e43",
       "version_major": 2,
       "version_minor": 0
      },
      "text/plain": [
       "Batches:   0%|          | 0/1 [00:00<?, ?it/s]"
      ]
     },
     "metadata": {},
     "output_type": "display_data"
    },
    {
     "data": {
      "application/vnd.jupyter.widget-view+json": {
       "model_id": "fb0648f67f5a41afa51996bb7081991c",
       "version_major": 2,
       "version_minor": 0
      },
      "text/plain": [
       "Batches:   0%|          | 0/1 [00:00<?, ?it/s]"
      ]
     },
     "metadata": {},
     "output_type": "display_data"
    },
    {
     "data": {
      "application/vnd.jupyter.widget-view+json": {
       "model_id": "479d50fae64f45a985599b33f9c82a0a",
       "version_major": 2,
       "version_minor": 0
      },
      "text/plain": [
       "Batches:   0%|          | 0/1 [00:00<?, ?it/s]"
      ]
     },
     "metadata": {},
     "output_type": "display_data"
    },
    {
     "data": {
      "application/vnd.jupyter.widget-view+json": {
       "model_id": "5f82e9d4b7094b7d9ddbd9a655f17f06",
       "version_major": 2,
       "version_minor": 0
      },
      "text/plain": [
       "Batches:   0%|          | 0/1 [00:00<?, ?it/s]"
      ]
     },
     "metadata": {},
     "output_type": "display_data"
    },
    {
     "data": {
      "application/vnd.jupyter.widget-view+json": {
       "model_id": "c01d5d69970f478d8266b9ceb6febc62",
       "version_major": 2,
       "version_minor": 0
      },
      "text/plain": [
       "Batches:   0%|          | 0/1 [00:00<?, ?it/s]"
      ]
     },
     "metadata": {},
     "output_type": "display_data"
    },
    {
     "data": {
      "application/vnd.jupyter.widget-view+json": {
       "model_id": "864e5bb98b904993ac8f7edad62117d6",
       "version_major": 2,
       "version_minor": 0
      },
      "text/plain": [
       "Batches:   0%|          | 0/1 [00:00<?, ?it/s]"
      ]
     },
     "metadata": {},
     "output_type": "display_data"
    },
    {
     "data": {
      "application/vnd.jupyter.widget-view+json": {
       "model_id": "f835db87a95048f69b19d3d03f7c1725",
       "version_major": 2,
       "version_minor": 0
      },
      "text/plain": [
       "Batches:   0%|          | 0/1 [00:00<?, ?it/s]"
      ]
     },
     "metadata": {},
     "output_type": "display_data"
    },
    {
     "data": {
      "application/vnd.jupyter.widget-view+json": {
       "model_id": "441bc27673534727bd96aac1257e1a57",
       "version_major": 2,
       "version_minor": 0
      },
      "text/plain": [
       "Batches:   0%|          | 0/1 [00:00<?, ?it/s]"
      ]
     },
     "metadata": {},
     "output_type": "display_data"
    },
    {
     "data": {
      "application/vnd.jupyter.widget-view+json": {
       "model_id": "f24255d7b4ca431db13b8b42b7513931",
       "version_major": 2,
       "version_minor": 0
      },
      "text/plain": [
       "Batches:   0%|          | 0/1 [00:00<?, ?it/s]"
      ]
     },
     "metadata": {},
     "output_type": "display_data"
    },
    {
     "data": {
      "application/vnd.jupyter.widget-view+json": {
       "model_id": "dec00cad5b5d4dd1afd8c8967dd2a7cb",
       "version_major": 2,
       "version_minor": 0
      },
      "text/plain": [
       "Batches:   0%|          | 0/1 [00:00<?, ?it/s]"
      ]
     },
     "metadata": {},
     "output_type": "display_data"
    },
    {
     "data": {
      "application/vnd.jupyter.widget-view+json": {
       "model_id": "daa00842fcad46f594eaa9d80090d0a4",
       "version_major": 2,
       "version_minor": 0
      },
      "text/plain": [
       "Batches:   0%|          | 0/1 [00:00<?, ?it/s]"
      ]
     },
     "metadata": {},
     "output_type": "display_data"
    },
    {
     "data": {
      "application/vnd.jupyter.widget-view+json": {
       "model_id": "daa45af36c2747949a1b57b3aa340455",
       "version_major": 2,
       "version_minor": 0
      },
      "text/plain": [
       "Batches:   0%|          | 0/1 [00:00<?, ?it/s]"
      ]
     },
     "metadata": {},
     "output_type": "display_data"
    },
    {
     "data": {
      "application/vnd.jupyter.widget-view+json": {
       "model_id": "1962ee4f33a643f1aacf6ba8deb2e667",
       "version_major": 2,
       "version_minor": 0
      },
      "text/plain": [
       "Batches:   0%|          | 0/1 [00:00<?, ?it/s]"
      ]
     },
     "metadata": {},
     "output_type": "display_data"
    },
    {
     "data": {
      "application/vnd.jupyter.widget-view+json": {
       "model_id": "019da85d53bb41c7bb511f5021f42219",
       "version_major": 2,
       "version_minor": 0
      },
      "text/plain": [
       "Batches:   0%|          | 0/1 [00:00<?, ?it/s]"
      ]
     },
     "metadata": {},
     "output_type": "display_data"
    },
    {
     "data": {
      "application/vnd.jupyter.widget-view+json": {
       "model_id": "21d1035f96214c63abfad519c144a3ba",
       "version_major": 2,
       "version_minor": 0
      },
      "text/plain": [
       "Batches:   0%|          | 0/1 [00:00<?, ?it/s]"
      ]
     },
     "metadata": {},
     "output_type": "display_data"
    },
    {
     "data": {
      "application/vnd.jupyter.widget-view+json": {
       "model_id": "a61080626a9048cd90735d24fe3ebeb9",
       "version_major": 2,
       "version_minor": 0
      },
      "text/plain": [
       "Batches:   0%|          | 0/1 [00:00<?, ?it/s]"
      ]
     },
     "metadata": {},
     "output_type": "display_data"
    },
    {
     "data": {
      "application/vnd.jupyter.widget-view+json": {
       "model_id": "48f964e7085c4590930f635aa86fe97f",
       "version_major": 2,
       "version_minor": 0
      },
      "text/plain": [
       "Batches:   0%|          | 0/1 [00:00<?, ?it/s]"
      ]
     },
     "metadata": {},
     "output_type": "display_data"
    },
    {
     "data": {
      "application/vnd.jupyter.widget-view+json": {
       "model_id": "a40281025e114bd9a5782110e20a10e4",
       "version_major": 2,
       "version_minor": 0
      },
      "text/plain": [
       "Batches:   0%|          | 0/1 [00:00<?, ?it/s]"
      ]
     },
     "metadata": {},
     "output_type": "display_data"
    },
    {
     "data": {
      "application/vnd.jupyter.widget-view+json": {
       "model_id": "316b772898c647c0b3b3bb6e766decdd",
       "version_major": 2,
       "version_minor": 0
      },
      "text/plain": [
       "Batches:   0%|          | 0/1 [00:00<?, ?it/s]"
      ]
     },
     "metadata": {},
     "output_type": "display_data"
    },
    {
     "data": {
      "application/vnd.jupyter.widget-view+json": {
       "model_id": "4752031cd31540bea6a3534bc5a00c91",
       "version_major": 2,
       "version_minor": 0
      },
      "text/plain": [
       "Batches:   0%|          | 0/1 [00:00<?, ?it/s]"
      ]
     },
     "metadata": {},
     "output_type": "display_data"
    },
    {
     "data": {
      "application/vnd.jupyter.widget-view+json": {
       "model_id": "e7d98ce113d0473195ccc35111763681",
       "version_major": 2,
       "version_minor": 0
      },
      "text/plain": [
       "Batches:   0%|          | 0/1 [00:00<?, ?it/s]"
      ]
     },
     "metadata": {},
     "output_type": "display_data"
    },
    {
     "data": {
      "application/vnd.jupyter.widget-view+json": {
       "model_id": "87d4c5ae9125448083bde790704c05e0",
       "version_major": 2,
       "version_minor": 0
      },
      "text/plain": [
       "Batches:   0%|          | 0/1 [00:00<?, ?it/s]"
      ]
     },
     "metadata": {},
     "output_type": "display_data"
    },
    {
     "data": {
      "application/vnd.jupyter.widget-view+json": {
       "model_id": "66fd66eea1dc4395b7c43946bd66331b",
       "version_major": 2,
       "version_minor": 0
      },
      "text/plain": [
       "Batches:   0%|          | 0/1 [00:00<?, ?it/s]"
      ]
     },
     "metadata": {},
     "output_type": "display_data"
    },
    {
     "data": {
      "application/vnd.jupyter.widget-view+json": {
       "model_id": "21b64198f38a4a97bf7249118e98efc5",
       "version_major": 2,
       "version_minor": 0
      },
      "text/plain": [
       "Batches:   0%|          | 0/1 [00:00<?, ?it/s]"
      ]
     },
     "metadata": {},
     "output_type": "display_data"
    },
    {
     "data": {
      "application/vnd.jupyter.widget-view+json": {
       "model_id": "897f908ac08d4623aea6796726eaf2f8",
       "version_major": 2,
       "version_minor": 0
      },
      "text/plain": [
       "Batches:   0%|          | 0/1 [00:00<?, ?it/s]"
      ]
     },
     "metadata": {},
     "output_type": "display_data"
    },
    {
     "data": {
      "application/vnd.jupyter.widget-view+json": {
       "model_id": "95ed14806b0e4bf89b5a3e757f1fdebb",
       "version_major": 2,
       "version_minor": 0
      },
      "text/plain": [
       "Batches:   0%|          | 0/1 [00:00<?, ?it/s]"
      ]
     },
     "metadata": {},
     "output_type": "display_data"
    },
    {
     "data": {
      "application/vnd.jupyter.widget-view+json": {
       "model_id": "a606baf1faad49c5b131bcbb82493abb",
       "version_major": 2,
       "version_minor": 0
      },
      "text/plain": [
       "Batches:   0%|          | 0/1 [00:00<?, ?it/s]"
      ]
     },
     "metadata": {},
     "output_type": "display_data"
    },
    {
     "data": {
      "application/vnd.jupyter.widget-view+json": {
       "model_id": "bce84b57ae52455690f42efd70b19f08",
       "version_major": 2,
       "version_minor": 0
      },
      "text/plain": [
       "Batches:   0%|          | 0/1 [00:00<?, ?it/s]"
      ]
     },
     "metadata": {},
     "output_type": "display_data"
    },
    {
     "data": {
      "application/vnd.jupyter.widget-view+json": {
       "model_id": "acf2f3ea02a343c5a923426e33cd8eca",
       "version_major": 2,
       "version_minor": 0
      },
      "text/plain": [
       "Batches:   0%|          | 0/1 [00:00<?, ?it/s]"
      ]
     },
     "metadata": {},
     "output_type": "display_data"
    },
    {
     "data": {
      "application/vnd.jupyter.widget-view+json": {
       "model_id": "5bccd81936094e5da6326551cfda43a3",
       "version_major": 2,
       "version_minor": 0
      },
      "text/plain": [
       "Batches:   0%|          | 0/1 [00:00<?, ?it/s]"
      ]
     },
     "metadata": {},
     "output_type": "display_data"
    },
    {
     "data": {
      "application/vnd.jupyter.widget-view+json": {
       "model_id": "b9f5b8c597cb4193930d9b821c8d5e93",
       "version_major": 2,
       "version_minor": 0
      },
      "text/plain": [
       "Batches:   0%|          | 0/1 [00:00<?, ?it/s]"
      ]
     },
     "metadata": {},
     "output_type": "display_data"
    },
    {
     "data": {
      "application/vnd.jupyter.widget-view+json": {
       "model_id": "c99e60aa5aae4504bf700d61fee3cc68",
       "version_major": 2,
       "version_minor": 0
      },
      "text/plain": [
       "Batches:   0%|          | 0/1 [00:00<?, ?it/s]"
      ]
     },
     "metadata": {},
     "output_type": "display_data"
    },
    {
     "data": {
      "application/vnd.jupyter.widget-view+json": {
       "model_id": "6cac433fd2af48f790f88d9c45be6ca8",
       "version_major": 2,
       "version_minor": 0
      },
      "text/plain": [
       "Batches:   0%|          | 0/1 [00:00<?, ?it/s]"
      ]
     },
     "metadata": {},
     "output_type": "display_data"
    },
    {
     "data": {
      "application/vnd.jupyter.widget-view+json": {
       "model_id": "e762d537671d48aba89c3043ab5ed299",
       "version_major": 2,
       "version_minor": 0
      },
      "text/plain": [
       "Batches:   0%|          | 0/1 [00:00<?, ?it/s]"
      ]
     },
     "metadata": {},
     "output_type": "display_data"
    },
    {
     "data": {
      "application/vnd.jupyter.widget-view+json": {
       "model_id": "0145d010fd554487adaec599f741b1a3",
       "version_major": 2,
       "version_minor": 0
      },
      "text/plain": [
       "Batches:   0%|          | 0/1 [00:00<?, ?it/s]"
      ]
     },
     "metadata": {},
     "output_type": "display_data"
    },
    {
     "data": {
      "application/vnd.jupyter.widget-view+json": {
       "model_id": "ecc3da89e9764fdcb550bf253dde0937",
       "version_major": 2,
       "version_minor": 0
      },
      "text/plain": [
       "Batches:   0%|          | 0/1 [00:00<?, ?it/s]"
      ]
     },
     "metadata": {},
     "output_type": "display_data"
    },
    {
     "data": {
      "application/vnd.jupyter.widget-view+json": {
       "model_id": "463afd88525b4f78823d9104a5637548",
       "version_major": 2,
       "version_minor": 0
      },
      "text/plain": [
       "Batches:   0%|          | 0/1 [00:00<?, ?it/s]"
      ]
     },
     "metadata": {},
     "output_type": "display_data"
    },
    {
     "data": {
      "application/vnd.jupyter.widget-view+json": {
       "model_id": "8fd47367925c481597f0a27f50e561a4",
       "version_major": 2,
       "version_minor": 0
      },
      "text/plain": [
       "Batches:   0%|          | 0/1 [00:00<?, ?it/s]"
      ]
     },
     "metadata": {},
     "output_type": "display_data"
    },
    {
     "data": {
      "application/vnd.jupyter.widget-view+json": {
       "model_id": "423a76306fb9441d8a6da12545d97a07",
       "version_major": 2,
       "version_minor": 0
      },
      "text/plain": [
       "Batches:   0%|          | 0/1 [00:00<?, ?it/s]"
      ]
     },
     "metadata": {},
     "output_type": "display_data"
    },
    {
     "data": {
      "application/vnd.jupyter.widget-view+json": {
       "model_id": "ceb6d58d50e5491bb0da9b48c4a40762",
       "version_major": 2,
       "version_minor": 0
      },
      "text/plain": [
       "Batches:   0%|          | 0/1 [00:00<?, ?it/s]"
      ]
     },
     "metadata": {},
     "output_type": "display_data"
    },
    {
     "data": {
      "application/vnd.jupyter.widget-view+json": {
       "model_id": "fc6536a353de4aba82b1e3bdfbb530a0",
       "version_major": 2,
       "version_minor": 0
      },
      "text/plain": [
       "Batches:   0%|          | 0/1 [00:00<?, ?it/s]"
      ]
     },
     "metadata": {},
     "output_type": "display_data"
    },
    {
     "data": {
      "application/vnd.jupyter.widget-view+json": {
       "model_id": "31941c34f1d24579ac30707274bfe881",
       "version_major": 2,
       "version_minor": 0
      },
      "text/plain": [
       "Batches:   0%|          | 0/1 [00:00<?, ?it/s]"
      ]
     },
     "metadata": {},
     "output_type": "display_data"
    },
    {
     "data": {
      "application/vnd.jupyter.widget-view+json": {
       "model_id": "ab5605fad9a84d1c9b61389f7444c19c",
       "version_major": 2,
       "version_minor": 0
      },
      "text/plain": [
       "Batches:   0%|          | 0/1 [00:00<?, ?it/s]"
      ]
     },
     "metadata": {},
     "output_type": "display_data"
    },
    {
     "data": {
      "application/vnd.jupyter.widget-view+json": {
       "model_id": "d11e081f5280432897e607e403288fe5",
       "version_major": 2,
       "version_minor": 0
      },
      "text/plain": [
       "Batches:   0%|          | 0/1 [00:00<?, ?it/s]"
      ]
     },
     "metadata": {},
     "output_type": "display_data"
    },
    {
     "data": {
      "application/vnd.jupyter.widget-view+json": {
       "model_id": "1f80244d62ee42ee94d5aec1ef69d7a2",
       "version_major": 2,
       "version_minor": 0
      },
      "text/plain": [
       "Batches:   0%|          | 0/1 [00:00<?, ?it/s]"
      ]
     },
     "metadata": {},
     "output_type": "display_data"
    },
    {
     "data": {
      "application/vnd.jupyter.widget-view+json": {
       "model_id": "95e661d4685c40a8902b89886e6238cc",
       "version_major": 2,
       "version_minor": 0
      },
      "text/plain": [
       "Batches:   0%|          | 0/1 [00:00<?, ?it/s]"
      ]
     },
     "metadata": {},
     "output_type": "display_data"
    },
    {
     "data": {
      "application/vnd.jupyter.widget-view+json": {
       "model_id": "a5497fcaeabe447f8897f342d1f84e95",
       "version_major": 2,
       "version_minor": 0
      },
      "text/plain": [
       "Batches:   0%|          | 0/1 [00:00<?, ?it/s]"
      ]
     },
     "metadata": {},
     "output_type": "display_data"
    },
    {
     "data": {
      "application/vnd.jupyter.widget-view+json": {
       "model_id": "9636458443914a66a3228d5d18e1b81e",
       "version_major": 2,
       "version_minor": 0
      },
      "text/plain": [
       "Batches:   0%|          | 0/1 [00:00<?, ?it/s]"
      ]
     },
     "metadata": {},
     "output_type": "display_data"
    },
    {
     "data": {
      "application/vnd.jupyter.widget-view+json": {
       "model_id": "740ed5cef7c14b498a079b8acb25da9a",
       "version_major": 2,
       "version_minor": 0
      },
      "text/plain": [
       "Batches:   0%|          | 0/1 [00:00<?, ?it/s]"
      ]
     },
     "metadata": {},
     "output_type": "display_data"
    },
    {
     "data": {
      "application/vnd.jupyter.widget-view+json": {
       "model_id": "d1ead37c43934a1ab2b3d418a0b9904c",
       "version_major": 2,
       "version_minor": 0
      },
      "text/plain": [
       "Batches:   0%|          | 0/1 [00:00<?, ?it/s]"
      ]
     },
     "metadata": {},
     "output_type": "display_data"
    },
    {
     "data": {
      "application/vnd.jupyter.widget-view+json": {
       "model_id": "3408a13a776f48d0a170553ce5a1bfde",
       "version_major": 2,
       "version_minor": 0
      },
      "text/plain": [
       "Batches:   0%|          | 0/1 [00:00<?, ?it/s]"
      ]
     },
     "metadata": {},
     "output_type": "display_data"
    },
    {
     "data": {
      "application/vnd.jupyter.widget-view+json": {
       "model_id": "07c8f2d0785c4446871c9599ff1e9fe0",
       "version_major": 2,
       "version_minor": 0
      },
      "text/plain": [
       "Batches:   0%|          | 0/1 [00:00<?, ?it/s]"
      ]
     },
     "metadata": {},
     "output_type": "display_data"
    },
    {
     "data": {
      "application/vnd.jupyter.widget-view+json": {
       "model_id": "f854688c1aff489193725bf00d3a37ac",
       "version_major": 2,
       "version_minor": 0
      },
      "text/plain": [
       "Batches:   0%|          | 0/1 [00:00<?, ?it/s]"
      ]
     },
     "metadata": {},
     "output_type": "display_data"
    },
    {
     "data": {
      "application/vnd.jupyter.widget-view+json": {
       "model_id": "a1712609b6c642bfb7d002485b291f2f",
       "version_major": 2,
       "version_minor": 0
      },
      "text/plain": [
       "Batches:   0%|          | 0/1 [00:00<?, ?it/s]"
      ]
     },
     "metadata": {},
     "output_type": "display_data"
    },
    {
     "data": {
      "application/vnd.jupyter.widget-view+json": {
       "model_id": "6b6da57294764905b2434e54faaee978",
       "version_major": 2,
       "version_minor": 0
      },
      "text/plain": [
       "Batches:   0%|          | 0/1 [00:00<?, ?it/s]"
      ]
     },
     "metadata": {},
     "output_type": "display_data"
    },
    {
     "data": {
      "application/vnd.jupyter.widget-view+json": {
       "model_id": "f6acb1e20feb49cd8f392793c1621521",
       "version_major": 2,
       "version_minor": 0
      },
      "text/plain": [
       "Batches:   0%|          | 0/1 [00:00<?, ?it/s]"
      ]
     },
     "metadata": {},
     "output_type": "display_data"
    },
    {
     "data": {
      "application/vnd.jupyter.widget-view+json": {
       "model_id": "c3d47a9486a6427aa02511ef05bc8ffd",
       "version_major": 2,
       "version_minor": 0
      },
      "text/plain": [
       "Batches:   0%|          | 0/1 [00:00<?, ?it/s]"
      ]
     },
     "metadata": {},
     "output_type": "display_data"
    },
    {
     "data": {
      "application/vnd.jupyter.widget-view+json": {
       "model_id": "44de8f0572c14bd286eb671a57818c48",
       "version_major": 2,
       "version_minor": 0
      },
      "text/plain": [
       "Batches:   0%|          | 0/1 [00:00<?, ?it/s]"
      ]
     },
     "metadata": {},
     "output_type": "display_data"
    },
    {
     "data": {
      "application/vnd.jupyter.widget-view+json": {
       "model_id": "eaa29ec0c9874183a7c7fac0123c14f2",
       "version_major": 2,
       "version_minor": 0
      },
      "text/plain": [
       "Batches:   0%|          | 0/1 [00:00<?, ?it/s]"
      ]
     },
     "metadata": {},
     "output_type": "display_data"
    },
    {
     "data": {
      "application/vnd.jupyter.widget-view+json": {
       "model_id": "7fe6531fa76a4eec9b832eba35db3af5",
       "version_major": 2,
       "version_minor": 0
      },
      "text/plain": [
       "Batches:   0%|          | 0/1 [00:00<?, ?it/s]"
      ]
     },
     "metadata": {},
     "output_type": "display_data"
    },
    {
     "data": {
      "application/vnd.jupyter.widget-view+json": {
       "model_id": "4834f428fd404cdd9b441b241ae04ec5",
       "version_major": 2,
       "version_minor": 0
      },
      "text/plain": [
       "Batches:   0%|          | 0/1 [00:00<?, ?it/s]"
      ]
     },
     "metadata": {},
     "output_type": "display_data"
    },
    {
     "data": {
      "application/vnd.jupyter.widget-view+json": {
       "model_id": "6f98c420ba5e42628ee395e30abe52be",
       "version_major": 2,
       "version_minor": 0
      },
      "text/plain": [
       "Batches:   0%|          | 0/1 [00:00<?, ?it/s]"
      ]
     },
     "metadata": {},
     "output_type": "display_data"
    },
    {
     "data": {
      "application/vnd.jupyter.widget-view+json": {
       "model_id": "a0801a1370d34ab384090dfd09d5a497",
       "version_major": 2,
       "version_minor": 0
      },
      "text/plain": [
       "Batches:   0%|          | 0/1 [00:00<?, ?it/s]"
      ]
     },
     "metadata": {},
     "output_type": "display_data"
    },
    {
     "data": {
      "application/vnd.jupyter.widget-view+json": {
       "model_id": "5260d431a8b1473eb9e528b5e2ed5e77",
       "version_major": 2,
       "version_minor": 0
      },
      "text/plain": [
       "Batches:   0%|          | 0/1 [00:00<?, ?it/s]"
      ]
     },
     "metadata": {},
     "output_type": "display_data"
    },
    {
     "data": {
      "application/vnd.jupyter.widget-view+json": {
       "model_id": "e3e992cf8ab447df84f474c258340aa1",
       "version_major": 2,
       "version_minor": 0
      },
      "text/plain": [
       "Batches:   0%|          | 0/1 [00:00<?, ?it/s]"
      ]
     },
     "metadata": {},
     "output_type": "display_data"
    },
    {
     "data": {
      "application/vnd.jupyter.widget-view+json": {
       "model_id": "ce6a94c4f2854df3900dbcb037ae57ac",
       "version_major": 2,
       "version_minor": 0
      },
      "text/plain": [
       "Batches:   0%|          | 0/1 [00:00<?, ?it/s]"
      ]
     },
     "metadata": {},
     "output_type": "display_data"
    },
    {
     "data": {
      "application/vnd.jupyter.widget-view+json": {
       "model_id": "398e4b7b861e4512aa3870b07767f8c5",
       "version_major": 2,
       "version_minor": 0
      },
      "text/plain": [
       "Batches:   0%|          | 0/1 [00:00<?, ?it/s]"
      ]
     },
     "metadata": {},
     "output_type": "display_data"
    },
    {
     "data": {
      "application/vnd.jupyter.widget-view+json": {
       "model_id": "1b2c64bd38bb437a8ffeaaacb0fdf93b",
       "version_major": 2,
       "version_minor": 0
      },
      "text/plain": [
       "Batches:   0%|          | 0/1 [00:00<?, ?it/s]"
      ]
     },
     "metadata": {},
     "output_type": "display_data"
    },
    {
     "data": {
      "application/vnd.jupyter.widget-view+json": {
       "model_id": "2d45aa8f8d7743c7a96a39ed6ab2b7b9",
       "version_major": 2,
       "version_minor": 0
      },
      "text/plain": [
       "Batches:   0%|          | 0/1 [00:00<?, ?it/s]"
      ]
     },
     "metadata": {},
     "output_type": "display_data"
    },
    {
     "data": {
      "application/vnd.jupyter.widget-view+json": {
       "model_id": "f0a9c2442ab547b1a49ede0353ab4267",
       "version_major": 2,
       "version_minor": 0
      },
      "text/plain": [
       "Batches:   0%|          | 0/1 [00:00<?, ?it/s]"
      ]
     },
     "metadata": {},
     "output_type": "display_data"
    },
    {
     "data": {
      "application/vnd.jupyter.widget-view+json": {
       "model_id": "070d3342d52048909e4f61838b8c980c",
       "version_major": 2,
       "version_minor": 0
      },
      "text/plain": [
       "Batches:   0%|          | 0/1 [00:00<?, ?it/s]"
      ]
     },
     "metadata": {},
     "output_type": "display_data"
    },
    {
     "data": {
      "application/vnd.jupyter.widget-view+json": {
       "model_id": "7047a04442434c20a8f13afca8463acc",
       "version_major": 2,
       "version_minor": 0
      },
      "text/plain": [
       "Batches:   0%|          | 0/1 [00:00<?, ?it/s]"
      ]
     },
     "metadata": {},
     "output_type": "display_data"
    },
    {
     "data": {
      "application/vnd.jupyter.widget-view+json": {
       "model_id": "60294e849110408bb0bf68db5818ac1e",
       "version_major": 2,
       "version_minor": 0
      },
      "text/plain": [
       "Batches:   0%|          | 0/1 [00:00<?, ?it/s]"
      ]
     },
     "metadata": {},
     "output_type": "display_data"
    },
    {
     "data": {
      "application/vnd.jupyter.widget-view+json": {
       "model_id": "d55f9be59fb44788b0ef838b66aba6d1",
       "version_major": 2,
       "version_minor": 0
      },
      "text/plain": [
       "Batches:   0%|          | 0/1 [00:00<?, ?it/s]"
      ]
     },
     "metadata": {},
     "output_type": "display_data"
    },
    {
     "data": {
      "application/vnd.jupyter.widget-view+json": {
       "model_id": "f30fa7b507524fedaf2b50d43ca73f22",
       "version_major": 2,
       "version_minor": 0
      },
      "text/plain": [
       "Batches:   0%|          | 0/1 [00:00<?, ?it/s]"
      ]
     },
     "metadata": {},
     "output_type": "display_data"
    },
    {
     "data": {
      "application/vnd.jupyter.widget-view+json": {
       "model_id": "6bba1b95223e4e9aa58c19de3986dcfc",
       "version_major": 2,
       "version_minor": 0
      },
      "text/plain": [
       "Batches:   0%|          | 0/1 [00:00<?, ?it/s]"
      ]
     },
     "metadata": {},
     "output_type": "display_data"
    },
    {
     "data": {
      "application/vnd.jupyter.widget-view+json": {
       "model_id": "7f9560efcb8c4022998b88c362b50c51",
       "version_major": 2,
       "version_minor": 0
      },
      "text/plain": [
       "Batches:   0%|          | 0/1 [00:00<?, ?it/s]"
      ]
     },
     "metadata": {},
     "output_type": "display_data"
    },
    {
     "data": {
      "application/vnd.jupyter.widget-view+json": {
       "model_id": "9ae86313774040a59567d21b2059d00f",
       "version_major": 2,
       "version_minor": 0
      },
      "text/plain": [
       "Batches:   0%|          | 0/1 [00:00<?, ?it/s]"
      ]
     },
     "metadata": {},
     "output_type": "display_data"
    },
    {
     "data": {
      "application/vnd.jupyter.widget-view+json": {
       "model_id": "3e4a88c90b7c4e7899f1b4c374e1cc7b",
       "version_major": 2,
       "version_minor": 0
      },
      "text/plain": [
       "Batches:   0%|          | 0/1 [00:00<?, ?it/s]"
      ]
     },
     "metadata": {},
     "output_type": "display_data"
    },
    {
     "data": {
      "application/vnd.jupyter.widget-view+json": {
       "model_id": "7b7b1e709fc24ca7a2e4b43fe1b33828",
       "version_major": 2,
       "version_minor": 0
      },
      "text/plain": [
       "Batches:   0%|          | 0/1 [00:00<?, ?it/s]"
      ]
     },
     "metadata": {},
     "output_type": "display_data"
    },
    {
     "data": {
      "application/vnd.jupyter.widget-view+json": {
       "model_id": "e83325917ade42f785aab2654b03281b",
       "version_major": 2,
       "version_minor": 0
      },
      "text/plain": [
       "Batches:   0%|          | 0/1 [00:00<?, ?it/s]"
      ]
     },
     "metadata": {},
     "output_type": "display_data"
    },
    {
     "data": {
      "application/vnd.jupyter.widget-view+json": {
       "model_id": "1a034a8d3b2f409c8060f80c2a8199a0",
       "version_major": 2,
       "version_minor": 0
      },
      "text/plain": [
       "Batches:   0%|          | 0/1 [00:00<?, ?it/s]"
      ]
     },
     "metadata": {},
     "output_type": "display_data"
    },
    {
     "data": {
      "application/vnd.jupyter.widget-view+json": {
       "model_id": "bee6f0942ed34a1b825bbced2ac3e4a5",
       "version_major": 2,
       "version_minor": 0
      },
      "text/plain": [
       "Batches:   0%|          | 0/1 [00:00<?, ?it/s]"
      ]
     },
     "metadata": {},
     "output_type": "display_data"
    },
    {
     "data": {
      "application/vnd.jupyter.widget-view+json": {
       "model_id": "8800a1b190a04c9a9c13edc7e6cc4221",
       "version_major": 2,
       "version_minor": 0
      },
      "text/plain": [
       "Batches:   0%|          | 0/1 [00:00<?, ?it/s]"
      ]
     },
     "metadata": {},
     "output_type": "display_data"
    },
    {
     "data": {
      "application/vnd.jupyter.widget-view+json": {
       "model_id": "81dff5e5b62e4c81802b82adbc10c82c",
       "version_major": 2,
       "version_minor": 0
      },
      "text/plain": [
       "Batches:   0%|          | 0/1 [00:00<?, ?it/s]"
      ]
     },
     "metadata": {},
     "output_type": "display_data"
    },
    {
     "data": {
      "application/vnd.jupyter.widget-view+json": {
       "model_id": "be2f15e42483452b90de94704cbff9cd",
       "version_major": 2,
       "version_minor": 0
      },
      "text/plain": [
       "Batches:   0%|          | 0/1 [00:00<?, ?it/s]"
      ]
     },
     "metadata": {},
     "output_type": "display_data"
    },
    {
     "data": {
      "application/vnd.jupyter.widget-view+json": {
       "model_id": "645d97c78e924b2cbb81989e373aac40",
       "version_major": 2,
       "version_minor": 0
      },
      "text/plain": [
       "Batches:   0%|          | 0/1 [00:00<?, ?it/s]"
      ]
     },
     "metadata": {},
     "output_type": "display_data"
    },
    {
     "data": {
      "application/vnd.jupyter.widget-view+json": {
       "model_id": "5f7c760e798048158faf0b6e4cb1acb8",
       "version_major": 2,
       "version_minor": 0
      },
      "text/plain": [
       "Batches:   0%|          | 0/1 [00:00<?, ?it/s]"
      ]
     },
     "metadata": {},
     "output_type": "display_data"
    },
    {
     "data": {
      "application/vnd.jupyter.widget-view+json": {
       "model_id": "6555c65f51d843ab883c332c40041174",
       "version_major": 2,
       "version_minor": 0
      },
      "text/plain": [
       "Batches:   0%|          | 0/1 [00:00<?, ?it/s]"
      ]
     },
     "metadata": {},
     "output_type": "display_data"
    },
    {
     "data": {
      "application/vnd.jupyter.widget-view+json": {
       "model_id": "4aa04d5e6f6249919a6ab25186da14c6",
       "version_major": 2,
       "version_minor": 0
      },
      "text/plain": [
       "Batches:   0%|          | 0/1 [00:00<?, ?it/s]"
      ]
     },
     "metadata": {},
     "output_type": "display_data"
    },
    {
     "data": {
      "application/vnd.jupyter.widget-view+json": {
       "model_id": "648160596c3c4d23a4b6eea9b64776f5",
       "version_major": 2,
       "version_minor": 0
      },
      "text/plain": [
       "Batches:   0%|          | 0/1 [00:00<?, ?it/s]"
      ]
     },
     "metadata": {},
     "output_type": "display_data"
    },
    {
     "data": {
      "application/vnd.jupyter.widget-view+json": {
       "model_id": "ead88a8358624e34837f38c336098f8d",
       "version_major": 2,
       "version_minor": 0
      },
      "text/plain": [
       "Batches:   0%|          | 0/1 [00:00<?, ?it/s]"
      ]
     },
     "metadata": {},
     "output_type": "display_data"
    },
    {
     "data": {
      "application/vnd.jupyter.widget-view+json": {
       "model_id": "900fa030b68d4e5dae339b70c2bf8946",
       "version_major": 2,
       "version_minor": 0
      },
      "text/plain": [
       "Batches:   0%|          | 0/1 [00:00<?, ?it/s]"
      ]
     },
     "metadata": {},
     "output_type": "display_data"
    },
    {
     "data": {
      "application/vnd.jupyter.widget-view+json": {
       "model_id": "7d98474ed2aa49ca8a3b2d7c6837bac1",
       "version_major": 2,
       "version_minor": 0
      },
      "text/plain": [
       "Batches:   0%|          | 0/1 [00:00<?, ?it/s]"
      ]
     },
     "metadata": {},
     "output_type": "display_data"
    },
    {
     "data": {
      "application/vnd.jupyter.widget-view+json": {
       "model_id": "949b04aa67b44d4ea55c578ff13c475e",
       "version_major": 2,
       "version_minor": 0
      },
      "text/plain": [
       "Batches:   0%|          | 0/1 [00:00<?, ?it/s]"
      ]
     },
     "metadata": {},
     "output_type": "display_data"
    },
    {
     "data": {
      "application/vnd.jupyter.widget-view+json": {
       "model_id": "7e29540883254681a5f93391c2c1cb7c",
       "version_major": 2,
       "version_minor": 0
      },
      "text/plain": [
       "Batches:   0%|          | 0/1 [00:00<?, ?it/s]"
      ]
     },
     "metadata": {},
     "output_type": "display_data"
    },
    {
     "data": {
      "application/vnd.jupyter.widget-view+json": {
       "model_id": "ae3f39034baa4a4092863715558b7d52",
       "version_major": 2,
       "version_minor": 0
      },
      "text/plain": [
       "Batches:   0%|          | 0/1 [00:00<?, ?it/s]"
      ]
     },
     "metadata": {},
     "output_type": "display_data"
    },
    {
     "data": {
      "application/vnd.jupyter.widget-view+json": {
       "model_id": "635df463cdc24a33a757d948662e7a2d",
       "version_major": 2,
       "version_minor": 0
      },
      "text/plain": [
       "Batches:   0%|          | 0/1 [00:00<?, ?it/s]"
      ]
     },
     "metadata": {},
     "output_type": "display_data"
    },
    {
     "data": {
      "application/vnd.jupyter.widget-view+json": {
       "model_id": "3a9ec591c08f49faa874fb8a3c0cc587",
       "version_major": 2,
       "version_minor": 0
      },
      "text/plain": [
       "Batches:   0%|          | 0/1 [00:00<?, ?it/s]"
      ]
     },
     "metadata": {},
     "output_type": "display_data"
    },
    {
     "data": {
      "application/vnd.jupyter.widget-view+json": {
       "model_id": "2485497538be4caab7184360e42e1d00",
       "version_major": 2,
       "version_minor": 0
      },
      "text/plain": [
       "Batches:   0%|          | 0/1 [00:00<?, ?it/s]"
      ]
     },
     "metadata": {},
     "output_type": "display_data"
    },
    {
     "data": {
      "application/vnd.jupyter.widget-view+json": {
       "model_id": "e017e7e1211b4d8499b7e5f7f1d54f0d",
       "version_major": 2,
       "version_minor": 0
      },
      "text/plain": [
       "Batches:   0%|          | 0/1 [00:00<?, ?it/s]"
      ]
     },
     "metadata": {},
     "output_type": "display_data"
    },
    {
     "data": {
      "application/vnd.jupyter.widget-view+json": {
       "model_id": "6390cb61d2004f0f8731c81c0968f1f3",
       "version_major": 2,
       "version_minor": 0
      },
      "text/plain": [
       "Batches:   0%|          | 0/1 [00:00<?, ?it/s]"
      ]
     },
     "metadata": {},
     "output_type": "display_data"
    },
    {
     "data": {
      "application/vnd.jupyter.widget-view+json": {
       "model_id": "0884846e25af43108fc79c276f92832b",
       "version_major": 2,
       "version_minor": 0
      },
      "text/plain": [
       "Batches:   0%|          | 0/1 [00:00<?, ?it/s]"
      ]
     },
     "metadata": {},
     "output_type": "display_data"
    },
    {
     "data": {
      "application/vnd.jupyter.widget-view+json": {
       "model_id": "9172849c349e4e9aad2bdbddbc1d96fc",
       "version_major": 2,
       "version_minor": 0
      },
      "text/plain": [
       "Batches:   0%|          | 0/1 [00:00<?, ?it/s]"
      ]
     },
     "metadata": {},
     "output_type": "display_data"
    },
    {
     "data": {
      "application/vnd.jupyter.widget-view+json": {
       "model_id": "f51c913a7d1c4cba8617427aae92812d",
       "version_major": 2,
       "version_minor": 0
      },
      "text/plain": [
       "Batches:   0%|          | 0/1 [00:00<?, ?it/s]"
      ]
     },
     "metadata": {},
     "output_type": "display_data"
    },
    {
     "data": {
      "application/vnd.jupyter.widget-view+json": {
       "model_id": "be07211170524ee4b777a1040cd0f465",
       "version_major": 2,
       "version_minor": 0
      },
      "text/plain": [
       "Batches:   0%|          | 0/1 [00:00<?, ?it/s]"
      ]
     },
     "metadata": {},
     "output_type": "display_data"
    },
    {
     "data": {
      "application/vnd.jupyter.widget-view+json": {
       "model_id": "30edd160a1954057b5ae59c49bbea8b2",
       "version_major": 2,
       "version_minor": 0
      },
      "text/plain": [
       "Batches:   0%|          | 0/1 [00:00<?, ?it/s]"
      ]
     },
     "metadata": {},
     "output_type": "display_data"
    },
    {
     "data": {
      "application/vnd.jupyter.widget-view+json": {
       "model_id": "a25c52fc6af14015b8e6fb23ea041bcb",
       "version_major": 2,
       "version_minor": 0
      },
      "text/plain": [
       "Batches:   0%|          | 0/1 [00:00<?, ?it/s]"
      ]
     },
     "metadata": {},
     "output_type": "display_data"
    },
    {
     "data": {
      "application/vnd.jupyter.widget-view+json": {
       "model_id": "ab7c5ec06eac4fc491a3a7d025e40a34",
       "version_major": 2,
       "version_minor": 0
      },
      "text/plain": [
       "Batches:   0%|          | 0/1 [00:00<?, ?it/s]"
      ]
     },
     "metadata": {},
     "output_type": "display_data"
    },
    {
     "data": {
      "application/vnd.jupyter.widget-view+json": {
       "model_id": "3bb5b56994014765a75c1411dc4f9d00",
       "version_major": 2,
       "version_minor": 0
      },
      "text/plain": [
       "Batches:   0%|          | 0/1 [00:00<?, ?it/s]"
      ]
     },
     "metadata": {},
     "output_type": "display_data"
    },
    {
     "data": {
      "application/vnd.jupyter.widget-view+json": {
       "model_id": "d13cfe4891c84db48d55580f7c51aba5",
       "version_major": 2,
       "version_minor": 0
      },
      "text/plain": [
       "Batches:   0%|          | 0/1 [00:00<?, ?it/s]"
      ]
     },
     "metadata": {},
     "output_type": "display_data"
    },
    {
     "data": {
      "application/vnd.jupyter.widget-view+json": {
       "model_id": "e5a7628693bc4de3bdd6c58d0bce6e7d",
       "version_major": 2,
       "version_minor": 0
      },
      "text/plain": [
       "Batches:   0%|          | 0/1 [00:00<?, ?it/s]"
      ]
     },
     "metadata": {},
     "output_type": "display_data"
    },
    {
     "data": {
      "application/vnd.jupyter.widget-view+json": {
       "model_id": "d1cd1c674f85493fb4163ee8859d5594",
       "version_major": 2,
       "version_minor": 0
      },
      "text/plain": [
       "Batches:   0%|          | 0/1 [00:00<?, ?it/s]"
      ]
     },
     "metadata": {},
     "output_type": "display_data"
    },
    {
     "data": {
      "application/vnd.jupyter.widget-view+json": {
       "model_id": "9896de47682140de975e9e8af66f8738",
       "version_major": 2,
       "version_minor": 0
      },
      "text/plain": [
       "Batches:   0%|          | 0/1 [00:00<?, ?it/s]"
      ]
     },
     "metadata": {},
     "output_type": "display_data"
    },
    {
     "data": {
      "application/vnd.jupyter.widget-view+json": {
       "model_id": "a117355d19b44314abdd6f10db21c20a",
       "version_major": 2,
       "version_minor": 0
      },
      "text/plain": [
       "Batches:   0%|          | 0/1 [00:00<?, ?it/s]"
      ]
     },
     "metadata": {},
     "output_type": "display_data"
    },
    {
     "data": {
      "application/vnd.jupyter.widget-view+json": {
       "model_id": "f0da72bacbcd473d8b3144718bb1ae1d",
       "version_major": 2,
       "version_minor": 0
      },
      "text/plain": [
       "Batches:   0%|          | 0/1 [00:00<?, ?it/s]"
      ]
     },
     "metadata": {},
     "output_type": "display_data"
    },
    {
     "data": {
      "application/vnd.jupyter.widget-view+json": {
       "model_id": "0503d7cf48cc470e8ee4c57d9273ae01",
       "version_major": 2,
       "version_minor": 0
      },
      "text/plain": [
       "Batches:   0%|          | 0/1 [00:00<?, ?it/s]"
      ]
     },
     "metadata": {},
     "output_type": "display_data"
    },
    {
     "data": {
      "application/vnd.jupyter.widget-view+json": {
       "model_id": "c8d142d5584f40a99a06adc6bf6643ea",
       "version_major": 2,
       "version_minor": 0
      },
      "text/plain": [
       "Batches:   0%|          | 0/1 [00:00<?, ?it/s]"
      ]
     },
     "metadata": {},
     "output_type": "display_data"
    },
    {
     "data": {
      "application/vnd.jupyter.widget-view+json": {
       "model_id": "81b3489771e94599aaa099642015c80a",
       "version_major": 2,
       "version_minor": 0
      },
      "text/plain": [
       "Batches:   0%|          | 0/1 [00:00<?, ?it/s]"
      ]
     },
     "metadata": {},
     "output_type": "display_data"
    },
    {
     "data": {
      "application/vnd.jupyter.widget-view+json": {
       "model_id": "61fe6f419da949c1b108d426cbc1a83c",
       "version_major": 2,
       "version_minor": 0
      },
      "text/plain": [
       "Batches:   0%|          | 0/1 [00:00<?, ?it/s]"
      ]
     },
     "metadata": {},
     "output_type": "display_data"
    },
    {
     "data": {
      "application/vnd.jupyter.widget-view+json": {
       "model_id": "0f9547912d6e40a0b86e8725ed7ae2b5",
       "version_major": 2,
       "version_minor": 0
      },
      "text/plain": [
       "Batches:   0%|          | 0/1 [00:00<?, ?it/s]"
      ]
     },
     "metadata": {},
     "output_type": "display_data"
    },
    {
     "data": {
      "application/vnd.jupyter.widget-view+json": {
       "model_id": "730a3bbda2174246bb2f4ab06336859a",
       "version_major": 2,
       "version_minor": 0
      },
      "text/plain": [
       "Batches:   0%|          | 0/1 [00:00<?, ?it/s]"
      ]
     },
     "metadata": {},
     "output_type": "display_data"
    },
    {
     "data": {
      "application/vnd.jupyter.widget-view+json": {
       "model_id": "f8b32621681840c1ba6db6ec6ff8aa18",
       "version_major": 2,
       "version_minor": 0
      },
      "text/plain": [
       "Batches:   0%|          | 0/1 [00:00<?, ?it/s]"
      ]
     },
     "metadata": {},
     "output_type": "display_data"
    },
    {
     "data": {
      "application/vnd.jupyter.widget-view+json": {
       "model_id": "5cea043afa2b4489af05e1a81d661135",
       "version_major": 2,
       "version_minor": 0
      },
      "text/plain": [
       "Batches:   0%|          | 0/1 [00:00<?, ?it/s]"
      ]
     },
     "metadata": {},
     "output_type": "display_data"
    },
    {
     "data": {
      "application/vnd.jupyter.widget-view+json": {
       "model_id": "09010a406b4d403a9af0c1fadacca593",
       "version_major": 2,
       "version_minor": 0
      },
      "text/plain": [
       "Batches:   0%|          | 0/1 [00:00<?, ?it/s]"
      ]
     },
     "metadata": {},
     "output_type": "display_data"
    },
    {
     "data": {
      "application/vnd.jupyter.widget-view+json": {
       "model_id": "e67e78e4935e45bfa5634acc5f431eb0",
       "version_major": 2,
       "version_minor": 0
      },
      "text/plain": [
       "Batches:   0%|          | 0/1 [00:00<?, ?it/s]"
      ]
     },
     "metadata": {},
     "output_type": "display_data"
    },
    {
     "data": {
      "application/vnd.jupyter.widget-view+json": {
       "model_id": "3b91d01734ff4841a33cefaa48023c8f",
       "version_major": 2,
       "version_minor": 0
      },
      "text/plain": [
       "Batches:   0%|          | 0/1 [00:00<?, ?it/s]"
      ]
     },
     "metadata": {},
     "output_type": "display_data"
    },
    {
     "data": {
      "application/vnd.jupyter.widget-view+json": {
       "model_id": "e1fbd5427cf7480b98ba624fe3358a7e",
       "version_major": 2,
       "version_minor": 0
      },
      "text/plain": [
       "Batches:   0%|          | 0/1 [00:00<?, ?it/s]"
      ]
     },
     "metadata": {},
     "output_type": "display_data"
    },
    {
     "data": {
      "application/vnd.jupyter.widget-view+json": {
       "model_id": "6f388fd76f924b97856b8de1abba1b46",
       "version_major": 2,
       "version_minor": 0
      },
      "text/plain": [
       "Batches:   0%|          | 0/1 [00:00<?, ?it/s]"
      ]
     },
     "metadata": {},
     "output_type": "display_data"
    },
    {
     "data": {
      "application/vnd.jupyter.widget-view+json": {
       "model_id": "033c712d8fdf485095eae1205d35eec4",
       "version_major": 2,
       "version_minor": 0
      },
      "text/plain": [
       "Batches:   0%|          | 0/1 [00:00<?, ?it/s]"
      ]
     },
     "metadata": {},
     "output_type": "display_data"
    },
    {
     "data": {
      "application/vnd.jupyter.widget-view+json": {
       "model_id": "bf6dfe21c6ba43508b82681cb171127f",
       "version_major": 2,
       "version_minor": 0
      },
      "text/plain": [
       "Batches:   0%|          | 0/1 [00:00<?, ?it/s]"
      ]
     },
     "metadata": {},
     "output_type": "display_data"
    },
    {
     "data": {
      "application/vnd.jupyter.widget-view+json": {
       "model_id": "5f42eddc17eb4239a363187779dfb4bd",
       "version_major": 2,
       "version_minor": 0
      },
      "text/plain": [
       "Batches:   0%|          | 0/1 [00:00<?, ?it/s]"
      ]
     },
     "metadata": {},
     "output_type": "display_data"
    },
    {
     "data": {
      "application/vnd.jupyter.widget-view+json": {
       "model_id": "d1e0d17764294d5a8025fda08180c0e5",
       "version_major": 2,
       "version_minor": 0
      },
      "text/plain": [
       "Batches:   0%|          | 0/1 [00:00<?, ?it/s]"
      ]
     },
     "metadata": {},
     "output_type": "display_data"
    },
    {
     "data": {
      "application/vnd.jupyter.widget-view+json": {
       "model_id": "2bb6d7808f2742e4973d166923d35c2b",
       "version_major": 2,
       "version_minor": 0
      },
      "text/plain": [
       "Batches:   0%|          | 0/1 [00:00<?, ?it/s]"
      ]
     },
     "metadata": {},
     "output_type": "display_data"
    },
    {
     "data": {
      "application/vnd.jupyter.widget-view+json": {
       "model_id": "3b2de10618ee4bcb8b14250f10a58dee",
       "version_major": 2,
       "version_minor": 0
      },
      "text/plain": [
       "Batches:   0%|          | 0/1 [00:00<?, ?it/s]"
      ]
     },
     "metadata": {},
     "output_type": "display_data"
    },
    {
     "data": {
      "application/vnd.jupyter.widget-view+json": {
       "model_id": "6ee3084a424b424dabc68fe6bcc6eb23",
       "version_major": 2,
       "version_minor": 0
      },
      "text/plain": [
       "Batches:   0%|          | 0/1 [00:00<?, ?it/s]"
      ]
     },
     "metadata": {},
     "output_type": "display_data"
    },
    {
     "data": {
      "application/vnd.jupyter.widget-view+json": {
       "model_id": "f47abef90bdf469ea68489fa049fbffd",
       "version_major": 2,
       "version_minor": 0
      },
      "text/plain": [
       "Batches:   0%|          | 0/1 [00:00<?, ?it/s]"
      ]
     },
     "metadata": {},
     "output_type": "display_data"
    },
    {
     "data": {
      "application/vnd.jupyter.widget-view+json": {
       "model_id": "af4e94c4da0c4772b8147ed409ad2dda",
       "version_major": 2,
       "version_minor": 0
      },
      "text/plain": [
       "Batches:   0%|          | 0/1 [00:00<?, ?it/s]"
      ]
     },
     "metadata": {},
     "output_type": "display_data"
    },
    {
     "data": {
      "application/vnd.jupyter.widget-view+json": {
       "model_id": "a837cbf99f9349b1bfebc40edbeac6b1",
       "version_major": 2,
       "version_minor": 0
      },
      "text/plain": [
       "Batches:   0%|          | 0/1 [00:00<?, ?it/s]"
      ]
     },
     "metadata": {},
     "output_type": "display_data"
    },
    {
     "data": {
      "application/vnd.jupyter.widget-view+json": {
       "model_id": "f21e6e7595dc4d56afbde35bcc5f20a4",
       "version_major": 2,
       "version_minor": 0
      },
      "text/plain": [
       "Batches:   0%|          | 0/1 [00:00<?, ?it/s]"
      ]
     },
     "metadata": {},
     "output_type": "display_data"
    },
    {
     "data": {
      "application/vnd.jupyter.widget-view+json": {
       "model_id": "a2c5357bf2cc44f9a35bfde8acfb7b80",
       "version_major": 2,
       "version_minor": 0
      },
      "text/plain": [
       "Batches:   0%|          | 0/1 [00:00<?, ?it/s]"
      ]
     },
     "metadata": {},
     "output_type": "display_data"
    },
    {
     "data": {
      "application/vnd.jupyter.widget-view+json": {
       "model_id": "dba4bde19fec4546af7aae13a8bd28c7",
       "version_major": 2,
       "version_minor": 0
      },
      "text/plain": [
       "Batches:   0%|          | 0/1 [00:00<?, ?it/s]"
      ]
     },
     "metadata": {},
     "output_type": "display_data"
    },
    {
     "data": {
      "application/vnd.jupyter.widget-view+json": {
       "model_id": "f56924e651d1453bb71cad9b11b94d73",
       "version_major": 2,
       "version_minor": 0
      },
      "text/plain": [
       "Batches:   0%|          | 0/1 [00:00<?, ?it/s]"
      ]
     },
     "metadata": {},
     "output_type": "display_data"
    },
    {
     "data": {
      "application/vnd.jupyter.widget-view+json": {
       "model_id": "2276f8995d90448882ce90405a4820fb",
       "version_major": 2,
       "version_minor": 0
      },
      "text/plain": [
       "Batches:   0%|          | 0/1 [00:00<?, ?it/s]"
      ]
     },
     "metadata": {},
     "output_type": "display_data"
    },
    {
     "data": {
      "application/vnd.jupyter.widget-view+json": {
       "model_id": "e4392aa52c1c4efca1055362f6fdd985",
       "version_major": 2,
       "version_minor": 0
      },
      "text/plain": [
       "Batches:   0%|          | 0/1 [00:00<?, ?it/s]"
      ]
     },
     "metadata": {},
     "output_type": "display_data"
    },
    {
     "data": {
      "application/vnd.jupyter.widget-view+json": {
       "model_id": "c9e351ce76d24a2595782cfee8a6a669",
       "version_major": 2,
       "version_minor": 0
      },
      "text/plain": [
       "Batches:   0%|          | 0/1 [00:00<?, ?it/s]"
      ]
     },
     "metadata": {},
     "output_type": "display_data"
    },
    {
     "data": {
      "application/vnd.jupyter.widget-view+json": {
       "model_id": "0240a5fa9753447faacc6fdacfa1630c",
       "version_major": 2,
       "version_minor": 0
      },
      "text/plain": [
       "Batches:   0%|          | 0/1 [00:00<?, ?it/s]"
      ]
     },
     "metadata": {},
     "output_type": "display_data"
    },
    {
     "data": {
      "application/vnd.jupyter.widget-view+json": {
       "model_id": "f7746a0cf5494410bda2190e83df7a56",
       "version_major": 2,
       "version_minor": 0
      },
      "text/plain": [
       "Batches:   0%|          | 0/1 [00:00<?, ?it/s]"
      ]
     },
     "metadata": {},
     "output_type": "display_data"
    },
    {
     "data": {
      "application/vnd.jupyter.widget-view+json": {
       "model_id": "44c004e3ce884261bc4ba7ecacd104f4",
       "version_major": 2,
       "version_minor": 0
      },
      "text/plain": [
       "Batches:   0%|          | 0/1 [00:00<?, ?it/s]"
      ]
     },
     "metadata": {},
     "output_type": "display_data"
    },
    {
     "data": {
      "application/vnd.jupyter.widget-view+json": {
       "model_id": "14b2a910c73f49d18dce38b545ce6101",
       "version_major": 2,
       "version_minor": 0
      },
      "text/plain": [
       "Batches:   0%|          | 0/1 [00:00<?, ?it/s]"
      ]
     },
     "metadata": {},
     "output_type": "display_data"
    },
    {
     "data": {
      "application/vnd.jupyter.widget-view+json": {
       "model_id": "6849ec51572d4977a09c92f74f390705",
       "version_major": 2,
       "version_minor": 0
      },
      "text/plain": [
       "Batches:   0%|          | 0/1 [00:00<?, ?it/s]"
      ]
     },
     "metadata": {},
     "output_type": "display_data"
    },
    {
     "data": {
      "application/vnd.jupyter.widget-view+json": {
       "model_id": "5a50968f2d81494ab99d7075bcf60722",
       "version_major": 2,
       "version_minor": 0
      },
      "text/plain": [
       "Batches:   0%|          | 0/1 [00:00<?, ?it/s]"
      ]
     },
     "metadata": {},
     "output_type": "display_data"
    },
    {
     "data": {
      "application/vnd.jupyter.widget-view+json": {
       "model_id": "c0190d6bacd848b19cac6cdca1e66699",
       "version_major": 2,
       "version_minor": 0
      },
      "text/plain": [
       "Batches:   0%|          | 0/1 [00:00<?, ?it/s]"
      ]
     },
     "metadata": {},
     "output_type": "display_data"
    },
    {
     "data": {
      "application/vnd.jupyter.widget-view+json": {
       "model_id": "f89be1b3cab4489cad7d52e0e5d56347",
       "version_major": 2,
       "version_minor": 0
      },
      "text/plain": [
       "Batches:   0%|          | 0/1 [00:00<?, ?it/s]"
      ]
     },
     "metadata": {},
     "output_type": "display_data"
    },
    {
     "data": {
      "application/vnd.jupyter.widget-view+json": {
       "model_id": "ad651e03fc6445cfaf9763d7f3c6e465",
       "version_major": 2,
       "version_minor": 0
      },
      "text/plain": [
       "Batches:   0%|          | 0/1 [00:00<?, ?it/s]"
      ]
     },
     "metadata": {},
     "output_type": "display_data"
    },
    {
     "data": {
      "application/vnd.jupyter.widget-view+json": {
       "model_id": "8d8f377c26ac4b98b302a7099ac5d5eb",
       "version_major": 2,
       "version_minor": 0
      },
      "text/plain": [
       "Batches:   0%|          | 0/1 [00:00<?, ?it/s]"
      ]
     },
     "metadata": {},
     "output_type": "display_data"
    },
    {
     "data": {
      "application/vnd.jupyter.widget-view+json": {
       "model_id": "c1eeae3889d34b738b06592c7ace67aa",
       "version_major": 2,
       "version_minor": 0
      },
      "text/plain": [
       "Batches:   0%|          | 0/1 [00:00<?, ?it/s]"
      ]
     },
     "metadata": {},
     "output_type": "display_data"
    },
    {
     "data": {
      "application/vnd.jupyter.widget-view+json": {
       "model_id": "e8f1da88a6cb4bd79f4031fb0a9c20ee",
       "version_major": 2,
       "version_minor": 0
      },
      "text/plain": [
       "Batches:   0%|          | 0/1 [00:00<?, ?it/s]"
      ]
     },
     "metadata": {},
     "output_type": "display_data"
    },
    {
     "data": {
      "application/vnd.jupyter.widget-view+json": {
       "model_id": "3151ae29a3c64eefb747f650fb9bdd11",
       "version_major": 2,
       "version_minor": 0
      },
      "text/plain": [
       "Batches:   0%|          | 0/1 [00:00<?, ?it/s]"
      ]
     },
     "metadata": {},
     "output_type": "display_data"
    },
    {
     "data": {
      "application/vnd.jupyter.widget-view+json": {
       "model_id": "da6e71fe0a4445d8b11e235fe3ae3779",
       "version_major": 2,
       "version_minor": 0
      },
      "text/plain": [
       "Batches:   0%|          | 0/1 [00:00<?, ?it/s]"
      ]
     },
     "metadata": {},
     "output_type": "display_data"
    },
    {
     "data": {
      "application/vnd.jupyter.widget-view+json": {
       "model_id": "2a6b819a1d7045c5955634ed034c3bc8",
       "version_major": 2,
       "version_minor": 0
      },
      "text/plain": [
       "Batches:   0%|          | 0/1 [00:00<?, ?it/s]"
      ]
     },
     "metadata": {},
     "output_type": "display_data"
    },
    {
     "data": {
      "application/vnd.jupyter.widget-view+json": {
       "model_id": "1d71779db35846b897de2ef068ab6564",
       "version_major": 2,
       "version_minor": 0
      },
      "text/plain": [
       "Batches:   0%|          | 0/1 [00:00<?, ?it/s]"
      ]
     },
     "metadata": {},
     "output_type": "display_data"
    },
    {
     "data": {
      "application/vnd.jupyter.widget-view+json": {
       "model_id": "f28ea1ef463747988228ba5a94e80d48",
       "version_major": 2,
       "version_minor": 0
      },
      "text/plain": [
       "Batches:   0%|          | 0/1 [00:00<?, ?it/s]"
      ]
     },
     "metadata": {},
     "output_type": "display_data"
    },
    {
     "data": {
      "application/vnd.jupyter.widget-view+json": {
       "model_id": "f19641b59b984369a922cd6acd44bfe9",
       "version_major": 2,
       "version_minor": 0
      },
      "text/plain": [
       "Batches:   0%|          | 0/1 [00:00<?, ?it/s]"
      ]
     },
     "metadata": {},
     "output_type": "display_data"
    },
    {
     "data": {
      "application/vnd.jupyter.widget-view+json": {
       "model_id": "af220d4e17fa4964abe317dd077394ce",
       "version_major": 2,
       "version_minor": 0
      },
      "text/plain": [
       "Batches:   0%|          | 0/1 [00:00<?, ?it/s]"
      ]
     },
     "metadata": {},
     "output_type": "display_data"
    },
    {
     "data": {
      "application/vnd.jupyter.widget-view+json": {
       "model_id": "58222d0822e34f68b86ecd8f1003f9b8",
       "version_major": 2,
       "version_minor": 0
      },
      "text/plain": [
       "Batches:   0%|          | 0/1 [00:00<?, ?it/s]"
      ]
     },
     "metadata": {},
     "output_type": "display_data"
    },
    {
     "data": {
      "application/vnd.jupyter.widget-view+json": {
       "model_id": "af710ee2e8b941acbf5ed4573fdc80da",
       "version_major": 2,
       "version_minor": 0
      },
      "text/plain": [
       "Batches:   0%|          | 0/1 [00:00<?, ?it/s]"
      ]
     },
     "metadata": {},
     "output_type": "display_data"
    },
    {
     "data": {
      "application/vnd.jupyter.widget-view+json": {
       "model_id": "1073bf62f47f4d35b31934108191faa1",
       "version_major": 2,
       "version_minor": 0
      },
      "text/plain": [
       "Batches:   0%|          | 0/1 [00:00<?, ?it/s]"
      ]
     },
     "metadata": {},
     "output_type": "display_data"
    },
    {
     "data": {
      "application/vnd.jupyter.widget-view+json": {
       "model_id": "8142b7fc33454ae7865eb710cd79403a",
       "version_major": 2,
       "version_minor": 0
      },
      "text/plain": [
       "Batches:   0%|          | 0/1 [00:00<?, ?it/s]"
      ]
     },
     "metadata": {},
     "output_type": "display_data"
    },
    {
     "data": {
      "application/vnd.jupyter.widget-view+json": {
       "model_id": "8aa103510aa546c7b3c3c01fe989fe95",
       "version_major": 2,
       "version_minor": 0
      },
      "text/plain": [
       "Batches:   0%|          | 0/1 [00:00<?, ?it/s]"
      ]
     },
     "metadata": {},
     "output_type": "display_data"
    },
    {
     "data": {
      "application/vnd.jupyter.widget-view+json": {
       "model_id": "74c8bd16ce164d8ba7de5cefb13f93ec",
       "version_major": 2,
       "version_minor": 0
      },
      "text/plain": [
       "Batches:   0%|          | 0/1 [00:00<?, ?it/s]"
      ]
     },
     "metadata": {},
     "output_type": "display_data"
    },
    {
     "data": {
      "application/vnd.jupyter.widget-view+json": {
       "model_id": "f4bd0502057848ef93ee1c0ee7f708f1",
       "version_major": 2,
       "version_minor": 0
      },
      "text/plain": [
       "Batches:   0%|          | 0/1 [00:00<?, ?it/s]"
      ]
     },
     "metadata": {},
     "output_type": "display_data"
    },
    {
     "data": {
      "application/vnd.jupyter.widget-view+json": {
       "model_id": "c2ce8fd24731488d9dbff0e25706ff7e",
       "version_major": 2,
       "version_minor": 0
      },
      "text/plain": [
       "Batches:   0%|          | 0/1 [00:00<?, ?it/s]"
      ]
     },
     "metadata": {},
     "output_type": "display_data"
    },
    {
     "data": {
      "application/vnd.jupyter.widget-view+json": {
       "model_id": "f838208f01e04fd187337c17cc35b0d3",
       "version_major": 2,
       "version_minor": 0
      },
      "text/plain": [
       "Batches:   0%|          | 0/1 [00:00<?, ?it/s]"
      ]
     },
     "metadata": {},
     "output_type": "display_data"
    },
    {
     "data": {
      "application/vnd.jupyter.widget-view+json": {
       "model_id": "b0949f9beb8148268ac51d6db9d09497",
       "version_major": 2,
       "version_minor": 0
      },
      "text/plain": [
       "Batches:   0%|          | 0/1 [00:00<?, ?it/s]"
      ]
     },
     "metadata": {},
     "output_type": "display_data"
    },
    {
     "data": {
      "application/vnd.jupyter.widget-view+json": {
       "model_id": "245c65783b2b4624bc26153eaeb8a0c1",
       "version_major": 2,
       "version_minor": 0
      },
      "text/plain": [
       "Batches:   0%|          | 0/1 [00:00<?, ?it/s]"
      ]
     },
     "metadata": {},
     "output_type": "display_data"
    },
    {
     "data": {
      "application/vnd.jupyter.widget-view+json": {
       "model_id": "156fce6ca92147dea3bc5a5e8073ab4c",
       "version_major": 2,
       "version_minor": 0
      },
      "text/plain": [
       "Batches:   0%|          | 0/1 [00:00<?, ?it/s]"
      ]
     },
     "metadata": {},
     "output_type": "display_data"
    },
    {
     "data": {
      "application/vnd.jupyter.widget-view+json": {
       "model_id": "7fd6d6a3df814975aaa3b3227140443c",
       "version_major": 2,
       "version_minor": 0
      },
      "text/plain": [
       "Batches:   0%|          | 0/1 [00:00<?, ?it/s]"
      ]
     },
     "metadata": {},
     "output_type": "display_data"
    },
    {
     "data": {
      "application/vnd.jupyter.widget-view+json": {
       "model_id": "f7f2dd687611461bb2ca81f00c2e65c4",
       "version_major": 2,
       "version_minor": 0
      },
      "text/plain": [
       "Batches:   0%|          | 0/1 [00:00<?, ?it/s]"
      ]
     },
     "metadata": {},
     "output_type": "display_data"
    },
    {
     "data": {
      "application/vnd.jupyter.widget-view+json": {
       "model_id": "0767331b29da4cbba090d7da54c0c6cf",
       "version_major": 2,
       "version_minor": 0
      },
      "text/plain": [
       "Batches:   0%|          | 0/1 [00:00<?, ?it/s]"
      ]
     },
     "metadata": {},
     "output_type": "display_data"
    },
    {
     "data": {
      "application/vnd.jupyter.widget-view+json": {
       "model_id": "48c746fdfe0d47878d10b6a11aab1de6",
       "version_major": 2,
       "version_minor": 0
      },
      "text/plain": [
       "Batches:   0%|          | 0/1 [00:00<?, ?it/s]"
      ]
     },
     "metadata": {},
     "output_type": "display_data"
    },
    {
     "data": {
      "application/vnd.jupyter.widget-view+json": {
       "model_id": "04513c77cc364b7da7e183a6177209e0",
       "version_major": 2,
       "version_minor": 0
      },
      "text/plain": [
       "Batches:   0%|          | 0/1 [00:00<?, ?it/s]"
      ]
     },
     "metadata": {},
     "output_type": "display_data"
    },
    {
     "data": {
      "application/vnd.jupyter.widget-view+json": {
       "model_id": "ad278db50f644cd09bd40208873a6215",
       "version_major": 2,
       "version_minor": 0
      },
      "text/plain": [
       "Batches:   0%|          | 0/1 [00:00<?, ?it/s]"
      ]
     },
     "metadata": {},
     "output_type": "display_data"
    },
    {
     "data": {
      "application/vnd.jupyter.widget-view+json": {
       "model_id": "efb806d0c1654b32a107117fd0299fce",
       "version_major": 2,
       "version_minor": 0
      },
      "text/plain": [
       "Batches:   0%|          | 0/1 [00:00<?, ?it/s]"
      ]
     },
     "metadata": {},
     "output_type": "display_data"
    },
    {
     "data": {
      "application/vnd.jupyter.widget-view+json": {
       "model_id": "eda99ec3597f4f229cbbf424acd57741",
       "version_major": 2,
       "version_minor": 0
      },
      "text/plain": [
       "Batches:   0%|          | 0/1 [00:00<?, ?it/s]"
      ]
     },
     "metadata": {},
     "output_type": "display_data"
    },
    {
     "data": {
      "application/vnd.jupyter.widget-view+json": {
       "model_id": "a0a854d38c0d4bc88a8693665453ff4f",
       "version_major": 2,
       "version_minor": 0
      },
      "text/plain": [
       "Batches:   0%|          | 0/1 [00:00<?, ?it/s]"
      ]
     },
     "metadata": {},
     "output_type": "display_data"
    },
    {
     "data": {
      "application/vnd.jupyter.widget-view+json": {
       "model_id": "3df8988dc04942289b49656c02a688f8",
       "version_major": 2,
       "version_minor": 0
      },
      "text/plain": [
       "Batches:   0%|          | 0/1 [00:00<?, ?it/s]"
      ]
     },
     "metadata": {},
     "output_type": "display_data"
    },
    {
     "data": {
      "application/vnd.jupyter.widget-view+json": {
       "model_id": "d14b3abf76554e9d95a99de95fd782c4",
       "version_major": 2,
       "version_minor": 0
      },
      "text/plain": [
       "Batches:   0%|          | 0/1 [00:00<?, ?it/s]"
      ]
     },
     "metadata": {},
     "output_type": "display_data"
    },
    {
     "data": {
      "application/vnd.jupyter.widget-view+json": {
       "model_id": "68c40fa72c3a409d9496574a7105ebc8",
       "version_major": 2,
       "version_minor": 0
      },
      "text/plain": [
       "Batches:   0%|          | 0/1 [00:00<?, ?it/s]"
      ]
     },
     "metadata": {},
     "output_type": "display_data"
    },
    {
     "data": {
      "application/vnd.jupyter.widget-view+json": {
       "model_id": "9907cbc7bfd142d0ba9b8df140ce3666",
       "version_major": 2,
       "version_minor": 0
      },
      "text/plain": [
       "Batches:   0%|          | 0/1 [00:00<?, ?it/s]"
      ]
     },
     "metadata": {},
     "output_type": "display_data"
    },
    {
     "data": {
      "application/vnd.jupyter.widget-view+json": {
       "model_id": "e91448a91da1414ba32c3c6a87371c04",
       "version_major": 2,
       "version_minor": 0
      },
      "text/plain": [
       "Batches:   0%|          | 0/1 [00:00<?, ?it/s]"
      ]
     },
     "metadata": {},
     "output_type": "display_data"
    },
    {
     "data": {
      "application/vnd.jupyter.widget-view+json": {
       "model_id": "d3403d78b59541f8b645b8f445f5ca0e",
       "version_major": 2,
       "version_minor": 0
      },
      "text/plain": [
       "Batches:   0%|          | 0/1 [00:00<?, ?it/s]"
      ]
     },
     "metadata": {},
     "output_type": "display_data"
    },
    {
     "data": {
      "application/vnd.jupyter.widget-view+json": {
       "model_id": "f6cbb65e4246437796127d6e08518f93",
       "version_major": 2,
       "version_minor": 0
      },
      "text/plain": [
       "Batches:   0%|          | 0/1 [00:00<?, ?it/s]"
      ]
     },
     "metadata": {},
     "output_type": "display_data"
    },
    {
     "data": {
      "application/vnd.jupyter.widget-view+json": {
       "model_id": "fe41b34940b043f08371e4c6c68201d9",
       "version_major": 2,
       "version_minor": 0
      },
      "text/plain": [
       "Batches:   0%|          | 0/1 [00:00<?, ?it/s]"
      ]
     },
     "metadata": {},
     "output_type": "display_data"
    },
    {
     "data": {
      "application/vnd.jupyter.widget-view+json": {
       "model_id": "89e22a48b3c24c789acdeb41dfa7f564",
       "version_major": 2,
       "version_minor": 0
      },
      "text/plain": [
       "Batches:   0%|          | 0/1 [00:00<?, ?it/s]"
      ]
     },
     "metadata": {},
     "output_type": "display_data"
    },
    {
     "data": {
      "application/vnd.jupyter.widget-view+json": {
       "model_id": "10071252264f4729a8dd3b0bcaf20e95",
       "version_major": 2,
       "version_minor": 0
      },
      "text/plain": [
       "Batches:   0%|          | 0/1 [00:00<?, ?it/s]"
      ]
     },
     "metadata": {},
     "output_type": "display_data"
    },
    {
     "data": {
      "application/vnd.jupyter.widget-view+json": {
       "model_id": "be2f8b3240004fe386da4422593f983e",
       "version_major": 2,
       "version_minor": 0
      },
      "text/plain": [
       "Batches:   0%|          | 0/1 [00:00<?, ?it/s]"
      ]
     },
     "metadata": {},
     "output_type": "display_data"
    },
    {
     "data": {
      "application/vnd.jupyter.widget-view+json": {
       "model_id": "45336c265b5e442cb611bc2c3cf4595c",
       "version_major": 2,
       "version_minor": 0
      },
      "text/plain": [
       "Batches:   0%|          | 0/1 [00:00<?, ?it/s]"
      ]
     },
     "metadata": {},
     "output_type": "display_data"
    },
    {
     "data": {
      "application/vnd.jupyter.widget-view+json": {
       "model_id": "bb978657da4a4ee0bba942c407f27b4d",
       "version_major": 2,
       "version_minor": 0
      },
      "text/plain": [
       "Batches:   0%|          | 0/1 [00:00<?, ?it/s]"
      ]
     },
     "metadata": {},
     "output_type": "display_data"
    },
    {
     "data": {
      "application/vnd.jupyter.widget-view+json": {
       "model_id": "d2fa44a35beb4aa98acf2a5228d72aa4",
       "version_major": 2,
       "version_minor": 0
      },
      "text/plain": [
       "Batches:   0%|          | 0/1 [00:00<?, ?it/s]"
      ]
     },
     "metadata": {},
     "output_type": "display_data"
    },
    {
     "data": {
      "application/vnd.jupyter.widget-view+json": {
       "model_id": "6bb2fb713deb420b8e1f11bc4e5500d9",
       "version_major": 2,
       "version_minor": 0
      },
      "text/plain": [
       "Batches:   0%|          | 0/1 [00:00<?, ?it/s]"
      ]
     },
     "metadata": {},
     "output_type": "display_data"
    },
    {
     "data": {
      "application/vnd.jupyter.widget-view+json": {
       "model_id": "d6152ba4be64494d8e0e59dde927b26e",
       "version_major": 2,
       "version_minor": 0
      },
      "text/plain": [
       "Batches:   0%|          | 0/1 [00:00<?, ?it/s]"
      ]
     },
     "metadata": {},
     "output_type": "display_data"
    },
    {
     "data": {
      "application/vnd.jupyter.widget-view+json": {
       "model_id": "f6d2d3ebee8048a095c59489cdbc17c4",
       "version_major": 2,
       "version_minor": 0
      },
      "text/plain": [
       "Batches:   0%|          | 0/1 [00:00<?, ?it/s]"
      ]
     },
     "metadata": {},
     "output_type": "display_data"
    },
    {
     "data": {
      "application/vnd.jupyter.widget-view+json": {
       "model_id": "8cae1b59da7647f5b624aef61860e862",
       "version_major": 2,
       "version_minor": 0
      },
      "text/plain": [
       "Batches:   0%|          | 0/1 [00:00<?, ?it/s]"
      ]
     },
     "metadata": {},
     "output_type": "display_data"
    },
    {
     "data": {
      "application/vnd.jupyter.widget-view+json": {
       "model_id": "765524d984544528bf9ccc9beb6203d9",
       "version_major": 2,
       "version_minor": 0
      },
      "text/plain": [
       "Batches:   0%|          | 0/1 [00:00<?, ?it/s]"
      ]
     },
     "metadata": {},
     "output_type": "display_data"
    },
    {
     "data": {
      "application/vnd.jupyter.widget-view+json": {
       "model_id": "ad4a48288e124f5b90a283b214114c87",
       "version_major": 2,
       "version_minor": 0
      },
      "text/plain": [
       "Batches:   0%|          | 0/1 [00:00<?, ?it/s]"
      ]
     },
     "metadata": {},
     "output_type": "display_data"
    },
    {
     "data": {
      "application/vnd.jupyter.widget-view+json": {
       "model_id": "78dc3964b6d54afea89032b579a3216e",
       "version_major": 2,
       "version_minor": 0
      },
      "text/plain": [
       "Batches:   0%|          | 0/1 [00:00<?, ?it/s]"
      ]
     },
     "metadata": {},
     "output_type": "display_data"
    },
    {
     "data": {
      "application/vnd.jupyter.widget-view+json": {
       "model_id": "66831a12d4844d0f8c548792e9c33e36",
       "version_major": 2,
       "version_minor": 0
      },
      "text/plain": [
       "Batches:   0%|          | 0/1 [00:00<?, ?it/s]"
      ]
     },
     "metadata": {},
     "output_type": "display_data"
    },
    {
     "data": {
      "application/vnd.jupyter.widget-view+json": {
       "model_id": "ae5ee0d519554ebf8694d5b82770306d",
       "version_major": 2,
       "version_minor": 0
      },
      "text/plain": [
       "Batches:   0%|          | 0/1 [00:00<?, ?it/s]"
      ]
     },
     "metadata": {},
     "output_type": "display_data"
    },
    {
     "data": {
      "application/vnd.jupyter.widget-view+json": {
       "model_id": "dbeef7689c9749a38fc41860a3922311",
       "version_major": 2,
       "version_minor": 0
      },
      "text/plain": [
       "Batches:   0%|          | 0/1 [00:00<?, ?it/s]"
      ]
     },
     "metadata": {},
     "output_type": "display_data"
    },
    {
     "data": {
      "application/vnd.jupyter.widget-view+json": {
       "model_id": "d350f4b14eec4fff9827e3822539aae8",
       "version_major": 2,
       "version_minor": 0
      },
      "text/plain": [
       "Batches:   0%|          | 0/1 [00:00<?, ?it/s]"
      ]
     },
     "metadata": {},
     "output_type": "display_data"
    },
    {
     "data": {
      "application/vnd.jupyter.widget-view+json": {
       "model_id": "3bc0e80272c946648533b813a972efe0",
       "version_major": 2,
       "version_minor": 0
      },
      "text/plain": [
       "Batches:   0%|          | 0/1 [00:00<?, ?it/s]"
      ]
     },
     "metadata": {},
     "output_type": "display_data"
    },
    {
     "data": {
      "application/vnd.jupyter.widget-view+json": {
       "model_id": "ab25627d354d4742a481826d45089281",
       "version_major": 2,
       "version_minor": 0
      },
      "text/plain": [
       "Batches:   0%|          | 0/1 [00:00<?, ?it/s]"
      ]
     },
     "metadata": {},
     "output_type": "display_data"
    },
    {
     "data": {
      "application/vnd.jupyter.widget-view+json": {
       "model_id": "9d8c6619e7a442a5a5d5b096f6c11ccb",
       "version_major": 2,
       "version_minor": 0
      },
      "text/plain": [
       "Batches:   0%|          | 0/1 [00:00<?, ?it/s]"
      ]
     },
     "metadata": {},
     "output_type": "display_data"
    },
    {
     "data": {
      "application/vnd.jupyter.widget-view+json": {
       "model_id": "491eee4b4ccc439aaab26b351ae606c9",
       "version_major": 2,
       "version_minor": 0
      },
      "text/plain": [
       "Batches:   0%|          | 0/1 [00:00<?, ?it/s]"
      ]
     },
     "metadata": {},
     "output_type": "display_data"
    },
    {
     "data": {
      "application/vnd.jupyter.widget-view+json": {
       "model_id": "ab1d8fbc788a4d32b70d11c67ae62e6b",
       "version_major": 2,
       "version_minor": 0
      },
      "text/plain": [
       "Batches:   0%|          | 0/1 [00:00<?, ?it/s]"
      ]
     },
     "metadata": {},
     "output_type": "display_data"
    },
    {
     "data": {
      "application/vnd.jupyter.widget-view+json": {
       "model_id": "6652c581cc3f479ba5de0fb85b5bc6b0",
       "version_major": 2,
       "version_minor": 0
      },
      "text/plain": [
       "Batches:   0%|          | 0/1 [00:00<?, ?it/s]"
      ]
     },
     "metadata": {},
     "output_type": "display_data"
    },
    {
     "data": {
      "application/vnd.jupyter.widget-view+json": {
       "model_id": "523cf68c59574c3e8c17963788181a66",
       "version_major": 2,
       "version_minor": 0
      },
      "text/plain": [
       "Batches:   0%|          | 0/1 [00:00<?, ?it/s]"
      ]
     },
     "metadata": {},
     "output_type": "display_data"
    },
    {
     "data": {
      "application/vnd.jupyter.widget-view+json": {
       "model_id": "f1fac286051e456fa5293e5203366959",
       "version_major": 2,
       "version_minor": 0
      },
      "text/plain": [
       "Batches:   0%|          | 0/1 [00:00<?, ?it/s]"
      ]
     },
     "metadata": {},
     "output_type": "display_data"
    },
    {
     "data": {
      "application/vnd.jupyter.widget-view+json": {
       "model_id": "0e9fba43adf84f4f9f6bdbe111f2d987",
       "version_major": 2,
       "version_minor": 0
      },
      "text/plain": [
       "Batches:   0%|          | 0/1 [00:00<?, ?it/s]"
      ]
     },
     "metadata": {},
     "output_type": "display_data"
    },
    {
     "data": {
      "application/vnd.jupyter.widget-view+json": {
       "model_id": "5ec2c696a6b5453cb51d19340ed3368a",
       "version_major": 2,
       "version_minor": 0
      },
      "text/plain": [
       "Batches:   0%|          | 0/1 [00:00<?, ?it/s]"
      ]
     },
     "metadata": {},
     "output_type": "display_data"
    },
    {
     "data": {
      "application/vnd.jupyter.widget-view+json": {
       "model_id": "38fbc5400ed24f76bbe4528f80c097b4",
       "version_major": 2,
       "version_minor": 0
      },
      "text/plain": [
       "Batches:   0%|          | 0/1 [00:00<?, ?it/s]"
      ]
     },
     "metadata": {},
     "output_type": "display_data"
    },
    {
     "data": {
      "application/vnd.jupyter.widget-view+json": {
       "model_id": "0f9f0df1a8d24a86bb55803bb5919fdb",
       "version_major": 2,
       "version_minor": 0
      },
      "text/plain": [
       "Batches:   0%|          | 0/1 [00:00<?, ?it/s]"
      ]
     },
     "metadata": {},
     "output_type": "display_data"
    },
    {
     "data": {
      "application/vnd.jupyter.widget-view+json": {
       "model_id": "a9e114aea9bc425c97c62f4d88bbea21",
       "version_major": 2,
       "version_minor": 0
      },
      "text/plain": [
       "Batches:   0%|          | 0/1 [00:00<?, ?it/s]"
      ]
     },
     "metadata": {},
     "output_type": "display_data"
    },
    {
     "data": {
      "application/vnd.jupyter.widget-view+json": {
       "model_id": "7531de6530ff435d97db2002da390d0d",
       "version_major": 2,
       "version_minor": 0
      },
      "text/plain": [
       "Batches:   0%|          | 0/1 [00:00<?, ?it/s]"
      ]
     },
     "metadata": {},
     "output_type": "display_data"
    },
    {
     "data": {
      "application/vnd.jupyter.widget-view+json": {
       "model_id": "3a8f1c1645004f8c9807d94cf149af84",
       "version_major": 2,
       "version_minor": 0
      },
      "text/plain": [
       "Batches:   0%|          | 0/1 [00:00<?, ?it/s]"
      ]
     },
     "metadata": {},
     "output_type": "display_data"
    },
    {
     "data": {
      "application/vnd.jupyter.widget-view+json": {
       "model_id": "62170f08ad4a40b9a5228ff203380ebd",
       "version_major": 2,
       "version_minor": 0
      },
      "text/plain": [
       "Batches:   0%|          | 0/1 [00:00<?, ?it/s]"
      ]
     },
     "metadata": {},
     "output_type": "display_data"
    },
    {
     "data": {
      "application/vnd.jupyter.widget-view+json": {
       "model_id": "564d95cff16240afafc5daabe0b847a3",
       "version_major": 2,
       "version_minor": 0
      },
      "text/plain": [
       "Batches:   0%|          | 0/1 [00:00<?, ?it/s]"
      ]
     },
     "metadata": {},
     "output_type": "display_data"
    },
    {
     "data": {
      "application/vnd.jupyter.widget-view+json": {
       "model_id": "16f58de1dad848908cef74d0707aefe1",
       "version_major": 2,
       "version_minor": 0
      },
      "text/plain": [
       "Batches:   0%|          | 0/1 [00:00<?, ?it/s]"
      ]
     },
     "metadata": {},
     "output_type": "display_data"
    },
    {
     "data": {
      "application/vnd.jupyter.widget-view+json": {
       "model_id": "2ff2084441a14173a14d44dd8354ab13",
       "version_major": 2,
       "version_minor": 0
      },
      "text/plain": [
       "Batches:   0%|          | 0/1 [00:00<?, ?it/s]"
      ]
     },
     "metadata": {},
     "output_type": "display_data"
    },
    {
     "data": {
      "application/vnd.jupyter.widget-view+json": {
       "model_id": "023fe600cfeb406b81bf1808299f449d",
       "version_major": 2,
       "version_minor": 0
      },
      "text/plain": [
       "Batches:   0%|          | 0/1 [00:00<?, ?it/s]"
      ]
     },
     "metadata": {},
     "output_type": "display_data"
    },
    {
     "data": {
      "application/vnd.jupyter.widget-view+json": {
       "model_id": "74f18989bfc344408b8ec90c21d13808",
       "version_major": 2,
       "version_minor": 0
      },
      "text/plain": [
       "Batches:   0%|          | 0/1 [00:00<?, ?it/s]"
      ]
     },
     "metadata": {},
     "output_type": "display_data"
    },
    {
     "data": {
      "application/vnd.jupyter.widget-view+json": {
       "model_id": "c4c8cf5701ee40298f4dbee27d439715",
       "version_major": 2,
       "version_minor": 0
      },
      "text/plain": [
       "Batches:   0%|          | 0/1 [00:00<?, ?it/s]"
      ]
     },
     "metadata": {},
     "output_type": "display_data"
    },
    {
     "data": {
      "application/vnd.jupyter.widget-view+json": {
       "model_id": "44c02ebf90d344c5987b4dcf973fed1c",
       "version_major": 2,
       "version_minor": 0
      },
      "text/plain": [
       "Batches:   0%|          | 0/1 [00:00<?, ?it/s]"
      ]
     },
     "metadata": {},
     "output_type": "display_data"
    },
    {
     "data": {
      "application/vnd.jupyter.widget-view+json": {
       "model_id": "ccd7c9a9152d4e1994555f58a1077776",
       "version_major": 2,
       "version_minor": 0
      },
      "text/plain": [
       "Batches:   0%|          | 0/1 [00:00<?, ?it/s]"
      ]
     },
     "metadata": {},
     "output_type": "display_data"
    },
    {
     "data": {
      "application/vnd.jupyter.widget-view+json": {
       "model_id": "14f9920a472d4c1697c726d3a7d44c55",
       "version_major": 2,
       "version_minor": 0
      },
      "text/plain": [
       "Batches:   0%|          | 0/1 [00:00<?, ?it/s]"
      ]
     },
     "metadata": {},
     "output_type": "display_data"
    },
    {
     "data": {
      "application/vnd.jupyter.widget-view+json": {
       "model_id": "7bc6db7ff3a9489f8502f5410d2d8d20",
       "version_major": 2,
       "version_minor": 0
      },
      "text/plain": [
       "Batches:   0%|          | 0/1 [00:00<?, ?it/s]"
      ]
     },
     "metadata": {},
     "output_type": "display_data"
    },
    {
     "data": {
      "application/vnd.jupyter.widget-view+json": {
       "model_id": "22093325ea094eaa8b2a62edbee626bc",
       "version_major": 2,
       "version_minor": 0
      },
      "text/plain": [
       "Batches:   0%|          | 0/1 [00:00<?, ?it/s]"
      ]
     },
     "metadata": {},
     "output_type": "display_data"
    },
    {
     "data": {
      "application/vnd.jupyter.widget-view+json": {
       "model_id": "98f0ddddcc364aaab65d6bfa00fc0789",
       "version_major": 2,
       "version_minor": 0
      },
      "text/plain": [
       "Batches:   0%|          | 0/1 [00:00<?, ?it/s]"
      ]
     },
     "metadata": {},
     "output_type": "display_data"
    },
    {
     "data": {
      "application/vnd.jupyter.widget-view+json": {
       "model_id": "622504047e1c4060ad073c0403e92146",
       "version_major": 2,
       "version_minor": 0
      },
      "text/plain": [
       "Batches:   0%|          | 0/1 [00:00<?, ?it/s]"
      ]
     },
     "metadata": {},
     "output_type": "display_data"
    },
    {
     "data": {
      "application/vnd.jupyter.widget-view+json": {
       "model_id": "808bb9f13e024b13bbb28e843ad33437",
       "version_major": 2,
       "version_minor": 0
      },
      "text/plain": [
       "Batches:   0%|          | 0/1 [00:00<?, ?it/s]"
      ]
     },
     "metadata": {},
     "output_type": "display_data"
    },
    {
     "data": {
      "application/vnd.jupyter.widget-view+json": {
       "model_id": "b1047ad3992a4e23a5aa36c7a76f8bfd",
       "version_major": 2,
       "version_minor": 0
      },
      "text/plain": [
       "Batches:   0%|          | 0/1 [00:00<?, ?it/s]"
      ]
     },
     "metadata": {},
     "output_type": "display_data"
    },
    {
     "data": {
      "application/vnd.jupyter.widget-view+json": {
       "model_id": "f1704fab5e694304b6fba905a641e47d",
       "version_major": 2,
       "version_minor": 0
      },
      "text/plain": [
       "Batches:   0%|          | 0/1 [00:00<?, ?it/s]"
      ]
     },
     "metadata": {},
     "output_type": "display_data"
    },
    {
     "data": {
      "application/vnd.jupyter.widget-view+json": {
       "model_id": "a47269afa5ac498283a23ab7102d8132",
       "version_major": 2,
       "version_minor": 0
      },
      "text/plain": [
       "Batches:   0%|          | 0/1 [00:00<?, ?it/s]"
      ]
     },
     "metadata": {},
     "output_type": "display_data"
    },
    {
     "data": {
      "application/vnd.jupyter.widget-view+json": {
       "model_id": "d540b3ca183e4c40a8d54d3ca886adb9",
       "version_major": 2,
       "version_minor": 0
      },
      "text/plain": [
       "Batches:   0%|          | 0/1 [00:00<?, ?it/s]"
      ]
     },
     "metadata": {},
     "output_type": "display_data"
    },
    {
     "data": {
      "application/vnd.jupyter.widget-view+json": {
       "model_id": "d66e4b8d3d0a432c93267ca261579175",
       "version_major": 2,
       "version_minor": 0
      },
      "text/plain": [
       "Batches:   0%|          | 0/1 [00:00<?, ?it/s]"
      ]
     },
     "metadata": {},
     "output_type": "display_data"
    },
    {
     "data": {
      "application/vnd.jupyter.widget-view+json": {
       "model_id": "b8f1589ca347447a8e7a7ff1b1f74016",
       "version_major": 2,
       "version_minor": 0
      },
      "text/plain": [
       "Batches:   0%|          | 0/1 [00:00<?, ?it/s]"
      ]
     },
     "metadata": {},
     "output_type": "display_data"
    },
    {
     "data": {
      "application/vnd.jupyter.widget-view+json": {
       "model_id": "b018bf58634c43a483af7fe917d877cb",
       "version_major": 2,
       "version_minor": 0
      },
      "text/plain": [
       "Batches:   0%|          | 0/1 [00:00<?, ?it/s]"
      ]
     },
     "metadata": {},
     "output_type": "display_data"
    },
    {
     "data": {
      "application/vnd.jupyter.widget-view+json": {
       "model_id": "e656d5ae2224413a8214fde12e052d06",
       "version_major": 2,
       "version_minor": 0
      },
      "text/plain": [
       "Batches:   0%|          | 0/1 [00:00<?, ?it/s]"
      ]
     },
     "metadata": {},
     "output_type": "display_data"
    },
    {
     "data": {
      "application/vnd.jupyter.widget-view+json": {
       "model_id": "dbd639db204c47db9be151a7274a4182",
       "version_major": 2,
       "version_minor": 0
      },
      "text/plain": [
       "Batches:   0%|          | 0/1 [00:00<?, ?it/s]"
      ]
     },
     "metadata": {},
     "output_type": "display_data"
    },
    {
     "data": {
      "application/vnd.jupyter.widget-view+json": {
       "model_id": "6d72c4fc17c74e3292fadd0bc9d3d893",
       "version_major": 2,
       "version_minor": 0
      },
      "text/plain": [
       "Batches:   0%|          | 0/1 [00:00<?, ?it/s]"
      ]
     },
     "metadata": {},
     "output_type": "display_data"
    },
    {
     "data": {
      "application/vnd.jupyter.widget-view+json": {
       "model_id": "cc038254e1c04be3aa7d90ed37546ab7",
       "version_major": 2,
       "version_minor": 0
      },
      "text/plain": [
       "Batches:   0%|          | 0/1 [00:00<?, ?it/s]"
      ]
     },
     "metadata": {},
     "output_type": "display_data"
    },
    {
     "data": {
      "application/vnd.jupyter.widget-view+json": {
       "model_id": "5f10635a7d1548a0a47f3fb3a0ee7327",
       "version_major": 2,
       "version_minor": 0
      },
      "text/plain": [
       "Batches:   0%|          | 0/1 [00:00<?, ?it/s]"
      ]
     },
     "metadata": {},
     "output_type": "display_data"
    },
    {
     "data": {
      "application/vnd.jupyter.widget-view+json": {
       "model_id": "277c8cb934624c1ead57e027945a47be",
       "version_major": 2,
       "version_minor": 0
      },
      "text/plain": [
       "Batches:   0%|          | 0/1 [00:00<?, ?it/s]"
      ]
     },
     "metadata": {},
     "output_type": "display_data"
    },
    {
     "data": {
      "application/vnd.jupyter.widget-view+json": {
       "model_id": "278842408e9844c588bcb427eae201d7",
       "version_major": 2,
       "version_minor": 0
      },
      "text/plain": [
       "Batches:   0%|          | 0/1 [00:00<?, ?it/s]"
      ]
     },
     "metadata": {},
     "output_type": "display_data"
    },
    {
     "data": {
      "application/vnd.jupyter.widget-view+json": {
       "model_id": "0b7a7af46aab4416992a5efba3988d38",
       "version_major": 2,
       "version_minor": 0
      },
      "text/plain": [
       "Batches:   0%|          | 0/1 [00:00<?, ?it/s]"
      ]
     },
     "metadata": {},
     "output_type": "display_data"
    },
    {
     "data": {
      "application/vnd.jupyter.widget-view+json": {
       "model_id": "684f57b54bf4468293d5b2c34bd461ac",
       "version_major": 2,
       "version_minor": 0
      },
      "text/plain": [
       "Batches:   0%|          | 0/1 [00:00<?, ?it/s]"
      ]
     },
     "metadata": {},
     "output_type": "display_data"
    },
    {
     "data": {
      "application/vnd.jupyter.widget-view+json": {
       "model_id": "650316d59c1f4fb3a8b0d444e0ea5263",
       "version_major": 2,
       "version_minor": 0
      },
      "text/plain": [
       "Batches:   0%|          | 0/1 [00:00<?, ?it/s]"
      ]
     },
     "metadata": {},
     "output_type": "display_data"
    },
    {
     "data": {
      "application/vnd.jupyter.widget-view+json": {
       "model_id": "c246f5786bfe44d3882f6012b92df212",
       "version_major": 2,
       "version_minor": 0
      },
      "text/plain": [
       "Batches:   0%|          | 0/1 [00:00<?, ?it/s]"
      ]
     },
     "metadata": {},
     "output_type": "display_data"
    },
    {
     "data": {
      "application/vnd.jupyter.widget-view+json": {
       "model_id": "61af303399984239aff47ccf3c9c10ec",
       "version_major": 2,
       "version_minor": 0
      },
      "text/plain": [
       "Batches:   0%|          | 0/1 [00:00<?, ?it/s]"
      ]
     },
     "metadata": {},
     "output_type": "display_data"
    },
    {
     "data": {
      "application/vnd.jupyter.widget-view+json": {
       "model_id": "860bb5ca9aba466683b3373be1c8045a",
       "version_major": 2,
       "version_minor": 0
      },
      "text/plain": [
       "Batches:   0%|          | 0/1 [00:00<?, ?it/s]"
      ]
     },
     "metadata": {},
     "output_type": "display_data"
    },
    {
     "data": {
      "application/vnd.jupyter.widget-view+json": {
       "model_id": "d092d827306344eaa08049669f3d2ff6",
       "version_major": 2,
       "version_minor": 0
      },
      "text/plain": [
       "Batches:   0%|          | 0/1 [00:00<?, ?it/s]"
      ]
     },
     "metadata": {},
     "output_type": "display_data"
    },
    {
     "data": {
      "application/vnd.jupyter.widget-view+json": {
       "model_id": "892f99acfb914a78b47dba73ad7e214d",
       "version_major": 2,
       "version_minor": 0
      },
      "text/plain": [
       "Batches:   0%|          | 0/1 [00:00<?, ?it/s]"
      ]
     },
     "metadata": {},
     "output_type": "display_data"
    },
    {
     "data": {
      "application/vnd.jupyter.widget-view+json": {
       "model_id": "ea485e7d5c564a2a968f9f59bcfc6ef9",
       "version_major": 2,
       "version_minor": 0
      },
      "text/plain": [
       "Batches:   0%|          | 0/1 [00:00<?, ?it/s]"
      ]
     },
     "metadata": {},
     "output_type": "display_data"
    },
    {
     "data": {
      "application/vnd.jupyter.widget-view+json": {
       "model_id": "8b627a2b1bc04d4a913c2f41a2a513ec",
       "version_major": 2,
       "version_minor": 0
      },
      "text/plain": [
       "Batches:   0%|          | 0/1 [00:00<?, ?it/s]"
      ]
     },
     "metadata": {},
     "output_type": "display_data"
    },
    {
     "data": {
      "application/vnd.jupyter.widget-view+json": {
       "model_id": "f1537b60ba0447d087d399868bb0ca9f",
       "version_major": 2,
       "version_minor": 0
      },
      "text/plain": [
       "Batches:   0%|          | 0/1 [00:00<?, ?it/s]"
      ]
     },
     "metadata": {},
     "output_type": "display_data"
    },
    {
     "data": {
      "application/vnd.jupyter.widget-view+json": {
       "model_id": "587b4e0182124080b47a007a87e86949",
       "version_major": 2,
       "version_minor": 0
      },
      "text/plain": [
       "Batches:   0%|          | 0/1 [00:00<?, ?it/s]"
      ]
     },
     "metadata": {},
     "output_type": "display_data"
    },
    {
     "data": {
      "application/vnd.jupyter.widget-view+json": {
       "model_id": "69f7f41a89d24d619393cc05d413ab26",
       "version_major": 2,
       "version_minor": 0
      },
      "text/plain": [
       "Batches:   0%|          | 0/1 [00:00<?, ?it/s]"
      ]
     },
     "metadata": {},
     "output_type": "display_data"
    },
    {
     "data": {
      "application/vnd.jupyter.widget-view+json": {
       "model_id": "d2215351fbcf42d5bfdbaf160133090f",
       "version_major": 2,
       "version_minor": 0
      },
      "text/plain": [
       "Batches:   0%|          | 0/1 [00:00<?, ?it/s]"
      ]
     },
     "metadata": {},
     "output_type": "display_data"
    },
    {
     "data": {
      "application/vnd.jupyter.widget-view+json": {
       "model_id": "f2a5c120f1d743d0acce4a182e00538c",
       "version_major": 2,
       "version_minor": 0
      },
      "text/plain": [
       "Batches:   0%|          | 0/1 [00:00<?, ?it/s]"
      ]
     },
     "metadata": {},
     "output_type": "display_data"
    },
    {
     "data": {
      "application/vnd.jupyter.widget-view+json": {
       "model_id": "9019fa96527b4d83af99f820b8b8ce21",
       "version_major": 2,
       "version_minor": 0
      },
      "text/plain": [
       "Batches:   0%|          | 0/1 [00:00<?, ?it/s]"
      ]
     },
     "metadata": {},
     "output_type": "display_data"
    },
    {
     "data": {
      "application/vnd.jupyter.widget-view+json": {
       "model_id": "91b430a863074dfabda995de4156608f",
       "version_major": 2,
       "version_minor": 0
      },
      "text/plain": [
       "Batches:   0%|          | 0/1 [00:00<?, ?it/s]"
      ]
     },
     "metadata": {},
     "output_type": "display_data"
    },
    {
     "data": {
      "application/vnd.jupyter.widget-view+json": {
       "model_id": "635427b33df74e869bd4d1bc783deef7",
       "version_major": 2,
       "version_minor": 0
      },
      "text/plain": [
       "Batches:   0%|          | 0/1 [00:00<?, ?it/s]"
      ]
     },
     "metadata": {},
     "output_type": "display_data"
    },
    {
     "data": {
      "application/vnd.jupyter.widget-view+json": {
       "model_id": "6d1957b26dc143c180f21b1b0bbec4b4",
       "version_major": 2,
       "version_minor": 0
      },
      "text/plain": [
       "Batches:   0%|          | 0/1 [00:00<?, ?it/s]"
      ]
     },
     "metadata": {},
     "output_type": "display_data"
    },
    {
     "data": {
      "application/vnd.jupyter.widget-view+json": {
       "model_id": "d2d236837bac43f19adc969bf6a7af7d",
       "version_major": 2,
       "version_minor": 0
      },
      "text/plain": [
       "Batches:   0%|          | 0/1 [00:00<?, ?it/s]"
      ]
     },
     "metadata": {},
     "output_type": "display_data"
    },
    {
     "data": {
      "application/vnd.jupyter.widget-view+json": {
       "model_id": "0338fada4a4740dea648127eff15d491",
       "version_major": 2,
       "version_minor": 0
      },
      "text/plain": [
       "Batches:   0%|          | 0/1 [00:00<?, ?it/s]"
      ]
     },
     "metadata": {},
     "output_type": "display_data"
    },
    {
     "data": {
      "application/vnd.jupyter.widget-view+json": {
       "model_id": "76bdbec99c2b428b9aad186ed421fc20",
       "version_major": 2,
       "version_minor": 0
      },
      "text/plain": [
       "Batches:   0%|          | 0/1 [00:00<?, ?it/s]"
      ]
     },
     "metadata": {},
     "output_type": "display_data"
    },
    {
     "data": {
      "application/vnd.jupyter.widget-view+json": {
       "model_id": "421c60bb2d3e44359a4abbe72708517a",
       "version_major": 2,
       "version_minor": 0
      },
      "text/plain": [
       "Batches:   0%|          | 0/1 [00:00<?, ?it/s]"
      ]
     },
     "metadata": {},
     "output_type": "display_data"
    },
    {
     "data": {
      "application/vnd.jupyter.widget-view+json": {
       "model_id": "264446de18754cfe82ea7727aeb7a71e",
       "version_major": 2,
       "version_minor": 0
      },
      "text/plain": [
       "Batches:   0%|          | 0/1 [00:00<?, ?it/s]"
      ]
     },
     "metadata": {},
     "output_type": "display_data"
    },
    {
     "data": {
      "application/vnd.jupyter.widget-view+json": {
       "model_id": "6e28236aef5e404faacafbcaa331f1bd",
       "version_major": 2,
       "version_minor": 0
      },
      "text/plain": [
       "Batches:   0%|          | 0/1 [00:00<?, ?it/s]"
      ]
     },
     "metadata": {},
     "output_type": "display_data"
    },
    {
     "data": {
      "application/vnd.jupyter.widget-view+json": {
       "model_id": "66eda347733149a7b6910e58f8d8fa7a",
       "version_major": 2,
       "version_minor": 0
      },
      "text/plain": [
       "Batches:   0%|          | 0/1 [00:00<?, ?it/s]"
      ]
     },
     "metadata": {},
     "output_type": "display_data"
    },
    {
     "data": {
      "application/vnd.jupyter.widget-view+json": {
       "model_id": "b429a0563a4045dab658cb1cb6d4f1bd",
       "version_major": 2,
       "version_minor": 0
      },
      "text/plain": [
       "Batches:   0%|          | 0/1 [00:00<?, ?it/s]"
      ]
     },
     "metadata": {},
     "output_type": "display_data"
    },
    {
     "data": {
      "application/vnd.jupyter.widget-view+json": {
       "model_id": "b37b01d98ad94d2795979dadd3fccf5f",
       "version_major": 2,
       "version_minor": 0
      },
      "text/plain": [
       "Batches:   0%|          | 0/1 [00:00<?, ?it/s]"
      ]
     },
     "metadata": {},
     "output_type": "display_data"
    },
    {
     "data": {
      "application/vnd.jupyter.widget-view+json": {
       "model_id": "b71da0696e654d9d92c4403b5ac6da33",
       "version_major": 2,
       "version_minor": 0
      },
      "text/plain": [
       "Batches:   0%|          | 0/1 [00:00<?, ?it/s]"
      ]
     },
     "metadata": {},
     "output_type": "display_data"
    },
    {
     "data": {
      "application/vnd.jupyter.widget-view+json": {
       "model_id": "19e4d233dc684dccb14d9f61b857deaf",
       "version_major": 2,
       "version_minor": 0
      },
      "text/plain": [
       "Batches:   0%|          | 0/1 [00:00<?, ?it/s]"
      ]
     },
     "metadata": {},
     "output_type": "display_data"
    },
    {
     "data": {
      "application/vnd.jupyter.widget-view+json": {
       "model_id": "46fe8a2913f344a88c43974a102ec8e6",
       "version_major": 2,
       "version_minor": 0
      },
      "text/plain": [
       "Batches:   0%|          | 0/1 [00:00<?, ?it/s]"
      ]
     },
     "metadata": {},
     "output_type": "display_data"
    },
    {
     "data": {
      "application/vnd.jupyter.widget-view+json": {
       "model_id": "dc4b95067a5b4cbab736c17fbb32788c",
       "version_major": 2,
       "version_minor": 0
      },
      "text/plain": [
       "Batches:   0%|          | 0/1 [00:00<?, ?it/s]"
      ]
     },
     "metadata": {},
     "output_type": "display_data"
    },
    {
     "data": {
      "application/vnd.jupyter.widget-view+json": {
       "model_id": "8f63974c4cb74664972e918816f6df7d",
       "version_major": 2,
       "version_minor": 0
      },
      "text/plain": [
       "Batches:   0%|          | 0/1 [00:00<?, ?it/s]"
      ]
     },
     "metadata": {},
     "output_type": "display_data"
    },
    {
     "data": {
      "application/vnd.jupyter.widget-view+json": {
       "model_id": "8182e8172f144a8b823a76c054083b74",
       "version_major": 2,
       "version_minor": 0
      },
      "text/plain": [
       "Batches:   0%|          | 0/1 [00:00<?, ?it/s]"
      ]
     },
     "metadata": {},
     "output_type": "display_data"
    },
    {
     "data": {
      "application/vnd.jupyter.widget-view+json": {
       "model_id": "2e495092b1a147c2a44ed6c2c387c8f4",
       "version_major": 2,
       "version_minor": 0
      },
      "text/plain": [
       "Batches:   0%|          | 0/1 [00:00<?, ?it/s]"
      ]
     },
     "metadata": {},
     "output_type": "display_data"
    },
    {
     "data": {
      "application/vnd.jupyter.widget-view+json": {
       "model_id": "65dc1adc7d234c709255f690f0e0143d",
       "version_major": 2,
       "version_minor": 0
      },
      "text/plain": [
       "Batches:   0%|          | 0/1 [00:00<?, ?it/s]"
      ]
     },
     "metadata": {},
     "output_type": "display_data"
    },
    {
     "data": {
      "application/vnd.jupyter.widget-view+json": {
       "model_id": "e623e87b03ed48e6a49ec7131fa99014",
       "version_major": 2,
       "version_minor": 0
      },
      "text/plain": [
       "Batches:   0%|          | 0/1 [00:00<?, ?it/s]"
      ]
     },
     "metadata": {},
     "output_type": "display_data"
    },
    {
     "data": {
      "application/vnd.jupyter.widget-view+json": {
       "model_id": "d7a2530b167d4e4fb68ef23a1ddfa0b3",
       "version_major": 2,
       "version_minor": 0
      },
      "text/plain": [
       "Batches:   0%|          | 0/1 [00:00<?, ?it/s]"
      ]
     },
     "metadata": {},
     "output_type": "display_data"
    },
    {
     "data": {
      "application/vnd.jupyter.widget-view+json": {
       "model_id": "5ba0e43823fa47f4bb7a2685f02f8f41",
       "version_major": 2,
       "version_minor": 0
      },
      "text/plain": [
       "Batches:   0%|          | 0/1 [00:00<?, ?it/s]"
      ]
     },
     "metadata": {},
     "output_type": "display_data"
    },
    {
     "data": {
      "application/vnd.jupyter.widget-view+json": {
       "model_id": "b65cd3d0094c4eeca9847c64903b140f",
       "version_major": 2,
       "version_minor": 0
      },
      "text/plain": [
       "Batches:   0%|          | 0/1 [00:00<?, ?it/s]"
      ]
     },
     "metadata": {},
     "output_type": "display_data"
    },
    {
     "data": {
      "application/vnd.jupyter.widget-view+json": {
       "model_id": "145e139f55174ab6bff505b8b79d13c4",
       "version_major": 2,
       "version_minor": 0
      },
      "text/plain": [
       "Batches:   0%|          | 0/1 [00:00<?, ?it/s]"
      ]
     },
     "metadata": {},
     "output_type": "display_data"
    },
    {
     "data": {
      "application/vnd.jupyter.widget-view+json": {
       "model_id": "20ac7095874a4f3b8686401ff29d6f4e",
       "version_major": 2,
       "version_minor": 0
      },
      "text/plain": [
       "Batches:   0%|          | 0/1 [00:00<?, ?it/s]"
      ]
     },
     "metadata": {},
     "output_type": "display_data"
    },
    {
     "data": {
      "application/vnd.jupyter.widget-view+json": {
       "model_id": "f8fdd330618e472989a88c7f42e5473c",
       "version_major": 2,
       "version_minor": 0
      },
      "text/plain": [
       "Batches:   0%|          | 0/1 [00:00<?, ?it/s]"
      ]
     },
     "metadata": {},
     "output_type": "display_data"
    },
    {
     "data": {
      "application/vnd.jupyter.widget-view+json": {
       "model_id": "09b96ab1f670418d900a137105c231e6",
       "version_major": 2,
       "version_minor": 0
      },
      "text/plain": [
       "Batches:   0%|          | 0/1 [00:00<?, ?it/s]"
      ]
     },
     "metadata": {},
     "output_type": "display_data"
    },
    {
     "data": {
      "application/vnd.jupyter.widget-view+json": {
       "model_id": "168b0c35ebfb44ea987ac305a7beb434",
       "version_major": 2,
       "version_minor": 0
      },
      "text/plain": [
       "Batches:   0%|          | 0/1 [00:00<?, ?it/s]"
      ]
     },
     "metadata": {},
     "output_type": "display_data"
    },
    {
     "data": {
      "application/vnd.jupyter.widget-view+json": {
       "model_id": "a1bcdf4c95c24e52b338a18768fa5367",
       "version_major": 2,
       "version_minor": 0
      },
      "text/plain": [
       "Batches:   0%|          | 0/1 [00:00<?, ?it/s]"
      ]
     },
     "metadata": {},
     "output_type": "display_data"
    },
    {
     "data": {
      "application/vnd.jupyter.widget-view+json": {
       "model_id": "ed7e9712dfc6477ba414ab35faec154f",
       "version_major": 2,
       "version_minor": 0
      },
      "text/plain": [
       "Batches:   0%|          | 0/1 [00:00<?, ?it/s]"
      ]
     },
     "metadata": {},
     "output_type": "display_data"
    },
    {
     "data": {
      "application/vnd.jupyter.widget-view+json": {
       "model_id": "07a9a8e462134a5dbf76cdfa1484a2e5",
       "version_major": 2,
       "version_minor": 0
      },
      "text/plain": [
       "Batches:   0%|          | 0/1 [00:00<?, ?it/s]"
      ]
     },
     "metadata": {},
     "output_type": "display_data"
    },
    {
     "data": {
      "application/vnd.jupyter.widget-view+json": {
       "model_id": "408a93166a5647d8a8cde5cf3a6b2c7a",
       "version_major": 2,
       "version_minor": 0
      },
      "text/plain": [
       "Batches:   0%|          | 0/1 [00:00<?, ?it/s]"
      ]
     },
     "metadata": {},
     "output_type": "display_data"
    },
    {
     "data": {
      "application/vnd.jupyter.widget-view+json": {
       "model_id": "f97aeffa9a864af7a3644f63d6f342c4",
       "version_major": 2,
       "version_minor": 0
      },
      "text/plain": [
       "Batches:   0%|          | 0/1 [00:00<?, ?it/s]"
      ]
     },
     "metadata": {},
     "output_type": "display_data"
    },
    {
     "data": {
      "application/vnd.jupyter.widget-view+json": {
       "model_id": "923708fd60ca4e7c926d3662f53d3242",
       "version_major": 2,
       "version_minor": 0
      },
      "text/plain": [
       "Batches:   0%|          | 0/1 [00:00<?, ?it/s]"
      ]
     },
     "metadata": {},
     "output_type": "display_data"
    },
    {
     "data": {
      "application/vnd.jupyter.widget-view+json": {
       "model_id": "6e9c1b4681ea4083b7dcc97ae39ab2bc",
       "version_major": 2,
       "version_minor": 0
      },
      "text/plain": [
       "Batches:   0%|          | 0/1 [00:00<?, ?it/s]"
      ]
     },
     "metadata": {},
     "output_type": "display_data"
    },
    {
     "data": {
      "application/vnd.jupyter.widget-view+json": {
       "model_id": "65119dcb34a546d38e788dbc9de5f2d7",
       "version_major": 2,
       "version_minor": 0
      },
      "text/plain": [
       "Batches:   0%|          | 0/1 [00:00<?, ?it/s]"
      ]
     },
     "metadata": {},
     "output_type": "display_data"
    },
    {
     "data": {
      "application/vnd.jupyter.widget-view+json": {
       "model_id": "bcd897316f7a4011bc886104eb48ea77",
       "version_major": 2,
       "version_minor": 0
      },
      "text/plain": [
       "Batches:   0%|          | 0/1 [00:00<?, ?it/s]"
      ]
     },
     "metadata": {},
     "output_type": "display_data"
    },
    {
     "data": {
      "application/vnd.jupyter.widget-view+json": {
       "model_id": "cd344283480f4146b7a476768c42f413",
       "version_major": 2,
       "version_minor": 0
      },
      "text/plain": [
       "Batches:   0%|          | 0/1 [00:00<?, ?it/s]"
      ]
     },
     "metadata": {},
     "output_type": "display_data"
    },
    {
     "data": {
      "application/vnd.jupyter.widget-view+json": {
       "model_id": "c92dccb085414dbd81513cf2eb867801",
       "version_major": 2,
       "version_minor": 0
      },
      "text/plain": [
       "Batches:   0%|          | 0/1 [00:00<?, ?it/s]"
      ]
     },
     "metadata": {},
     "output_type": "display_data"
    },
    {
     "data": {
      "application/vnd.jupyter.widget-view+json": {
       "model_id": "b70a2e10785b42579f1877d7bf1f984f",
       "version_major": 2,
       "version_minor": 0
      },
      "text/plain": [
       "Batches:   0%|          | 0/1 [00:00<?, ?it/s]"
      ]
     },
     "metadata": {},
     "output_type": "display_data"
    },
    {
     "data": {
      "application/vnd.jupyter.widget-view+json": {
       "model_id": "0674119fd18947f0a20a8798381f32f1",
       "version_major": 2,
       "version_minor": 0
      },
      "text/plain": [
       "Batches:   0%|          | 0/1 [00:00<?, ?it/s]"
      ]
     },
     "metadata": {},
     "output_type": "display_data"
    },
    {
     "data": {
      "application/vnd.jupyter.widget-view+json": {
       "model_id": "fae120f59f5c4eb99dfc13b1603314d2",
       "version_major": 2,
       "version_minor": 0
      },
      "text/plain": [
       "Batches:   0%|          | 0/1 [00:00<?, ?it/s]"
      ]
     },
     "metadata": {},
     "output_type": "display_data"
    },
    {
     "data": {
      "application/vnd.jupyter.widget-view+json": {
       "model_id": "ed3f9795385c42d980cf5d8810e40f47",
       "version_major": 2,
       "version_minor": 0
      },
      "text/plain": [
       "Batches:   0%|          | 0/1 [00:00<?, ?it/s]"
      ]
     },
     "metadata": {},
     "output_type": "display_data"
    },
    {
     "data": {
      "application/vnd.jupyter.widget-view+json": {
       "model_id": "618cf833f30641eeb492dde33f5c5749",
       "version_major": 2,
       "version_minor": 0
      },
      "text/plain": [
       "Batches:   0%|          | 0/1 [00:00<?, ?it/s]"
      ]
     },
     "metadata": {},
     "output_type": "display_data"
    },
    {
     "data": {
      "application/vnd.jupyter.widget-view+json": {
       "model_id": "b41c9347efc748ff9d1168b307615915",
       "version_major": 2,
       "version_minor": 0
      },
      "text/plain": [
       "Batches:   0%|          | 0/1 [00:00<?, ?it/s]"
      ]
     },
     "metadata": {},
     "output_type": "display_data"
    },
    {
     "data": {
      "application/vnd.jupyter.widget-view+json": {
       "model_id": "ba41e7e9e8fb4d6292d950f21f953205",
       "version_major": 2,
       "version_minor": 0
      },
      "text/plain": [
       "Batches:   0%|          | 0/1 [00:00<?, ?it/s]"
      ]
     },
     "metadata": {},
     "output_type": "display_data"
    },
    {
     "data": {
      "application/vnd.jupyter.widget-view+json": {
       "model_id": "a5838d1159ff46b8950a5f0b1d44ce7a",
       "version_major": 2,
       "version_minor": 0
      },
      "text/plain": [
       "Batches:   0%|          | 0/1 [00:00<?, ?it/s]"
      ]
     },
     "metadata": {},
     "output_type": "display_data"
    },
    {
     "data": {
      "application/vnd.jupyter.widget-view+json": {
       "model_id": "abd63632d235477eba27b827cfc0cc90",
       "version_major": 2,
       "version_minor": 0
      },
      "text/plain": [
       "Batches:   0%|          | 0/1 [00:00<?, ?it/s]"
      ]
     },
     "metadata": {},
     "output_type": "display_data"
    },
    {
     "data": {
      "application/vnd.jupyter.widget-view+json": {
       "model_id": "06911fb917614652921d8848ad41d7a7",
       "version_major": 2,
       "version_minor": 0
      },
      "text/plain": [
       "Batches:   0%|          | 0/1 [00:00<?, ?it/s]"
      ]
     },
     "metadata": {},
     "output_type": "display_data"
    },
    {
     "data": {
      "application/vnd.jupyter.widget-view+json": {
       "model_id": "570119b233734a59b884b8e9f396b1b3",
       "version_major": 2,
       "version_minor": 0
      },
      "text/plain": [
       "Batches:   0%|          | 0/1 [00:00<?, ?it/s]"
      ]
     },
     "metadata": {},
     "output_type": "display_data"
    },
    {
     "data": {
      "application/vnd.jupyter.widget-view+json": {
       "model_id": "5370d5ccf7924a059c18f173b852265f",
       "version_major": 2,
       "version_minor": 0
      },
      "text/plain": [
       "Batches:   0%|          | 0/1 [00:00<?, ?it/s]"
      ]
     },
     "metadata": {},
     "output_type": "display_data"
    },
    {
     "data": {
      "application/vnd.jupyter.widget-view+json": {
       "model_id": "fe208261a94b483297fc361e46596fe7",
       "version_major": 2,
       "version_minor": 0
      },
      "text/plain": [
       "Batches:   0%|          | 0/1 [00:00<?, ?it/s]"
      ]
     },
     "metadata": {},
     "output_type": "display_data"
    },
    {
     "data": {
      "application/vnd.jupyter.widget-view+json": {
       "model_id": "85248696d3d74df1b04d0f14a7644cdd",
       "version_major": 2,
       "version_minor": 0
      },
      "text/plain": [
       "Batches:   0%|          | 0/1 [00:00<?, ?it/s]"
      ]
     },
     "metadata": {},
     "output_type": "display_data"
    },
    {
     "data": {
      "application/vnd.jupyter.widget-view+json": {
       "model_id": "ccbdc1a89ca24f2592b75653728c9a4e",
       "version_major": 2,
       "version_minor": 0
      },
      "text/plain": [
       "Batches:   0%|          | 0/1 [00:00<?, ?it/s]"
      ]
     },
     "metadata": {},
     "output_type": "display_data"
    },
    {
     "data": {
      "application/vnd.jupyter.widget-view+json": {
       "model_id": "a28843f2e58b45408b518bc329ebc385",
       "version_major": 2,
       "version_minor": 0
      },
      "text/plain": [
       "Batches:   0%|          | 0/1 [00:00<?, ?it/s]"
      ]
     },
     "metadata": {},
     "output_type": "display_data"
    },
    {
     "data": {
      "application/vnd.jupyter.widget-view+json": {
       "model_id": "c8dba353a30e42e0adfaf259165e7034",
       "version_major": 2,
       "version_minor": 0
      },
      "text/plain": [
       "Batches:   0%|          | 0/1 [00:00<?, ?it/s]"
      ]
     },
     "metadata": {},
     "output_type": "display_data"
    },
    {
     "data": {
      "application/vnd.jupyter.widget-view+json": {
       "model_id": "950bff9ff2dd4ac0966eb57b5051f0e4",
       "version_major": 2,
       "version_minor": 0
      },
      "text/plain": [
       "Batches:   0%|          | 0/1 [00:00<?, ?it/s]"
      ]
     },
     "metadata": {},
     "output_type": "display_data"
    },
    {
     "data": {
      "application/vnd.jupyter.widget-view+json": {
       "model_id": "eae29d6d4b874db99506ec736fa713ec",
       "version_major": 2,
       "version_minor": 0
      },
      "text/plain": [
       "Batches:   0%|          | 0/1 [00:00<?, ?it/s]"
      ]
     },
     "metadata": {},
     "output_type": "display_data"
    },
    {
     "data": {
      "application/vnd.jupyter.widget-view+json": {
       "model_id": "ef172f973b8e41aca026497b34456306",
       "version_major": 2,
       "version_minor": 0
      },
      "text/plain": [
       "Batches:   0%|          | 0/1 [00:00<?, ?it/s]"
      ]
     },
     "metadata": {},
     "output_type": "display_data"
    },
    {
     "data": {
      "application/vnd.jupyter.widget-view+json": {
       "model_id": "de4237855fc04a56bb7cccc0c8c9f470",
       "version_major": 2,
       "version_minor": 0
      },
      "text/plain": [
       "Batches:   0%|          | 0/1 [00:00<?, ?it/s]"
      ]
     },
     "metadata": {},
     "output_type": "display_data"
    },
    {
     "data": {
      "application/vnd.jupyter.widget-view+json": {
       "model_id": "e0bd896d1762493981bcd36d537fddbd",
       "version_major": 2,
       "version_minor": 0
      },
      "text/plain": [
       "Batches:   0%|          | 0/1 [00:00<?, ?it/s]"
      ]
     },
     "metadata": {},
     "output_type": "display_data"
    },
    {
     "data": {
      "application/vnd.jupyter.widget-view+json": {
       "model_id": "3935521cd0f64e958ef5b463ca0f8ce2",
       "version_major": 2,
       "version_minor": 0
      },
      "text/plain": [
       "Batches:   0%|          | 0/1 [00:00<?, ?it/s]"
      ]
     },
     "metadata": {},
     "output_type": "display_data"
    },
    {
     "data": {
      "application/vnd.jupyter.widget-view+json": {
       "model_id": "72fea05500fe4805866866336aa2e858",
       "version_major": 2,
       "version_minor": 0
      },
      "text/plain": [
       "Batches:   0%|          | 0/1 [00:00<?, ?it/s]"
      ]
     },
     "metadata": {},
     "output_type": "display_data"
    },
    {
     "data": {
      "application/vnd.jupyter.widget-view+json": {
       "model_id": "dd743910b39a4c8d858efa8a1e138583",
       "version_major": 2,
       "version_minor": 0
      },
      "text/plain": [
       "Batches:   0%|          | 0/1 [00:00<?, ?it/s]"
      ]
     },
     "metadata": {},
     "output_type": "display_data"
    },
    {
     "data": {
      "application/vnd.jupyter.widget-view+json": {
       "model_id": "5a7f503776144c82bb780b4f3c892133",
       "version_major": 2,
       "version_minor": 0
      },
      "text/plain": [
       "Batches:   0%|          | 0/1 [00:00<?, ?it/s]"
      ]
     },
     "metadata": {},
     "output_type": "display_data"
    },
    {
     "data": {
      "application/vnd.jupyter.widget-view+json": {
       "model_id": "25daf642362847b29f92b58acdc384e0",
       "version_major": 2,
       "version_minor": 0
      },
      "text/plain": [
       "Batches:   0%|          | 0/1 [00:00<?, ?it/s]"
      ]
     },
     "metadata": {},
     "output_type": "display_data"
    },
    {
     "data": {
      "application/vnd.jupyter.widget-view+json": {
       "model_id": "5921f0092d8440d793a94ca9249f290c",
       "version_major": 2,
       "version_minor": 0
      },
      "text/plain": [
       "Batches:   0%|          | 0/1 [00:00<?, ?it/s]"
      ]
     },
     "metadata": {},
     "output_type": "display_data"
    },
    {
     "data": {
      "application/vnd.jupyter.widget-view+json": {
       "model_id": "e978fb09291945a487d9e6e67570c478",
       "version_major": 2,
       "version_minor": 0
      },
      "text/plain": [
       "Batches:   0%|          | 0/1 [00:00<?, ?it/s]"
      ]
     },
     "metadata": {},
     "output_type": "display_data"
    },
    {
     "data": {
      "application/vnd.jupyter.widget-view+json": {
       "model_id": "bb886a84220b4d9d8fe867d6811d83bb",
       "version_major": 2,
       "version_minor": 0
      },
      "text/plain": [
       "Batches:   0%|          | 0/1 [00:00<?, ?it/s]"
      ]
     },
     "metadata": {},
     "output_type": "display_data"
    },
    {
     "data": {
      "application/vnd.jupyter.widget-view+json": {
       "model_id": "a5cbd847398a4605b9261c6c9861c974",
       "version_major": 2,
       "version_minor": 0
      },
      "text/plain": [
       "Batches:   0%|          | 0/1 [00:00<?, ?it/s]"
      ]
     },
     "metadata": {},
     "output_type": "display_data"
    },
    {
     "data": {
      "application/vnd.jupyter.widget-view+json": {
       "model_id": "7c3ff6c3501c4fc9a802d567cd7dfba0",
       "version_major": 2,
       "version_minor": 0
      },
      "text/plain": [
       "Batches:   0%|          | 0/1 [00:00<?, ?it/s]"
      ]
     },
     "metadata": {},
     "output_type": "display_data"
    },
    {
     "data": {
      "application/vnd.jupyter.widget-view+json": {
       "model_id": "85489f70a32e48e7af431b5b3d6abec2",
       "version_major": 2,
       "version_minor": 0
      },
      "text/plain": [
       "Batches:   0%|          | 0/1 [00:00<?, ?it/s]"
      ]
     },
     "metadata": {},
     "output_type": "display_data"
    },
    {
     "data": {
      "application/vnd.jupyter.widget-view+json": {
       "model_id": "9e68e97916014cd399b96661b2bf6d0a",
       "version_major": 2,
       "version_minor": 0
      },
      "text/plain": [
       "Batches:   0%|          | 0/1 [00:00<?, ?it/s]"
      ]
     },
     "metadata": {},
     "output_type": "display_data"
    },
    {
     "data": {
      "application/vnd.jupyter.widget-view+json": {
       "model_id": "cc24cb11cc8b475ca99d1c45cb7a539a",
       "version_major": 2,
       "version_minor": 0
      },
      "text/plain": [
       "Batches:   0%|          | 0/1 [00:00<?, ?it/s]"
      ]
     },
     "metadata": {},
     "output_type": "display_data"
    },
    {
     "data": {
      "application/vnd.jupyter.widget-view+json": {
       "model_id": "59fa78b7b2d44e6794377c58a0fd1606",
       "version_major": 2,
       "version_minor": 0
      },
      "text/plain": [
       "Batches:   0%|          | 0/1 [00:00<?, ?it/s]"
      ]
     },
     "metadata": {},
     "output_type": "display_data"
    },
    {
     "data": {
      "application/vnd.jupyter.widget-view+json": {
       "model_id": "2a5ee7f87d6f4b35b9f484cc8e91a716",
       "version_major": 2,
       "version_minor": 0
      },
      "text/plain": [
       "Batches:   0%|          | 0/1 [00:00<?, ?it/s]"
      ]
     },
     "metadata": {},
     "output_type": "display_data"
    },
    {
     "data": {
      "application/vnd.jupyter.widget-view+json": {
       "model_id": "fd4eabc32d5a48ceb66d279b1270a426",
       "version_major": 2,
       "version_minor": 0
      },
      "text/plain": [
       "Batches:   0%|          | 0/1 [00:00<?, ?it/s]"
      ]
     },
     "metadata": {},
     "output_type": "display_data"
    },
    {
     "data": {
      "application/vnd.jupyter.widget-view+json": {
       "model_id": "7c414bf648b8473cb854e3a2604f2d80",
       "version_major": 2,
       "version_minor": 0
      },
      "text/plain": [
       "Batches:   0%|          | 0/1 [00:00<?, ?it/s]"
      ]
     },
     "metadata": {},
     "output_type": "display_data"
    },
    {
     "data": {
      "application/vnd.jupyter.widget-view+json": {
       "model_id": "a59bbf79a9de421c858e2331394f0142",
       "version_major": 2,
       "version_minor": 0
      },
      "text/plain": [
       "Batches:   0%|          | 0/1 [00:00<?, ?it/s]"
      ]
     },
     "metadata": {},
     "output_type": "display_data"
    },
    {
     "data": {
      "application/vnd.jupyter.widget-view+json": {
       "model_id": "495dddf01a024c269c28e5ec82afae80",
       "version_major": 2,
       "version_minor": 0
      },
      "text/plain": [
       "Batches:   0%|          | 0/1 [00:00<?, ?it/s]"
      ]
     },
     "metadata": {},
     "output_type": "display_data"
    },
    {
     "data": {
      "application/vnd.jupyter.widget-view+json": {
       "model_id": "ce7adec1e7fa4c13b01353f8edf74a54",
       "version_major": 2,
       "version_minor": 0
      },
      "text/plain": [
       "Batches:   0%|          | 0/1 [00:00<?, ?it/s]"
      ]
     },
     "metadata": {},
     "output_type": "display_data"
    },
    {
     "data": {
      "application/vnd.jupyter.widget-view+json": {
       "model_id": "646b728a72b44218988e6568120bf172",
       "version_major": 2,
       "version_minor": 0
      },
      "text/plain": [
       "Batches:   0%|          | 0/1 [00:00<?, ?it/s]"
      ]
     },
     "metadata": {},
     "output_type": "display_data"
    },
    {
     "data": {
      "application/vnd.jupyter.widget-view+json": {
       "model_id": "ae40492016fc418384e3bc7462d3ff6d",
       "version_major": 2,
       "version_minor": 0
      },
      "text/plain": [
       "Batches:   0%|          | 0/1 [00:00<?, ?it/s]"
      ]
     },
     "metadata": {},
     "output_type": "display_data"
    },
    {
     "data": {
      "application/vnd.jupyter.widget-view+json": {
       "model_id": "c88580c117f248e28bffac19998d012e",
       "version_major": 2,
       "version_minor": 0
      },
      "text/plain": [
       "Batches:   0%|          | 0/1 [00:00<?, ?it/s]"
      ]
     },
     "metadata": {},
     "output_type": "display_data"
    },
    {
     "data": {
      "application/vnd.jupyter.widget-view+json": {
       "model_id": "be3c909db4424cd59849872c52d6c3eb",
       "version_major": 2,
       "version_minor": 0
      },
      "text/plain": [
       "Batches:   0%|          | 0/1 [00:00<?, ?it/s]"
      ]
     },
     "metadata": {},
     "output_type": "display_data"
    },
    {
     "data": {
      "application/vnd.jupyter.widget-view+json": {
       "model_id": "5fb024db4d3b4f69bdbe5040f55db932",
       "version_major": 2,
       "version_minor": 0
      },
      "text/plain": [
       "Batches:   0%|          | 0/1 [00:00<?, ?it/s]"
      ]
     },
     "metadata": {},
     "output_type": "display_data"
    },
    {
     "data": {
      "application/vnd.jupyter.widget-view+json": {
       "model_id": "01348338b1eb493cb8a0a5fde7e9fb2c",
       "version_major": 2,
       "version_minor": 0
      },
      "text/plain": [
       "Batches:   0%|          | 0/1 [00:00<?, ?it/s]"
      ]
     },
     "metadata": {},
     "output_type": "display_data"
    },
    {
     "data": {
      "application/vnd.jupyter.widget-view+json": {
       "model_id": "195dfafd05e7473bb5d549a4a114b462",
       "version_major": 2,
       "version_minor": 0
      },
      "text/plain": [
       "Batches:   0%|          | 0/1 [00:00<?, ?it/s]"
      ]
     },
     "metadata": {},
     "output_type": "display_data"
    },
    {
     "data": {
      "application/vnd.jupyter.widget-view+json": {
       "model_id": "ec813603250f497899a2de0a60a1067b",
       "version_major": 2,
       "version_minor": 0
      },
      "text/plain": [
       "Batches:   0%|          | 0/1 [00:00<?, ?it/s]"
      ]
     },
     "metadata": {},
     "output_type": "display_data"
    },
    {
     "data": {
      "application/vnd.jupyter.widget-view+json": {
       "model_id": "95ed5582e38d41ef9a34862679b875df",
       "version_major": 2,
       "version_minor": 0
      },
      "text/plain": [
       "Batches:   0%|          | 0/1 [00:00<?, ?it/s]"
      ]
     },
     "metadata": {},
     "output_type": "display_data"
    },
    {
     "data": {
      "application/vnd.jupyter.widget-view+json": {
       "model_id": "97a5b436b0124e7fb3c9f87e393195a6",
       "version_major": 2,
       "version_minor": 0
      },
      "text/plain": [
       "Batches:   0%|          | 0/1 [00:00<?, ?it/s]"
      ]
     },
     "metadata": {},
     "output_type": "display_data"
    },
    {
     "data": {
      "application/vnd.jupyter.widget-view+json": {
       "model_id": "2f1f93e1a45942eba098eba694e682af",
       "version_major": 2,
       "version_minor": 0
      },
      "text/plain": [
       "Batches:   0%|          | 0/1 [00:00<?, ?it/s]"
      ]
     },
     "metadata": {},
     "output_type": "display_data"
    },
    {
     "data": {
      "application/vnd.jupyter.widget-view+json": {
       "model_id": "64aee6934fa5421d9aec33c14277a3e6",
       "version_major": 2,
       "version_minor": 0
      },
      "text/plain": [
       "Batches:   0%|          | 0/1 [00:00<?, ?it/s]"
      ]
     },
     "metadata": {},
     "output_type": "display_data"
    },
    {
     "data": {
      "application/vnd.jupyter.widget-view+json": {
       "model_id": "e09eb75f9c7f413e871c047b877376e2",
       "version_major": 2,
       "version_minor": 0
      },
      "text/plain": [
       "Batches:   0%|          | 0/1 [00:00<?, ?it/s]"
      ]
     },
     "metadata": {},
     "output_type": "display_data"
    },
    {
     "data": {
      "application/vnd.jupyter.widget-view+json": {
       "model_id": "c6b5a389673b4c0fa1d8f753b66f8d89",
       "version_major": 2,
       "version_minor": 0
      },
      "text/plain": [
       "Batches:   0%|          | 0/1 [00:00<?, ?it/s]"
      ]
     },
     "metadata": {},
     "output_type": "display_data"
    },
    {
     "data": {
      "application/vnd.jupyter.widget-view+json": {
       "model_id": "51ce2d9b041e4056a3a9c0c9b6c0dee7",
       "version_major": 2,
       "version_minor": 0
      },
      "text/plain": [
       "Batches:   0%|          | 0/1 [00:00<?, ?it/s]"
      ]
     },
     "metadata": {},
     "output_type": "display_data"
    },
    {
     "data": {
      "application/vnd.jupyter.widget-view+json": {
       "model_id": "03987d56acbc4047894b61e17681eb70",
       "version_major": 2,
       "version_minor": 0
      },
      "text/plain": [
       "Batches:   0%|          | 0/1 [00:00<?, ?it/s]"
      ]
     },
     "metadata": {},
     "output_type": "display_data"
    },
    {
     "data": {
      "application/vnd.jupyter.widget-view+json": {
       "model_id": "31e4493b7d974ef0944a326d160235d6",
       "version_major": 2,
       "version_minor": 0
      },
      "text/plain": [
       "Batches:   0%|          | 0/1 [00:00<?, ?it/s]"
      ]
     },
     "metadata": {},
     "output_type": "display_data"
    },
    {
     "data": {
      "application/vnd.jupyter.widget-view+json": {
       "model_id": "7608142c402f4773afb0ede432e11862",
       "version_major": 2,
       "version_minor": 0
      },
      "text/plain": [
       "Batches:   0%|          | 0/1 [00:00<?, ?it/s]"
      ]
     },
     "metadata": {},
     "output_type": "display_data"
    },
    {
     "data": {
      "application/vnd.jupyter.widget-view+json": {
       "model_id": "0a61c28df7854185814fb9064cdd03f1",
       "version_major": 2,
       "version_minor": 0
      },
      "text/plain": [
       "Batches:   0%|          | 0/1 [00:00<?, ?it/s]"
      ]
     },
     "metadata": {},
     "output_type": "display_data"
    },
    {
     "data": {
      "application/vnd.jupyter.widget-view+json": {
       "model_id": "9c7f600ccecd4ff8843ee7aac0d13ee8",
       "version_major": 2,
       "version_minor": 0
      },
      "text/plain": [
       "Batches:   0%|          | 0/1 [00:00<?, ?it/s]"
      ]
     },
     "metadata": {},
     "output_type": "display_data"
    },
    {
     "data": {
      "application/vnd.jupyter.widget-view+json": {
       "model_id": "2bbe62861cbb48af9a8ab00ea477790e",
       "version_major": 2,
       "version_minor": 0
      },
      "text/plain": [
       "Batches:   0%|          | 0/1 [00:00<?, ?it/s]"
      ]
     },
     "metadata": {},
     "output_type": "display_data"
    },
    {
     "data": {
      "application/vnd.jupyter.widget-view+json": {
       "model_id": "39d7e25b05c84434a0f438cea1c8e2fb",
       "version_major": 2,
       "version_minor": 0
      },
      "text/plain": [
       "Batches:   0%|          | 0/1 [00:00<?, ?it/s]"
      ]
     },
     "metadata": {},
     "output_type": "display_data"
    },
    {
     "data": {
      "application/vnd.jupyter.widget-view+json": {
       "model_id": "22039f89b3cd441ea05125ab79036a4e",
       "version_major": 2,
       "version_minor": 0
      },
      "text/plain": [
       "Batches:   0%|          | 0/1 [00:00<?, ?it/s]"
      ]
     },
     "metadata": {},
     "output_type": "display_data"
    },
    {
     "data": {
      "application/vnd.jupyter.widget-view+json": {
       "model_id": "9fb2b572adbb493bbf4d8d5aeaced605",
       "version_major": 2,
       "version_minor": 0
      },
      "text/plain": [
       "Batches:   0%|          | 0/1 [00:00<?, ?it/s]"
      ]
     },
     "metadata": {},
     "output_type": "display_data"
    },
    {
     "data": {
      "application/vnd.jupyter.widget-view+json": {
       "model_id": "b2e84a99032647d88e229c20bf2a8c59",
       "version_major": 2,
       "version_minor": 0
      },
      "text/plain": [
       "Batches:   0%|          | 0/1 [00:00<?, ?it/s]"
      ]
     },
     "metadata": {},
     "output_type": "display_data"
    },
    {
     "data": {
      "application/vnd.jupyter.widget-view+json": {
       "model_id": "9ae0bbd1715945dc939aa2480ff6b572",
       "version_major": 2,
       "version_minor": 0
      },
      "text/plain": [
       "Batches:   0%|          | 0/1 [00:00<?, ?it/s]"
      ]
     },
     "metadata": {},
     "output_type": "display_data"
    },
    {
     "data": {
      "application/vnd.jupyter.widget-view+json": {
       "model_id": "83166cfbe1d84c409996b9891f73f60a",
       "version_major": 2,
       "version_minor": 0
      },
      "text/plain": [
       "Batches:   0%|          | 0/1 [00:00<?, ?it/s]"
      ]
     },
     "metadata": {},
     "output_type": "display_data"
    },
    {
     "data": {
      "application/vnd.jupyter.widget-view+json": {
       "model_id": "1d26477d71884b059eec042095b40b6b",
       "version_major": 2,
       "version_minor": 0
      },
      "text/plain": [
       "Batches:   0%|          | 0/1 [00:00<?, ?it/s]"
      ]
     },
     "metadata": {},
     "output_type": "display_data"
    },
    {
     "data": {
      "application/vnd.jupyter.widget-view+json": {
       "model_id": "cde9a6e20c7f417f9d15f9b3d261758f",
       "version_major": 2,
       "version_minor": 0
      },
      "text/plain": [
       "Batches:   0%|          | 0/1 [00:00<?, ?it/s]"
      ]
     },
     "metadata": {},
     "output_type": "display_data"
    },
    {
     "data": {
      "application/vnd.jupyter.widget-view+json": {
       "model_id": "1ccbdc0e87514430b4babbde69aea2d1",
       "version_major": 2,
       "version_minor": 0
      },
      "text/plain": [
       "Batches:   0%|          | 0/1 [00:00<?, ?it/s]"
      ]
     },
     "metadata": {},
     "output_type": "display_data"
    },
    {
     "data": {
      "application/vnd.jupyter.widget-view+json": {
       "model_id": "9841fb513c4a47a9b9177dc5e9377f02",
       "version_major": 2,
       "version_minor": 0
      },
      "text/plain": [
       "Batches:   0%|          | 0/1 [00:00<?, ?it/s]"
      ]
     },
     "metadata": {},
     "output_type": "display_data"
    },
    {
     "data": {
      "application/vnd.jupyter.widget-view+json": {
       "model_id": "8e32da72dd76424ca8fcecb2a5ea4104",
       "version_major": 2,
       "version_minor": 0
      },
      "text/plain": [
       "Batches:   0%|          | 0/1 [00:00<?, ?it/s]"
      ]
     },
     "metadata": {},
     "output_type": "display_data"
    },
    {
     "data": {
      "application/vnd.jupyter.widget-view+json": {
       "model_id": "258392d6b7654827b8524747bc3d2177",
       "version_major": 2,
       "version_minor": 0
      },
      "text/plain": [
       "Batches:   0%|          | 0/1 [00:00<?, ?it/s]"
      ]
     },
     "metadata": {},
     "output_type": "display_data"
    },
    {
     "data": {
      "application/vnd.jupyter.widget-view+json": {
       "model_id": "277c70658a0b42d2ab699879fae82d25",
       "version_major": 2,
       "version_minor": 0
      },
      "text/plain": [
       "Batches:   0%|          | 0/1 [00:00<?, ?it/s]"
      ]
     },
     "metadata": {},
     "output_type": "display_data"
    },
    {
     "data": {
      "application/vnd.jupyter.widget-view+json": {
       "model_id": "061ce20c4e8545eebdfa0e2f473208ba",
       "version_major": 2,
       "version_minor": 0
      },
      "text/plain": [
       "Batches:   0%|          | 0/1 [00:00<?, ?it/s]"
      ]
     },
     "metadata": {},
     "output_type": "display_data"
    },
    {
     "data": {
      "application/vnd.jupyter.widget-view+json": {
       "model_id": "90adf043df364b5ab213da65ca502b58",
       "version_major": 2,
       "version_minor": 0
      },
      "text/plain": [
       "Batches:   0%|          | 0/1 [00:00<?, ?it/s]"
      ]
     },
     "metadata": {},
     "output_type": "display_data"
    },
    {
     "data": {
      "application/vnd.jupyter.widget-view+json": {
       "model_id": "13f3f74d819c4347a98f21c7e95f34e2",
       "version_major": 2,
       "version_minor": 0
      },
      "text/plain": [
       "Batches:   0%|          | 0/1 [00:00<?, ?it/s]"
      ]
     },
     "metadata": {},
     "output_type": "display_data"
    },
    {
     "data": {
      "application/vnd.jupyter.widget-view+json": {
       "model_id": "b1d4d3c3241e4b878faa2e860338dbf6",
       "version_major": 2,
       "version_minor": 0
      },
      "text/plain": [
       "Batches:   0%|          | 0/1 [00:00<?, ?it/s]"
      ]
     },
     "metadata": {},
     "output_type": "display_data"
    },
    {
     "data": {
      "application/vnd.jupyter.widget-view+json": {
       "model_id": "83a0cc082b1542cd9ac40419cbf0264a",
       "version_major": 2,
       "version_minor": 0
      },
      "text/plain": [
       "Batches:   0%|          | 0/1 [00:00<?, ?it/s]"
      ]
     },
     "metadata": {},
     "output_type": "display_data"
    },
    {
     "data": {
      "application/vnd.jupyter.widget-view+json": {
       "model_id": "6c17bfc25ae74295ab43279388cf5db0",
       "version_major": 2,
       "version_minor": 0
      },
      "text/plain": [
       "Batches:   0%|          | 0/1 [00:00<?, ?it/s]"
      ]
     },
     "metadata": {},
     "output_type": "display_data"
    },
    {
     "data": {
      "application/vnd.jupyter.widget-view+json": {
       "model_id": "ed784ff9cb70440e8264cf9b412a7333",
       "version_major": 2,
       "version_minor": 0
      },
      "text/plain": [
       "Batches:   0%|          | 0/1 [00:00<?, ?it/s]"
      ]
     },
     "metadata": {},
     "output_type": "display_data"
    },
    {
     "data": {
      "application/vnd.jupyter.widget-view+json": {
       "model_id": "49b8490b26474a99ade0c0e51449b71f",
       "version_major": 2,
       "version_minor": 0
      },
      "text/plain": [
       "Batches:   0%|          | 0/1 [00:00<?, ?it/s]"
      ]
     },
     "metadata": {},
     "output_type": "display_data"
    },
    {
     "data": {
      "application/vnd.jupyter.widget-view+json": {
       "model_id": "6aa623c3242f4f0686ef93f199d53a21",
       "version_major": 2,
       "version_minor": 0
      },
      "text/plain": [
       "Batches:   0%|          | 0/1 [00:00<?, ?it/s]"
      ]
     },
     "metadata": {},
     "output_type": "display_data"
    },
    {
     "data": {
      "application/vnd.jupyter.widget-view+json": {
       "model_id": "8a8348831b5544c5809d371190fc8f5f",
       "version_major": 2,
       "version_minor": 0
      },
      "text/plain": [
       "Batches:   0%|          | 0/1 [00:00<?, ?it/s]"
      ]
     },
     "metadata": {},
     "output_type": "display_data"
    },
    {
     "data": {
      "application/vnd.jupyter.widget-view+json": {
       "model_id": "0a956ebe93f54cf2acc31457cfcdce67",
       "version_major": 2,
       "version_minor": 0
      },
      "text/plain": [
       "Batches:   0%|          | 0/1 [00:00<?, ?it/s]"
      ]
     },
     "metadata": {},
     "output_type": "display_data"
    },
    {
     "data": {
      "application/vnd.jupyter.widget-view+json": {
       "model_id": "5520d563f66145a8baafa3338754b6fe",
       "version_major": 2,
       "version_minor": 0
      },
      "text/plain": [
       "Batches:   0%|          | 0/1 [00:00<?, ?it/s]"
      ]
     },
     "metadata": {},
     "output_type": "display_data"
    },
    {
     "data": {
      "application/vnd.jupyter.widget-view+json": {
       "model_id": "16b6d1c9ef96485a8181c32f7676bb6b",
       "version_major": 2,
       "version_minor": 0
      },
      "text/plain": [
       "Batches:   0%|          | 0/1 [00:00<?, ?it/s]"
      ]
     },
     "metadata": {},
     "output_type": "display_data"
    },
    {
     "data": {
      "application/vnd.jupyter.widget-view+json": {
       "model_id": "96ea3e2519954af883fe567bea166300",
       "version_major": 2,
       "version_minor": 0
      },
      "text/plain": [
       "Batches:   0%|          | 0/1 [00:00<?, ?it/s]"
      ]
     },
     "metadata": {},
     "output_type": "display_data"
    },
    {
     "data": {
      "application/vnd.jupyter.widget-view+json": {
       "model_id": "cb155f33458542a499a334de01e630b9",
       "version_major": 2,
       "version_minor": 0
      },
      "text/plain": [
       "Batches:   0%|          | 0/1 [00:00<?, ?it/s]"
      ]
     },
     "metadata": {},
     "output_type": "display_data"
    },
    {
     "data": {
      "application/vnd.jupyter.widget-view+json": {
       "model_id": "35ff89b2ae2d4a4c93935492292e4ab0",
       "version_major": 2,
       "version_minor": 0
      },
      "text/plain": [
       "Batches:   0%|          | 0/1 [00:00<?, ?it/s]"
      ]
     },
     "metadata": {},
     "output_type": "display_data"
    },
    {
     "data": {
      "application/vnd.jupyter.widget-view+json": {
       "model_id": "5265e5f6f2a441d59263685a40bc0ed3",
       "version_major": 2,
       "version_minor": 0
      },
      "text/plain": [
       "Batches:   0%|          | 0/1 [00:00<?, ?it/s]"
      ]
     },
     "metadata": {},
     "output_type": "display_data"
    },
    {
     "data": {
      "application/vnd.jupyter.widget-view+json": {
       "model_id": "00f63001bb234d2680ae1d16abfcb251",
       "version_major": 2,
       "version_minor": 0
      },
      "text/plain": [
       "Batches:   0%|          | 0/1 [00:00<?, ?it/s]"
      ]
     },
     "metadata": {},
     "output_type": "display_data"
    },
    {
     "data": {
      "application/vnd.jupyter.widget-view+json": {
       "model_id": "c82e2d82e44d4dfd8e9298f6ca50b1c7",
       "version_major": 2,
       "version_minor": 0
      },
      "text/plain": [
       "Batches:   0%|          | 0/1 [00:00<?, ?it/s]"
      ]
     },
     "metadata": {},
     "output_type": "display_data"
    },
    {
     "data": {
      "application/vnd.jupyter.widget-view+json": {
       "model_id": "68945f11be0a46ef8f1feafef1a431c1",
       "version_major": 2,
       "version_minor": 0
      },
      "text/plain": [
       "Batches:   0%|          | 0/1 [00:00<?, ?it/s]"
      ]
     },
     "metadata": {},
     "output_type": "display_data"
    },
    {
     "data": {
      "application/vnd.jupyter.widget-view+json": {
       "model_id": "a9b5f6020ae24747a358fde7b473611b",
       "version_major": 2,
       "version_minor": 0
      },
      "text/plain": [
       "Batches:   0%|          | 0/1 [00:00<?, ?it/s]"
      ]
     },
     "metadata": {},
     "output_type": "display_data"
    },
    {
     "data": {
      "application/vnd.jupyter.widget-view+json": {
       "model_id": "b0eb4033e2274b6e93481dae99ab20dd",
       "version_major": 2,
       "version_minor": 0
      },
      "text/plain": [
       "Batches:   0%|          | 0/1 [00:00<?, ?it/s]"
      ]
     },
     "metadata": {},
     "output_type": "display_data"
    },
    {
     "data": {
      "application/vnd.jupyter.widget-view+json": {
       "model_id": "10de98af0df34e9eb843f7f327bea5f3",
       "version_major": 2,
       "version_minor": 0
      },
      "text/plain": [
       "Batches:   0%|          | 0/1 [00:00<?, ?it/s]"
      ]
     },
     "metadata": {},
     "output_type": "display_data"
    },
    {
     "data": {
      "application/vnd.jupyter.widget-view+json": {
       "model_id": "6548abc66eb8429da18449a899476742",
       "version_major": 2,
       "version_minor": 0
      },
      "text/plain": [
       "Batches:   0%|          | 0/1 [00:00<?, ?it/s]"
      ]
     },
     "metadata": {},
     "output_type": "display_data"
    },
    {
     "data": {
      "application/vnd.jupyter.widget-view+json": {
       "model_id": "5f8eee00328346c5931b1a58e22b291a",
       "version_major": 2,
       "version_minor": 0
      },
      "text/plain": [
       "Batches:   0%|          | 0/1 [00:00<?, ?it/s]"
      ]
     },
     "metadata": {},
     "output_type": "display_data"
    },
    {
     "data": {
      "application/vnd.jupyter.widget-view+json": {
       "model_id": "6617c3eb124e489d93c9d85a0796200f",
       "version_major": 2,
       "version_minor": 0
      },
      "text/plain": [
       "Batches:   0%|          | 0/1 [00:00<?, ?it/s]"
      ]
     },
     "metadata": {},
     "output_type": "display_data"
    },
    {
     "data": {
      "application/vnd.jupyter.widget-view+json": {
       "model_id": "f8c73fa0801b4ca9857707e095ecdcb2",
       "version_major": 2,
       "version_minor": 0
      },
      "text/plain": [
       "Batches:   0%|          | 0/1 [00:00<?, ?it/s]"
      ]
     },
     "metadata": {},
     "output_type": "display_data"
    },
    {
     "data": {
      "application/vnd.jupyter.widget-view+json": {
       "model_id": "08214841933f4bb0abcf69e7174c9bab",
       "version_major": 2,
       "version_minor": 0
      },
      "text/plain": [
       "Batches:   0%|          | 0/1 [00:00<?, ?it/s]"
      ]
     },
     "metadata": {},
     "output_type": "display_data"
    },
    {
     "data": {
      "application/vnd.jupyter.widget-view+json": {
       "model_id": "b0b1c9849eb54038a3ec05c952853ec9",
       "version_major": 2,
       "version_minor": 0
      },
      "text/plain": [
       "Batches:   0%|          | 0/1 [00:00<?, ?it/s]"
      ]
     },
     "metadata": {},
     "output_type": "display_data"
    },
    {
     "data": {
      "application/vnd.jupyter.widget-view+json": {
       "model_id": "c35d0add45ae4a34a38bc5610fdfdd5e",
       "version_major": 2,
       "version_minor": 0
      },
      "text/plain": [
       "Batches:   0%|          | 0/1 [00:00<?, ?it/s]"
      ]
     },
     "metadata": {},
     "output_type": "display_data"
    },
    {
     "data": {
      "application/vnd.jupyter.widget-view+json": {
       "model_id": "54306e11abbc4e079d30482b1ac85db2",
       "version_major": 2,
       "version_minor": 0
      },
      "text/plain": [
       "Batches:   0%|          | 0/1 [00:00<?, ?it/s]"
      ]
     },
     "metadata": {},
     "output_type": "display_data"
    },
    {
     "data": {
      "application/vnd.jupyter.widget-view+json": {
       "model_id": "5be5ea3e474548f1aa8da54da361f8ef",
       "version_major": 2,
       "version_minor": 0
      },
      "text/plain": [
       "Batches:   0%|          | 0/1 [00:00<?, ?it/s]"
      ]
     },
     "metadata": {},
     "output_type": "display_data"
    },
    {
     "data": {
      "application/vnd.jupyter.widget-view+json": {
       "model_id": "13291db606bc4db9b3871876ae32aea8",
       "version_major": 2,
       "version_minor": 0
      },
      "text/plain": [
       "Batches:   0%|          | 0/1 [00:00<?, ?it/s]"
      ]
     },
     "metadata": {},
     "output_type": "display_data"
    },
    {
     "data": {
      "application/vnd.jupyter.widget-view+json": {
       "model_id": "0aeef813564744798775347643e78a78",
       "version_major": 2,
       "version_minor": 0
      },
      "text/plain": [
       "Batches:   0%|          | 0/1 [00:00<?, ?it/s]"
      ]
     },
     "metadata": {},
     "output_type": "display_data"
    },
    {
     "data": {
      "application/vnd.jupyter.widget-view+json": {
       "model_id": "fab4911de8b548edaac1f919b27497d7",
       "version_major": 2,
       "version_minor": 0
      },
      "text/plain": [
       "Batches:   0%|          | 0/1 [00:00<?, ?it/s]"
      ]
     },
     "metadata": {},
     "output_type": "display_data"
    },
    {
     "data": {
      "application/vnd.jupyter.widget-view+json": {
       "model_id": "4aafe7cf75584fc58cf41c1189493018",
       "version_major": 2,
       "version_minor": 0
      },
      "text/plain": [
       "Batches:   0%|          | 0/1 [00:00<?, ?it/s]"
      ]
     },
     "metadata": {},
     "output_type": "display_data"
    },
    {
     "data": {
      "application/vnd.jupyter.widget-view+json": {
       "model_id": "fdc3509cf71845dc9b8ee40ac13f7049",
       "version_major": 2,
       "version_minor": 0
      },
      "text/plain": [
       "Batches:   0%|          | 0/1 [00:00<?, ?it/s]"
      ]
     },
     "metadata": {},
     "output_type": "display_data"
    },
    {
     "data": {
      "application/vnd.jupyter.widget-view+json": {
       "model_id": "a6f66c450fec4dffb5644f6b686d20e6",
       "version_major": 2,
       "version_minor": 0
      },
      "text/plain": [
       "Batches:   0%|          | 0/1 [00:00<?, ?it/s]"
      ]
     },
     "metadata": {},
     "output_type": "display_data"
    },
    {
     "data": {
      "application/vnd.jupyter.widget-view+json": {
       "model_id": "8ce204fda6c84ea5baf314d46cd68a5c",
       "version_major": 2,
       "version_minor": 0
      },
      "text/plain": [
       "Batches:   0%|          | 0/1 [00:00<?, ?it/s]"
      ]
     },
     "metadata": {},
     "output_type": "display_data"
    },
    {
     "data": {
      "application/vnd.jupyter.widget-view+json": {
       "model_id": "f4ef42086c134104b4054f8d47887bf8",
       "version_major": 2,
       "version_minor": 0
      },
      "text/plain": [
       "Batches:   0%|          | 0/1 [00:00<?, ?it/s]"
      ]
     },
     "metadata": {},
     "output_type": "display_data"
    },
    {
     "data": {
      "application/vnd.jupyter.widget-view+json": {
       "model_id": "6f3d7a66695143b585b3520ea452e620",
       "version_major": 2,
       "version_minor": 0
      },
      "text/plain": [
       "Batches:   0%|          | 0/1 [00:00<?, ?it/s]"
      ]
     },
     "metadata": {},
     "output_type": "display_data"
    },
    {
     "data": {
      "application/vnd.jupyter.widget-view+json": {
       "model_id": "df7ef7e2bfd6445cbdfd170f2418b313",
       "version_major": 2,
       "version_minor": 0
      },
      "text/plain": [
       "Batches:   0%|          | 0/1 [00:00<?, ?it/s]"
      ]
     },
     "metadata": {},
     "output_type": "display_data"
    },
    {
     "data": {
      "application/vnd.jupyter.widget-view+json": {
       "model_id": "69b7f53a10fb40bf9795c53d3e3c8c80",
       "version_major": 2,
       "version_minor": 0
      },
      "text/plain": [
       "Batches:   0%|          | 0/1 [00:00<?, ?it/s]"
      ]
     },
     "metadata": {},
     "output_type": "display_data"
    },
    {
     "data": {
      "application/vnd.jupyter.widget-view+json": {
       "model_id": "c6f76d6ceda04987928d3f2df2fa9779",
       "version_major": 2,
       "version_minor": 0
      },
      "text/plain": [
       "Batches:   0%|          | 0/1 [00:00<?, ?it/s]"
      ]
     },
     "metadata": {},
     "output_type": "display_data"
    },
    {
     "data": {
      "application/vnd.jupyter.widget-view+json": {
       "model_id": "f0966c99052945a8acb71596b1732716",
       "version_major": 2,
       "version_minor": 0
      },
      "text/plain": [
       "Batches:   0%|          | 0/1 [00:00<?, ?it/s]"
      ]
     },
     "metadata": {},
     "output_type": "display_data"
    },
    {
     "data": {
      "application/vnd.jupyter.widget-view+json": {
       "model_id": "edd91665a7a04855bf0f132fc47a0f37",
       "version_major": 2,
       "version_minor": 0
      },
      "text/plain": [
       "Batches:   0%|          | 0/1 [00:00<?, ?it/s]"
      ]
     },
     "metadata": {},
     "output_type": "display_data"
    },
    {
     "data": {
      "application/vnd.jupyter.widget-view+json": {
       "model_id": "7d6de25a24b844e78f6d7bfae281ab13",
       "version_major": 2,
       "version_minor": 0
      },
      "text/plain": [
       "Batches:   0%|          | 0/1 [00:00<?, ?it/s]"
      ]
     },
     "metadata": {},
     "output_type": "display_data"
    },
    {
     "data": {
      "application/vnd.jupyter.widget-view+json": {
       "model_id": "5ad6804be24b40ebba12aeffb5b8409c",
       "version_major": 2,
       "version_minor": 0
      },
      "text/plain": [
       "Batches:   0%|          | 0/1 [00:00<?, ?it/s]"
      ]
     },
     "metadata": {},
     "output_type": "display_data"
    },
    {
     "data": {
      "application/vnd.jupyter.widget-view+json": {
       "model_id": "d480346fff42457f85c57d443a22c3eb",
       "version_major": 2,
       "version_minor": 0
      },
      "text/plain": [
       "Batches:   0%|          | 0/1 [00:00<?, ?it/s]"
      ]
     },
     "metadata": {},
     "output_type": "display_data"
    },
    {
     "data": {
      "application/vnd.jupyter.widget-view+json": {
       "model_id": "bfe68de667d542b699bcbec4baf16882",
       "version_major": 2,
       "version_minor": 0
      },
      "text/plain": [
       "Batches:   0%|          | 0/1 [00:00<?, ?it/s]"
      ]
     },
     "metadata": {},
     "output_type": "display_data"
    },
    {
     "data": {
      "application/vnd.jupyter.widget-view+json": {
       "model_id": "34771b59a4c74cacaf9c85662e275596",
       "version_major": 2,
       "version_minor": 0
      },
      "text/plain": [
       "Batches:   0%|          | 0/1 [00:00<?, ?it/s]"
      ]
     },
     "metadata": {},
     "output_type": "display_data"
    },
    {
     "data": {
      "application/vnd.jupyter.widget-view+json": {
       "model_id": "e31a0fe7fb054807b0f7cbec7184f638",
       "version_major": 2,
       "version_minor": 0
      },
      "text/plain": [
       "Batches:   0%|          | 0/1 [00:00<?, ?it/s]"
      ]
     },
     "metadata": {},
     "output_type": "display_data"
    },
    {
     "data": {
      "application/vnd.jupyter.widget-view+json": {
       "model_id": "bfeb1105d3d94420a10a491dcf39f613",
       "version_major": 2,
       "version_minor": 0
      },
      "text/plain": [
       "Batches:   0%|          | 0/1 [00:00<?, ?it/s]"
      ]
     },
     "metadata": {},
     "output_type": "display_data"
    },
    {
     "data": {
      "application/vnd.jupyter.widget-view+json": {
       "model_id": "eb4760784b3f48669f1458594e1bc494",
       "version_major": 2,
       "version_minor": 0
      },
      "text/plain": [
       "Batches:   0%|          | 0/1 [00:00<?, ?it/s]"
      ]
     },
     "metadata": {},
     "output_type": "display_data"
    },
    {
     "data": {
      "application/vnd.jupyter.widget-view+json": {
       "model_id": "83eaa0f063a3456fab687ac644a78297",
       "version_major": 2,
       "version_minor": 0
      },
      "text/plain": [
       "Batches:   0%|          | 0/1 [00:00<?, ?it/s]"
      ]
     },
     "metadata": {},
     "output_type": "display_data"
    },
    {
     "data": {
      "application/vnd.jupyter.widget-view+json": {
       "model_id": "0303be1db15944e9b59fb513b814dab7",
       "version_major": 2,
       "version_minor": 0
      },
      "text/plain": [
       "Batches:   0%|          | 0/1 [00:00<?, ?it/s]"
      ]
     },
     "metadata": {},
     "output_type": "display_data"
    },
    {
     "data": {
      "application/vnd.jupyter.widget-view+json": {
       "model_id": "af6a0e508cd24b61835a98f22b771161",
       "version_major": 2,
       "version_minor": 0
      },
      "text/plain": [
       "Batches:   0%|          | 0/1 [00:00<?, ?it/s]"
      ]
     },
     "metadata": {},
     "output_type": "display_data"
    },
    {
     "data": {
      "application/vnd.jupyter.widget-view+json": {
       "model_id": "548981782c8d475c8a500e6daf5ba0d9",
       "version_major": 2,
       "version_minor": 0
      },
      "text/plain": [
       "Batches:   0%|          | 0/1 [00:00<?, ?it/s]"
      ]
     },
     "metadata": {},
     "output_type": "display_data"
    },
    {
     "data": {
      "application/vnd.jupyter.widget-view+json": {
       "model_id": "f82481c0a70348369b4b65cd7398b230",
       "version_major": 2,
       "version_minor": 0
      },
      "text/plain": [
       "Batches:   0%|          | 0/1 [00:00<?, ?it/s]"
      ]
     },
     "metadata": {},
     "output_type": "display_data"
    },
    {
     "data": {
      "application/vnd.jupyter.widget-view+json": {
       "model_id": "140eed33ce944cb28590ba6e7a1c067f",
       "version_major": 2,
       "version_minor": 0
      },
      "text/plain": [
       "Batches:   0%|          | 0/1 [00:00<?, ?it/s]"
      ]
     },
     "metadata": {},
     "output_type": "display_data"
    },
    {
     "data": {
      "application/vnd.jupyter.widget-view+json": {
       "model_id": "0e09025b86034446a9399ab623fefdc5",
       "version_major": 2,
       "version_minor": 0
      },
      "text/plain": [
       "Batches:   0%|          | 0/1 [00:00<?, ?it/s]"
      ]
     },
     "metadata": {},
     "output_type": "display_data"
    },
    {
     "data": {
      "application/vnd.jupyter.widget-view+json": {
       "model_id": "605fd319da1f469aa28102c0467a5936",
       "version_major": 2,
       "version_minor": 0
      },
      "text/plain": [
       "Batches:   0%|          | 0/1 [00:00<?, ?it/s]"
      ]
     },
     "metadata": {},
     "output_type": "display_data"
    },
    {
     "data": {
      "application/vnd.jupyter.widget-view+json": {
       "model_id": "2f1ccc372f49431ab062fe1f3e56f227",
       "version_major": 2,
       "version_minor": 0
      },
      "text/plain": [
       "Batches:   0%|          | 0/1 [00:00<?, ?it/s]"
      ]
     },
     "metadata": {},
     "output_type": "display_data"
    },
    {
     "data": {
      "application/vnd.jupyter.widget-view+json": {
       "model_id": "17a204e417a14d3ca5811ca833b6240b",
       "version_major": 2,
       "version_minor": 0
      },
      "text/plain": [
       "Batches:   0%|          | 0/1 [00:00<?, ?it/s]"
      ]
     },
     "metadata": {},
     "output_type": "display_data"
    },
    {
     "data": {
      "application/vnd.jupyter.widget-view+json": {
       "model_id": "f82e0318f3c94418abda00b33a9c7753",
       "version_major": 2,
       "version_minor": 0
      },
      "text/plain": [
       "Batches:   0%|          | 0/1 [00:00<?, ?it/s]"
      ]
     },
     "metadata": {},
     "output_type": "display_data"
    },
    {
     "data": {
      "application/vnd.jupyter.widget-view+json": {
       "model_id": "15f22eafbdb84aaeb0c1eb98d043f3d1",
       "version_major": 2,
       "version_minor": 0
      },
      "text/plain": [
       "Batches:   0%|          | 0/1 [00:00<?, ?it/s]"
      ]
     },
     "metadata": {},
     "output_type": "display_data"
    },
    {
     "data": {
      "application/vnd.jupyter.widget-view+json": {
       "model_id": "e98a672b37874e5e8054331e1cd6cc6f",
       "version_major": 2,
       "version_minor": 0
      },
      "text/plain": [
       "Batches:   0%|          | 0/1 [00:00<?, ?it/s]"
      ]
     },
     "metadata": {},
     "output_type": "display_data"
    },
    {
     "data": {
      "application/vnd.jupyter.widget-view+json": {
       "model_id": "93908a8377674cf984bce17a9de1b4f3",
       "version_major": 2,
       "version_minor": 0
      },
      "text/plain": [
       "Batches:   0%|          | 0/1 [00:00<?, ?it/s]"
      ]
     },
     "metadata": {},
     "output_type": "display_data"
    },
    {
     "data": {
      "application/vnd.jupyter.widget-view+json": {
       "model_id": "1e6c6c1c2ddf4f6d8c997088b1701557",
       "version_major": 2,
       "version_minor": 0
      },
      "text/plain": [
       "Batches:   0%|          | 0/1 [00:00<?, ?it/s]"
      ]
     },
     "metadata": {},
     "output_type": "display_data"
    },
    {
     "data": {
      "application/vnd.jupyter.widget-view+json": {
       "model_id": "cbc9114471aa4aefb3489b8edb9812a3",
       "version_major": 2,
       "version_minor": 0
      },
      "text/plain": [
       "Batches:   0%|          | 0/1 [00:00<?, ?it/s]"
      ]
     },
     "metadata": {},
     "output_type": "display_data"
    },
    {
     "data": {
      "application/vnd.jupyter.widget-view+json": {
       "model_id": "0c0b274e047345b8bf0220b0dd423e31",
       "version_major": 2,
       "version_minor": 0
      },
      "text/plain": [
       "Batches:   0%|          | 0/1 [00:00<?, ?it/s]"
      ]
     },
     "metadata": {},
     "output_type": "display_data"
    },
    {
     "data": {
      "application/vnd.jupyter.widget-view+json": {
       "model_id": "89a2923d150c410a8d7d5bcd50b1a1c4",
       "version_major": 2,
       "version_minor": 0
      },
      "text/plain": [
       "Batches:   0%|          | 0/1 [00:00<?, ?it/s]"
      ]
     },
     "metadata": {},
     "output_type": "display_data"
    },
    {
     "data": {
      "application/vnd.jupyter.widget-view+json": {
       "model_id": "7c718f0a9093495492532e3495c10ad7",
       "version_major": 2,
       "version_minor": 0
      },
      "text/plain": [
       "Batches:   0%|          | 0/1 [00:00<?, ?it/s]"
      ]
     },
     "metadata": {},
     "output_type": "display_data"
    },
    {
     "data": {
      "application/vnd.jupyter.widget-view+json": {
       "model_id": "4654523c9c934170b0df0788cc09fd2e",
       "version_major": 2,
       "version_minor": 0
      },
      "text/plain": [
       "Batches:   0%|          | 0/1 [00:00<?, ?it/s]"
      ]
     },
     "metadata": {},
     "output_type": "display_data"
    },
    {
     "data": {
      "application/vnd.jupyter.widget-view+json": {
       "model_id": "aeeaf118f31b46948ccf30faeb4d04c5",
       "version_major": 2,
       "version_minor": 0
      },
      "text/plain": [
       "Batches:   0%|          | 0/1 [00:00<?, ?it/s]"
      ]
     },
     "metadata": {},
     "output_type": "display_data"
    },
    {
     "data": {
      "application/vnd.jupyter.widget-view+json": {
       "model_id": "b944173394214d2dbfdfd70a57a7705a",
       "version_major": 2,
       "version_minor": 0
      },
      "text/plain": [
       "Batches:   0%|          | 0/1 [00:00<?, ?it/s]"
      ]
     },
     "metadata": {},
     "output_type": "display_data"
    },
    {
     "data": {
      "application/vnd.jupyter.widget-view+json": {
       "model_id": "39c9798a43624ca19bff3bf68b00405a",
       "version_major": 2,
       "version_minor": 0
      },
      "text/plain": [
       "Batches:   0%|          | 0/1 [00:00<?, ?it/s]"
      ]
     },
     "metadata": {},
     "output_type": "display_data"
    },
    {
     "data": {
      "application/vnd.jupyter.widget-view+json": {
       "model_id": "44541b4cc0a048b5949ba80221b7f49b",
       "version_major": 2,
       "version_minor": 0
      },
      "text/plain": [
       "Batches:   0%|          | 0/1 [00:00<?, ?it/s]"
      ]
     },
     "metadata": {},
     "output_type": "display_data"
    },
    {
     "data": {
      "application/vnd.jupyter.widget-view+json": {
       "model_id": "efecbd74f20f4613b3653b1c7d27c1ea",
       "version_major": 2,
       "version_minor": 0
      },
      "text/plain": [
       "Batches:   0%|          | 0/1 [00:00<?, ?it/s]"
      ]
     },
     "metadata": {},
     "output_type": "display_data"
    },
    {
     "data": {
      "application/vnd.jupyter.widget-view+json": {
       "model_id": "e8093d82a4b243edb1092811b276a062",
       "version_major": 2,
       "version_minor": 0
      },
      "text/plain": [
       "Batches:   0%|          | 0/1 [00:00<?, ?it/s]"
      ]
     },
     "metadata": {},
     "output_type": "display_data"
    },
    {
     "data": {
      "application/vnd.jupyter.widget-view+json": {
       "model_id": "a42b501ef01142e2bcaf72d63e194fa1",
       "version_major": 2,
       "version_minor": 0
      },
      "text/plain": [
       "Batches:   0%|          | 0/1 [00:00<?, ?it/s]"
      ]
     },
     "metadata": {},
     "output_type": "display_data"
    },
    {
     "data": {
      "application/vnd.jupyter.widget-view+json": {
       "model_id": "29efd8b306b345afbe8f27726fbbaaab",
       "version_major": 2,
       "version_minor": 0
      },
      "text/plain": [
       "Batches:   0%|          | 0/1 [00:00<?, ?it/s]"
      ]
     },
     "metadata": {},
     "output_type": "display_data"
    },
    {
     "data": {
      "application/vnd.jupyter.widget-view+json": {
       "model_id": "46a94c99db9e46e5a69c3f0d655e4830",
       "version_major": 2,
       "version_minor": 0
      },
      "text/plain": [
       "Batches:   0%|          | 0/1 [00:00<?, ?it/s]"
      ]
     },
     "metadata": {},
     "output_type": "display_data"
    },
    {
     "data": {
      "application/vnd.jupyter.widget-view+json": {
       "model_id": "77f447762f054e94a3d17f64bee48aab",
       "version_major": 2,
       "version_minor": 0
      },
      "text/plain": [
       "Batches:   0%|          | 0/1 [00:00<?, ?it/s]"
      ]
     },
     "metadata": {},
     "output_type": "display_data"
    },
    {
     "data": {
      "application/vnd.jupyter.widget-view+json": {
       "model_id": "7a88c52a401d4f7cbc316971e5ff7d72",
       "version_major": 2,
       "version_minor": 0
      },
      "text/plain": [
       "Batches:   0%|          | 0/1 [00:00<?, ?it/s]"
      ]
     },
     "metadata": {},
     "output_type": "display_data"
    },
    {
     "data": {
      "application/vnd.jupyter.widget-view+json": {
       "model_id": "b065f51e1fc5414f841f7e4d66cdc226",
       "version_major": 2,
       "version_minor": 0
      },
      "text/plain": [
       "Batches:   0%|          | 0/1 [00:00<?, ?it/s]"
      ]
     },
     "metadata": {},
     "output_type": "display_data"
    },
    {
     "data": {
      "application/vnd.jupyter.widget-view+json": {
       "model_id": "9dcd748bbdba4012bed2fd633463effb",
       "version_major": 2,
       "version_minor": 0
      },
      "text/plain": [
       "Batches:   0%|          | 0/1 [00:00<?, ?it/s]"
      ]
     },
     "metadata": {},
     "output_type": "display_data"
    },
    {
     "data": {
      "application/vnd.jupyter.widget-view+json": {
       "model_id": "a4bbeda068fe4e94908fbcf65139bbfc",
       "version_major": 2,
       "version_minor": 0
      },
      "text/plain": [
       "Batches:   0%|          | 0/1 [00:00<?, ?it/s]"
      ]
     },
     "metadata": {},
     "output_type": "display_data"
    },
    {
     "data": {
      "application/vnd.jupyter.widget-view+json": {
       "model_id": "b6e8d1d097ff40e283251f33d62934a9",
       "version_major": 2,
       "version_minor": 0
      },
      "text/plain": [
       "Batches:   0%|          | 0/1 [00:00<?, ?it/s]"
      ]
     },
     "metadata": {},
     "output_type": "display_data"
    },
    {
     "data": {
      "application/vnd.jupyter.widget-view+json": {
       "model_id": "e23c29898be14a318e098f1dff20b7d3",
       "version_major": 2,
       "version_minor": 0
      },
      "text/plain": [
       "Batches:   0%|          | 0/1 [00:00<?, ?it/s]"
      ]
     },
     "metadata": {},
     "output_type": "display_data"
    },
    {
     "data": {
      "application/vnd.jupyter.widget-view+json": {
       "model_id": "31c94c29815e4f4e8153939e387986ad",
       "version_major": 2,
       "version_minor": 0
      },
      "text/plain": [
       "Batches:   0%|          | 0/1 [00:00<?, ?it/s]"
      ]
     },
     "metadata": {},
     "output_type": "display_data"
    },
    {
     "data": {
      "application/vnd.jupyter.widget-view+json": {
       "model_id": "e782cb7fb0994edd9f1f9611dac74fef",
       "version_major": 2,
       "version_minor": 0
      },
      "text/plain": [
       "Batches:   0%|          | 0/1 [00:00<?, ?it/s]"
      ]
     },
     "metadata": {},
     "output_type": "display_data"
    },
    {
     "data": {
      "application/vnd.jupyter.widget-view+json": {
       "model_id": "6f210c0e7dc54da1b461197047480e6f",
       "version_major": 2,
       "version_minor": 0
      },
      "text/plain": [
       "Batches:   0%|          | 0/1 [00:00<?, ?it/s]"
      ]
     },
     "metadata": {},
     "output_type": "display_data"
    },
    {
     "data": {
      "application/vnd.jupyter.widget-view+json": {
       "model_id": "768082b16da44702b2827c2a10cec962",
       "version_major": 2,
       "version_minor": 0
      },
      "text/plain": [
       "Batches:   0%|          | 0/1 [00:00<?, ?it/s]"
      ]
     },
     "metadata": {},
     "output_type": "display_data"
    },
    {
     "data": {
      "application/vnd.jupyter.widget-view+json": {
       "model_id": "4df6239568314ca3b29b9899d819b958",
       "version_major": 2,
       "version_minor": 0
      },
      "text/plain": [
       "Batches:   0%|          | 0/1 [00:00<?, ?it/s]"
      ]
     },
     "metadata": {},
     "output_type": "display_data"
    },
    {
     "data": {
      "application/vnd.jupyter.widget-view+json": {
       "model_id": "ae218e551021403c9166aac0674a2e06",
       "version_major": 2,
       "version_minor": 0
      },
      "text/plain": [
       "Batches:   0%|          | 0/1 [00:00<?, ?it/s]"
      ]
     },
     "metadata": {},
     "output_type": "display_data"
    },
    {
     "data": {
      "application/vnd.jupyter.widget-view+json": {
       "model_id": "3fb9a0bd32a04d10a91bbd5110b8a018",
       "version_major": 2,
       "version_minor": 0
      },
      "text/plain": [
       "Batches:   0%|          | 0/1 [00:00<?, ?it/s]"
      ]
     },
     "metadata": {},
     "output_type": "display_data"
    },
    {
     "data": {
      "application/vnd.jupyter.widget-view+json": {
       "model_id": "1ea823a8695641c483dc541b9ff1fd41",
       "version_major": 2,
       "version_minor": 0
      },
      "text/plain": [
       "Batches:   0%|          | 0/1 [00:00<?, ?it/s]"
      ]
     },
     "metadata": {},
     "output_type": "display_data"
    },
    {
     "data": {
      "application/vnd.jupyter.widget-view+json": {
       "model_id": "b4d4f8df06ce4e2497a103755b11cdae",
       "version_major": 2,
       "version_minor": 0
      },
      "text/plain": [
       "Batches:   0%|          | 0/1 [00:00<?, ?it/s]"
      ]
     },
     "metadata": {},
     "output_type": "display_data"
    },
    {
     "data": {
      "application/vnd.jupyter.widget-view+json": {
       "model_id": "e8e1e869286c4991b1c4522b4a42da5a",
       "version_major": 2,
       "version_minor": 0
      },
      "text/plain": [
       "Batches:   0%|          | 0/1 [00:00<?, ?it/s]"
      ]
     },
     "metadata": {},
     "output_type": "display_data"
    },
    {
     "data": {
      "application/vnd.jupyter.widget-view+json": {
       "model_id": "bb2b2b954b5c4e42a487c9ffa9c3e68c",
       "version_major": 2,
       "version_minor": 0
      },
      "text/plain": [
       "Batches:   0%|          | 0/1 [00:00<?, ?it/s]"
      ]
     },
     "metadata": {},
     "output_type": "display_data"
    },
    {
     "data": {
      "application/vnd.jupyter.widget-view+json": {
       "model_id": "68ddf194be164822a0d7109991991ea1",
       "version_major": 2,
       "version_minor": 0
      },
      "text/plain": [
       "Batches:   0%|          | 0/1 [00:00<?, ?it/s]"
      ]
     },
     "metadata": {},
     "output_type": "display_data"
    },
    {
     "data": {
      "application/vnd.jupyter.widget-view+json": {
       "model_id": "06ee7600ad8d4e229f190ac10dceb596",
       "version_major": 2,
       "version_minor": 0
      },
      "text/plain": [
       "Batches:   0%|          | 0/1 [00:00<?, ?it/s]"
      ]
     },
     "metadata": {},
     "output_type": "display_data"
    },
    {
     "data": {
      "application/vnd.jupyter.widget-view+json": {
       "model_id": "0dd98490b17e430394d73e62298cf31f",
       "version_major": 2,
       "version_minor": 0
      },
      "text/plain": [
       "Batches:   0%|          | 0/1 [00:00<?, ?it/s]"
      ]
     },
     "metadata": {},
     "output_type": "display_data"
    },
    {
     "data": {
      "application/vnd.jupyter.widget-view+json": {
       "model_id": "bb483d79c08a4d0d9cd6ae311beb8f4b",
       "version_major": 2,
       "version_minor": 0
      },
      "text/plain": [
       "Batches:   0%|          | 0/1 [00:00<?, ?it/s]"
      ]
     },
     "metadata": {},
     "output_type": "display_data"
    },
    {
     "data": {
      "application/vnd.jupyter.widget-view+json": {
       "model_id": "647981efb5d044ce9eacfbf8417b07f9",
       "version_major": 2,
       "version_minor": 0
      },
      "text/plain": [
       "Batches:   0%|          | 0/1 [00:00<?, ?it/s]"
      ]
     },
     "metadata": {},
     "output_type": "display_data"
    },
    {
     "data": {
      "application/vnd.jupyter.widget-view+json": {
       "model_id": "abba4e7ffc3d4e9c9b7f20d354104336",
       "version_major": 2,
       "version_minor": 0
      },
      "text/plain": [
       "Batches:   0%|          | 0/1 [00:00<?, ?it/s]"
      ]
     },
     "metadata": {},
     "output_type": "display_data"
    },
    {
     "data": {
      "application/vnd.jupyter.widget-view+json": {
       "model_id": "377deb35146e48c6994f6ddf3aa49842",
       "version_major": 2,
       "version_minor": 0
      },
      "text/plain": [
       "Batches:   0%|          | 0/1 [00:00<?, ?it/s]"
      ]
     },
     "metadata": {},
     "output_type": "display_data"
    },
    {
     "data": {
      "application/vnd.jupyter.widget-view+json": {
       "model_id": "982374f0409b4903b7faf1741c2ce068",
       "version_major": 2,
       "version_minor": 0
      },
      "text/plain": [
       "Batches:   0%|          | 0/1 [00:00<?, ?it/s]"
      ]
     },
     "metadata": {},
     "output_type": "display_data"
    },
    {
     "data": {
      "application/vnd.jupyter.widget-view+json": {
       "model_id": "e99529baeb064f28b1dc2e5ad33bfc0f",
       "version_major": 2,
       "version_minor": 0
      },
      "text/plain": [
       "Batches:   0%|          | 0/1 [00:00<?, ?it/s]"
      ]
     },
     "metadata": {},
     "output_type": "display_data"
    },
    {
     "data": {
      "application/vnd.jupyter.widget-view+json": {
       "model_id": "47f5afcdcb95421695d09bbb3da9f926",
       "version_major": 2,
       "version_minor": 0
      },
      "text/plain": [
       "Batches:   0%|          | 0/1 [00:00<?, ?it/s]"
      ]
     },
     "metadata": {},
     "output_type": "display_data"
    },
    {
     "data": {
      "application/vnd.jupyter.widget-view+json": {
       "model_id": "9d61126b25a448ebad7d1fc8ec75b535",
       "version_major": 2,
       "version_minor": 0
      },
      "text/plain": [
       "Batches:   0%|          | 0/1 [00:00<?, ?it/s]"
      ]
     },
     "metadata": {},
     "output_type": "display_data"
    },
    {
     "data": {
      "application/vnd.jupyter.widget-view+json": {
       "model_id": "31a063c33b634f2abf704d298954be18",
       "version_major": 2,
       "version_minor": 0
      },
      "text/plain": [
       "Batches:   0%|          | 0/1 [00:00<?, ?it/s]"
      ]
     },
     "metadata": {},
     "output_type": "display_data"
    },
    {
     "data": {
      "application/vnd.jupyter.widget-view+json": {
       "model_id": "f1b3d5e621f54d10b3de1df2e1717a46",
       "version_major": 2,
       "version_minor": 0
      },
      "text/plain": [
       "Batches:   0%|          | 0/1 [00:00<?, ?it/s]"
      ]
     },
     "metadata": {},
     "output_type": "display_data"
    },
    {
     "data": {
      "application/vnd.jupyter.widget-view+json": {
       "model_id": "4c04b245c762419b92b3f0b5d0f08ca8",
       "version_major": 2,
       "version_minor": 0
      },
      "text/plain": [
       "Batches:   0%|          | 0/1 [00:00<?, ?it/s]"
      ]
     },
     "metadata": {},
     "output_type": "display_data"
    },
    {
     "data": {
      "application/vnd.jupyter.widget-view+json": {
       "model_id": "a051f4f9d9bd4950a21b6a7fc11413c9",
       "version_major": 2,
       "version_minor": 0
      },
      "text/plain": [
       "Batches:   0%|          | 0/1 [00:00<?, ?it/s]"
      ]
     },
     "metadata": {},
     "output_type": "display_data"
    },
    {
     "data": {
      "application/vnd.jupyter.widget-view+json": {
       "model_id": "9659774557da47b39a13532d7f5ed43d",
       "version_major": 2,
       "version_minor": 0
      },
      "text/plain": [
       "Batches:   0%|          | 0/1 [00:00<?, ?it/s]"
      ]
     },
     "metadata": {},
     "output_type": "display_data"
    },
    {
     "data": {
      "application/vnd.jupyter.widget-view+json": {
       "model_id": "0a90e18919a5437597206e938a187414",
       "version_major": 2,
       "version_minor": 0
      },
      "text/plain": [
       "Batches:   0%|          | 0/1 [00:00<?, ?it/s]"
      ]
     },
     "metadata": {},
     "output_type": "display_data"
    },
    {
     "data": {
      "application/vnd.jupyter.widget-view+json": {
       "model_id": "e234f74fa3f14961bc44538bfa6f5ab9",
       "version_major": 2,
       "version_minor": 0
      },
      "text/plain": [
       "Batches:   0%|          | 0/1 [00:00<?, ?it/s]"
      ]
     },
     "metadata": {},
     "output_type": "display_data"
    },
    {
     "data": {
      "application/vnd.jupyter.widget-view+json": {
       "model_id": "ae655fde7f694c5faef926dfaa2b0686",
       "version_major": 2,
       "version_minor": 0
      },
      "text/plain": [
       "Batches:   0%|          | 0/1 [00:00<?, ?it/s]"
      ]
     },
     "metadata": {},
     "output_type": "display_data"
    },
    {
     "data": {
      "application/vnd.jupyter.widget-view+json": {
       "model_id": "b73399463e6840c7bf1a61fa10983d91",
       "version_major": 2,
       "version_minor": 0
      },
      "text/plain": [
       "Batches:   0%|          | 0/1 [00:00<?, ?it/s]"
      ]
     },
     "metadata": {},
     "output_type": "display_data"
    },
    {
     "data": {
      "application/vnd.jupyter.widget-view+json": {
       "model_id": "d2328b7940dd4df28efa613f98bdada7",
       "version_major": 2,
       "version_minor": 0
      },
      "text/plain": [
       "Batches:   0%|          | 0/1 [00:00<?, ?it/s]"
      ]
     },
     "metadata": {},
     "output_type": "display_data"
    },
    {
     "data": {
      "application/vnd.jupyter.widget-view+json": {
       "model_id": "cf4ab382b63b420c8578056f22afba81",
       "version_major": 2,
       "version_minor": 0
      },
      "text/plain": [
       "Batches:   0%|          | 0/1 [00:00<?, ?it/s]"
      ]
     },
     "metadata": {},
     "output_type": "display_data"
    },
    {
     "data": {
      "application/vnd.jupyter.widget-view+json": {
       "model_id": "a135363389dc48ce894ea89c739f08de",
       "version_major": 2,
       "version_minor": 0
      },
      "text/plain": [
       "Batches:   0%|          | 0/1 [00:00<?, ?it/s]"
      ]
     },
     "metadata": {},
     "output_type": "display_data"
    },
    {
     "data": {
      "application/vnd.jupyter.widget-view+json": {
       "model_id": "3a72f760bac945acb4ff590e83d039e7",
       "version_major": 2,
       "version_minor": 0
      },
      "text/plain": [
       "Batches:   0%|          | 0/1 [00:00<?, ?it/s]"
      ]
     },
     "metadata": {},
     "output_type": "display_data"
    },
    {
     "data": {
      "application/vnd.jupyter.widget-view+json": {
       "model_id": "23f5e0b3e3e446b295df67445b3f8093",
       "version_major": 2,
       "version_minor": 0
      },
      "text/plain": [
       "Batches:   0%|          | 0/1 [00:00<?, ?it/s]"
      ]
     },
     "metadata": {},
     "output_type": "display_data"
    },
    {
     "data": {
      "application/vnd.jupyter.widget-view+json": {
       "model_id": "4bb706b73e264fca941b994c2dc65bc1",
       "version_major": 2,
       "version_minor": 0
      },
      "text/plain": [
       "Batches:   0%|          | 0/1 [00:00<?, ?it/s]"
      ]
     },
     "metadata": {},
     "output_type": "display_data"
    },
    {
     "data": {
      "application/vnd.jupyter.widget-view+json": {
       "model_id": "32afe9c3c1704af38bd49764809b6541",
       "version_major": 2,
       "version_minor": 0
      },
      "text/plain": [
       "Batches:   0%|          | 0/1 [00:00<?, ?it/s]"
      ]
     },
     "metadata": {},
     "output_type": "display_data"
    },
    {
     "data": {
      "application/vnd.jupyter.widget-view+json": {
       "model_id": "9e2a7f7e6e2d4b08846bd6672d36c057",
       "version_major": 2,
       "version_minor": 0
      },
      "text/plain": [
       "Batches:   0%|          | 0/1 [00:00<?, ?it/s]"
      ]
     },
     "metadata": {},
     "output_type": "display_data"
    },
    {
     "data": {
      "application/vnd.jupyter.widget-view+json": {
       "model_id": "e9ed64ffbb5547fe8da4288840a38abe",
       "version_major": 2,
       "version_minor": 0
      },
      "text/plain": [
       "Batches:   0%|          | 0/1 [00:00<?, ?it/s]"
      ]
     },
     "metadata": {},
     "output_type": "display_data"
    },
    {
     "data": {
      "application/vnd.jupyter.widget-view+json": {
       "model_id": "98c52b1bcfaa47f1b11c769b741b0bc4",
       "version_major": 2,
       "version_minor": 0
      },
      "text/plain": [
       "Batches:   0%|          | 0/1 [00:00<?, ?it/s]"
      ]
     },
     "metadata": {},
     "output_type": "display_data"
    },
    {
     "data": {
      "application/vnd.jupyter.widget-view+json": {
       "model_id": "0b3601c4e83e495abeb14d2cdd4d72b8",
       "version_major": 2,
       "version_minor": 0
      },
      "text/plain": [
       "Batches:   0%|          | 0/1 [00:00<?, ?it/s]"
      ]
     },
     "metadata": {},
     "output_type": "display_data"
    },
    {
     "data": {
      "application/vnd.jupyter.widget-view+json": {
       "model_id": "ebf0bb7145e74b0f98dce5320ddc17d6",
       "version_major": 2,
       "version_minor": 0
      },
      "text/plain": [
       "Batches:   0%|          | 0/1 [00:00<?, ?it/s]"
      ]
     },
     "metadata": {},
     "output_type": "display_data"
    },
    {
     "data": {
      "application/vnd.jupyter.widget-view+json": {
       "model_id": "cfd4bd13608a4c4a94bd3a266758ce9c",
       "version_major": 2,
       "version_minor": 0
      },
      "text/plain": [
       "Batches:   0%|          | 0/1 [00:00<?, ?it/s]"
      ]
     },
     "metadata": {},
     "output_type": "display_data"
    },
    {
     "data": {
      "application/vnd.jupyter.widget-view+json": {
       "model_id": "086c40f361c14cbaab5af3b78908f0de",
       "version_major": 2,
       "version_minor": 0
      },
      "text/plain": [
       "Batches:   0%|          | 0/1 [00:00<?, ?it/s]"
      ]
     },
     "metadata": {},
     "output_type": "display_data"
    },
    {
     "data": {
      "application/vnd.jupyter.widget-view+json": {
       "model_id": "c6dbf8ba6dc54880b2358b73bcc1e8dc",
       "version_major": 2,
       "version_minor": 0
      },
      "text/plain": [
       "Batches:   0%|          | 0/1 [00:00<?, ?it/s]"
      ]
     },
     "metadata": {},
     "output_type": "display_data"
    },
    {
     "data": {
      "application/vnd.jupyter.widget-view+json": {
       "model_id": "842aab71a7cf4b6896f5e38d34e45e03",
       "version_major": 2,
       "version_minor": 0
      },
      "text/plain": [
       "Batches:   0%|          | 0/1 [00:00<?, ?it/s]"
      ]
     },
     "metadata": {},
     "output_type": "display_data"
    },
    {
     "data": {
      "application/vnd.jupyter.widget-view+json": {
       "model_id": "eea234057edf4b44beb957c6d4e83606",
       "version_major": 2,
       "version_minor": 0
      },
      "text/plain": [
       "Batches:   0%|          | 0/1 [00:00<?, ?it/s]"
      ]
     },
     "metadata": {},
     "output_type": "display_data"
    },
    {
     "data": {
      "application/vnd.jupyter.widget-view+json": {
       "model_id": "2c607e1862f94f5b9191d4439d7096e3",
       "version_major": 2,
       "version_minor": 0
      },
      "text/plain": [
       "Batches:   0%|          | 0/1 [00:00<?, ?it/s]"
      ]
     },
     "metadata": {},
     "output_type": "display_data"
    },
    {
     "data": {
      "application/vnd.jupyter.widget-view+json": {
       "model_id": "ea04fb3cf44e41199f2437066a8720da",
       "version_major": 2,
       "version_minor": 0
      },
      "text/plain": [
       "Batches:   0%|          | 0/1 [00:00<?, ?it/s]"
      ]
     },
     "metadata": {},
     "output_type": "display_data"
    },
    {
     "data": {
      "application/vnd.jupyter.widget-view+json": {
       "model_id": "14c0205e542447aa861bff3680a849da",
       "version_major": 2,
       "version_minor": 0
      },
      "text/plain": [
       "Batches:   0%|          | 0/1 [00:00<?, ?it/s]"
      ]
     },
     "metadata": {},
     "output_type": "display_data"
    },
    {
     "data": {
      "application/vnd.jupyter.widget-view+json": {
       "model_id": "ef59b10b8f8346d3b8de4a9cd1851f46",
       "version_major": 2,
       "version_minor": 0
      },
      "text/plain": [
       "Batches:   0%|          | 0/1 [00:00<?, ?it/s]"
      ]
     },
     "metadata": {},
     "output_type": "display_data"
    },
    {
     "data": {
      "application/vnd.jupyter.widget-view+json": {
       "model_id": "7657478e0ac7489dbb06c5ab54602123",
       "version_major": 2,
       "version_minor": 0
      },
      "text/plain": [
       "Batches:   0%|          | 0/1 [00:00<?, ?it/s]"
      ]
     },
     "metadata": {},
     "output_type": "display_data"
    },
    {
     "data": {
      "application/vnd.jupyter.widget-view+json": {
       "model_id": "5a98017ab4864aa5986130d578902167",
       "version_major": 2,
       "version_minor": 0
      },
      "text/plain": [
       "Batches:   0%|          | 0/1 [00:00<?, ?it/s]"
      ]
     },
     "metadata": {},
     "output_type": "display_data"
    },
    {
     "data": {
      "application/vnd.jupyter.widget-view+json": {
       "model_id": "3354b39d212e48d8a658e918fa2fc322",
       "version_major": 2,
       "version_minor": 0
      },
      "text/plain": [
       "Batches:   0%|          | 0/1 [00:00<?, ?it/s]"
      ]
     },
     "metadata": {},
     "output_type": "display_data"
    },
    {
     "data": {
      "application/vnd.jupyter.widget-view+json": {
       "model_id": "175074ea0f674c93aa11090f3797584c",
       "version_major": 2,
       "version_minor": 0
      },
      "text/plain": [
       "Batches:   0%|          | 0/1 [00:00<?, ?it/s]"
      ]
     },
     "metadata": {},
     "output_type": "display_data"
    },
    {
     "data": {
      "application/vnd.jupyter.widget-view+json": {
       "model_id": "678361a5246e4bfa8f7b089ca6d7bbd7",
       "version_major": 2,
       "version_minor": 0
      },
      "text/plain": [
       "Batches:   0%|          | 0/1 [00:00<?, ?it/s]"
      ]
     },
     "metadata": {},
     "output_type": "display_data"
    },
    {
     "data": {
      "application/vnd.jupyter.widget-view+json": {
       "model_id": "180ea1b9bd0c44abbbd7fbb5e3575558",
       "version_major": 2,
       "version_minor": 0
      },
      "text/plain": [
       "Batches:   0%|          | 0/1 [00:00<?, ?it/s]"
      ]
     },
     "metadata": {},
     "output_type": "display_data"
    },
    {
     "data": {
      "application/vnd.jupyter.widget-view+json": {
       "model_id": "c0d58cdfcbe14ea2b1317a8f2260fec7",
       "version_major": 2,
       "version_minor": 0
      },
      "text/plain": [
       "Batches:   0%|          | 0/1 [00:00<?, ?it/s]"
      ]
     },
     "metadata": {},
     "output_type": "display_data"
    },
    {
     "data": {
      "application/vnd.jupyter.widget-view+json": {
       "model_id": "2e2c0a1498154270ae319d5831b66e16",
       "version_major": 2,
       "version_minor": 0
      },
      "text/plain": [
       "Batches:   0%|          | 0/1 [00:00<?, ?it/s]"
      ]
     },
     "metadata": {},
     "output_type": "display_data"
    },
    {
     "data": {
      "application/vnd.jupyter.widget-view+json": {
       "model_id": "eef3fcd053844290bc70d5178c279f57",
       "version_major": 2,
       "version_minor": 0
      },
      "text/plain": [
       "Batches:   0%|          | 0/1 [00:00<?, ?it/s]"
      ]
     },
     "metadata": {},
     "output_type": "display_data"
    },
    {
     "data": {
      "application/vnd.jupyter.widget-view+json": {
       "model_id": "032598ba30814906ab599b1b2a6a18c2",
       "version_major": 2,
       "version_minor": 0
      },
      "text/plain": [
       "Batches:   0%|          | 0/1 [00:00<?, ?it/s]"
      ]
     },
     "metadata": {},
     "output_type": "display_data"
    },
    {
     "data": {
      "application/vnd.jupyter.widget-view+json": {
       "model_id": "2e76fc2be3d1455287387fc5f658daf3",
       "version_major": 2,
       "version_minor": 0
      },
      "text/plain": [
       "Batches:   0%|          | 0/1 [00:00<?, ?it/s]"
      ]
     },
     "metadata": {},
     "output_type": "display_data"
    },
    {
     "data": {
      "application/vnd.jupyter.widget-view+json": {
       "model_id": "18da63f0f9a74d9b94bdd63bd16d070f",
       "version_major": 2,
       "version_minor": 0
      },
      "text/plain": [
       "Batches:   0%|          | 0/1 [00:00<?, ?it/s]"
      ]
     },
     "metadata": {},
     "output_type": "display_data"
    },
    {
     "data": {
      "application/vnd.jupyter.widget-view+json": {
       "model_id": "72c45d2c99844c1685843178af057922",
       "version_major": 2,
       "version_minor": 0
      },
      "text/plain": [
       "Batches:   0%|          | 0/1 [00:00<?, ?it/s]"
      ]
     },
     "metadata": {},
     "output_type": "display_data"
    },
    {
     "data": {
      "application/vnd.jupyter.widget-view+json": {
       "model_id": "856f80923eaf4f21a62b01ea774ec4d4",
       "version_major": 2,
       "version_minor": 0
      },
      "text/plain": [
       "Batches:   0%|          | 0/1 [00:00<?, ?it/s]"
      ]
     },
     "metadata": {},
     "output_type": "display_data"
    },
    {
     "data": {
      "application/vnd.jupyter.widget-view+json": {
       "model_id": "5440c0e0fc874add9ecc8f36fbab3b46",
       "version_major": 2,
       "version_minor": 0
      },
      "text/plain": [
       "Batches:   0%|          | 0/1 [00:00<?, ?it/s]"
      ]
     },
     "metadata": {},
     "output_type": "display_data"
    },
    {
     "data": {
      "application/vnd.jupyter.widget-view+json": {
       "model_id": "29e2456e247e48e985c69107a8104328",
       "version_major": 2,
       "version_minor": 0
      },
      "text/plain": [
       "Batches:   0%|          | 0/1 [00:00<?, ?it/s]"
      ]
     },
     "metadata": {},
     "output_type": "display_data"
    },
    {
     "data": {
      "application/vnd.jupyter.widget-view+json": {
       "model_id": "03c48b00190c4ac59dd61254bd57d0c9",
       "version_major": 2,
       "version_minor": 0
      },
      "text/plain": [
       "Batches:   0%|          | 0/1 [00:00<?, ?it/s]"
      ]
     },
     "metadata": {},
     "output_type": "display_data"
    },
    {
     "data": {
      "application/vnd.jupyter.widget-view+json": {
       "model_id": "f0ace822e1a74b28b87bd00bd0dc1900",
       "version_major": 2,
       "version_minor": 0
      },
      "text/plain": [
       "Batches:   0%|          | 0/1 [00:00<?, ?it/s]"
      ]
     },
     "metadata": {},
     "output_type": "display_data"
    },
    {
     "data": {
      "application/vnd.jupyter.widget-view+json": {
       "model_id": "b3306f2dbac44fd8b6eb84edcd76525c",
       "version_major": 2,
       "version_minor": 0
      },
      "text/plain": [
       "Batches:   0%|          | 0/1 [00:00<?, ?it/s]"
      ]
     },
     "metadata": {},
     "output_type": "display_data"
    },
    {
     "data": {
      "application/vnd.jupyter.widget-view+json": {
       "model_id": "b1da3299a7bb4cb099447c2aeeb89b8c",
       "version_major": 2,
       "version_minor": 0
      },
      "text/plain": [
       "Batches:   0%|          | 0/1 [00:00<?, ?it/s]"
      ]
     },
     "metadata": {},
     "output_type": "display_data"
    },
    {
     "data": {
      "application/vnd.jupyter.widget-view+json": {
       "model_id": "05c30299b4774d2da6a8f5dc2d73f98d",
       "version_major": 2,
       "version_minor": 0
      },
      "text/plain": [
       "Batches:   0%|          | 0/1 [00:00<?, ?it/s]"
      ]
     },
     "metadata": {},
     "output_type": "display_data"
    },
    {
     "data": {
      "application/vnd.jupyter.widget-view+json": {
       "model_id": "9c1b2e7f4f134a948d87f4d193c40561",
       "version_major": 2,
       "version_minor": 0
      },
      "text/plain": [
       "Batches:   0%|          | 0/1 [00:00<?, ?it/s]"
      ]
     },
     "metadata": {},
     "output_type": "display_data"
    },
    {
     "data": {
      "application/vnd.jupyter.widget-view+json": {
       "model_id": "e69033ac8ce143a2847888ae2e847441",
       "version_major": 2,
       "version_minor": 0
      },
      "text/plain": [
       "Batches:   0%|          | 0/1 [00:00<?, ?it/s]"
      ]
     },
     "metadata": {},
     "output_type": "display_data"
    },
    {
     "data": {
      "application/vnd.jupyter.widget-view+json": {
       "model_id": "668a7e1a5f754a5686a626c4355824ee",
       "version_major": 2,
       "version_minor": 0
      },
      "text/plain": [
       "Batches:   0%|          | 0/1 [00:00<?, ?it/s]"
      ]
     },
     "metadata": {},
     "output_type": "display_data"
    },
    {
     "data": {
      "application/vnd.jupyter.widget-view+json": {
       "model_id": "078818a0428040e68b9b10bebce40a19",
       "version_major": 2,
       "version_minor": 0
      },
      "text/plain": [
       "Batches:   0%|          | 0/1 [00:00<?, ?it/s]"
      ]
     },
     "metadata": {},
     "output_type": "display_data"
    },
    {
     "data": {
      "application/vnd.jupyter.widget-view+json": {
       "model_id": "4b452d0de66f4d46aeda655c5f35bec3",
       "version_major": 2,
       "version_minor": 0
      },
      "text/plain": [
       "Batches:   0%|          | 0/1 [00:00<?, ?it/s]"
      ]
     },
     "metadata": {},
     "output_type": "display_data"
    },
    {
     "data": {
      "application/vnd.jupyter.widget-view+json": {
       "model_id": "d1a49c9738ac4d9fb141f0a1ba96389c",
       "version_major": 2,
       "version_minor": 0
      },
      "text/plain": [
       "Batches:   0%|          | 0/1 [00:00<?, ?it/s]"
      ]
     },
     "metadata": {},
     "output_type": "display_data"
    },
    {
     "data": {
      "application/vnd.jupyter.widget-view+json": {
       "model_id": "84f96936d0ec4990b234d56a304b9e4e",
       "version_major": 2,
       "version_minor": 0
      },
      "text/plain": [
       "Batches:   0%|          | 0/1 [00:00<?, ?it/s]"
      ]
     },
     "metadata": {},
     "output_type": "display_data"
    },
    {
     "data": {
      "application/vnd.jupyter.widget-view+json": {
       "model_id": "ee7d5b4cc90b42e3ba83452bfb5fcc90",
       "version_major": 2,
       "version_minor": 0
      },
      "text/plain": [
       "Batches:   0%|          | 0/1 [00:00<?, ?it/s]"
      ]
     },
     "metadata": {},
     "output_type": "display_data"
    },
    {
     "data": {
      "application/vnd.jupyter.widget-view+json": {
       "model_id": "6fef4264b6d14c5b87112ebd4b7fc4a7",
       "version_major": 2,
       "version_minor": 0
      },
      "text/plain": [
       "Batches:   0%|          | 0/1 [00:00<?, ?it/s]"
      ]
     },
     "metadata": {},
     "output_type": "display_data"
    },
    {
     "data": {
      "application/vnd.jupyter.widget-view+json": {
       "model_id": "7d3de301cc294cfe8afc43be61ad8572",
       "version_major": 2,
       "version_minor": 0
      },
      "text/plain": [
       "Batches:   0%|          | 0/1 [00:00<?, ?it/s]"
      ]
     },
     "metadata": {},
     "output_type": "display_data"
    },
    {
     "data": {
      "application/vnd.jupyter.widget-view+json": {
       "model_id": "a2076bf69b984db78e4d7901825a0bcf",
       "version_major": 2,
       "version_minor": 0
      },
      "text/plain": [
       "Batches:   0%|          | 0/1 [00:00<?, ?it/s]"
      ]
     },
     "metadata": {},
     "output_type": "display_data"
    },
    {
     "data": {
      "application/vnd.jupyter.widget-view+json": {
       "model_id": "f270b083bf29433dafe953b2680367e1",
       "version_major": 2,
       "version_minor": 0
      },
      "text/plain": [
       "Batches:   0%|          | 0/1 [00:00<?, ?it/s]"
      ]
     },
     "metadata": {},
     "output_type": "display_data"
    },
    {
     "data": {
      "application/vnd.jupyter.widget-view+json": {
       "model_id": "0cf44a10f19b421a879406f8e912e0a5",
       "version_major": 2,
       "version_minor": 0
      },
      "text/plain": [
       "Batches:   0%|          | 0/1 [00:00<?, ?it/s]"
      ]
     },
     "metadata": {},
     "output_type": "display_data"
    },
    {
     "data": {
      "application/vnd.jupyter.widget-view+json": {
       "model_id": "1af4bc69ca014e629b746b11d9b21c91",
       "version_major": 2,
       "version_minor": 0
      },
      "text/plain": [
       "Batches:   0%|          | 0/1 [00:00<?, ?it/s]"
      ]
     },
     "metadata": {},
     "output_type": "display_data"
    },
    {
     "data": {
      "application/vnd.jupyter.widget-view+json": {
       "model_id": "41bd6e69638e4571861d5beaa8582335",
       "version_major": 2,
       "version_minor": 0
      },
      "text/plain": [
       "Batches:   0%|          | 0/1 [00:00<?, ?it/s]"
      ]
     },
     "metadata": {},
     "output_type": "display_data"
    },
    {
     "data": {
      "application/vnd.jupyter.widget-view+json": {
       "model_id": "ce99c85b52e740d09b5690f1e0726f0f",
       "version_major": 2,
       "version_minor": 0
      },
      "text/plain": [
       "Batches:   0%|          | 0/1 [00:00<?, ?it/s]"
      ]
     },
     "metadata": {},
     "output_type": "display_data"
    },
    {
     "data": {
      "application/vnd.jupyter.widget-view+json": {
       "model_id": "558ff4e86faf4773a136a0921c78ddc0",
       "version_major": 2,
       "version_minor": 0
      },
      "text/plain": [
       "Batches:   0%|          | 0/1 [00:00<?, ?it/s]"
      ]
     },
     "metadata": {},
     "output_type": "display_data"
    },
    {
     "data": {
      "application/vnd.jupyter.widget-view+json": {
       "model_id": "db1830bbedf040008409295c75634b3d",
       "version_major": 2,
       "version_minor": 0
      },
      "text/plain": [
       "Batches:   0%|          | 0/1 [00:00<?, ?it/s]"
      ]
     },
     "metadata": {},
     "output_type": "display_data"
    },
    {
     "data": {
      "application/vnd.jupyter.widget-view+json": {
       "model_id": "7db7662cd3214666848b32a940cd24da",
       "version_major": 2,
       "version_minor": 0
      },
      "text/plain": [
       "Batches:   0%|          | 0/1 [00:00<?, ?it/s]"
      ]
     },
     "metadata": {},
     "output_type": "display_data"
    },
    {
     "data": {
      "application/vnd.jupyter.widget-view+json": {
       "model_id": "480422c621af4cf28dae8b91f5a10e39",
       "version_major": 2,
       "version_minor": 0
      },
      "text/plain": [
       "Batches:   0%|          | 0/1 [00:00<?, ?it/s]"
      ]
     },
     "metadata": {},
     "output_type": "display_data"
    },
    {
     "data": {
      "application/vnd.jupyter.widget-view+json": {
       "model_id": "de6c1f83899049e18e945949784704a3",
       "version_major": 2,
       "version_minor": 0
      },
      "text/plain": [
       "Batches:   0%|          | 0/1 [00:00<?, ?it/s]"
      ]
     },
     "metadata": {},
     "output_type": "display_data"
    },
    {
     "data": {
      "application/vnd.jupyter.widget-view+json": {
       "model_id": "2cd121af69aa403d84d67e8b18aa7b77",
       "version_major": 2,
       "version_minor": 0
      },
      "text/plain": [
       "Batches:   0%|          | 0/1 [00:00<?, ?it/s]"
      ]
     },
     "metadata": {},
     "output_type": "display_data"
    },
    {
     "data": {
      "application/vnd.jupyter.widget-view+json": {
       "model_id": "cc7e7da5ca1240a1a51bc2d492e1e3d1",
       "version_major": 2,
       "version_minor": 0
      },
      "text/plain": [
       "Batches:   0%|          | 0/1 [00:00<?, ?it/s]"
      ]
     },
     "metadata": {},
     "output_type": "display_data"
    },
    {
     "data": {
      "application/vnd.jupyter.widget-view+json": {
       "model_id": "ad846499629c450aa6a26bf6411b81ca",
       "version_major": 2,
       "version_minor": 0
      },
      "text/plain": [
       "Batches:   0%|          | 0/1 [00:00<?, ?it/s]"
      ]
     },
     "metadata": {},
     "output_type": "display_data"
    },
    {
     "data": {
      "application/vnd.jupyter.widget-view+json": {
       "model_id": "14644f83f47e4453bdfbb32ffd77a756",
       "version_major": 2,
       "version_minor": 0
      },
      "text/plain": [
       "Batches:   0%|          | 0/1 [00:00<?, ?it/s]"
      ]
     },
     "metadata": {},
     "output_type": "display_data"
    },
    {
     "data": {
      "application/vnd.jupyter.widget-view+json": {
       "model_id": "2e4ecc81e406464fa48b191eeeb0d375",
       "version_major": 2,
       "version_minor": 0
      },
      "text/plain": [
       "Batches:   0%|          | 0/1 [00:00<?, ?it/s]"
      ]
     },
     "metadata": {},
     "output_type": "display_data"
    },
    {
     "data": {
      "application/vnd.jupyter.widget-view+json": {
       "model_id": "8e791f8c0e8e44fda605feade6797653",
       "version_major": 2,
       "version_minor": 0
      },
      "text/plain": [
       "Batches:   0%|          | 0/1 [00:00<?, ?it/s]"
      ]
     },
     "metadata": {},
     "output_type": "display_data"
    },
    {
     "data": {
      "application/vnd.jupyter.widget-view+json": {
       "model_id": "d727e83387c34923b0fb47dcc5d226dd",
       "version_major": 2,
       "version_minor": 0
      },
      "text/plain": [
       "Batches:   0%|          | 0/1 [00:00<?, ?it/s]"
      ]
     },
     "metadata": {},
     "output_type": "display_data"
    },
    {
     "data": {
      "application/vnd.jupyter.widget-view+json": {
       "model_id": "2807543681324d3a9bf1ad71fe32c7e8",
       "version_major": 2,
       "version_minor": 0
      },
      "text/plain": [
       "Batches:   0%|          | 0/1 [00:00<?, ?it/s]"
      ]
     },
     "metadata": {},
     "output_type": "display_data"
    },
    {
     "data": {
      "application/vnd.jupyter.widget-view+json": {
       "model_id": "20bddc31e5584c8dba9d85ed01b35e10",
       "version_major": 2,
       "version_minor": 0
      },
      "text/plain": [
       "Batches:   0%|          | 0/1 [00:00<?, ?it/s]"
      ]
     },
     "metadata": {},
     "output_type": "display_data"
    },
    {
     "data": {
      "application/vnd.jupyter.widget-view+json": {
       "model_id": "aa55a3832131458e8277f46c6b7516fd",
       "version_major": 2,
       "version_minor": 0
      },
      "text/plain": [
       "Batches:   0%|          | 0/1 [00:00<?, ?it/s]"
      ]
     },
     "metadata": {},
     "output_type": "display_data"
    },
    {
     "data": {
      "application/vnd.jupyter.widget-view+json": {
       "model_id": "07fae27ea8b142f4a89ef7905951d7ba",
       "version_major": 2,
       "version_minor": 0
      },
      "text/plain": [
       "Batches:   0%|          | 0/1 [00:00<?, ?it/s]"
      ]
     },
     "metadata": {},
     "output_type": "display_data"
    },
    {
     "data": {
      "application/vnd.jupyter.widget-view+json": {
       "model_id": "0e3a04b333f94ea3a6dd139dc293de17",
       "version_major": 2,
       "version_minor": 0
      },
      "text/plain": [
       "Batches:   0%|          | 0/1 [00:00<?, ?it/s]"
      ]
     },
     "metadata": {},
     "output_type": "display_data"
    },
    {
     "data": {
      "application/vnd.jupyter.widget-view+json": {
       "model_id": "34021d7d00454b249149ad5e59252849",
       "version_major": 2,
       "version_minor": 0
      },
      "text/plain": [
       "Batches:   0%|          | 0/1 [00:00<?, ?it/s]"
      ]
     },
     "metadata": {},
     "output_type": "display_data"
    },
    {
     "data": {
      "application/vnd.jupyter.widget-view+json": {
       "model_id": "cddf529a84a54dd99866647d7badb9f8",
       "version_major": 2,
       "version_minor": 0
      },
      "text/plain": [
       "Batches:   0%|          | 0/1 [00:00<?, ?it/s]"
      ]
     },
     "metadata": {},
     "output_type": "display_data"
    },
    {
     "data": {
      "application/vnd.jupyter.widget-view+json": {
       "model_id": "04887b344ce74b639afc60925c5a48a3",
       "version_major": 2,
       "version_minor": 0
      },
      "text/plain": [
       "Batches:   0%|          | 0/1 [00:00<?, ?it/s]"
      ]
     },
     "metadata": {},
     "output_type": "display_data"
    },
    {
     "data": {
      "application/vnd.jupyter.widget-view+json": {
       "model_id": "5e90426e2f004c7eb4fc2fd89d99f37a",
       "version_major": 2,
       "version_minor": 0
      },
      "text/plain": [
       "Batches:   0%|          | 0/1 [00:00<?, ?it/s]"
      ]
     },
     "metadata": {},
     "output_type": "display_data"
    },
    {
     "data": {
      "application/vnd.jupyter.widget-view+json": {
       "model_id": "d151891ce81541dcb7dc9a0bc6d15267",
       "version_major": 2,
       "version_minor": 0
      },
      "text/plain": [
       "Batches:   0%|          | 0/1 [00:00<?, ?it/s]"
      ]
     },
     "metadata": {},
     "output_type": "display_data"
    },
    {
     "data": {
      "application/vnd.jupyter.widget-view+json": {
       "model_id": "82c011682087423b992e2e9ad9cdafb4",
       "version_major": 2,
       "version_minor": 0
      },
      "text/plain": [
       "Batches:   0%|          | 0/1 [00:00<?, ?it/s]"
      ]
     },
     "metadata": {},
     "output_type": "display_data"
    },
    {
     "data": {
      "application/vnd.jupyter.widget-view+json": {
       "model_id": "9ca1d15423f94679a3a82714f216ce11",
       "version_major": 2,
       "version_minor": 0
      },
      "text/plain": [
       "Batches:   0%|          | 0/1 [00:00<?, ?it/s]"
      ]
     },
     "metadata": {},
     "output_type": "display_data"
    },
    {
     "data": {
      "application/vnd.jupyter.widget-view+json": {
       "model_id": "9405b03ecb33446bba4cc15d2f78eb6c",
       "version_major": 2,
       "version_minor": 0
      },
      "text/plain": [
       "Batches:   0%|          | 0/1 [00:00<?, ?it/s]"
      ]
     },
     "metadata": {},
     "output_type": "display_data"
    },
    {
     "data": {
      "application/vnd.jupyter.widget-view+json": {
       "model_id": "28d495d9be844658b47867dc16d8c128",
       "version_major": 2,
       "version_minor": 0
      },
      "text/plain": [
       "Batches:   0%|          | 0/1 [00:00<?, ?it/s]"
      ]
     },
     "metadata": {},
     "output_type": "display_data"
    },
    {
     "data": {
      "application/vnd.jupyter.widget-view+json": {
       "model_id": "3eda3e8d4a694052b9f5733e3407938c",
       "version_major": 2,
       "version_minor": 0
      },
      "text/plain": [
       "Batches:   0%|          | 0/1 [00:00<?, ?it/s]"
      ]
     },
     "metadata": {},
     "output_type": "display_data"
    },
    {
     "data": {
      "application/vnd.jupyter.widget-view+json": {
       "model_id": "de5e17169fd7437a85edd8c8d53be71c",
       "version_major": 2,
       "version_minor": 0
      },
      "text/plain": [
       "Batches:   0%|          | 0/1 [00:00<?, ?it/s]"
      ]
     },
     "metadata": {},
     "output_type": "display_data"
    },
    {
     "data": {
      "application/vnd.jupyter.widget-view+json": {
       "model_id": "2259e64a4c9c453faf2fbd9f0f6cc1f4",
       "version_major": 2,
       "version_minor": 0
      },
      "text/plain": [
       "Batches:   0%|          | 0/1 [00:00<?, ?it/s]"
      ]
     },
     "metadata": {},
     "output_type": "display_data"
    },
    {
     "data": {
      "application/vnd.jupyter.widget-view+json": {
       "model_id": "ea6a1355054749e39cd61e3f521d545e",
       "version_major": 2,
       "version_minor": 0
      },
      "text/plain": [
       "Batches:   0%|          | 0/1 [00:00<?, ?it/s]"
      ]
     },
     "metadata": {},
     "output_type": "display_data"
    },
    {
     "data": {
      "application/vnd.jupyter.widget-view+json": {
       "model_id": "343fdad084904eb1bc776e0ef1ba90f2",
       "version_major": 2,
       "version_minor": 0
      },
      "text/plain": [
       "Batches:   0%|          | 0/1 [00:00<?, ?it/s]"
      ]
     },
     "metadata": {},
     "output_type": "display_data"
    },
    {
     "data": {
      "application/vnd.jupyter.widget-view+json": {
       "model_id": "548c60bd1e5e4b7291ba8c8ea55488a9",
       "version_major": 2,
       "version_minor": 0
      },
      "text/plain": [
       "Batches:   0%|          | 0/1 [00:00<?, ?it/s]"
      ]
     },
     "metadata": {},
     "output_type": "display_data"
    },
    {
     "data": {
      "application/vnd.jupyter.widget-view+json": {
       "model_id": "f8baf3816c824a0e9d3c67eec09eab69",
       "version_major": 2,
       "version_minor": 0
      },
      "text/plain": [
       "Batches:   0%|          | 0/1 [00:00<?, ?it/s]"
      ]
     },
     "metadata": {},
     "output_type": "display_data"
    },
    {
     "data": {
      "application/vnd.jupyter.widget-view+json": {
       "model_id": "5759433e4a0440a484c3a9a0c26627bc",
       "version_major": 2,
       "version_minor": 0
      },
      "text/plain": [
       "Batches:   0%|          | 0/1 [00:00<?, ?it/s]"
      ]
     },
     "metadata": {},
     "output_type": "display_data"
    },
    {
     "data": {
      "application/vnd.jupyter.widget-view+json": {
       "model_id": "43080a35d8ba478ba8725c9d07bedea7",
       "version_major": 2,
       "version_minor": 0
      },
      "text/plain": [
       "Batches:   0%|          | 0/1 [00:00<?, ?it/s]"
      ]
     },
     "metadata": {},
     "output_type": "display_data"
    },
    {
     "data": {
      "application/vnd.jupyter.widget-view+json": {
       "model_id": "08b00480f7844c9a86742d092133e5d4",
       "version_major": 2,
       "version_minor": 0
      },
      "text/plain": [
       "Batches:   0%|          | 0/1 [00:00<?, ?it/s]"
      ]
     },
     "metadata": {},
     "output_type": "display_data"
    },
    {
     "data": {
      "application/vnd.jupyter.widget-view+json": {
       "model_id": "a3cb504c8ce24b6ba99f8a848a2d4618",
       "version_major": 2,
       "version_minor": 0
      },
      "text/plain": [
       "Batches:   0%|          | 0/1 [00:00<?, ?it/s]"
      ]
     },
     "metadata": {},
     "output_type": "display_data"
    },
    {
     "data": {
      "application/vnd.jupyter.widget-view+json": {
       "model_id": "094c142aeae94cef9497abdda9cba4df",
       "version_major": 2,
       "version_minor": 0
      },
      "text/plain": [
       "Batches:   0%|          | 0/1 [00:00<?, ?it/s]"
      ]
     },
     "metadata": {},
     "output_type": "display_data"
    },
    {
     "data": {
      "application/vnd.jupyter.widget-view+json": {
       "model_id": "c8e3b14518064f9592ea302ee13d927a",
       "version_major": 2,
       "version_minor": 0
      },
      "text/plain": [
       "Batches:   0%|          | 0/1 [00:00<?, ?it/s]"
      ]
     },
     "metadata": {},
     "output_type": "display_data"
    },
    {
     "data": {
      "application/vnd.jupyter.widget-view+json": {
       "model_id": "8f0c9719a37f40f1abb1430bdb20f94b",
       "version_major": 2,
       "version_minor": 0
      },
      "text/plain": [
       "Batches:   0%|          | 0/1 [00:00<?, ?it/s]"
      ]
     },
     "metadata": {},
     "output_type": "display_data"
    },
    {
     "data": {
      "application/vnd.jupyter.widget-view+json": {
       "model_id": "fe44300268bc459d95ff0af20289ac66",
       "version_major": 2,
       "version_minor": 0
      },
      "text/plain": [
       "Batches:   0%|          | 0/1 [00:00<?, ?it/s]"
      ]
     },
     "metadata": {},
     "output_type": "display_data"
    },
    {
     "data": {
      "application/vnd.jupyter.widget-view+json": {
       "model_id": "59be1f37ba334d0ab3e63393fb5f5177",
       "version_major": 2,
       "version_minor": 0
      },
      "text/plain": [
       "Batches:   0%|          | 0/1 [00:00<?, ?it/s]"
      ]
     },
     "metadata": {},
     "output_type": "display_data"
    },
    {
     "data": {
      "application/vnd.jupyter.widget-view+json": {
       "model_id": "5e9f3d3c974940e7baea3214470e2939",
       "version_major": 2,
       "version_minor": 0
      },
      "text/plain": [
       "Batches:   0%|          | 0/1 [00:00<?, ?it/s]"
      ]
     },
     "metadata": {},
     "output_type": "display_data"
    },
    {
     "data": {
      "application/vnd.jupyter.widget-view+json": {
       "model_id": "3fe85ac1de9d424c8866aef0727b1b67",
       "version_major": 2,
       "version_minor": 0
      },
      "text/plain": [
       "Batches:   0%|          | 0/1 [00:00<?, ?it/s]"
      ]
     },
     "metadata": {},
     "output_type": "display_data"
    },
    {
     "data": {
      "application/vnd.jupyter.widget-view+json": {
       "model_id": "5cb180b510784e9c9d9048e78d5ad2f1",
       "version_major": 2,
       "version_minor": 0
      },
      "text/plain": [
       "Batches:   0%|          | 0/1 [00:00<?, ?it/s]"
      ]
     },
     "metadata": {},
     "output_type": "display_data"
    },
    {
     "data": {
      "application/vnd.jupyter.widget-view+json": {
       "model_id": "830e247b9adf4652b23c63b8e02a3937",
       "version_major": 2,
       "version_minor": 0
      },
      "text/plain": [
       "Batches:   0%|          | 0/1 [00:00<?, ?it/s]"
      ]
     },
     "metadata": {},
     "output_type": "display_data"
    },
    {
     "data": {
      "application/vnd.jupyter.widget-view+json": {
       "model_id": "eb0cf1f50a4e4e12a2d64376b30031d5",
       "version_major": 2,
       "version_minor": 0
      },
      "text/plain": [
       "Batches:   0%|          | 0/1 [00:00<?, ?it/s]"
      ]
     },
     "metadata": {},
     "output_type": "display_data"
    },
    {
     "data": {
      "application/vnd.jupyter.widget-view+json": {
       "model_id": "863743a8931940f9909154fd75ca5564",
       "version_major": 2,
       "version_minor": 0
      },
      "text/plain": [
       "Batches:   0%|          | 0/1 [00:00<?, ?it/s]"
      ]
     },
     "metadata": {},
     "output_type": "display_data"
    },
    {
     "data": {
      "application/vnd.jupyter.widget-view+json": {
       "model_id": "033caebfa40c40f89ed6d03566d198ea",
       "version_major": 2,
       "version_minor": 0
      },
      "text/plain": [
       "Batches:   0%|          | 0/1 [00:00<?, ?it/s]"
      ]
     },
     "metadata": {},
     "output_type": "display_data"
    },
    {
     "data": {
      "application/vnd.jupyter.widget-view+json": {
       "model_id": "f25e0a2484754334a7be01e5382d0e99",
       "version_major": 2,
       "version_minor": 0
      },
      "text/plain": [
       "Batches:   0%|          | 0/1 [00:00<?, ?it/s]"
      ]
     },
     "metadata": {},
     "output_type": "display_data"
    },
    {
     "data": {
      "application/vnd.jupyter.widget-view+json": {
       "model_id": "d91bac70129d489d99d82d3982dec3d8",
       "version_major": 2,
       "version_minor": 0
      },
      "text/plain": [
       "Batches:   0%|          | 0/1 [00:00<?, ?it/s]"
      ]
     },
     "metadata": {},
     "output_type": "display_data"
    },
    {
     "data": {
      "application/vnd.jupyter.widget-view+json": {
       "model_id": "6d92c58d120d4b95bdf27224a672882b",
       "version_major": 2,
       "version_minor": 0
      },
      "text/plain": [
       "Batches:   0%|          | 0/1 [00:00<?, ?it/s]"
      ]
     },
     "metadata": {},
     "output_type": "display_data"
    },
    {
     "data": {
      "application/vnd.jupyter.widget-view+json": {
       "model_id": "15375b18b4374444a03b18f3a67d03f9",
       "version_major": 2,
       "version_minor": 0
      },
      "text/plain": [
       "Batches:   0%|          | 0/1 [00:00<?, ?it/s]"
      ]
     },
     "metadata": {},
     "output_type": "display_data"
    },
    {
     "data": {
      "application/vnd.jupyter.widget-view+json": {
       "model_id": "11e6681e5aad4c009b9514a9e3481e10",
       "version_major": 2,
       "version_minor": 0
      },
      "text/plain": [
       "Batches:   0%|          | 0/1 [00:00<?, ?it/s]"
      ]
     },
     "metadata": {},
     "output_type": "display_data"
    },
    {
     "data": {
      "application/vnd.jupyter.widget-view+json": {
       "model_id": "1fd00932c9b449628bcf387e34707a69",
       "version_major": 2,
       "version_minor": 0
      },
      "text/plain": [
       "Batches:   0%|          | 0/1 [00:00<?, ?it/s]"
      ]
     },
     "metadata": {},
     "output_type": "display_data"
    },
    {
     "data": {
      "application/vnd.jupyter.widget-view+json": {
       "model_id": "6a5e97084a2648208d66a2363f9ea801",
       "version_major": 2,
       "version_minor": 0
      },
      "text/plain": [
       "Batches:   0%|          | 0/1 [00:00<?, ?it/s]"
      ]
     },
     "metadata": {},
     "output_type": "display_data"
    }
   ],
   "source": [
    "embedder = emb.Embedder()\n",
    "enriched_chunks = embedder.generate_embeddings(chunks)"
   ]
  },
  {
   "cell_type": "code",
   "execution_count": 7,
   "metadata": {},
   "outputs": [
    {
     "data": {
      "text/plain": [
       "1473"
      ]
     },
     "execution_count": 7,
     "metadata": {},
     "output_type": "execute_result"
    }
   ],
   "source": [
    "len(enriched_chunks)"
   ]
  },
  {
   "cell_type": "code",
   "execution_count": 11,
   "metadata": {},
   "outputs": [
    {
     "data": {
      "text/plain": [
       "[{'metadata': {'type': 'narrative', 'filename': 'capitulo7.pdf'},\n",
       "  'contenido': 'consideran Aceites alimenticios o Aceites comestibles, los admitidos como aptos para'},\n",
       " {'metadata': {'type': 'narrative', 'filename': 'capitulo7.pdf'},\n",
       "  'contenido': 'por el presente y los que en el futuro sean aceptados como tales por la'},\n",
       " {'metadata': {'type': 'narrative', 'filename': 'capitulo7.pdf'},\n",
       "  'contenido': 'aceites alimenticios se obtendrán a partir de semillas o frutos oleaginosos'},\n",
       " {'metadata': {'type': 'narrative', 'filename': 'capitulo7.pdf'},\n",
       "  'contenido': 'de elaboración que se ajusten a las condiciones de higiene establecidas por'},\n",
       " {'metadata': {'type': 'narrative', 'filename': 'capitulo7.pdf'},\n",
       "  'contenido': 'Presentarán aspecto límpido a 25C, sabor y olor agr adables y contendrán solamente'},\n",
       " {'metadata': {'type': 'narrative', 'filename': 'capitulo7.pdf'},\n",
       "  'contenido': 'propios del aceite que integra la composición de las semillas o frutos de'},\n",
       " {'metadata': {'type': 'narrative', 'filename': 'capitulo7.pdf'},\n",
       "  'contenido': 'y los aditivos que para el caso autoriza el'},\n",
       " {'metadata': {'type': 'narrative', 'filename': 'capitulo7.pdf'},\n",
       "  'contenido': 'aceites alimenticios se cl asificarán de la siguiente'},\n",
       " {'metadata': {'type': 'narrative', 'filename': 'capitulo7.pdf'},\n",
       "  'contenido': 'Aceite de: corresponde al aceite alimenticio proveniente de una sola especie'},\n",
       " {'metadata': {'type': 'narrative', 'filename': 'capitulo7.pdf'},\n",
       "  'contenido': 'los efectos de su obtención industrial, se admitirá la presencia de otro aceite en carácter'},\n",
       " {'metadata': {'type': 'narrative', 'filename': 'capitulo7.pdf'},\n",
       "  'contenido': 'en una proporción máxi ma del 5,0% en peso. Quedan exceptuados los aceites'},\n",
       " {'metadata': {'type': 'narrative', 'filename': 'capitulo7.pdf'},\n",
       "  'contenido': 'los que deberán responder y ajustarse exactamente a su denominación y,'},\n",
       " {'metadata': {'type': 'narrative', 'filename': 'capitulo7.pdf'},\n",
       "  'contenido': 'no se admitirá la presencia de ningún otro'},\n",
       " {'metadata': {'type': 'narrative', 'filename': 'capitulo7.pdf'},\n",
       "  'contenido': 'productos se rotularán: Aceite de... (llenando e l espacio en blanco con el nombre'},\n",
       " {'metadata': {'type': 'narrative', 'filename': 'capitulo7.pdf'},\n",
       "  'contenido': 'comestible mezcla: Es el aceite alimenticio constituido por la mezcla de 2 o'},\n",
       " {'metadata': {'type': 'narrative', 'filename': 'capitulo7.pdf'},\n",
       "  'contenido': 'alimenticios obtenidos de diferentes especies'},\n",
       " {'metadata': {'type': 'narrative', 'filename': 'capitulo7.pdf'},\n",
       "  'contenido': 'se consid erará como tal aquel cuyos aceites componentes estén presentes en'},\n",
       " {'metadata': {'type': 'narrative', 'filename': 'capitulo7.pdf'},\n",
       "  'contenido': 'producto se rotulará: Aceite comestible mezcla pudiendo indicarse el nombre de'},\n",
       " {'metadata': {'type': 'narrative', 'filename': 'capitulo7.pdf'},\n",
       "  'contenido': 'componentes y sus respectivos porcentajes, en orden'},\n",
       " {'metadata': {'type': 'narrative', 'filename': 'capitulo7.pdf'},\n",
       "  'contenido': 'caracteres uniformes, del mismo tamaño y'},\n",
       " {'metadata': {'type': 'narrative', 'filename': 'capitulo7.pdf'},\n",
       "  'contenido': 'representación gráfica del olivo o de sus frutos, o de cualquier otra especie vegetal,'},\n",
       " {'metadata': {'type': 'narrative', 'filename': 'capitulo7.pdf'},\n",
       "  'contenido': 'de fantasía que contengan las p alabras olivo y oliva o las correspondientes'},\n",
       " {'metadata': {'type': 'narrative', 'filename': 'capitulo7.pdf'},\n",
       "  'contenido': 'otra especie vegetal, sólo podrán usarse en los rótulos, publicidad y proyectos que'},\n",
       " {'metadata': {'type': 'narrative', 'filename': 'capitulo7.pdf'},\n",
       "  'contenido': 'al aceite proveniente de una sola especie'},\n",
       " {'metadata': {'type': 'narrative', 'filename': 'capitulo7.pdf'},\n",
       "  'contenido': 'prohib ido adicionar a los aceites alimenticios substancias extrañas destinadas a'},\n",
       " {'metadata': {'type': 'narrative', 'filename': 'capitulo7.pdf'},\n",
       "  'contenido': 'aroma, color o a modificar sus caracteres'},\n",
       " {'metadata': {'type': 'narrative', 'filename': 'capitulo7.pdf'},\n",
       "  'contenido': 'aceites y grasas vegetales comestibles podrán ser adicionados, co n la exclusión de'},\n",
       " {'metadata': {'type': 'narrative', 'filename': 'capitulo7.pdf'},\n",
       "  'contenido': 'de oliva de presión no refinados, de los siguientes antioxidantes y'},\n",
       " {'metadata': {'type': 'narrative', 'filename': 'capitulo7.pdf'},\n",
       "  'contenido': 'Galato de propilo, galato de octilo y galato de dodecilo (o sus mezclas), Máx: 100'},\n",
       " {'metadata': {'type': 'narrative', 'filename': 'capitulo7.pdf'},\n",
       "  'contenido': 'Hidroxianisol but ilado (BHA), Máx: 200 mg/kg (200'},\n",
       " {'metadata': {'type': 'narrative', 'filename': 'capitulo7.pdf'},\n",
       "  'contenido': 'Hidroxitolueno butilado (BHT), Máx: 200 mg/kg (200'},\n",
       " {'metadata': {'type': 'narrative', 'filename': 'capitulo7.pdf'},\n",
       "  'contenido': 'Terbutilhidroquinona (TBHQ), Máx: 200 mg/kg (200'},\n",
       " {'metadata': {'type': 'narrative', 'filename': 'capitulo7.pdf'},\n",
       "  'contenido': 'Mezcla de los galatos citados, BHA y/o BHT, Máx: 200 mg/kg (200 ppm) siempre que'},\n",
       " {'metadata': {'type': 'narrative', 'filename': 'capitulo7.pdf'},\n",
       "  'contenido': 'Mezclas de TBHQ con BHA y BHT, Máx: 200 mg/kg (200'},\n",
       " {'metadata': {'type': 'narrative', 'filename': 'capitulo7.pdf'},\n",
       "  'contenido': 'Tocoferoles naturales o sintéticos (en concentración que no exceda la necesaria para'},\n",
       " {'metadata': {'type': 'narrative', 'filename': 'capitulo7.pdf'},\n",
       "  'contenido': 'Palmitato y estearato de ascorbilo, Máx: 200 mg/ kg (200 ppm), aislados o'},\n",
       " {'metadata': {'type': 'narrative', 'filename': 'capitulo7.pdf'},\n",
       "  'contenido': 'Acido cítrico, ácido fosfórico, citrato de monoisopropilo, ésteres de monoglicéridos con'},\n",
       " {'metadata': {'type': 'narrative', 'filename': 'capitulo7.pdf'},\n",
       "  'contenido': 'Máx: 100 mg/kg (100 ppm), aislados o'},\n",
       " {'metadata': {'type': 'narrative', 'filename': 'capitulo7.pdf'},\n",
       "  'contenido': 'máximo señalado para los compuestos comprendidos en el Inc 9 s erá el mismo cuando'},\n",
       " {'metadata': {'type': 'narrative', 'filename': 'capitulo7.pdf'},\n",
       "  'contenido': 'solos (si el aceite posee suficientes antioxidantes naturales) o en mezclas sinérgicas'},\n",
       " {'metadata': {'type': 'narrative', 'filename': 'capitulo7.pdf'},\n",
       "  'contenido': 'antioxidantes citados en los Inc 1 a'},\n",
       " {'metadata': {'type': 'narrative', 'filename': 'capitulo7.pdf'},\n",
       "  'contenido': 'aceite comestible destinado a ser fraccionado debe rá ser almacenado en'},\n",
       " {'metadata': {'type': 'narrative', 'filename': 'capitulo7.pdf'},\n",
       "  'contenido': 'mantenidos en todo momento en condiciones de'},\n",
       " {'metadata': {'type': 'narrative', 'filename': 'capitulo7.pdf'},\n",
       "  'contenido': 'prohibido envasar aceites comestibles en los comercios detallistas y demás lugares'},\n",
       " {'metadata': {'type': 'narrative', 'filename': 'capitulo7.pdf'},\n",
       "  'contenido': 'al público, como también el expendio ambulante de los mismos'},\n",
       " {'metadata': {'type': 'narrative', 'filename': 'capitulo7.pdf'},\n",
       "  'contenido': 'establecimientos que fraccionan y envasan aceites, deben cumplir con las'},\n",
       " {'metadata': {'type': 'narrative', 'filename': 'capitulo7.pdf'},\n",
       "  'contenido': 'del presente y, además, disponer de locales destinados exclusivamente a este'},\n",
       " {'metadata': {'type': 'narrative', 'filename': 'capitulo7.pdf'},\n",
       "  'contenido': '525 - (Resolución Co njunta SPReI y SAGP yA N 31/2008 y N'},\n",
       " {'metadata': {'type': 'narrative', 'filename': 'capitulo7.pdf'},\n",
       "  'contenido': 'Aceites comestibles, con la sola excepción de los aceites vírgenes, definidos en'},\n",
       " {'metadata': {'type': 'narrative', 'filename': 'capitulo7.pdf'},\n",
       "  'contenido': 'deben haber sido convenientemente refinados, a través de procesos'},\n",
       " {'metadata': {'type': 'narrative', 'filename': 'capitulo7.pdf'},\n",
       "  'contenido': 'a fin que cump lan con las exigencias del presente Código. Serán'},\n",
       " {'metadata': {'type': 'narrative', 'filename': 'capitulo7.pdf'},\n",
       "  'contenido': 'Los aceites y grasas vegetales cuya acidez libre sea superior a 0,60 mg de KOH/g'},\n",
       " {'metadata': {'type': 'narrative', 'filename': 'capitulo7.pdf'},\n",
       "  'contenido': 'ácido oleico) y los aceites cuya acidez supere los valores indicad os en los artículos 528'},\n",
       " {'metadata': {'type': 'narrative', 'filename': 'capitulo7.pdf'},\n",
       "  'contenido': '2. Los aceites y grasas vegetales que presenten olor y sabor extraños y/o rancios o'},\n",
       " {'metadata': {'type': 'narrative', 'filename': 'capitulo7.pdf'},\n",
       "  'contenido': 'Los aceites y grasas vegetales cuyos índices de peróxido sean superiores a los'},\n",
       " {'metadata': {'type': 'narrative', 'filename': 'capitulo7.pdf'},\n",
       "  'contenido': 'los artículos de referencia del presente'},\n",
       " {'metadata': {'type': 'narrative', 'filename': 'capitulo7.pdf'},\n",
       "  'contenido': 'Los aceites y grasas alimenticios refinados que contengan restos de substancias'},\n",
       " {'metadata': {'type': 'narrative', 'filename': 'capitulo7.pdf'},\n",
       "  'contenido': 'los procesos de refinación y los extraídos con solventes no'},\n",
       " {'metadata': {'type': 'narrative', 'filename': 'capitulo7.pdf'},\n",
       "  'contenido': 'presenten un contenido superior'},\n",
       " {'metadata': {'type': 'narrative', 'filename': 'capitulo7.pdf'},\n",
       "  'contenido': 'Aceite de girasol virgen: 0,4 mg/kg como Cu Los demás: 0,1 mg/kg como'},\n",
       " {'metadata': {'type': 'narrative', 'filename': 'capitulo7.pdf'},\n",
       "  'contenido': 'Aceite de girasol virgen: 5,0 mg/kg como Fe Aceite de oliva: 3,0 mg/kg como Fe'},\n",
       " {'metadata': {'type': 'narrative', 'filename': 'capitulo7.pdf'},\n",
       "  'contenido': 'insolubles en éter etílico: 500 mg/'},\n",
       " {'metadata': {'type': 'narrative', 'filename': 'capitulo7.pdf'},\n",
       "  'contenido': 'Los aceites alimenticios que contengan más'},\n",
       " {'metadata': {'type': 'narrative', 'filename': 'capitulo7.pdf'},\n",
       "  'contenido': 'de ácido erúcico referido a los'},\n",
       " {'metadata': {'type': 'narrative', 'filename': 'capitulo7.pdf'},\n",
       "  'contenido': '526 - (Resolución Conjunta SPRyRS y SAGPyA Nº 122/2005 y'},\n",
       " {'metadata': {'type': 'narrative', 'filename': 'capitulo7.pdf'},\n",
       "  'contenido': 'disolvente que se utilice para la extracción de aceites alimenticios deberá ser'},\n",
       " {'metadata': {'type': 'narrative', 'filename': 'capitulo7.pdf'},\n",
       "  'contenido': 'de la redestilac ión de naftas de Topping, con exclusión absoluta de naftas'},\n",
       " {'metadata': {'type': 'narrative', 'filename': 'capitulo7.pdf'},\n",
       "  'contenido': 'Deberá cumplir con las siguientes especificaciones de identidad y'},\n",
       " {'metadata': {'type': 'narrative', 'filename': 'capitulo7.pdf'},\n",
       "  'contenido': 'Definición: Fracción de hidrocarburos parafínicos del petróleo compuesta principalmente por n - hexano, 2 -metilpentano, 3 -metilpentano, con cantidades menores de otros'},\n",
       " {'metadata': {'type': 'narrative', 'filename': 'capitulo7.pdf'},\n",
       "  'contenido': 'de 5, 6 y 7 carbonos, ciclohexano y'},\n",
       " {'metadata': {'type': 'narrative', 'filename': 'capitulo7.pdf'},\n",
       "  'contenido': 'Líquido móvil, incoloro, límpido, de olor característico a petróleo, libre'},\n",
       " {'metadata': {'type': 'narrative', 'filename': 'capitulo7.pdf'},\n",
       "  'contenido': 'relativa a 20/20C: 0,665 a 0,687 (n -hexano puro alrededor de'},\n",
       " {'metadata': {'type': 'narrative', 'filename': 'capitulo7.pdf'},\n",
       "  'contenido': 'de refracción a 20C: 1,381 a 1,384 (n -hexano puro alrededor de'},\n",
       " {'metadata': {'type': 'narrative', 'filename': 'capitulo7.pdf'},\n",
       "  'contenido': 'del residuo: neutra al anaranjado de'},\n",
       " {'metadata': {'type': 'narrative', 'filename': 'capitulo7.pdf'},\n",
       "  'contenido': 'de destilación: el 95% v/v destila entre 64C y'},\n",
       " {'metadata': {'type': 'narrative', 'filename': 'capitulo7.pdf'},\n",
       "  'contenido': '(Hidrocarburos aromáticos polinucleares): No se deberán'},\n",
       " {'metadata': {'type': 'narrative', 'filename': 'capitulo7.pdf'},\n",
       "  'contenido': 'siguientes límites de absorbancia para 1 cm de'},\n",
       " {'metadata': {'type': 'narrative', 'filename': 'capitulo7.pdf'},\n",
       "  'contenido': 'Metodología Analítica Oficial para el análisis de los aceites y grasas comestibles'},\n",
       " {'metadata': {'type': 'narrative', 'filename': 'capitulo7.pdf'},\n",
       "  'contenido': 'por las técnicas descriptas en las correspondientes norm as del Instituto'},\n",
       " {'metadata': {'type': 'narrative', 'filename': 'capitulo7.pdf'},\n",
       "  'contenido': 'Racionalización de Materiales hasta la publicación de las técnicas que se incorporen'},\n",
       " {'metadata': {'type': 'narrative', 'filename': 'capitulo7.pdf'},\n",
       "  'contenido': 'de METODOLOGIA ANALITICA del presente'},\n",
       " {'metadata': {'type': 'narrative', 'filename': 'capitulo7.pdf'},\n",
       "  'contenido': 'denomina Aceite de algodón o Aceite de a lgodonero, el obtenido de semillas de las'},\n",
       " {'metadata': {'type': 'narrative', 'filename': 'capitulo7.pdf'},\n",
       "  'contenido': 'características fisicoquímicas del aceite refinado'},\n",
       " {'metadata': {'type': 'narrative', 'filename': 'capitulo7.pdf'},\n",
       "  'contenido': 'de Bellier modificado (medio acético de precipitación): 19,5C a'},\n",
       " {'metadata': {'type': 'narrative', 'filename': 'capitulo7.pdf'},\n",
       "  'contenido': 'de p eróxido, Máx: 10,0 miliequiv. de'},\n",
       " {'metadata': {'type': 'narrative', 'filename': 'capitulo7.pdf'},\n",
       "  'contenido': 'aceite tipo verano permanecerá límpido al cabo de dos horas, de mantener una muestra'},\n",
       " {'metadata': {'type': 'narrative', 'filename': 'capitulo7.pdf'},\n",
       "  'contenido': 'El aceite tipo invierno mantenido a una temperatura de 0C deberá permanecer límpido al'},\n",
       " {'metadata': {'type': 'narrative', 'filename': 'capitulo7.pdf'},\n",
       "  'contenido': 'Los aceites de algodón acusarán reacción de Halphen (compuestos ciclopropenoicos)'},\n",
       " {'metadata': {'type': 'narrative', 'filename': 'capitulo7.pdf'},\n",
       "  'contenido': 'reacción podrá ser débilmente positiva y hasta negativa en aceites de algodón sometidos'},\n",
       " {'metadata': {'type': 'narrative', 'filename': 'capitulo7.pdf'},\n",
       "  'contenido': 'especiales aprobados por la autoridad sanitaria'},\n",
       " {'metadata': {'type': 'narrative', 'filename': 'capitulo7.pdf'},\n",
       "  'contenido': '(Resolución Conjunta RESFC -2018'},\n",
       " {'metadata': {'type': 'narrative', 'filename': 'capitulo7.pdf'},\n",
       "  'contenido': 'Se denomina aceite de Chía de uso industrial, al obtenido de semillas de Salvia hispánica L.'},\n",
       " {'metadata': {'type': 'narrative', 'filename': 'capitulo7.pdf'},\n",
       "  'contenido': 'en frío por procedimientos mecánicos únicamente, sin la'},\n",
       " {'metadata': {'type': 'narrative', 'filename': 'capitulo7.pdf'},\n",
       "  'contenido': 'haber sido purificado por sedimentación, filtración y/o'},\n",
       " {'metadata': {'type': 'narrative', 'filename': 'capitulo7.pdf'},\n",
       "  'contenido': 'El aceite de chía deberá responder a las siguientes'},\n",
       " {'metadata': {'type': 'narrative', 'filename': 'capitulo7.pdf'},\n",
       "  'contenido': 'Aspecto: color amarillo claro, brillante, libre de materiales'},\n",
       " {'metadata': {'type': 'narrative', 'filename': 'capitulo7.pdf'},\n",
       "  'contenido': 'Sabor y aroma: Car acterístico del aceite, sabor y olor suave, sin indicios de rancidez u'},\n",
       " {'metadata': {'type': 'narrative', 'filename': 'capitulo7.pdf'},\n",
       "  'contenido': 'Acidez libre: Máx. : 1,0% como ácido'},\n",
       " {'metadata': {'type': 'narrative', 'filename': 'capitulo7.pdf'},\n",
       "  'contenido': 'Índice de refracción a 20C: entre 1,4813 y'},\n",
       " {'metadata': {'type': 'narrative', 'filename': 'capitulo7.pdf'},\n",
       "  'contenido': 'Índice de peróxidos: Máx. : 10,0 miliequivalentes de'},\n",
       " {'metadata': {'type': 'narrative', 'filename': 'capitulo7.pdf'},\n",
       "  'contenido': 'Impurezas insolubles: Máx. : 0,05'},\n",
       " {'metadata': {'type': 'narrative', 'filename': 'capitulo7.pdf'},\n",
       "  'contenido': 'Composición de ácidos grasos determinada por cromatografía en fase gaseosa'},\n",
       " {'metadata': {'type': 'narrative', 'filename': 'capitulo7.pdf'},\n",
       "  'contenido': 'Los límites máximos de tolerancia de contaminantes inorgánicos serán los establecidos en'},\n",
       " {'metadata': {'type': 'narrative', 'filename': 'capitulo7.pdf'},\n",
       "  'contenido': 'El aceite de chía se empleará en no más del 10% en mezcla con otro aceite'},\n",
       " {'metadata': {'type': 'narrative', 'filename': 'capitulo7.pdf'},\n",
       "  'contenido': 'Este producto se rotulará: Aceite de chía para uso'},\n",
       " {'metadata': {'type': 'narrative', 'filename': 'capitulo7.pdf'},\n",
       "  'contenido': '528 - (Resolución Conjunta SPReI N'},\n",
       " {'metadata': {'type': 'narrative', 'filename': 'capitulo7.pdf'},\n",
       "  'contenido': 'presente Resolución entr a en vigencia a partir del 15 de agosto de 2013.'},\n",
       " {'metadata': {'type': 'narrative', 'filename': 'capitulo7.pdf'},\n",
       "  'contenido': 'a las empresas un plazo de ciento ochenta (180) días corridos para'},\n",
       " {'metadata': {'type': 'narrative', 'filename': 'capitulo7.pdf'},\n",
       "  'contenido': 'Se denomina Aceite de girasol, el obtenido de semillas de distintas variedades de H'},\n",
       " {'metadata': {'type': 'narrative', 'filename': 'capitulo7.pdf'},\n",
       "  'contenido': 'Con la denominación de Aceite de girasol virgen se entiende el aceite extraído de'},\n",
       " {'metadata': {'type': 'narrative', 'filename': 'capitulo7.pdf'},\n",
       "  'contenido': 'girasol (Helianthus annuus L.) por procedimientos exclusivamente mecánicos'},\n",
       " {'metadata': {'type': 'narrative', 'filename': 'capitulo7.pdf'},\n",
       "  'contenido': 'sido modificado por lavado, sedimentación, ce ntrifugación y/o filtración únicamente.'},\n",
       " {'metadata': {'type': 'narrative', 'filename': 'capitulo7.pdf'},\n",
       "  'contenido': 'permite el uso de aditivos alimentarios en el aceite de girasol'},\n",
       " {'metadata': {'type': 'narrative', 'filename': 'capitulo7.pdf'},\n",
       "  'contenido': 'aceite de girasol virgen debe responder a las siguientes características físico'},\n",
       " {'metadata': {'type': 'narrative', 'filename': 'capitulo7.pdf'},\n",
       "  'contenido': 'de peróxidos: Máx. 15,0 miliequivalentes de'},\n",
       " {'metadata': {'type': 'narrative', 'filename': 'capitulo7.pdf'},\n",
       "  'contenido': 'expresada en ácido oleico: Máx.'},\n",
       " {'metadata': {'type': 'narrative', 'filename': 'capitulo7.pdf'},\n",
       "  'contenido': 'grasos trans: Máx. 0,1% sobre el total de ácidos'},\n",
       " {'metadata': {'type': 'narrative', 'filename': 'capitulo7.pdf'},\n",
       "  'contenido': 'Con la denominación d e Aceite de girasol refinado se entiende el aceite obtenido'},\n",
       " {'metadata': {'type': 'narrative', 'filename': 'capitulo7.pdf'},\n",
       "  'contenido': 'aceite de girasol refinado debe responder a las siguientes características físico'},\n",
       " {'metadata': {'type': 'narrative', 'filename': 'capitulo7.pdf'},\n",
       "  'contenido': 'de peróxidos: Máx. 10,0 miliequivalentes de'},\n",
       " {'metadata': {'type': 'narrative', 'filename': 'capitulo7.pdf'},\n",
       "  'contenido': 'expresada en ácido oleico: Máx.'},\n",
       " {'metadata': {'type': 'narrative', 'filename': 'capitulo7.pdf'},\n",
       "  'contenido': 'en cuenta su composición en ácidos grasos, el aceite de girasol se clasifica'},\n",
       " {'metadata': {'type': 'narrative', 'filename': 'capitulo7.pdf'},\n",
       "  'contenido': 'Aceite de girasol: aquel cuyo contenido de ácido oleico sea como máximo 54,9% sobre'},\n",
       " {'metadata': {'type': 'narrative', 'filename': 'capitulo7.pdf'},\n",
       "  'contenido': 'responder a las siguientes características f'},\n",
       " {'metadata': {'type': 'narrative', 'filename': 'capitulo7.pdf'},\n",
       "  'contenido': 'absoluta en el vacío a 25ºC: 0,9133 a'},\n",
       " {'metadata': {'type': 'narrative', 'filename': 'capitulo7.pdf'},\n",
       "  'contenido': 'Aceite de girasol medio oleico: aquel cuyo contenido de ácido ole ico esté comprendido'},\n",
       " {'metadata': {'type': 'narrative', 'filename': 'capitulo7.pdf'},\n",
       "  'contenido': 'y 74,9% sobre el total de ácidos'},\n",
       " {'metadata': {'type': 'narrative', 'filename': 'capitulo7.pdf'},\n",
       "  'contenido': 'responder a las siguientes características físico'},\n",
       " {'metadata': {'type': 'narrative', 'filename': 'capitulo7.pdf'},\n",
       "  'contenido': 'absoluta en el vacío a 25ºC: 0,9106 a'},\n",
       " {'metadata': {'type': 'narrative', 'filename': 'capitulo7.pdf'},\n",
       "  'contenido': 'Aceite de girasol alto oleico: aquel cuyo contenido de ácido oleico sea igual o mayor'},\n",
       " {'metadata': {'type': 'narrative', 'filename': 'capitulo7.pdf'},\n",
       "  'contenido': 'responder a las siguientes características físico'},\n",
       " {'metadata': {'type': 'narrative', 'filename': 'capitulo7.pdf'},\n",
       "  'contenido': 'absoluta en el vacío a 25ºC: Máx.'},\n",
       " {'metadata': {'type': 'narrative', 'filename': 'capitulo7.pdf'},\n",
       "  'contenido': 'Aceite de girasol Alto Esteárico -Alto Oleico (AEAO): aquel cuyo contenido de ácido oleico'},\n",
       " {'metadata': {'type': 'narrative', 'filename': 'capitulo7.pdf'},\n",
       "  'contenido': 'o ma yor a 60,0% y cuyo contenido de ácido esteárico sea igual o mayor a 10,0% sobre'},\n",
       " {'metadata': {'type': 'narrative', 'filename': 'capitulo7.pdf'},\n",
       "  'contenido': 'responder a las siguientes características físico'},\n",
       " {'metadata': {'type': 'narrative', 'filename': 'capitulo7.pdf'},\n",
       "  'contenido': 'absoluta en el vacío a 25ºC: 0,9061 a'},\n",
       " {'metadata': {'type': 'narrative', 'filename': 'capitulo7.pdf'},\n",
       "  'contenido': 'de refracción a 25ºC : 1,4653 a'},\n",
       " {'metadata': {'type': 'narrative', 'filename': 'capitulo7.pdf'},\n",
       "  'contenido': 'denomina Aceite de cártamo, el obtenido de semillas de distintas variedades de'},\n",
       " {'metadata': {'type': 'narrative', 'filename': 'capitulo7.pdf'},\n",
       "  'contenido': 'características fi sicoquímicas del aceite refinado'},\n",
       " {'metadata': {'type': 'narrative', 'filename': 'capitulo7.pdf'},\n",
       "  'contenido': 'de Bellier modificado (medio acético de precipitación): 14,5C a'},\n",
       " {'metadata': {'type': 'narrative', 'filename': 'capitulo7.pdf'},\n",
       "  'contenido': 'de peróxido, Máx: 10,0 miliequivalentes de'},\n",
       " {'metadata': {'type': 'narrative', 'filename': 'capitulo7.pdf'},\n",
       "  'contenido': 'denomina Aceite de alazor, el aceite de cártamo obtenido de la semilla'},\n",
       " {'metadata': {'type': 'narrative', 'filename': 'capitulo7.pdf'},\n",
       "  'contenido': 'L, variedad genética UCI, tipo 01'},\n",
       " {'metadata': {'type': 'narrative', 'filename': 'capitulo7.pdf'},\n",
       "  'contenido': 'obtenido únicamente por presión hidráulica de las semillas de cártamo indicadas,'},\n",
       " {'metadata': {'type': 'narrative', 'filename': 'capitulo7.pdf'},\n",
       "  'contenido': 'solventes en su elaboración, refinándose me diante métodos convencionales y'},\n",
       " {'metadata': {'type': 'narrative', 'filename': 'capitulo7.pdf'},\n",
       "  'contenido': 'de aditivosantioxidantes durante la elaboración, ni agregados'},\n",
       " {'metadata': {'type': 'narrative', 'filename': 'capitulo7.pdf'},\n",
       "  'contenido': 'características fisicoquímicos del aceite refinado'},\n",
       " {'metadata': {'type': 'narrative', 'filename': 'capitulo7.pdf'},\n",
       "  'contenido': 'denomina Aceite de maíz, el obtenido del germen de semilla de Zea mays'},\n",
       " {'metadata': {'type': 'narrative', 'filename': 'capitulo7.pdf'},\n",
       "  'contenido': 'características fisicoquímicas del aceite refinado'},\n",
       " {'metadata': {'type': 'narrative', 'filename': 'capitulo7.pdf'},\n",
       "  'contenido': 'de Bellier modificado (medio acético de precipitación): 16C a'},\n",
       " {'metadata': {'type': 'narrative', 'filename': 'capitulo7.pdf'},\n",
       "  'contenido': 'de peróxido, Máx: 10,0 miliequivalentes. de'},\n",
       " {'metadata': {'type': 'narrative', 'filename': 'capitulo7.pdf'},\n",
       "  'contenido': 'denomina Aceite de maní, el obtenido de se millas de distintas variedades de'},\n",
       " {'metadata': {'type': 'narrative', 'filename': 'capitulo7.pdf'},\n",
       "  'contenido': 'características fisicoquímicas del aceite refinado'},\n",
       " {'metadata': {'type': 'narrative', 'filename': 'capitulo7.pdf'},\n",
       "  'contenido': 'de Bellier modificado (medio acético de precipitación): 38C a'},\n",
       " {'metadata': {'type': 'narrative', 'filename': 'capitulo7.pdf'},\n",
       "  'contenido': 'peróxido, Máx: 10,0 miliequivalentes de'},\n",
       " {'metadata': {'type': 'narrative', 'filename': 'capitulo7.pdf'},\n",
       "  'contenido': 'denomina Aceite de uva o de Pepita de uva, el obtenido de semilla de distintas'},\n",
       " {'metadata': {'type': 'narrative', 'filename': 'capitulo7.pdf'},\n",
       "  'contenido': 'características fisicoquímicas del aceite refinado'},\n",
       " {'metadata': {'type': 'narrative', 'filename': 'capitulo7.pdf'},\n",
       "  'contenido': 'de Bellier modificado (medio acético de precipitación): 13 C a'},\n",
       " {'metadata': {'type': 'narrative', 'filename': 'capitulo7.pdf'},\n",
       "  'contenido': 'de peróxido, Máx: 10,0 miliequivalentes de'},\n",
       " {'metadata': {'type': 'narrative', 'filename': 'capitulo7.pdf'},\n",
       "  'contenido': '532 bis - (Resolución Conjunta SCS y SAByDR N 29/2021'},\n",
       " {'metadata': {'type': 'narrative', 'filename': 'capitulo7.pdf'},\n",
       "  'contenido': 'entiende con la denominación de aceite de rosa mosqueta, al obtenido de semi llas de'},\n",
       " {'metadata': {'type': 'narrative', 'filename': 'capitulo7.pdf'},\n",
       "  'contenido': 'y sus variedades presentes en este Código; por prensado en frío o'},\n",
       " {'metadata': {'type': 'narrative', 'filename': 'capitulo7.pdf'},\n",
       "  'contenido': 'mecánicos únicamente, sin la aplicación de calor. Podrá haber sido'},\n",
       " {'metadata': {'type': 'narrative', 'filename': 'capitulo7.pdf'},\n",
       "  'contenido': 'El aceite de rosa mosqueta deberá responder a las siguientes'},\n",
       " {'metadata': {'type': 'narrative', 'filename': 'capitulo7.pdf'},\n",
       "  'contenido': 'Aspecto: color ámbar anaranjado, libre de materiales'},\n",
       " {'metadata': {'type': 'narrative', 'filename': 'capitulo7.pdf'},\n",
       "  'contenido': 'Sabor y aroma: Característico y olor suave, sin indicios de rancidez u otra'},\n",
       " {'metadata': {'type': 'narrative', 'filename': 'capitulo7.pdf'},\n",
       "  'contenido': '1.5. Índice de refracción a 20C: 1,4670 -'},\n",
       " {'metadata': {'type': 'narrative', 'filename': 'capitulo7.pdf'},\n",
       "  'contenido': 'Impurezas insolubles: Máx. : 0,05'},\n",
       " {'metadata': {'type': 'narrative', 'filename': 'capitulo7.pdf'},\n",
       "  'contenido': 'límites máximos de tolerancia de contaminantes inorgánicos serán los establecidos en'},\n",
       " {'metadata': {'type': 'narrative', 'filename': 'capitulo7.pdf'},\n",
       "  'contenido': 'producto se denominará: Aceite de rosa'},\n",
       " {'metadata': {'type': 'narrative', 'filename': 'capitulo7.pdf'},\n",
       "  'contenido': '533 - Resolución Conjunta SPReI y SAV N'},\n",
       " {'metadata': {'type': 'narrative', 'filename': 'capitulo7.pdf'},\n",
       "  'contenido': 'de soja, el obtenido de semilla de Glycine'},\n",
       " {'metadata': {'type': 'narrative', 'filename': 'capitulo7.pdf'},\n",
       "  'contenido': 'responder a las siguientes características físico'},\n",
       " {'metadata': {'type': 'narrative', 'filename': 'capitulo7.pdf'},\n",
       "  'contenido': 'Índice de Bellier modificado (medio acético de precipitac ión): 17C a'},\n",
       " {'metadata': {'type': 'narrative', 'filename': 'capitulo7.pdf'},\n",
       "  'contenido': 'Índice de peróxido, Máx. : 10,0 miliequivalentes de'},\n",
       " {'metadata': {'type': 'narrative', 'filename': 'capitulo7.pdf'},\n",
       "  'contenido': 'en cuenta su composición en ácidos grasos, el aceite de soya o soja se clasifica'},\n",
       " {'metadata': {'type': 'narrative', 'filename': 'capitulo7.pdf'},\n",
       "  'contenido': 'Aceite de soja: aquel cuyo contenido de ácido oleico sea como máximo 30,0% so bre el'},\n",
       " {'metadata': {'type': 'narrative', 'filename': 'capitulo7.pdf'},\n",
       "  'contenido': 'ácidos grasos. Debe responder a las siguientes características físico'},\n",
       " {'metadata': {'type': 'narrative', 'filename': 'capitulo7.pdf'},\n",
       "  'contenido': 'Densidad relativa a 25/4C: 0,9180 a'},\n",
       " {'metadata': {'type': 'narrative', 'filename': 'capitulo7.pdf'},\n",
       "  'contenido': 'Índice de refracción a 25C: 1,4724 a'},\n",
       " {'metadata': {'type': 'narrative', 'filename': 'capitulo7.pdf'},\n",
       "  'contenido': 'Índice de saponificación: 1 88 a'},\n",
       " {'metadata': {'type': 'narrative', 'filename': 'capitulo7.pdf'},\n",
       "  'contenido': 'producto se denominará: aceite de soya o aceite de'},\n",
       " {'metadata': {'type': 'narrative', 'filename': 'capitulo7.pdf'},\n",
       "  'contenido': 'Aceite de soja alto oleico: aquel cuyo contenido de ácid o oleico sea igual o mayor a 75'},\n",
       " {'metadata': {'type': 'narrative', 'filename': 'capitulo7.pdf'},\n",
       "  'contenido': 'responder a las siguientes características físico'},\n",
       " {'metadata': {'type': 'narrative', 'filename': 'capitulo7.pdf'},\n",
       "  'contenido': 'Densidad relativa a 25C: 0,9092'},\n",
       " {'metadata': {'type': 'narrative', 'filename': 'capitulo7.pdf'},\n",
       "  'contenido': 'Índice de refracción a 25C: 1,4671 -'},\n",
       " {'metadata': {'type': 'narrative', 'filename': 'capitulo7.pdf'},\n",
       "  'contenido': 'producto se denominará: aceite de soya alto oleico o aceite de'},\n",
       " {'metadata': {'type': 'narrative', 'filename': 'capitulo7.pdf'},\n",
       "  'contenido': 'denomina Aceite de sésamo, el obtenido de las semillas de Sesamun indicum'},\n",
       " {'metadata': {'type': 'narrative', 'filename': 'capitulo7.pdf'},\n",
       "  'contenido': 'características fisicoquímicas del aceite refinado'},\n",
       " {'metadata': {'type': 'narrative', 'filename': 'capitulo7.pdf'},\n",
       "  'contenido': 'denomina Aceite de nabo o de colza o de nabina, el obteni do de semillas de'},\n",
       " {'metadata': {'type': 'narrative', 'filename': 'capitulo7.pdf'},\n",
       "  'contenido': 'de Brassica campestris L. y B. napus'},\n",
       " {'metadata': {'type': 'narrative', 'filename': 'capitulo7.pdf'},\n",
       "  'contenido': 'características fisicoquímicas del aceite refinado'},\n",
       " {'metadata': {'type': 'narrative', 'filename': 'capitulo7.pdf'},\n",
       "  'contenido': 'de Bellier modificado (medio acético de precipitación): 18C a'},\n",
       " {'metadata': {'type': 'narrative', 'filename': 'capitulo7.pdf'},\n",
       "  'contenido': 'erúcico, Máx: 5% referido a los ácidos grasos'},\n",
       " {'metadata': {'type': 'narrative', 'filename': 'capitulo7.pdf'},\n",
       "  'contenido': 'de peróxido, Máx: 10,0 miliequiv. de'},\n",
       " {'metadata': {'type': 'narrative', 'filename': 'capitulo7.pdf'},\n",
       "  'contenido': 'denomina Aceite de arroz, el obtenido del grano de arroz, Oryza'},\n",
       " {'metadata': {'type': 'narrative', 'filename': 'capitulo7.pdf'},\n",
       "  'contenido': 'características fisicoquímicas del aceite refinado'},\n",
       " {'metadata': {'type': 'narrative', 'filename': 'capitulo7.pdf'},\n",
       "  'contenido': 'de Bellier modificado (medio acético de'},\n",
       " {'metadata': {'type': 'narrative', 'filename': 'capitulo7.pdf'},\n",
       "  'contenido': 'de polibromuros insolubles, Máx:'},\n",
       " {'metadata': {'type': 'narrative', 'filename': 'capitulo7.pdf'},\n",
       "  'contenido': 'de peróxido, Máx: 5 miliequivalentes de'},\n",
       " {'metadata': {'type': 'narrative', 'filename': 'capitulo7.pdf'},\n",
       "  'contenido': '535 ( Resolución Conjunta SPReI N'},\n",
       " {'metadata': {'type': 'narrative', 'filename': 'capitulo7.pdf'},\n",
       "  'contenido': 'entiende por Aceite de oliva, el obtenido de'},\n",
       " {'metadata': {'type': 'narrative', 'filename': 'capitulo7.pdf'},\n",
       "  'contenido': 'denominan Aceites de oliva vírgenes a los obtenidos a partir del fruto del'},\n",
       " {'metadata': {'type': 'narrative', 'filename': 'capitulo7.pdf'},\n",
       "  'contenido': 'por procedimientos mecánicos y técnicos adecuados y purificado solamente'},\n",
       " {'metadata': {'type': 'narrative', 'filename': 'capitulo7.pdf'},\n",
       "  'contenido': 'sedimentación, filtración y/o centrifugación (excluid a la extracción por'},\n",
       " {'metadata': {'type': 'narrative', 'filename': 'capitulo7.pdf'},\n",
       "  'contenido': 'aceite de oliva obtenido por presión y sometido a proceso de refinación se designará'},\n",
       " {'metadata': {'type': 'narrative', 'filename': 'capitulo7.pdf'},\n",
       "  'contenido': 'la designación de Aceite de Oliva (sin otra denominación) se entiende a una mezcla'},\n",
       " {'metadata': {'type': 'narrative', 'filename': 'capitulo7.pdf'},\n",
       "  'contenido': 'de o liva virgen con aceite de oliva'},\n",
       " {'metadata': {'type': 'narrative', 'filename': 'capitulo7.pdf'},\n",
       "  'contenido': 'comercializarán según las denominaciones y definiciones'},\n",
       " {'metadata': {'type': 'narrative', 'filename': 'capitulo7.pdf'},\n",
       "  'contenido': 'Aceite de oliva virgen: es el aceite obtenido del fruto del olivo únicamente por'},\n",
       " {'metadata': {'type': 'narrative', 'filename': 'capitulo7.pdf'},\n",
       "  'contenido': 'o por otros medios físicos en con diciones, especialmente térmicas, que'},\n",
       " {'metadata': {'type': 'narrative', 'filename': 'capitulo7.pdf'},\n",
       "  'contenido': 'la alteración del aceite, y que no haya tenido más tratamientos que el lavado,'},\n",
       " {'metadata': {'type': 'narrative', 'filename': 'capitulo7.pdf'},\n",
       "  'contenido': 'de oliva virgen cuya acidez libre máxima expresada'},\n",
       " {'metadata': {'type': 'narrative', 'filename': 'capitulo7.pdf'},\n",
       "  'contenido': 'oleico es 0,8 gr. cada 100 gr., y sus características físicas, químicas y'},\n",
       " {'metadata': {'type': 'narrative', 'filename': 'capitulo7.pdf'},\n",
       "  'contenido': 'a las establecidas en el presente'},\n",
       " {'metadata': {'type': 'narrative', 'filename': 'capitulo7.pdf'},\n",
       "  'contenido': 'de oliva virgen: es el aceite de o liva virgen cuya acidez libre máxima expresada en'},\n",
       " {'metadata': {'type': 'narrative', 'filename': 'capitulo7.pdf'},\n",
       "  'contenido': 'es 2 gr. cada 100 gr., y sus características físicas, químicas y'},\n",
       " {'metadata': {'type': 'narrative', 'filename': 'capitulo7.pdf'},\n",
       "  'contenido': 'de oliva virgen corriente: es el aceite de'},\n",
       " {'metadata': {'type': 'narrative', 'filename': 'capitulo7.pdf'},\n",
       "  'contenido': 'en ácido oleico es 3,3 gr. cada 100 gr., y sus características físicas, químicas'},\n",
       " {'metadata': {'type': 'narrative', 'filename': 'capitulo7.pdf'},\n",
       "  'contenido': 'las establecidas en el presente'},\n",
       " {'metadata': {'type': 'narrative', 'filename': 'capitulo7.pdf'},\n",
       "  'contenido': 'de oliva lampante: es el aceite de oliva virgen cu ya acidez libre expresada en'},\n",
       " {'metadata': {'type': 'narrative', 'filename': 'capitulo7.pdf'},\n",
       "  'contenido': 'es superior a 3,3 gr. cada 100 gr. Este tipo de aceite de oliva virgen no es apto para'},\n",
       " {'metadata': {'type': 'narrative', 'filename': 'capitulo7.pdf'},\n",
       "  'contenido': 'humano. Se lo destinará en su totalidad a la industria del refinado de'},\n",
       " {'metadata': {'type': 'narrative', 'filename': 'capitulo7.pdf'},\n",
       "  'contenido': 'de oliva refinado: es el aceit e de oliva obtenido de aceites de oliva vírgenes'},\n",
       " {'metadata': {'type': 'narrative', 'filename': 'capitulo7.pdf'},\n",
       "  'contenido': 'de refinación que no provoquen ninguna modificación de la estructura'},\n",
       " {'metadata': {'type': 'narrative', 'filename': 'capitulo7.pdf'},\n",
       "  'contenido': 'libre máxima expresada en ácido oleico es 0,3 gr. cada 100 gr., y'},\n",
       " {'metadata': {'type': 'narrative', 'filename': 'capitulo7.pdf'},\n",
       "  'contenido': 'corresponden a las establecidas en el presente'},\n",
       " {'metadata': {'type': 'narrative', 'filename': 'capitulo7.pdf'},\n",
       "  'contenido': 'de oliva: es el aceite de oliva compuesto por aceite de oliva refinado y por aceite'},\n",
       " {'metadata': {'type': 'narrative', 'filename': 'capitulo7.pdf'},\n",
       "  'contenido': 'virgen apto para el consumo humano, y cuya acidez libre máxima, expresada en'},\n",
       " {'metadata': {'type': 'narrative', 'filename': 'capitulo7.pdf'},\n",
       "  'contenido': 'por 100 gr., y las características físicas, químicas y'},\n",
       " {'metadata': {'type': 'narrative', 'filename': 'capitulo7.pdf'},\n",
       "  'contenido': 'de yodo (Wijs): para aceites vírgenes, oliva refinado y aceite de oliva: 75'},\n",
       " {'metadata': {'type': 'narrative', 'filename': 'capitulo7.pdf'},\n",
       "  'contenido': 'insaponificable: para oliva vírgenes, oliva refinado y oliva: 15'},\n",
       " {'metadata': {'type': 'narrative', 'filename': 'capitulo7.pdf'},\n",
       "  'contenido': 'de ol iva virg en extra a 232 y 270 nm, máx: 2,50 y 0, 22. El delta K menor o igual'},\n",
       " {'metadata': {'type': 'narrative', 'filename': 'capitulo7.pdf'},\n",
       "  'contenido': 'Aceite de oliva virgen (virg en fino) a 232 y 270 nm, máx: 2,60 y 0,'},\n",
       " {'metadata': {'type': 'narrative', 'filename': 'capitulo7.pdf'},\n",
       "  'contenido': 'de oliva virgen corriente a 270 nm, máx: 0.30. (variación máxima cerca del 270'},\n",
       " {'metadata': {'type': 'narrative', 'filename': 'capitulo7.pdf'},\n",
       "  'contenido': 'de oliva refinado a 270 nm, máx: 1,10 (variación máxima cerca del 270 nm: menor'},\n",
       " {'metadata': {'type': 'narrative', 'filename': 'capitulo7.pdf'},\n",
       "  'contenido': 'de oliva a 270 nm: Máx 0,90 (variación máxima cerca de 270 nm: menor o igual'},\n",
       " {'metadata': {'type': 'narrative', 'filename': 'capitulo7.pdf'},\n",
       "  'contenido': 'Lectura de K 270 después de pasar por alúmi na: Lectura complementaria al K 270 después de pasar por alúmina: aceite de oliva virgen'},\n",
       " {'metadata': {'type': 'narrative', 'filename': 'capitulo7.pdf'},\n",
       "  'contenido': '(fino) y virgen corriente no deberá superar'},\n",
       " {'metadata': {'type': 'narrative', 'filename': 'capitulo7.pdf'},\n",
       "  'contenido': 'de oliva virgen Extra, Máx: 0,8 g cada 100 g como ácido'},\n",
       " {'metadata': {'type': 'narrative', 'filename': 'capitulo7.pdf'},\n",
       "  'contenido': 'de oliva vi rgen, Máx: 2 g cada 100 g como ácido'},\n",
       " {'metadata': {'type': 'narrative', 'filename': 'capitulo7.pdf'},\n",
       "  'contenido': 'de oliva virgen corriente, Máx: 3,30 g cada 100 g como ác.'},\n",
       " {'metadata': {'type': 'narrative', 'filename': 'capitulo7.pdf'},\n",
       "  'contenido': 'de oliva Refinado, Máx: 0,30 g cada 100 g como ác.'},\n",
       " {'metadata': {'type': 'narrative', 'filename': 'capitulo7.pdf'},\n",
       "  'contenido': 'de oliva, Máx: 1,0 g cada 100 g como ác.'},\n",
       " {'metadata': {'type': 'narrative', 'filename': 'capitulo7.pdf'},\n",
       "  'contenido': 'de oliva virgen extra, virgen y virgen corriente: Máx. 20 miliequivalentes de Oxígeno'},\n",
       " {'metadata': {'type': 'narrative', 'filename': 'capitulo7.pdf'},\n",
       "  'contenido': 'de oliva Refinado: Máx 5,0 miliequivalentes de Oxígeno por kilogramo de'},\n",
       " {'metadata': {'type': 'narrative', 'filename': 'capitulo7.pdf'},\n",
       "  'contenido': 'de oliva: Máx 15,0 miliequivalentes de Ox ígeno por kilogramo de aceite. La'},\n",
       " {'metadata': {'type': 'narrative', 'filename': 'capitulo7.pdf'},\n",
       "  'contenido': 'ácidos grasos determinada por cromatografía en fase gaseosa (ésteres metílicos por'},\n",
       " {'metadata': {'type': 'narrative', 'filename': 'capitulo7.pdf'},\n",
       "  'contenido': 'encuadrarse dentro de los siguientes'},\n",
       " {'metadata': {'type': 'narrative', 'filename': 'capitulo7.pdf'},\n",
       "  'contenido': 'heptadecanoico (C17:0): Menor que'},\n",
       " {'metadata': {'type': 'narrative', 'filename': 'capitulo7.pdf'},\n",
       "  'contenido': 'heptadecenoico (C17:1): Menor que'},\n",
       " {'metadata': {'type': 'narrative', 'filename': 'capitulo7.pdf'},\n",
       "  'contenido': 'contenido de ácidos g rasos trans (expresado como % respecto de los ácidos grasos'},\n",
       " {'metadata': {'type': 'narrative', 'filename': 'capitulo7.pdf'},\n",
       "  'contenido': 'de oliva extra, virgen y virgen corriente: menor que'},\n",
       " {'metadata': {'type': 'narrative', 'filename': 'capitulo7.pdf'},\n",
       "  'contenido': 'de oliva virgen extra, virgen y virgen corriente: meno r que 0,15'},\n",
       " {'metadata': {'type': 'narrative', 'filename': 'capitulo7.pdf'},\n",
       "  'contenido': 'de oliva virgen lampante: menor que 0,50'},\n",
       " {'metadata': {'type': 'narrative', 'filename': 'capitulo7.pdf'},\n",
       "  'contenido': 'de detección de aceites de otras especies en aceites de'},\n",
       " {'metadata': {'type': 'narrative', 'filename': 'capitulo7.pdf'},\n",
       "  'contenido': 'composición de esteroles (expresado como % de desmetilesteroles respecto del total'},\n",
       " {'metadata': {'type': 'narrative', 'filename': 'capitulo7.pdf'},\n",
       "  'contenido': 'Si el contenido de campesterol se encuentra entre 4,0 y 4,5% el contenido de Delta -7- estigmastenol'},\n",
       " {'metadata': {'type': 'narrative', 'filename': 'capitulo7.pdf'},\n",
       "  'contenido': 'menor o igual a 0, 3% y el contenido de Estigmasterol menor o igual'},\n",
       " {'metadata': {'type': 'narrative', 'filename': 'capitulo7.pdf'},\n",
       "  'contenido': '-7-stigmastenol: Menor o igual que'},\n",
       " {'metadata': {'type': 'narrative', 'filename': 'capitulo7.pdf'},\n",
       "  'contenido': '-5-24- estigmas tadienol: Mayor o igual que 93,0'},\n",
       " {'metadata': {'type': 'narrative', 'filename': 'capitulo7.pdf'},\n",
       "  'contenido': 'de oliva virgen, aceite de oliva refinado y aceite de oliva: mayores que 1000'},\n",
       " {'metadata': {'type': 'narrative', 'filename': 'capitulo7.pdf'},\n",
       "  'contenido': 'de orujo de oliva refinado: mayor que 1800'},\n",
       " {'metadata': {'type': 'narrative', 'filename': 'capitulo7.pdf'},\n",
       "  'contenido': 'Contenido en ácidos grasos saturados en posición 2 en los triglicéridos (suma de los'},\n",
       " {'metadata': {'type': 'narrative', 'filename': 'capitulo7.pdf'},\n",
       "  'contenido': 'de oliva virgen extra, virgen y virgen corriente: menor o igual que 1,5 g/100'},\n",
       " {'metadata': {'type': 'narrative', 'filename': 'capitulo7.pdf'},\n",
       "  'contenido': 'de oliva refinado: menor o igual que 1 ,8 g/100'},\n",
       " {'metadata': {'type': 'narrative', 'filename': 'capitulo7.pdf'},\n",
       "  'contenido': 'de oliva: menor o igual que 1,8 g/100'},\n",
       " {'metadata': {'type': 'narrative', 'filename': 'capitulo7.pdf'},\n",
       "  'contenido': 'de orujos de oliva en los aceites de'},\n",
       " {'metadata': {'type': 'narrative', 'filename': 'capitulo7.pdf'},\n",
       "  'contenido': 'deben cumplir en forma conjunta los límites expresados en'},\n",
       " {'metadata': {'type': 'narrative', 'filename': 'capitulo7.pdf'},\n",
       "  'contenido': 'esteroles y el contenido máximo de'},\n",
       " {'metadata': {'type': 'narrative', 'filename': 'capitulo7.pdf'},\n",
       "  'contenido': 'porcentual máximo de eritrodiol y uvaol sobre total de'},\n",
       " {'metadata': {'type': 'narrative', 'filename': 'capitulo7.pdf'},\n",
       "  'contenido': 'de oliva vírgenes comestibles: menor que'},\n",
       " {'metadata': {'type': 'narrative', 'filename': 'capitulo7.pdf'},\n",
       "  'contenido': 'de oliva virgen extra, virgen y virgen corriente: menor que 250'},\n",
       " {'metadata': {'type': 'narrative', 'filename': 'capitulo7.pdf'},\n",
       "  'contenido': 'de oliva refinado: menor que 350'},\n",
       " {'metadata': {'type': 'narrative', 'filename': 'capitulo7.pdf'},\n",
       "  'contenido': 'Contenido de agua y materiales volátiles (IRAM'},\n",
       " {'metadata': {'type': 'narrative', 'filename': 'capitulo7.pdf'},\n",
       "  'contenido': 'de oliva vírgenes: máximo 0,2 g/100'},\n",
       " {'metadata': {'type': 'narrative', 'filename': 'capitulo7.pdf'},\n",
       "  'contenido': 'de oliva refinado: máximo 0,1 g/100'},\n",
       " {'metadata': {'type': 'narrative', 'filename': 'capitulo7.pdf'},\n",
       "  'contenido': 'de oliva virgen extra, virgen y virgen corriente: máximo 0,1 gr/100'},\n",
       " {'metadata': {'type': 'narrative', 'filename': 'capitulo7.pdf'},\n",
       "  'contenido': 'de oliva refinado: máximo 0,05 g/100'},\n",
       " {'metadata': {'type': 'narrative', 'filename': 'capitulo7.pdf'},\n",
       "  'contenido': 'todos los aceites de oli va vírgenes, oliva refinado y'},\n",
       " {'metadata': {'type': 'narrative', 'filename': 'capitulo7.pdf'},\n",
       "  'contenido': 'todos los aceites de oliva vírgenes, refinado de oliva y oliva: máximo 0,2 mg/k'},\n",
       " {'metadata': {'type': 'narrative', 'filename': 'capitulo7.pdf'},\n",
       "  'contenido': '536 ( Resolución Conjunta N 71/03 y N'},\n",
       " {'metadata': {'type': 'narrative', 'filename': 'capitulo7.pdf'},\n",
       "  'contenido': 'denomina Aceite de orujo de aceituno refinado, al obtenido de orujos de aceitunas,'},\n",
       " {'metadata': {'type': 'narrative', 'filename': 'capitulo7.pdf'},\n",
       "  'contenido': 'de los disolventes autorizados y que ha sido neutralizado, blanqueado, desodorizado'},\n",
       " {'metadata': {'type': 'narrative', 'filename': 'capitulo7.pdf'},\n",
       "  'contenido': 'do no pudiendo ser sometido a procesos de'},\n",
       " {'metadata': {'type': 'narrative', 'filename': 'capitulo7.pdf'},\n",
       "  'contenido': 'características fisicoquímicas son las indicadas en el Artículo 535 a excepción'},\n",
       " {'metadata': {'type': 'narrative', 'filename': 'capitulo7.pdf'},\n",
       "  'contenido': 'de Bellier modificado (medio acé tico de precipit. ): no'},\n",
       " {'metadata': {'type': 'narrative', 'filename': 'capitulo7.pdf'},\n",
       "  'contenido': 'presentar opalescencia estable a temperatura superior a 50C y luego'},\n",
       " {'metadata': {'type': 'narrative', 'filename': 'capitulo7.pdf'},\n",
       "  'contenido': 'libre, Máx: 0,60 mg KOH/g (0,30% como ác.'},\n",
       " {'metadata': {'type': 'narrative', 'filename': 'capitulo7.pdf'},\n",
       "  'contenido': 'de peróxido, Máx: 20,0 miliequiv. de'},\n",
       " {'metadata': {'type': 'narrative', 'filename': 'capitulo7.pdf'},\n",
       "  'contenido': 'de estero les (expresado como % de desmetilesteroles respecto del total'},\n",
       " {'metadata': {'type': 'narrative', 'filename': 'capitulo7.pdf'},\n",
       "  'contenido': 'las indicadas en el Artículo 535 a excepción'},\n",
       " {'metadata': {'type': 'narrative', 'filename': 'capitulo7.pdf'},\n",
       "  'contenido': 'Brassicasterol: Menor o igual de'},\n",
       " {'metadata': {'type': 'narrative', 'filename': 'capitulo7.pdf'},\n",
       "  'contenido': 'Transoleico (C18:1 T): Menor de 0,2 % de los ácidos grasos'},\n",
       " {'metadata': {'type': 'narrative', 'filename': 'capitulo7.pdf'},\n",
       "  'contenido': '18:3 T): Menor de 0,3 % de los ácidos'},\n",
       " {'metadata': {'type': 'narrative', 'filename': 'capitulo7.pdf'},\n",
       "  'contenido': 'Artículo 536 bis ( Resolución Conjunta SCS y SAGyP N'},\n",
       " {'metadata': {'type': 'narrative', 'filename': 'capitulo7.pdf'},\n",
       "  'contenido': 'de semilla de cáñamo al obtenido de las distintas va riedades de semilla'},\n",
       " {'metadata': {'type': 'narrative', 'filename': 'capitulo7.pdf'},\n",
       "  'contenido': 'forma de extracción (método de obtención), deberá ser por prensado en frío de las'},\n",
       " {'metadata': {'type': 'narrative', 'filename': 'capitulo7.pdf'},\n",
       "  'contenido': '(anhídrido carbónico) supercrítico o por otro método de extr acción'},\n",
       " {'metadata': {'type': 'narrative', 'filename': 'capitulo7.pdf'},\n",
       "  'contenido': 'límites máximos de tolerancia de contaminantes inorgánicos serán los establecidos en'},\n",
       " {'metadata': {'type': 'narrative', 'filename': 'capitulo7.pdf'},\n",
       "  'contenido': '537 - (Resolución Conjunta SPReI N 203/2013 y SAGyP N 296/20'},\n",
       " {'metadata': {'type': 'narrative', 'filename': 'capitulo7.pdf'},\n",
       "  'contenido': 'consideran Grasas alimenticias o Grasas comestibles, a los productos'},\n",
       " {'metadata': {'type': 'narrative', 'filename': 'capitulo7.pdf'},\n",
       "  'contenido': 'por glicéridos sólidos a la temperatura de'},\n",
       " {'metadata': {'type': 'narrative', 'filename': 'capitulo7.pdf'},\n",
       "  'contenido': 'comprender grasas de origen animal, de origen vegetal, aceites y grasas'},\n",
       " {'metadata': {'type': 'narrative', 'filename': 'capitulo7.pdf'},\n",
       "  'contenido': 'adas por hidrogenación y/o interesterificación y/o cristalización fraccionada y'},\n",
       " {'metadata': {'type': 'narrative', 'filename': 'capitulo7.pdf'},\n",
       "  'contenido': 'de los anteriores, que respondan a las exigencias del presente'},\n",
       " {'metadata': {'type': 'narrative', 'filename': 'capitulo7.pdf'},\n",
       "  'contenido': 'denomina Grasa o Aceite de coco la materia g rasa extraída del endosperma de la'},\n",
       " {'metadata': {'type': 'narrative', 'filename': 'capitulo7.pdf'},\n",
       "  'contenido': 'fruto del cocotero (Cocos nucifera y Cocos'},\n",
       " {'metadata': {'type': 'narrative', 'filename': 'capitulo7.pdf'},\n",
       "  'contenido': 'características fisicoquímicas de la grasa refinada'},\n",
       " {'metadata': {'type': 'narrative', 'filename': 'capitulo7.pdf'},\n",
       "  'contenido': 'libre, Máx: 0,60 mg KOH/g (0,30% como ácido'},\n",
       " {'metadata': {'type': 'narrative', 'filename': 'capitulo7.pdf'},\n",
       "  'contenido': 'de peróxido: Máx 10,0 miliequivalentes de oxígeno por'},\n",
       " {'metadata': {'type': 'narrative', 'filename': 'capitulo7.pdf'},\n",
       "  'contenido': 'denomina Grasa o Aceite de palma el obtenido de la pulpa (mesocarpio) de la fruta de'},\n",
       " {'metadata': {'type': 'narrative', 'filename': 'capitulo7.pdf'},\n",
       "  'contenido': 'características fisicoq uímicas del aceite refinado'},\n",
       " {'metadata': {'type': 'narrative', 'filename': 'capitulo7.pdf'},\n",
       "  'contenido': 'de solidificación de los ác idos grasos (título): 40C a'},\n",
       " {'metadata': {'type': 'narrative', 'filename': 'capitulo7.pdf'},\n",
       "  'contenido': 'libre, Máx: 0,60 mg KOH/g (0,30% como ácido'},\n",
       " {'metadata': {'type': 'narrative', 'filename': 'capitulo7.pdf'},\n",
       "  'contenido': 'de peróxido, Máx: 10,0 miliequivalentes de oxígeno por ki'},\n",
       " {'metadata': {'type': 'narrative', 'filename': 'capitulo7.pdf'},\n",
       "  'contenido': 'Se denomina Grasa o Aceite de palmiste o de semilla de palma, el obtenido de la semilla'},\n",
       " {'metadata': {'type': 'narrative', 'filename': 'capitulo7.pdf'},\n",
       "  'contenido': 'de la palmera Elaeis guineensis L. o Elaeis'},\n",
       " {'metadata': {'type': 'narrative', 'filename': 'capitulo7.pdf'},\n",
       "  'contenido': 'características fisicoquímicas de la grasa o aceite refinado'},\n",
       " {'metadata': {'type': 'narrative', 'filename': 'capitulo7.pdf'},\n",
       "  'contenido': 'libre, Máx: 0,60 mg KOH/g (0,30% como ácido'},\n",
       " {'metadata': {'type': 'narrative', 'filename': 'capitulo7.pdf'},\n",
       "  'contenido': 'de peróxido: 10,0 miliequivalentes de oxígeno por'},\n",
       " {'metadata': {'type': 'narrative', 'filename': 'capitulo7.pdf'},\n",
       "  'contenido': 'Se denomina Aceite o Grasa de babassú el obtenido de la semilla del fruto de'},\n",
       " {'metadata': {'type': 'narrative', 'filename': 'capitulo7.pdf'},\n",
       "  'contenido': 'Attalea funifera (Sinón. : Orbignia speciosa, O. oleifera u O.'},\n",
       " {'metadata': {'type': 'narrative', 'filename': 'capitulo7.pdf'},\n",
       "  'contenido': 'características fisicoquímicas de la grasa o aceite refinado'},\n",
       " {'metadata': {'type': 'narrative', 'filename': 'capitulo7.pdf'},\n",
       "  'contenido': 'libre, Máx: 0,60 mg KOH/g (0,30% como'},\n",
       " {'metadata': {'type': 'narrative', 'filename': 'capitulo7.pdf'},\n",
       "  'contenido': 'de peróxido, Máx: 1 0,0 milieq. de'},\n",
       " {'metadata': {'type': 'narrative', 'filename': 'capitulo7.pdf'},\n",
       "  'contenido': 'Se denomina Aceite o Grasa de tucum, el obtenido de la semilla del fruto de la'},\n",
       " {'metadata': {'type': 'narrative', 'filename': 'capitulo7.pdf'},\n",
       "  'contenido': 'características fisicoquímicas de la grasa o aceite refinado'},\n",
       " {'metadata': {'type': 'narrative', 'filename': 'capitulo7.pdf'},\n",
       "  'contenido': 'de refracción a 40C: alrededor de'},\n",
       " {'metadata': {'type': 'narrative', 'filename': 'capitulo7.pdf'},\n",
       "  'contenido': 'libre, Máx: 0,60 mg KOH/g (0,30% como'},\n",
       " {'metadata': {'type': 'narrative', 'filename': 'capitulo7.pdf'},\n",
       "  'contenido': 'de peróxido, Máx: 10,0 milieq. de'},\n",
       " {'metadata': {'type': 'narrative', 'filename': 'capitulo7.pdf'},\n",
       "  'contenido': 'entiende por Grasas comestibles animales o Grasas alimenticias animales, las separadas'},\n",
       " {'metadata': {'type': 'narrative', 'filename': 'capitulo7.pdf'},\n",
       "  'contenido': 'tejidos grasos y partes adiposas l impias e inalteradas de animales bovinos, ovinos,'},\n",
       " {'metadata': {'type': 'narrative', 'filename': 'capitulo7.pdf'},\n",
       "  'contenido': 'caprinos, sacrificados para el consumo en condiciones de salud, bajo inspección'},\n",
       " {'metadata': {'type': 'narrative', 'filename': 'capitulo7.pdf'},\n",
       "  'contenido': 'Se consideran como Grasas vírgenes, las separadas exclusivamente por'},\n",
       " {'metadata': {'type': 'narrative', 'filename': 'capitulo7.pdf'},\n",
       "  'contenido': 'y/ o térmicos (excluida la fusión por fuego directo), pudiendoselas'},\n",
       " {'metadata': {'type': 'narrative', 'filename': 'capitulo7.pdf'},\n",
       "  'contenido': 'por lavado, sedimentación, filtración y'},\n",
       " {'metadata': {'type': 'narrative', 'filename': 'capitulo7.pdf'},\n",
       "  'contenido': 'consideran como Grasas refinadas, las grasas vírgenes que se han sometido a'},\n",
       " {'metadata': {'type': 'narrative', 'filename': 'capitulo7.pdf'},\n",
       "  'contenido': 'de refinación a tr avés de procesos tecnológicamente'},\n",
       " {'metadata': {'type': 'narrative', 'filename': 'capitulo7.pdf'},\n",
       "  'contenido': 'permite la refinación de grasas vírgenes que presenten valores de acidez libre'},\n",
       " {'metadata': {'type': 'narrative', 'filename': 'capitulo7.pdf'},\n",
       "  'contenido': 'que sus índices de peróxido no superen los 20,0 miliequivalentes de Oxígeno'},\n",
       " {'metadata': {'type': 'narrative', 'filename': 'capitulo7.pdf'},\n",
       "  'contenido': 'no debiendo exceder los límites especificados en los artículos correspondientes en'},\n",
       " {'metadata': {'type': 'narrative', 'filename': 'capitulo7.pdf'},\n",
       "  'contenido': 'grasas comestibles animales vírgenes o refinadas'},\n",
       " {'metadata': {'type': 'narrative', 'filename': 'capitulo7.pdf'},\n",
       "  'contenido': 'refinadas, Máx: 0,005% como oleato de'},\n",
       " {'metadata': {'type': 'narrative', 'filename': 'capitulo7.pdf'},\n",
       "  'contenido': 'libre: grasas refinadas, Máx: 0,3% como ácido'},\n",
       " {'metadata': {'type': 'narrative', 'filename': 'capitulo7.pdf'},\n",
       "  'contenido': 'de peróxidos: grasas refinadas, Máx: 1,0 miliequivalentes de oxígeno por'},\n",
       " {'metadata': {'type': 'narrative', 'filename': 'capitulo7.pdf'},\n",
       "  'contenido': 'en grasas v írgenes, Máx: 0,4 mg/kg (como'},\n",
       " {'metadata': {'type': 'narrative', 'filename': 'capitulo7.pdf'},\n",
       "  'contenido': 'grasas refinadas, Máx: 0,1 mg/kg (como'},\n",
       " {'metadata': {'type': 'narrative', 'filename': 'capitulo7.pdf'},\n",
       "  'contenido': 'en grasas vírgenes y refinadas, Máx: 1,5 mg/kg (como'},\n",
       " {'metadata': {'type': 'narrative', 'filename': 'capitulo7.pdf'},\n",
       "  'contenido': 'en grasas vírgenes y refinadas, Máx: 0,1 mg/kg (como'},\n",
       " {'metadata': {'type': 'narrative', 'filename': 'capitulo7.pdf'},\n",
       "  'contenido': 'la rotulación de grasas animales comestibles vírgenes que cumplan las exigencias'},\n",
       " {'metadata': {'type': 'narrative', 'filename': 'capitulo7.pdf'},\n",
       "  'contenido': 'bastará designarlas como manteca de cerdo, grasa de cerdo, primer jugo ovino,'},\n",
       " {'metadata': {'type': 'narrative', 'filename': 'capitulo7.pdf'},\n",
       "  'contenido': 'hubier en sido sometidas a proceso completo de refinación deberá agregarse a'},\n",
       " {'metadata': {'type': 'narrative', 'filename': 'capitulo7.pdf'},\n",
       "  'contenido': 'anteriores el término refinado o refinada, según'},\n",
       " {'metadata': {'type': 'narrative', 'filename': 'capitulo7.pdf'},\n",
       "  'contenido': 'entiende por Manteca de cerdo, la grasa separada por fusión'},\n",
       " {'metadata': {'type': 'narrative', 'filename': 'capitulo7.pdf'},\n",
       "  'contenido': 'tejidos de que procede no deben contener huesos, piel desprendida, piel de cabeza,'},\n",
       " {'metadata': {'type': 'narrative', 'filename': 'capitulo7.pdf'},\n",
       "  'contenido': 'órganos, tráqueas, vasos sanguíneos grandes, desperdicios de grasas,'},\n",
       " {'metadata': {'type': 'narrative', 'filename': 'capitulo7.pdf'},\n",
       "  'contenido': 'de prensado y simila res y estarán razonablemente exentos de tejido muscular y'},\n",
       " {'metadata': {'type': 'narrative', 'filename': 'capitulo7.pdf'},\n",
       "  'contenido': 'Deberá responder a las exigencias del artículo 540 y a las'},\n",
       " {'metadata': {'type': 'narrative', 'filename': 'capitulo7.pdf'},\n",
       "  'contenido': 'libre, Máx: 1,30 mg KOH/g (0,65% como ác.'},\n",
       " {'metadata': {'type': 'narrative', 'filename': 'capitulo7.pdf'},\n",
       "  'contenido': 'de solidif de los ác. grasos (título), Máx:'},\n",
       " {'metadata': {'type': 'narrative', 'filename': 'capitulo7.pdf'},\n",
       "  'contenido': 'insolubles en éter de petróleo, Máx:'},\n",
       " {'metadata': {'type': 'narrative', 'filename': 'capitulo7.pdf'},\n",
       "  'contenido': 'de peróxido, Máx: 10,0 milieq. de'},\n",
       " {'metadata': {'type': 'narrative', 'filename': 'capitulo7.pdf'},\n",
       "  'contenido': 'manteca de cerdo podrá ser mejorada en su consistencia y textura a través de'},\n",
       " {'metadata': {'type': 'narrative', 'filename': 'capitulo7.pdf'},\n",
       "  'contenido': 'de interesterificación, por adición de manteca de cerdo refinada, de estearina o'},\n",
       " {'metadata': {'type': 'narrative', 'filename': 'capitulo7.pdf'},\n",
       "  'contenido': 'de cerdo hidrogenada, siempre que tales procesos o agregados se dec laren en'},\n",
       " {'metadata': {'type': 'narrative', 'filename': 'capitulo7.pdf'},\n",
       "  'contenido': 'La manteca de cerdo así modificada responderá a las exigencia señaladas en este artículo,'},\n",
       " {'metadata': {'type': 'narrative', 'filename': 'capitulo7.pdf'},\n",
       "  'contenido': 'de solidificación de ácidos grasos (título), Máx: 45C'},\n",
       " {'metadata': {'type': 'narrative', 'filename': 'capitulo7.pdf'},\n",
       "  'contenido': 'de jabón, Máx: 0,005% como oleato de'},\n",
       " {'metadata': {'type': 'narrative', 'filename': 'capitulo7.pdf'},\n",
       "  'contenido': 'manteca de cerdo modificada o no, será de color blanco en estado sólido y presentará olor'},\n",
       " {'metadata': {'type': 'narrative', 'filename': 'capitulo7.pdf'},\n",
       "  'contenido': 'característicos, exenta de olores y sabores'},\n",
       " {'metadata': {'type': 'narrative', 'filename': 'capitulo7.pdf'},\n",
       "  'contenido': 'entiende por Grasa de cerdo, la grasa separada por fusión d e los tejidos y huesos del'},\n",
       " {'metadata': {'type': 'narrative', 'filename': 'capitulo7.pdf'},\n",
       "  'contenido': 'contener grasa de huesos convenientemente limpia, de piel desprendida, de piel'},\n",
       " {'metadata': {'type': 'narrative', 'filename': 'capitulo7.pdf'},\n",
       "  'contenido': 'de orejas, de rabo y de otros tejidos aptos para el consumo'},\n",
       " {'metadata': {'type': 'narrative', 'filename': 'capitulo7.pdf'},\n",
       "  'contenido': 'responder a las exigencias del artícul o 540 y a las'},\n",
       " {'metadata': {'type': 'narrative', 'filename': 'capitulo7.pdf'},\n",
       "  'contenido': 'libre, Máx: 2,00 mg KOH/g (1,00% como ác.'},\n",
       " {'metadata': {'type': 'narrative', 'filename': 'capitulo7.pdf'},\n",
       "  'contenido': 'de solidificación d e ácidos grasos (título), Máx:'},\n",
       " {'metadata': {'type': 'narrative', 'filename': 'capitulo7.pdf'},\n",
       "  'contenido': 'de peróxido, Máx: 16,0 milieq. de'},\n",
       " {'metadata': {'type': 'narrative', 'filename': 'capitulo7.pdf'},\n",
       "  'contenido': 'insolubles en éter de petróleo, Máx:'},\n",
       " {'metadata': {'type': 'narrative', 'filename': 'capitulo7.pdf'},\n",
       "  'contenido': 'grasa de cerdo podrá ser mejorada en su consistencia y textura a través de'},\n",
       " {'metadata': {'type': 'narrative', 'filename': 'capitulo7.pdf'},\n",
       "  'contenido': 'de interesteri ficación por agregado de manteca de cerdo refinada, de grasa de'},\n",
       " {'metadata': {'type': 'narrative', 'filename': 'capitulo7.pdf'},\n",
       "  'contenido': 'de manteca de cerdo hidrogenada, de grasa de cerdo hidrogenada, de estearina'},\n",
       " {'metadata': {'type': 'narrative', 'filename': 'capitulo7.pdf'},\n",
       "  'contenido': 'de cerdo o de estearina de grasa de cerdo, siempre que tales procesos o agregados'},\n",
       " {'metadata': {'type': 'narrative', 'filename': 'capitulo7.pdf'},\n",
       "  'contenido': 'grasa de cerdo así modificada responderá a las exigencias señaladas en este artículo,'},\n",
       " {'metadata': {'type': 'narrative', 'filename': 'capitulo7.pdf'},\n",
       "  'contenido': 'del contenido de jabón, Máx: 0,05% como oleato de'},\n",
       " {'metadata': {'type': 'narrative', 'filename': 'capitulo7.pdf'},\n",
       "  'contenido': 'grasa de cerdo modificada o no, será de color blanco en estado sólido y pre sentará olor'},\n",
       " {'metadata': {'type': 'narrative', 'filename': 'capitulo7.pdf'},\n",
       "  'contenido': 'característicos, exenta de olores y sabores'},\n",
       " {'metadata': {'type': 'narrative', 'filename': 'capitulo7.pdf'},\n",
       "  'contenido': 'entiende por Primer jugo bovino u ovino, según corresponda, el producto separado'},\n",
       " {'metadata': {'type': 'narrative', 'filename': 'capitulo7.pdf'},\n",
       "  'contenido': 'a temperatura no mayor de 80C de los'},\n",
       " {'metadata': {'type': 'narrative', 'filename': 'capitulo7.pdf'},\n",
       "  'contenido': 'animales bovinos (Bos taurus) u ovinos (Ovis'},\n",
       " {'metadata': {'type': 'narrative', 'filename': 'capitulo7.pdf'},\n",
       "  'contenido': 'responder a las exigencias del Art 540 y a las'},\n",
       " {'metadata': {'type': 'narrative', 'filename': 'capitulo7.pdf'},\n",
       "  'contenido': 'libre, Máx: 1,60 mg KOH/g (0,80% como ác.'},\n",
       " {'metadata': {'type': 'narrative', 'filename': 'capitulo7.pdf'},\n",
       "  'contenido': 'de solidif. de ác. grasos (título), Máx:'},\n",
       " {'metadata': {'type': 'narrative', 'filename': 'capitulo7.pdf'},\n",
       "  'contenido': 'de peróxido, Máx: 10,0 milieq. de'},\n",
       " {'metadata': {'type': 'narrative', 'filename': 'capitulo7.pdf'},\n",
       "  'contenido': 'insolubles en éter de petróleo, Máx:'},\n",
       " {'metadata': {'type': 'narrative', 'filename': 'capitulo7.pdf'},\n",
       "  'contenido': 'color blanco -crema a a marillo pálido y sabor característico exento de olores'},\n",
       " {'metadata': {'type': 'narrative', 'filename': 'capitulo7.pdf'},\n",
       "  'contenido': 'entiende por Grasa bovina o Grasa ovina, según corresponda, (sebo de vaca o sebo'},\n",
       " {'metadata': {'type': 'narrative', 'filename': 'capitulo7.pdf'},\n",
       "  'contenido': 'para la exportación), los productos obtenido s por la fusión de tejidos'},\n",
       " {'metadata': {'type': 'narrative', 'filename': 'capitulo7.pdf'},\n",
       "  'contenido': 'las grasas de recortes) de músculos y huesos conexos de animales bovinos'},\n",
       " {'metadata': {'type': 'narrative', 'filename': 'capitulo7.pdf'},\n",
       "  'contenido': 'responder a las exigencias del Artículo 540 y a las'},\n",
       " {'metadata': {'type': 'narrative', 'filename': 'capitulo7.pdf'},\n",
       "  'contenido': 'libre, Máx: 2,00 mg/KOH/g (1,00% como ác.'},\n",
       " {'metadata': {'type': 'narrative', 'filename': 'capitulo7.pdf'},\n",
       "  'contenido': 'de solidif. de ácidos grasos (título),'},\n",
       " {'metadata': {'type': 'narrative', 'filename': 'capitulo7.pdf'},\n",
       "  'contenido': 'de peróxido, Máx: 10,0 miliequivalentes de'},\n",
       " {'metadata': {'type': 'narrative', 'filename': 'capitulo7.pdf'},\n",
       "  'contenido': 's insolubles en éter de petróleo, Máx:'},\n",
       " {'metadata': {'type': 'narrative', 'filename': 'capitulo7.pdf'},\n",
       "  'contenido': 'color blanco -grisáceo a amarillo pálido y olor y sabor característicos a sebo,'},\n",
       " {'metadata': {'type': 'narrative', 'filename': 'capitulo7.pdf'},\n",
       "  'contenido': 'mezclas de grasa bovina y grasa ovina se rotularán como tales. La adición de g rasa'},\n",
       " {'metadata': {'type': 'narrative', 'filename': 'capitulo7.pdf'},\n",
       "  'contenido': 'grasa ovina refinada deberá declararse en el'},\n",
       " {'metadata': {'type': 'narrative', 'filename': 'capitulo7.pdf'},\n",
       "  'contenido': 'los productos que contengan grasa refinada el contenido de jabón no excederá de'},\n",
       " {'metadata': {'type': 'narrative', 'filename': 'capitulo7.pdf'},\n",
       "  'contenido': 'entiende por Oleo margarina (óleo -oil) bovina u ovina, según corresponda, el'},\n",
       " {'metadata': {'type': 'narrative', 'filename': 'capitulo7.pdf'},\n",
       "  'contenido': 'de la separación de la mayor parte de la oleoestearina a partir de grasas o'},\n",
       " {'metadata': {'type': 'narrative', 'filename': 'capitulo7.pdf'},\n",
       "  'contenido': 'bovinos u ovinos, por procedimientos adecuados de cristalización fraccionada y'},\n",
       " {'metadata': {'type': 'narrative', 'filename': 'capitulo7.pdf'},\n",
       "  'contenido': 'respo nder a las exigencias del Artículo 540 y a las'},\n",
       " {'metadata': {'type': 'narrative', 'filename': 'capitulo7.pdf'},\n",
       "  'contenido': 'libre, Máx: 1,60 y 2,00 mg KOH/g (0,80% y 1,00% como ácido oleico) para los oleo'},\n",
       " {'metadata': {'type': 'narrative', 'filename': 'capitulo7.pdf'},\n",
       "  'contenido': 'de los primeros jugos bovino u ovino y de las grasas bovina u'},\n",
       " {'metadata': {'type': 'narrative', 'filename': 'capitulo7.pdf'},\n",
       "  'contenido': 'Indice de peróxido, Máx: 10,0 miliequivalentes de'},\n",
       " {'metadata': {'type': 'narrative', 'filename': 'capitulo7.pdf'},\n",
       "  'contenido': 'color amarillo brillante y sabor y olor agradables, exentos de olores y'},\n",
       " {'metadata': {'type': 'narrative', 'filename': 'capitulo7.pdf'},\n",
       "  'contenido': 'Las mezclas de oleo oil bovino y ovino se rotularán como'},\n",
       " {'metadata': {'type': 'narrative', 'filename': 'capitulo7.pdf'},\n",
       "  'contenido': 'entiende por Aceite de manteca de cerdo y Aceite de grasa de cerdo, los'},\n",
       " {'metadata': {'type': 'narrative', 'filename': 'capitulo7.pdf'},\n",
       "  'contenido': 'de la separación de la mayor parte de la oleoestearina a partir de manteca de'},\n",
       " {'metadata': {'type': 'narrative', 'filename': 'capitulo7.pdf'},\n",
       "  'contenido': 'grasa de cerdo, por procedimientos adecuad os de cristalización fraccionada y'},\n",
       " {'metadata': {'type': 'narrative', 'filename': 'capitulo7.pdf'},\n",
       "  'contenido': 'responder a las exigencias del Artículo 540 y a las'},\n",
       " {'metadata': {'type': 'narrative', 'filename': 'capitulo7.pdf'},\n",
       "  'contenido': 'libre, Máx: 1,30 a 2,00 mg KOH/g (0,65% y 1,00% como ácido oleico) para los'},\n",
       " {'metadata': {'type': 'narrative', 'filename': 'capitulo7.pdf'},\n",
       "  'contenido': 'os de la manteca de cerdo y de la grasa de cerdo,'},\n",
       " {'metadata': {'type': 'narrative', 'filename': 'capitulo7.pdf'},\n",
       "  'contenido': 'de Peróxido, Máx: 10,0 y 16,0 miliequiv. de Oxig/kg para los aceites separados de'},\n",
       " {'metadata': {'type': 'narrative', 'filename': 'capitulo7.pdf'},\n",
       "  'contenido': 'color ligerament e amarillo y sabor y olor agradables, exentos de olores y'},\n",
       " {'metadata': {'type': 'narrative', 'filename': 'capitulo7.pdf'},\n",
       "  'contenido': 'entiende por Oleoestearina bovina u ovina, según corresponda, el producto remanente'},\n",
       " {'metadata': {'type': 'narrative', 'filename': 'capitulo7.pdf'},\n",
       "  'contenido': 'separación de la oleomargarina bovina u ovina definida en el Artículo'},\n",
       " {'metadata': {'type': 'narrative', 'filename': 'capitulo7.pdf'},\n",
       "  'contenido': 'cumplir con las exigencias del Artículo 540 y las'},\n",
       " {'metadata': {'type': 'narrative', 'filename': 'capitulo7.pdf'},\n",
       "  'contenido': 'de solidif. de ác. grasos (título), Mín:'},\n",
       " {'metadata': {'type': 'narrative', 'filename': 'capitulo7.pdf'},\n",
       "  'contenido': 'libre, Máx: 1,60 mg KOH/g (0,80% como ác.'},\n",
       " {'metadata': {'type': 'narrative', 'filename': 'capitulo7.pdf'},\n",
       "  'contenido': 'de peróxido, Máx: 10,0 milieq. de Ox'},\n",
       " {'metadata': {'type': 'narrative', 'filename': 'capitulo7.pdf'},\n",
       "  'contenido': 'presentará como sólido blanco de sabor y olor agradables, exentos de olores y'},\n",
       " {'metadata': {'type': 'narrative', 'filename': 'capitulo7.pdf'},\n",
       "  'contenido': 'denomina Aceite o grasa hidrogenada, el producto obtenido por hidrogenación,'},\n",
       " {'metadata': {'type': 'narrative', 'filename': 'capitulo7.pdf'},\n",
       "  'contenido': 'de catalizadores metálicos tales como níquel, cobre,'},\n",
       " {'metadata': {'type': 'narrative', 'filename': 'capitulo7.pdf'},\n",
       "  'contenido': 'molibdeno, platino, paladio, de los aceites o grasas alimenticios incluidos en'},\n",
       " {'metadata': {'type': 'narrative', 'filename': 'capitulo7.pdf'},\n",
       "  'contenido': 'ser sometida sin excepción, a procesos de'},\n",
       " {'metadata': {'type': 'narrative', 'filename': 'capitulo7.pdf'},\n",
       "  'contenido': 'caract erísticas fisicoquímicas serán las'},\n",
       " {'metadata': {'type': 'narrative', 'filename': 'capitulo7.pdf'},\n",
       "  'contenido': 'libre, Máx: 0,60 mg KOH/g (0,30% como ác.'},\n",
       " {'metadata': {'type': 'narrative', 'filename': 'capitulo7.pdf'},\n",
       "  'contenido': 'de jabón, Máx: 0,005% como oleato de'},\n",
       " {'metadata': {'type': 'narrative', 'filename': 'capitulo7.pdf'},\n",
       "  'contenido': 'en éter de p etróleo, Máx: 0,05% en'},\n",
       " {'metadata': {'type': 'narrative', 'filename': 'capitulo7.pdf'},\n",
       "  'contenido': 'de peróxido, Máx: 5,0 milieq. de'},\n",
       " {'metadata': {'type': 'narrative', 'filename': 'capitulo7.pdf'},\n",
       "  'contenido': 'residuales, Máx: 0,2 mg/kg como m etal, con la excepción del cromo que'},\n",
       " {'metadata': {'type': 'narrative', 'filename': 'capitulo7.pdf'},\n",
       "  'contenido': 'aceites y grasas hidrogenados que por razones tecnológicas sean de uso obligado en'},\n",
       " {'metadata': {'type': 'narrative', 'filename': 'capitulo7.pdf'},\n",
       "  'contenido': 'de algunos productos alimenticios podrán presentar un punto de fusión supe rior'},\n",
       " {'metadata': {'type': 'narrative', 'filename': 'capitulo7.pdf'},\n",
       "  'contenido': 'A tal fin se los considerará como aditivos y no deberán constituir más del 5% de'},\n",
       " {'metadata': {'type': 'narrative', 'filename': 'capitulo7.pdf'},\n",
       "  'contenido': 'denomina Aceite o Grasa interesterificada, el producto obtenido por modificación de'},\n",
       " {'metadata': {'type': 'narrative', 'filename': 'capitulo7.pdf'},\n",
       "  'contenido': 'glicerídica por reordenamiento molecular de los ácidos grasos sobre el'},\n",
       " {'metadata': {'type': 'narrative', 'filename': 'capitulo7.pdf'},\n",
       "  'contenido': 'denomina Aceite o Grasa transesterificada, si se trata de una mezcla de aceites o'},\n",
       " {'metadata': {'type': 'narrative', 'filename': 'capitulo7.pdf'},\n",
       "  'contenido': 'autorizan como catalizadores el amiduro de sodio, metilato de sodio, etilato d e sodio o'},\n",
       " {'metadata': {'type': 'narrative', 'filename': 'capitulo7.pdf'},\n",
       "  'contenido': 'procedimiento se declarará en el rotulado con la expresión de aceite o grasa'},\n",
       " {'metadata': {'type': 'narrative', 'filename': 'capitulo7.pdf'},\n",
       "  'contenido': 'prohibe adic ionar a las grasas alimenticias substancias extrañas destinadas a dar'},\n",
       " {'metadata': {'type': 'narrative', 'filename': 'capitulo7.pdf'},\n",
       "  'contenido': 'color o a modificar sus caracteres'},\n",
       " {'metadata': {'type': 'narrative', 'filename': 'capitulo7.pdf'},\n",
       "  'contenido': 'permite el empleo de sal común y de substancias inocuas en los procesos de clarificación'},\n",
       " {'metadata': {'type': 'narrative', 'filename': 'capitulo7.pdf'},\n",
       "  'contenido': 'siempre que se el iminen totalmente en el producto'},\n",
       " {'metadata': {'type': 'narrative', 'filename': 'capitulo7.pdf'},\n",
       "  'contenido': 'permite el agregado de los antioxidantes y sinergistas autorizados para aceites en'},\n",
       " {'metadata': {'type': 'narrative', 'filename': 'capitulo7.pdf'},\n",
       "  'contenido': '550 - (Resolución Conjunta SPReI N 166/2008 y SAGPyA N'},\n",
       " {'metadata': {'type': 'narrative', 'filename': 'capitulo7.pdf'},\n",
       "  'contenido': 'excepción de las grasas comestibles que se expendan al estado puro, las'},\n",
       " {'metadata': {'type': 'narrative', 'filename': 'capitulo7.pdf'},\n",
       "  'contenido': 'comestibles elaboradas en base a grasas comestibles y/o aceites alimenticios'},\n",
       " {'metadata': {'type': 'narrative', 'filename': 'capitulo7.pdf'},\n",
       "  'contenido': 'el presente y destinadas a la elaboración de margarinas, cremas arti ficiales, productos'},\n",
       " {'metadata': {'type': 'narrative', 'filename': 'capitulo7.pdf'},\n",
       "  'contenido': 'y otros, podrán adicionarse de los siguientes aditivos a fin de mejorar'},\n",
       " {'metadata': {'type': 'narrative', 'filename': 'capitulo7.pdf'},\n",
       "  'contenido': 'Mezcla de mono y diglicéridos, fundamentalmente de ácidos palmítico y/o esteárico, en'},\n",
       " {'metadata': {'type': 'narrative', 'filename': 'capitulo7.pdf'},\n",
       "  'contenido': 'Monoglicéridos de alta concentración, fundamentalmente de ácidos palmítico y/o'},\n",
       " {'metadata': {'type': 'narrative', 'filename': 'capitulo7.pdf'},\n",
       "  'contenido': 'la cantidad necesaria para el fin'},\n",
       " {'metadata': {'type': 'narrative', 'filename': 'capitulo7.pdf'},\n",
       "  'contenido': 'Mezcla de mono y diésteres del 1,2 -propanodiol con ácidos grasos, fundamentalmente'},\n",
       " {'metadata': {'type': 'narrative', 'filename': 'capitulo7.pdf'},\n",
       "  'contenido': 'palmítico y/o esteárico, Máx: 1,0% en'},\n",
       " {'metadata': {'type': 'narrative', 'filename': 'capitulo7.pdf'},\n",
       "  'contenido': 'Monoésteres de alta concentración del 1,2 -propanodiol con ácidos palmítico y/o'},\n",
       " {'metadata': {'type': 'narrative', 'filename': 'capitulo7.pdf'},\n",
       "  'contenido': 'Mezcla de mono y diglicéridos de ácidos palmítico y/o esteárico esterificados con'},\n",
       " {'metadata': {'type': 'narrative', 'filename': 'capitulo7.pdf'},\n",
       "  'contenido': 'tartárico, cítrico, láctico o acetil tartárico o sus sales de sodio o de calcio, Máx:'},\n",
       " {'metadata': {'type': 'narrative', 'filename': 'capitulo7.pdf'},\n",
       "  'contenido': 'Monopalmitato de sorbitano, monoestearato de sorbitano, triestearato de'},\n",
       " {'metadata': {'type': 'narrative', 'filename': 'capitulo7.pdf'},\n",
       "  'contenido': '(20) sorbitano (Polisorbato 60); monoleato de'},\n",
       " {'metadata': {'type': 'narrative', 'filename': 'capitulo7.pdf'},\n",
       "  'contenido': 'sorbitano (Polisorbato 80); triestearato de polioxietilen (20) sorbitano (Polisorbato'},\n",
       " {'metadata': {'type': 'narrative', 'filename': 'capitulo7.pdf'},\n",
       "  'contenido': 'Estearoil lactilato de calcio o sodi o, Máx: 1,0% en peso. Con la excepción de los mono'},\n",
       " {'metadata': {'type': 'narrative', 'filename': 'capitulo7.pdf'},\n",
       "  'contenido': 'las mezclas de los emulsionantes arriba mencionados, no excederán del 1,0%'},\n",
       " {'metadata': {'type': 'narrative', 'filename': 'capitulo7.pdf'},\n",
       "  'contenido': 'Monoglicéridos succinilados: no más del 3,0% d el peso de la'},\n",
       " {'metadata': {'type': 'narrative', 'filename': 'capitulo7.pdf'},\n",
       "  'contenido': 'Esteres de ácidos grasos y sacarosa (INS 473) y sucroglicéridos (INS 474), Máx. 1%'},\n",
       " {'metadata': {'type': 'narrative', 'filename': 'capitulo7.pdf'},\n",
       "  'contenido': 'Artículo 551 - (Resolución Conjunta SPReI N 203/2013 y SAGyP N'},\n",
       " {'metadata': {'type': 'narrative', 'filename': 'capitulo7.pdf'},\n",
       "  'contenido': 'la denominación de Margarina, se entiende el alimento con stituido por una fase'},\n",
       " {'metadata': {'type': 'narrative', 'filename': 'capitulo7.pdf'},\n",
       "  'contenido': 'mezclada con una fase grasa alimenticia formando una emulsión plástica. La'},\n",
       " {'metadata': {'type': 'narrative', 'filename': 'capitulo7.pdf'},\n",
       "  'contenido': 'Grasas animales comestibles (enteras o'},\n",
       " {'metadata': {'type': 'narrative', 'filename': 'capitulo7.pdf'},\n",
       "  'contenido': 'Aceites vegetales comestibles (enteros o'},\n",
       " {'metadata': {'type': 'narrative', 'filename': 'capitulo7.pdf'},\n",
       "  'contenido': 'Aceites y/o grasas comestibles hidrogenados, los que no podrán constituir la totalidad de'},\n",
       " {'metadata': {'type': 'narrative', 'filename': 'capitulo7.pdf'},\n",
       "  'contenido': 'grasa, debiéndose incluir obligatoriamente en la misma aceites o grasas no'},\n",
       " {'metadata': {'type': 'narrative', 'filename': 'capitulo7.pdf'},\n",
       "  'contenido': 'Aceites y grasas interesterificados y/o transeste'},\n",
       " {'metadata': {'type': 'narrative', 'filename': 'capitulo7.pdf'},\n",
       "  'contenido': 'Mezcla de las substancias grasas mencionadas'},\n",
       " {'metadata': {'type': 'narrative', 'filename': 'capitulo7.pdf'},\n",
       "  'contenido': 'la elaboración de la margarina queda permitido el empleo de los siguientes ingredientes'},\n",
       " {'metadata': {'type': 'narrative', 'filename': 'capitulo7.pdf'},\n",
       "  'contenido': 'a) Leche pasteurizada, leche en'},\n",
       " {'metadata': {'type': 'narrative', 'filename': 'capitulo7.pdf'},\n",
       "  'contenido': 'parcial o totalmente descremada) y/o crema'},\n",
       " {'metadata': {'type': 'narrative', 'filename': 'capitulo7.pdf'},\n",
       "  'contenido': 'Edulcorantes nutritivos, autorizados por el presente Código, Máx. : 2% en'},\n",
       " {'metadata': {'type': 'narrative', 'filename': 'capitulo7.pdf'},\n",
       "  'contenido': 'Proteínas comestibles incluyendo, pero no limitadas a, suero líquido, condensado o'},\n",
       " {'metadata': {'type': 'narrative', 'filename': 'capitulo7.pdf'},\n",
       "  'contenido': 'modificado por la reducción de lactosa y/o minerales, componentes del suero libre'},\n",
       " {'metadata': {'type': 'narrative', 'filename': 'capitulo7.pdf'},\n",
       "  'contenido': 'albúmina, caseína, caseinato, en cantidades no mayores a las requeridas para lograr'},\n",
       " {'metadata': {'type': 'narrative', 'filename': 'capitulo7.pdf'},\n",
       "  'contenido': 'Sal (cloruro de sodio), Máx. : 3% en'},\n",
       " {'metadata': {'type': 'narrative', 'filename': 'capitulo7.pdf'},\n",
       "  'contenido': 'Colorantes de origen vegetal de uso permitido consignados en el Artículo 1324 del'},\n",
       " {'metadata': {'type': 'narrative', 'filename': 'capitulo7.pdf'},\n",
       "  'contenido': 'Diacetilo, como reforzador de la aromatización biológica, Máx. : 1 mg/kg (1'},\n",
       " {'metadata': {'type': 'narrative', 'filename': 'capitulo7.pdf'},\n",
       "  'contenido': 'Aromatizantes sintéticos cuyos componentes, purezas y do sis hubieren sido'},\n",
       " {'metadata': {'type': 'narrative', 'filename': 'capitulo7.pdf'},\n",
       "  'contenido': 'Antioxidantes y sinergistas autorizados en el Artículo'},\n",
       " {'metadata': {'type': 'narrative', 'filename': 'capitulo7.pdf'},\n",
       "  'contenido': 'Substancias conservadoras: ácido'},\n",
       " {'metadata': {'type': 'narrative', 'filename': 'capitulo7.pdf'},\n",
       "  'contenido': 'ácido benzoico y/o sus sales autorizadas por'},\n",
       " {'metadata': {'type': 'narrative', 'filename': 'capitulo7.pdf'},\n",
       "  'contenido': 'Código en cantidades no superiores a 1 g/kg (1000 ppm) expresados como'},\n",
       " {'metadata': {'type': 'narrative', 'filename': 'capitulo7.pdf'},\n",
       "  'contenido': 'Agentes emulsionantes: los consignados en el Artículo 550 y en las mismas'},\n",
       " {'metadata': {'type': 'narrative', 'filename': 'capitulo7.pdf'},\n",
       "  'contenido': 'Vitaminas: sólo se autoriza en las margarinas rotuladas para untar y en las'},\n",
       " {'metadata': {'type': 'narrative', 'filename': 'capitulo7.pdf'},\n",
       "  'contenido': 'Vitamina A: 15.000 a 30.000 UI/kg equivalente a 4500 a 15.000 microgramos/kg de'},\n",
       " {'metadata': {'type': 'narrative', 'filename': 'capitulo7.pdf'},\n",
       "  'contenido': 'D: 1.500 a 3.000 UI/kg equivalente a 37,5 a 75, 0 microgramos/kg de'},\n",
       " {'metadata': {'type': 'narrative', 'filename': 'capitulo7.pdf'},\n",
       "  'contenido': 'Reguladores de Acidez: ácido cítrico y láctico'},\n",
       " {'metadata': {'type': 'narrative', 'filename': 'capitulo7.pdf'},\n",
       "  'contenido': 'margarina deberá responder a las siguientes características y/o exigencias físicas,'},\n",
       " {'metadata': {'type': 'narrative', 'filename': 'capitulo7.pdf'},\n",
       "  'contenido': 'El contenido de materia grasa no será menor d e 80,0% en'},\n",
       " {'metadata': {'type': 'narrative', 'filename': 'capitulo7.pdf'},\n",
       "  'contenido': 'La cantidad de agua no será mayor de 16% en'},\n",
       " {'metadata': {'type': 'narrative', 'filename': 'capitulo7.pdf'},\n",
       "  'contenido': 'La fase grasa presentará un punto de fusión no mayor de 42C en las margarinas para'},\n",
       " {'metadata': {'type': 'narrative', 'filename': 'capitulo7.pdf'},\n",
       "  'contenido': 'de 48C en las margarinas para uso'},\n",
       " {'metadata': {'type': 'narrative', 'filename': 'capitulo7.pdf'},\n",
       "  'contenido': 'Deberá presentarse sólida a 20C, su textu ra será lisa y homogénea sin cámaras de agua'},\n",
       " {'metadata': {'type': 'narrative', 'filename': 'capitulo7.pdf'},\n",
       "  'contenido': '5. Presentará una distribución y tamaño razonablemente uniforme de los glóbulos de agua'},\n",
       " {'metadata': {'type': 'narrative', 'filename': 'capitulo7.pdf'},\n",
       "  'contenido': 'microscópico en capa delgada entre porta y'},\n",
       " {'metadata': {'type': 'narrative', 'filename': 'capitulo7.pdf'},\n",
       "  'contenido': 'Presentará color amarillento uniforme y no evi denciará sabores y olores'},\n",
       " {'metadata': {'type': 'narrative', 'filename': 'capitulo7.pdf'},\n",
       "  'contenido': 'El contenido de metales y catalizadores residuales no será superior al indicado en el'},\n",
       " {'metadata': {'type': 'narrative', 'filename': 'capitulo7.pdf'},\n",
       "  'contenido': 'Cumplirá con los siguientes criterios'},\n",
       " {'metadata': {'type': 'narrative', 'filename': 'capitulo7.pdf'},\n",
       "  'contenido': 'margarina deberá ser envasada en recipientes o envol turas impermeables,'},\n",
       " {'metadata': {'type': 'narrative', 'filename': 'capitulo7.pdf'},\n",
       "  'contenido': 'denominación de venta será Margarina y deberá'},\n",
       " {'metadata': {'type': 'narrative', 'filename': 'capitulo7.pdf'},\n",
       "  'contenido': 'buen realce y visibilidad, cuyo tamaño no podrá ser menor que el de cualqui er'},\n",
       " {'metadata': {'type': 'narrative', 'filename': 'capitulo7.pdf'},\n",
       "  'contenido': 'o designación del rotulado con excepción de la'},\n",
       " {'metadata': {'type': 'narrative', 'filename': 'capitulo7.pdf'},\n",
       "  'contenido': 'indicará en el rótulo para untar o para repostería cuando'},\n",
       " {'metadata': {'type': 'narrative', 'filename': 'capitulo7.pdf'},\n",
       "  'contenido': 'de lo exigido en el Capítulo V deberá consignarse con caracteres bien visibles en'},\n",
       " {'metadata': {'type': 'narrative', 'filename': 'capitulo7.pdf'},\n",
       "  'contenido': 'o en las tapa de los envases el mes y año de elaboración así como la leyenda'},\n",
       " {'metadata': {'type': 'narrative', 'filename': 'capitulo7.pdf'},\n",
       "  'contenido': 'caso de utilizarse papel impermeabilizado la fecha deberá ser bien legible, impresa'},\n",
       " {'metadata': {'type': 'narrative', 'filename': 'capitulo7.pdf'},\n",
       "  'contenido': 'La perforación no debe exponer el contenido al medio am'},\n",
       " {'metadata': {'type': 'narrative', 'filename': 'capitulo7.pdf'},\n",
       "  'contenido': 'caso de agregarse vitamina A y/o D deberán ser claramente declaradas en el rotulado,'},\n",
       " {'metadata': {'type': 'narrative', 'filename': 'capitulo7.pdf'},\n",
       "  'contenido': 'productos se considerarán como productos dietéticos por lo que deberán cumplir con'},\n",
       " {'metadata': {'type': 'narrative', 'filename': 'capitulo7.pdf'},\n",
       "  'contenido': 'consignadas en el Capítulo XV II del presente'},\n",
       " {'metadata': {'type': 'narrative', 'filename': 'capitulo7.pdf'},\n",
       "  'contenido': '552 - (Resolución Conjunta SCS y SAByDR N 1 7/2021'},\n",
       " {'metadata': {'type': 'narrative', 'filename': 'capitulo7.pdf'},\n",
       "  'contenido': 'aceites y grasas utilizados durante el proceso de fritura de alimentos en la'},\n",
       " {'metadata': {'type': 'narrative', 'filename': 'capitulo7.pdf'},\n",
       "  'contenido': 'y servicios gastronómicos deberán reunir las características y r esponder a'},\n",
       " {'metadata': {'type': 'narrative', 'filename': 'capitulo7.pdf'},\n",
       "  'contenido': 'de los aceites y grasas incluidos en el presente'},\n",
       " {'metadata': {'type': 'narrative', 'filename': 'capitulo7.pdf'},\n",
       "  'contenido': 'el caso de los aceites deberán estar adicionados de antioxidantes y/o sinergistas'},\n",
       " {'metadata': {'type': 'narrative', 'filename': 'capitulo7.pdf'},\n",
       "  'contenido': 'el Artículo 523 bis, Inc. 2, 3, 4, 6, 7, 8 y'},\n",
       " {'metadata': {'type': 'narrative', 'filename': 'capitulo7.pdf'},\n",
       "  'contenido': 'metilsilicona como antiespumante en cantidad no superior a'},\n",
       " {'metadata': {'type': 'narrative', 'filename': 'capitulo7.pdf'},\n",
       "  'contenido': 'acuerdo con las condiciones en que se realice el proceso de fritura, la autoridad'},\n",
       " {'metadata': {'type': 'narrative', 'filename': 'capitulo7.pdf'},\n",
       "  'contenido': 'podrá desestimar el uso de aceites cuyo contenido en ácido linolénic o sea superi'},\n",
       " {'metadata': {'type': 'narrative', 'filename': 'capitulo7.pdf'},\n",
       "  'contenido': '552bis - (Resolución Conjunta SCS y SAByDR N 1 7/2021'},\n",
       " {'metadata': {'type': 'narrative', 'filename': 'capitulo7.pdf'},\n",
       "  'contenido': 'aceites y grasas de frituras usados serán considerados como no aptos para su'},\n",
       " {'metadata': {'type': 'narrative', 'filename': 'capitulo7.pdf'},\n",
       "  'contenido': 'a) Presenten alteraciones y/o deficiencias'},\n",
       " {'metadata': {'type': 'narrative', 'filename': 'capitulo7.pdf'},\n",
       "  'contenido': 'características sensoriales correspondientes'},\n",
       " {'metadata': {'type': 'narrative', 'filename': 'capitulo7.pdf'},\n",
       "  'contenido': 'Presenten un contenido igual o superior al 25 % de Compuestos Polares'},\n",
       " {'metadata': {'type': 'narrative', 'filename': 'capitulo7.pdf'},\n",
       "  'contenido': 'de conformidad con la norma ISO 8420:2002 o aquella que la'},\n",
       " {'metadata': {'type': 'narrative', 'filename': 'capitulo7.pdf'},\n",
       "  'contenido': 'no se utilice la Norma referida en el inciso anterior la'},\n",
       " {'metadata': {'type': 'narrative', 'filename': 'capitulo7.pdf'},\n",
       "  'contenido': 'alternativa a utilizar deberá cumplir con los parámetros de rendimiento que'},\n",
       " {'metadata': {'type': 'narrative', 'filename': 'capitulo7.pdf'},\n",
       "  'contenido': 'El método debe se r aplicable a la'},\n",
       " {'metadata': {'type': 'narrative', 'filename': 'capitulo7.pdf'},\n",
       "  'contenido': 'el producto especificado y el límite'},\n",
       " {'metadata': {'type': 'narrative', 'filename': 'capitulo7.pdf'},\n",
       "  'contenido': 'observado y el desvío estándar relativo'},\n",
       " {'metadata': {'type': 'narrative', 'filename': 'capitulo7.pdf'},\n",
       "  'contenido': 'Se deberá cumplir con el siguiente rango'},\n",
       " {'metadata': {'type': 'narrative', 'filename': 'capitulo7.pdf'},\n",
       "  'contenido': 'Con la denominación Crema artificial, Imitación crema, se entiende el producto de'},\n",
       " {'metadata': {'type': 'narrative', 'filename': 'capitulo7.pdf'},\n",
       "  'contenido': 'constituido por una emulsión de substancias grasas alimenticias y agua'},\n",
       " {'metadata': {'type': 'narrative', 'filename': 'capitulo7.pdf'},\n",
       "  'contenido': 'fase grasa podrá estar constituída por los mismos aceites y grasas empleados en'},\n",
       " {'metadata': {'type': 'narrative', 'filename': 'capitulo7.pdf'},\n",
       "  'contenido': 'permitido el empleo de los ingredientes y aditivos admitidos para margarin as'},\n",
       " {'metadata': {'type': 'narrative', 'filename': 'capitulo7.pdf'},\n",
       "  'contenido': 'Pudiéndose incorporar substancias gelificantes, estabilizantes y/o espesantes'},\n",
       " {'metadata': {'type': 'narrative', 'filename': 'capitulo7.pdf'},\n",
       "  'contenido': 'el presente Código en cantidades necesarias para el fin'},\n",
       " {'metadata': {'type': 'narrative', 'filename': 'capitulo7.pdf'},\n",
       "  'contenido': 'crema artificial deberá responder a las siguientes exigencias y/o caracter ísticas'},\n",
       " {'metadata': {'type': 'narrative', 'filename': 'capitulo7.pdf'},\n",
       "  'contenido': 'El contenido de materia grasa estará comprendido entre 25 y 60% en'},\n",
       " {'metadata': {'type': 'narrative', 'filename': 'capitulo7.pdf'},\n",
       "  'contenido': 'La fase grasa presentará un punto de fusión no mayor de'},\n",
       " {'metadata': {'type': 'narrative', 'filename': 'capitulo7.pdf'},\n",
       "  'contenido': 'El contenido de metales y catalizadores residuales no será'},\n",
       " {'metadata': {'type': 'narrative', 'filename': 'capitulo7.pdf'},\n",
       "  'contenido': 'Cumplirá con las exigencias microbiológicas consignadas en el Artículo 551, Inc'},\n",
       " {'metadata': {'type': 'narrative', 'filename': 'capitulo7.pdf'},\n",
       "  'contenido': 'Deberá contener una substancia testigo constituída por almidones o féculas en'},\n",
       " {'metadata': {'type': 'narrative', 'filename': 'capitulo7.pdf'},\n",
       "  'contenido': 'crema artificial deberá expenderse en envases bromatológicamente aptos,'},\n",
       " {'metadata': {'type': 'narrative', 'filename': 'capitulo7.pdf'},\n",
       "  'contenido': 'rotularse con la denominación de: Crema artificial o Imitación crema como'},\n",
       " {'metadata': {'type': 'narrative', 'filename': 'capitulo7.pdf'},\n",
       "  'contenido': 'con caracteres de bu en realce y visibilidad cuyo tamaño no podrá ser menor que'},\n",
       " {'metadata': {'type': 'narrative', 'filename': 'capitulo7.pdf'},\n",
       "  'contenido': 'cualquier otra inscripción o designación del'},\n",
       " {'metadata': {'type': 'narrative', 'filename': 'capitulo7.pdf'},\n",
       "  'contenido': 'consignarse el mes y año de elaboración, la fecha de vencimiento y la'},\n",
       " {'metadata': {'type': 'narrative', 'filename': 'capitulo7.pdf'},\n",
       "  'contenido': 'refrigerado o similar con caracteres'},\n",
       " {'metadata': {'type': 'narrative', 'filename': 'capitulo7.pdf'},\n",
       "  'contenido': 'Deberá consignarse en forma genérica, los aditivos empleados y optativamente la lista'},\n",
       " {'metadata': {'type': 'narrative', 'filename': 'capitulo7.pdf'},\n",
       "  'contenido': 'según el orden decreciente de sus'},\n",
       " {'metadata': {'type': 'narrative', 'filename': 'capitulo7.pdf'},\n",
       "  'contenido': 'Con la denominación de Polvo para preparar crema artificial o Polvo para preparar'},\n",
       " {'metadata': {'type': 'narrative', 'filename': 'capitulo7.pdf'},\n",
       "  'contenido': 'se entiende el producto en polvo elaborado sobre la base de las materias'},\n",
       " {'metadata': {'type': 'narrative', 'filename': 'capitulo7.pdf'},\n",
       "  'contenido': 'y aditivos autorizados precedentemente en este artículo, pudiendo'},\n",
       " {'metadata': {'type': 'narrative', 'filename': 'capitulo7.pdf'},\n",
       "  'contenido': 'de los fosfatos permitidos por el presente'},\n",
       " {'metadata': {'type': 'narrative', 'filename': 'capitulo7.pdf'},\n",
       "  'contenido': 'presentar u n contenido máximo de humedad de 5% y responder a las'},\n",
       " {'metadata': {'type': 'narrative', 'filename': 'capitulo7.pdf'},\n",
       "  'contenido': 'exigencia se dará por no cumplida si'},\n",
       " {'metadata': {'type': 'narrative', 'filename': 'capitulo7.pdf'},\n",
       "  'contenido': 'Recuento de bacterias mesófilas aerobias, PCA, 30C, 72 h: mayo r de'},\n",
       " {'metadata': {'type': 'narrative', 'filename': 'capitulo7.pdf'},\n",
       "  'contenido': 'Recuento de bacterias termófilas: mayor de'},\n",
       " {'metadata': {'type': 'narrative', 'filename': 'capitulo7.pdf'},\n",
       "  'contenido': 'Bacterias coliformes fecales: más de'},\n",
       " {'metadata': {'type': 'narrative', 'filename': 'capitulo7.pdf'},\n",
       "  'contenido': 'Estafilococos aureus coagulasa positiva: más de'},\n",
       " {'metadata': {'type': 'narrative', 'filename': 'capitulo7.pdf'},\n",
       "  'contenido': 'envasarse en envases bromatológicamente aptos debiendo consignar en el rotulado'},\n",
       " {'metadata': {'type': 'narrative', 'filename': 'capitulo7.pdf'},\n",
       "  'contenido': 'Polvo para preparar crema artificial'},\n",
       " {'metadata': {'type': 'narrative', 'filename': 'capitulo7.pdf'},\n",
       "  'contenido': 'caracteres de buen e igual tamaño, realce y visib ilidad para la palabra crema, artificial'},\n",
       " {'metadata': {'type': 'narrative', 'filename': 'capitulo7.pdf'},\n",
       "  'contenido': 'la fecha de vencimiento y la cantidad de producto terminado que se puede'},\n",
       " {'metadata': {'type': 'narrative', 'filename': 'capitulo7.pdf'},\n",
       "  'contenido': 'acuerdo con la forma de reconstitución indicada con el contenido del envase.'},\n",
       " {'metadata': {'type': 'narrative', 'filename': 'capitulo1.pdf'},\n",
       "  'contenido': 'CAP ÍTULO I  \\n \\nDISPOSICIONES GENERALES  \\n \\n \\nArtículo 1  \\nToda persona, firma comercial o establecimiento que elabore, fraccione, conserve, transporte, \\nexpenda, exponga, importe o exporte alimentos, condimentos, bebidas o primeras materias correspondientes a los mi smos y aditivos alimentarios debe cumplir con las disposiciones del \\npresente Código.'},\n",
       " {'metadata': {'type': 'narrative', 'filename': 'capitulo1.pdf'},\n",
       "  'contenido': 'Artículo 2 - (Dec ME y SyAS 2092, 10.10.91)  \\nSustitúyese el texto del artículo 2º del Anexo I del Decreto Nº 2126/71 por el siguiente:  \\n\"Todos los alimentos, condimentos , bebidas o sus materias primas y los aditivos alimentarios \\nque se elaboren, fraccionen, conserven, transporten, expendan o expongan, deben satisfacer \\nlas exigencias del presente Código.'},\n",
       " {'metadata': {'type': 'narrative', 'filename': 'capitulo1.pdf'},\n",
       "  'contenido': 'Cuando cualquiera de aquellos sea importado, se aplicarán los requeri mientos de este Código; \\ndichas exigencias se considerarán también satisfechas cuando los productos provengan de \\npaíses que cuenten con niveles de contralor alimentario equiparables a los de la República Argentina a criterio de la Autoridad Sanitaria Nacion al, o cuando utilicen las normas del Codex \\nAlimentarius (FAO/OMS).'},\n",
       " {'metadata': {'type': 'narrative', 'filename': 'capitulo1.pdf'},\n",
       "  'contenido': 'En los casos de importaciones desde países con los que rijan tratados de integración económica o acuerdos de reciprocidad, la Autoridad Sanitaria Nacional podrá también considerar satisfech as las exigencias de este Código, previa evaluación del sistema de control alimentario \\nen cada país de origen. Cuando cualquiera de aquellos sea exportado, serán aplicables las exigencias del presente Código, o las que rijan en el país de destino, a opción  del exportador\".'},\n",
       " {'metadata': {'type': 'narrative', 'filename': 'capitulo1.pdf'},\n",
       "  'contenido': 'Artículo 3 - (Res olución  Conj unta  SAGP yA y SPyRS N° 187 y N° 048, 4.05.00)  \\n\"Todo proceso de elaboración que implícitamente no figure en el presente Código será lícito si \\nno introduce elementos extraños o indeseables, o no altera el valo r nutritivo o aptitud \\nbromatológica de los alimentos terminados de que se trate.'},\n",
       " {'metadata': {'type': 'narrative', 'filename': 'capitulo1.pdf'},\n",
       "  'contenido': 'Todo alimento elaborado y no definido por el presente Código, incluidos los alimentos para \\nRegímenes Especiales, podrá registrarse solamente después de su aceptación por la Au toridad \\nSanitaria Nacional, a la que se elevarán certificados y monografías para su evaluación, la que \\nlos autorizará siempre que sus materias primas, ingredientes, aditivos agregados en las proporciones admitidas, materiales en contacto con los mismos, pr ocesos de elaboración y \\naptitud bromatológica respondan a las exigencias de este Código.'},\n",
       " {'metadata': {'type': 'narrative', 'filename': 'capitulo1.pdf'},\n",
       "  'contenido': 'En todos los casos la Autoridad Sanitaria Nacional deberá expedirse dentro del plazo de Veinte (20) días. Vencido el referido plazo sin mediar pronunciamiento de dicha  Autoridad, la \\nAutoridad Sanitaria Provincial o del Gobierno Autónomo de la Ciudad de Buenos Aires procederán, de corresponder, a otorgar la pertinente autorización\".'},\n",
       " {'metadata': {'type': 'narrative', 'filename': 'capitulo1.pdf'},\n",
       "  'contenido': 'Artículo 4  \\nCuando lo disponga la autoridad sanitaria nacional, en razón de la naturale za o complejidad de \\nlos productos, las actividades comprendidas en los Artículos 1° y 2° de este Código deberán ser \\nrealizadas con la dirección técnica de un profesional autorizado. Artículo 5  \\nUn término definido en un  párrafo cualquiera del presente Código tiene la misma significación \\nen cualquiera otra parte en que se lo emplee. Artículo 6  \\nA los efectos de este Código se establecen las siguientes definiciones:  \\n1.'},\n",
       " {'metadata': {'type': 'narrative', 'filename': 'capitulo1.pdf'},\n",
       "  'contenido': 'Consumidor: Toda persona o grupo de personas o institución que se procure alimentos para consumo propio o de terceros. 2. Alimento: toda substancia o mezcla de substancias naturales o elaboradas que ingeridas por el hombre aporten a su organismo los materiales y la energía necesarios para el desarrollo de sus procesos biológicos. La designació n \"alimento\" incluye además las substancias o mezclas \\nde substancias que se ingieren por hábito, costumbres, o como coadyuvantes, tengan o no valor nutritivo. 3.'},\n",
       " {'metadata': {'type': 'narrative', 'filename': 'capitulo1.pdf'},\n",
       "  'contenido': 'Aditivo alimentario: Cualquier substancia o mezcla de substancias que directa o indirectamente  modifiquen las características físicas, químicas o biológicas de un alimento, a \\nlos efectos de su mejoramiento, preservación, o estabilización, siempre que:  \\na) Sean inocuos por sí mismos o a través de su acción como aditivos en las condiciones de uso. b) Su empleo se justifique por razones tecnológicas, sanitarias, nutricionales o \\npsicosensoriales necesarias. c) Respondan a las exigencias de designación y de pureza que establezca este Código. 4.'},\n",
       " {'metadata': {'type': 'narrative', 'filename': 'capitulo1.pdf'},\n",
       "  'contenido': 'Alimento genuino o normal: Se entiende el que, respondiendo a  las especificaciones \\nreglamentarias, no contenga sustancias no autorizadas ni agregados que configuren una \\nadulteración y se expenda bajo la denominación y rotulados legales, sin indicaciones, signos o \\ndibujos que puedan engañar respecto a su origen, natu raleza y calidad. 5.'},\n",
       " {'metadata': {'type': 'narrative', 'filename': 'capitulo1.pdf'},\n",
       "  'contenido': '(Res 205, 7.03.88)  \"Alimento alterado: El que por causas naturales de índole física, \\nquímica y/o biológica o derivadas de tratamientos tecnológicos inadecuados y/o deficientes, \\naisladas o combinadas, ha sufrido deterioro en sus caracte rísticas organolépticas, en su \\ncomposición intrínseca y/o en su valor nutritivo\". 6. Alimento contaminado: el que contenga:  \\na) Agentes vivos (virus, microorganismos o parásitos riesgosos para la salud), sustancias \\nquímicas, minerales u orgánicas extrañas a  su composición normal sean o no repulsivas o \\ntóxicas.'},\n",
       " {'metadata': {'type': 'narrative', 'filename': 'capitulo1.pdf'},\n",
       "  'contenido': 'b) Componentes naturales tóxicos en concentración mayor a las permitidas por exigencias \\nreglamentarias. 7. Alimento adulterado: El que ha sido privado, en forma parcial o total, de sus elementos \\nútiles  o característicos, reemplazándolos o no por otros inertes o extraños; que ha sido \\nadicionado de aditivos no autorizados o sometidos a tratamientos de cualquier naturaleza para \\ndisimular u ocultar alteraciones, deficiente calidad de materias primas o defec tos de \\nelaboración. 8.'},\n",
       " {'metadata': {'type': 'narrative', 'filename': 'capitulo1.pdf'},\n",
       "  'contenido': 'Alimento falsificado: El que tenga la apariencia y caracteres generales de un producto \\nlegítimo protegido o no por marca registrada, y se denomine como éste sin serlo o que no \\nproceda de sus verdaderos fabricantes o zona de producció n conocida y/o declarada. RESOLUCIÓN  GMC Nº 031/92 y RES OLUCIÓN  GMC N° 018/93 \\nIncorporadas por Resolución MSyAS N° 003 del 11.01.95  \\n Toda “norma específica” a que se refieren las resoluciones anexas, serán únicamente aquellas armonizadas en el ámbito del  MERCOSUR.'},\n",
       " {'metadata': {'type': 'narrative', 'filename': 'capitulo1.pdf'},\n",
       "  'contenido': 'Se deroga toda legislación del Código Alimentario Argentino que se oponga a la presente \\nResolución. DEFINICI ÓN Y PRINCIPIOS FUNDAMENTALES REFERENTE A EMPLEO DE \\nADITIVOS, INGREDIENTES, COADYUVANTE DE ELABORACI ÓN, \\nCONTAMINANTES.'},\n",
       " {'metadata': {'type': 'narrative', 'filename': 'capitulo1.pdf'},\n",
       "  'contenido': 'Art 1° - Aproba r las definiciones de ingrediente, aditivo alimenticio, coadyuvante de \\nelaboración, contaminante y los principios fundamentales referentes al empleo de aditivos \\nalimenticios, conforme a lo siguiente:  \\n \\nIngredientes : es toda sustancia, incluidos los aditivos  alimentarios, que se emplee en la \\nfabricación o preparación de un alimento y esté presente en el producto final en su forma original o modificada.'},\n",
       " {'metadata': {'type': 'narrative', 'filename': 'capitulo1.pdf'},\n",
       "  'contenido': 'Aditivo alimentario : es cualquier ingrediente agregado a los alimentos intencionalmente, sin \\nel propósito d e nutrir, con el objeto de modificar las características físicas, químicas, biológicas \\no sensoriales, durante la manufactura, procesado, preparación, tratamiento, envasado, acondicionado, almacenado, transporte o manipulación de un alimento; podrá resultar  que el \\npropio aditivo o sus derivados se conviertan en un componente de dicho alimento.'},\n",
       " {'metadata': {'type': 'narrative', 'filename': 'capitulo1.pdf'},\n",
       "  'contenido': 'Esta definición no incluye a los contaminantes o a las sustancias nutritivas que se incorporan a un alimento para mantener o mejorar sus propiedades nutricionales.'},\n",
       " {'metadata': {'type': 'narrative', 'filename': 'capitulo1.pdf'},\n",
       "  'contenido': 'RESOLUCIÓN  GMC N° 18/93  Sustitúyase el texto de la definición de Coadyudante de \\nElaboración de productos alimentarios incluidos en el artículo 1º de la Resolución GMC Nº \\n31/92 por el siguiente:  \\nCoadyuvante de Tecnología  es toda sustancia, excluyendo los equi pamientos y los \\nutensilios, que no se consume por si sola como ingrediente alimenticio y que se emplea \\nintencionalmente en la elaboración de materias primas, alimentos o sus ingredientes, para obtener una finalidad tecnológica durante el tratamiento o elab oración.'},\n",
       " {'metadata': {'type': 'narrative', 'filename': 'capitulo1.pdf'},\n",
       "  'contenido': 'Deberá ser eliminado \\ndel alimento o inactivado, pudiendo admitirse la presencia de trazas de la sustancia, o sus \\nderivados, en el producto final. Contaminante : es cualquier sustancia indeseable presente en el alimento en el momento del \\nconsumo, p rovenientes de las operaciones efectuadas en el cultivo de vegetales, cría de \\nanimales, tratamientos zoo o fitosanitarios, o como resultado de la contaminación del ambiente, o de los equipos de elaboración y/o conservación. Principios fundamentales refere ntes al empleo de aditivos alimentarios.'},\n",
       " {'metadata': {'type': 'narrative', 'filename': 'capitulo1.pdf'},\n",
       "  'contenido': 'A) La seguridad de los aditivos es primordial, esto supone que antes de autorizar el uso de un aditivo en alimentos deberá haberse sometido a una adecuada evaluación toxicológica en \\nla que se deberá tener en cuenta,  entre otros aspectos, cualquier efecto acumulativo, \\nsinérgico o de protección producida por su uso; los aditivos alimentarios deberán \\nmantenerse en observación y revaluarse cuando sea necesario si cambian las condiciones de uso, debiéndose estar al tanto de las informaciones científicas que aparezcan sobre este \\nt ema;  \\nB) La restricción de uso de los aditivos, establece que el uso deberá limitarse a alimentos específicos, en condiciones específicas y al nivel mínimo para lograr el efecto deseado;  \\nC) La neces idad tecnológica de uso de un aditivo solo será justificado cuando proporciona \\nventajas de orden tecnológico y no cuando estas puedan ser alcanzadas por operaciones de fabricación más adecuadas o por mayores precauciones de orden higiénico u operacional.'},\n",
       " {'metadata': {'type': 'narrative', 'filename': 'capitulo1.pdf'},\n",
       "  'contenido': 'D) El empleo de aditivos se justifica por razones tecnológicas, sanitarias, nutricionales o \\npsico-sensoriales, siempre que:  \\ni) Se empleen aditivos autorizados en concentraciones tales que su ingesta diaria no supere los valores admitidos;  \\nii) Responda a las  exigencias de pureza establecidas por FAO -OMS, o por el FOOD \\nCHEMICAL CODEX.'},\n",
       " {'metadata': {'type': 'narrative', 'filename': 'capitulo1.pdf'},\n",
       "  'contenido': 'Artículo 6bis - (Res 49, 27.1.86)  \\n\"Queda terminantemente prohibida la tenencia, circulación y venta de alimentos y sus primeras materias, alterados, contaminados, adulterados, falsificados y/o falsamente rotulados bajo \\npena de multa, prohibición de venta y comiso de la mercadería en infracción\".'},\n",
       " {'metadata': {'type': 'narrative', 'filename': 'capitulo1.pdf'},\n",
       "  'contenido': 'Artículo 7  \\nCon la expresión intoxicación por alimentos, se entiende los procesos patológicos, originados no sólo por alimentos altera dos, sino también por la ingestión de productos que, a pesar de \\npresentar apariencia normal, contienen elementos o substancias nocivas para el organismo, cualquiera sea su origen. Artículo 8  \\nQueda prohibido adicionar a los alimentos substancias o ingredi entes (aditivos) que no estén \\nexpresamente admitidos para cada caso por el presente Código.'},\n",
       " {'metadata': {'type': 'narrative', 'filename': 'capitulo1.pdf'},\n",
       "  'contenido': 'Deberán agregarse en el momento de la elaboración o preparación del alimento, en la proporción necesaria para el fin propuesto y admitido, pero no podrán adicionars e con \\nposterioridad, para disimular, atenuar o corregir deficiencias de fabricación, de manipulación o \\nde conservación. Artículo 9  \\nLos alimentos elaborados en el país, imitando productos extranjeros, deberán serlo de acuerdo \\ncon los procedimientos del lu gar de origen y responderán a las características propias de los \\ntipos originales (Vinos: Oporto, Málaga, Marsala, etc; Quesos: Roquefort, Gruyere, etc).'},\n",
       " {'metadata': {'type': 'narrative', 'filename': 'capitulo1.pdf'},\n",
       "  'contenido': 'Artículo 10  \\nLas disposiciones del presente Código rigen para los alimentos destinados al consumo den tro \\ndel país, pudiendo adicionarse substancias no autorizadas a los productos alimenticios o \\nbebidas elaborados para la exportación, siempre que el interesado demuestre que ellas son \\npermit idas en el país de destino.'},\n",
       " {'metadata': {'type': 'narrative', 'filename': 'capitulo1.pdf'},\n",
       "  'contenido': 'Artículo 11  \\nToda mercadería que se ve nda debe ser de la misma calidad que la que se exhiba y en caso de \\nproductos no homogéneos en tamaño, forma o color, que signifiquen distinta calidad, deben \\nexponerse a la venta en forma tal que el adquirente no pueda ser inducido a error respecto a \\nlas ca racterísticas de la mercadería que compra.'},\n",
       " {'metadata': {'type': 'narrative', 'filename': 'capitulo10.pdf'},\n",
       "  'contenido': 'el nombre de Azúcar, se identifica a la sacarosa'},\n",
       " {'metadata': {'type': 'narrative', 'filename': 'capitulo10.pdf'},\n",
       "  'contenido': 'la extrae de vegetales como: caña de azúcar (género Saccharum y sus'},\n",
       " {'metadata': {'type': 'narrative', 'filename': 'capitulo10.pdf'},\n",
       "  'contenido': 'azucarera (Beta vulgaris L., variedad ra pa), sorgo azucarero (Sorghum'},\n",
       " {'metadata': {'type': 'narrative', 'filename': 'capitulo10.pdf'},\n",
       "  'contenido': 'Arce de Canadá (Acer saccharinum'},\n",
       " {'metadata': {'type': 'narrative', 'filename': 'capitulo10.pdf'},\n",
       "  'contenido': 'entiende por Azúcar blanco, la sacarosa purificada y'},\n",
       " {'metadata': {'type': 'narrative', 'filename': 'capitulo10.pdf'},\n",
       "  'contenido': 'según su calidad, a las siguientes exigencias'},\n",
       " {'metadata': {'type': 'narrative', 'filename': 'capitulo10.pdf'},\n",
       "  'contenido': 'por conductividad: Máx . 0,02% en'},\n",
       " {'metadata': {'type': 'narrative', 'filename': 'capitulo10.pdf'},\n",
       "  'contenido': 'por desecac (3 h a 105C): Máx . 0,04 % en'},\n",
       " {'metadata': {'type': 'narrative', 'filename': 'capitulo10.pdf'},\n",
       "  'contenido': 'denominación de refinado se aplicará única y exclusivamente al azúcar blanco que,'},\n",
       " {'metadata': {'type': 'narrative', 'filename': 'capitulo10.pdf'},\n",
       "  'contenido': 'reunir las condiciones precedentemente establecidas, haya sido obtenido por refundición'},\n",
       " {'metadata': {'type': 'narrative', 'filename': 'capitulo10.pdf'},\n",
       "  'contenido': 'y tratamiento físico químico de clarificación, de coloración , filtración y'},\n",
       " {'metadata': {'type': 'narrative', 'filename': 'capitulo10.pdf'},\n",
       "  'contenido': 'por conductividad: Máx . 0,04% en'},\n",
       " {'metadata': {'type': 'narrative', 'filename': 'capitulo10.pdf'},\n",
       "  'contenido': 'por desecación, (3 horas a 105C): Máx . 0,10% en'},\n",
       " {'metadata': {'type': 'narrative', 'filename': 'capitulo10.pdf'},\n",
       "  'contenido': 'por conductividad: Máx . 0,10% en'},\n",
       " {'metadata': {'type': 'narrative', 'filename': 'capitulo10.pdf'},\n",
       "  'contenido': 'por desecación (3 horas a 105): Máx . 0,10% en'},\n",
       " {'metadata': {'type': 'narrative', 'filename': 'capitulo10.pdf'},\n",
       "  'contenido': 'azúcar Blanco (Refinado, Primera Calidad y Segunda Calidad) no contendrá más'},\n",
       " {'metadata': {'type': 'narrative', 'filename': 'capitulo10.pdf'},\n",
       "  'contenido': 'caracteres de igual tamaño, realce y'},\n",
       " {'metadata': {'type': 'narrative', 'filename': 'capitulo10.pdf'},\n",
       "  'contenido': 'el rótulo principal se consignará con caracteres bien visibles el nombre del'},\n",
       " {'metadata': {'type': 'narrative', 'filename': 'capitulo10.pdf'},\n",
       "  'contenido': 'y la pro vincia de origen, para los de fabricación'},\n",
       " {'metadata': {'type': 'narrative', 'filename': 'capitulo10.pdf'},\n",
       "  'contenido': 'se trate de azúcar importado deberá declararse en el rótulo el país de'},\n",
       " {'metadata': {'type': 'narrative', 'filename': 'capitulo10.pdf'},\n",
       "  'contenido': 'la denominación de azúcar común tipo A, se entiende el azúcar que respon da a'},\n",
       " {'metadata': {'type': 'narrative', 'filename': 'capitulo10.pdf'},\n",
       "  'contenido': 'por desecación, (3 horas a 105C), Máx . : 0,10% en'},\n",
       " {'metadata': {'type': 'narrative', 'filename': 'capitulo10.pdf'},\n",
       "  'contenido': 'por conductividad, Máx . : 0,05% en'},\n",
       " {'metadata': {'type': 'narrative', 'filename': 'capitulo10.pdf'},\n",
       "  'contenido': 'producto se rotulará en el cuerpo del envase con caracteres de igual tamaño, realce'},\n",
       " {'metadata': {'type': 'narrative', 'filename': 'capitulo10.pdf'},\n",
       "  'contenido': 'la denominación de azúcar común Tipo B, se entiende el azúcar que responda a'},\n",
       " {'metadata': {'type': 'narrative', 'filename': 'capitulo10.pdf'},\n",
       "  'contenido': 'por conductividad, Máx . : 0,10% en'},\n",
       " {'metadata': {'type': 'narrative', 'filename': 'capitulo10.pdf'},\n",
       "  'contenido': 'por desecación (3 horas a 105C), Máx . : 0,10% en'},\n",
       " {'metadata': {'type': 'narrative', 'filename': 'capitulo10.pdf'},\n",
       "  'contenido': 'producto se rotulará en el cuerpo del envase con caracteres de igual tamaño, realce'},\n",
       " {'metadata': {'type': 'narrative', 'filename': 'capitulo10.pdf'},\n",
       "  'contenido': 'azúcar común Tipo A o Tipo B no deben contener Arsénico como As, Plomo como Pb,'},\n",
       " {'metadata': {'type': 'narrative', 'filename': 'capitulo10.pdf'},\n",
       "  'contenido': 'como Cu en cantidades superiores a las establecidas para el azúcar'},\n",
       " {'metadata': {'type': 'narrative', 'filename': 'capitulo10.pdf'},\n",
       "  'contenido': 'el rótulo y en lugar y con caracteres bien visible se consignará: nombre del'},\n",
       " {'metadata': {'type': 'narrative', 'filename': 'capitulo10.pdf'},\n",
       "  'contenido': 'y provincia de origen, así como toda otra exigencia'},\n",
       " {'metadata': {'type': 'narrative', 'filename': 'capitulo10.pdf'},\n",
       "  'contenido': 'en cuadritos o Pancitos, Azúcar de pilón o pilé (trozos irregulares mezclados con'},\n",
       " {'metadata': {'type': 'narrative', 'filename': 'capitulo10.pdf'},\n",
       "  'contenido': 'molido (obtenido por trituración mecánica del Azúcar en panes o tambié n'},\n",
       " {'metadata': {'type': 'narrative', 'filename': 'capitulo10.pdf'},\n",
       "  'contenido': 'cristalizado, granulado (cristales más o menos'},\n",
       " {'metadata': {'type': 'narrative', 'filename': 'capitulo10.pdf'},\n",
       "  'contenido': 'entiende por Azúcar impalpable o Azúcar en polvo, el Azúcar blanco, finamente'},\n",
       " {'metadata': {'type': 'narrative', 'filename': 'capitulo10.pdf'},\n",
       "  'contenido': 'o sin adición de antiaglutinantes de uso perm'},\n",
       " {'metadata': {'type': 'narrative', 'filename': 'capitulo10.pdf'},\n",
       "  'contenido': 'Azúcar blanco de que proviene debe cumplir las exigencias de composición y de calidad'},\n",
       " {'metadata': {'type': 'narrative', 'filename': 'capitulo10.pdf'},\n",
       "  'contenido': 'permite el agregado como antiaglutinantes, de almidón Máx: 3% en peso o de hasta'},\n",
       " {'metadata': {'type': 'narrative', 'filename': 'capitulo10.pdf'},\n",
       "  'contenido': 'peso (en forma aislada o en co njunto) de los siguientes'},\n",
       " {'metadata': {'type': 'narrative', 'filename': 'capitulo10.pdf'},\n",
       "  'contenido': 'agregado de antiaglutinantes se d eclarará en el rótulo con la expresión:'},\n",
       " {'metadata': {'type': 'narrative', 'filename': 'capitulo10.pdf'},\n",
       "  'contenido': 'el nombre de Azúcar rubio, moreno, terciado o negro, se entiende el azúcar sin'},\n",
       " {'metadata': {'type': 'narrative', 'filename': 'capitulo10.pdf'},\n",
       "  'contenido': 'ser parcialmente soluble en agua y no deberá con tener menos del 85% de sac arosa,'},\n",
       " {'metadata': {'type': 'narrative', 'filename': 'capitulo10.pdf'},\n",
       "  'contenido': 'del 4% de cenizas totales a 500 -550C y un máximo de 0,5% de cenizas insolubles'},\n",
       " {'metadata': {'type': 'narrative', 'filename': 'capitulo10.pdf'},\n",
       "  'contenido': 'el nombre de Chancaca, se en tiende un Azúcar mascabado'},\n",
       " {'metadata': {'type': 'narrative', 'filename': 'capitulo10.pdf'},\n",
       "  'contenido': 'presenta en tabletas o envuelto en totora, c onstituyendo los llamados mazos o lulos'},\n",
       " {'metadata': {'type': 'narrative', 'filename': 'capitulo10.pdf'},\n",
       "  'contenido': 'el nombre de Azúcar cande, se denomina el producto que se presenta en'},\n",
       " {'metadata': {'type': 'narrative', 'filename': 'capitulo10.pdf'},\n",
       "  'contenido': 'forma dos por gruesos prismas transparentes y'},\n",
       " {'metadata': {'type': 'narrative', 'filename': 'capitulo10.pdf'},\n",
       "  'contenido': 'contener como mínimo 99,9% de sa'},\n",
       " {'metadata': {'type': 'narrative', 'filename': 'capitulo10.pdf'},\n",
       "  'contenido': 'la denominación de Azúcar de fantasía, se entienden los azúcares adicionados'},\n",
       " {'metadata': {'type': 'narrative', 'filename': 'capitulo10.pdf'},\n",
       "  'contenido': 'permitidos por la autoridad sanitaria'},\n",
       " {'metadata': {'type': 'narrative', 'filename': 'capitulo10.pdf'},\n",
       "  'contenido': 'el nombre de Kandi o Candi, se entiende el producto, generalmente en pe dazos'},\n",
       " {'metadata': {'type': 'narrative', 'filename': 'capitulo10.pdf'},\n",
       "  'contenido': 'por cocción especial de Azúcar, con o sin colorantes y aromas de uso'},\n",
       " {'metadata': {'type': 'narrative', 'filename': 'capitulo10.pdf'},\n",
       "  'contenido': 'denomina Melazas a los líquidos densos obtenidos como subproductos finales de'},\n",
       " {'metadata': {'type': 'narrative', 'filename': 'capitulo10.pdf'},\n",
       "  'contenido': 'acuerdo a su origen se distinguen'},\n",
       " {'metadata': {'type': 'narrative', 'filename': 'capitulo10.pdf'},\n",
       "  'contenido': 'Melazas de caña: líquidos densos, de color oscuro y olor agradable, que podrán'},\n",
       " {'metadata': {'type': 'narrative', 'filename': 'capitulo10.pdf'},\n",
       "  'contenido': 'Melazas de remolacha: líquidos densos, de color os curo, olor y sabor desagradables'},\n",
       " {'metadata': {'type': 'narrative', 'filename': 'capitulo10.pdf'},\n",
       "  'contenido': 'destinarán a usos industriales. Estas melazas se comercializarán con declaración de'},\n",
       " {'metadata': {'type': 'narrative', 'filename': 'capitulo10.pdf'},\n",
       "  'contenido': 'la denominación de Mosto Concentrado de Uva o Jarabe de Uva se entiende el'},\n",
       " {'metadata': {'type': 'narrative', 'filename': 'capitulo10.pdf'},\n",
       "  'contenido': 'fermentar por deshidratación parcial mediante procesos'},\n",
       " {'metadata': {'type': 'narrative', 'filename': 'capitulo10.pdf'},\n",
       "  'contenido': 'vacío o a presión normal o cualquier otro proceso físico, sin haber sufrido una'},\n",
       " {'metadata': {'type': 'narrative', 'filename': 'capitulo10.pdf'},\n",
       "  'contenido': 'Deberá responder a las siguientes'},\n",
       " {'metadata': {'type': 'narrative', 'filename': 'capitulo10.pdf'},\n",
       "  'contenido': 'espeso, limpio, libr e de depósitos, de sabor'},\n",
       " {'metadata': {'type': 'narrative', 'filename': 'capitulo10.pdf'},\n",
       "  'contenido': 'total en ácido tartárico: Máx . 9'},\n",
       " {'metadata': {'type': 'narrative', 'filename': 'capitulo10.pdf'},\n",
       "  'contenido': 'producto se rotul ará en el cuerpo del envase: Mosto concentrado de Uva o Jarabe de'},\n",
       " {'metadata': {'type': 'narrative', 'filename': 'capitulo10.pdf'},\n",
       "  'contenido': 'el rotulado de los productos que los contengan deberá consignarse: Contiene Jarabe'},\n",
       " {'metadata': {'type': 'narrative', 'filename': 'capitulo10.pdf'},\n",
       "  'contenido': 'o Contiene Mosto Concentrado de'},\n",
       " {'metadata': {'type': 'narrative', 'filename': 'capitulo10.pdf'},\n",
       "  'contenido': 'denomina Goldensirup, el product o elaborado con los jarabes de cristalización del Azúcar,'},\n",
       " {'metadata': {'type': 'narrative', 'filename': 'capitulo10.pdf'},\n",
       "  'contenido': 'cuales se adiciona dextrosa o Azúcar invertido y coloran tes de uso'},\n",
       " {'metadata': {'type': 'narrative', 'filename': 'capitulo10.pdf'},\n",
       "  'contenido': 'prohibido denominar a estos productos con nombres que contengan la palabra'},\n",
       " {'metadata': {'type': 'narrative', 'filename': 'capitulo10.pdf'},\n",
       "  'contenido': 'el nomb re de Azúcar invertido (mezcla de dextrosa y levulosa), se entiende el'},\n",
       " {'metadata': {'type': 'narrative', 'filename': 'capitulo10.pdf'},\n",
       "  'contenido': 'presentarse en forma de jarabe denso o de pasta: en el primer caso, no debe'},\n",
       " {'metadata': {'type': 'narrative', 'filename': 'capitulo10.pdf'},\n",
       "  'contenido': 'del 30% de saca rosa, y en el segundo no tendrá más del 5% de'},\n",
       " {'metadata': {'type': 'narrative', 'filename': 'capitulo10.pdf'},\n",
       "  'contenido': 'la denominación de Jarabe de glucosa, se entiende el producto obtenido por'},\n",
       " {'metadata': {'type': 'narrative', 'filename': 'capitulo10.pdf'},\n",
       "  'contenido': 'del almidón, que se presente en forma de una solución acuosa concentrada'},\n",
       " {'metadata': {'type': 'narrative', 'filename': 'capitulo10.pdf'},\n",
       "  'contenido': 'Líquido espeso, cristalino, de sabor'},\n",
       " {'metadata': {'type': 'narrative', 'filename': 'capitulo10.pdf'},\n",
       "  'contenido': 'reductores, en dextrosa s/substancia seca, Mín . : 20,0'},\n",
       " {'metadata': {'type': 'narrative', 'filename': 'capitulo10.pdf'},\n",
       "  'contenido': 'sulfatadas (s/substancia seca), Máx . : 1,0%'},\n",
       " {'metadata': {'type': 'narrative', 'filename': 'capitulo10.pdf'},\n",
       "  'contenido': 'producto se rotulará: Jarabe de'},\n",
       " {'metadata': {'type': 'narrative', 'filename': 'capitulo10.pdf'},\n",
       "  'contenido': 'la denominación de Jarabe de glucosa deshidratado, se entien de el jarabe de glucosa'},\n",
       " {'metadata': {'type': 'narrative', 'filename': 'capitulo10.pdf'},\n",
       "  'contenido': 'se ha separado la casi totalidad del'},\n",
       " {'metadata': {'type': 'narrative', 'filename': 'capitulo10.pdf'},\n",
       "  'contenido': 'reductores, en dextrosa s/substancia seca, Mín: 20,0'},\n",
       " {'metadata': {'type': 'narrative', 'filename': 'capitulo10.pdf'},\n",
       "  'contenido': 'el jarabe de glucosa deshidratado se destine a la elaboración de dulces, podrá'},\n",
       " {'metadata': {'type': 'narrative', 'filename': 'capitulo10.pdf'},\n",
       "  'contenido': '150 mg/kg de anhídrido sulfuroso'},\n",
       " {'metadata': {'type': 'narrative', 'filename': 'capitulo10.pdf'},\n",
       "  'contenido': 'producto s e rotulará: Jarabe de glucosa deshidratado o Jarabe de glucosa'},\n",
       " {'metadata': {'type': 'narrative', 'filename': 'capitulo10.pdf'},\n",
       "  'contenido': '778ter - (Res . Conj SAGyP y SCS Nº 8/2023'},\n",
       " {'metadata': {'type': 'narrative', 'filename': 'capitulo10.pdf'},\n",
       "  'contenido': 'la denominación de Jarabe de alta fructosa, se entiende el producto obtenido por hid'},\n",
       " {'metadata': {'type': 'narrative', 'filename': 'capitulo10.pdf'},\n",
       "  'contenido': 'del almidón, seguida de procesos enzimáticos y de refinación. Deberá responder a'},\n",
       " {'metadata': {'type': 'narrative', 'filename': 'capitulo10.pdf'},\n",
       "  'contenido': 'de baja viscosidad, cristalino, incoloro, de elevado poder'},\n",
       " {'metadata': {'type': 'narrative', 'filename': 'capitulo10.pdf'},\n",
       "  'contenido': '778cuarto - (Res. Conj RESFC -2018 -4-APN-SRYGS'},\n",
       " {'metadata': {'type': 'narrative', 'filename': 'capitulo10.pdf'},\n",
       "  'contenido': 'Levulosa, D -Fructosa o Azúcar de'},\n",
       " {'metadata': {'type': 'narrative', 'filename': 'capitulo10.pdf'},\n",
       "  'contenido': 'ticas: Cristales blancos o polvo cristalino higroscópico con sabor dulce y sin'},\n",
       " {'metadata': {'type': 'narrative', 'filename': 'capitulo10.pdf'},\n",
       "  'contenido': 'del uso: Sólo para alimentos de bajo contenido'},\n",
       " {'metadata': {'type': 'narrative', 'filename': 'capitulo10.pdf'},\n",
       "  'contenido': 'de identificación y pureza según lo establecido e n FCC, USP y'},\n",
       " {'metadata': {'type': 'narrative', 'filename': 'capitulo10.pdf'},\n",
       "  'contenido': '778cuarto bis - (Res MSyAS N 325,'},\n",
       " {'metadata': {'type': 'narrative', 'filename': 'capitulo10.pdf'},\n",
       "  'contenido': 'la denominación de Jarabe de Maltitol se entiende el producto obtenido por'},\n",
       " {'metadata': {'type': 'narrative', 'filename': 'capitulo10.pdf'},\n",
       "  'contenido': 'un jarabe d e glucosa de alto contenido de'},\n",
       " {'metadata': {'type': 'narrative', 'filename': 'capitulo10.pdf'},\n",
       "  'contenido': 'producto estará constituido fundamentalmente por maltitol acompañado d e'},\n",
       " {'metadata': {'type': 'narrative', 'filename': 'capitulo10.pdf'},\n",
       "  'contenido': 'Indice de refracción a 20C: 1,4760 a'},\n",
       " {'metadata': {'type': 'narrative', 'filename': 'capitulo10.pdf'},\n",
       "  'contenido': 'especí fica en solución acuosa a 20C: 115 a'},\n",
       " {'metadata': {'type': 'narrative', 'filename': 'capitulo10.pdf'},\n",
       "  'contenido': 'a hexasacáridos hid rogenados sobre sustancia seca: 19 a'},\n",
       " {'metadata': {'type': 'narrative', 'filename': 'capitulo10.pdf'},\n",
       "  'contenido': 'hidrogenados mayores de hexa (sobre sustancia seca): 13'},\n",
       " {'metadata': {'type': 'narrative', 'filename': 'capitulo10.pdf'},\n",
       "  'contenido': 'Polisacáridos hidrogenados con un grado de polimerización superior a 20 (sobre'},\n",
       " {'metadata': {'type': 'narrative', 'filename': 'capitulo10.pdf'},\n",
       "  'contenido': 'producto se rotulará: Jarabe o Solución de'},\n",
       " {'metadata': {'type': 'narrative', 'filename': 'capitulo10.pdf'},\n",
       "  'contenido': '(Res . Conj SAGyP y SCS Nº 17/2023'},\n",
       " {'metadata': {'type': 'narrative', 'filename': 'capitulo10.pdf'},\n",
       "  'contenido': 'entiende por Jarabe de agave al producido por hidrólisis a partir de los'},\n",
       " {'metadata': {'type': 'narrative', 'filename': 'capitulo10.pdf'},\n",
       "  'contenido': 'constituidos de unidades de fructosa con o sin una unidad de gluc osa terminal'},\n",
       " {'metadata': {'type': 'narrative', 'filename': 'capitulo10.pdf'},\n",
       "  'contenido': 'unidas por enlaces glucosídicos tipo ß -2,1 y/o ß -2,6) provenientes de las plantas de'},\n",
       " {'metadata': {'type': 'narrative', 'filename': 'capitulo10.pdf'},\n",
       "  'contenido': 'la denominación de Dextrosa, se'},\n",
       " {'metadata': {'type': 'narrative', 'filename': 'capitulo10.pdf'},\n",
       "  'contenido': 'producto obtenido p or hidrólisis completa'},\n",
       " {'metadata': {'type': 'narrative', 'filename': 'capitulo10.pdf'},\n",
       "  'contenido': 'seguida de procesos de refinamiento y'},\n",
       " {'metadata': {'type': 'narrative', 'filename': 'capitulo10.pdf'},\n",
       "  'contenido': 'Polvo blan co o cristalizado; soluble en agua, dando una solución límpida,'},\n",
       " {'metadata': {'type': 'narrative', 'filename': 'capitulo10.pdf'},\n",
       "  'contenido': 'en d-glucosa, s/product o seco, Mín . : 99,5%'},\n",
       " {'metadata': {'type': 'narrative', 'filename': 'capitulo10.pdf'},\n",
       "  'contenido': 'sulfatadas, sobre producto seco, Máx . : 0,25%'},\n",
       " {'metadata': {'type': 'narrative', 'filename': 'capitulo10.pdf'},\n",
       "  'contenido': 'rotulará en el cuer po del envase:'},\n",
       " {'metadata': {'type': 'narrative', 'filename': 'capitulo10.pdf'},\n",
       "  'contenido': 'la elaboración de azúcares se permite el empleo del azul de ultramar en op eraciones'},\n",
       " {'metadata': {'type': 'narrative', 'filename': 'capitulo10.pdf'},\n",
       "  'contenido': 'la denomi nación de Lactosa, se e ntiende el glúcido que habitualmente se obtiene'},\n",
       " {'metadata': {'type': 'narrative', 'filename': 'capitulo10.pdf'},\n",
       "  'contenido': 'puede presentar en forma anhidra o con una molé cula de agua de cristalización o en'},\n",
       " {'metadata': {'type': 'narrative', 'filename': 'capitulo10.pdf'},\n",
       "  'contenido': 'Polvo blan co, inodoro, de sabor a lgo dulce, que puede presentarse en forma de'},\n",
       " {'metadata': {'type': 'narrative', 'filename': 'capitulo10.pdf'},\n",
       "  'contenido': 'prismáticos con afinamientos octaédricos'},\n",
       " {'metadata': {'type': 'narrative', 'filename': 'capitulo10.pdf'},\n",
       "  'contenido': 'en agua y la solución al 10,0% (m/m) presentará un pH entre 4,5 y 7,0 (medido'},\n",
       " {'metadata': {'type': 'narrative', 'filename': 'capitulo10.pdf'},\n",
       "  'contenido': 'sulfatadas, s/producto seco, Máx . : 0,3%'},\n",
       " {'metadata': {'type': 'narrative', 'filename': 'capitulo10.pdf'},\n",
       "  'contenido': 'por desecación, 16 horas a 120C, Máx . : 6,0%'},\n",
       " {'metadata': {'type': 'narrative', 'filename': 'capitulo10.pdf'},\n",
       "  'contenido': 'pr oducto se rotulará en e l cuerpo del envase:'},\n",
       " {'metadata': {'type': 'narrative', 'filename': 'capitulo10.pdf'},\n",
       "  'contenido': 'la nómina de los edulcorantes nutritivos'},\n",
       " {'metadata': {'type': 'narrative', 'filename': 'capitulo10.pdf'},\n",
       "  'contenido': 'cada caso se encuentran permitidos en'},\n",
       " {'metadata': {'type': 'narrative', 'filename': 'capitulo10.pdf'},\n",
       "  'contenido': 'particulares de los productos alimenticios contemplados en el presente Código,'},\n",
       " {'metadata': {'type': 'narrative', 'filename': 'capitulo10.pdf'},\n",
       "  'contenido': 'los otros edulcorantes nutritivos autorizados y los que en el futuro se autoricen,'},\n",
       " {'metadata': {'type': 'narrative', 'filename': 'capitulo10.pdf'},\n",
       "  'contenido': 'sean técnicamen te aptos para su uso y se adapten a las características que debe'},\n",
       " {'metadata': {'type': 'narrative', 'filename': 'capitulo10.pdf'},\n",
       "  'contenido': 'producto terminado de acuerdo a la'},\n",
       " {'metadata': {'type': 'narrative', 'filename': 'capitulo10.pdf'},\n",
       "  'contenido': 'el nombre de Lactulosa (4 -0-ß-D-galactopiranocil -D-fructosa), se entiende'},\n",
       " {'metadata': {'type': 'narrative', 'filename': 'capitulo10.pdf'},\n",
       "  'contenido': 'obtenidos por acción de agua de cal en caliente sobre la'},\n",
       " {'metadata': {'type': 'narrative', 'filename': 'capitulo10.pdf'},\n",
       "  'contenido': 'a) Una solución acuosa del 4% de lactulosa exhibirá una rotación específica esencial de -12'},\n",
       " {'metadata': {'type': 'narrative', 'filename': 'capitulo10.pdf'},\n",
       "  'contenido': 'Es higroscópica y muy soluble en el agua, con una solubilidad de 76,4 y'},\n",
       " {'metadata': {'type': 'narrative', 'filename': 'capitulo10.pdf'},\n",
       "  'contenido': 'Recristaliza a partir de una soluci ón en metanol, agua en forma de placas hexagonales,'},\n",
       " {'metadata': {'type': 'narrative', 'filename': 'capitulo10.pdf'},\n",
       "  'contenido': 'Se puede identificar como el derivado octoacetilado c ristalizado, el que exhibe una'},\n",
       " {'metadata': {'type': 'narrative', 'filename': 'capitulo10.pdf'},\n",
       "  'contenido': 'de 7, un punto de fusión de 138C y una banda de espectro infrar rojo característica'},\n",
       " {'metadata': {'type': 'narrative', 'filename': 'capitulo10.pdf'},\n",
       "  'contenido': 'La anhidrosazona de lactulosa funde a 236C con'},\n",
       " {'metadata': {'type': 'narrative', 'filename': 'capitulo10.pdf'},\n",
       "  'contenido': 'La lactulosa debe cumplimentar los re quisitos sobre cenizas, pérdida por'},\n",
       " {'metadata': {'type': 'narrative', 'filename': 'capitulo10.pdf'},\n",
       "  'contenido': 'cobre y plomo establecidos para lactosa en el Artículo 78'},\n",
       " {'metadata': {'type': 'narrative', 'filename': 'capitulo10.pdf'},\n",
       "  'contenido': 'la denominación de Miel o Miel de Abeja, se entiende el producto dulce elaborado por l'},\n",
       " {'metadata': {'type': 'narrative', 'filename': 'capitulo10.pdf'},\n",
       "  'contenido': 'obreras a partir del néctar de las flores o de exudaciones de otras partes vivas de'},\n",
       " {'metadata': {'type': 'narrative', 'filename': 'capitulo10.pdf'},\n",
       "  'contenido': 'recogen, transforman y combinan'},\n",
       " {'metadata': {'type': 'narrative', 'filename': 'capitulo10.pdf'},\n",
       "  'contenido': 'específicas propias, almacenándolo en panales, donde madura ha sta completar'},\n",
       " {'metadata': {'type': 'narrative', 'filename': 'capitulo10.pdf'},\n",
       "  'contenido': 'Las denominaciones empleadas para distinguir los productos comerciales, según su'},\n",
       " {'metadata': {'type': 'narrative', 'filename': 'capitulo10.pdf'},\n",
       "  'contenido': 'obtención deberán re sponder a las siguientes'},\n",
       " {'metadata': {'type': 'narrative', 'filename': 'capitulo10.pdf'},\n",
       "  'contenido': 'de flores: es la miel que procede principalmente de los néctares de las'},\n",
       " {'metadata': {'type': 'narrative', 'filename': 'capitulo10.pdf'},\n",
       "  'contenido': 'de mielada: es la miel que procede principalmente de exudaciones de las partes vi vas'},\n",
       " {'metadata': {'type': 'narrative', 'filename': 'capitulo10.pdf'},\n",
       "  'contenido': 'plantas o pr esentes en ellas. Su color varía de pardo muy claro o verdoso a pardo'},\n",
       " {'metadata': {'type': 'narrative', 'filename': 'capitulo10.pdf'},\n",
       "  'contenido': 'de panal: es la miel depositada por las abejas en panales de reciente construcción,'},\n",
       " {'metadata': {'type': 'narrative', 'filename': 'capitulo10.pdf'},\n",
       "  'contenido': 'y comercializada en panales en teros operculados o en secciones de los'},\n",
       " {'metadata': {'type': 'narrative', 'filename': 'capitulo10.pdf'},\n",
       "  'contenido': 'centrifugada: es la miel que se obtiene por centrifugación de los panales desorperculad'},\n",
       " {'metadata': {'type': 'narrative', 'filename': 'capitulo10.pdf'},\n",
       "  'contenido': 'prensada: es la miel que se obtiene por compresión de los panales sin'},\n",
       " {'metadata': {'type': 'narrative', 'filename': 'capitulo10.pdf'},\n",
       "  'contenido': 'sobrecal entada: es la miel cale ntada que responde a las exigencias del Artículo'},\n",
       " {'metadata': {'type': 'narrative', 'filename': 'capitulo10.pdf'},\n",
       "  'contenido': 'el índice de Gothe y/o el contenido de hidroximetilfu rfural que podrán ser'},\n",
       " {'metadata': {'type': 'narrative', 'filename': 'capitulo10.pdf'},\n",
       "  'contenido': 'una sola frase con caracteres de buen tamaño,'},\n",
       " {'metadata': {'type': 'narrative', 'filename': 'capitulo10.pdf'},\n",
       "  'contenido': 'visibilidad. Se autoriza su comercialización al consu midor directo hasta una plazo no'},\n",
       " {'metadata': {'type': 'narrative', 'filename': 'capitulo10.pdf'},\n",
       "  'contenido': '12 meses a partir de la vigencia de esta Resolución, transcurrido el'},\n",
       " {'metadata': {'type': 'narrative', 'filename': 'capitulo10.pdf'},\n",
       "  'contenido': 'estas características deberá ser considerada y rotulada como: Miel para uso'},\n",
       " {'metadata': {'type': 'narrative', 'filename': 'capitulo10.pdf'},\n",
       "  'contenido': 'miel que responde a las exigencias del Artículo 783'},\n",
       " {'metadata': {'type': 'narrative', 'filename': 'capitulo10.pdf'},\n",
       "  'contenido': 'índice de Gothe y/o el contenido de hidroxim etilfurfural que'},\n",
       " {'metadata': {'type': 'narrative', 'filename': 'capitulo10.pdf'},\n",
       "  'contenido': 'podrá ser empleada en la elaboración industrial de pro ductos'},\n",
       " {'metadata': {'type': 'narrative', 'filename': 'capitulo10.pdf'},\n",
       "  'contenido': 'miel deberá responder a las siguientes característ'},\n",
       " {'metadata': {'type': 'narrative', 'filename': 'capitulo10.pdf'},\n",
       "  'contenido': 'Consistencia fluida, viscosa o cristalizada total o parcialmente; color variable desde'},\n",
       " {'metadata': {'type': 'narrative', 'filename': 'capitulo10.pdf'},\n",
       "  'contenido': 'hasta pardo oscuro; sabor y ar oma'},\n",
       " {'metadata': {'type': 'narrative', 'filename': 'capitulo10.pdf'},\n",
       "  'contenido': 'Agua, por refractometría, Máx . :'},\n",
       " {'metadata': {'type': 'narrative', 'filename': 'capitulo10.pdf'},\n",
       "  'contenido': 'mielada y miel de flores, Máx . :'},\n",
       " {'metadata': {'type': 'narrative', 'filename': 'capitulo10.pdf'},\n",
       "  'contenido': 'Azúcares reductores (calculados como Azúcar'},\n",
       " {'metadata': {'type': 'narrative', 'filename': 'capitulo10.pdf'},\n",
       "  'contenido': 'de mielada y mezcla de miel de mielada y miel de flores, Mín . :'},\n",
       " {'metadata': {'type': 'narrative', 'filename': 'capitulo10.pdf'},\n",
       "  'contenido': 'd e mielada y mezcla de miel de mielada y miel de flores, Máx . :'},\n",
       " {'metadata': {'type': 'narrative', 'filename': 'capitulo10.pdf'},\n",
       "  'contenido': 'Sólidos insolubles en agua, excepto en miel pren sada, Máx . :'},\n",
       " {'metadata': {'type': 'narrative', 'filename': 'capitulo10.pdf'},\n",
       "  'contenido': 'insolubles de agua de miel prensada, Máx . :'},\n",
       " {'metadata': {'type': 'narrative', 'filename': 'capitulo10.pdf'},\n",
       "  'contenido': 'Indice de diastasa (E scala de Gothe), Mín . :'},\n",
       " {'metadata': {'type': 'narrative', 'filename': 'capitulo10.pdf'},\n",
       "  'contenido': 'Hidroximetilfurfural, Máx . : 40'},\n",
       " {'metadata': {'type': 'narrative', 'filename': 'capitulo10.pdf'},\n",
       "  'contenido': 'mieles con contenido natural bajo de enzimas, como mieles de cítricos, se'},\n",
       " {'metadata': {'type': 'narrative', 'filename': 'capitulo10.pdf'},\n",
       "  'contenido': 'de diastasa (Escala de Got he): Mín: 3, siempre qu e el contenido de'},\n",
       " {'metadata': {'type': 'narrative', 'filename': 'capitulo10.pdf'},\n",
       "  'contenido': 'no deberá contener mohos, insectos, restos de inse ctos, larvas, huevos, así'},\n",
       " {'metadata': {'type': 'narrative', 'filename': 'capitulo10.pdf'},\n",
       "  'contenido': 'no presentará signos de fermentación ni se r'},\n",
       " {'metadata': {'type': 'narrative', 'filename': 'capitulo10.pdf'},\n",
       "  'contenido': 'La a cidez de la miel no deberá ser modificada'},\n",
       " {'metadata': {'type': 'narrative', 'filename': 'capitulo10.pdf'},\n",
       "  'contenido': 'producto se env asará en recipientes bromatológicamente aptos y se rotulará: Miel o'},\n",
       " {'metadata': {'type': 'narrative', 'filename': 'capitulo10.pdf'},\n",
       "  'contenido': 'el rótulo podrá mencionarse l a denominación subsidia ria que corresponda según'},\n",
       " {'metadata': {'type': 'narrative', 'filename': 'capitulo10.pdf'},\n",
       "  'contenido': 'el caso de Miel para uso industrial'},\n",
       " {'metadata': {'type': 'narrative', 'filename': 'capitulo10.pdf'},\n",
       "  'contenido': 'esta característica formando una'},\n",
       " {'metadata': {'type': 'narrative', 'filename': 'capitulo10.pdf'},\n",
       "  'contenido': 'con caracteres de igual tamaño, realce y'},\n",
       " {'metadata': {'type': 'narrative', 'filename': 'capitulo10.pdf'},\n",
       "  'contenido': 'miel que se expenda a g ranel deberá consignar las exigencias generales y específicas'},\n",
       " {'metadata': {'type': 'narrative', 'filename': 'capitulo10.pdf'},\n",
       "  'contenido': 'en el cuerpo del envase. Este deberá ser d e uso exclusivo para miel'},\n",
       " {'metadata': {'type': 'narrative', 'filename': 'capitulo10.pdf'},\n",
       "  'contenido': 'todos los casos deberá consignarse en el rotulado el peso n eto y el año de cosecha'},\n",
       " {'metadata': {'type': 'narrative', 'filename': 'capitulo10.pdf'},\n",
       "  'contenido': 'norma específica a que se refi eren las resoluciones anexas, serán únicamente'},\n",
       " {'metadata': {'type': 'narrative', 'filename': 'capitulo10.pdf'},\n",
       "  'contenido': 'deroga toda legi slación del Código Alim entario Argentino que se oponga a la'},\n",
       " {'metadata': {'type': 'narrative', 'filename': 'capitulo10.pdf'},\n",
       "  'contenido': 'REGLAMENTO T ÉCNICO MERCOSUR DE IDENTIDAD Y CALIDAD DE LA MI'},\n",
       " {'metadata': {'type': 'narrative', 'filename': 'capitulo10.pdf'},\n",
       "  'contenido': '1. - Aprobar el Reglamento Técnico MERCOSUR de identidad y calidad de la Miel,'},\n",
       " {'metadata': {'type': 'narrative', 'filename': 'capitulo10.pdf'},\n",
       "  'contenido': '2. - Los Estados Miembros no podrán prohibir, ni restringir por razones de identidad'},\n",
       " {'metadata': {'type': 'narrative', 'filename': 'capitulo10.pdf'},\n",
       "  'contenido': 'la comercializació n de la miel que cumpla con lo establecido len la presente'},\n",
       " {'metadata': {'type': 'narrative', 'filename': 'capitulo10.pdf'},\n",
       "  'contenido': '3. - Los Estados Miembros pondrán en vi gencia las disposicione s'},\n",
       " {'metadata': {'type': 'narrative', 'filename': 'capitulo10.pdf'},\n",
       "  'contenido': 'y administrativas necesarias para dar cumplimiento a la presente'},\n",
       " {'metadata': {'type': 'narrative', 'filename': 'capitulo10.pdf'},\n",
       "  'contenido': '4. - Lo establecido en la presente Resolución no se aplicará obligatoriamente al'},\n",
       " {'metadata': {'type': 'narrative', 'filename': 'capitulo10.pdf'},\n",
       "  'contenido': '5 .- En función de lo establecido en la Resolución Nº 91/93 del GMC, las'},\n",
       " {'metadata': {'type': 'narrative', 'filename': 'capitulo10.pdf'},\n",
       "  'contenido': 'de los Estados Partes, encargadas de la implementación de la presente'},\n",
       " {'metadata': {'type': 'narrative', 'filename': 'capitulo10.pdf'},\n",
       "  'contenido': 'Argentina : Ministerio de Salud y Acción Social; Mi nisterio de Economía y Obras y'},\n",
       " {'metadata': {'type': 'narrative', 'filename': 'capitulo10.pdf'},\n",
       "  'contenido': 'Secretaría de Agricultura, Ganadería y Pesca; Instituto Argentino de Sanidad'},\n",
       " {'metadata': {'type': 'narrative', 'filename': 'capitulo10.pdf'},\n",
       "  'contenido': 'Veg etal (IASCAV); Servicio Nacional de Sanidad Animal (SENASA); Secretaría'},\n",
       " {'metadata': {'type': 'narrative', 'filename': 'capitulo10.pdf'},\n",
       "  'contenido': 'Brasil : Ministerio da Saúde; M inisterio da Agricultur a, do Abastecimeinto e da Reforma'},\n",
       " {'metadata': {'type': 'narrative', 'filename': 'capitulo10.pdf'},\n",
       "  'contenido': ': Ministerio de Salud Pública y Bienestar'},\n",
       " {'metadata': {'type': 'narrative', 'filename': 'capitulo10.pdf'},\n",
       "  'contenido': 'Salud Pública; Ministerio de Ganadería, Agricultura y Pesca;'},\n",
       " {'metadata': {'type': 'narrative', 'filename': 'capitulo10.pdf'},\n",
       "  'contenido': 'Industria, Energía y Minería; Labora torio Tecnológico del U ruguay'},\n",
       " {'metadata': {'type': 'narrative', 'filename': 'capitulo10.pdf'},\n",
       "  'contenido': '6. - La presente Resolución entrará en vigor a partir del 1º de enero de'},\n",
       " {'metadata': {'type': 'narrative', 'filename': 'capitulo10.pdf'},\n",
       "  'contenido': 'Reg lamento Técnico establece los requisitos que debe cumplir la miel para'},\n",
       " {'metadata': {'type': 'narrative', 'filename': 'capitulo10.pdf'},\n",
       "  'contenido': 'entiende por miel el producto alimenticio producido por las abejas'},\n",
       " {'metadata': {'type': 'narrative', 'filename': 'capitulo10.pdf'},\n",
       "  'contenido': 'de las flores o de las secreciones procedentes de partes vivas de las plantas o'},\n",
       " {'metadata': {'type': 'narrative', 'filename': 'capitulo10.pdf'},\n",
       "  'contenido': 'de insectos succionado res de plantas que quedan sobre partes vivas de'},\n",
       " {'metadata': {'type': 'narrative', 'filename': 'capitulo10.pdf'},\n",
       "  'contenido': 'las abejas recogen, transforman, combinan con sustancias específicas propias y'},\n",
       " {'metadata': {'type': 'narrative', 'filename': 'capitulo10.pdf'},\n",
       "  'contenido': 'dejan madurar en las panales de la'},\n",
       " {'metadata': {'type': 'narrative', 'filename': 'capitulo10.pdf'},\n",
       "  'contenido': '- Miel de flores - Es la miel obtenida principalmente de los néctares de las'},\n",
       " {'metadata': {'type': 'narrative', 'filename': 'capitulo10.pdf'},\n",
       "  'contenido': 'Mieles uniflorale s o monoflorales - Cuando el producto proceda primordialmente del origen'},\n",
       " {'metadata': {'type': 'narrative', 'filename': 'capitulo10.pdf'},\n",
       "  'contenido': 'de una misma familia, género o es pecie y posea caracterí sticas'},\n",
       " {'metadata': {'type': 'narrative', 'filename': 'capitulo10.pdf'},\n",
       "  'contenido': 'Mieles multiflorales o poliflorales o'},\n",
       " {'metadata': {'type': 'narrative', 'filename': 'capitulo10.pdf'},\n",
       "  'contenido': 'Miel de mielada - Es la miel obtenida primordialmente a partir de secreciones de'},\n",
       " {'metadata': {'type': 'narrative', 'filename': 'capitulo10.pdf'},\n",
       "  'contenido': 'vivas de las plant as o de excreciones de insectos succionadores de plantas que'},\n",
       " {'metadata': {'type': 'narrative', 'filename': 'capitulo10.pdf'},\n",
       "  'contenido': '- Miel escurrida - Es la miel obtenida por escurrimiento de los panales'},\n",
       " {'metadata': {'type': 'narrative', 'filename': 'capitulo10.pdf'},\n",
       "  'contenido': '- Miel pre nsada - Es la miel obte nida por prensado de los panales sin'},\n",
       " {'metadata': {'type': 'narrative', 'filename': 'capitulo10.pdf'},\n",
       "  'contenido': '- Miel centrifugada - Es la miel obtenida por centrifugación de lo s'},\n",
       " {'metadata': {'type': 'narrative', 'filename': 'capitulo10.pdf'},\n",
       "  'contenido': '- Miel filtrada - Es la que ha sido sometida a un proceso de filtració n sin alterar su'},\n",
       " {'metadata': {'type': 'narrative', 'filename': 'capitulo10.pdf'},\n",
       "  'contenido': '- Miel - Es la miel en estado líquido, cristalizado o una mezcla de am'},\n",
       " {'metadata': {'type': 'narrative', 'filename': 'capitulo10.pdf'},\n",
       "  'contenido': '- Miel en panales o miel en secciones - Es la miel almacenada por las abejas en'},\n",
       " {'metadata': {'type': 'narrative', 'filename': 'capitulo10.pdf'},\n",
       "  'contenido': 'de p anales nuevos, construi dos por ellas mismas que no contengan larvas'},\n",
       " {'metadata': {'type': 'narrative', 'filename': 'capitulo10.pdf'},\n",
       "  'contenido': 'en panal entero o secciones de tales'},\n",
       " {'metadata': {'type': 'narrative', 'filename': 'capitulo10.pdf'},\n",
       "  'contenido': '- Miel con trozos de panal - Es la miel que contiene uno o más trozos de panales'},\n",
       " {'metadata': {'type': 'narrative', 'filename': 'capitulo10.pdf'},\n",
       "  'contenido': '- Miel cristalizada o gr anulada - Es la miel que ha experimentado un proceso natural'},\n",
       " {'metadata': {'type': 'narrative', 'filename': 'capitulo10.pdf'},\n",
       "  'contenido': 'como consecuencia de la cristalización de la'},\n",
       " {'metadata': {'type': 'narrative', 'filename': 'capitulo10.pdf'},\n",
       "  'contenido': '- Miel Cremosa - Es la miel que tiene una estructura cristalina fina y que puede'},\n",
       " {'metadata': {'type': 'narrative', 'filename': 'capitulo10.pdf'},\n",
       "  'contenido': 's ometida a un proceso fí sico que le confiera esa estructura y que la haga fácil de'},\n",
       " {'metadata': {'type': 'narrative', 'filename': 'capitulo10.pdf'},\n",
       "  'contenido': '- Miel para consumo directo - Es la que responde a los requisitos indicados en el'},\n",
       " {'metadata': {'type': 'narrative', 'filename': 'capitulo10.pdf'},\n",
       "  'contenido': '- Miel para utilización en la industria (miel para uso industri al) - Es la que responde'},\n",
       " {'metadata': {'type': 'narrative', 'filename': 'capitulo10.pdf'},\n",
       "  'contenido': 'requisitos indicados en el punto 4.2, excepto el índice de diastasa y el contenido'},\n",
       " {'metadata': {'type': 'narrative', 'filename': 'capitulo10.pdf'},\n",
       "  'contenido': 'que podrán ser menor que 8 (en la escala de Gothe) y mayor que 40'},\n",
       " {'metadata': {'type': 'narrative', 'filename': 'capitulo10.pdf'},\n",
       "  'contenido': '2.3- DESIGNACI ÓN (DENOMINACIÓ N DE'},\n",
       " {'metadata': {'type': 'narrative', 'filename': 'capitulo10.pdf'},\n",
       "  'contenido': 'producto se designará miel, pudiéndose agregar su clasificación según lo indicado en'},\n",
       " {'metadata': {'type': 'narrative', 'filename': 'capitulo10.pdf'},\n",
       "  'contenido': '2.2, en caracteres no mayores a los de la p alabra'},\n",
       " {'metadata': {'type': 'narrative', 'filename': 'capitulo10.pdf'},\n",
       "  'contenido': 'del Codex Alimentarius, FAO/OMS - Norma mundial del Codex para la Miel,'},\n",
       " {'metadata': {'type': 'narrative', 'filename': 'capitulo10.pdf'},\n",
       "  'contenido': 'Microorganisms in Foods, 2nd. Edi tion,'},\n",
       " {'metadata': {'type': 'narrative', 'filename': 'capitulo10.pdf'},\n",
       "  'contenido': 'Co mpendium of Methods for the Microbiological Examination of Foods, 2nd.'},\n",
       " {'metadata': {'type': 'narrative', 'filename': 'capitulo10.pdf'},\n",
       "  'contenido': 'miel es una solución concentrada de azúcares con predominancia de glucosa y'},\n",
       " {'metadata': {'type': 'narrative', 'filename': 'capitulo10.pdf'},\n",
       "  'contenido': 'ad emás una mezcla complej a de otros hidratos de carbono, enzimas,'},\n",
       " {'metadata': {'type': 'narrative', 'filename': 'capitulo10.pdf'},\n",
       "  'contenido': 'orgánicos, minerales, sustancias aromáticas, pigmentos, c era y granos de'},\n",
       " {'metadata': {'type': 'narrative', 'filename': 'capitulo10.pdf'},\n",
       "  'contenido': 'Será variable desde casi incolor a hasta pardo oscuro, p ero siendo uniforme en todo'},\n",
       " {'metadata': {'type': 'narrative', 'filename': 'capitulo10.pdf'},\n",
       "  'contenido': 'y aroma - Deberá tener sabor y aroma caracterí sticos y estar libre de sabores y'},\n",
       " {'metadata': {'type': 'narrative', 'filename': 'capitulo10.pdf'},\n",
       "  'contenido': 'Consistencia - Podrá ser fluida, viscosa o cristalizada total'},\n",
       " {'metadata': {'type': 'narrative', 'filename': 'capitulo10.pdf'},\n",
       "  'contenido': 'Azúcares reductores (calculados como azúcar'},\n",
       " {'metadata': {'type': 'narrative', 'filename': 'capitulo10.pdf'},\n",
       "  'contenido': 'de mielada y su mezcla con miel de flores: mínimo'},\n",
       " {'metadata': {'type': 'narrative', 'filename': 'capitulo10.pdf'},\n",
       "  'contenido': 'de mielada y sus mezclas: máximo'},\n",
       " {'metadata': {'type': 'narrative', 'filename': 'capitulo10.pdf'},\n",
       "  'contenido': 'Sólidos insolubles en agua: máximo 0,1 %, excepto en miel prensada que se tolera hasta'},\n",
       " {'metadata': {'type': 'narrative', 'filename': 'capitulo10.pdf'},\n",
       "  'contenido': 'b) Minerales (cenizas): máximo 0.6%. En miel de mielada y sus mezclas con mieles de'},\n",
       " {'metadata': {'type': 'narrative', 'filename': 'capitulo10.pdf'},\n",
       "  'contenido': 'Fermentación: La miel no deberá tener indicios de fermentación'},\n",
       " {'metadata': {'type': 'narrative', 'filename': 'capitulo10.pdf'},\n",
       "  'contenido': 'libre máximo 40 miliequivalentes por'},\n",
       " {'metadata': {'type': 'narrative', 'filename': 'capitulo10.pdf'},\n",
       "  'contenido': 'Grado de frescura: determinado despué s del'},\n",
       " {'metadata': {'type': 'narrative', 'filename': 'capitulo10.pdf'},\n",
       "  'contenido': 'diastásica: Como mínimo el 8 de la escala de Gothe. Las mieles con bajo'},\n",
       " {'metadata': {'type': 'narrative', 'filename': 'capitulo10.pdf'},\n",
       "  'contenido': 'deberán tener como mínimo una actividad diastástica correspondiente al 3 de'},\n",
       " {'metadata': {'type': 'narrative', 'filename': 'capitulo10.pdf'},\n",
       "  'contenido': 'de Gothe, siempre que el contenido de hidroximet ilfurfural no exceda a 15'},\n",
       " {'metadata': {'type': 'narrative', 'filename': 'capitulo10.pdf'},\n",
       "  'contenido': 'Contenido de polen: la miel tendrá su contenido normal de polen, e l cual no debe'},\n",
       " {'metadata': {'type': 'narrative', 'filename': 'capitulo10.pdf'},\n",
       "  'contenido': 'granel (tambores de 300 kg.) o fraccionadas.'},\n",
       " {'metadata': {'type': 'narrative', 'filename': 'capitulo10.pdf'},\n",
       "  'contenido': 'en envases bromatológicamente aptos, adecuados para las'},\n",
       " {'metadata': {'type': 'narrative', 'filename': 'capitulo10.pdf'},\n",
       "  'contenido': 'de almacenamiento y que confieran una protección adecuada contra'},\n",
       " {'metadata': {'type': 'narrative', 'filename': 'capitulo10.pdf'},\n",
       "  'contenido': 'La miel en panales y la miel con trozos de pana l sólo estará acondicionada en'},\n",
       " {'metadata': {'type': 'narrative', 'filename': 'capitulo10.pdf'},\n",
       "  'contenido': 'prohibe expresame nte la utilización de cualquier tipo de'},\n",
       " {'metadata': {'type': 'narrative', 'filename': 'capitulo10.pdf'},\n",
       "  'contenido': 'miel deberá estar exenta de sustancias in orgánicas u orgánicas extrañas a su'},\n",
       " {'metadata': {'type': 'narrative', 'filename': 'capitulo10.pdf'},\n",
       "  'contenido': 'como insectos, larvas, granos de arena y no exceder los máximos niveles tolerables'},\n",
       " {'metadata': {'type': 'narrative', 'filename': 'capitulo10.pdf'},\n",
       "  'contenido': 'preparación deberá realizarse de con formidad con los Princi pios Generales sobre Higiene'},\n",
       " {'metadata': {'type': 'narrative', 'filename': 'capitulo10.pdf'},\n",
       "  'contenido': 'recomendados por la Comisión del Codex Alimentarius,'},\n",
       " {'metadata': {'type': 'narrative', 'filename': 'capitulo10.pdf'},\n",
       "  'contenido': 'miel deberá cumplir con las siguientes características'},\n",
       " {'metadata': {'type': 'narrative', 'filename': 'capitulo10.pdf'},\n",
       "  'contenido': 'aplicará el Reglam ento MERCOSUR para el rotulado de alimentos'},\n",
       " {'metadata': {'type': 'narrative', 'filename': 'capitulo10.pdf'},\n",
       "  'contenido': 'vida útil del producto será tal que se garantice el cumpl imiento de los'},\n",
       " {'metadata': {'type': 'narrative', 'filename': 'capitulo10.pdf'},\n",
       "  'contenido': 'indicarse en la rotulación obligatoria la'},\n",
       " {'metadata': {'type': 'narrative', 'filename': 'capitulo10.pdf'},\n",
       "  'contenido': 'características fí sico-químicas y microbiológicas'},\n",
       " {'metadata': {'type': 'narrative', 'filename': 'capitulo10.pdf'},\n",
       "  'contenido': 'serán determinados según se indica a'},\n",
       " {'metadata': {'type': 'narrative', 'filename': 'capitulo10.pdf'},\n",
       "  'contenido': '(ceniz as) CAC/Vol. III, Supl. 2, 1990,'},\n",
       " {'metadata': {'type': 'narrative', 'filename': 'capitulo10.pdf'},\n",
       "  'contenido': 'I.C.M.S.F., Microorganisms in Foods 1,'},\n",
       " {'metadata': {'type': 'narrative', 'filename': 'capitulo10.pdf'},\n",
       "  'contenido': 'biological Examination of Foods,'},\n",
       " {'metadata': {'type': 'narrative', 'filename': 'capitulo10.pdf'},\n",
       "  'contenido': 'aplicará las directivas de la Comisi ón del Codex Alimentari us, FAO/OMS, Manual'},\n",
       " {'metadata': {'type': 'narrative', 'filename': 'capitulo10.pdf'},\n",
       "  'contenido': 'procederá de acuerdo con la Norma ISO 7002, Agricultural foo d products, Layout for'},\n",
       " {'metadata': {'type': 'narrative', 'filename': 'capitulo10.pdf'},\n",
       "  'contenido': 'diferenciarse entre producto a granel y p roducto fraccionado (en vase destinado'},\n",
       " {'metadata': {'type': 'narrative', 'filename': 'capitulo10.pdf'},\n",
       "  'contenido': '9.1- EXTRACCI ÓN DE MUESTRAS DE MIEL A GRANEL'},\n",
       " {'metadata': {'type': 'narrative', 'filename': 'capitulo10.pdf'},\n",
       "  'contenido': 'Tala dros: Son varillas de forma'},\n",
       " {'metadata': {'type': 'narrative', 'filename': 'capitulo10.pdf'},\n",
       "  'contenido': 'Frascos sacamuestras: Recipiente de 35 a 40 ml. de capacidad, fijado'},\n",
       " {'metadata': {'type': 'narrative', 'filename': 'capitulo10.pdf'},\n",
       "  'contenido': 'a a una varilla de longitud suficiente para llegar al fondo del envase donde'},\n",
       " {'metadata': {'type': 'narrative', 'filename': 'capitulo10.pdf'},\n",
       "  'contenido': 'tapón móvil unido a una cuerda. El aparato se introduce cerrado a'},\n",
       " {'metadata': {'type': 'narrative', 'filename': 'capitulo10.pdf'},\n",
       "  'contenido': 'dentro del envase donde se quita el tapón para'},\n",
       " {'metadata': {'type': 'narrative', 'filename': 'capitulo10.pdf'},\n",
       "  'contenido': 'Pipetas sacamuestras: Tubos de 5 cm. de diámetro por un metro de largo. Afinados en'},\n",
       " {'metadata': {'type': 'narrative', 'filename': 'capitulo10.pdf'},\n",
       "  'contenido': 'Miel cristalizada: Se realiza la extracción de muestra con'},\n",
       " {'metadata': {'type': 'narrative', 'filename': 'capitulo10.pdf'},\n",
       "  'contenido': 'Miel líquida que puede ser homogeneizada: Se homogeiniza y luego se toma la muestra'},\n",
       " {'metadata': {'type': 'narrative', 'filename': 'capitulo10.pdf'},\n",
       "  'contenido': 'pipeta sacamuestras, hasta extraer 500'},\n",
       " {'metadata': {'type': 'narrative', 'filename': 'capitulo10.pdf'},\n",
       "  'contenido': 'Miel líquida que no puede ser homogeneizada: Con el frasco sacamuestras se extraen'},\n",
       " {'metadata': {'type': 'narrative', 'filename': 'capitulo10.pdf'},\n",
       "  'contenido': '(Resolución Conjunta SCS y SAByDR'},\n",
       " {'metadata': {'type': 'narrative', 'filename': 'capitulo10.pdf'},\n",
       "  'contenido': 'entiende por miel de yateí, el producto elaborado'},\n",
       " {'metadata': {'type': 'narrative', 'filename': 'capitulo10.pdf'},\n",
       "  'contenido': 'fiebrigi) derivado de la succión del néctar de las flores, que es'},\n",
       " {'metadata': {'type': 'narrative', 'filename': 'capitulo10.pdf'},\n",
       "  'contenido': 'con susta ncias especificas propias de las abejas, almacenado y madurado en'},\n",
       " {'metadata': {'type': 'narrative', 'filename': 'capitulo10.pdf'},\n",
       "  'contenido': 'de Tetragonisca fiebrigi es el producto obtenido del néctar'},\n",
       " {'metadata': {'type': 'narrative', 'filename': 'capitulo10.pdf'},\n",
       "  'contenido': 'Miel de yateí unifloral o mo nofloral: cuando el producto procede principalmente'},\n",
       " {'metadata': {'type': 'narrative', 'filename': 'capitulo10.pdf'},\n",
       "  'contenido': 'de flores de la misma familia, género o especie y po see características sen'},\n",
       " {'metadata': {'type': 'narrative', 'filename': 'capitulo10.pdf'},\n",
       "  'contenido': 'Miel de yateí multifloral o polifloral: cuando el producto pro cede del néctar de'},\n",
       " {'metadata': {'type': 'narrative', 'filename': 'capitulo10.pdf'},\n",
       "  'contenido': 'Miel sin tratamientos de conser vación: es la miel obte nida por succión con jeringa'},\n",
       " {'metadata': {'type': 'narrative', 'filename': 'capitulo10.pdf'},\n",
       "  'contenido': 'de los potes de miel abiertos con ayuda de instrumentos adecuados, que'},\n",
       " {'metadata': {'type': 'narrative', 'filename': 'capitulo10.pdf'},\n",
       "  'contenido': 'refrigerada hasta el momento de su'},\n",
       " {'metadata': {'type': 'narrative', 'filename': 'capitulo10.pdf'},\n",
       "  'contenido': 'Miel de yateí pasteurizada: es la miel obtenida por suc ción con jeringa o mang uera'},\n",
       " {'metadata': {'type': 'narrative', 'filename': 'capitulo10.pdf'},\n",
       "  'contenido': 'potes de miel abiertos con ayuda de instrumentos adecuados y'},\n",
       " {'metadata': {'type': 'narrative', 'filename': 'capitulo10.pdf'},\n",
       "  'contenido': '1.2.3. Miel de y ateí deshumidificada: es la miel obtenida por succión con jeringa o'},\n",
       " {'metadata': {'type': 'narrative', 'filename': 'capitulo10.pdf'},\n",
       "  'contenido': 'los potes de miel abiertos con ayud a de instrumentos adecu ados y'},\n",
       " {'metadata': {'type': 'narrative', 'filename': 'capitulo10.pdf'},\n",
       "  'contenido': 'Miel de yateí: es el producto en estado líqui do, cristalizado o parcialmente'},\n",
       " {'metadata': {'type': 'narrative', 'filename': 'capitulo10.pdf'},\n",
       "  'contenido': 'Miel de yateí cremosa: es la miel que tiene una estructura cri stalina fina y que pued'},\n",
       " {'metadata': {'type': 'narrative', 'filename': 'capitulo10.pdf'},\n",
       "  'contenido': 'sido sometida a un proceso físico que le confiera esa estructura y que la haga fácil'},\n",
       " {'metadata': {'type': 'narrative', 'filename': 'capitulo10.pdf'},\n",
       "  'contenido': '1.3.3. Miel de yateí cristalizada o granulada: es la miel que sufrió un proceso natural'},\n",
       " {'metadata': {'type': 'narrative', 'filename': 'capitulo10.pdf'},\n",
       "  'contenido': '1.3.4. Miel de yateí espesa: es la miel que presenta una mayor viscosidad (miel espesa)'},\n",
       " {'metadata': {'type': 'narrative', 'filename': 'capitulo10.pdf'},\n",
       "  'contenido': 'Todos los productos definidos deben presentar la identificació n taxonómica de la espe cie'},\n",
       " {'metadata': {'type': 'narrative', 'filename': 'capitulo10.pdf'},\n",
       "  'contenido': 'nativa sin aguijón (Tetragonisca fiebrigi) incluyendo el nombre vulgar (yateí) así como'},\n",
       " {'metadata': {'type': 'narrative', 'filename': 'capitulo10.pdf'},\n",
       "  'contenido': 'referente a los sub -ítems 2.1 (2), 2.2 y'},\n",
       " {'metadata': {'type': 'narrative', 'filename': 'capitulo10.pdf'},\n",
       "  'contenido': 'Si es monofloral debe indicarse el nombre científico de la espec ie de la'},\n",
       " {'metadata': {'type': 'narrative', 'filename': 'capitulo10.pdf'},\n",
       "  'contenido': 'miel deberá ser extraída por succión con jeringa o'},\n",
       " {'metadata': {'type': 'narrative', 'filename': 'capitulo10.pdf'},\n",
       "  'contenido': 'ayuda de instrumentos adecuados, ya que este método asegura la calidad del produ'},\n",
       " {'metadata': {'type': 'narrative', 'filename': 'capitulo10.pdf'},\n",
       "  'contenido': 'las po sibilidades de contaminación por manipulación'},\n",
       " {'metadata': {'type': 'narrative', 'filename': 'capitulo10.pdf'},\n",
       "  'contenido': 'proceso de co lecta, envasado, almacenamiento y comercialización de la miel floral'},\n",
       " {'metadata': {'type': 'narrative', 'filename': 'capitulo10.pdf'},\n",
       "  'contenido': 'Tetragonisca fiebrigi, así como el medio ambiente'},\n",
       " {'metadata': {'type': 'narrative', 'filename': 'capitulo10.pdf'},\n",
       "  'contenido': 'con las condiciones higiénico -sanitarias y de buenas prácticas de'},\n",
       " {'metadata': {'type': 'narrative', 'filename': 'capitulo10.pdf'},\n",
       "  'contenido': 'miel debe refrigerarse (entre 2 y 8º C) inmediatamente luego del momento de'},\n",
       " {'metadata': {'type': 'narrative', 'filename': 'capitulo10.pdf'},\n",
       "  'contenido': 'Como alternat iva de conservación, la miel podrá pasteurizarse o deshumidificarse. De no'},\n",
       " {'metadata': {'type': 'narrative', 'filename': 'capitulo10.pdf'},\n",
       "  'contenido': 'deberá conservarse refrigerada (en tre 2 y 8º C) durante toda la cadena desde su'},\n",
       " {'metadata': {'type': 'narrative', 'filename': 'capitulo10.pdf'},\n",
       "  'contenido': 'COMPOSICI ÓN: La miel de Tetragon isca fiebrigi es una solución concentrada de'},\n",
       " {'metadata': {'type': 'narrative', 'filename': 'capitulo10.pdf'},\n",
       "  'contenido': 'predominio de glucosa y fructosa. Contiene además una'},\n",
       " {'metadata': {'type': 'narrative', 'filename': 'capitulo10.pdf'},\n",
       "  'contenido': 'aminoácidos, ácidos orgánicos, minerales, sustancias aromáticas, pigmentos y gran'},\n",
       " {'metadata': {'type': 'narrative', 'filename': 'capitulo10.pdf'},\n",
       "  'contenido': 'polen, pudiendo c ontener cerumen procedente del proceso de extracción por'},\n",
       " {'metadata': {'type': 'narrative', 'filename': 'capitulo10.pdf'},\n",
       "  'contenido': 'producto definido en esta propuesta no podrá cont ener miel de Apis mellifera u'},\n",
       " {'metadata': {'type': 'narrative', 'filename': 'capitulo10.pdf'},\n",
       "  'contenido': 'de abejas sin aguijón, ni azúcares u otras sustancias que alteren su c'},\n",
       " {'metadata': {'type': 'narrative', 'filename': 'capitulo10.pdf'},\n",
       "  'contenido': 'Color: Variable, de casi incoloro a pardo'},\n",
       " {'metadata': {'type': 'narrative', 'filename': 'capitulo10.pdf'},\n",
       "  'contenido': 'Sabor y aroma: Debe tener sabor y aroma característicos de acuerdo con su'},\n",
       " {'metadata': {'type': 'narrative', 'filename': 'capitulo10.pdf'},\n",
       "  'contenido': 'Consistencia: variable de acuerdo con su estado físico en que se presenta la'},\n",
       " {'metadata': {'type': 'narrative', 'filename': 'capitulo10.pdf'},\n",
       "  'contenido': 'Azúcares reductores (calculados como azúcar'},\n",
       " {'metadata': {'type': 'narrative', 'filename': 'capitulo10.pdf'},\n",
       "  'contenido': 'de yateí sin tratamiento d e conservación y pasteurizada: mínimo 40'},\n",
       " {'metadata': {'type': 'narrative', 'filename': 'capitulo10.pdf'},\n",
       "  'contenido': 'de yateí deshumidificada: mínimo 45'},\n",
       " {'metadata': {'type': 'narrative', 'filename': 'capitulo10.pdf'},\n",
       "  'contenido': 'de yateí sin tratamiento de conservación y pasteurizada: máximo 26'},\n",
       " {'metadata': {'type': 'narrative', 'filename': 'capitulo10.pdf'},\n",
       "  'contenido': 'de yateí deshumidificada: máximo 20 g/'},\n",
       " {'metadata': {'type': 'narrative', 'filename': 'capitulo10.pdf'},\n",
       "  'contenido': 'Sólidos insolubles en agua: máximo 0,1'},\n",
       " {'metadata': {'type': 'narrative', 'filename': 'capitulo10.pdf'},\n",
       "  'contenido': 'Fermentación: La miel no deberá tener indicios de fermentación ni será efervesce'},\n",
       " {'metadata': {'type': 'narrative', 'filename': 'capitulo10.pdf'},\n",
       "  'contenido': '(en miliequ ivalentes por kilogramo): máxima de 70'},\n",
       " {'metadata': {'type': 'narrative', 'filename': 'capitulo10.pdf'},\n",
       "  'contenido': 'Actividad Diastásica (en escala de Göthe): mínimo'},\n",
       " {'metadata': {'type': 'narrative', 'filename': 'capitulo10.pdf'},\n",
       "  'contenido': 'refrigerada (sin tratamiento de conservación) (g/Kg): máximo'},\n",
       " {'metadata': {'type': 'narrative', 'filename': 'capitulo10.pdf'},\n",
       "  'contenido': 'Pasteurizada o Deshumid ificada (g/Kg): máximo'},\n",
       " {'metadata': {'type': 'narrative', 'filename': 'capitulo10.pdf'},\n",
       "  'contenido': 'miel de las abejas nativas, sin o con tratamiento de pasteurización o'},\n",
       " {'metadata': {'type': 'narrative', 'filename': 'capitulo10.pdf'},\n",
       "  'contenido': 'presentarse a granel o fraccionada. Deberán acondicionarse en'},\n",
       " {'metadata': {'type': 'narrative', 'filename': 'capitulo10.pdf'},\n",
       "  'contenido': 'aptos, adecuados par a las condiciones previ stas de almacenamiento y'},\n",
       " {'metadata': {'type': 'narrative', 'filename': 'capitulo10.pdf'},\n",
       "  'contenido': 'una protección adecuada contra la'},\n",
       " {'metadata': {'type': 'narrative', 'filename': 'capitulo10.pdf'},\n",
       "  'contenido': 'prohíbe expres amente la utilización de cualquier tipo de'},\n",
       " {'metadata': {'type': 'narrative', 'filename': 'capitulo10.pdf'},\n",
       "  'contenido': 'contaminantes orgánicos e inorgánicos no deben estar presentes e n cantidades'},\n",
       " {'metadata': {'type': 'narrative', 'filename': 'capitulo10.pdf'},\n",
       "  'contenido': 'los límites establecidos en el presente'},\n",
       " {'metadata': {'type': 'narrative', 'filename': 'capitulo10.pdf'},\n",
       "  'contenido': 'prácticas de higiene para este producto deben estar de acuerdo con las Buenas Prácticas'},\n",
       " {'metadata': {'type': 'narrative', 'filename': 'capitulo10.pdf'},\n",
       "  'contenido': 'establec idas en el presente Cód'},\n",
       " {'metadata': {'type': 'narrative', 'filename': 'capitulo10.pdf'},\n",
       "  'contenido': 'CRITERIOS MACROSCÓPICOS Y MICROSCÓPICOS'},\n",
       " {'metadata': {'type': 'narrative', 'filename': 'capitulo10.pdf'},\n",
       "  'contenido': 'miel de yateí no debe contener sustancias extrañas, de'},\n",
       " {'metadata': {'type': 'narrative', 'filename': 'capitulo10.pdf'},\n",
       "  'contenido': 'de cera, insectos, larvas, granos de arena u'},\n",
       " {'metadata': {'type': 'narrative', 'filename': 'capitulo10.pdf'},\n",
       "  'contenido': 'miel de yateí debe rá cumplir con los siguientes criterios'},\n",
       " {'metadata': {'type': 'narrative', 'filename': 'capitulo10.pdf'},\n",
       "  'contenido': 'cumplir por lo establecido en el presente'},\n",
       " {'metadata': {'type': 'narrative', 'filename': 'capitulo10.pdf'},\n",
       "  'contenido': 'El p roducto se denominará Miel de yateí (Tetragonisca fiebrigi), conforme al ítem 3.1,'},\n",
       " {'metadata': {'type': 'narrative', 'filename': 'capitulo10.pdf'},\n",
       "  'contenido': 'consignarse con carac teres de igual tamaño, realce y'},\n",
       " {'metadata': {'type': 'narrative', 'filename': 'capitulo10.pdf'},\n",
       "  'contenido': 'La miel de yateí unifloral o monofloral especificada en el ítem 2.1.1, podrá ser'},\n",
       " {'metadata': {'type': 'narrative', 'filename': 'capitulo10.pdf'},\n",
       "  'contenido': 'miel de yateí (Tetragonisca fiebrigi) floral de, llenando el espacio con la'},\n",
       " {'metadata': {'type': 'narrative', 'filename': 'capitulo10.pdf'},\n",
       "  'contenido': 'la especie flor al predominante comprob ada por análisis melisopalinológico, y'},\n",
       " {'metadata': {'type': 'narrative', 'filename': 'capitulo10.pdf'},\n",
       "  'contenido': 'con caracteres de igual tamaño, realce y'},\n",
       " {'metadata': {'type': 'narrative', 'filename': 'capitulo10.pdf'},\n",
       "  'contenido': 'Cuando se someta a algún método de conservación (deshumidificación y/o'},\n",
       " {'metadata': {'type': 'narrative', 'filename': 'capitulo10.pdf'},\n",
       "  'contenido': 'Cuando no se ha sometido a ningún método de conservación deberá incluir una leyenda'},\n",
       " {'metadata': {'type': 'narrative', 'filename': 'capitulo10.pdf'},\n",
       "  'contenido': 'bien legibles que indique: Conserva r entre 2 y'},\n",
       " {'metadata': {'type': 'narrative', 'filename': 'capitulo10.pdf'},\n",
       "  'contenido': 'Además, deberá consignarse con caracteres de buen realce y visibilidad y en un'},\n",
       " {'metadata': {'type': 'narrative', 'filename': 'capitulo10.pdf'},\n",
       "  'contenido': 'do de la cara principal , la siguiente leyenda: No suministrar a niños menores de 1'},\n",
       " {'metadata': {'type': 'narrative', 'filename': 'capitulo10.pdf'},\n",
       "  'contenido': 'parámetros cor respondientes a las características físico -químicas y microbiológicas'},\n",
       " {'metadata': {'type': 'narrative', 'filename': 'capitulo10.pdf'},\n",
       "  'contenido': 'serán determinados según la meto dología indicada a cont'},\n",
       " {'metadata': {'type': 'narrative', 'filename': 'capitulo10.pdf'},\n",
       "  'contenido': 'reductores CAC/Vol. III, Supl. 2, 1990,'},\n",
       " {'metadata': {'type': 'narrative', 'filename': 'capitulo10.pdf'},\n",
       "  'contenido': 'método refractomét rico A.O.A.C. 15th. Ed., 1990, 969.38'},\n",
       " {'metadata': {'type': 'narrative', 'filename': 'capitulo10.pdf'},\n",
       "  'contenido': 'aparente CAC/Vol. III, Supl.2, 1990,'},\n",
       " {'metadata': {'type': 'narrative', 'filename': 'capitulo10.pdf'},\n",
       "  'contenido': 'insolubles en ag ua CAC/Vol. III, Supl.2 , 1990,'},\n",
       " {'metadata': {'type': 'narrative', 'filename': 'capitulo10.pdf'},\n",
       "  'contenido': '(cenizas) CAC/Vol. III, Supl.2, 1990,'},\n",
       " {'metadata': {'type': 'narrative', 'filename': 'capitulo10.pdf'},\n",
       "  'contenido': 'diastásica CAC/Vol. III, Supl.2, 1990,'},\n",
       " {'metadata': {'type': 'narrative', 'filename': 'capitulo10.pdf'},\n",
       "  'contenido': '(HMF) A.O.A.C. 15th. Ed., 1990, 980. 23 r. C.M.S.F'},\n",
       " {'metadata': {'type': 'narrative', 'filename': 'capitulo10.pdf'},\n",
       "  'contenido': 'determinación de a zúcares reductores podrá ser determinada por métodos'},\n",
       " {'metadata': {'type': 'narrative', 'filename': 'capitulo10.pdf'},\n",
       "  'contenido': '(Res . Conj SAGyP y SCS Nº 14/2023'},\n",
       " {'metadata': {'type': 'narrative', 'filename': 'capitulo10.pdf'},\n",
       "  'contenido': 'otorga a las empresas, a partir del 1 1 de'},\n",
       " {'metadata': {'type': 'narrative', 'filename': 'capitulo10.pdf'},\n",
       "  'contenido': 'ta (180) días corri dos para su'},\n",
       " {'metadata': {'type': 'narrative', 'filename': 'capitulo10.pdf'},\n",
       "  'contenido': 'reservado para los productos miel y miel de yateí, la posibilidad'},\n",
       " {'metadata': {'type': 'narrative', 'filename': 'capitulo10.pdf'},\n",
       "  'contenido': 'atributos característicos de los mismos descriptos en el presente Código. Los'},\n",
       " {'metadata': {'type': 'narrative', 'filename': 'capitulo10.pdf'},\n",
       "  'contenido': 'con excepció n de los productos de confitería, que n o respondan a'},\n",
       " {'metadata': {'type': 'narrative', 'filename': 'capitulo10.pdf'},\n",
       "  'contenido': 'reglamentarias de la miel y miel de yateí'},\n",
       " {'metadata': {'type': 'narrative', 'filename': 'capitulo10.pdf'},\n",
       "  'contenido': 'o representaciones pictóricas de abejas -o insectos similares -, colmenas,'},\n",
       " {'metadata': {'type': 'narrative', 'filename': 'capitulo10.pdf'},\n",
       "  'contenido': 'o elementos propios relacionados con la a ctividad apícola. Tampoco podrán mencionar'},\n",
       " {'metadata': {'type': 'narrative', 'filename': 'capitulo10.pdf'},\n",
       "  'contenido': 'el término miel ni ningu na propiedad particular vinculada a esta o con la'},\n",
       " {'metadata': {'type': 'narrative', 'filename': 'capitulo10.pdf'},\n",
       "  'contenido': 'cualquier otro de sus ingredientes ya sea a través de representaciones gr áficas y/o'},\n",
       " ...]"
      ]
     },
     "execution_count": 11,
     "metadata": {},
     "output_type": "execute_result"
    }
   ],
   "source": [
    "all_chunks"
   ]
  },
  {
   "cell_type": "code",
   "execution_count": 8,
   "metadata": {},
   "outputs": [
    {
     "name": "stderr",
     "output_type": "stream",
     "text": [
      "2024-11-21 20:53:02,283 - INFO - Use pytorch device_name: cpu\n",
      "2024-11-21 20:53:02,284 - INFO - Load pretrained SentenceTransformer: all-MiniLM-L6-v2\n"
     ]
    },
    {
     "data": {
      "text/plain": [
       "True"
      ]
     },
     "execution_count": 8,
     "metadata": {},
     "output_type": "execute_result"
    }
   ],
   "source": [
    "vector_client = vsc.VectorStoreClient(type=\"qdrant\")\n",
    "\n",
    "# Insert embeddings into the vector store\n",
    "vector_client.insert_embeddings(enriched_chunks)"
   ]
  },
  {
   "cell_type": "code",
   "execution_count": 9,
   "metadata": {},
   "outputs": [],
   "source": [
    "from qdrant_client import QdrantClient\n",
    "\n",
    "client = QdrantClient(host=\"localhost\", port=6333, prefer_grpc=True, https=False)"
   ]
  },
  {
   "cell_type": "code",
   "execution_count": 12,
   "metadata": {},
   "outputs": [
    {
     "data": {
      "application/vnd.jupyter.widget-view+json": {
       "model_id": "6639fb6307d44044b7934909f75bb8b8",
       "version_major": 2,
       "version_minor": 0
      },
      "text/plain": [
       "Batches:   0%|          | 0/1 [00:00<?, ?it/s]"
      ]
     },
     "metadata": {},
     "output_type": "display_data"
    },
    {
     "name": "stdout",
     "output_type": "stream",
     "text": [
      "id='a173da26-83f0-4064-8511-3bc690ddbe93' version=0 score=0.6645614504814148 payload={'type': 'narrative', 'contenido': 'a la espinaca o con espinaca, con acelga o a la', 'filename': 'capitulo9.pdf'} vector=None shard_key=None order_value=None\n",
      "id='4d64eb28-f68f-42ae-aa26-9a0f7ba4250d' version=0 score=0.6378410458564758 payload={'type': 'narrative', 'contenido': 'para el consumo, que habrá ap robado, en cada caso, la autoridad sanitaria', 'filename': 'capitulo9.pdf'} vector=None shard_key=None order_value=None\n",
      "id='4aef510d-98e3-480d-b527-4e4493706069' version=0 score=0.6310109496116638 payload={'type': 'narrative', 'filename': 'capitulo9.pdf', 'contenido': '1. Cuando contengan edulcorantes, deberán llevar la leyenda: Galletitas dulces o'} vector=None shard_key=None order_value=None\n",
      "id='610b5675-584d-43e5-b13b-c71a528ae18b' version=0 score=0.6304302215576172 payload={'type': 'narrative', 'contenido': 'con o sin el agregado de levadura, con o', 'filename': 'capitulo9.pdf'} vector=None shard_key=None order_value=None\n",
      "id='fde01eac-1ec2-4b88-a1b1-5b577f1c4b2d' version=0 score=0.627261757850647 payload={'type': 'narrative', 'contenido': 'en el rótulo deberá consignarse: mes y año de', 'filename': 'capitulo9.pdf'} vector=None shard_key=None order_value=None\n"
     ]
    }
   ],
   "source": [
    "\n",
    "# Perform a search\n",
    "query = \"Que dice la ley respecto a los aceites?\"\n",
    "results = vector_client.search(query)\n",
    "\n",
    "# Display search results\n",
    "for result in results:\n",
    "    print(result)"
   ]
  },
  {
   "cell_type": "code",
   "execution_count": null,
   "metadata": {},
   "outputs": [],
   "source": []
  }
 ],
 "metadata": {
  "kernelspec": {
   "display_name": "mia",
   "language": "python",
   "name": "python3"
  },
  "language_info": {
   "codemirror_mode": {
    "name": "ipython",
    "version": 3
   },
   "file_extension": ".py",
   "mimetype": "text/x-python",
   "name": "python",
   "nbconvert_exporter": "python",
   "pygments_lexer": "ipython3",
   "version": "3.11.0"
  }
 },
 "nbformat": 4,
 "nbformat_minor": 2
}
